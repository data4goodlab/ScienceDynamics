{
 "cells": [
  {
   "cell_type": "markdown",
   "metadata": {},
   "source": [
    "# Paper Trends"
   ]
  },
  {
   "cell_type": "markdown",
   "metadata": {},
   "source": [
    "## Imports"
   ]
  },
  {
   "cell_type": "code",
   "execution_count": null,
   "metadata": {},
   "outputs": [],
   "source": [
    "%load_ext autoreload\n",
    "%autoreload 2\n",
    "%aimport\n",
    "%matplotlib inline"
   ]
  },
  {
   "cell_type": "code",
   "execution_count": null,
   "metadata": {},
   "outputs": [],
   "source": [
    "import os\n",
    "import sys\n",
    "nb_dir = os.path.dirname(os.path.split(os.getcwd())[0])\n",
    "if nb_dir not in sys.path:\n",
    "    sys.path.append(nb_dir)"
   ]
  },
  {
   "cell_type": "code",
   "execution_count": null,
   "metadata": {},
   "outputs": [],
   "source": [
    "from tqdm import tqdm_notebook as tqdm\n",
    "import pandas as pd\n",
    "from turicreate import SFrame, load_sframe\n",
    "from pathlib import Path\n",
    "import turicreate.aggregate as agg\n",
    "import numpy as np"
   ]
  },
  {
   "cell_type": "code",
   "execution_count": null,
   "metadata": {},
   "outputs": [],
   "source": [
    "import json\n",
    "import os\n",
    "import matplotlib.pyplot as plt\n",
    "import pandas as pd\n",
    "import math\n",
    "import glob\n",
    "import ntpath\n",
    "from tqdm import tqdm\n",
    "import seaborn as sns\n",
    "from  matplotlib.ticker import FuncFormatter\n",
    "import datetime\n",
    "from matplotlib.backends.backend_pdf import PdfPages\n",
    "import seaborn as sns"
   ]
  },
  {
   "cell_type": "markdown",
   "metadata": {},
   "source": [
    "## Utility Functions"
   ]
  },
  {
   "cell_type": "code",
   "execution_count": null,
   "metadata": {},
   "outputs": [],
   "source": [
    "def convert_to_barchart_format(sf,x, year_column=\"Year\", count_column=\"count\",  year_range=(1786,2019)):\n",
    "    year_sf = SFrame()\n",
    "    year_sf[year_column] = np.linspace(year_range[0],year_range[1],year_range[1]-year_range[0]+1).tolist()\n",
    "    year_sf[year_column] = year_sf[year_column]\n",
    "    sf[year_column] = sf[year_column].astype(float)\n",
    "    res_sf = SFrame()\n",
    "    for d in tqdm(sf[x].unique()):\n",
    "        temp_sf = SFrame()\n",
    "        temp_sf[x] = [d]*len(year_sf)\n",
    "        temp_sf[year_column] = year_sf[year_column]\n",
    "        res_sf = res_sf.append(temp_sf)\n",
    "    sf = sf.join(res_sf,how=\"right\").sort(year_column)\n",
    "    sf = sf.fillna(count_column,0)\n",
    "    df = sf.to_dataframe()\n",
    "    df = df.sort_values([x,year_column])\n",
    "    df['value'] = df.groupby([x])[count_column].cumsum()\n",
    "    df[\"lastValue\"] = df.groupby([x])[\"value\"].shift(1)\n",
    "    df = df.fillna(0)\n",
    "    df[\"rank\"] =df.groupby([year_column])[\"value\"].rank(ascending=False)\n",
    "    return df.rename(columns={x:\"name\", year_column: \"year\",count_column:\"count\"})[[\"year\",\"name\",\"value\",\"lastValue\",\"rank\"]]"
   ]
  },
  {
   "cell_type": "code",
   "execution_count": null,
   "metadata": {},
   "outputs": [],
   "source": [
    "def chunks(l, n):\n",
    "    # For item i in a range that is a length of l,\n",
    "    for i in range(0, len(l), n):\n",
    "        # Create an index range for l of n items:\n",
    "        yield l[i:i + n]\n",
    "\n",
    "def get_d(sf_corr, diseases_id):\n",
    "    for data in sf_corr.groupby(\"id\"):\n",
    "        if len(data[1]) >5:\n",
    "            yield f\"{data[0]}: {diseases_id[diseases_id['id']==data[0]][0]['Disease'].title()}\", data[1].sort_values(\"year\")"
   ]
  },
  {
   "cell_type": "code",
   "execution_count": null,
   "metadata": {},
   "outputs": [],
   "source": [
    "\n",
    "\n",
    "sns.set(style=\"ticks\")\n",
    "def create_gird(df, col, hue,x,y,sharey=True, legend=False):\n",
    "\n",
    "    # Initialize a grid of plots with an Axes for each walk\n",
    "    grid = sns.FacetGrid(df, col=col, hue=hue, palette=sns.color_palette(\"hls\", 4),sharey=sharey,\n",
    "                         col_wrap=3, height=4.5)\n",
    "    plt.gca().xaxis.set_major_formatter(FuncFormatter(lambda x, _: int(x)))\n",
    "\n",
    "    # Draw a horizontal line to show the starting point\n",
    "    grid.map(plt.axhline, y=0, ls=\":\", c=\".5\")\n",
    "\n",
    "    # Draw a line plot to show the trajectory of each random walk\n",
    "    grid.map(plt.plot, x, y)\n",
    "    grid.set_titles(\"{col_name}\")\n",
    "    if legend:\n",
    "        grid.add_legend()\n",
    "\n",
    "\n",
    "    # Adjust the arrangement of the plots\n",
    "    grid.fig.tight_layout(w_pad=1)\n",
    "    return grid"
   ]
  },
  {
   "cell_type": "markdown",
   "metadata": {},
   "source": [
    "## Analysis"
   ]
  },
  {
   "cell_type": "code",
   "execution_count": null,
   "metadata": {},
   "outputs": [],
   "source": [
    "spothlight = [\"SARS\",\"MERS Coronavirus\", \"Avian Influenza\",\"Ebola\", \"Influenza\", \"HIV/AIDS\",\"Hepatitis B\",\"Hepatitis C\", \"Swine Flu\"]\n",
    "years = [2002,2012,1878,1976,1878,1981,1966,1987,1918 ]\n",
    "min_refs = 5"
   ]
  },
  {
   "cell_type": "markdown",
   "metadata": {},
   "source": [
    "### Data Loading"
   ]
  },
  {
   "cell_type": "code",
   "execution_count": null,
   "metadata": {},
   "outputs": [],
   "source": [
    "diseases_id= load_sframe(\"Data/diseases_id.csv\")\n",
    "disease_names = SFrame.read_csv(\"Data/disease_names.csv\")"
   ]
  },
  {
   "cell_type": "markdown",
   "metadata": {},
   "source": [
    "General MAG Medicine Publications:"
   ]
  },
  {
   "cell_type": "code",
   "execution_count": null,
   "metadata": {},
   "outputs": [],
   "source": [
    "med_mag = load_sframe(\"Data/mag/med_mag.sframe\")"
   ]
  },
  {
   "cell_type": "code",
   "execution_count": null,
   "metadata": {},
   "outputs": [],
   "source": [
    "len(med_mag)"
   ]
  },
  {
   "cell_type": "markdown",
   "metadata": {},
   "source": [
    "MAG Medicine Publications about the specific diseases:\n"
   ]
  },
  {
   "cell_type": "code",
   "execution_count": null,
   "metadata": {},
   "outputs": [],
   "source": [
    "diseases_mag = load_sframe(\"Data/mag/diseases_med_mag.sframe\")"
   ]
  },
  {
   "cell_type": "markdown",
   "metadata": {},
   "source": [
    "General MAG Virology Publications:"
   ]
  },
  {
   "cell_type": "code",
   "execution_count": null,
   "metadata": {},
   "outputs": [],
   "source": [
    "len(diseases_mag)"
   ]
  },
  {
   "cell_type": "code",
   "execution_count": null,
   "metadata": {},
   "outputs": [],
   "source": [
    "viro_mag = load_sframe(\"Data/mag/viro_mag.sframe\")"
   ]
  },
  {
   "cell_type": "markdown",
   "metadata": {},
   "source": [
    "MAG Virology Publications about the specific diseases\""
   ]
  },
  {
   "cell_type": "code",
   "execution_count": null,
   "metadata": {},
   "outputs": [],
   "source": [
    "len(viro_mag)"
   ]
  },
  {
   "cell_type": "code",
   "execution_count": null,
   "metadata": {},
   "outputs": [],
   "source": [
    "diseases_viro_mag = load_sframe(\"Data/mag/diseases_viro_mag.sframe\")"
   ]
  },
  {
   "cell_type": "code",
   "execution_count": null,
   "metadata": {},
   "outputs": [],
   "source": [
    "len(diseases_viro_mag)"
   ]
  },
  {
   "cell_type": "markdown",
   "metadata": {},
   "source": [
    "### Number of papaers by diseases from 2001"
   ]
  },
  {
   "cell_type": "code",
   "execution_count": null,
   "metadata": {},
   "outputs": [],
   "source": [
    "diseases = diseases_mag[(diseases_mag[\"Year\"]>2001)&(diseases_mag[\"Ref Number\"]>min_refs)]"
   ]
  },
  {
   "cell_type": "code",
   "execution_count": null,
   "metadata": {},
   "outputs": [],
   "source": [
    "diseases = diseases.filter_by(spothlight, \"disease\")[\"disease\"].value_counts()"
   ]
  },
  {
   "cell_type": "code",
   "execution_count": null,
   "metadata": {},
   "outputs": [],
   "source": [
    "diseases = diseases.rename({\"value\":\"Disease\", \"count\": \"Numer of Papers\"})"
   ]
  },
  {
   "cell_type": "code",
   "execution_count": null,
   "metadata": {},
   "outputs": [],
   "source": [
    "plt.figure(figsize=(20,10))\n",
    "sns.set()\n",
    "colors = [\"#4374B3\", \"#4374B3\"]\n",
    "# Set your custom color palette\n",
    "sns.set_palette(sns.color_palette(colors))\n",
    "\n",
    "ax = sns.barplot(x=\"Disease\", y=\"Numer of Papers\", data=diseases.to_dataframe(), color=\"#4374B3\")\n",
    "ax.set_xticklabels(ax.get_xticklabels(),rotation=90)\n",
    "plt.tight_layout()\n",
    "plt.savefig(\"output/Papers/disease_count.svg\")\n"
   ]
  },
  {
   "cell_type": "markdown",
   "metadata": {},
   "source": [
    "We filter all publication that are not academic papers (editorials, letters, etc.).\n",
    "This type of publication rarely cite other papers filtering the number of refernces removes this kind of publications from the dataset."
   ]
  },
  {
   "cell_type": "code",
   "execution_count": null,
   "metadata": {},
   "outputs": [],
   "source": [
    "med_mag = med_mag[med_mag[\"Ref Number\"]>min_refs]\n",
    "viro_mag = viro_mag[viro_mag[\"Ref Number\"]>min_refs]\n",
    "diseases_mag = diseases_mag[diseases_mag[\"Ref Number\"]>min_refs].filter_by(spothlight, \"disease\")\n",
    "diseases_viro_mag = diseases_viro_mag[diseases_viro_mag[\"Ref Number\"]>min_refs].filter_by(spothlight, \"disease\")"
   ]
  },
  {
   "cell_type": "markdown",
   "metadata": {
    "toc-hr-collapsed": false
   },
   "source": [
    "### Publications - Citation"
   ]
  },
  {
   "cell_type": "markdown",
   "metadata": {},
   "source": [
    "#### NPR"
   ]
  },
  {
   "cell_type": "markdown",
   "metadata": {},
   "source": [
    "Publication data normaliztion"
   ]
  },
  {
   "cell_type": "code",
   "execution_count": null,
   "metadata": {},
   "outputs": [],
   "source": [
    "def nomalize_disease_publications(diseases_sf, general_sf):\n",
    "    diseases_pub_count = diseases_sf.groupby([\"disease\",\"Year\"], {\"Number of papers\": agg.COUNT()})\n",
    "    papers_year = general_sf.groupby(\"Year\", {\"Total Number of papers\": agg.COUNT()})\n",
    "    diseases_pub_count = diseases_pub_count.join(papers_year,{\"Year\":\"Year\"})\n",
    "    diseases_pub_count[\"NPR\"] = diseases_pub_count[\"Number of papers\"] / diseases_pub_count[\"Total Number of papers\"]\n",
    "    diseases_pub_count = diseases_pub_count.rename({\"disease\":\"Disease\"})\n",
    "    return diseases_pub_count.sort([\"Disease\",\"Year\"])\n",
    "    "
   ]
  },
  {
   "cell_type": "code",
   "execution_count": null,
   "metadata": {},
   "outputs": [],
   "source": [
    "diseases_pub_count_viro = nomalize_disease_publications(diseases_viro_mag, viro_mag)\n",
    "diseases_pub_count_med = nomalize_disease_publications(diseases_mag, med_mag)"
   ]
  },
  {
   "cell_type": "code",
   "execution_count": null,
   "metadata": {},
   "outputs": [],
   "source": [
    "diseases_pub_count_viro[\"Type\"] = \"Virolgy\"\n",
    "diseases_pub_count_med[\"Type\"] = \"Medicine\"\n",
    "diseases_pub_count = diseases_pub_count_viro.append(diseases_pub_count_med)\n"
   ]
  },
  {
   "cell_type": "code",
   "execution_count": null,
   "metadata": {},
   "outputs": [],
   "source": [
    "def chunks(l, n):\n",
    "    # For item i in a range that is a length of l,\n",
    "    for i in range(0, len(l), n):\n",
    "        # Create an index range for l of n items:\n",
    "        yield l[i:i + n]\n",
    "\n",
    "def get_data(sf_corr):\n",
    "    for data in sf_corr.groupby(\"Disease\"):\n",
    "        if len(data[1]) >5:\n",
    "            yield data[1].sort_values(\"Year\")"
   ]
  },
  {
   "cell_type": "markdown",
   "metadata": {},
   "source": [
    "Filter the data:"
   ]
  },
  {
   "cell_type": "code",
   "execution_count": null,
   "metadata": {},
   "outputs": [],
   "source": [
    "pub = SFrame()\n",
    "for d,y in zip(spothlight, years):\n",
    "    pub = pub.append( diseases_pub_count[(diseases_pub_count[\"Disease\"]==d)&(diseases_pub_count[\"Year\"]>=y)])"
   ]
  },
  {
   "cell_type": "code",
   "execution_count": null,
   "metadata": {},
   "outputs": [],
   "source": [
    "pub[\"Normalized Paper Rate\"] = pub[\"NPR\"]"
   ]
  },
  {
   "cell_type": "markdown",
   "metadata": {},
   "source": [
    "Generate SVG"
   ]
  },
  {
   "cell_type": "code",
   "execution_count": null,
   "metadata": {},
   "outputs": [],
   "source": [
    "\n",
    "sns.set(font_scale=1.3)\n",
    "\n",
    "\n",
    "plt.rc('text', usetex=False)\n",
    "plt.figure(figsize=(16, 12))\n",
    "des = list(get_data(pub[(pub[\"Year\"]>=1980)&(pub[\"Type\"]== \"Virolgy\")].to_dataframe()))\n",
    "for i, curr_f in enumerate(tqdm(chunks(des, 20), total=((len(des) // 20)+1))):\n",
    "    create_gird(pd.concat(curr_f),\"Disease\",\"Type\",\"Year\", \"Normalized Paper Rate\",False,False)\n",
    "    plt.savefig(f\"output/Papers/Virolgy_NPR_{i}.svg\")\n",
    "#     plt.close()\n",
    "\n"
   ]
  },
  {
   "cell_type": "code",
   "execution_count": null,
   "metadata": {},
   "outputs": [],
   "source": [
    "\n",
    "sns.set(font_scale=1.3)\n",
    "\n",
    "\n",
    "plt.rc('text', usetex=False)\n",
    "plt.figure(figsize=(16, 12))\n",
    "des = list(get_data(pub[(pub[\"Year\"]>=1980)&(pub[\"Type\"]== \"Medicine\")].to_dataframe()))\n",
    "for i, curr_f in enumerate(tqdm(chunks(des, 20), total=((len(des) // 20)+1))):\n",
    "    create_gird(pd.concat(curr_f),\"Disease\",\"Type\",\"Year\", \"Normalized Paper Rate\",False,False)\n",
    "    plt.savefig(f\"output/Papers/Medicine_NPR_{i}.svg\")\n",
    "#     plt.close()\n",
    "\n"
   ]
  },
  {
   "cell_type": "markdown",
   "metadata": {},
   "source": [
    "Generate multi-page PDF"
   ]
  },
  {
   "cell_type": "code",
   "execution_count": null,
   "metadata": {},
   "outputs": [],
   "source": [
    "\n",
    "sns.set(font_scale=1.3)\n",
    "\n",
    "# Create the PdfPages object to which we will save the pages:\n",
    "# The with statement makes sure that the PdfPages object is closed properly at\n",
    "# the end of the block, even if an Exception occurs.\n",
    "with PdfPages('output/Papers/Medicine_NPR.pdf') as pdf:\n",
    "    # if LaTeX is not installed or error caught, change to `usetex=False`\n",
    "    plt.rc('text', usetex=False)\n",
    "    plt.figure(figsize=(8, 6))\n",
    "    des = list(get_data(pub[(pub[\"Year\"]>=1980)&(pub[\"Type\"]== \"Medicine\")].to_dataframe()))\n",
    "    for i, curr_f in enumerate(tqdm(chunks(des, 20), total=((len(des) // 20)+1))):\n",
    "        create_gird(pd.concat(curr_f),\"Disease\",\"Type\",\"Year\", \"Normalized Paper Rate\",False,False)\n",
    "        pdf.savefig()\n",
    "        plt.close()\n",
    "\n"
   ]
  },
  {
   "cell_type": "code",
   "execution_count": null,
   "metadata": {},
   "outputs": [],
   "source": [
    "pub[\"Normalized Paper Rate\"] = np.log(pub[\"NPR\"])"
   ]
  },
  {
   "cell_type": "code",
   "execution_count": null,
   "metadata": {},
   "outputs": [],
   "source": [
    "import plotly.express as px\n",
    "\n",
    "fig = px.line(pub[(pub[\"Type\"]==\"Virolgy\")&(pub[\"Year\"]>1959)].to_dataframe(), x=\"Year\", y=\"Normalized Paper Rate\",color=\"Disease\", width=1600, height=800)\n",
    "fig.update_layout({\"legend\":{\"x\":0,\"y\":1.1}, \"legend_orientation\":\"h\"},  font=dict(\n",
    "        size=20,\n",
    "    ))\n",
    "\n",
    "\n",
    "fig.show()"
   ]
  },
  {
   "cell_type": "code",
   "execution_count": null,
   "metadata": {},
   "outputs": [],
   "source": [
    "# import plotly.io as pio\n",
    "# pio.orca.config.server_url = \"http://localhost:9091\"\n",
    "# fig.write_image(\"output/Papers/disease-npr.svg\")\n"
   ]
  },
  {
   "cell_type": "code",
   "execution_count": null,
   "metadata": {},
   "outputs": [],
   "source": []
  },
  {
   "cell_type": "code",
   "execution_count": null,
   "metadata": {},
   "outputs": [],
   "source": []
  },
  {
   "cell_type": "markdown",
   "metadata": {},
   "source": [
    "Plot Similarity Using DTW"
   ]
  },
  {
   "cell_type": "code",
   "execution_count": null,
   "metadata": {},
   "outputs": [],
   "source": [
    "data = pub[(pub[\"Year\"]>=1980)&(pub[\"Type\"]== \"Virolgy\")&(pub[\"Year\"]<2019)][[\"Disease\",\"Year\",\"NPR\"]].to_dataframe()"
   ]
  },
  {
   "cell_type": "code",
   "execution_count": null,
   "metadata": {},
   "outputs": [],
   "source": [
    "data = data.sort_values([\"Disease\",\"Year\"])"
   ]
  },
  {
   "cell_type": "code",
   "execution_count": null,
   "metadata": {},
   "outputs": [],
   "source": [
    "from tslearn.metrics import dtw \n",
    "\n",
    "res= {\"Disease1\":[], \"Disease2\":[], \"dtw\":[]}\n",
    "for d1, df1 in data.groupby(\"Disease\"):\n",
    "    for d2, df2 in data.groupby(\"Disease\"):\n",
    "        res[\"Disease1\"].append(d1)\n",
    "        res[\"Disease2\"].append(d2)\n",
    "        disease1 = df1[\"NPR\"].values\n",
    "        disease2 = df2[\"NPR\"].values\n",
    "        res[\"dtw\"].append(dtw(disease1, disease2))\n"
   ]
  },
  {
   "cell_type": "code",
   "execution_count": null,
   "metadata": {},
   "outputs": [],
   "source": [
    "piv_data = []\n",
    "for d, df in data.groupby(\"Disease\"):\n",
    "    piv_data.append(df[\"NPR\"].values)"
   ]
  },
  {
   "cell_type": "code",
   "execution_count": null,
   "metadata": {},
   "outputs": [],
   "source": [
    "sns.set(font_scale=2.0)\n",
    "corr = pd.DataFrame(res).pivot(index='Disease1', columns='Disease2', values='dtw')\n",
    "mask = np.zeros_like(corr)\n",
    "mask[np.triu_indices_from(mask)] = True\n",
    "with sns.axes_style(\"white\"):\n",
    "    plt.figure(figsize=(40,20))\n",
    "    ax = sns.heatmap(corr, mask=mask, vmax=.3, square=True, annot=True, fmt='0.3f', cmap=sns.light_palette(\"#cc0000\" , reverse=True, as_cmap=True))\n",
    "    plt.savefig(\"output/Papers/dtw_npr.svg\")\n"
   ]
  },
  {
   "cell_type": "code",
   "execution_count": null,
   "metadata": {},
   "outputs": [],
   "source": [
    "from tslearn.utils import to_time_series_dataset\n",
    "from tslearn.clustering import TimeSeriesKMeans\n",
    "\n",
    "km = TimeSeriesKMeans(n_clusters=2, metric=\"dtw\", max_iter=10, tol=1e-5).fit(to_time_series_dataset(piv_data))\n",
    "\n",
    "from collections import defaultdict\n",
    "clusters = defaultdict(lambda: [])\n",
    "for d, c in zip(corr.index, km.labels_):\n",
    "    clusters[c].append(d)\n",
    "clusters"
   ]
  },
  {
   "cell_type": "markdown",
   "metadata": {},
   "source": [
    "#### NCR"
   ]
  },
  {
   "cell_type": "code",
   "execution_count": null,
   "metadata": {},
   "outputs": [],
   "source": [
    "# Calculte the number of citaions for each diseses per year.\n",
    "def diseses_citations_year(publication_sf):\n",
    "    disease_citations = publication_sf.stack(\"Dict of Year_Citation Number\",new_column_name=[\"cite year\", \"Citations\"], drop_na=True)\n",
    "    disease_citations = disease_citations.groupby([\"disease\",\"cite year\"], {\"Citations\": agg.SUM(\"Citations\")})\n",
    "    disease_citations[\"cite year\"] = disease_citations[\"cite year\"].astype(int)\n",
    "    return disease_citations.rename({\"cite year\": \"year\"})"
   ]
  },
  {
   "cell_type": "code",
   "execution_count": null,
   "metadata": {},
   "outputs": [],
   "source": [
    "disease_citations_viro = diseses_citations_year(diseases_viro_mag)"
   ]
  },
  {
   "cell_type": "code",
   "execution_count": null,
   "metadata": {},
   "outputs": [],
   "source": [
    "disease_citations_med = diseses_citations_year(diseases_mag)"
   ]
  },
  {
   "cell_type": "code",
   "execution_count": null,
   "metadata": {},
   "outputs": [],
   "source": [
    "# The total number of citaions for a year, used to normalize the data.\n",
    "def citaion_year_mag(publication_sf):\n",
    "    med_citations = publication_sf.stack(\"Dict of Year_Citation Number\",new_column_name=[\"cite year\", \"Citations\"], drop_na=True)\n",
    "    med_citations = med_citations.rename({\"cite year\": \"year\"})\n",
    "    return med_citations.groupby([\"year\"], operations={\"Total Citations\": agg.SUM(\"Citations\")})"
   ]
  },
  {
   "cell_type": "code",
   "execution_count": null,
   "metadata": {},
   "outputs": [],
   "source": [
    "citations_year_viro = citaion_year_mag(viro_mag)"
   ]
  },
  {
   "cell_type": "code",
   "execution_count": null,
   "metadata": {},
   "outputs": [],
   "source": [
    "citations_year_med = citaion_year_mag(med_mag)"
   ]
  },
  {
   "cell_type": "code",
   "execution_count": null,
   "metadata": {},
   "outputs": [],
   "source": [
    "citations_year_med[\"year\"] = citations_year_med[\"year\"].astype(int)"
   ]
  },
  {
   "cell_type": "code",
   "execution_count": null,
   "metadata": {},
   "outputs": [],
   "source": [
    "citations_year_med.sort(\"Total Citations\",False)"
   ]
  },
  {
   "cell_type": "markdown",
   "metadata": {},
   "source": [
    "Medicine citaions over time"
   ]
  },
  {
   "cell_type": "code",
   "execution_count": null,
   "metadata": {},
   "outputs": [],
   "source": [
    "citations_year_med.to_dataframe().sort_values(\"year\").plot(x=\"year\", y=\"Total Citations\")"
   ]
  },
  {
   "cell_type": "markdown",
   "metadata": {},
   "source": [
    "Citaion data normaliztion"
   ]
  },
  {
   "cell_type": "code",
   "execution_count": null,
   "metadata": {},
   "outputs": [],
   "source": [
    "def norm_disease_citations(disease_citations, citations_year):\n",
    "    disease_citations = disease_citations.join(citations_year, on=\"year\")\n",
    "    disease_citations[\"Citations Norm\"] = disease_citations[\"Citations\"]/disease_citations[\"Total Citations\"]\n",
    "    return disease_citations.join(disease_names)"
   ]
  },
  {
   "cell_type": "code",
   "execution_count": null,
   "metadata": {},
   "outputs": [],
   "source": [
    "disease_citations_med = norm_disease_citations(disease_citations_med, citations_year_med)\n",
    "disease_citations_viro = norm_disease_citations(disease_citations_viro, citations_year_viro)"
   ]
  },
  {
   "cell_type": "code",
   "execution_count": null,
   "metadata": {},
   "outputs": [],
   "source": [
    "def clean_disease_citations(disease_citations):\n",
    "    disease_citations = disease_citations.rename({\"year\":\"Year\",\"Citations Norm\":\"NCR\", \"disease\": \"Disease\"})\n",
    "    disease_citations = disease_citations.join(disease_names, {\"id\":\"id\"})\n",
    "    disease_citations = disease_citations.sort([\"Disease\", \"Year\"]) \n",
    "    disease_citations = disease_citations.to_dataframe()\n",
    "    disease_citations = disease_citations[disease_citations[\"Year\"].notna()]\n",
    "    disease_citations = disease_citations[disease_citations[\"Year\"]<2019]\n",
    "    return disease_citations.reset_index()"
   ]
  },
  {
   "cell_type": "code",
   "execution_count": null,
   "metadata": {},
   "outputs": [],
   "source": [
    "disease_citations_med = clean_disease_citations(disease_citations_med)\n",
    "disease_citations_viro = clean_disease_citations(disease_citations_viro)"
   ]
  },
  {
   "cell_type": "code",
   "execution_count": null,
   "metadata": {},
   "outputs": [],
   "source": [
    "disease_citations_med[\"Type\"] = \"Medicine\"\n",
    "disease_citations_viro[\"Type\"] = \"Virology\"\n",
    "\n",
    "disease_citations = disease_citations_med.append(disease_citations_viro)\n"
   ]
  },
  {
   "cell_type": "code",
   "execution_count": null,
   "metadata": {},
   "outputs": [],
   "source": [
    "cite = pd.DataFrame()\n",
    "for d,y in zip(spothlight, years):\n",
    "    cite = cite.append( disease_citations[(disease_citations[\"Disease\"]==d)&(disease_citations[\"Year\"]>=y)])"
   ]
  },
  {
   "cell_type": "code",
   "execution_count": null,
   "metadata": {},
   "outputs": [],
   "source": [
    "cite[\"Normalized Citaion Rate\"] = cite[\"NCR\"]"
   ]
  },
  {
   "cell_type": "code",
   "execution_count": null,
   "metadata": {},
   "outputs": [],
   "source": [
    "\n",
    "sns.set(font_scale=1.3)\n",
    "# sns.set(style=\"ticks\")\n",
    "\n",
    "plt.rc('text', usetex=False)\n",
    "plt.figure(figsize=(8, 6))\n",
    "des = list(get_data(cite[(cite[\"Year\"]>=1980)&(cite[\"Type\"]== \"Medicine\")]))\n",
    "for i, curr_f in enumerate(tqdm(chunks(des, 20), total=((len(des) // 20)+1))):\n",
    "    create_gird(pd.concat(curr_f),\"Disease\",\"Type\",\"Year\", \"Normalized Citaion Rate\", False, legend=False)\n",
    "    plt.savefig(f\"output/Papers/Medicine_NCR_{i}.svg\")\n",
    "#     plt.close()\n",
    "\n"
   ]
  },
  {
   "cell_type": "code",
   "execution_count": null,
   "metadata": {},
   "outputs": [],
   "source": [
    "\n",
    "sns.set(font_scale=1.3)\n",
    "\n",
    "plt.rc('text', usetex=False)\n",
    "plt.figure(figsize=(8, 6))\n",
    "des = list(get_data(cite[(cite[\"Year\"]>=1980)&(cite[\"Type\"]== \"Virology\")]))\n",
    "for i, curr_f in enumerate(tqdm(chunks(des, 20), total=((len(des) // 20)+1))):\n",
    "    create_gird(pd.concat(curr_f),\"Disease\",\"Type\",\"Year\", \"Normalized Citaion Rate\", False, legend=False)\n",
    "    plt.savefig(f\"output/Papers/Virolgy_NCR_{i}.svg\")\n",
    "#     plt.close()\n",
    "\n"
   ]
  },
  {
   "cell_type": "code",
   "execution_count": null,
   "metadata": {},
   "outputs": [],
   "source": [
    "np.log(10)"
   ]
  },
  {
   "cell_type": "code",
   "execution_count": null,
   "metadata": {},
   "outputs": [],
   "source": [
    "10 ** np.log(6)"
   ]
  },
  {
   "cell_type": "code",
   "execution_count": null,
   "metadata": {},
   "outputs": [],
   "source": [
    "cite[\"Normalized Citation Rate\"] = np.log(cite[\"NCR\"])"
   ]
  },
  {
   "cell_type": "code",
   "execution_count": null,
   "metadata": {},
   "outputs": [],
   "source": [
    "import plotly.express as px\n",
    "\n",
    "fig = px.line(cite, x=\"Year\", y=\"Normalized Citaion Rate\",color=\"Disease\", width=1600, height=800)\n",
    "\n",
    "fig.show()"
   ]
  },
  {
   "cell_type": "code",
   "execution_count": null,
   "metadata": {},
   "outputs": [],
   "source": [
    "data = cite[(cite[\"Year\"]>=1980)&(cite[\"Type\"]== \"Virology\")&(cite[\"Year\"]<2019)][[\"Disease\",\"Year\",\"NCR\"]]"
   ]
  },
  {
   "cell_type": "code",
   "execution_count": null,
   "metadata": {},
   "outputs": [],
   "source": [
    "data = data.sort_values([\"Disease\",\"Year\"])"
   ]
  },
  {
   "cell_type": "code",
   "execution_count": null,
   "metadata": {},
   "outputs": [],
   "source": [
    "from tslearn.metrics import dtw \n",
    "\n",
    "res= {\"Disease1\":[], \"Disease2\":[], \"dtw\":[]}\n",
    "for d1, df1 in data.groupby(\"Disease\"):\n",
    "    for d2, df2 in data.groupby(\"Disease\"):\n",
    "        res[\"Disease1\"].append(d1)\n",
    "        res[\"Disease2\"].append(d2)\n",
    "        disease1 = df1[\"NCR\"].values\n",
    "        disease2 = df2[\"NCR\"].values\n",
    "        res[\"dtw\"].append(dtw(disease1, disease2))\n"
   ]
  },
  {
   "cell_type": "code",
   "execution_count": null,
   "metadata": {},
   "outputs": [],
   "source": [
    "piv_data = []\n",
    "for d, df in data.groupby(\"Disease\"):\n",
    "    piv_data.append(df[\"NCR\"].values)"
   ]
  },
  {
   "cell_type": "code",
   "execution_count": null,
   "metadata": {},
   "outputs": [],
   "source": [
    "sns.set( font_scale=2.0)\n",
    "\n",
    "corr = pd.DataFrame(res).pivot(index='Disease1', columns='Disease2', values='dtw')\n",
    "mask = np.zeros_like(corr)\n",
    "mask[np.triu_indices_from(mask)] = True\n",
    "with sns.axes_style(\"white\"):\n",
    "    plt.figure(figsize=(40,20))\n",
    "    ax = sns.heatmap(corr, mask=mask, vmax=.3, square=True, annot=True, fmt='0.3f', cmap=sns.light_palette(\"#cc0000\" , reverse=True, as_cmap=True))\n",
    "    plt.savefig(\"output/Papers/dtw-ncr.svg\")"
   ]
  },
  {
   "cell_type": "code",
   "execution_count": null,
   "metadata": {},
   "outputs": [],
   "source": [
    "from tslearn.generators import random_walks\n",
    "from tslearn.clustering import TimeSeriesKMeans\n",
    "# X = random_walks(n_ts=50, sz=32, d=1)\n",
    "km = TimeSeriesKMeans(n_clusters=2, metric=\"dtw\", max_iter=10, tol=1e-5).fit(to_time_series_dataset(piv_data))\n",
    "\n",
    "from collections import defaultdict\n",
    "clusters = defaultdict(lambda: [])\n",
    "for d, c in zip(corr.index, km.labels_):\n",
    "    clusters[c].append(d)\n",
    "clusters"
   ]
  },
  {
   "cell_type": "markdown",
   "metadata": {},
   "source": [
    "### Data and Code in research"
   ]
  },
  {
   "cell_type": "code",
   "execution_count": null,
   "metadata": {},
   "outputs": [],
   "source": [
    "from ScienceDynamics.datasets.microsoft_academic_graph import MicrosoftAcademicGraph\n",
    "from ScienceDynamics.config.configs import DATASETS_BASE_DIR\n",
    "mag = MicrosoftAcademicGraph(DATASETS_BASE_DIR)"
   ]
  },
  {
   "cell_type": "code",
   "execution_count": null,
   "metadata": {},
   "outputs": [],
   "source": [
    "resources = diseases_mag.join(mag.paper_resources, on=\"PaperId\")"
   ]
  },
  {
   "cell_type": "markdown",
   "metadata": {},
   "source": [
    "ResourceType. 1 = Project, 2 = Data, 4 = Code"
   ]
  },
  {
   "cell_type": "code",
   "execution_count": null,
   "metadata": {},
   "outputs": [],
   "source": [
    "resources[resources[\"ResourceType\"]==2][\"disease\"].value_counts()"
   ]
  },
  {
   "cell_type": "code",
   "execution_count": null,
   "metadata": {},
   "outputs": [],
   "source": [
    "len(resources[resources[\"ResourceType\"]==2][\"disease\"])"
   ]
  },
  {
   "cell_type": "code",
   "execution_count": null,
   "metadata": {},
   "outputs": [],
   "source": [
    "len(resources[resources[\"ResourceType\"]==4][\"disease\"])"
   ]
  },
  {
   "cell_type": "code",
   "execution_count": null,
   "metadata": {},
   "outputs": [],
   "source": [
    "resources[resources[\"ResourceType\"]==4][\"disease\"].value_counts()"
   ]
  },
  {
   "cell_type": "code",
   "execution_count": null,
   "metadata": {},
   "outputs": [],
   "source": [
    "resources[resources[\"ResourceType\"]==1][\"disease\"].value_counts()"
   ]
  },
  {
   "cell_type": "markdown",
   "metadata": {
    "toc-hr-collapsed": false
   },
   "source": [
    "## Data Fusion"
   ]
  },
  {
   "cell_type": "code",
   "execution_count": null,
   "metadata": {},
   "outputs": [],
   "source": [
    "diseases_pubmed = load_sframe(\"Data/pubmed/diseases_pubmed.sframe\")"
   ]
  },
  {
   "cell_type": "code",
   "execution_count": null,
   "metadata": {},
   "outputs": [],
   "source": [
    "pubmed_papers_year = diseases_pubmed.groupby(\"year\",{\"PubMed\":agg.COUNT()})"
   ]
  },
  {
   "cell_type": "code",
   "execution_count": null,
   "metadata": {},
   "outputs": [],
   "source": [
    "mag_papers_year =  diseases_mag.groupby(\"Year\",{\"MAG\":agg.COUNT()})"
   ]
  },
  {
   "cell_type": "code",
   "execution_count": null,
   "metadata": {},
   "outputs": [],
   "source": [
    "pubmed = load_sframe(\"Data/pubmed/pubmed.sframe\")"
   ]
  },
  {
   "cell_type": "code",
   "execution_count": null,
   "metadata": {},
   "outputs": [],
   "source": [
    "pubmed_papers_year = pubmed.groupby(\"year\",{\"PubMed\":agg.COUNT()})"
   ]
  },
  {
   "cell_type": "code",
   "execution_count": null,
   "metadata": {},
   "outputs": [],
   "source": [
    "mag_papers_year =  med_mag.groupby(\"Year\",{\"MAG\":agg.COUNT()})"
   ]
  },
  {
   "cell_type": "code",
   "execution_count": null,
   "metadata": {},
   "outputs": [],
   "source": [
    "df = pubmed_papers_year.join(mag_papers_year,{\"year\":\"Year\"}).sort(\"year\")"
   ]
  },
  {
   "cell_type": "code",
   "execution_count": null,
   "metadata": {},
   "outputs": [],
   "source": [
    "df =df.rename({\"year\":\"Year\"})"
   ]
  },
  {
   "cell_type": "code",
   "execution_count": null,
   "metadata": {},
   "outputs": [],
   "source": [
    "df2 = df.pack_columns(column_names=[\"MAG\",\"PubMed\"], dtype=dict, new_column_name='Papers').stack(\"Papers\", new_column_name=['Dataset', 'Total Papers'])"
   ]
  },
  {
   "cell_type": "code",
   "execution_count": null,
   "metadata": {},
   "outputs": [],
   "source": [
    "import plotly.express as px\n",
    "\n",
    "fig = px.line(df2[df2[\"Year\"]<2016].to_dataframe(), x=\"Year\", y=\"Total Papers\",color=\"Dataset\", width=1600, height=800)\n",
    "fig.update_layout({\"legend\":{\"x\":0,\"y\":1.1}, \"legend_orientation\":\"h\"},  font=dict(\n",
    "        size=20,\n",
    "    ))\n",
    "\n",
    "\n",
    "fig.show()"
   ]
  },
  {
   "cell_type": "code",
   "execution_count": null,
   "metadata": {},
   "outputs": [],
   "source": [
    "# fig.write_image(\"output/Papers/Total Papers.svg\")\n"
   ]
  }
 ],
 "metadata": {
  "kernelspec": {
   "display_name": "Python [conda env:giga]",
   "language": "python",
   "name": "conda-env-giga-py"
  },
  "language_info": {
   "codemirror_mode": {
    "name": "ipython",
    "version": 3
   },
   "file_extension": ".py",
   "mimetype": "text/x-python",
   "name": "python",
   "nbconvert_exporter": "python",
   "pygments_lexer": "ipython3",
   "version": "3.7.7"
  },
  "toc-autonumbering": false
 },
 "nbformat": 4,
 "nbformat_minor": 4
}
