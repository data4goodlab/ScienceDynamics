{
 "cells": [
  {
   "cell_type": "code",
   "execution_count": null,
   "metadata": {},
   "outputs": [],
   "source": [
    "%load_ext autoreload\n",
    "%autoreload 2\n",
    "%aimport\n",
    "%matplotlib inline"
   ]
  },
  {
   "cell_type": "code",
   "execution_count": null,
   "metadata": {},
   "outputs": [],
   "source": [
    "import os\n",
    "import sys\n",
    "nb_dir = os.path.dirname(os.path.split(os.getcwd())[0])\n",
    "if nb_dir not in sys.path:\n",
    "    sys.path.append(nb_dir)"
   ]
  },
  {
   "cell_type": "code",
   "execution_count": null,
   "metadata": {},
   "outputs": [],
   "source": [
    "from tqdm import tqdm_notebook as tqdm\n",
    "import pandas as pd\n",
    "from turicreate import SFrame, load_sframe\n",
    "from pathlib import Path\n",
    "import turicreate.aggregate as agg\n",
    "import numpy as np"
   ]
  },
  {
   "cell_type": "code",
   "execution_count": null,
   "metadata": {},
   "outputs": [],
   "source": [
    "import json\n",
    "import os\n",
    "import matplotlib.pyplot as plt\n",
    "import pandas as pd\n",
    "import math\n",
    "import glob\n",
    "import ntpath\n",
    "from tqdm import tqdm\n",
    "from itertools import chain\n",
    "import seaborn as sns\n",
    "from  matplotlib.ticker import FuncFormatter\n",
    "from matplotlib.backends.backend_pdf import PdfPages\n"
   ]
  },
  {
   "cell_type": "markdown",
   "metadata": {},
   "source": [
    "## Utility Functions"
   ]
  },
  {
   "cell_type": "code",
   "execution_count": null,
   "metadata": {},
   "outputs": [],
   "source": [
    "def chunks(l, n):\n",
    "    # For item i in a range that is a length of l,\n",
    "    for i in range(0, len(l), n):\n",
    "        # Create an index range for l of n items:\n",
    "        yield l[i:i + n]\n",
    "\n",
    "def get_d(sf_corr):\n",
    "    for data in sf_corr.groupby(\"Disease\"):\n",
    "        if len(data[1]) >5:\n",
    "            yield data[1].sort_values(\"Year\")"
   ]
  },
  {
   "cell_type": "markdown",
   "metadata": {},
   "source": [
    "### To PDF"
   ]
  },
  {
   "cell_type": "code",
   "execution_count": null,
   "metadata": {},
   "outputs": [],
   "source": [
    "\n",
    "plt.figure(figsize=(20, 10))\n",
    "\n",
    "sns.set(style=\"ticks\")\n",
    "def create_gird(df, col, hue,x,y,sharey=True, legend=False):\n",
    "\n",
    "    # Initialize a grid of plots with an Axes for each walk\n",
    "    grid = sns.FacetGrid(df, col=col, hue=hue, palette=sns.color_palette(\"hls\", 4),sharey=sharey,\n",
    "                         col_wrap=3, height=4.5)\n",
    "    plt.gca().xaxis.set_major_formatter(FuncFormatter(lambda x, _: int(x)))\n",
    "\n",
    "    # Draw a horizontal line to show the starting point\n",
    "    grid.map(plt.axhline, y=0, ls=\":\", c=\".5\")\n",
    "\n",
    "    # Draw a line plot to show the trajectory of each random walk\n",
    "    grid.map(plt.plot, x, y)\n",
    "    if legend:\n",
    "        grid.add_legend()\n",
    "\n",
    "\n",
    "\n",
    "    # Adjust the arrangement of the plots\n",
    "    grid.fig.tight_layout(w_pad=1)\n",
    "    return grid"
   ]
  },
  {
   "cell_type": "markdown",
   "metadata": {},
   "source": [
    "## Analysis"
   ]
  },
  {
   "cell_type": "code",
   "execution_count": null,
   "metadata": {},
   "outputs": [],
   "source": [
    "spothlight = [\"SARS\",\"MERS Coronavirus\", \"Avian Influenza\",\"Ebola\", \"Influenza\", \"HIV/AIDS\",\"Hepatitis B\",\"Hepatitis C\", \"Swine Flu\"]"
   ]
  },
  {
   "cell_type": "code",
   "execution_count": null,
   "metadata": {},
   "outputs": [],
   "source": [
    "diseases_id = load_sframe(\"Data/diseases_id.csv\")\n",
    "disease_names = pd.read_csv(\"Data/disease_names.csv\")"
   ]
  },
  {
   "cell_type": "code",
   "execution_count": null,
   "metadata": {},
   "outputs": [],
   "source": [
    "diseases_mag = load_sframe(\"Data/mag/diseases_med_mag.sframe\")"
   ]
  },
  {
   "cell_type": "code",
   "execution_count": null,
   "metadata": {},
   "outputs": [],
   "source": [
    "diseases_mag = diseases_mag[diseases_mag[\"Ref Number\"]>5]"
   ]
  },
  {
   "cell_type": "markdown",
   "metadata": {},
   "source": [
    "#### Diseases Researchers"
   ]
  },
  {
   "cell_type": "code",
   "execution_count": null,
   "metadata": {},
   "outputs": [],
   "source": [
    "diseases_mag_authors = diseases_mag.stack(\"Authors List Sorted\",new_column_name=\"author\")"
   ]
  },
  {
   "cell_type": "code",
   "execution_count": null,
   "metadata": {},
   "outputs": [],
   "source": [
    "diseases_mag_authors = diseases_mag_authors[diseases_mag_authors[\"Year\"]>2001]"
   ]
  },
  {
   "cell_type": "code",
   "execution_count": null,
   "metadata": {},
   "outputs": [],
   "source": [
    "diseases_researchers = diseases_mag_authors.groupby(\"disease\",  { \"author_count\": agg.COUNT_DISTINCT(\"author\")}).sort('author_count',ascending=False)"
   ]
  },
  {
   "cell_type": "code",
   "execution_count": null,
   "metadata": {},
   "outputs": [],
   "source": [
    "diseases_researchers = diseases_researchers.filter_by(spothlight,\"disease\")"
   ]
  },
  {
   "cell_type": "code",
   "execution_count": null,
   "metadata": {},
   "outputs": [],
   "source": [
    "diseases_researchers"
   ]
  },
  {
   "cell_type": "markdown",
   "metadata": {},
   "source": [
    "New Authros Over Time (Not inclided in the papaer):"
   ]
  },
  {
   "cell_type": "code",
   "execution_count": null,
   "metadata": {},
   "outputs": [],
   "source": [
    "disease_authors = dict(zip(spothlight, [set()]*9))\n",
    "res = {\"Year\":[],\"Disease\":[],\"Value\":[],\"Type\":[]}\n",
    "for year in tqdm(range(2002,2019)):\n",
    "    for d in spothlight:\n",
    "        author_list = diseases_mag[(diseases_mag[\"disease\"]==d)&(diseases_mag[\"Year\"]==year)&(diseases_mag[\"Authors List Sorted\"]!=None)][\"Authors List Sorted\"]\n",
    "        author_list = set(chain(*author_list))\n",
    "        res[\"Year\"].append(year)\n",
    "        res[\"Disease\"].append(d)\n",
    "        res[\"Type\"].append(\"New Authors\")\n",
    "        res[\"Value\"].append(len(author_list-disease_authors[d]))\n",
    "        res[\"Year\"].append(year)\n",
    "        res[\"Disease\"].append(d)\n",
    "        res[\"Type\"].append(\"Distinct Authors\")\n",
    "        res[\"Value\"].append(len(author_list))\n",
    "        disease_authors[d] = disease_authors[d]|author_list"
   ]
  },
  {
   "cell_type": "code",
   "execution_count": null,
   "metadata": {},
   "outputs": [],
   "source": [
    "new_authors = pd.DataFrame(res)"
   ]
  },
  {
   "cell_type": "code",
   "execution_count": null,
   "metadata": {},
   "outputs": [],
   "source": [
    "new_authors = new_authors.sort_values([\"Disease\", \"Year\"])"
   ]
  },
  {
   "cell_type": "code",
   "execution_count": null,
   "metadata": {},
   "outputs": [],
   "source": [
    "\n",
    "\n",
    "plt.rc('text', usetex=False)\n",
    "plt.figure(figsize=(20, 10))\n",
    "create_gird(new_authors,\"Disease\",\"Type\",\"Year\", \"Value\",False, legend=True)\n"
   ]
  },
  {
   "cell_type": "code",
   "execution_count": null,
   "metadata": {},
   "outputs": [],
   "source": [
    "autor_disease =  diseases_mag[(diseases_mag[\"Year\"]>2001)&(diseases_mag[\"Ref Number\"] >5)][[\"PaperId\",\"disease\",\"Authors List Sorted\"]].stack(\"Authors List Sorted\",new_column_name=\"Author\")"
   ]
  },
  {
   "cell_type": "code",
   "execution_count": null,
   "metadata": {},
   "outputs": [],
   "source": [
    "autor_disease = autor_disease.filter_by(spothlight, \"disease\")"
   ]
  },
  {
   "cell_type": "code",
   "execution_count": null,
   "metadata": {},
   "outputs": [],
   "source": [
    "autor_disease_count = autor_disease.groupby([\"disease\", \"Author\"], {\"Count\":agg.COUNT()})"
   ]
  },
  {
   "cell_type": "markdown",
   "metadata": {},
   "source": [
    "Average Number of Papers for each author on a specific disease:"
   ]
  },
  {
   "cell_type": "code",
   "execution_count": null,
   "metadata": {},
   "outputs": [],
   "source": [
    "autor_disease_count.to_dataframe()[[\"disease\",\"Count\"]].groupby(\"disease\").mean()\n"
   ]
  },
  {
   "cell_type": "markdown",
   "metadata": {},
   "source": [
    "Average Number of Papers for authors with more than one paper on a specific disease:"
   ]
  },
  {
   "cell_type": "code",
   "execution_count": null,
   "metadata": {},
   "outputs": [],
   "source": [
    "mutli_papaers = autor_disease_count[autor_disease_count[\"Count\"]>1].to_dataframe()[[\"disease\",\"Count\"]].groupby(\"disease\").mean()\n",
    "mutli_papaers"
   ]
  },
  {
   "cell_type": "code",
   "execution_count": null,
   "metadata": {},
   "outputs": [],
   "source": [
    "mutli_papaers.loc[\"HIV/AIDS\"] - mutli_papaers.loc[\"SARS\"]"
   ]
  },
  {
   "cell_type": "code",
   "execution_count": null,
   "metadata": {},
   "outputs": [],
   "source": [
    "from ScienceDynamics.datasets.microsoft_academic_graph import MicrosoftAcademicGraph\n",
    "mag = MicrosoftAcademicGraph()"
   ]
  },
  {
   "cell_type": "code",
   "execution_count": null,
   "metadata": {},
   "outputs": [],
   "source": [
    "diseases_mag_authors = diseases_mag_authors.filter_by(spothlight,\"disease\")"
   ]
  },
  {
   "cell_type": "code",
   "execution_count": null,
   "metadata": {},
   "outputs": [],
   "source": [
    "diseases_authors = diseases_mag.stack(\"Authors List Sorted\",new_column_name=\"author\")"
   ]
  },
  {
   "cell_type": "code",
   "execution_count": null,
   "metadata": {},
   "outputs": [],
   "source": [
    "authors = set(diseases_mag_authors[\"author\"])"
   ]
  },
  {
   "cell_type": "code",
   "execution_count": null,
   "metadata": {},
   "outputs": [],
   "source": [
    "# This will take sometime\n",
    "extended_papers = mag.extended_papers.stack(\"Authors List Sorted\",new_column_name=\"author\")"
   ]
  },
  {
   "cell_type": "code",
   "execution_count": null,
   "metadata": {},
   "outputs": [],
   "source": [
    "authors_papers = extended_papers.filter_by(list(authors),\"author\")"
   ]
  },
  {
   "cell_type": "code",
   "execution_count": null,
   "metadata": {},
   "outputs": [],
   "source": [
    "author_first_paper = authors_papers.groupby(\"author\",{\"Year\":agg.MIN(\"Year\")})"
   ]
  },
  {
   "cell_type": "code",
   "execution_count": null,
   "metadata": {},
   "outputs": [],
   "source": [
    "diseases_mag_authors = diseases_mag_authors.join(author_first_paper,on=\"author\")"
   ]
  },
  {
   "cell_type": "code",
   "execution_count": null,
   "metadata": {},
   "outputs": [],
   "source": [
    "diseases_mag_authors[\"seniority when published\"] = diseases_mag_authors[\"Year\"] - diseases_mag_authors[\"Year.1\"]"
   ]
  },
  {
   "cell_type": "markdown",
   "metadata": {},
   "source": [
    "General Seniority:"
   ]
  },
  {
   "cell_type": "code",
   "execution_count": null,
   "metadata": {},
   "outputs": [],
   "source": [
    "diseases_mag_authors.groupby(\"disease\", {\"seniority\":agg.AVG(\"seniority when published\"), \"median\":agg.QUANTILE(\"seniority when published\", [0.5])})"
   ]
  },
  {
   "cell_type": "code",
   "execution_count": null,
   "metadata": {},
   "outputs": [],
   "source": [
    "diseases_mag[\"FirstAuthor\"] = diseases_mag[\"Authors List Sorted\"].apply(lambda x: x[0])"
   ]
  },
  {
   "cell_type": "code",
   "execution_count": null,
   "metadata": {},
   "outputs": [],
   "source": [
    "diseases_mag[\"LastAuthor\"] = diseases_mag[\"Authors List Sorted\"].apply(lambda x: x[-1])"
   ]
  },
  {
   "cell_type": "code",
   "execution_count": null,
   "metadata": {},
   "outputs": [],
   "source": [
    "diseases_mag = diseases_mag.filter_by(spothlight,\"disease\")"
   ]
  },
  {
   "cell_type": "code",
   "execution_count": null,
   "metadata": {},
   "outputs": [],
   "source": [
    "diseases_mag = diseases_mag.join(author_first_paper,on={\"FirstAuthor\": \"author\"},alter_name={\"Year\":\"FirstYear\"})"
   ]
  },
  {
   "cell_type": "code",
   "execution_count": null,
   "metadata": {},
   "outputs": [],
   "source": [
    "diseases_mag = diseases_mag.join(author_first_paper,on={\"LastAuthor\": \"author\"},alter_name={\"Year\":\"LastYear\"})"
   ]
  },
  {
   "cell_type": "code",
   "execution_count": null,
   "metadata": {},
   "outputs": [],
   "source": [
    "diseases_mag[\"First author seniority when published\"] = diseases_mag[\"Year\"] - diseases_mag[\"FirstYear\"]"
   ]
  },
  {
   "cell_type": "code",
   "execution_count": null,
   "metadata": {},
   "outputs": [],
   "source": [
    "diseases_mag[\"Last author seniority when published\"] = diseases_mag[\"Year\"] - diseases_mag[\"LastYear\"]"
   ]
  },
  {
   "cell_type": "code",
   "execution_count": null,
   "metadata": {},
   "outputs": [],
   "source": [
    "diseases_mag.groupby(\"disease\", {\"seniority first\":agg.AVG(\"First author seniority when published\"), \"median first\":agg.QUANTILE(\"First author seniority when published\", [0.5]), \"seniority last\":agg.AVG(\"Last author seniority when published\"), \"median last\":agg.QUANTILE(\"Last author seniority when published\", [0.5])})"
   ]
  },
  {
   "cell_type": "code",
   "execution_count": null,
   "metadata": {},
   "outputs": [],
   "source": [
    "res = SFrame()\n",
    "for d in spothlight:\n",
    "    print(d)\n",
    "    sf = diseases_mag[diseases_mag[\"disease\"]==d]\n",
    "    first = sf[\"seniority when published\"].value_counts()[:10]\n",
    "    res = res.add_columns(first.rename({\"value\":f\"first {d}\", \"count\":f\"first count {d}\"}))\n",
    "    last = sf[\"seniority when published last\"].value_counts()[:10]\n",
    "    res = res.add_columns(last.rename({\"value\":f\"last {d}\", \"count\":f\"last count {d}\"}))\n",
    "#     print(\"-----First------\")\n",
    "#     print(sf[\"seniority when published\"].value_counts())\n",
    "#     print(\"-----Last------\")\n",
    "#     print(sf[\"seniority when published last\"].value_counts())"
   ]
  },
  {
   "cell_type": "code",
   "execution_count": null,
   "metadata": {},
   "outputs": [],
   "source": [
    "res"
   ]
  },
  {
   "cell_type": "code",
   "execution_count": null,
   "metadata": {},
   "outputs": [],
   "source": []
  },
  {
   "cell_type": "code",
   "execution_count": null,
   "metadata": {},
   "outputs": [],
   "source": [
    "disease_authors = dict(zip(spothlight, [set()]*9))\n",
    "res = {\"Year\":[],\"Disease\":[],\"Value\":[],\"Type\":[]}\n",
    "for year in tqdm(range(2002,2019)):\n",
    "    for d in spothlight:\n",
    "        author_list = diseases_mag[(diseases_mag[\"Disease\"]==d)&(diseases_mag[\"Year\"]==year)&(diseases_mag[\"Authors List Sorted\"]!=None)][\"Authors List Sorted\"]\n",
    "        author_list = set(chain(*author_list))\n",
    "        res[\"Year\"].append(year)\n",
    "        res[\"Disease\"].append(d)\n",
    "        res[\"Type\"].append(\"New Authors\")\n",
    "        res[\"Value\"].append(len(author_list-disease_authors[d]))\n",
    "        res[\"Year\"].append(year)\n",
    "        res[\"Disease\"].append(d)\n",
    "        res[\"Type\"].append(\"Distinct Authors\")\n",
    "        res[\"Value\"].append(len(author_list))\n",
    "        disease_authors[d] = disease_authors[d]|author_list"
   ]
  },
  {
   "cell_type": "code",
   "execution_count": null,
   "metadata": {},
   "outputs": [],
   "source": [
    "new_authors = pd.DataFrame(res)"
   ]
  },
  {
   "cell_type": "code",
   "execution_count": null,
   "metadata": {},
   "outputs": [],
   "source": [
    "new_authors = new_authors.sort_values([\"Disease\", \"Year\"])"
   ]
  }
 ],
 "metadata": {
  "kernelspec": {
   "display_name": "Python [conda env:giga]",
   "language": "python",
   "name": "conda-env-giga-py"
  },
  "language_info": {
   "codemirror_mode": {
    "name": "ipython",
    "version": 3
   },
   "file_extension": ".py",
   "mimetype": "text/x-python",
   "name": "python",
   "nbconvert_exporter": "python",
   "pygments_lexer": "ipython3",
   "version": "3.7.7"
  }
 },
 "nbformat": 4,
 "nbformat_minor": 4
}
