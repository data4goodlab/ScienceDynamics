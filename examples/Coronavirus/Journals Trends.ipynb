{
 "cells": [
  {
   "cell_type": "code",
   "execution_count": null,
   "metadata": {},
   "outputs": [],
   "source": [
    "%load_ext autoreload\n",
    "%autoreload 2\n",
    "%aimport\n",
    "%matplotlib inline"
   ]
  },
  {
   "cell_type": "code",
   "execution_count": null,
   "metadata": {},
   "outputs": [],
   "source": [
    "import os\n",
    "import sys\n",
    "nb_dir = os.path.dirname(os.path.split(os.getcwd())[0])\n",
    "if nb_dir not in sys.path:\n",
    "    sys.path.append(nb_dir)"
   ]
  },
  {
   "cell_type": "code",
   "execution_count": null,
   "metadata": {},
   "outputs": [],
   "source": [
    "from tqdm import tqdm_notebook as tqdm\n",
    "import pandas as pd\n",
    "from turicreate import SFrame, load_sframe\n",
    "from pathlib import Path\n",
    "import turicreate.aggregate as agg\n",
    "import numpy as np"
   ]
  },
  {
   "cell_type": "code",
   "execution_count": null,
   "metadata": {},
   "outputs": [],
   "source": [
    "from ScienceDynamics.datasets import SJR"
   ]
  },
  {
   "cell_type": "code",
   "execution_count": null,
   "metadata": {},
   "outputs": [],
   "source": [
    "import json\n",
    "import os\n",
    "import matplotlib.pyplot as plt\n",
    "import pandas as pd\n",
    "import math\n",
    "import glob\n",
    "import ntpath\n",
    "from tqdm import tqdm\n",
    "import re\n",
    "\n",
    "import datetime\n",
    "from matplotlib.backends.backend_pdf import PdfPages\n",
    "from  matplotlib.ticker import FuncFormatter"
   ]
  },
  {
   "cell_type": "markdown",
   "metadata": {},
   "source": [
    "## Draw Graphs"
   ]
  },
  {
   "cell_type": "code",
   "execution_count": null,
   "metadata": {},
   "outputs": [],
   "source": [
    "import seaborn as sns\n",
    "from  matplotlib.ticker import FuncFormatter\n",
    "\n",
    "sns.set(font_scale=1.3)\n",
    "plt.figure(figsize=(16, 12))\n",
    "# sns.set(style=\"ticks\")\n",
    "sns.set()\n",
    "def create_gird(df, col, hue,x,y,sharey=True, legend=False):\n",
    "\n",
    "    # Initialize a grid of plots with an Axes for each walk\n",
    "    grid = sns.FacetGrid(df, col=col, hue=hue, palette=sns.color_palette(\"hls\", 4),sharey=sharey,\n",
    "                         col_wrap=3, height=4.5)\n",
    "    plt.gca().xaxis.set_major_formatter(FuncFormatter(lambda x, _: int(x)))\n",
    "\n",
    "    # Draw a horizontal line to show the starting point\n",
    "    grid.map(plt.axhline, y=0, ls=\":\", c=\".5\")\n",
    "\n",
    "    # Draw a line plot to show the trajectory of each random walk\n",
    "    grid.map(plt.plot, x, y)\n",
    "    grid.set_titles(\"{col_name}\")\n",
    "    if legend:\n",
    "        grid.add_legend()\n",
    "\n",
    "\n",
    "    # Adjust the arrangement of the plots\n",
    "    grid.fig.tight_layout(w_pad=1)\n",
    "    return grid"
   ]
  },
  {
   "cell_type": "code",
   "execution_count": null,
   "metadata": {},
   "outputs": [],
   "source": [
    "def chunks(l, n):\n",
    "    # For item i in a range that is a length of l,\n",
    "    for i in range(0, len(l), n):\n",
    "        # Create an index range for l of n items:\n",
    "        yield l[i:i + n]\n"
   ]
  },
  {
   "cell_type": "markdown",
   "metadata": {},
   "source": [
    "## Analysis"
   ]
  },
  {
   "cell_type": "markdown",
   "metadata": {},
   "source": [
    "### Load Data"
   ]
  },
  {
   "cell_type": "code",
   "execution_count": null,
   "metadata": {},
   "outputs": [],
   "source": [
    "spothlight = [\"SARS\",\"MERS Coronavirus\", \"Avian Influenza\",\"Ebola\", \"Influenza\", \"HIV/AIDS\",\"Hepatitis B\",\"Hepatitis C\", \"Swine Flu\"]"
   ]
  },
  {
   "cell_type": "code",
   "execution_count": null,
   "metadata": {},
   "outputs": [],
   "source": [
    "diseases_id= load_sframe(\"Data/diseases_list.csv\")\n",
    "disease_names = SFrame.read_csv(\"Data/disease_names.csv\")"
   ]
  },
  {
   "cell_type": "code",
   "execution_count": null,
   "metadata": {},
   "outputs": [],
   "source": [
    "disease_names = disease_names.rename({\"disease\":\"Disease\"})"
   ]
  },
  {
   "cell_type": "markdown",
   "metadata": {},
   "source": [
    "##### SJR"
   ]
  },
  {
   "cell_type": "code",
   "execution_count": null,
   "metadata": {},
   "outputs": [],
   "source": [
    "sjr = SJR()"
   ]
  },
  {
   "cell_type": "code",
   "execution_count": null,
   "metadata": {},
   "outputs": [],
   "source": [
    "sjr_sf = sjr.data"
   ]
  },
  {
   "cell_type": "markdown",
   "metadata": {},
   "source": [
    "Convert SJR to float form string"
   ]
  },
  {
   "cell_type": "code",
   "execution_count": null,
   "metadata": {},
   "outputs": [],
   "source": [
    "sjr_sf[\"SJR\"] = sjr_sf[\"SJR\"].apply(lambda x: x.replace(\",\",\".\"))\n",
    "sjr_sf[\"SJR\"] = sjr_sf[\"SJR\"].apply(lambda x: x if x else \"-1\")\n",
    "sjr_sf[\"SJR\"] = sjr_sf[\"SJR\"].astype(float)"
   ]
  },
  {
   "cell_type": "markdown",
   "metadata": {},
   "source": [
    "##### Pubmed"
   ]
  },
  {
   "cell_type": "code",
   "execution_count": null,
   "metadata": {},
   "outputs": [],
   "source": [
    "diseases_pubmed = load_sframe(\"Data/pubmed/diseases_pubmed.sframe\")"
   ]
  },
  {
   "cell_type": "markdown",
   "metadata": {},
   "source": [
    "### Journals Current State"
   ]
  },
  {
   "cell_type": "markdown",
   "metadata": {},
   "source": [
    "Format ISSN similarly to PubMed dataset"
   ]
  },
  {
   "cell_type": "code",
   "execution_count": null,
   "metadata": {},
   "outputs": [],
   "source": [
    "diseases_pubmed[\"issn_linking\"]"
   ]
  },
  {
   "cell_type": "code",
   "execution_count": null,
   "metadata": {},
   "outputs": [],
   "source": [
    "diseases_pubmed[\"ISSN\"] = diseases_pubmed[\"issn_linking\"].apply(lambda x: x.replace(\"-\", \"\"))"
   ]
  },
  {
   "cell_type": "markdown",
   "metadata": {},
   "source": [
    "SJR is publushed in a delay of two years, to deal with it we correct the SJR date to its correct publication date. "
   ]
  },
  {
   "cell_type": "code",
   "execution_count": null,
   "metadata": {},
   "outputs": [],
   "source": [
    "sjr_sf[\"Year\"] = sjr_sf[\"Year\"]+2"
   ]
  },
  {
   "cell_type": "code",
   "execution_count": null,
   "metadata": {},
   "outputs": [],
   "source": [
    "diseases_pubmed = diseases_pubmed.rename({\"disease\":\"Disease\"})"
   ]
  },
  {
   "cell_type": "code",
   "execution_count": null,
   "metadata": {},
   "outputs": [],
   "source": [
    "diseases_pubmed = diseases_pubmed.filter_by(spothlight,\"Disease\")"
   ]
  },
  {
   "cell_type": "code",
   "execution_count": null,
   "metadata": {},
   "outputs": [],
   "source": [
    "pubmed_sjr = sjr_sf.join(diseases_pubmed, on={\"ISSN\":\"ISSN\",\"Year\":\"year\"})"
   ]
  },
  {
   "cell_type": "code",
   "execution_count": null,
   "metadata": {},
   "outputs": [],
   "source": [
    "pubmed_sjr = pubmed_sjr.filter_by(spothlight,\"Disease\")"
   ]
  },
  {
   "cell_type": "code",
   "execution_count": null,
   "metadata": {},
   "outputs": [],
   "source": [
    "pubmed_sjr=pubmed_sjr.unique()"
   ]
  },
  {
   "cell_type": "code",
   "execution_count": null,
   "metadata": {},
   "outputs": [],
   "source": [
    "pubmed_sjr[\"Categories Clean\"] = pubmed_sjr[\"Categories\"].apply(lambda x: re.compile(r\"\\s\\(.*?\\);{0,1}\").split(x)[:-1])"
   ]
  },
  {
   "cell_type": "code",
   "execution_count": null,
   "metadata": {},
   "outputs": [],
   "source": [
    "pubmed_sjr[\"Categories Clean\"] = pubmed_sjr[\"Categories Clean\"].apply(lambda x: {c.strip() for c in x})"
   ]
  },
  {
   "cell_type": "code",
   "execution_count": null,
   "metadata": {},
   "outputs": [],
   "source": [
    "cat = {\"Immunology\", \"Epidemiology\", \"Infectious Diseases\", \"Virology\", \"Microbiology\"}"
   ]
  },
  {
   "cell_type": "code",
   "execution_count": null,
   "metadata": {},
   "outputs": [],
   "source": [
    "pubmed_sjr = pubmed_sjr[pubmed_sjr[\"Categories Clean\"].apply(lambda x: len(set(x) & cat)>0)]"
   ]
  },
  {
   "cell_type": "code",
   "execution_count": null,
   "metadata": {},
   "outputs": [],
   "source": [
    "journal_disease = pubmed_sjr.groupby([\"ISSN\",\"Disease\",\"Year\"], operations={\"Count\": agg.COUNT_DISTINCT(\"pmid\")})"
   ]
  },
  {
   "cell_type": "code",
   "execution_count": null,
   "metadata": {},
   "outputs": [],
   "source": [
    "journal_map = pubmed_sjr[[\"SJR\" ,\"Title\", \"ISSN\",\"Year\"]].unique()"
   ]
  },
  {
   "cell_type": "code",
   "execution_count": null,
   "metadata": {},
   "outputs": [],
   "source": [
    "journal_disease = journal_disease.join(journal_map,[\"ISSN\",\"Year\"])"
   ]
  },
  {
   "cell_type": "code",
   "execution_count": null,
   "metadata": {},
   "outputs": [],
   "source": [
    "journal_disease = journal_disease[journal_disease[\"SJR\"]>0]"
   ]
  },
  {
   "cell_type": "code",
   "execution_count": null,
   "metadata": {},
   "outputs": [],
   "source": [
    "journal_disease_df = journal_disease.to_dataframe()"
   ]
  },
  {
   "cell_type": "markdown",
   "metadata": {},
   "source": [
    "### Top Journals by Publications"
   ]
  },
  {
   "cell_type": "code",
   "execution_count": null,
   "metadata": {},
   "outputs": [],
   "source": [
    "journal_disease_sf = SFrame(journal_disease_df)"
   ]
  },
  {
   "cell_type": "code",
   "execution_count": null,
   "metadata": {},
   "outputs": [],
   "source": [
    "journal_disease_sf[\"Score\"] = journal_disease_sf[\"Count\"]*journal_disease_sf[\"SJR\"]"
   ]
  },
  {
   "cell_type": "code",
   "execution_count": null,
   "metadata": {},
   "outputs": [],
   "source": [
    "journal_disease_score = journal_disease_sf.groupby(\"Disease\",{\"Count\":agg.SUM(\"Count\"), \"Score\":agg.SUM(\"Score\")})"
   ]
  },
  {
   "cell_type": "code",
   "execution_count": null,
   "metadata": {},
   "outputs": [],
   "source": [
    "journal_disease_score[\"JScore\"] = journal_disease_score[\"Score\"] /journal_disease_score[\"Count\"] "
   ]
  },
  {
   "cell_type": "code",
   "execution_count": null,
   "metadata": {},
   "outputs": [],
   "source": [
    "journal_disease_score.sort(\"JScore\",False)"
   ]
  },
  {
   "cell_type": "code",
   "execution_count": null,
   "metadata": {},
   "outputs": [],
   "source": [
    "journal_disease_score.save(\"output/Journals/avg_jscore.csv\")"
   ]
  },
  {
   "cell_type": "code",
   "execution_count": null,
   "metadata": {},
   "outputs": [],
   "source": [
    "journal_disease_year_score = journal_disease_sf.groupby([\"Disease\",\"Year\"],{\"Count\":agg.SUM(\"Count\"), \"Score\":agg.SUM(\"Score\")})"
   ]
  },
  {
   "cell_type": "code",
   "execution_count": null,
   "metadata": {},
   "outputs": [],
   "source": [
    "journal_disease_year_score[\"JScore\"] = journal_disease_year_score[\"Score\"] /journal_disease_year_score[\"Count\"] "
   ]
  },
  {
   "cell_type": "code",
   "execution_count": null,
   "metadata": {},
   "outputs": [],
   "source": [
    "journal_disease_year_score.save(\"output/Journals/journal_disease_year_score.csv\",\"csv\")"
   ]
  },
  {
   "cell_type": "code",
   "execution_count": null,
   "metadata": {},
   "outputs": [],
   "source": [
    "journal_disease_year_score = journal_disease_year_score.sort([\"Disease\", \"Year\"])"
   ]
  },
  {
   "cell_type": "code",
   "execution_count": null,
   "metadata": {},
   "outputs": [],
   "source": [
    "\n",
    "sns.set(font_scale=1.3)\n",
    "\n",
    "\n",
    "plt.rc('text', usetex=False)\n",
    "create_gird(journal_disease_year_score[journal_disease_year_score[\"Count\"]>5].to_dataframe(),\"Disease\",\"Disease\",\"Year\", \"JScore\")\n",
    "plt.savefig('output/Journals/jscore.svg')\n",
    "# plt.close()\n",
    "\n"
   ]
  },
  {
   "cell_type": "code",
   "execution_count": null,
   "metadata": {},
   "outputs": [],
   "source": [
    "sjr_sf[\"Categories Clean\"] = sjr_sf[\"Categories\"].apply(lambda x: re.compile(r\"\\s\\(.*?\\);{0,1}\").split(x)[:-1])\n",
    "sjr_sf[\"Categories Clean\"] = sjr_sf[\"Categories Clean\"].apply(lambda x: {c.strip() for c in x})"
   ]
  },
  {
   "cell_type": "code",
   "execution_count": null,
   "metadata": {},
   "outputs": [],
   "source": [
    "sjr_sf = sjr_sf[sjr_sf[\"Categories Clean\"].apply(lambda x: len(set(x) & cat)>0)]"
   ]
  },
  {
   "cell_type": "code",
   "execution_count": null,
   "metadata": {},
   "outputs": [],
   "source": [
    "jtop_10 = SFrame()\n",
    "for year in range(2002,2019):\n",
    "    jtop_10 = jtop_10.append(sjr_sf.filter_by(year, \"Year\").sort('Rank')[:10])\n",
    "jtop_3 = SFrame()\n",
    "for year in range(2002,2019):\n",
    "    jtop_3 = jtop_3.append(sjr_sf.filter_by(year, \"Year\").sort('Rank')[:3])"
   ]
  },
  {
   "cell_type": "code",
   "execution_count": null,
   "metadata": {},
   "outputs": [],
   "source": [
    "papers_sjr_top_10 = pubmed_sjr.join( jtop_10[[\"Year\",\"Sourceid\"]], on=[\"Year\",\"Sourceid\"])\n"
   ]
  },
  {
   "cell_type": "code",
   "execution_count": null,
   "metadata": {},
   "outputs": [],
   "source": [
    "papers_sjr_top_10 = pubmed_sjr.join( jtop_10[[\"Year\",\"Sourceid\"]], on=[\"Year\",\"Sourceid\"])\n",
    "papers_top_10= papers_sjr_top_10.groupby([\"Disease\",\"Year\"], {\"Count\":agg.COUNT()})\n",
    "papers_top_10 = papers_top_10.sort([\"Disease\",\"Year\"])"
   ]
  },
  {
   "cell_type": "code",
   "execution_count": null,
   "metadata": {},
   "outputs": [],
   "source": [
    "papers_top_10[\"# of Papaers in Top-10\"] = papers_top_10[\"Count\"]"
   ]
  },
  {
   "cell_type": "code",
   "execution_count": null,
   "metadata": {},
   "outputs": [],
   "source": [
    "\n",
    "plt.rc('text', usetex=False)\n",
    "create_gird(papers_top_10.to_dataframe(),\"Disease\",\"Disease\",\"Year\", \"# of Papaers in Top-10\", False, False)\n",
    "plt.savefig('output/Journals/top10.svg')\n",
    "# plt.close()\n",
    "\n"
   ]
  },
  {
   "cell_type": "code",
   "execution_count": null,
   "metadata": {},
   "outputs": [],
   "source": [
    "papers_sjr_top_3 = pubmed_sjr.join( jtop_3[[\"Year\",\"Sourceid\"]], on=[\"Year\",\"Sourceid\"])\n",
    "papers_top_3= papers_sjr_top_3.groupby([\"Disease\",\"Year\"], {\"Count\":agg.COUNT()})\n",
    "papers_top_3 = papers_top_3.sort([\"Disease\",\"Year\"])"
   ]
  },
  {
   "cell_type": "code",
   "execution_count": null,
   "metadata": {},
   "outputs": [],
   "source": [
    "\n",
    "\n",
    "# if LaTeX is not installed or error caught, change to `usetex=False`\n",
    "plt.rc('text', usetex=False)\n",
    "plt.figure(figsize=(8, 6))\n",
    "create_gird(papers_top_3.to_dataframe(),\"Disease\",\"Disease\",\"Year\", \"Count\", True, False)\n",
    "plt.savefig(\"output/Journals/top3.svg\")\n",
    "\n"
   ]
  },
  {
   "cell_type": "code",
   "execution_count": null,
   "metadata": {},
   "outputs": [],
   "source": [
    "papaers_q = pubmed_sjr.groupby([\"Year\",\"Disease\", \"SJR Best Quartile\"],{\"Count\": agg.COUNT()})"
   ]
  },
  {
   "cell_type": "code",
   "execution_count": null,
   "metadata": {},
   "outputs": [],
   "source": [
    "papaers_q = papaers_q.sort([\"Disease\", \"Year\"])"
   ]
  },
  {
   "cell_type": "code",
   "execution_count": null,
   "metadata": {},
   "outputs": [],
   "source": [
    "papaers_q=papaers_q[papaers_q[\"SJR Best Quartile\"]!=\"-\"]"
   ]
  },
  {
   "cell_type": "code",
   "execution_count": null,
   "metadata": {},
   "outputs": [],
   "source": [
    "plt.rc('text', usetex=False)\n",
    "plt.figure(figsize=(8, 6))\n",
    "create_gird(papaers_q[papaers_q[\"SJR Best Quartile\"]==\"Q1\"].to_dataframe(),\"Disease\",\"Disease\",\"Year\", \"Count\", False)\n",
    "plt.savefig('output/Journals/q1.svg')"
   ]
  },
  {
   "cell_type": "code",
   "execution_count": null,
   "metadata": {},
   "outputs": [],
   "source": [
    "papaers_q[\"# of Papaers in Quartile\"] = papaers_q[\"Count\"]"
   ]
  },
  {
   "cell_type": "code",
   "execution_count": null,
   "metadata": {},
   "outputs": [],
   "source": [
    "plt.rc('text', usetex=False)\n",
    "plt.figure(figsize=(8, 6))\n",
    "create_gird(papaers_q.to_dataframe(),\"Disease\",\"SJR Best Quartile\",\"Year\", \"# of Papaers in Quartile\", False, True)\n",
    "plt.savefig('output/Journals/q.svg')"
   ]
  }
 ],
 "metadata": {
  "kernelspec": {
   "display_name": "Python [conda env:giga]",
   "language": "python",
   "name": "conda-env-giga-py"
  },
  "language_info": {
   "codemirror_mode": {
    "name": "ipython",
    "version": 3
   },
   "file_extension": ".py",
   "mimetype": "text/x-python",
   "name": "python",
   "nbconvert_exporter": "python",
   "pygments_lexer": "ipython3",
   "version": "3.7.7"
  }
 },
 "nbformat": 4,
 "nbformat_minor": 4
}
