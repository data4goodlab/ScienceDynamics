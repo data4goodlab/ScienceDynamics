{
 "cells": [
  {
   "cell_type": "code",
   "execution_count": null,
   "metadata": {},
   "outputs": [],
   "source": [
    "%load_ext autoreload\n",
    "%autoreload 2\n",
    "%aimport\n",
    "%matplotlib inline"
   ]
  },
  {
   "cell_type": "code",
   "execution_count": null,
   "metadata": {},
   "outputs": [],
   "source": [
    "import os\n",
    "import sys\n",
    "nb_dir = os.path.dirname(os.path.split(os.getcwd())[0])\n",
    "if nb_dir not in sys.path:\n",
    "    sys.path.append(nb_dir)"
   ]
  },
  {
   "cell_type": "code",
   "execution_count": null,
   "metadata": {},
   "outputs": [],
   "source": [
    "from tqdm import tqdm_notebook as tqdm\n",
    "import pandas as pd\n",
    "from turicreate import SFrame, load_sframe\n",
    "from pathlib import Path\n",
    "import turicreate.aggregate as agg\n",
    "import numpy as np\n",
    "import seaborn as sns\n",
    "import matplotlib.pyplot as plt\n",
    "from  matplotlib.ticker import FuncFormatter\n",
    "import re\n",
    "import datetime\n",
    "from matplotlib.backends.backend_pdf import PdfPages\n",
    "import geopandas\n"
   ]
  },
  {
   "cell_type": "code",
   "execution_count": null,
   "metadata": {},
   "outputs": [],
   "source": [
    "from collections import defaultdict\n",
    "from itertools import chain"
   ]
  },
  {
   "cell_type": "code",
   "execution_count": null,
   "metadata": {},
   "outputs": [],
   "source": [
    "def chunks(l, n):\n",
    "    # For item i in a range that is a length of l,\n",
    "    for i in range(0, len(l), n):\n",
    "        # Create an index range for l of n items:\n",
    "        yield l[i:i + n]\n",
    "\n",
    "def get_d(sf_corr):\n",
    "    for data in sf_corr.groupby(\"Disease\"):\n",
    "        if len(data[1]) >5:\n",
    "            yield data[1].sort_values(\"Year\")"
   ]
  },
  {
   "cell_type": "code",
   "execution_count": null,
   "metadata": {},
   "outputs": [],
   "source": [
    "\n",
    "plt.figure(figsize=(20, 10))\n",
    "\n",
    "sns.set(style=\"ticks\")\n",
    "def create_gird(df, col, hue,x,y):\n",
    "\n",
    "    # Initialize a grid of plots with an Axes for each walk\n",
    "    grid = sns.FacetGrid(df, col=col, hue=hue, palette=\"tab20c\",\n",
    "                         col_wrap=3, height=4.5)\n",
    "    plt.gca().xaxis.set_major_formatter(FuncFormatter(lambda x, _: int(x)))\n",
    "\n",
    "    # Draw a horizontal line to show the starting point\n",
    "    grid.map(plt.axhline, y=0, ls=\":\", c=\".5\")\n",
    "\n",
    "    # Draw a line plot to show the trajectory of each random walk\n",
    "    grid.map(plt.plot, x, y)\n",
    "\n",
    "\n",
    "    # Adjust the arrangement of the plots\n",
    "    grid.fig.tight_layout(w_pad=1)\n",
    "    return grid"
   ]
  },
  {
   "cell_type": "code",
   "execution_count": null,
   "metadata": {},
   "outputs": [],
   "source": [
    "diseases_id= load_sframe(\"Data/diseases_id.csv\")\n",
    "disease_names= SFrame.read_csv(\"Data/disease_names.csv\")"
   ]
  },
  {
   "cell_type": "code",
   "execution_count": null,
   "metadata": {},
   "outputs": [],
   "source": [
    "spothlight = [\"SARS\",\"MERS Coronavirus\", \"Avian Influenza\",\"Ebola\", \"Influenza\", \"HIV/AIDS\",\"Hepatitis B\",\"Hepatitis C\", \"Swine Flu\"]"
   ]
  },
  {
   "cell_type": "code",
   "execution_count": null,
   "metadata": {},
   "outputs": [],
   "source": [
    "import networkx as nx"
   ]
  },
  {
   "cell_type": "markdown",
   "metadata": {},
   "source": [
    "## Pre-Processing"
   ]
  },
  {
   "cell_type": "code",
   "execution_count": null,
   "metadata": {},
   "outputs": [],
   "source": [
    "from ScienceDynamics.datasets.microsoft_academic_graph import MicrosoftAcademicGraph\n",
    "mag = MicrosoftAcademicGraph()"
   ]
  },
  {
   "cell_type": "code",
   "execution_count": null,
   "metadata": {},
   "outputs": [],
   "source": [
    "diseases_mag = load_sframe(\"Data/mag/diseases_med_mag.sframe\")"
   ]
  },
  {
   "cell_type": "code",
   "execution_count": null,
   "metadata": {},
   "outputs": [],
   "source": [
    "diseases_mag = diseases_mag.filter_by(spothlight,\"disease\")"
   ]
  },
  {
   "cell_type": "code",
   "execution_count": null,
   "metadata": {},
   "outputs": [],
   "source": [
    "diseases_mag = diseases_mag.rename({\"disease\":\"Disease\"})"
   ]
  },
  {
   "cell_type": "code",
   "execution_count": null,
   "metadata": {},
   "outputs": [],
   "source": [
    "diseases_mag= diseases_mag[diseases_mag[\"Ref Number\"]>5]"
   ]
  },
  {
   "cell_type": "code",
   "execution_count": null,
   "metadata": {},
   "outputs": [],
   "source": [
    "paper_ids = diseases_mag[\"PaperId\"]"
   ]
  },
  {
   "cell_type": "code",
   "execution_count": null,
   "metadata": {},
   "outputs": [],
   "source": [
    "paper_author_aff = mag.paper_author_affiliations"
   ]
  },
  {
   "cell_type": "code",
   "execution_count": null,
   "metadata": {},
   "outputs": [],
   "source": [
    "paper_author_aff = paper_author_aff.filter_by(paper_ids,\"PaperId\")"
   ]
  },
  {
   "cell_type": "markdown",
   "metadata": {},
   "source": [
    "Fill affilations that are missing in the affilation table"
   ]
  },
  {
   "cell_type": "code",
   "execution_count": null,
   "metadata": {},
   "outputs": [],
   "source": [
    "import geonamescache\n",
    "gc = geonamescache.GeonamesCache()\n",
    "cities = gc.get_cities()\n",
    "countries = gc.get_countries()\n",
    "cities = {v['name'] for k, v in cities.items()}\n",
    "countries = {v['name'] for k, v in countries.items()}"
   ]
  },
  {
   "cell_type": "code",
   "execution_count": null,
   "metadata": {},
   "outputs": [],
   "source": [
    "import re\n",
    "from geonamescache.mappers import country\n",
    "mapper = country(from_key='iso', to_key='name')\n",
    "\n",
    "def add_location_from_original_affilation(paper_author_aff):\n",
    "    paper_author_aff[\"AffiliationId\"] = paper_author_aff[\"AffiliationId\"].astype(int)\n",
    "    paper_author_aff[\"NormalizedAffiliation\"] = paper_author_aff[\"OriginalAffiliation\"].apply(lambda x: set(re.sub(r\"[^a-zA-Z0-9]+\", ' ', x).split(\" \")))\n",
    "    \n",
    "    paper_author_aff[\"City_A\"] = paper_author_aff[\"NormalizedAffiliation\"].apply(lambda x: set(x)&cities)\n",
    "    paper_author_aff[\"City_A\"] = paper_author_aff[\"City_A\"].apply(lambda x: x[0] if x else \"\")\n",
    "    paper_author_aff[\"City_A\"] = paper_author_aff[\"City_A\"].apply(lambda x: None if x==\"\" else x)\n",
    "\n",
    "    paper_author_aff[\"Country_A\"] = paper_author_aff[\"NormalizedAffiliation\"].apply(lambda x: set(x)&countries)\n",
    "    paper_author_aff[\"Country_A\"] = paper_author_aff[\"Country_A\"].apply(lambda x:x[0] if x else \"\")\n",
    "    \n",
    "    paper_author_aff[\"Country_Temp\"] = paper_author_aff.apply(lambda x: gc.get_cities_by_name(x[\"City_A\"]) if x[\"City_A\"] and not x[\"Country_A\"] else [] )\n",
    "    paper_author_aff[\"Country_Temp\"] = paper_author_aff[\"Country_Temp\"].apply(lambda x: [l.popitem()[1] for l in x] )\n",
    "    paper_author_aff[\"Country_A\"] = paper_author_aff.apply(lambda x: x[\"Country_A\"] if x[\"Country_A\"] is not None  else mapper(x[\"Country_Temp\"][0][\"countrycode\"]) if len(x[\"Country_Temp\"])==1 else \"\" )\n",
    "    paper_author_aff[\"Country_A\"] = paper_author_aff[\"Country_A\"].apply(lambda x: None if x==\"\" else x)\n",
    "    return paper_author_aff.remove_column(\"Country_Temp\")"
   ]
  },
  {
   "cell_type": "code",
   "execution_count": null,
   "metadata": {},
   "outputs": [],
   "source": [
    "paper_author_aff = add_location_from_original_affilation(paper_author_aff)"
   ]
  },
  {
   "cell_type": "code",
   "execution_count": null,
   "metadata": {},
   "outputs": [],
   "source": [
    "def merge_with_affilations(paper_author_aff, affiliations):\n",
    "    paper_author_aff = paper_author_aff.join(affiliations, on={\"AffiliationId\":\"AffiliationId\"}, how=\"left\")\n",
    "    \n",
    "    paper_author_aff[\"Country\"] = paper_author_aff.apply(lambda x: x[\"Country_A\"] if x[\"Country\"]is None else x[\"Country\"])\n",
    "    paper_author_aff[\"City\"] = paper_author_aff.apply(lambda x: x[\"City_A\"] if x[\"City\"] is None else x[\"City\"])\n",
    "    return paper_author_aff\n"
   ]
  },
  {
   "cell_type": "code",
   "execution_count": null,
   "metadata": {},
   "outputs": [],
   "source": [
    "paper_author_aff = merge_with_affilations(paper_author_aff, mag.affiliations)\n",
    "paper_author_aff = paper_author_aff[(paper_author_aff[\"Country\"]!=None)]"
   ]
  },
  {
   "cell_type": "markdown",
   "metadata": {
    "toc-hr-collapsed": false
   },
   "source": [
    "## Author Country"
   ]
  },
  {
   "cell_type": "code",
   "execution_count": null,
   "metadata": {},
   "outputs": [],
   "source": [
    "paper_author_aff = paper_author_aff[paper_author_aff[\"Country\"]!=None]\n",
    "paper_author_aff_country = paper_author_aff[[\"PaperId\",\"AuthorId\", \"Country\"]].unstack([\"AuthorId\", \"Country\"])\n",
    "paper_author_aff_country[\"num_countries\"] = paper_author_aff_country[\"Dict of AuthorId_Country\"].apply(lambda x: len({v for k,v in x.items() if v!=\"\"  }))"
   ]
  },
  {
   "cell_type": "code",
   "execution_count": null,
   "metadata": {},
   "outputs": [],
   "source": []
  },
  {
   "cell_type": "code",
   "execution_count": null,
   "metadata": {},
   "outputs": [],
   "source": [
    "try:\n",
    "    diseases_mag= diseases_mag.remove_columns([\"Dict of AuthorId_Country\",\"num_countries\"])\n",
    "except:\n",
    "    pass\n",
    "diseases_mag = diseases_mag.join(paper_author_aff_country, on={\"PaperId\":\"PaperId\"})"
   ]
  },
  {
   "cell_type": "code",
   "execution_count": null,
   "metadata": {},
   "outputs": [],
   "source": []
  },
  {
   "cell_type": "code",
   "execution_count": null,
   "metadata": {},
   "outputs": [],
   "source": [
    "diseases_mag = diseases_mag[diseases_mag[\"num_countries\"] > 0]"
   ]
  },
  {
   "cell_type": "code",
   "execution_count": null,
   "metadata": {},
   "outputs": [],
   "source": [
    "diseases_mag[\"Year\"] = diseases_mag[\"Year\"].astype(int)"
   ]
  },
  {
   "cell_type": "code",
   "execution_count": null,
   "metadata": {},
   "outputs": [],
   "source": [
    "diseases_mag.groupby(\"Disease\",operations={\"num_countries\":agg.AVG(\"num_countries\"), \"count\":agg.COUNT() }).sort(\"num_countries\",False).save(\"output/Collab/author_counter.csv\")"
   ]
  },
  {
   "cell_type": "code",
   "execution_count": null,
   "metadata": {},
   "outputs": [],
   "source": [
    "df = diseases_mag.groupby(\"Year\",operations={\"Average Distinct Countries\":agg.AVG(\"num_countries\"), \"count\":agg.COUNT() }).sort(\"Year\",False)"
   ]
  },
  {
   "cell_type": "code",
   "execution_count": null,
   "metadata": {},
   "outputs": [],
   "source": [
    "df.to_dataframe().plot(x=\"Year\", y=\"Average Distinct Countries\", xlim=(2001,2018), figsize=(10,6))"
   ]
  },
  {
   "cell_type": "code",
   "execution_count": null,
   "metadata": {},
   "outputs": [],
   "source": [
    "df2 = diseases_mag.groupby([\"Disease\", \"Year\"],operations={\"Average Number of Countries\":agg.AVG(\"num_countries\"), \"count\":agg.COUNT() }).sort(\"Year\",False)"
   ]
  },
  {
   "cell_type": "code",
   "execution_count": null,
   "metadata": {},
   "outputs": [],
   "source": [
    "df2 = df2.sort([\"Disease\", \"Year\"])"
   ]
  },
  {
   "cell_type": "code",
   "execution_count": null,
   "metadata": {},
   "outputs": [],
   "source": [
    "df2 = df2[(df2[\"count\"] >5)&(df2[\"Year\"] >2001)]"
   ]
  },
  {
   "cell_type": "code",
   "execution_count": null,
   "metadata": {},
   "outputs": [],
   "source": [
    "\n",
    "\n",
    "plt.rc('text', usetex=False)\n",
    "\n",
    "create_gird(df2.to_dataframe(),\"Disease\",\"Disease\",\"Year\", \"Average Number of Countries\")\n",
    "# plt.savefig('output/Collab/countries.png')\n",
    "# plt.close()\n",
    "\n"
   ]
  },
  {
   "cell_type": "code",
   "execution_count": null,
   "metadata": {},
   "outputs": [],
   "source": [
    "diseases_mag[\"num_countries\"].value_counts()"
   ]
  },
  {
   "cell_type": "code",
   "execution_count": null,
   "metadata": {},
   "outputs": [],
   "source": [
    "countries_p  = diseases_mag.groupby([\"Disease\", \"Year\"], {\"Count\": agg.COUNT(),\"Freq\":agg.FREQ_COUNT(\"num_countries\")})"
   ]
  },
  {
   "cell_type": "code",
   "execution_count": null,
   "metadata": {},
   "outputs": [],
   "source": [
    "countries_p[\"Colab\"] = countries_p[\"Freq\"].apply(lambda x: sum([v for k,v in x.items() if k>1]))"
   ]
  },
  {
   "cell_type": "code",
   "execution_count": null,
   "metadata": {},
   "outputs": [],
   "source": [
    "countries_p[\"Colab%\"] = countries_p[\"Colab\"] / countries_p[\"Count\"]"
   ]
  },
  {
   "cell_type": "code",
   "execution_count": null,
   "metadata": {},
   "outputs": [],
   "source": [
    "countries_p=countries_p.sort([\"Disease\",\"Year\"])"
   ]
  },
  {
   "cell_type": "code",
   "execution_count": null,
   "metadata": {},
   "outputs": [],
   "source": [
    "countries_p = countries_p[(countries_p[\"Year\"]>2001)&(countries_p[\"Year\"]<2019)]"
   ]
  },
  {
   "cell_type": "code",
   "execution_count": null,
   "metadata": {},
   "outputs": [],
   "source": [
    "import datetime\n",
    "import numpy as np\n",
    "from matplotlib.backends.backend_pdf import PdfPages\n",
    "import matplotlib.pyplot as plt\n",
    "\n",
    "\n",
    "plt.rc('text', usetex=False)\n",
    "create_gird(countries_p.to_dataframe(),\"Disease\",\"Disease\",\"Year\", \"Colab%\")"
   ]
  },
  {
   "cell_type": "markdown",
   "metadata": {},
   "source": [
    "### Pair Colab"
   ]
  },
  {
   "cell_type": "code",
   "execution_count": null,
   "metadata": {},
   "outputs": [],
   "source": [
    "from itertools import combinations\n",
    "def get_research_cop(diseases_mag, field=\"Dict of AuthorId_Country\", n=2):\n",
    "    diseases_mag[\"temp\"] = diseases_mag[field].apply(lambda x: [v for v in set(x.values()) if v!=\"\"])\n",
    "    diseases_mag2 = diseases_mag[diseases_mag[\"temp\"].apply(lambda x: len(x) >= n)]\n",
    "    diseases_mag2= diseases_mag2[diseases_mag2[\"temp\"]!=None]\n",
    "    diseases_mag2[\"temp\"] = diseases_mag2[\"temp\"].apply(lambda x: sorted(x))\n",
    "    diseases_mag2[\"con_pairs\"] = diseases_mag2[\"temp\"].apply(lambda x: list(combinations(x, n)))\n",
    "    return  diseases_mag2.stack(\"con_pairs\", new_column_name=\"con_pairs\")\n"
   ]
  },
  {
   "cell_type": "code",
   "execution_count": null,
   "metadata": {},
   "outputs": [],
   "source": []
  },
  {
   "cell_type": "code",
   "execution_count": null,
   "metadata": {},
   "outputs": [],
   "source": [
    "diseases_mag_pairs = get_research_cop(diseases_mag,n=2)"
   ]
  },
  {
   "cell_type": "code",
   "execution_count": null,
   "metadata": {},
   "outputs": [],
   "source": [
    "diseases_mag_pairs = diseases_mag_pairs.groupby([\"Disease\",\"Year\",\"con_pairs\"],agg.COUNT)"
   ]
  },
  {
   "cell_type": "code",
   "execution_count": null,
   "metadata": {},
   "outputs": [],
   "source": [
    "diseases_mag_pairs.sort(\"Count\",False).save(\"output/Collab/pairs.csv\")"
   ]
  },
  {
   "cell_type": "code",
   "execution_count": null,
   "metadata": {},
   "outputs": [],
   "source": [
    "diseases_mag[\"first_atuhor_country\"] = diseases_mag.apply(lambda x: x[\"Dict of AuthorId_Country\"][int(x[\"Authors List Sorted\"][0])] if int(x[\"Authors List Sorted\"][0]) in x[\"Dict of AuthorId_Country\"] else \"\")"
   ]
  },
  {
   "cell_type": "code",
   "execution_count": null,
   "metadata": {},
   "outputs": [],
   "source": [
    "diseases_mag[\"last_atuhor_country\"] = diseases_mag.apply(lambda x: x[\"Dict of AuthorId_Country\"][int(x[\"Authors List Sorted\"][-1])] if int(x[\"Authors List Sorted\"][-1]) in x[\"Dict of AuthorId_Country\"] else \"\")"
   ]
  },
  {
   "cell_type": "code",
   "execution_count": null,
   "metadata": {},
   "outputs": [],
   "source": [
    "first_atuhor_country = diseases_mag.groupby([\"Disease\",\"Year\",\"first_atuhor_country\"], {\"Count\":agg.COUNT()})\n",
    "last_atuhor_country = diseases_mag.groupby([\"Disease\",\"Year\",\"last_atuhor_country\"], {\"Count\":agg.COUNT()})"
   ]
  },
  {
   "cell_type": "code",
   "execution_count": null,
   "metadata": {},
   "outputs": [],
   "source": [
    "import pycountry\n",
    "import  functools\n",
    "# @functools.lru_cache(maxsize=8048)\n",
    "def get_iso(txt):\n",
    "    try:\n",
    "        return pycountry.countries.search_fuzzy(txt)[0].alpha_3\n",
    "    except:\n",
    "        pass\n",
    "    return \"\"\n"
   ]
  },
  {
   "cell_type": "code",
   "execution_count": null,
   "metadata": {},
   "outputs": [],
   "source": [
    "diseases_mag_pairs = diseases_mag_pairs.groupby([\"con_pairs\", \"Disease\"],{ \"Count\":agg.SUM(\"Count\")})"
   ]
  },
  {
   "cell_type": "code",
   "execution_count": null,
   "metadata": {},
   "outputs": [],
   "source": [
    "# These examples are inspired from http://geopandas.org/mapping.html\n",
    "\n",
    "\n",
    "world = geopandas.read_file(\"http://thematicmapping.org/downloads/TM_WORLD_BORDERS_SIMPL-0.3.zip\")\n"
   ]
  },
  {
   "cell_type": "code",
   "execution_count": null,
   "metadata": {},
   "outputs": [],
   "source": [
    "df = diseases_mag_pairs.to_dataframe()"
   ]
  },
  {
   "cell_type": "code",
   "execution_count": null,
   "metadata": {},
   "outputs": [],
   "source": [
    "sf = df.groupby(\"Disease\").apply(lambda x: x.nlargest(10, 'Count')).reset_index(drop=True)  "
   ]
  },
  {
   "cell_type": "code",
   "execution_count": null,
   "metadata": {},
   "outputs": [],
   "source": [
    "sf =SFrame(sf)"
   ]
  },
  {
   "cell_type": "code",
   "execution_count": null,
   "metadata": {},
   "outputs": [],
   "source": [
    "world[\"ISO3\"] = world.apply(lambda x: get_iso(x[\"name\"]) if x[\"ISO3\"] == \"-99\" else x[\"ISO3\"], axis=1)"
   ]
  },
  {
   "cell_type": "code",
   "execution_count": null,
   "metadata": {},
   "outputs": [],
   "source": [
    "world[\"cord\"] = world[\"geometry\"].centroid\n"
   ]
  },
  {
   "cell_type": "code",
   "execution_count": null,
   "metadata": {},
   "outputs": [],
   "source": [
    "from geonamescache.mappers import country\n",
    "mapper = country(from_key='name', to_key='name')"
   ]
  },
  {
   "cell_type": "code",
   "execution_count": null,
   "metadata": {},
   "outputs": [],
   "source": [
    "import networkx as nx"
   ]
  },
  {
   "cell_type": "code",
   "execution_count": null,
   "metadata": {},
   "outputs": [],
   "source": [
    "g = nx.Graph()"
   ]
  },
  {
   "cell_type": "code",
   "execution_count": null,
   "metadata": {},
   "outputs": [],
   "source": [
    "pairs = diseases_mag_pairs.groupby([\"con_pairs\", \"Disease\"],{ \"Count\":agg.SUM(\"Count\")})"
   ]
  },
  {
   "cell_type": "code",
   "execution_count": null,
   "metadata": {},
   "outputs": [],
   "source": [
    "inter = get_research_cop(diseases_mag ,\"Dict of AuthorId_Country\", n=1).groupby([\"Disease\",\"con_pairs\"],agg.COUNT).sort(\"Count\",False)"
   ]
  },
  {
   "cell_type": "code",
   "execution_count": null,
   "metadata": {},
   "outputs": [],
   "source": [
    "inter[\"Country\"] = inter[\"con_pairs\"].apply(lambda x: x[0])"
   ]
  },
  {
   "cell_type": "code",
   "execution_count": null,
   "metadata": {},
   "outputs": [],
   "source": [
    "diseases_mag_pairs"
   ]
  },
  {
   "cell_type": "code",
   "execution_count": null,
   "metadata": {},
   "outputs": [],
   "source": [
    "import json\n",
    "graphs = dict(zip(spothlight,[nx.Graph() for x in spothlight]))\n",
    "for d in tqdm(spothlight):\n",
    "    total_papers = inter[inter[\"Disease\"]==d][\"Count\"].sum()\n",
    "    for line in inter[inter[\"Disease\"]==d]:\n",
    "        if line['Count']/total_papers>0.05:\n",
    "            \n",
    "            graphs[d].add_node(line[\"Country\"], weight=line['Count'])\n",
    "    nodes = set(graphs[d].nodes)\n",
    "    for line in pairs[pairs[\"Disease\"]==d]:\n",
    "        if line[\"con_pairs\"][0] in nodes and line[\"con_pairs\"][1] in  nodes:\n",
    "            graphs[d].add_edge(*line[\"con_pairs\"], weight=line['Count'])\n",
    "    nx.write_gml(  graphs[d], f\"output/Collab/Cyto/{d.replace('/','-')}.gml\")\n",
    "    with open(f\"output/Collab/Cyto/{d.replace('/','-')}.json\", \"w\") as f :\n",
    "        f.write(json.dumps(nx.cytoscape_data(graphs[d])))\n"
   ]
  },
  {
   "cell_type": "code",
   "execution_count": null,
   "metadata": {},
   "outputs": [],
   "source": [
    "import matplotlib.pyplot as plt"
   ]
  },
  {
   "cell_type": "code",
   "execution_count": null,
   "metadata": {},
   "outputs": [],
   "source": [
    "sars = world.merge(inter[inter[\"Disease\"]==\"SARS\"].to_dataframe(),left_on=\"NAME\", right_on=\"Country\")"
   ]
  },
  {
   "cell_type": "code",
   "execution_count": null,
   "metadata": {},
   "outputs": [],
   "source": [
    "!pip install descartes"
   ]
  },
  {
   "cell_type": "code",
   "execution_count": null,
   "metadata": {},
   "outputs": [],
   "source": [
    "import math\n",
    "from mpl_toolkits.axes_grid1 import make_axes_locatable\n",
    "fig, ax = plt.subplots(1,1,figsize=(20,20))\n",
    "\n",
    "# ax.set_aspect('equal')\n",
    "divider = make_axes_locatable(ax)\n",
    "\n",
    "cax = divider.append_axes(\"right\", size=\"5%\", pad=0.1)\n",
    "\n",
    "# world['pop_est_log'] = world['pop_est'].apply(lambda i: math.log(i) if i >0 else 0)\n",
    "s = sars.plot(ax=ax, column=\"Count\",cmap=\"OrRd\",  legend=True, cax=cax, zorder=2)\n",
    "world.plot(color='white', edgecolor='black',ax=s)\n",
    "ax.set_axis_off()\n",
    "plt.savefig(\"output/Collab/map.svg\")"
   ]
  },
  {
   "cell_type": "code",
   "execution_count": null,
   "metadata": {},
   "outputs": [],
   "source": [
    "inter = inter.join(inter.groupby(\"Disease\",{ \"Total\":agg.SUM(\"Count\")}))"
   ]
  },
  {
   "cell_type": "code",
   "execution_count": null,
   "metadata": {},
   "outputs": [],
   "source": [
    "inter[\"p%\"] = inter[\"Count\"]/ inter[\"Total\"]"
   ]
  },
  {
   "cell_type": "code",
   "execution_count": null,
   "metadata": {},
   "outputs": [],
   "source": [
    "inter = inter.sort([\"Disease\",\"p%\"],False)"
   ]
  },
  {
   "cell_type": "code",
   "execution_count": null,
   "metadata": {},
   "outputs": [],
   "source": []
  },
  {
   "cell_type": "code",
   "execution_count": null,
   "metadata": {},
   "outputs": [],
   "source": [
    "spothlight = sorted(spothlight,reverse=True)"
   ]
  },
  {
   "cell_type": "code",
   "execution_count": null,
   "metadata": {},
   "outputs": [],
   "source": [
    "res = []\n",
    "for d in spothlight:\n",
    "    res+=list(inter[inter[\"Disease\"]==d][\"p%\"].cumulative_sum())"
   ]
  },
  {
   "cell_type": "code",
   "execution_count": null,
   "metadata": {},
   "outputs": [],
   "source": [
    "inter[\"cumulative_sum\"]=res"
   ]
  },
  {
   "cell_type": "code",
   "execution_count": null,
   "metadata": {},
   "outputs": [],
   "source": [
    "inter[\"Pie_Country\"] = inter.apply(lambda x: \"Others\" if x[\"p%\"]<0.02 else x[\"Country\"])"
   ]
  },
  {
   "cell_type": "code",
   "execution_count": null,
   "metadata": {},
   "outputs": [],
   "source": [
    "inter2 = inter.groupby([\"Disease\",\"Pie_Country\"],{\"Count\":agg.SUM(\"Count\")})"
   ]
  },
  {
   "cell_type": "code",
   "execution_count": null,
   "metadata": {},
   "outputs": [],
   "source": [
    "countries = list(inter2[\"Pie_Country\"].unique())"
   ]
  },
  {
   "cell_type": "code",
   "execution_count": null,
   "metadata": {},
   "outputs": [],
   "source": []
  },
  {
   "cell_type": "code",
   "execution_count": null,
   "metadata": {},
   "outputs": [],
   "source": [
    "inter2 = inter2.sort([\"Disease\",\"Count\"],False)"
   ]
  },
  {
   "cell_type": "code",
   "execution_count": null,
   "metadata": {},
   "outputs": [],
   "source": [
    "from matplotlib.colors import ListedColormap\n",
    "import math\n",
    "\n",
    "def generate_colormap(N):\n",
    "    arr = np.arange(N)/N\n",
    "    N_up = int(math.ceil(N/7)*7)\n",
    "    arr.resize(N_up)\n",
    "    arr = arr.reshape(7,N_up//7).T.reshape(-1)\n",
    "    ret = plt.cm.GnBu_r(arr)\n",
    "    n = ret[:,3].size\n",
    "    a = n//2\n",
    "    b = n-a\n",
    "    for i in range(3):\n",
    "        ret[0:n//2,i] *= np.arange(0.2,1,0.8/a)\n",
    "    ret[n//2:,3] *= np.arange(1,0.1,-0.9/b)\n",
    "#     print(ret)\n",
    "    return ret"
   ]
  },
  {
   "cell_type": "code",
   "execution_count": null,
   "metadata": {},
   "outputs": [],
   "source": [
    "\n",
    "colordict={}\n",
    "\n",
    "for l,c in zip(countries,generate_colormap(len(countries))):\n",
    "    colordict[l]=c\n",
    "\n",
    "# fig = plt.figure(figsize=[10, 10])\n",
    "# ax = fig.add_subplot(111)\n",
    "\n",
    "# pie_wedge_collection = ax.pie(slices, labels=labels, labeldistance=1.05)#, autopct=make_autopct(slices))\n",
    "\n",
    "# for pie_wedge in pie_wedge_collection[0]:\n",
    "#     pie_wedge.set_edgecolor('white')\n",
    "#     pie_wedge.set_facecolor(colordict[pie_wedge.get_label()])"
   ]
  },
  {
   "cell_type": "code",
   "execution_count": null,
   "metadata": {},
   "outputs": [],
   "source": [
    "fig, axes = plt.subplots(3,3,figsize=(20,20))\n",
    "axes = axes.flatten()\n",
    "\n",
    "for d,ax in zip(sorted(spothlight),axes):\n",
    "\n",
    "    ax.set_title(f'{d}  ({len(set(inter[inter[\"Disease\"]==d][\"Country\"]))})', fontsize=18)\n",
    "    data = inter2[inter2[\"Disease\"]==d]\n",
    "    pie_wedge_collection = ax.pie(data[\"Count\"],  labels=data[\"Pie_Country\"], textprops={'fontsize': 13},  labeldistance=1.15)\n",
    "    \n",
    "    for pie_wedge in pie_wedge_collection[0]:\n",
    "        pie_wedge.set_edgecolor('white')\n",
    "        pie_wedge.set_facecolor(colordict[pie_wedge.get_label()])\n",
    "fig.tight_layout()\n",
    "plt.savefig(\"output/Collab/inter.svg\")"
   ]
  },
  {
   "cell_type": "code",
   "execution_count": null,
   "metadata": {},
   "outputs": [],
   "source": [
    "world2 = geopandas.read_file(geopandas.datasets.get_path('naturalearth_lowres'))"
   ]
  },
  {
   "cell_type": "code",
   "execution_count": null,
   "metadata": {},
   "outputs": [],
   "source": [
    "world2= world2.replace(\"United States of America\", \"United States\")"
   ]
  },
  {
   "cell_type": "code",
   "execution_count": null,
   "metadata": {},
   "outputs": [],
   "source": [
    "inter = inter.join(SFrame(world2[[\"name\",\"continent\"]]), on={\"Country\":\"name\"},how='left')"
   ]
  },
  {
   "cell_type": "code",
   "execution_count": null,
   "metadata": {},
   "outputs": [],
   "source": [
    "first_author =  diseases_mag.groupby([\"Disease\",\"first_atuhor_country\"], agg.COUNT())"
   ]
  },
  {
   "cell_type": "code",
   "execution_count": null,
   "metadata": {},
   "outputs": [],
   "source": [
    "first_author = first_author[first_author[\"first_atuhor_country\"]!=\"\"]"
   ]
  },
  {
   "cell_type": "code",
   "execution_count": null,
   "metadata": {},
   "outputs": [],
   "source": [
    "first_author = first_author.join(first_author.groupby(\"Disease\",{ \"Total\":agg.SUM(\"Count\")}))"
   ]
  },
  {
   "cell_type": "code",
   "execution_count": null,
   "metadata": {},
   "outputs": [],
   "source": [
    "first_author[\"p%\"] = first_author[\"Count\"]/ first_author[\"Total\"]"
   ]
  },
  {
   "cell_type": "code",
   "execution_count": null,
   "metadata": {},
   "outputs": [],
   "source": [
    "first_author = first_author.sort([\"Disease\",\"p%\"],False)"
   ]
  },
  {
   "cell_type": "code",
   "execution_count": null,
   "metadata": {},
   "outputs": [],
   "source": [
    "spothlight = sorted(spothlight,reverse=True)"
   ]
  },
  {
   "cell_type": "code",
   "execution_count": null,
   "metadata": {},
   "outputs": [],
   "source": [
    "res = []\n",
    "for d in spothlight:\n",
    "    res+=list(first_author[first_author[\"Disease\"]==d][\"p%\"].cumulative_sum())"
   ]
  },
  {
   "cell_type": "code",
   "execution_count": null,
   "metadata": {},
   "outputs": [],
   "source": [
    "first_author[\"cumulative_sum\"]=res"
   ]
  },
  {
   "cell_type": "code",
   "execution_count": null,
   "metadata": {},
   "outputs": [],
   "source": [
    "for d in spothlight:\n",
    "    print(first_author[first_author[\"Disease\"]==d][:6][[\"Disease\",\"first_atuhor_country\",\"cumulative_sum\"]])"
   ]
  },
  {
   "cell_type": "code",
   "execution_count": null,
   "metadata": {},
   "outputs": [],
   "source": [
    "first_author = first_author.join(SFrame(world2[[\"name\",\"continent\"]]), on={\"first_atuhor_country\":\"name\"},how='left')"
   ]
  },
  {
   "cell_type": "code",
   "execution_count": null,
   "metadata": {},
   "outputs": [],
   "source": [
    "first_author_continent = first_author.groupby([\"Disease\",\"continent\"],{\"Count\":agg.SUM(\"Count\"), \"p%\":agg.SUM(\"p%\")})"
   ]
  },
  {
   "cell_type": "code",
   "execution_count": null,
   "metadata": {},
   "outputs": [],
   "source": [
    "first_author_continent[first_author_continent[\"continent\"]!=None].sort([\"Disease\",\"p%\"]).print_rows(63)"
   ]
  },
  {
   "cell_type": "code",
   "execution_count": null,
   "metadata": {},
   "outputs": [],
   "source": []
  },
  {
   "cell_type": "code",
   "execution_count": null,
   "metadata": {},
   "outputs": [],
   "source": []
  }
 ],
 "metadata": {
  "kernelspec": {
   "display_name": "Python [conda env:giga]",
   "language": "python",
   "name": "conda-env-giga-py"
  },
  "language_info": {
   "codemirror_mode": {
    "name": "ipython",
    "version": 3
   },
   "file_extension": ".py",
   "mimetype": "text/x-python",
   "name": "python",
   "nbconvert_exporter": "python",
   "pygments_lexer": "ipython3",
   "version": "3.7.7"
  }
 },
 "nbformat": 4,
 "nbformat_minor": 4
}
