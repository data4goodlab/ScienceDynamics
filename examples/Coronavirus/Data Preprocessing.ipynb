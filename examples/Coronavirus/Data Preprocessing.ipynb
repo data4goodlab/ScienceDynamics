{
 "cells": [
  {
   "cell_type": "code",
   "execution_count": 1,
   "metadata": {},
   "outputs": [
    {
     "name": "stdout",
     "output_type": "stream",
     "text": [
      "Modules to reload:\n",
      "all-except-skipped\n",
      "\n",
      "Modules to skip:\n",
      "\n"
     ]
    }
   ],
   "source": [
    "%load_ext autoreload\n",
    "%autoreload 2\n",
    "%aimport\n",
    "%matplotlib inline"
   ]
  },
  {
   "cell_type": "code",
   "execution_count": 2,
   "metadata": {},
   "outputs": [],
   "source": [
    "import os\n",
    "import sys\n",
    "nb_dir = os.path.dirname(os.path.split(os.getcwd())[0])\n",
    "if nb_dir not in sys.path:\n",
    "    sys.path.append(nb_dir)"
   ]
  },
  {
   "cell_type": "code",
   "execution_count": 3,
   "metadata": {},
   "outputs": [],
   "source": [
    "from tqdm import tqdm_notebook as tqdm\n",
    "import pandas as pd\n",
    "from turicreate import SFrame, load_sframe\n",
    "from pathlib import Path\n",
    "import turicreate.aggregate as agg\n"
   ]
  },
  {
   "cell_type": "code",
   "execution_count": 4,
   "metadata": {},
   "outputs": [],
   "source": [
    "import numpy as np\n",
    "from ScienceDynamics.config import EXTENDED_PAPERS_SFRAME\n",
    "from ScienceDynamics.utils import detect_lang, filter_sframe_by_func\n",
    "import numpy as np\n",
    "import matplotlib.pyplot as plt\n",
    "from collections import defaultdict"
   ]
  },
  {
   "cell_type": "markdown",
   "metadata": {},
   "source": [
    "## Disease List"
   ]
  },
  {
   "cell_type": "code",
   "execution_count": 5,
   "metadata": {},
   "outputs": [
    {
     "data": {
      "text/html": [
       "<pre>Finished parsing file /storage/homedir/dima/Projects/Giga/ScienceDynamics/examples/Coronavirus/Data/diseases_list.csv</pre>"
      ],
      "text/plain": [
       "Finished parsing file /storage/homedir/dima/Projects/Giga/ScienceDynamics/examples/Coronavirus/Data/diseases_list.csv"
      ]
     },
     "metadata": {},
     "output_type": "display_data"
    },
    {
     "name": "stdout",
     "output_type": "stream",
     "text": [
      "------------------------------------------------------\n",
      "Inferred types from first 100 line(s) of file as \n",
      "column_type_hints=[str,str,str]\n",
      "If parsing fails due to incorrect types, you can correct"
     ]
    },
    {
     "data": {
      "text/html": [
       "<pre>Parsing completed. Parsed 9 lines in 0.058738 secs.</pre>"
      ],
      "text/plain": [
       "Parsing completed. Parsed 9 lines in 0.058738 secs."
      ]
     },
     "metadata": {},
     "output_type": "display_data"
    },
    {
     "name": "stdout",
     "output_type": "stream",
     "text": [
      "\n",
      "the inferred type list above and pass it to read_csv in\n",
      "the column_type_hints argument\n",
      "------------------------------------------------------\n"
     ]
    },
    {
     "data": {
      "text/html": [
       "<pre>Finished parsing file /storage/homedir/dima/Projects/Giga/ScienceDynamics/examples/Coronavirus/Data/diseases_list.csv</pre>"
      ],
      "text/plain": [
       "Finished parsing file /storage/homedir/dima/Projects/Giga/ScienceDynamics/examples/Coronavirus/Data/diseases_list.csv"
      ]
     },
     "metadata": {},
     "output_type": "display_data"
    },
    {
     "data": {
      "text/html": [
       "<pre>Parsing completed. Parsed 9 lines in 0.038593 secs.</pre>"
      ],
      "text/plain": [
       "Parsing completed. Parsed 9 lines in 0.038593 secs."
      ]
     },
     "metadata": {},
     "output_type": "display_data"
    }
   ],
   "source": [
    "diseases_list = SFrame.read_csv(\"Data/diseases_list.csv\")"
   ]
  },
  {
   "cell_type": "code",
   "execution_count": 6,
   "metadata": {},
   "outputs": [
    {
     "data": {
      "text/plain": [
       "9"
      ]
     },
     "execution_count": 6,
     "metadata": {},
     "output_type": "execute_result"
    }
   ],
   "source": [
    "len(diseases_list)"
   ]
  },
  {
   "cell_type": "code",
   "execution_count": 8,
   "metadata": {},
   "outputs": [
    {
     "data": {
      "text/html": [
       "<pre>Using default 12 lambda workers.</pre>"
      ],
      "text/plain": [
       "Using default 12 lambda workers."
      ]
     },
     "metadata": {},
     "output_type": "display_data"
    },
    {
     "data": {
      "text/html": [
       "<pre>To maximize the degree of parallelism, add the following code to the beginning of the program:</pre>"
      ],
      "text/plain": [
       "To maximize the degree of parallelism, add the following code to the beginning of the program:"
      ]
     },
     "metadata": {},
     "output_type": "display_data"
    },
    {
     "data": {
      "text/html": [
       "<pre>\"turicreate.config.set_runtime_config('TURI_DEFAULT_NUM_PYLAMBDA_WORKERS', 24)\"</pre>"
      ],
      "text/plain": [
       "\"turicreate.config.set_runtime_config('TURI_DEFAULT_NUM_PYLAMBDA_WORKERS', 24)\""
      ]
     },
     "metadata": {},
     "output_type": "display_data"
    },
    {
     "data": {
      "text/html": [
       "<pre>Note that increasing the degree of parallelism also increases the memory footprint.</pre>"
      ],
      "text/plain": [
       "Note that increasing the degree of parallelism also increases the memory footprint."
      ]
     },
     "metadata": {},
     "output_type": "display_data"
    }
   ],
   "source": [
    "for c in diseases_list.column_names():\n",
    "    diseases_list[c] = diseases_list[c].apply(lambda x: x.strip())"
   ]
  },
  {
   "cell_type": "code",
   "execution_count": 9,
   "metadata": {},
   "outputs": [],
   "source": [
    "def get_diseases_by_datasource(diseases_list, source=\"GDB\"):\n",
    "    diseases = diseases_list[[source]].unique()\n",
    "    diseases = diseases[diseases[source]!=\"\"]\n",
    "    diseases[\"id\"] = range(len(diseases))\n",
    "    return diseases_list.join(diseases)"
   ]
  },
  {
   "cell_type": "code",
   "execution_count": 10,
   "metadata": {},
   "outputs": [],
   "source": [
    "def normalize_diseases_list(sf):\n",
    "    sf = sf.pack_columns([\"GIDEON\",\"Alias\",\"Alias2\"], new_column_name=\"diseases\").stack('diseases', new_column_name='diseases')\n",
    "    sf = sf[sf[\"diseases\"]!=\"\"]\n",
    "    sf[\"diseases\"] = sf[\"diseases\"].apply(lambda x: x.lower())\n",
    "    return sf[[\"id\", \"diseases\"]].unique()"
   ]
  },
  {
   "cell_type": "code",
   "execution_count": 11,
   "metadata": {},
   "outputs": [],
   "source": [
    "gideon_diseases = get_diseases_by_datasource(diseases_list, source=\"GIDEON\")\n",
    "diseases_id = normalize_diseases_list(gideon_diseases)"
   ]
  },
  {
   "cell_type": "code",
   "execution_count": 12,
   "metadata": {},
   "outputs": [],
   "source": [
    "gideon_diseases[[\"id\",\"GIDEON\"]].rename({\"GIDEON\":\"disease\"}).save(\"Data/disease_names.csv\")"
   ]
  },
  {
   "cell_type": "code",
   "execution_count": 13,
   "metadata": {},
   "outputs": [],
   "source": [
    "disease_set = set(diseases_id[\"diseases\"])"
   ]
  },
  {
   "cell_type": "code",
   "execution_count": 15,
   "metadata": {},
   "outputs": [],
   "source": [
    "diseases_id.save(\"Data/diseases_id.csv\",\"csv\")"
   ]
  },
  {
   "cell_type": "code",
   "execution_count": 16,
   "metadata": {},
   "outputs": [
    {
     "data": {
      "text/html": [
       "<pre>Finished parsing file /storage/homedir/dima/Projects/Giga/ScienceDynamics/examples/Coronavirus/Data/diseases_id.csv</pre>"
      ],
      "text/plain": [
       "Finished parsing file /storage/homedir/dima/Projects/Giga/ScienceDynamics/examples/Coronavirus/Data/diseases_id.csv"
      ]
     },
     "metadata": {},
     "output_type": "display_data"
    },
    {
     "data": {
      "text/html": [
       "<pre>Parsing completed. Parsed 18 lines in 0.074727 secs.</pre>"
      ],
      "text/plain": [
       "Parsing completed. Parsed 18 lines in 0.074727 secs."
      ]
     },
     "metadata": {},
     "output_type": "display_data"
    },
    {
     "name": "stdout",
     "output_type": "stream",
     "text": [
      "------------------------------------------------------\n",
      "Inferred types from first 100 line(s) of file as \n",
      "column_type_hints=[str,int]\n",
      "If parsing fails due to incorrect types, you can correct\n",
      "the inferred type list above and pass it to read_csv in\n",
      "the column_type_hints argument\n",
      "------------------------------------------------------\n"
     ]
    },
    {
     "data": {
      "text/html": [
       "<pre>Finished parsing file /storage/homedir/dima/Projects/Giga/ScienceDynamics/examples/Coronavirus/Data/diseases_id.csv</pre>"
      ],
      "text/plain": [
       "Finished parsing file /storage/homedir/dima/Projects/Giga/ScienceDynamics/examples/Coronavirus/Data/diseases_id.csv"
      ]
     },
     "metadata": {},
     "output_type": "display_data"
    },
    {
     "data": {
      "text/html": [
       "<pre>Parsing completed. Parsed 18 lines in 0.057451 secs.</pre>"
      ],
      "text/plain": [
       "Parsing completed. Parsed 18 lines in 0.057451 secs."
      ]
     },
     "metadata": {},
     "output_type": "display_data"
    }
   ],
   "source": [
    "diseases_id = SFrame.read_csv(\"Data/diseases_id.csv\")\n",
    "disease_set = set(diseases_id[\"diseases\"])"
   ]
  },
  {
   "cell_type": "code",
   "execution_count": 27,
   "metadata": {},
   "outputs": [],
   "source": [
    "disease_names = gideon_diseases[[\"id\",\"GIDEON\"]].rename({\"GIDEON\":\"disease\"})"
   ]
  },
  {
   "cell_type": "markdown",
   "metadata": {},
   "source": [
    "## Bibliometric Datasets"
   ]
  },
  {
   "cell_type": "code",
   "execution_count": 17,
   "metadata": {},
   "outputs": [],
   "source": [
    "import re\n",
    "\n",
    "def ngrams(tokens, n):\n",
    "    # Use the zip function to help us generate n-grams\n",
    "    # Concatentate the tokens into ngrams and return\n",
    "    ngrams = zip(*[tokens[i:] for i in range(n)])\n",
    "    return [\" \".join(ngram) for ngram in ngrams]\n",
    "\n",
    "\n",
    "def word_ngrams(s, max_len=None,  min_len=0):\n",
    "    s = s.lower()\n",
    "    s = re.sub(r'[^a-zA-Z0-9\\s]', ' ', s)\n",
    "    tokens = [token for token in s.split(\" \") if token != \"\"]\n",
    "    if max_len is None:\n",
    "        max_len = len(tokens)\n",
    "    elif max_len > len(tokens):\n",
    "        max_len = len(tokens)\n",
    "    return {t for i in range(min_len, max_len) for t in ngrams(tokens, i+1)}"
   ]
  },
  {
   "cell_type": "code",
   "execution_count": 18,
   "metadata": {},
   "outputs": [],
   "source": [
    "def fiter_diseases(diseases_sf, disease_set, max_len, title_field=\"Normalized paper title\"):\n",
    "    diseases_sf[\"diseases\"] = diseases_sf[title_field].apply(lambda t: disease_set & word_ngrams(t, max_len) )\n",
    "    diseases_sf = diseases_sf[diseases_sf[\"diseases\"]!=[]]\n",
    "    return diseases_sf.stack(\"diseases\",new_column_name=\"disease\")"
   ]
  },
  {
   "cell_type": "code",
   "execution_count": 246,
   "metadata": {},
   "outputs": [],
   "source": [
    "import random\n",
    "def sf_unique(sf, fields):\n",
    "    index_field = f\"index_{random.getrandbits(128)}\"\n",
    "    sf[index_field]=range(len(sf))\n",
    "    i = sf.groupby(fields, {index_field:agg.SELECT_ONE(index_field)})[index_field]\n",
    "    return sf.filter_by(i,index_field).remove_column(index_field)\n",
    "           \n",
    "def normalize_filtered_diseses(f_mag,  disease_set, max_len, title_field=\"Normalized paper title\"):\n",
    "    diseases_f_mag = fiter_diseases(f_mag, disease_set, max_len, \"PaperTitle\")\n",
    "    diseases_f_mag = diseases_f_mag.join(diseases_id, on={\"disease\":\"diseases\"})\n",
    "    diseases_f_mag = diseases_f_mag.remove_column(\"disease\").join(disease_names, on=\"id\")\n",
    "    return sf_unique(diseases_f_mag,[\"PaperId\", \"id\"])\n",
    "\n",
    "def filter_by_cats(mag,cats, disease_set, max_len, title_field=\"Normalized paper title\"):\n",
    "    papaers_field = mag.paper_fields_of_study.join(mag.fields_of_study.filter_by(cats, \"NormalizedName\")[[\"FieldOfStudyId\",\"DisplayName\"]], on=\"FieldOfStudyId\")\n",
    "    f_mag = mag.extended_papers.filter_by(papaers_field[\"PaperId\"], \"PaperId\")\n",
    "    return f_mag, normalize_filtered_diseses(f_mag, disease_set, max_len, title_field)"
   ]
  },
  {
   "cell_type": "code",
   "execution_count": 19,
   "metadata": {},
   "outputs": [],
   "source": [
    "max_len = max([len(d.split(\" \")) for d in disease_set])"
   ]
  },
  {
   "cell_type": "markdown",
   "metadata": {},
   "source": [
    "### Microsoft Academics"
   ]
  },
  {
   "cell_type": "code",
   "execution_count": 299,
   "metadata": {},
   "outputs": [],
   "source": [
    "from ScienceDynamics.datasets.microsoft_academic_graph import MicrosoftAcademicGraph\n",
    "from ScienceDynamics.config.configs import DATASETS_BASE_DIR\n",
    "mag = MicrosoftAcademicGraph(DATASETS_BASE_DIR)"
   ]
  },
  {
   "cell_type": "code",
   "execution_count": 300,
   "metadata": {},
   "outputs": [],
   "source": [
    "diseases_mag = normalize_filtered_diseses(mag.extended_papers, disease_set, max_len, \"PaperTitle\")"
   ]
  },
  {
   "cell_type": "code",
   "execution_count": 301,
   "metadata": {},
   "outputs": [],
   "source": [
    "diseases_mag.save(\"Data/mag/diseases_mag.sframe\")"
   ]
  },
  {
   "cell_type": "code",
   "execution_count": null,
   "metadata": {},
   "outputs": [],
   "source": []
  },
  {
   "cell_type": "code",
   "execution_count": 249,
   "metadata": {},
   "outputs": [],
   "source": [
    "med_mag, diseases_med_mag = filter_by_cats(mag,cats, disease_set, max_len)"
   ]
  },
  {
   "cell_type": "code",
   "execution_count": 247,
   "metadata": {},
   "outputs": [],
   "source": [
    "virology_mag, diseases_virology_mag = filter_by_cats(mag,[\"virology\"], disease_set, max_len)"
   ]
  },
  {
   "cell_type": "code",
   "execution_count": 104,
   "metadata": {},
   "outputs": [],
   "source": [
    "viro_mag = load_sframe(\"Data/mag/viro_mag2.sframe\")\n",
    "diseases_viro_mag = load_sframe(\"Data/mag/diseases_viro_mag2.sframe\")"
   ]
  },
  {
   "cell_type": "code",
   "execution_count": 259,
   "metadata": {},
   "outputs": [
    {
     "data": {
      "text/plain": [
       "0.07894917854969709"
      ]
     },
     "execution_count": 259,
     "metadata": {},
     "output_type": "execute_result"
    }
   ],
   "source": [
    "len(diseases_virology_mag[(diseases_virology_mag[\"disease\"]==\"HIV/AIDS\")&(diseases_virology_mag[\"Year\"]>2000)&(diseases_virology_mag[\"Ref Number\"]>5)])/len(virology_mag[(virology_mag[\"Year\"]>2000)&(virology_mag[\"Ref Number\"]>5)])"
   ]
  },
  {
   "cell_type": "code",
   "execution_count": 263,
   "metadata": {},
   "outputs": [],
   "source": [
    "sars_cor =  diseases_virology_mag[((diseases_virology_mag[\"disease\"]==\"SARS\")| (diseases_virology_mag[\"disease\"]==\"MERS Coronavirus\"))&(diseases_virology_mag[\"Ref Number\"]>5)]"
   ]
  },
  {
   "cell_type": "code",
   "execution_count": 294,
   "metadata": {},
   "outputs": [
    {
     "data": {
      "text/plain": [
       "0.0040900552924680545"
      ]
     },
     "execution_count": 294,
     "metadata": {},
     "output_type": "execute_result"
    }
   ],
   "source": [
    "len(set(sars_cor[sars_cor[\"Year\"]>=2000][\"PaperId\"])) / len(virology_mag[(virology_mag[\"Year\"]>=2000)&(virology_mag[\"Ref Number\"]>5)])"
   ]
  },
  {
   "cell_type": "code",
   "execution_count": 298,
   "metadata": {},
   "outputs": [
    {
     "data": {
      "text/plain": [
       "1908211"
      ]
     },
     "execution_count": 298,
     "metadata": {},
     "output_type": "execute_result"
    }
   ],
   "source": [
    "len(virology_mag)"
   ]
  },
  {
   "cell_type": "code",
   "execution_count": 297,
   "metadata": {},
   "outputs": [],
   "source": [
    "virology_mag.save(\"Data/mag/viro_mag.sframe\")\n",
    "diseases_virology_mag.save(\"Data/mag/diseases_viro_mag.sframe\")"
   ]
  },
  {
   "cell_type": "code",
   "execution_count": 296,
   "metadata": {},
   "outputs": [],
   "source": [
    "med_mag.save(\"Data/mag/med_mag.sframe\")\n",
    "diseases_med_mag.save(\"Data/mag/diseases_med_mag.sframe\")"
   ]
  },
  {
   "cell_type": "markdown",
   "metadata": {
    "toc-hr-collapsed": true,
    "toc-nb-collapsed": true
   },
   "source": [
    "## PubMed"
   ]
  },
  {
   "cell_type": "code",
   "execution_count": 78,
   "metadata": {
    "collapsed": true,
    "jupyter": {
     "outputs_hidden": true
    }
   },
   "outputs": [],
   "source": [
    "from pathlib import Path\n",
    "if not Path(\"Data/pubmed/pubmed.sframe\").exists():\n",
    "    pubmed = SFrame.read_json(\"Data/pubmed/pubmed.json\")\n",
    "    pubmed = pubmed[pubmed[\"pubdate\"]!=\"\"]\n",
    "    pubmed[\"Normalized paper title\"] = pubmed[\"title\"].apply(lambda x: x.lower().replace(\"[\",\"\").replace(\"].\",\"\"))\n",
    "    pubmed[\"pubdate\"] = pubmed[\"pubdate\"].astype(int)\n",
    "    pubmed = pubmed.rename({\"pubdate\":\"year\"})\n",
    "    pubmed[\"pmid\"] = pubmed[\"pmid\"].astype(int)\n",
    "    pubmed[\"mesh_terms\"] = pubmed[\"mesh_terms\"].apply(lambda x: x.split(\";\"))\n",
    "    pubmed.save(\"Data/pubmed/pubmed.sframe\")\n",
    "else:\n",
    "    pubmed = load_sframe(\"Data/pubmed/pubmed.sframe\")\n",
    "    diseases_pubmed = fiter_diseases(pubmed,  disease_set, max_len)\n",
    "    diseases_pubmed = diseases_pubmed.join(diseases_id)\n",
    "    diseases_pubmed.save(\"Data/pubmed/diseases_pubmed.sframe\")"
   ]
  },
  {
   "cell_type": "code",
   "execution_count": 79,
   "metadata": {
    "collapsed": true,
    "jupyter": {
     "outputs_hidden": true
    }
   },
   "outputs": [],
   "source": [
    "diseases_pubmed = fiter_diseases(pubmed,  disease_set, max_len)"
   ]
  },
  {
   "cell_type": "code",
   "execution_count": 33,
   "metadata": {
    "collapsed": true,
    "jupyter": {
     "outputs_hidden": true
    }
   },
   "outputs": [],
   "source": [
    "pubmed.save(\"Data/pubmed/pubmed.sframe\")"
   ]
  },
  {
   "cell_type": "code",
   "execution_count": 54,
   "metadata": {
    "collapsed": true,
    "jupyter": {
     "outputs_hidden": true
    }
   },
   "outputs": [],
   "source": [
    "pubmed = load_sframe(\"Data/pubmed/pubmed.sframe\")\n"
   ]
  },
  {
   "cell_type": "code",
   "execution_count": 55,
   "metadata": {
    "collapsed": true,
    "jupyter": {
     "outputs_hidden": true
    }
   },
   "outputs": [],
   "source": [
    "pubmed[\"pmid\"] = pubmed[\"pmid\"].astype(int)"
   ]
  },
  {
   "cell_type": "code",
   "execution_count": 59,
   "metadata": {
    "collapsed": true,
    "jupyter": {
     "outputs_hidden": true
    }
   },
   "outputs": [],
   "source": [
    "pubmed[\"mesh_terms_norm\"] = pubmed[\"mesh_terms\"].apply(lambda terms: terms.split(\";\") )"
   ]
  },
  {
   "cell_type": "code",
   "execution_count": 60,
   "metadata": {
    "collapsed": true,
    "jupyter": {
     "outputs_hidden": true
    }
   },
   "outputs": [],
   "source": [
    "pubmed[\"mesh_terms_norm\"] = pubmed[\"mesh_terms_norm\"].apply(lambda terms: [t.strip() for t in terms] )"
   ]
  },
  {
   "cell_type": "code",
   "execution_count": 61,
   "metadata": {
    "collapsed": true,
    "jupyter": {
     "outputs_hidden": true
    }
   },
   "outputs": [],
   "source": [
    "def fiter_mesh(diseases_sf, disease_set, title_field=\"mesh_terms_norm\"):\n",
    "    diseases_sf[\"diseases\"] = diseases_sf[title_field].apply(lambda t: disease_set & set(t) )\n",
    "    diseases_sf = diseases_sf[diseases_sf[\"diseases\"]!=[]]\n",
    "    return diseases_sf.stack(\"diseases\",new_column_name=\"disease\")"
   ]
  },
  {
   "cell_type": "code",
   "execution_count": 205,
   "metadata": {
    "collapsed": true,
    "jupyter": {
     "outputs_hidden": true
    }
   },
   "outputs": [],
   "source": [
    "diseases_pubmed_mesh = fiter_mesh(pubmed,  disease_set)\n",
    "diseases_pubmed_mesh = diseases_pubmed_mesh.join(diseases_id, on={\"disease\":\"diseases\"})"
   ]
  },
  {
   "cell_type": "code",
   "execution_count": 207,
   "metadata": {
    "collapsed": true,
    "jupyter": {
     "outputs_hidden": true
    }
   },
   "outputs": [],
   "source": [
    "diseases_pubmed_mesh = diseases_pubmed_mesh.join(diseases_id, on={\"disease\":\"diseases\"})"
   ]
  },
  {
   "cell_type": "code",
   "execution_count": 211,
   "metadata": {
    "collapsed": true,
    "jupyter": {
     "outputs_hidden": true
    }
   },
   "outputs": [],
   "source": [
    "diseases_pubmed_mesh = diseases_pubmed_mesh.remove_column(\"disease\").join(disease_names, on={\"id\":\"id\"})"
   ]
  },
  {
   "cell_type": "code",
   "execution_count": 215,
   "metadata": {
    "collapsed": true,
    "jupyter": {
     "outputs_hidden": true
    }
   },
   "outputs": [],
   "source": [
    "diseases_pubmed_mesh.save(\"Data/pubmed/diseases_pubmed_mesh.sframe\")"
   ]
  },
  {
   "cell_type": "code",
   "execution_count": null,
   "metadata": {
    "collapsed": true,
    "jupyter": {
     "outputs_hidden": true
    }
   },
   "outputs": [],
   "source": [
    "diseases_pubmed = diseases_pubmed.unique()"
   ]
  },
  {
   "cell_type": "code",
   "execution_count": null,
   "metadata": {
    "collapsed": true,
    "jupyter": {
     "outputs_hidden": true
    }
   },
   "outputs": [],
   "source": [
    "diseases_pubmed[\"mesh_terms\"] = diseases_pubmed[\"mesh_terms\"].apply(lambda x: x.split(\";\"))"
   ]
  },
  {
   "cell_type": "code",
   "execution_count": 118,
   "metadata": {
    "collapsed": true,
    "jupyter": {
     "outputs_hidden": true
    }
   },
   "outputs": [],
   "source": [
    "# pubmed = load_sframe(\"Data/pubmed/pubmed.sframe\")\n",
    "# diseases_pubmed = fiter_diseases(pubmed,  disease_set, max_len)\n",
    "\n",
    "# diseases_pubmed = diseases_pubmed.rename({\"pubdate\":\"year\"})\n",
    "diseases_pubmed = diseases_pubmed.remove_column(\"disease\").join(disease_names, on={\"id\":\"id\"})\n",
    "diseases_pubmed.save(\"Data/pubmed/diseases_pubmed.sframe\")"
   ]
  },
  {
   "cell_type": "code",
   "execution_count": 164,
   "metadata": {
    "collapsed": true,
    "jupyter": {
     "outputs_hidden": true
    }
   },
   "outputs": [],
   "source": [
    "diseases_pubmed.save(\"Data/pubmed/diseases_pubmed.sframe\")"
   ]
  },
  {
   "cell_type": "code",
   "execution_count": 7,
   "metadata": {
    "collapsed": true,
    "jupyter": {
     "outputs_hidden": true
    }
   },
   "outputs": [],
   "source": [
    "diseases_pubmed = load_sframe(\"Data/pubmed/diseases_pubmed.sframe\")"
   ]
  },
  {
   "cell_type": "code",
   "execution_count": 8,
   "metadata": {
    "collapsed": true,
    "jupyter": {
     "outputs_hidden": true
    }
   },
   "outputs": [],
   "source": [
    "spothlight = [\"SARS\",\"MERS Coronavirus\", \"Avian Influenza\",\"Ebola\", \"Influenza\", \"HIV/AIDS\",\"Hepatitis B\",\"Hepatitis C\", \"Swine Flu\"]"
   ]
  },
  {
   "cell_type": "code",
   "execution_count": 9,
   "metadata": {
    "collapsed": true,
    "jupyter": {
     "outputs_hidden": true
    }
   },
   "outputs": [],
   "source": [
    "diseases_pubmed = diseases_pubmed.filter_by(spothlight, \"disease\")"
   ]
  },
  {
   "cell_type": "code",
   "execution_count": 10,
   "metadata": {
    "collapsed": true,
    "jupyter": {
     "outputs_hidden": true
    }
   },
   "outputs": [],
   "source": [
    "mesh_terms = diseases_pubmed.stack(\"mesh_terms\", new_column_name=\"mesh_term\")"
   ]
  },
  {
   "cell_type": "code",
   "execution_count": 100,
   "metadata": {
    "collapsed": true,
    "jupyter": {
     "outputs_hidden": true
    }
   },
   "outputs": [
    {
     "data": {
      "text/plain": [
       "{'value': ' D019694:Hepatitis B, Chronic', 'count': 10073}"
      ]
     },
     "execution_count": 100,
     "metadata": {},
     "output_type": "execute_result"
    }
   ],
   "source": [
    "mesh_terms[mesh_terms[\"disease\"]==\"Hepatitis B\"][\"mesh_term\"].value_counts()[7]"
   ]
  },
  {
   "cell_type": "code",
   "execution_count": 101,
   "metadata": {
    "collapsed": true,
    "jupyter": {
     "outputs_hidden": true
    }
   },
   "outputs": [],
   "source": [
    "mesh = {'D045473:SARS Virus','D045169:Severe Acute Respiratory Syndrome', 'D065207:Middle East Respiratory Syndrome Coronavirus',\n",
    " \"D005585:Influenza in Birds\",'D053124:Influenza A Virus, H5N1 Subtype',\"D029043:Ebolavirus\",\"D019142:Hemorrhagic Fever, Ebola\",\n",
    "\"D007251:Influenza, Human\",\"D007252:Influenza Vaccines0\",\"D015658:HIV Infections\",\"D015497:HIV-1\",\"D006509:Hepatitis B\",\"D006515:Hepatitis B virus\"\n",
    ",\"D006526:Hepatitis C\",\"D016174:Hepacivirus\",\"D053118:Influenza A Virus, H1N1 Subtype\",\"D019698:Hepatitis C, Chronic\",\"D019694:Hepatitis B, Chronic\"}"
   ]
  },
  {
   "cell_type": "code",
   "execution_count": 102,
   "metadata": {
    "collapsed": true,
    "jupyter": {
     "outputs_hidden": true
    }
   },
   "outputs": [],
   "source": [
    "diseases_pubmed_mesh = fiter_mesh(pubmed,  mesh)\n"
   ]
  },
  {
   "cell_type": "code",
   "execution_count": 104,
   "metadata": {
    "collapsed": true,
    "jupyter": {
     "outputs_hidden": true
    }
   },
   "outputs": [],
   "source": [
    "diseases_pubmed_mesh[\"pmid\"] = diseases_pubmed_mesh[\"pmid\"].astype(int)\n",
    "diseases_pubmed[\"pmid\"] = diseases_pubmed[\"pmid\"].astype(int)"
   ]
  },
  {
   "cell_type": "code",
   "execution_count": 105,
   "metadata": {
    "collapsed": true,
    "jupyter": {
     "outputs_hidden": true
    }
   },
   "outputs": [],
   "source": [
    "diseases_pubmed_mesh_left = diseases_pubmed_mesh.join(diseases_pubmed, on=\"pmid\", how=\"left\")"
   ]
  },
  {
   "cell_type": "code",
   "execution_count": 109,
   "metadata": {
    "collapsed": true,
    "jupyter": {
     "outputs_hidden": true
    }
   },
   "outputs": [
    {
     "data": {
      "text/plain": [
       "0.7314165356367686"
      ]
     },
     "execution_count": 109,
     "metadata": {},
     "output_type": "execute_result"
    }
   ],
   "source": [
    "1- len(diseases_pubmed_mesh_left[diseases_pubmed_mesh_left[\"title.1\"]==None])/len(diseases_pubmed_mesh_left)"
   ]
  },
  {
   "cell_type": "code",
   "execution_count": 107,
   "metadata": {
    "collapsed": true,
    "jupyter": {
     "outputs_hidden": true
    }
   },
   "outputs": [],
   "source": [
    "diseases_pubmed_left = diseases_pubmed.join(diseases_pubmed_mesh, on=\"pmid\", how=\"left\")"
   ]
  },
  {
   "cell_type": "code",
   "execution_count": 110,
   "metadata": {
    "collapsed": true,
    "jupyter": {
     "outputs_hidden": true
    }
   },
   "outputs": [
    {
     "data": {
      "text/plain": [
       "0.7571062032449145"
      ]
     },
     "execution_count": 110,
     "metadata": {},
     "output_type": "execute_result"
    }
   ],
   "source": [
    "1-len(diseases_pubmed_left[diseases_pubmed_left[\"title.1\"]==None])/len(diseases_pubmed_left)"
   ]
  },
  {
   "cell_type": "code",
   "execution_count": null,
   "metadata": {
    "collapsed": true,
    "jupyter": {
     "outputs_hidden": true
    }
   },
   "outputs": [],
   "source": [
    "diseases_pubmed_outer = diseases_pubmed.join(diseases_pubmed_mesh, on=\"pmid\", how=\"outer\")"
   ]
  },
  {
   "cell_type": "code",
   "execution_count": 97,
   "metadata": {
    "collapsed": true,
    "jupyter": {
     "outputs_hidden": true
    }
   },
   "outputs": [
    {
     "data": {
      "text/plain": [
       "{'Normalized paper title': 'racial differences in responses to therapy with interferon in chronic hepatitis c. consensus interferon study group.',\n",
       " 'abstract': 'The likelihood of a sustained response to a course of interferon in patients with chronic hepatitis C correlates with several clinical and viral factors, including age, viral genotype and initial levels of hepatitis C virus (HCV) RNA in serum. The role of race and ethnicity has not been assessed. We evaluated the association of race with response to interferon in a large randomized, controlled trial using either consensus interferon (9 microg) or interferon alfa-2b (3 million units) given three times weekly for 24 weeks. African-American patients participating in the study were similar to white patients in mean age (43 vs. 42 years) and baseline levels of HCV RNA (3.6 vs. 3.0 million copies/mL) but had lower rates of cirrhosis (5% vs. 12%) and more frequently had viral genotype 1 (88% vs. 66%: P =.004). Most strikingly, the rates of end-of-treatment and sustained virological responses were lower among the 40 African-American patients (5% and 2%) than among the 380 white patients (33% and 12%) (P =.04 and.07). Rates of response among Hispanic and Asian-American patients were not statistically different than non-Hispanic white patients. Median viral levels decreased by week 24 of therapy by 2.5 logs in white patients (from 3.0 to 0.012 million copies/mL) but by only 0.5 logs among African- American patients (from 3.6 to 1.8 million copies/mL). Thus, there are marked racial differences in virological responses to interferon in hepatitis C that must be considered in assessing trials of interferon therapy and in counseling patients regarding treatment. The differences in response rates are as yet unexplained.',\n",
       " 'affiliations': 'University of Miami, Miami, FL, USA.',\n",
       " 'authors': 'KR Reddy;JH Hoofnagle;MJ Tong;WM Lee;P Pockros;EJ Heathcote;D Albert;T Joh',\n",
       " 'chemical_list': 'D000998:Antiviral Agents; D012367:RNA, Viral; D007372:Interferons',\n",
       " 'country': 'United States',\n",
       " 'delete': 'false',\n",
       " 'disease': 'Hepatitis C',\n",
       " 'doi': '',\n",
       " 'id': 87,\n",
       " 'issn_linking': '0270-9139',\n",
       " 'journal': 'Hepatology (Baltimore, Md.)',\n",
       " 'keywords': '',\n",
       " 'medline_ta': 'Hepatology',\n",
       " 'mesh_terms': ['D000293:Adolescent',\n",
       "  ' D000328:Adult',\n",
       "  ' D000368:Aged',\n",
       "  ' D000998:Antiviral Agents',\n",
       "  ' D004311:Double-Blind Method',\n",
       "  ' D005260:Female',\n",
       "  ' D019698:Hepatitis C, Chronic',\n",
       "  ' D006801:Humans',\n",
       "  ' D007372:Interferons',\n",
       "  ' D008297:Male',\n",
       "  ' D008875:Middle Aged',\n",
       "  ' D011446:Prospective Studies',\n",
       "  ' D012367:RNA, Viral'],\n",
       " 'nlm_unique_id': '8302946',\n",
       " 'other_id': '',\n",
       " 'pmc': '',\n",
       " 'pmid': 10462387,\n",
       " 'publication_types': \"D016430:Clinical Trial; D016428:Journal Article; D016449:Randomized Controlled Trial; D013485:Research Support, Non-U.S. Gov't\",\n",
       " 'title': 'Racial differences in responses to therapy with interferon in chronic hepatitis C. Consensus Interferon Study Group.',\n",
       " 'year': 1999,\n",
       " 'abstract.1': None,\n",
       " 'affiliations.1': None,\n",
       " 'authors.1': None,\n",
       " 'chemical_list.1': None,\n",
       " 'country.1': None,\n",
       " 'delete.1': None,\n",
       " 'doi.1': None,\n",
       " 'issn_linking.1': None,\n",
       " 'journal.1': None,\n",
       " 'keywords.1': None,\n",
       " 'medline_ta.1': None,\n",
       " 'mesh_terms.1': None,\n",
       " 'nlm_unique_id.1': None,\n",
       " 'other_id.1': None,\n",
       " 'pmc.1': None,\n",
       " 'year.1': None,\n",
       " 'publication_types.1': None,\n",
       " 'title.1': None,\n",
       " 'Normalized paper title.1': None,\n",
       " 'mesh_terms_norm': None,\n",
       " 'disease.1': None}"
      ]
     },
     "execution_count": 97,
     "metadata": {},
     "output_type": "execute_result"
    }
   ],
   "source": [
    "diseases_pubmed_outer[diseases_pubmed_outer[\"title.1\"]==None][2]"
   ]
  },
  {
   "cell_type": "code",
   "execution_count": 130,
   "metadata": {
    "collapsed": true,
    "jupyter": {
     "outputs_hidden": true
    }
   },
   "outputs": [],
   "source": [
    "pubmed[\"mesh_terms\"] = pubmed[\"mesh_terms\"].apply(lambda x: x.split(\";\"))"
   ]
  },
  {
   "cell_type": "code",
   "execution_count": 131,
   "metadata": {
    "collapsed": true,
    "jupyter": {
     "outputs_hidden": true
    }
   },
   "outputs": [],
   "source": [
    "pubmed = pubmed.stack(\"mesh_terms\", new_column_name=\"mesh_term\")"
   ]
  },
  {
   "cell_type": "code",
   "execution_count": 133,
   "metadata": {
    "collapsed": true,
    "jupyter": {
     "outputs_hidden": true
    }
   },
   "outputs": [],
   "source": [
    "pubmed[\"mesh_term\"] = pubmed[\"mesh_term\"].apply(lambda x: x.strip())"
   ]
  },
  {
   "cell_type": "code",
   "execution_count": 146,
   "metadata": {
    "collapsed": true,
    "jupyter": {
     "outputs_hidden": true
    }
   },
   "outputs": [],
   "source": [
    "diseases_pubmed = load_sframe(\"Data/pubmed/diseases_pubmed.sframe\")"
   ]
  }
 ],
 "metadata": {
  "kernelspec": {
   "display_name": "Python [conda env:promed]",
   "language": "python",
   "name": "conda-env-promed-py"
  },
  "language_info": {
   "codemirror_mode": {
    "name": "ipython",
    "version": 3
   },
   "file_extension": ".py",
   "mimetype": "text/x-python",
   "name": "python",
   "nbconvert_exporter": "python",
   "pygments_lexer": "ipython3",
   "version": "3.6.8"
  }
 },
 "nbformat": 4,
 "nbformat_minor": 4
}
