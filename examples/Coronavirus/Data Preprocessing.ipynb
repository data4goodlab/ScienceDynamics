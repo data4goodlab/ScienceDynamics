{
 "cells": [
  {
   "cell_type": "code",
   "execution_count": null,
   "metadata": {},
   "outputs": [],
   "source": [
    "%load_ext autoreload\n",
    "%autoreload 2\n",
    "%aimport\n",
    "%matplotlib inline"
   ]
  },
  {
   "cell_type": "code",
   "execution_count": null,
   "metadata": {},
   "outputs": [],
   "source": [
    "import os\n",
    "import sys\n",
    "nb_dir = os.path.dirname(os.path.split(os.getcwd())[0])\n",
    "if nb_dir not in sys.path:\n",
    "    sys.path.append(nb_dir)"
   ]
  },
  {
   "cell_type": "code",
   "execution_count": null,
   "metadata": {},
   "outputs": [],
   "source": [
    "from tqdm import tqdm_notebook as tqdm\n",
    "import pandas as pd\n",
    "from turicreate import SFrame, load_sframe\n",
    "from pathlib import Path\n",
    "import turicreate.aggregate as agg\n"
   ]
  },
  {
   "cell_type": "code",
   "execution_count": null,
   "metadata": {},
   "outputs": [],
   "source": [
    "import numpy as np\n",
    "import numpy as np\n",
    "import matplotlib.pyplot as plt\n",
    "from collections import defaultdict"
   ]
  },
  {
   "cell_type": "markdown",
   "metadata": {},
   "source": [
    "## Disease List"
   ]
  },
  {
   "cell_type": "code",
   "execution_count": null,
   "metadata": {},
   "outputs": [],
   "source": [
    "diseases_list = SFrame.read_csv(\"Data/diseases_list.csv\")"
   ]
  },
  {
   "cell_type": "code",
   "execution_count": null,
   "metadata": {},
   "outputs": [],
   "source": [
    "len(diseases_list)"
   ]
  },
  {
   "cell_type": "code",
   "execution_count": null,
   "metadata": {},
   "outputs": [],
   "source": [
    "for c in diseases_list.column_names():\n",
    "    diseases_list[c] = diseases_list[c].apply(lambda x: x.strip())"
   ]
  },
  {
   "cell_type": "code",
   "execution_count": null,
   "metadata": {},
   "outputs": [],
   "source": [
    "def get_diseases_by_datasource(diseases_list, source=\"GDB\"):\n",
    "    diseases = diseases_list[[source]].unique()\n",
    "    diseases = diseases[diseases[source]!=\"\"]\n",
    "    diseases[\"id\"] = range(len(diseases))\n",
    "    return diseases_list.join(diseases)"
   ]
  },
  {
   "cell_type": "code",
   "execution_count": null,
   "metadata": {},
   "outputs": [],
   "source": [
    "def normalize_diseases_list(sf):\n",
    "    sf = sf.pack_columns([\"GIDEON\",\"Alias\",\"Alias2\"], new_column_name=\"diseases\").stack('diseases', new_column_name='diseases')\n",
    "    sf = sf[sf[\"diseases\"]!=\"\"]\n",
    "    sf[\"diseases\"] = sf[\"diseases\"].apply(lambda x: x.lower())\n",
    "    return sf[[\"id\", \"diseases\"]].unique()"
   ]
  },
  {
   "cell_type": "code",
   "execution_count": null,
   "metadata": {},
   "outputs": [],
   "source": [
    "gideon_diseases = get_diseases_by_datasource(diseases_list, source=\"GIDEON\")\n",
    "diseases_id = normalize_diseases_list(gideon_diseases)"
   ]
  },
  {
   "cell_type": "code",
   "execution_count": null,
   "metadata": {},
   "outputs": [],
   "source": [
    "gideon_diseases[[\"id\",\"GIDEON\"]].rename({\"GIDEON\":\"disease\"}).save(\"Data/disease_names.csv\")"
   ]
  },
  {
   "cell_type": "code",
   "execution_count": null,
   "metadata": {},
   "outputs": [],
   "source": [
    "disease_set = set(diseases_id[\"diseases\"])"
   ]
  },
  {
   "cell_type": "code",
   "execution_count": null,
   "metadata": {},
   "outputs": [],
   "source": [
    "diseases_id.save(\"Data/diseases_id.csv\",\"csv\")"
   ]
  },
  {
   "cell_type": "code",
   "execution_count": null,
   "metadata": {},
   "outputs": [],
   "source": [
    "diseases_id = SFrame.read_csv(\"Data/diseases_id.csv\")\n",
    "disease_set = set(diseases_id[\"diseases\"])"
   ]
  },
  {
   "cell_type": "code",
   "execution_count": null,
   "metadata": {},
   "outputs": [],
   "source": [
    "disease_names = gideon_diseases[[\"id\",\"GIDEON\"]].rename({\"GIDEON\":\"disease\"})"
   ]
  },
  {
   "cell_type": "markdown",
   "metadata": {},
   "source": [
    "## Bibliometric Datasets"
   ]
  },
  {
   "cell_type": "code",
   "execution_count": null,
   "metadata": {},
   "outputs": [],
   "source": [
    "import re\n",
    "\n",
    "def ngrams(tokens, n):\n",
    "    # Use the zip function to help us generate n-grams\n",
    "    # Concatentate the tokens into ngrams and return\n",
    "    ngrams = zip(*[tokens[i:] for i in range(n)])\n",
    "    return [\" \".join(ngram) for ngram in ngrams]\n",
    "\n",
    "\n",
    "def word_ngrams(s, max_len=None,  min_len=0):\n",
    "    s = s.lower()\n",
    "    s = re.sub(r'[^a-zA-Z0-9\\s]', ' ', s)\n",
    "    tokens = [token for token in s.split(\" \") if token != \"\"]\n",
    "    if max_len is None:\n",
    "        max_len = len(tokens)\n",
    "    elif max_len > len(tokens):\n",
    "        max_len = len(tokens)\n",
    "    return {t for i in range(min_len, max_len) for t in ngrams(tokens, i+1)}"
   ]
  },
  {
   "cell_type": "code",
   "execution_count": null,
   "metadata": {},
   "outputs": [],
   "source": [
    "def fiter_diseases(diseases_sf, disease_set, max_len, title_field=\"Normalized paper title\"):\n",
    "    diseases_sf[\"diseases\"] = diseases_sf[title_field].apply(lambda t: disease_set & word_ngrams(t, max_len) )\n",
    "    diseases_sf = diseases_sf[diseases_sf[\"diseases\"]!=[]]\n",
    "    return diseases_sf.stack(\"diseases\",new_column_name=\"disease\")"
   ]
  },
  {
   "cell_type": "code",
   "execution_count": null,
   "metadata": {},
   "outputs": [],
   "source": [
    "import random\n",
    "def sf_unique(sf, fields):\n",
    "    index_field = f\"index_{random.getrandbits(128)}\"\n",
    "    sf[index_field]=range(len(sf))\n",
    "    i = sf.groupby(fields, {index_field:agg.SELECT_ONE(index_field)})[index_field]\n",
    "    return sf.filter_by(i,index_field).remove_column(index_field)\n",
    "           \n",
    "def normalize_filtered_diseses(f_mag,  disease_set, max_len, title_field=\"Normalized paper title\"):\n",
    "    diseases_f_mag = fiter_diseases(f_mag, disease_set, max_len, \"PaperTitle\")\n",
    "    diseases_f_mag = diseases_f_mag.join(diseases_id, on={\"disease\":\"diseases\"})\n",
    "    diseases_f_mag = diseases_f_mag.remove_column(\"disease\").join(disease_names, on=\"id\")\n",
    "    return sf_unique(diseases_f_mag,[\"PaperId\", \"id\"])\n",
    "\n",
    "def filter_by_cats(mag,cats, disease_set, max_len, title_field=\"Normalized paper title\"):\n",
    "    papaers_field = mag.paper_fields_of_study.join(mag.fields_of_study.filter_by(cats, \"NormalizedName\")[[\"FieldOfStudyId\",\"DisplayName\"]], on=\"FieldOfStudyId\")\n",
    "    f_mag = mag.extended_papers.filter_by(papaers_field[\"PaperId\"], \"PaperId\")\n",
    "    return f_mag, normalize_filtered_diseses(f_mag, disease_set, max_len, title_field)"
   ]
  },
  {
   "cell_type": "code",
   "execution_count": null,
   "metadata": {},
   "outputs": [],
   "source": [
    "max_len = max([len(d.split(\" \")) for d in disease_set])"
   ]
  },
  {
   "cell_type": "markdown",
   "metadata": {},
   "source": [
    "### Microsoft Academics"
   ]
  },
  {
   "cell_type": "code",
   "execution_count": null,
   "metadata": {},
   "outputs": [],
   "source": [
    "from ScienceDynamics.datasets import MicrosoftAcademicGraph\n",
    "mag = MicrosoftAcademicGraph()\n"
   ]
  },
  {
   "cell_type": "code",
   "execution_count": null,
   "metadata": {},
   "outputs": [],
   "source": [
    "len(mag.extended_papers)"
   ]
  },
  {
   "cell_type": "code",
   "execution_count": null,
   "metadata": {},
   "outputs": [],
   "source": [
    "diseases_mag = normalize_filtered_diseses(mag.extended_papers, disease_set, max_len, \"PaperTitle\")"
   ]
  },
  {
   "cell_type": "code",
   "execution_count": null,
   "metadata": {},
   "outputs": [],
   "source": [
    "diseases_mag.save(\"Data/mag/diseases_mag.sframe\")"
   ]
  },
  {
   "cell_type": "code",
   "execution_count": null,
   "metadata": {},
   "outputs": [],
   "source": []
  },
  {
   "cell_type": "code",
   "execution_count": null,
   "metadata": {},
   "outputs": [],
   "source": [
    "med_mag, diseases_med_mag = filter_by_cats(mag,cats, disease_set, max_len)"
   ]
  },
  {
   "cell_type": "code",
   "execution_count": null,
   "metadata": {},
   "outputs": [],
   "source": [
    "virology_mag, diseases_virology_mag = filter_by_cats(mag,[\"virology\"], disease_set, max_len)"
   ]
  },
  {
   "cell_type": "code",
   "execution_count": null,
   "metadata": {},
   "outputs": [],
   "source": [
    "viro_mag = load_sframe(\"Data/mag/viro_mag2.sframe\")\n",
    "diseases_viro_mag = load_sframe(\"Data/mag/diseases_viro_mag2.sframe\")"
   ]
  },
  {
   "cell_type": "code",
   "execution_count": null,
   "metadata": {},
   "outputs": [],
   "source": [
    "len(diseases_virology_mag[(diseases_virology_mag[\"disease\"]==\"HIV/AIDS\")&(diseases_virology_mag[\"Year\"]>2000)&(diseases_virology_mag[\"Ref Number\"]>5)])/len(virology_mag[(virology_mag[\"Year\"]>2000)&(virology_mag[\"Ref Number\"]>5)])"
   ]
  },
  {
   "cell_type": "code",
   "execution_count": null,
   "metadata": {},
   "outputs": [],
   "source": [
    "sars_cor =  diseases_virology_mag[((diseases_virology_mag[\"disease\"]==\"SARS\")| (diseases_virology_mag[\"disease\"]==\"MERS Coronavirus\"))&(diseases_virology_mag[\"Ref Number\"]>5)]"
   ]
  },
  {
   "cell_type": "code",
   "execution_count": null,
   "metadata": {},
   "outputs": [],
   "source": [
    "len(set(sars_cor[sars_cor[\"Year\"]>=2000][\"PaperId\"])) / len(virology_mag[(virology_mag[\"Year\"]>=2000)&(virology_mag[\"Ref Number\"]>5)])"
   ]
  },
  {
   "cell_type": "code",
   "execution_count": null,
   "metadata": {},
   "outputs": [],
   "source": [
    "len(virology_mag)"
   ]
  },
  {
   "cell_type": "code",
   "execution_count": null,
   "metadata": {},
   "outputs": [],
   "source": [
    "virology_mag.save(\"Data/mag/viro_mag.sframe\")\n",
    "diseases_virology_mag.save(\"Data/mag/diseases_viro_mag.sframe\")"
   ]
  },
  {
   "cell_type": "code",
   "execution_count": null,
   "metadata": {},
   "outputs": [],
   "source": [
    "med_mag.save(\"Data/mag/med_mag.sframe\")\n",
    "diseases_med_mag.save(\"Data/mag/diseases_med_mag.sframe\")"
   ]
  },
  {
   "cell_type": "markdown",
   "metadata": {},
   "source": [
    "## PubMed"
   ]
  },
  {
   "cell_type": "code",
   "execution_count": null,
   "metadata": {},
   "outputs": [],
   "source": [
    "from pathlib import Path\n",
    "if not Path(\"Data/pubmed/pubmed.sframe\").exists():\n",
    "    pubmed = SFrame.read_json(\"Data/pubmed/pubmed.json\")\n",
    "    pubmed = pubmed[pubmed[\"pubdate\"]!=\"\"]\n",
    "    pubmed[\"Normalized paper title\"] = pubmed[\"title\"].apply(lambda x: x.lower().replace(\"[\",\"\").replace(\"].\",\"\"))\n",
    "    pubmed[\"pubdate\"] = pubmed[\"pubdate\"].astype(int)\n",
    "    pubmed = pubmed.rename({\"pubdate\":\"year\"})\n",
    "    pubmed[\"pmid\"] = pubmed[\"pmid\"].astype(int)\n",
    "    pubmed[\"mesh_terms\"] = pubmed[\"mesh_terms\"].apply(lambda x: x.split(\";\"))\n",
    "    pubmed.save(\"Data/pubmed/pubmed.sframe\")\n",
    "else:\n",
    "    pubmed = load_sframe(\"Data/pubmed/pubmed.sframe\")\n",
    "    diseases_pubmed = fiter_diseases(pubmed,  disease_set, max_len)\n",
    "    diseases_pubmed = diseases_pubmed.join(diseases_id)\n",
    "    diseases_pubmed.save(\"Data/pubmed/diseases_pubmed.sframe\")"
   ]
  },
  {
   "cell_type": "code",
   "execution_count": null,
   "metadata": {},
   "outputs": [],
   "source": [
    "diseases_pubmed = fiter_diseases(pubmed,  disease_set, max_len)"
   ]
  },
  {
   "cell_type": "code",
   "execution_count": null,
   "metadata": {},
   "outputs": [],
   "source": [
    "pubmed.save(\"Data/pubmed/pubmed.sframe\")"
   ]
  },
  {
   "cell_type": "code",
   "execution_count": null,
   "metadata": {},
   "outputs": [],
   "source": [
    "pubmed = load_sframe(\"Data/pubmed/pubmed.sframe\")\n"
   ]
  },
  {
   "cell_type": "code",
   "execution_count": null,
   "metadata": {},
   "outputs": [],
   "source": [
    "pubmed[\"pmid\"] = pubmed[\"pmid\"].astype(int)"
   ]
  },
  {
   "cell_type": "code",
   "execution_count": null,
   "metadata": {},
   "outputs": [],
   "source": [
    "pubmed[\"mesh_terms_norm\"] = pubmed[\"mesh_terms\"].apply(lambda terms: terms.split(\";\") )"
   ]
  },
  {
   "cell_type": "code",
   "execution_count": null,
   "metadata": {},
   "outputs": [],
   "source": [
    "pubmed[\"mesh_terms_norm\"] = pubmed[\"mesh_terms_norm\"].apply(lambda terms: [t.strip() for t in terms] )"
   ]
  },
  {
   "cell_type": "code",
   "execution_count": null,
   "metadata": {},
   "outputs": [],
   "source": [
    "def fiter_mesh(diseases_sf, disease_set, title_field=\"mesh_terms_norm\"):\n",
    "    diseases_sf[\"diseases\"] = diseases_sf[title_field].apply(lambda t: disease_set & set(t) )\n",
    "    diseases_sf = diseases_sf[diseases_sf[\"diseases\"]!=[]]\n",
    "    return diseases_sf.stack(\"diseases\",new_column_name=\"disease\")"
   ]
  },
  {
   "cell_type": "code",
   "execution_count": null,
   "metadata": {},
   "outputs": [],
   "source": [
    "diseases_pubmed_mesh = fiter_mesh(pubmed,  disease_set)\n",
    "diseases_pubmed_mesh = diseases_pubmed_mesh.join(diseases_id, on={\"disease\":\"diseases\"})"
   ]
  },
  {
   "cell_type": "code",
   "execution_count": null,
   "metadata": {},
   "outputs": [],
   "source": [
    "diseases_pubmed_mesh = diseases_pubmed_mesh.join(diseases_id, on={\"disease\":\"diseases\"})"
   ]
  },
  {
   "cell_type": "code",
   "execution_count": null,
   "metadata": {},
   "outputs": [],
   "source": [
    "diseases_pubmed_mesh = diseases_pubmed_mesh.remove_column(\"disease\").join(disease_names, on={\"id\":\"id\"})"
   ]
  },
  {
   "cell_type": "code",
   "execution_count": null,
   "metadata": {},
   "outputs": [],
   "source": [
    "diseases_pubmed_mesh.save(\"Data/pubmed/diseases_pubmed_mesh.sframe\")"
   ]
  },
  {
   "cell_type": "code",
   "execution_count": null,
   "metadata": {},
   "outputs": [],
   "source": [
    "diseases_pubmed = diseases_pubmed.unique()"
   ]
  },
  {
   "cell_type": "code",
   "execution_count": null,
   "metadata": {},
   "outputs": [],
   "source": [
    "diseases_pubmed[\"mesh_terms\"] = diseases_pubmed[\"mesh_terms\"].apply(lambda x: x.split(\";\"))"
   ]
  },
  {
   "cell_type": "code",
   "execution_count": null,
   "metadata": {},
   "outputs": [],
   "source": [
    "# pubmed = load_sframe(\"Data/pubmed/pubmed.sframe\")\n",
    "# diseases_pubmed = fiter_diseases(pubmed,  disease_set, max_len)\n",
    "\n",
    "# diseases_pubmed = diseases_pubmed.rename({\"pubdate\":\"year\"})\n",
    "diseases_pubmed = diseases_pubmed.remove_column(\"disease\").join(disease_names, on={\"id\":\"id\"})\n",
    "diseases_pubmed.save(\"Data/pubmed/diseases_pubmed.sframe\")"
   ]
  },
  {
   "cell_type": "code",
   "execution_count": null,
   "metadata": {},
   "outputs": [],
   "source": [
    "diseases_pubmed.save(\"Data/pubmed/diseases_pubmed.sframe\")"
   ]
  },
  {
   "cell_type": "code",
   "execution_count": null,
   "metadata": {},
   "outputs": [],
   "source": [
    "diseases_pubmed = load_sframe(\"Data/pubmed/diseases_pubmed.sframe\")"
   ]
  },
  {
   "cell_type": "code",
   "execution_count": null,
   "metadata": {},
   "outputs": [],
   "source": [
    "spothlight = [\"SARS\",\"MERS Coronavirus\", \"Avian Influenza\",\"Ebola\", \"Influenza\", \"HIV/AIDS\",\"Hepatitis B\",\"Hepatitis C\", \"Swine Flu\"]"
   ]
  },
  {
   "cell_type": "code",
   "execution_count": null,
   "metadata": {},
   "outputs": [],
   "source": [
    "diseases_pubmed = diseases_pubmed.filter_by(spothlight, \"disease\")"
   ]
  },
  {
   "cell_type": "code",
   "execution_count": null,
   "metadata": {},
   "outputs": [],
   "source": [
    "mesh_terms = diseases_pubmed.stack(\"mesh_terms\", new_column_name=\"mesh_term\")"
   ]
  },
  {
   "cell_type": "code",
   "execution_count": null,
   "metadata": {},
   "outputs": [],
   "source": [
    "mesh_terms[mesh_terms[\"disease\"]==\"Hepatitis B\"][\"mesh_term\"].value_counts()[7]"
   ]
  },
  {
   "cell_type": "code",
   "execution_count": null,
   "metadata": {},
   "outputs": [],
   "source": [
    "mesh = {'D045473:SARS Virus','D045169:Severe Acute Respiratory Syndrome', 'D065207:Middle East Respiratory Syndrome Coronavirus',\n",
    " \"D005585:Influenza in Birds\",'D053124:Influenza A Virus, H5N1 Subtype',\"D029043:Ebolavirus\",\"D019142:Hemorrhagic Fever, Ebola\",\n",
    "\"D007251:Influenza, Human\",\"D007252:Influenza Vaccines0\",\"D015658:HIV Infections\",\"D015497:HIV-1\",\"D006509:Hepatitis B\",\"D006515:Hepatitis B virus\"\n",
    ",\"D006526:Hepatitis C\",\"D016174:Hepacivirus\",\"D053118:Influenza A Virus, H1N1 Subtype\",\"D019698:Hepatitis C, Chronic\",\"D019694:Hepatitis B, Chronic\"}"
   ]
  },
  {
   "cell_type": "code",
   "execution_count": null,
   "metadata": {},
   "outputs": [],
   "source": [
    "diseases_pubmed_mesh = fiter_mesh(pubmed,  mesh)\n"
   ]
  },
  {
   "cell_type": "code",
   "execution_count": null,
   "metadata": {},
   "outputs": [],
   "source": [
    "diseases_pubmed_mesh[\"pmid\"] = diseases_pubmed_mesh[\"pmid\"].astype(int)\n",
    "diseases_pubmed[\"pmid\"] = diseases_pubmed[\"pmid\"].astype(int)"
   ]
  },
  {
   "cell_type": "code",
   "execution_count": null,
   "metadata": {},
   "outputs": [],
   "source": [
    "diseases_pubmed_mesh_left = diseases_pubmed_mesh.join(diseases_pubmed, on=\"pmid\", how=\"left\")"
   ]
  },
  {
   "cell_type": "code",
   "execution_count": null,
   "metadata": {},
   "outputs": [],
   "source": [
    "1- len(diseases_pubmed_mesh_left[diseases_pubmed_mesh_left[\"title.1\"]==None])/len(diseases_pubmed_mesh_left)"
   ]
  },
  {
   "cell_type": "code",
   "execution_count": null,
   "metadata": {},
   "outputs": [],
   "source": [
    "diseases_pubmed_left = diseases_pubmed.join(diseases_pubmed_mesh, on=\"pmid\", how=\"left\")"
   ]
  },
  {
   "cell_type": "code",
   "execution_count": null,
   "metadata": {},
   "outputs": [],
   "source": [
    "1-len(diseases_pubmed_left[diseases_pubmed_left[\"title.1\"]==None])/len(diseases_pubmed_left)"
   ]
  },
  {
   "cell_type": "code",
   "execution_count": null,
   "metadata": {},
   "outputs": [],
   "source": [
    "diseases_pubmed_outer = diseases_pubmed.join(diseases_pubmed_mesh, on=\"pmid\", how=\"outer\")"
   ]
  },
  {
   "cell_type": "code",
   "execution_count": null,
   "metadata": {},
   "outputs": [],
   "source": [
    "diseases_pubmed_outer[diseases_pubmed_outer[\"title.1\"]==None][2]"
   ]
  },
  {
   "cell_type": "code",
   "execution_count": null,
   "metadata": {},
   "outputs": [],
   "source": [
    "pubmed[\"mesh_terms\"] = pubmed[\"mesh_terms\"].apply(lambda x: x.split(\";\"))"
   ]
  },
  {
   "cell_type": "code",
   "execution_count": null,
   "metadata": {},
   "outputs": [],
   "source": [
    "pubmed = pubmed.stack(\"mesh_terms\", new_column_name=\"mesh_term\")"
   ]
  },
  {
   "cell_type": "code",
   "execution_count": null,
   "metadata": {},
   "outputs": [],
   "source": [
    "pubmed[\"mesh_term\"] = pubmed[\"mesh_term\"].apply(lambda x: x.strip())"
   ]
  },
  {
   "cell_type": "code",
   "execution_count": null,
   "metadata": {},
   "outputs": [],
   "source": [
    "diseases_pubmed = load_sframe(\"Data/pubmed/diseases_pubmed.sframe\")"
   ]
  }
 ],
 "metadata": {
  "kernelspec": {
   "display_name": "Python [conda env:giga]",
   "language": "python",
   "name": "conda-env-giga-py"
  },
  "language_info": {
   "codemirror_mode": {
    "name": "ipython",
    "version": 3
   },
   "file_extension": ".py",
   "mimetype": "text/x-python",
   "name": "python",
   "nbconvert_exporter": "python",
   "pygments_lexer": "ipython3",
   "version": "3.7.7"
  }
 },
 "nbformat": 4,
 "nbformat_minor": 4
}
