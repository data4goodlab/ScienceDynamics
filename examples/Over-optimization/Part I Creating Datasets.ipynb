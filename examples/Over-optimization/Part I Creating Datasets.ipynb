{
 "cells": [
  {
   "cell_type": "markdown",
   "metadata": {},
   "source": [
    "# PART I: Creating the Study's Datasets"
   ]
  },
  {
   "cell_type": "markdown",
   "metadata": {},
   "source": [
    "# 0. Setup"
   ]
  },
  {
   "cell_type": "markdown",
   "metadata": {},
   "source": [
    "Before we begin, make sure you have installed all the required Python packages. (The instructions below use pip. You can use easy_install, too.) Also, consider using virtualenv for a cleaner installation experience instead of sudo. I also recommend to running the code via IPython Notebook.\n",
    "* pip install --upgrade turicreate\n",
    "* pip install --upgrade networkx\n",
    "* pip install --upgrade pymongo\n",
    "\n"
   ]
  },
  {
   "cell_type": "markdown",
   "metadata": {},
   "source": [
    "Please download the KDD Cup 2016 data, and please also download the project files from our GitHub repository. Through this research, we use the various constants that appear in consts.py. Please change the DATASETS_AMINER_DIR, DATASETS_BASE_DIR, and SFRAMES_BASE_DIR to your local directories, where you can download the datasets and save the project's SFrames.\n",
    "\n",
    "**Note: Creating the following SFrame requires considerable computation power for long periods.** "
   ]
  },
  {
   "cell_type": "code",
   "execution_count": 1,
   "metadata": {},
   "outputs": [
    {
     "name": "stdout",
     "output_type": "stream",
     "text": [
      "Modules to reload:\n",
      "all-except-skipped\n",
      "\n",
      "Modules to skip:\n",
      "\n"
     ]
    }
   ],
   "source": [
    "%load_ext autoreload\n",
    "%autoreload 2\n",
    "%aimport\n",
    "%matplotlib inline"
   ]
  },
  {
   "cell_type": "code",
   "execution_count": 5,
   "metadata": {},
   "outputs": [],
   "source": [
    "import os\n",
    "import sys\n",
    "nb_dir = os.path.split(os.getcwd())[0]\n",
    "if nb_dir not in sys.path:\n",
    "    sys.path.append(nb_dir)"
   ]
  },
  {
   "cell_type": "code",
   "execution_count": 6,
   "metadata": {},
   "outputs": [],
   "source": [
    "from tqdm import tqdm_notebook as tqdm "
   ]
  },
  {
   "cell_type": "markdown",
   "metadata": {},
   "source": [
    "# 1. Creating the SFrames"
   ]
  },
  {
   "cell_type": "markdown",
   "metadata": {},
   "source": [
    "In this study, we used the following datasets:\n",
    "* [The Microsoft Academic KDD Cup 2016 dataset](https://kddcup2016.azurewebsites.net/Data) - The Microsoft Academic KDD Cup Graph dataset (referred to as the MAG 2016 dataset) contains data on over 126 million papers. The main advantage of this dataset is that it has undergone several preprocessing iterations of author entity matching (any author is identified by ID) and paper deduplication. Additionally, the dataset match between papers and their fields of study includes the hierarchical structure and connections between various fields of study.  <br/>  The link is dead...\n",
    "\n",
    "* [AMiner dataset](https://aminer.org/open-academic-graph) - The AMiner dataset contains information on over 154 million papers collected by the AMiner team. The dataset contains papers' abstracts, ISSNs, ISBNs, and details on each paper. <br/>  Cureently there is a V2 and to download which one...\n",
    "\n",
    "* [SJR dataset](http://www.scimagojr.com/journalrank.php) -  The SCImago Journal Rank open dataset (referred to as the SJR dataset) contains journals and country specific metric data starting from 1999. In this study, we used the SJR dataset to better understand how various journal metrics have changed over time. <br/>  How to download?\n"
   ]
  },
  {
   "cell_type": "markdown",
   "metadata": {},
   "source": [
    "## 1.1 The Microsoft Academic Dataset"
   ]
  },
  {
   "cell_type": "markdown",
   "metadata": {},
   "source": [
    "The first step is to convert the dataset text files into SFrame objects using the code located under the SFrames creator directory, using the following code."
   ]
  },
  {
   "cell_type": "code",
   "execution_count": 63,
   "metadata": {},
   "outputs": [],
   "source": [
    "from ScienceDynamics.datasets.microsoft_academic_graph import MicrosoftAcademicGraph\n",
    "from ScienceDynamics.config.configs import DATASETS_BASE_DIR\n",
    "mag = MicrosoftAcademicGraph(DATASETS_BASE_DIR)"
   ]
  },
  {
   "cell_type": "code",
   "execution_count": null,
   "metadata": {
    "collapsed": true,
    "jupyter": {
     "outputs_hidden": true
    }
   },
   "outputs": [],
   "source": []
  },
  {
   "cell_type": "code",
   "execution_count": 14,
   "metadata": {
    "collapsed": true,
    "jupyter": {
     "outputs_hidden": true
    }
   },
   "outputs": [],
   "source": [
    "import pandas as pd"
   ]
  },
  {
   "cell_type": "code",
   "execution_count": 15,
   "metadata": {
    "collapsed": true,
    "jupyter": {
     "outputs_hidden": true
    }
   },
   "outputs": [],
   "source": [
    "paper_author_affiliations = pd.read_csv(\"/storage/homedir/dima/.scidyn2/MAG/PaperAuthorAffiliations.txt.gz\", sep=\"\\t\", names=[\"PaperId\", \"AuthorId\", \"AffiliationId\", \"AuthorSequenceNumber\", \"OriginalAuthor\", \"OriginalAffiliation\"])"
   ]
  },
  {
   "cell_type": "code",
   "execution_count": 18,
   "metadata": {
    "collapsed": true,
    "jupyter": {
     "outputs_hidden": true
    }
   },
   "outputs": [],
   "source": [
    "sf = SFrame(paper_author_affiliations.replace({pd.np.nan: None}))"
   ]
  },
  {
   "cell_type": "code",
   "execution_count": 19,
   "metadata": {
    "collapsed": true,
    "jupyter": {
     "outputs_hidden": true
    }
   },
   "outputs": [],
   "source": [
    "sf.save(\"/storage/homedir/dima/.scidyn2/MAG/sframesPaperAuthorAffiliations.sframe\")"
   ]
  },
  {
   "cell_type": "code",
   "execution_count": 21,
   "metadata": {
    "collapsed": true,
    "jupyter": {
     "outputs_hidden": true
    }
   },
   "outputs": [],
   "source": [
    "!mv  /storage/homedir/dima/.scidyn2/MAG/sframesPaperAuthorAffiliations.sframe /storage/homedir/dima/.scidyn2/MAG/sframes/PaperAuthorAffiliations.sframe"
   ]
  },
  {
   "cell_type": "code",
   "execution_count": null,
   "metadata": {
    "collapsed": true,
    "jupyter": {
     "outputs_hidden": true
    }
   },
   "outputs": [],
   "source": [
    "[\"PaperId\", \"Rank\", \"Doi\", \"DocType\", \"PaperTitle\", \"OriginalTitle\", \"BookTitle\", \"Year\", \"Date\",\n",
    "                \"Publisher\", \"JournalId\", \"ConferenceSeriesId\", \"ConferenceInstanceId\", \"Volume\", \"Issue\", \"FirstPage\",\n",
    "                \"LastPage\", \"ReferenceCount\", \"CitationCount\", \"EstimatedCitation\", \"OriginalVenue\", \"FamilyId\",\n",
    "                \"CreatedDate\"]"
   ]
  },
  {
   "cell_type": "code",
   "execution_count": 7,
   "metadata": {
    "collapsed": "false",
    "jupyter": {
     "outputs_hidden": "false"
    }
   },
   "outputs": [
    {
     "data": {
      "text/html": [
       "<pre>Unable to parse line \"140557674\t25673\t\t\ttassa kohdassa heterorouva nyokkaa nakokulma naisparien henkilohaastatteluissa\t\"Tässä kohdassa heterorouva nyökkää.℗» : Näkökulma naisparien henkilöhaastatteluissa\t\t2007\t2007-01-01\tHelsinki : Kotikielen seura\t\t\t\t111\t1\t68\t\t0\t0\t0...\"</pre>"
      ],
      "text/plain": [
       "Unable to parse line \"140557674\t25673\t\t\ttassa kohdassa heterorouva nyokkaa nakokulma naisparien henkilohaastatteluissa\t\"Tässä kohdassa heterorouva nyökkää.℗» : Näkökulma naisparien henkilöhaastatteluissa\t\t2007\t2007-01-01\tHelsinki : Kotikielen seura\t\t\t\t111\t1\t68\t\t0\t0\t0...\""
      ]
     },
     "metadata": {},
     "output_type": "display_data"
    },
    {
     "data": {
      "text/html": [
       "<pre>Unable to parse line \"140830831\t21272\t\t\tparametric trusses an android app to understand structural design\t\"PARAMETRIC TRUSSES”, AN ANDROID APP TO UNDERSTAND STRUCTURAL DESIGN\t\t2014\t2014-01-01\tIATED\t\t\t\t\t\t4347\t4356\t0\t1\t1\tINTED2014 Proceedings\t2016-06-24\"</pre>"
      ],
      "text/plain": [
       "Unable to parse line \"140830831\t21272\t\t\tparametric trusses an android app to understand structural design\t\"PARAMETRIC TRUSSES”, AN ANDROID APP TO UNDERSTAND STRUCTURAL DESIGN\t\t2014\t2014-01-01\tIATED\t\t\t\t\t\t4347\t4356\t0\t1\t1\tINTED2014 Proceedings\t2016-06-24\""
      ]
     },
     "metadata": {},
     "output_type": "display_data"
    },
    {
     "data": {
      "text/html": [
       "<pre>2 lines failed to parse correctly</pre>"
      ],
      "text/plain": [
       "2 lines failed to parse correctly"
      ]
     },
     "metadata": {},
     "output_type": "display_data"
    },
    {
     "data": {
      "text/html": [
       "<pre>Finished parsing file /storage/homedir/dima/.scidyn2/MAG/Papers.txt.gz</pre>"
      ],
      "text/plain": [
       "Finished parsing file /storage/homedir/dima/.scidyn2/MAG/Papers.txt.gz"
      ]
     },
     "metadata": {},
     "output_type": "display_data"
    },
    {
     "data": {
      "text/html": [
       "<pre>Parsing completed. Parsed 100 lines in 2.32794 secs.</pre>"
      ],
      "text/plain": [
       "Parsing completed. Parsed 100 lines in 2.32794 secs."
      ]
     },
     "metadata": {},
     "output_type": "display_data"
    },
    {
     "name": "stdout",
     "output_type": "stream",
     "text": [
      "------------------------------------------------------\n",
      "Inferred types from first 100 line(s) of file as \n",
      "column_type_hints=[int,int,str,str,str,str,str,int,str,str,int,int,int,int,int,int,int,int,int,int,str,str]\n",
      "If parsing fails due to incorrect types, you can correct\n",
      "the inferred type list above and pass it to read_csv in\n",
      "the column_type_hints argument\n",
      "------------------------------------------------------\n"
     ]
    },
    {
     "data": {
      "text/html": [
       "<pre>Unable to parse line \"140557674\t25673\t\t\ttassa kohdassa heterorouva nyokkaa nakokulma naisparien henkilohaastatteluissa\t\"Tässä kohdassa heterorouva nyökkää.℗» : Näkökulma naisparien henkilöhaastatteluissa\t\t2007\t2007-01-01\tHelsinki : Kotikielen seura\t\t\t\t111\t1\t68\t\t0\t0\t0...\"</pre>"
      ],
      "text/plain": [
       "Unable to parse line \"140557674\t25673\t\t\ttassa kohdassa heterorouva nyokkaa nakokulma naisparien henkilohaastatteluissa\t\"Tässä kohdassa heterorouva nyökkää.℗» : Näkökulma naisparien henkilöhaastatteluissa\t\t2007\t2007-01-01\tHelsinki : Kotikielen seura\t\t\t\t111\t1\t68\t\t0\t0\t0...\""
      ]
     },
     "metadata": {},
     "output_type": "display_data"
    },
    {
     "data": {
      "text/html": [
       "<pre>Unable to parse line \"140830831\t21272\t\t\tparametric trusses an android app to understand structural design\t\"PARAMETRIC TRUSSES”, AN ANDROID APP TO UNDERSTAND STRUCTURAL DESIGN\t\t2014\t2014-01-01\tIATED\t\t\t\t\t\t4347\t4356\t0\t1\t1\tINTED2014 Proceedings\t2016-06-24\"</pre>"
      ],
      "text/plain": [
       "Unable to parse line \"140830831\t21272\t\t\tparametric trusses an android app to understand structural design\t\"PARAMETRIC TRUSSES”, AN ANDROID APP TO UNDERSTAND STRUCTURAL DESIGN\t\t2014\t2014-01-01\tIATED\t\t\t\t\t\t4347\t4356\t0\t1\t1\tINTED2014 Proceedings\t2016-06-24\""
      ]
     },
     "metadata": {},
     "output_type": "display_data"
    },
    {
     "data": {
      "text/html": [
       "<pre>Unable to parse line \"141437854\t25300\t\t\torange county auditor controller david sundstrom releases the oc citizens report\t\"Orange County Auditor-Controller David Sundstrom Releases the OC Citizens' Report\t\t2010\t2010-01-01\t\t\t\t\t\t\t\t\t0\t0\t0\t\t2016-06-24\"</pre>"
      ],
      "text/plain": [
       "Unable to parse line \"141437854\t25300\t\t\torange county auditor controller david sundstrom releases the oc citizens report\t\"Orange County Auditor-Controller David Sundstrom Releases the OC Citizens' Report\t\t2010\t2010-01-01\t\t\t\t\t\t\t\t\t0\t0\t0\t\t2016-06-24\""
      ]
     },
     "metadata": {},
     "output_type": "display_data"
    },
    {
     "data": {
      "text/html": [
       "<pre>Unable to parse line \"141488090\t24487\t\t\twe do not inherit the earth from our ancestors we borrow it from our children\t\" We do not inherit the earth from our ancestors, we borrow it from our children\t\t2008\t2008-01-01\t\t\t\t\t\t\t\t\t0\t2\t2\t\t2016-06-24\"</pre>"
      ],
      "text/plain": [
       "Unable to parse line \"141488090\t24487\t\t\twe do not inherit the earth from our ancestors we borrow it from our children\t\" We do not inherit the earth from our ancestors, we borrow it from our children\t\t2008\t2008-01-01\t\t\t\t\t\t\t\t\t0\t2\t2\t\t2016-06-24\""
      ]
     },
     "metadata": {},
     "output_type": "display_data"
    },
    {
     "data": {
      "text/html": [
       "<pre>Unable to parse line \"2374938657\t24824\t\tJournal\tcritical values reporting application analysis in the icu nursing safety management\t\"Critical values” reporting application analysis in the ICU nursing safety management\t\t2014\t2014-01-01\t\t2764756966\t\t\t\t\t\t\t0\t0\t0\tNursing Practice ...\"</pre>"
      ],
      "text/plain": [
       "Unable to parse line \"2374938657\t24824\t\tJournal\tcritical values reporting application analysis in the icu nursing safety management\t\"Critical values” reporting application analysis in the ICU nursing safety management\t\t2014\t2014-01-01\t\t2764756966\t\t\t\t\t\t\t0\t0\t0\tNursing Practice ...\""
      ]
     },
     "metadata": {},
     "output_type": "display_data"
    },
    {
     "data": {
      "text/html": [
       "<pre>Unable to parse line \"141410032\t25468\t\t\tsex style and substance the role of gender in romance\t\"Sex, Style, and Substance: the Role of Gender in Romance\t\t2009\t2009-01-01\t\t\t\t\t\t\t\t\t3\t0\t0\t\t2016-06-24\"</pre>"
      ],
      "text/plain": [
       "Unable to parse line \"141410032\t25468\t\t\tsex style and substance the role of gender in romance\t\"Sex, Style, and Substance: the Role of Gender in Romance\t\t2009\t2009-01-01\t\t\t\t\t\t\t\t\t3\t0\t0\t\t2016-06-24\""
      ]
     },
     "metadata": {},
     "output_type": "display_data"
    },
    {
     "data": {
      "text/html": [
       "<pre>Read 167333 lines. Lines per second: 50397.5</pre>"
      ],
      "text/plain": [
       "Read 167333 lines. Lines per second: 50397.5"
      ]
     },
     "metadata": {},
     "output_type": "display_data"
    },
    {
     "data": {
      "text/html": [
       "<pre>Unable to parse line \"2140630537\t27512\t\t\t김현자 金賢子 저 著 한국현대시작품연구\t\"김현자(金賢子) 저(著), 한국현대시작품연구\t\t1989\t1989-05-01\t\t\t\t\t101\t\t346\t346\t0\t0\t0\t국어국문학\t2016-06-24\"</pre>"
      ],
      "text/plain": [
       "Unable to parse line \"2140630537\t27512\t\t\t김현자 金賢子 저 著 한국현대시작품연구\t\"김현자(金賢子) 저(著), 한국현대시작품연구\t\t1989\t1989-05-01\t\t\t\t\t101\t\t346\t346\t0\t0\t0\t국어국문학\t2016-06-24\""
      ]
     },
     "metadata": {},
     "output_type": "display_data"
    },
    {
     "data": {
      "text/html": [
       "<pre>Unable to parse line \"141772402\t25474\t\t\tthe debate continues local scale values and finding common ground\t\"The Debate Continues - Local, Scale, Values, and Finding Common Ground\t\t2008\t2008-01-01\t\t\t\t\t\t\t\t\t0\t0\t0\t\t2016-06-24\"</pre>"
      ],
      "text/plain": [
       "Unable to parse line \"141772402\t25474\t\t\tthe debate continues local scale values and finding common ground\t\"The Debate Continues - Local, Scale, Values, and Finding Common Ground\t\t2008\t2008-01-01\t\t\t\t\t\t\t\t\t0\t0\t0\t\t2016-06-24\""
      ]
     },
     "metadata": {},
     "output_type": "display_data"
    },
    {
     "data": {
      "text/html": [
       "<pre>Unable to parse line \"1969121196\t26357\t10.2143/ARAM.11.1.504475\tJournal\tles fondations d antioche dans l antiochikos oratio xi de libanius\t\"Les fondations d'Antioche dans l'Antiochikos (oratio XI) de Libanius\t\t2000\t2000-01-01\t\t57158648\t\t\t11\t1\t357\t388\t0\t0\t0\tAram Periodical\t2016-...\"</pre>"
      ],
      "text/plain": [
       "Unable to parse line \"1969121196\t26357\t10.2143/ARAM.11.1.504475\tJournal\tles fondations d antioche dans l antiochikos oratio xi de libanius\t\"Les fondations d'Antioche dans l'Antiochikos (oratio XI) de Libanius\t\t2000\t2000-01-01\t\t57158648\t\t\t11\t1\t357\t388\t0\t0\t0\tAram Periodical\t2016-...\""
      ]
     },
     "metadata": {},
     "output_type": "display_data"
    },
    {
     "data": {
      "text/html": [
       "<pre>Unable to parse line \"2140796589\t26081\t\t\tresorcion de hueso alveolar en pacientes diabeticos tipo 2 y pacientes no diabeticos con periodontitis cronica ciudad\t\"RESORCIÓN DE HUESO ALVEOLAR EN PACIENTES DIABÉTICOS TIPO 2 Y PACIENTES NO DIABÉTICOS, CON PERIODONTITIS CRÓNICA, C...\"</pre>"
      ],
      "text/plain": [
       "Unable to parse line \"2140796589\t26081\t\t\tresorcion de hueso alveolar en pacientes diabeticos tipo 2 y pacientes no diabeticos con periodontitis cronica ciudad\t\"RESORCIÓN DE HUESO ALVEOLAR EN PACIENTES DIABÉTICOS TIPO 2 Y PACIENTES NO DIABÉTICOS, CON PERIODONTITIS CRÓNICA, C...\""
      ]
     },
     "metadata": {},
     "output_type": "display_data"
    },
    {
     "data": {
      "text/html": [
       "<pre>Read 837108 lines. Lines per second: 95750</pre>"
      ],
      "text/plain": [
       "Read 837108 lines. Lines per second: 95750"
      ]
     },
     "metadata": {},
     "output_type": "display_data"
    },
    {
     "data": {
      "text/html": [
       "<pre>Read 1507018 lines. Lines per second: 105691</pre>"
      ],
      "text/plain": [
       "Read 1507018 lines. Lines per second: 105691"
      ]
     },
     "metadata": {},
     "output_type": "display_data"
    },
    {
     "data": {
      "text/html": [
       "<pre>Read 2176307 lines. Lines per second: 104610</pre>"
      ],
      "text/plain": [
       "Read 2176307 lines. Lines per second: 104610"
      ]
     },
     "metadata": {},
     "output_type": "display_data"
    },
    {
     "data": {
      "text/html": [
       "<pre>Read 2863330 lines. Lines per second: 108152</pre>"
      ],
      "text/plain": [
       "Read 2863330 lines. Lines per second: 108152"
      ]
     },
     "metadata": {},
     "output_type": "display_data"
    },
    {
     "data": {
      "text/html": [
       "<pre>Read 3403788 lines. Lines per second: 107562</pre>"
      ],
      "text/plain": [
       "Read 3403788 lines. Lines per second: 107562"
      ]
     },
     "metadata": {},
     "output_type": "display_data"
    },
    {
     "data": {
      "text/html": [
       "<pre>Read 4041346 lines. Lines per second: 106597</pre>"
      ],
      "text/plain": [
       "Read 4041346 lines. Lines per second: 106597"
      ]
     },
     "metadata": {},
     "output_type": "display_data"
    },
    {
     "data": {
      "text/html": [
       "<pre>Read 4678836 lines. Lines per second: 107512</pre>"
      ],
      "text/plain": [
       "Read 4678836 lines. Lines per second: 107512"
      ]
     },
     "metadata": {},
     "output_type": "display_data"
    },
    {
     "data": {
      "text/html": [
       "<pre>Read 5156914 lines. Lines per second: 105317</pre>"
      ],
      "text/plain": [
       "Read 5156914 lines. Lines per second: 105317"
      ]
     },
     "metadata": {},
     "output_type": "display_data"
    },
    {
     "data": {
      "text/html": [
       "<pre>Read 5635431 lines. Lines per second: 104054</pre>"
      ],
      "text/plain": [
       "Read 5635431 lines. Lines per second: 104054"
      ]
     },
     "metadata": {},
     "output_type": "display_data"
    },
    {
     "data": {
      "text/html": [
       "<pre>Read 6160606 lines. Lines per second: 102998</pre>"
      ],
      "text/plain": [
       "Read 6160606 lines. Lines per second: 102998"
      ]
     },
     "metadata": {},
     "output_type": "display_data"
    },
    {
     "data": {
      "text/html": [
       "<pre>Read 6697470 lines. Lines per second: 101523</pre>"
      ],
      "text/plain": [
       "Read 6697470 lines. Lines per second: 101523"
      ]
     },
     "metadata": {},
     "output_type": "display_data"
    },
    {
     "data": {
      "text/html": [
       "<pre>Read 7234910 lines. Lines per second: 100470</pre>"
      ],
      "text/plain": [
       "Read 7234910 lines. Lines per second: 100470"
      ]
     },
     "metadata": {},
     "output_type": "display_data"
    },
    {
     "data": {
      "text/html": [
       "<pre>Read 7593320 lines. Lines per second: 98709.6</pre>"
      ],
      "text/plain": [
       "Read 7593320 lines. Lines per second: 98709.6"
      ]
     },
     "metadata": {},
     "output_type": "display_data"
    },
    {
     "data": {
      "text/html": [
       "<pre>Read 8154988 lines. Lines per second: 97533.4</pre>"
      ],
      "text/plain": [
       "Read 8154988 lines. Lines per second: 97533.4"
      ]
     },
     "metadata": {},
     "output_type": "display_data"
    },
    {
     "data": {
      "text/html": [
       "<pre>Read 8718596 lines. Lines per second: 96724.7</pre>"
      ],
      "text/plain": [
       "Read 8718596 lines. Lines per second: 96724.7"
      ]
     },
     "metadata": {},
     "output_type": "display_data"
    },
    {
     "data": {
      "text/html": [
       "<pre>Read 9298204 lines. Lines per second: 97397.9</pre>"
      ],
      "text/plain": [
       "Read 9298204 lines. Lines per second: 97397.9"
      ]
     },
     "metadata": {},
     "output_type": "display_data"
    },
    {
     "data": {
      "text/html": [
       "<pre>Read 9875809 lines. Lines per second: 96370.3</pre>"
      ],
      "text/plain": [
       "Read 9875809 lines. Lines per second: 96370.3"
      ]
     },
     "metadata": {},
     "output_type": "display_data"
    },
    {
     "data": {
      "text/html": [
       "<pre>Read 10699970 lines. Lines per second: 98148.2</pre>"
      ],
      "text/plain": [
       "Read 10699970 lines. Lines per second: 98148.2"
      ]
     },
     "metadata": {},
     "output_type": "display_data"
    },
    {
     "data": {
      "text/html": [
       "<pre>Read 11495127 lines. Lines per second: 99344.2</pre>"
      ],
      "text/plain": [
       "Read 11495127 lines. Lines per second: 99344.2"
      ]
     },
     "metadata": {},
     "output_type": "display_data"
    },
    {
     "data": {
      "text/html": [
       "<pre>Read 12267813 lines. Lines per second: 99108.6</pre>"
      ],
      "text/plain": [
       "Read 12267813 lines. Lines per second: 99108.6"
      ]
     },
     "metadata": {},
     "output_type": "display_data"
    },
    {
     "data": {
      "text/html": [
       "<pre>Read 12791609 lines. Lines per second: 98462.4</pre>"
      ],
      "text/plain": [
       "Read 12791609 lines. Lines per second: 98462.4"
      ]
     },
     "metadata": {},
     "output_type": "display_data"
    },
    {
     "data": {
      "text/html": [
       "<pre>Read 13315462 lines. Lines per second: 98558.1</pre>"
      ],
      "text/plain": [
       "Read 13315462 lines. Lines per second: 98558.1"
      ]
     },
     "metadata": {},
     "output_type": "display_data"
    },
    {
     "data": {
      "text/html": [
       "<pre>Read 13839845 lines. Lines per second: 98035.4</pre>"
      ],
      "text/plain": [
       "Read 13839845 lines. Lines per second: 98035.4"
      ]
     },
     "metadata": {},
     "output_type": "display_data"
    },
    {
     "data": {
      "text/html": [
       "<pre>Read 14366803 lines. Lines per second: 97665.7</pre>"
      ],
      "text/plain": [
       "Read 14366803 lines. Lines per second: 97665.7"
      ]
     },
     "metadata": {},
     "output_type": "display_data"
    },
    {
     "data": {
      "text/html": [
       "<pre>Read 14927102 lines. Lines per second: 97411.6</pre>"
      ],
      "text/plain": [
       "Read 14927102 lines. Lines per second: 97411.6"
      ]
     },
     "metadata": {},
     "output_type": "display_data"
    },
    {
     "data": {
      "text/html": [
       "<pre>Read 15500329 lines. Lines per second: 97258.6</pre>"
      ],
      "text/plain": [
       "Read 15500329 lines. Lines per second: 97258.6"
      ]
     },
     "metadata": {},
     "output_type": "display_data"
    },
    {
     "data": {
      "text/html": [
       "<pre>Read 16061841 lines. Lines per second: 96536.9</pre>"
      ],
      "text/plain": [
       "Read 16061841 lines. Lines per second: 96536.9"
      ]
     },
     "metadata": {},
     "output_type": "display_data"
    },
    {
     "data": {
      "text/html": [
       "<pre>Read 16613977 lines. Lines per second: 95759.3</pre>"
      ],
      "text/plain": [
       "Read 16613977 lines. Lines per second: 95759.3"
      ]
     },
     "metadata": {},
     "output_type": "display_data"
    },
    {
     "data": {
      "text/html": [
       "<pre>Read 17168376 lines. Lines per second: 95808.9</pre>"
      ],
      "text/plain": [
       "Read 17168376 lines. Lines per second: 95808.9"
      ]
     },
     "metadata": {},
     "output_type": "display_data"
    },
    {
     "data": {
      "text/html": [
       "<pre>Read 17753689 lines. Lines per second: 95235.8</pre>"
      ],
      "text/plain": [
       "Read 17753689 lines. Lines per second: 95235.8"
      ]
     },
     "metadata": {},
     "output_type": "display_data"
    },
    {
     "data": {
      "text/html": [
       "<pre>Read 18350000 lines. Lines per second: 95362</pre>"
      ],
      "text/plain": [
       "Read 18350000 lines. Lines per second: 95362"
      ]
     },
     "metadata": {},
     "output_type": "display_data"
    },
    {
     "data": {
      "text/html": [
       "<pre>Read 18785105 lines. Lines per second: 94609</pre>"
      ],
      "text/plain": [
       "Read 18785105 lines. Lines per second: 94609"
      ]
     },
     "metadata": {},
     "output_type": "display_data"
    },
    {
     "data": {
      "text/html": [
       "<pre>Read 19299296 lines. Lines per second: 94429.3</pre>"
      ],
      "text/plain": [
       "Read 19299296 lines. Lines per second: 94429.3"
      ]
     },
     "metadata": {},
     "output_type": "display_data"
    },
    {
     "data": {
      "text/html": [
       "<pre>Read 19802432 lines. Lines per second: 94392.2</pre>"
      ],
      "text/plain": [
       "Read 19802432 lines. Lines per second: 94392.2"
      ]
     },
     "metadata": {},
     "output_type": "display_data"
    },
    {
     "data": {
      "text/html": [
       "<pre>Read 20305153 lines. Lines per second: 93636.4</pre>"
      ],
      "text/plain": [
       "Read 20305153 lines. Lines per second: 93636.4"
      ]
     },
     "metadata": {},
     "output_type": "display_data"
    },
    {
     "data": {
      "text/html": [
       "<pre>Read 20975327 lines. Lines per second: 94072.7</pre>"
      ],
      "text/plain": [
       "Read 20975327 lines. Lines per second: 94072.7"
      ]
     },
     "metadata": {},
     "output_type": "display_data"
    },
    {
     "data": {
      "text/html": [
       "<pre>Read 21310587 lines. Lines per second: 93380.6</pre>"
      ],
      "text/plain": [
       "Read 21310587 lines. Lines per second: 93380.6"
      ]
     },
     "metadata": {},
     "output_type": "display_data"
    },
    {
     "data": {
      "text/html": [
       "<pre>Read 21867758 lines. Lines per second: 93396.1</pre>"
      ],
      "text/plain": [
       "Read 21867758 lines. Lines per second: 93396.1"
      ]
     },
     "metadata": {},
     "output_type": "display_data"
    },
    {
     "data": {
      "text/html": [
       "<pre>Read 22438927 lines. Lines per second: 93413.2</pre>"
      ],
      "text/plain": [
       "Read 22438927 lines. Lines per second: 93413.2"
      ]
     },
     "metadata": {},
     "output_type": "display_data"
    },
    {
     "data": {
      "text/html": [
       "<pre>Read 22980562 lines. Lines per second: 93530.5</pre>"
      ],
      "text/plain": [
       "Read 22980562 lines. Lines per second: 93530.5"
      ]
     },
     "metadata": {},
     "output_type": "display_data"
    },
    {
     "data": {
      "text/html": [
       "<pre>Read 23509771 lines. Lines per second: 93751.4</pre>"
      ],
      "text/plain": [
       "Read 23509771 lines. Lines per second: 93751.4"
      ]
     },
     "metadata": {},
     "output_type": "display_data"
    },
    {
     "data": {
      "text/html": [
       "<pre>Read 23862236 lines. Lines per second: 93259.9</pre>"
      ],
      "text/plain": [
       "Read 23862236 lines. Lines per second: 93259.9"
      ]
     },
     "metadata": {},
     "output_type": "display_data"
    },
    {
     "data": {
      "text/html": [
       "<pre>Read 24391258 lines. Lines per second: 93038.9</pre>"
      ],
      "text/plain": [
       "Read 24391258 lines. Lines per second: 93038.9"
      ]
     },
     "metadata": {},
     "output_type": "display_data"
    },
    {
     "data": {
      "text/html": [
       "<pre>Read 24930418 lines. Lines per second: 93020.8</pre>"
      ],
      "text/plain": [
       "Read 24930418 lines. Lines per second: 93020.8"
      ]
     },
     "metadata": {},
     "output_type": "display_data"
    },
    {
     "data": {
      "text/html": [
       "<pre>Read 25458084 lines. Lines per second: 92987</pre>"
      ],
      "text/plain": [
       "Read 25458084 lines. Lines per second: 92987"
      ]
     },
     "metadata": {},
     "output_type": "display_data"
    },
    {
     "data": {
      "text/html": [
       "<pre>Read 25979409 lines. Lines per second: 92931.6</pre>"
      ],
      "text/plain": [
       "Read 25979409 lines. Lines per second: 92931.6"
      ]
     },
     "metadata": {},
     "output_type": "display_data"
    },
    {
     "data": {
      "text/html": [
       "<pre>Read 26327041 lines. Lines per second: 92463.8</pre>"
      ],
      "text/plain": [
       "Read 26327041 lines. Lines per second: 92463.8"
      ]
     },
     "metadata": {},
     "output_type": "display_data"
    },
    {
     "data": {
      "text/html": [
       "<pre>Read 26848610 lines. Lines per second: 92205.4</pre>"
      ],
      "text/plain": [
       "Read 26848610 lines. Lines per second: 92205.4"
      ]
     },
     "metadata": {},
     "output_type": "display_data"
    },
    {
     "data": {
      "text/html": [
       "<pre>Read 27369982 lines. Lines per second: 92090</pre>"
      ],
      "text/plain": [
       "Read 27369982 lines. Lines per second: 92090"
      ]
     },
     "metadata": {},
     "output_type": "display_data"
    },
    {
     "data": {
      "text/html": [
       "<pre>Read 27915887 lines. Lines per second: 91782.6</pre>"
      ],
      "text/plain": [
       "Read 27915887 lines. Lines per second: 91782.6"
      ]
     },
     "metadata": {},
     "output_type": "display_data"
    },
    {
     "data": {
      "text/html": [
       "<pre>Read 28475458 lines. Lines per second: 91806.1</pre>"
      ],
      "text/plain": [
       "Read 28475458 lines. Lines per second: 91806.1"
      ]
     },
     "metadata": {},
     "output_type": "display_data"
    },
    {
     "data": {
      "text/html": [
       "<pre>Read 29011636 lines. Lines per second: 91664.2</pre>"
      ],
      "text/plain": [
       "Read 29011636 lines. Lines per second: 91664.2"
      ]
     },
     "metadata": {},
     "output_type": "display_data"
    },
    {
     "data": {
      "text/html": [
       "<pre>Read 29544631 lines. Lines per second: 91394.7</pre>"
      ],
      "text/plain": [
       "Read 29544631 lines. Lines per second: 91394.7"
      ]
     },
     "metadata": {},
     "output_type": "display_data"
    },
    {
     "data": {
      "text/html": [
       "<pre>Read 30072825 lines. Lines per second: 91497.1</pre>"
      ],
      "text/plain": [
       "Read 30072825 lines. Lines per second: 91497.1"
      ]
     },
     "metadata": {},
     "output_type": "display_data"
    },
    {
     "data": {
      "text/html": [
       "<pre>Read 30617618 lines. Lines per second: 91578.8</pre>"
      ],
      "text/plain": [
       "Read 30617618 lines. Lines per second: 91578.8"
      ]
     },
     "metadata": {},
     "output_type": "display_data"
    },
    {
     "data": {
      "text/html": [
       "<pre>Read 30981482 lines. Lines per second: 91192.9</pre>"
      ],
      "text/plain": [
       "Read 30981482 lines. Lines per second: 91192.9"
      ]
     },
     "metadata": {},
     "output_type": "display_data"
    },
    {
     "data": {
      "text/html": [
       "<pre>Read 31533983 lines. Lines per second: 90863.9</pre>"
      ],
      "text/plain": [
       "Read 31533983 lines. Lines per second: 90863.9"
      ]
     },
     "metadata": {},
     "output_type": "display_data"
    },
    {
     "data": {
      "text/html": [
       "<pre>Read 32032986 lines. Lines per second: 90683.1</pre>"
      ],
      "text/plain": [
       "Read 32032986 lines. Lines per second: 90683.1"
      ]
     },
     "metadata": {},
     "output_type": "display_data"
    },
    {
     "data": {
      "text/html": [
       "<pre>Read 32527903 lines. Lines per second: 90427.2</pre>"
      ],
      "text/plain": [
       "Read 32527903 lines. Lines per second: 90427.2"
      ]
     },
     "metadata": {},
     "output_type": "display_data"
    },
    {
     "data": {
      "text/html": [
       "<pre>Read 33022439 lines. Lines per second: 90343.5</pre>"
      ],
      "text/plain": [
       "Read 33022439 lines. Lines per second: 90343.5"
      ]
     },
     "metadata": {},
     "output_type": "display_data"
    },
    {
     "data": {
      "text/html": [
       "<pre>Read 33516779 lines. Lines per second: 90172.4</pre>"
      ],
      "text/plain": [
       "Read 33516779 lines. Lines per second: 90172.4"
      ]
     },
     "metadata": {},
     "output_type": "display_data"
    },
    {
     "data": {
      "text/html": [
       "<pre>Read 34012026 lines. Lines per second: 90086.8</pre>"
      ],
      "text/plain": [
       "Read 34012026 lines. Lines per second: 90086.8"
      ]
     },
     "metadata": {},
     "output_type": "display_data"
    },
    {
     "data": {
      "text/html": [
       "<pre>Read 34525176 lines. Lines per second: 90008.6</pre>"
      ],
      "text/plain": [
       "Read 34525176 lines. Lines per second: 90008.6"
      ]
     },
     "metadata": {},
     "output_type": "display_data"
    },
    {
     "data": {
      "text/html": [
       "<pre>Read 35054877 lines. Lines per second: 89694.9</pre>"
      ],
      "text/plain": [
       "Read 35054877 lines. Lines per second: 89694.9"
      ]
     },
     "metadata": {},
     "output_type": "display_data"
    },
    {
     "data": {
      "text/html": [
       "<pre>Read 35567713 lines. Lines per second: 89668.7</pre>"
      ],
      "text/plain": [
       "Read 35567713 lines. Lines per second: 89668.7"
      ]
     },
     "metadata": {},
     "output_type": "display_data"
    },
    {
     "data": {
      "text/html": [
       "<pre>Read 36080505 lines. Lines per second: 89682.7</pre>"
      ],
      "text/plain": [
       "Read 36080505 lines. Lines per second: 89682.7"
      ]
     },
     "metadata": {},
     "output_type": "display_data"
    },
    {
     "data": {
      "text/html": [
       "<pre>Read 36594017 lines. Lines per second: 89555.5</pre>"
      ],
      "text/plain": [
       "Read 36594017 lines. Lines per second: 89555.5"
      ]
     },
     "metadata": {},
     "output_type": "display_data"
    },
    {
     "data": {
      "text/html": [
       "<pre>Read 37114574 lines. Lines per second: 89578.9</pre>"
      ],
      "text/plain": [
       "Read 37114574 lines. Lines per second: 89578.9"
      ]
     },
     "metadata": {},
     "output_type": "display_data"
    },
    {
     "data": {
      "text/html": [
       "<pre>Read 37664591 lines. Lines per second: 89437.5</pre>"
      ],
      "text/plain": [
       "Read 37664591 lines. Lines per second: 89437.5"
      ]
     },
     "metadata": {},
     "output_type": "display_data"
    },
    {
     "data": {
      "text/html": [
       "<pre>Read 38214950 lines. Lines per second: 89279.7</pre>"
      ],
      "text/plain": [
       "Read 38214950 lines. Lines per second: 89279.7"
      ]
     },
     "metadata": {},
     "output_type": "display_data"
    },
    {
     "data": {
      "text/html": [
       "<pre>Read 38733532 lines. Lines per second: 89199.9</pre>"
      ],
      "text/plain": [
       "Read 38733532 lines. Lines per second: 89199.9"
      ]
     },
     "metadata": {},
     "output_type": "display_data"
    },
    {
     "data": {
      "text/html": [
       "<pre>Read 39253145 lines. Lines per second: 89141.5</pre>"
      ],
      "text/plain": [
       "Read 39253145 lines. Lines per second: 89141.5"
      ]
     },
     "metadata": {},
     "output_type": "display_data"
    },
    {
     "data": {
      "text/html": [
       "<pre>Read 39773009 lines. Lines per second: 89217</pre>"
      ],
      "text/plain": [
       "Read 39773009 lines. Lines per second: 89217"
      ]
     },
     "metadata": {},
     "output_type": "display_data"
    },
    {
     "data": {
      "text/html": [
       "<pre>Read 40303376 lines. Lines per second: 89124.1</pre>"
      ],
      "text/plain": [
       "Read 40303376 lines. Lines per second: 89124.1"
      ]
     },
     "metadata": {},
     "output_type": "display_data"
    },
    {
     "data": {
      "text/html": [
       "<pre>Read 40839008 lines. Lines per second: 88980.5</pre>"
      ],
      "text/plain": [
       "Read 40839008 lines. Lines per second: 88980.5"
      ]
     },
     "metadata": {},
     "output_type": "display_data"
    },
    {
     "data": {
      "text/html": [
       "<pre>Read 41391384 lines. Lines per second: 88959.1</pre>"
      ],
      "text/plain": [
       "Read 41391384 lines. Lines per second: 88959.1"
      ]
     },
     "metadata": {},
     "output_type": "display_data"
    },
    {
     "data": {
      "text/html": [
       "<pre>Read 41764479 lines. Lines per second: 88696.5</pre>"
      ],
      "text/plain": [
       "Read 41764479 lines. Lines per second: 88696.5"
      ]
     },
     "metadata": {},
     "output_type": "display_data"
    },
    {
     "data": {
      "text/html": [
       "<pre>Read 42327119 lines. Lines per second: 88735.4</pre>"
      ],
      "text/plain": [
       "Read 42327119 lines. Lines per second: 88735.4"
      ]
     },
     "metadata": {},
     "output_type": "display_data"
    },
    {
     "data": {
      "text/html": [
       "<pre>Read 42889581 lines. Lines per second: 88829.4</pre>"
      ],
      "text/plain": [
       "Read 42889581 lines. Lines per second: 88829.4"
      ]
     },
     "metadata": {},
     "output_type": "display_data"
    },
    {
     "data": {
      "text/html": [
       "<pre>Read 43466636 lines. Lines per second: 88894.5</pre>"
      ],
      "text/plain": [
       "Read 43466636 lines. Lines per second: 88894.5"
      ]
     },
     "metadata": {},
     "output_type": "display_data"
    },
    {
     "data": {
      "text/html": [
       "<pre>Read 43849727 lines. Lines per second: 88754.1</pre>"
      ],
      "text/plain": [
       "Read 43849727 lines. Lines per second: 88754.1"
      ]
     },
     "metadata": {},
     "output_type": "display_data"
    },
    {
     "data": {
      "text/html": [
       "<pre>Read 44426852 lines. Lines per second: 88718.2</pre>"
      ],
      "text/plain": [
       "Read 44426852 lines. Lines per second: 88718.2"
      ]
     },
     "metadata": {},
     "output_type": "display_data"
    },
    {
     "data": {
      "text/html": [
       "<pre>Read 44983864 lines. Lines per second: 88777.4</pre>"
      ],
      "text/plain": [
       "Read 44983864 lines. Lines per second: 88777.4"
      ]
     },
     "metadata": {},
     "output_type": "display_data"
    },
    {
     "data": {
      "text/html": [
       "<pre>Read 45540385 lines. Lines per second: 88675.5</pre>"
      ],
      "text/plain": [
       "Read 45540385 lines. Lines per second: 88675.5"
      ]
     },
     "metadata": {},
     "output_type": "display_data"
    },
    {
     "data": {
      "text/html": [
       "<pre>Read 46097489 lines. Lines per second: 88758.4</pre>"
      ],
      "text/plain": [
       "Read 46097489 lines. Lines per second: 88758.4"
      ]
     },
     "metadata": {},
     "output_type": "display_data"
    },
    {
     "data": {
      "text/html": [
       "<pre>Read 46654280 lines. Lines per second: 88663.3</pre>"
      ],
      "text/plain": [
       "Read 46654280 lines. Lines per second: 88663.3"
      ]
     },
     "metadata": {},
     "output_type": "display_data"
    },
    {
     "data": {
      "text/html": [
       "<pre>Read 47229202 lines. Lines per second: 88774.4</pre>"
      ],
      "text/plain": [
       "Read 47229202 lines. Lines per second: 88774.4"
      ]
     },
     "metadata": {},
     "output_type": "display_data"
    },
    {
     "data": {
      "text/html": [
       "<pre>Read 47808588 lines. Lines per second: 88857.5</pre>"
      ],
      "text/plain": [
       "Read 47808588 lines. Lines per second: 88857.5"
      ]
     },
     "metadata": {},
     "output_type": "display_data"
    },
    {
     "data": {
      "text/html": [
       "<pre>Read 48407128 lines. Lines per second: 89052.7</pre>"
      ],
      "text/plain": [
       "Read 48407128 lines. Lines per second: 89052.7"
      ]
     },
     "metadata": {},
     "output_type": "display_data"
    },
    {
     "data": {
      "text/html": [
       "<pre>Read 49005732 lines. Lines per second: 89189.3</pre>"
      ],
      "text/plain": [
       "Read 49005732 lines. Lines per second: 89189.3"
      ]
     },
     "metadata": {},
     "output_type": "display_data"
    },
    {
     "data": {
      "text/html": [
       "<pre>Read 49675696 lines. Lines per second: 89210.9</pre>"
      ],
      "text/plain": [
       "Read 49675696 lines. Lines per second: 89210.9"
      ]
     },
     "metadata": {},
     "output_type": "display_data"
    },
    {
     "data": {
      "text/html": [
       "<pre>Read 50176343 lines. Lines per second: 89299.1</pre>"
      ],
      "text/plain": [
       "Read 50176343 lines. Lines per second: 89299.1"
      ]
     },
     "metadata": {},
     "output_type": "display_data"
    },
    {
     "data": {
      "text/html": [
       "<pre>Read 50720230 lines. Lines per second: 89290.4</pre>"
      ],
      "text/plain": [
       "Read 50720230 lines. Lines per second: 89290.4"
      ]
     },
     "metadata": {},
     "output_type": "display_data"
    },
    {
     "data": {
      "text/html": [
       "<pre>Read 51229506 lines. Lines per second: 89250.3</pre>"
      ],
      "text/plain": [
       "Read 51229506 lines. Lines per second: 89250.3"
      ]
     },
     "metadata": {},
     "output_type": "display_data"
    },
    {
     "data": {
      "text/html": [
       "<pre>Read 51790718 lines. Lines per second: 89328.4</pre>"
      ],
      "text/plain": [
       "Read 51790718 lines. Lines per second: 89328.4"
      ]
     },
     "metadata": {},
     "output_type": "display_data"
    },
    {
     "data": {
      "text/html": [
       "<pre>Read 52351431 lines. Lines per second: 89361.3</pre>"
      ],
      "text/plain": [
       "Read 52351431 lines. Lines per second: 89361.3"
      ]
     },
     "metadata": {},
     "output_type": "display_data"
    },
    {
     "data": {
      "text/html": [
       "<pre>Read 52913795 lines. Lines per second: 89423.9</pre>"
      ],
      "text/plain": [
       "Read 52913795 lines. Lines per second: 89423.9"
      ]
     },
     "metadata": {},
     "output_type": "display_data"
    },
    {
     "data": {
      "text/html": [
       "<pre>Read 53593299 lines. Lines per second: 89554.4</pre>"
      ],
      "text/plain": [
       "Read 53593299 lines. Lines per second: 89554.4"
      ]
     },
     "metadata": {},
     "output_type": "display_data"
    },
    {
     "data": {
      "text/html": [
       "<pre>Read 54133070 lines. Lines per second: 89646.3</pre>"
      ],
      "text/plain": [
       "Read 54133070 lines. Lines per second: 89646.3"
      ]
     },
     "metadata": {},
     "output_type": "display_data"
    },
    {
     "data": {
      "text/html": [
       "<pre>Read 54676732 lines. Lines per second: 89736</pre>"
      ],
      "text/plain": [
       "Read 54676732 lines. Lines per second: 89736"
      ]
     },
     "metadata": {},
     "output_type": "display_data"
    },
    {
     "data": {
      "text/html": [
       "<pre>Read 55156816 lines. Lines per second: 89690.4</pre>"
      ],
      "text/plain": [
       "Read 55156816 lines. Lines per second: 89690.4"
      ]
     },
     "metadata": {},
     "output_type": "display_data"
    },
    {
     "data": {
      "text/html": [
       "<pre>Read 55709587 lines. Lines per second: 89608.4</pre>"
      ],
      "text/plain": [
       "Read 55709587 lines. Lines per second: 89608.4"
      ]
     },
     "metadata": {},
     "output_type": "display_data"
    },
    {
     "data": {
      "text/html": [
       "<pre>Read 56262086 lines. Lines per second: 89614.1</pre>"
      ],
      "text/plain": [
       "Read 56262086 lines. Lines per second: 89614.1"
      ]
     },
     "metadata": {},
     "output_type": "display_data"
    },
    {
     "data": {
      "text/html": [
       "<pre>Read 56815381 lines. Lines per second: 89629.3</pre>"
      ],
      "text/plain": [
       "Read 56815381 lines. Lines per second: 89629.3"
      ]
     },
     "metadata": {},
     "output_type": "display_data"
    },
    {
     "data": {
      "text/html": [
       "<pre>Read 57368496 lines. Lines per second: 89549.1</pre>"
      ],
      "text/plain": [
       "Read 57368496 lines. Lines per second: 89549.1"
      ]
     },
     "metadata": {},
     "output_type": "display_data"
    },
    {
     "data": {
      "text/html": [
       "<pre>Read 57921546 lines. Lines per second: 89526.9</pre>"
      ],
      "text/plain": [
       "Read 57921546 lines. Lines per second: 89526.9"
      ]
     },
     "metadata": {},
     "output_type": "display_data"
    },
    {
     "data": {
      "text/html": [
       "<pre>Read 58493277 lines. Lines per second: 89500</pre>"
      ],
      "text/plain": [
       "Read 58493277 lines. Lines per second: 89500"
      ]
     },
     "metadata": {},
     "output_type": "display_data"
    },
    {
     "data": {
      "text/html": [
       "<pre>Read 59090734 lines. Lines per second: 89420.3</pre>"
      ],
      "text/plain": [
       "Read 59090734 lines. Lines per second: 89420.3"
      ]
     },
     "metadata": {},
     "output_type": "display_data"
    },
    {
     "data": {
      "text/html": [
       "<pre>Read 59688495 lines. Lines per second: 89504.3</pre>"
      ],
      "text/plain": [
       "Read 59688495 lines. Lines per second: 89504.3"
      ]
     },
     "metadata": {},
     "output_type": "display_data"
    },
    {
     "data": {
      "text/html": [
       "<pre>Read 60309315 lines. Lines per second: 89567.3</pre>"
      ],
      "text/plain": [
       "Read 60309315 lines. Lines per second: 89567.3"
      ]
     },
     "metadata": {},
     "output_type": "display_data"
    },
    {
     "data": {
      "text/html": [
       "<pre>Read 61015998 lines. Lines per second: 89556</pre>"
      ],
      "text/plain": [
       "Read 61015998 lines. Lines per second: 89556"
      ]
     },
     "metadata": {},
     "output_type": "display_data"
    },
    {
     "data": {
      "text/html": [
       "<pre>Read 61560259 lines. Lines per second: 89598.2</pre>"
      ],
      "text/plain": [
       "Read 61560259 lines. Lines per second: 89598.2"
      ]
     },
     "metadata": {},
     "output_type": "display_data"
    },
    {
     "data": {
      "text/html": [
       "<pre>Read 62104420 lines. Lines per second: 89625.9</pre>"
      ],
      "text/plain": [
       "Read 62104420 lines. Lines per second: 89625.9"
      ]
     },
     "metadata": {},
     "output_type": "display_data"
    },
    {
     "data": {
      "text/html": [
       "<pre>Read 62723034 lines. Lines per second: 89600.9</pre>"
      ],
      "text/plain": [
       "Read 62723034 lines. Lines per second: 89600.9"
      ]
     },
     "metadata": {},
     "output_type": "display_data"
    },
    {
     "data": {
      "text/html": [
       "<pre>Read 63295054 lines. Lines per second: 89624.5</pre>"
      ],
      "text/plain": [
       "Read 63295054 lines. Lines per second: 89624.5"
      ]
     },
     "metadata": {},
     "output_type": "display_data"
    },
    {
     "data": {
      "text/html": [
       "<pre>Read 63861414 lines. Lines per second: 89667.1</pre>"
      ],
      "text/plain": [
       "Read 63861414 lines. Lines per second: 89667.1"
      ]
     },
     "metadata": {},
     "output_type": "display_data"
    },
    {
     "data": {
      "text/html": [
       "<pre>Read 64405082 lines. Lines per second: 89588.8</pre>"
      ],
      "text/plain": [
       "Read 64405082 lines. Lines per second: 89588.8"
      ]
     },
     "metadata": {},
     "output_type": "display_data"
    },
    {
     "data": {
      "text/html": [
       "<pre>Read 64941900 lines. Lines per second: 89552.8</pre>"
      ],
      "text/plain": [
       "Read 64941900 lines. Lines per second: 89552.8"
      ]
     },
     "metadata": {},
     "output_type": "display_data"
    },
    {
     "data": {
      "text/html": [
       "<pre>Read 65483083 lines. Lines per second: 89560.4</pre>"
      ],
      "text/plain": [
       "Read 65483083 lines. Lines per second: 89560.4"
      ]
     },
     "metadata": {},
     "output_type": "display_data"
    },
    {
     "data": {
      "text/html": [
       "<pre>Read 65975741 lines. Lines per second: 89469.7</pre>"
      ],
      "text/plain": [
       "Read 65975741 lines. Lines per second: 89469.7"
      ]
     },
     "metadata": {},
     "output_type": "display_data"
    },
    {
     "data": {
      "text/html": [
       "<pre>Read 66461856 lines. Lines per second: 89398.2</pre>"
      ],
      "text/plain": [
       "Read 66461856 lines. Lines per second: 89398.2"
      ]
     },
     "metadata": {},
     "output_type": "display_data"
    },
    {
     "data": {
      "text/html": [
       "<pre>Read 66948296 lines. Lines per second: 89379.3</pre>"
      ],
      "text/plain": [
       "Read 66948296 lines. Lines per second: 89379.3"
      ]
     },
     "metadata": {},
     "output_type": "display_data"
    },
    {
     "data": {
      "text/html": [
       "<pre>Read 67463196 lines. Lines per second: 89313</pre>"
      ],
      "text/plain": [
       "Read 67463196 lines. Lines per second: 89313"
      ]
     },
     "metadata": {},
     "output_type": "display_data"
    },
    {
     "data": {
      "text/html": [
       "<pre>Read 67971616 lines. Lines per second: 89257</pre>"
      ],
      "text/plain": [
       "Read 67971616 lines. Lines per second: 89257"
      ]
     },
     "metadata": {},
     "output_type": "display_data"
    },
    {
     "data": {
      "text/html": [
       "<pre>Read 68479893 lines. Lines per second: 89290</pre>"
      ],
      "text/plain": [
       "Read 68479893 lines. Lines per second: 89290"
      ]
     },
     "metadata": {},
     "output_type": "display_data"
    },
    {
     "data": {
      "text/html": [
       "<pre>Read 68988295 lines. Lines per second: 89238.1</pre>"
      ],
      "text/plain": [
       "Read 68988295 lines. Lines per second: 89238.1"
      ]
     },
     "metadata": {},
     "output_type": "display_data"
    },
    {
     "data": {
      "text/html": [
       "<pre>Read 69514624 lines. Lines per second: 89240.4</pre>"
      ],
      "text/plain": [
       "Read 69514624 lines. Lines per second: 89240.4"
      ]
     },
     "metadata": {},
     "output_type": "display_data"
    },
    {
     "data": {
      "text/html": [
       "<pre>Read 70046203 lines. Lines per second: 89187.1</pre>"
      ],
      "text/plain": [
       "Read 70046203 lines. Lines per second: 89187.1"
      ]
     },
     "metadata": {},
     "output_type": "display_data"
    },
    {
     "data": {
      "text/html": [
       "<pre>Read 70569684 lines. Lines per second: 89171.4</pre>"
      ],
      "text/plain": [
       "Read 70569684 lines. Lines per second: 89171.4"
      ]
     },
     "metadata": {},
     "output_type": "display_data"
    },
    {
     "data": {
      "text/html": [
       "<pre>Read 71057326 lines. Lines per second: 89110.7</pre>"
      ],
      "text/plain": [
       "Read 71057326 lines. Lines per second: 89110.7"
      ]
     },
     "metadata": {},
     "output_type": "display_data"
    },
    {
     "data": {
      "text/html": [
       "<pre>Read 71543491 lines. Lines per second: 89041.4</pre>"
      ],
      "text/plain": [
       "Read 71543491 lines. Lines per second: 89041.4"
      ]
     },
     "metadata": {},
     "output_type": "display_data"
    },
    {
     "data": {
      "text/html": [
       "<pre>Read 72029830 lines. Lines per second: 89001.5</pre>"
      ],
      "text/plain": [
       "Read 72029830 lines. Lines per second: 89001.5"
      ]
     },
     "metadata": {},
     "output_type": "display_data"
    },
    {
     "data": {
      "text/html": [
       "<pre>Read 72523135 lines. Lines per second: 88931.2</pre>"
      ],
      "text/plain": [
       "Read 72523135 lines. Lines per second: 88931.2"
      ]
     },
     "metadata": {},
     "output_type": "display_data"
    },
    {
     "data": {
      "text/html": [
       "<pre>Read 73042391 lines. Lines per second: 88803.9</pre>"
      ],
      "text/plain": [
       "Read 73042391 lines. Lines per second: 88803.9"
      ]
     },
     "metadata": {},
     "output_type": "display_data"
    },
    {
     "data": {
      "text/html": [
       "<pre>Read 73480080 lines. Lines per second: 88790</pre>"
      ],
      "text/plain": [
       "Read 73480080 lines. Lines per second: 88790"
      ]
     },
     "metadata": {},
     "output_type": "display_data"
    },
    {
     "data": {
      "text/html": [
       "<pre>Read 74131278 lines. Lines per second: 88877.5</pre>"
      ],
      "text/plain": [
       "Read 74131278 lines. Lines per second: 88877.5"
      ]
     },
     "metadata": {},
     "output_type": "display_data"
    },
    {
     "data": {
      "text/html": [
       "<pre>Read 74766793 lines. Lines per second: 88910.4</pre>"
      ],
      "text/plain": [
       "Read 74766793 lines. Lines per second: 88910.4"
      ]
     },
     "metadata": {},
     "output_type": "display_data"
    },
    {
     "data": {
      "text/html": [
       "<pre>Read 75398940 lines. Lines per second: 88903.9</pre>"
      ],
      "text/plain": [
       "Read 75398940 lines. Lines per second: 88903.9"
      ]
     },
     "metadata": {},
     "output_type": "display_data"
    },
    {
     "data": {
      "text/html": [
       "<pre>Read 76137822 lines. Lines per second: 88937</pre>"
      ],
      "text/plain": [
       "Read 76137822 lines. Lines per second: 88937"
      ]
     },
     "metadata": {},
     "output_type": "display_data"
    },
    {
     "data": {
      "text/html": [
       "<pre>Read 76682373 lines. Lines per second: 89000</pre>"
      ],
      "text/plain": [
       "Read 76682373 lines. Lines per second: 89000"
      ]
     },
     "metadata": {},
     "output_type": "display_data"
    },
    {
     "data": {
      "text/html": [
       "<pre>Read 77310799 lines. Lines per second: 89181.7</pre>"
      ],
      "text/plain": [
       "Read 77310799 lines. Lines per second: 89181.7"
      ]
     },
     "metadata": {},
     "output_type": "display_data"
    },
    {
     "data": {
      "text/html": [
       "<pre>Read 77861238 lines. Lines per second: 89268.5</pre>"
      ],
      "text/plain": [
       "Read 77861238 lines. Lines per second: 89268.5"
      ]
     },
     "metadata": {},
     "output_type": "display_data"
    },
    {
     "data": {
      "text/html": [
       "<pre>Read 78585877 lines. Lines per second: 89430.9</pre>"
      ],
      "text/plain": [
       "Read 78585877 lines. Lines per second: 89430.9"
      ]
     },
     "metadata": {},
     "output_type": "display_data"
    },
    {
     "data": {
      "text/html": [
       "<pre>Read 79293200 lines. Lines per second: 89564.8</pre>"
      ],
      "text/plain": [
       "Read 79293200 lines. Lines per second: 89564.8"
      ]
     },
     "metadata": {},
     "output_type": "display_data"
    },
    {
     "data": {
      "text/html": [
       "<pre>Read 79990678 lines. Lines per second: 89743.2</pre>"
      ],
      "text/plain": [
       "Read 79990678 lines. Lines per second: 89743.2"
      ]
     },
     "metadata": {},
     "output_type": "display_data"
    },
    {
     "data": {
      "text/html": [
       "<pre>Read 80657162 lines. Lines per second: 89838.6</pre>"
      ],
      "text/plain": [
       "Read 80657162 lines. Lines per second: 89838.6"
      ]
     },
     "metadata": {},
     "output_type": "display_data"
    },
    {
     "data": {
      "text/html": [
       "<pre>Read 81144711 lines. Lines per second: 89870</pre>"
      ],
      "text/plain": [
       "Read 81144711 lines. Lines per second: 89870"
      ]
     },
     "metadata": {},
     "output_type": "display_data"
    },
    {
     "data": {
      "text/html": [
       "<pre>Read 81795041 lines. Lines per second: 90040.4</pre>"
      ],
      "text/plain": [
       "Read 81795041 lines. Lines per second: 90040.4"
      ]
     },
     "metadata": {},
     "output_type": "display_data"
    },
    {
     "data": {
      "text/html": [
       "<pre>Read 82445761 lines. Lines per second: 90113.8</pre>"
      ],
      "text/plain": [
       "Read 82445761 lines. Lines per second: 90113.8"
      ]
     },
     "metadata": {},
     "output_type": "display_data"
    },
    {
     "data": {
      "text/html": [
       "<pre>Read 83101239 lines. Lines per second: 90179.7</pre>"
      ],
      "text/plain": [
       "Read 83101239 lines. Lines per second: 90179.7"
      ]
     },
     "metadata": {},
     "output_type": "display_data"
    },
    {
     "data": {
      "text/html": [
       "<pre>Read 83766704 lines. Lines per second: 90260.1</pre>"
      ],
      "text/plain": [
       "Read 83766704 lines. Lines per second: 90260.1"
      ]
     },
     "metadata": {},
     "output_type": "display_data"
    },
    {
     "data": {
      "text/html": [
       "<pre>Read 84270729 lines. Lines per second: 90192.1</pre>"
      ],
      "text/plain": [
       "Read 84270729 lines. Lines per second: 90192.1"
      ]
     },
     "metadata": {},
     "output_type": "display_data"
    },
    {
     "data": {
      "text/html": [
       "<pre>Read 84606845 lines. Lines per second: 90053.5</pre>"
      ],
      "text/plain": [
       "Read 84606845 lines. Lines per second: 90053.5"
      ]
     },
     "metadata": {},
     "output_type": "display_data"
    },
    {
     "data": {
      "text/html": [
       "<pre>Read 85112851 lines. Lines per second: 90012.4</pre>"
      ],
      "text/plain": [
       "Read 85112851 lines. Lines per second: 90012.4"
      ]
     },
     "metadata": {},
     "output_type": "display_data"
    },
    {
     "data": {
      "text/html": [
       "<pre>Read 85791485 lines. Lines per second: 90111.6</pre>"
      ],
      "text/plain": [
       "Read 85791485 lines. Lines per second: 90111.6"
      ]
     },
     "metadata": {},
     "output_type": "display_data"
    },
    {
     "data": {
      "text/html": [
       "<pre>Read 86334367 lines. Lines per second: 90166.1</pre>"
      ],
      "text/plain": [
       "Read 86334367 lines. Lines per second: 90166.1"
      ]
     },
     "metadata": {},
     "output_type": "display_data"
    },
    {
     "data": {
      "text/html": [
       "<pre>Read 86868389 lines. Lines per second: 90227.2</pre>"
      ],
      "text/plain": [
       "Read 86868389 lines. Lines per second: 90227.2"
      ]
     },
     "metadata": {},
     "output_type": "display_data"
    },
    {
     "data": {
      "text/html": [
       "<pre>Read 87389216 lines. Lines per second: 90230</pre>"
      ],
      "text/plain": [
       "Read 87389216 lines. Lines per second: 90230"
      ]
     },
     "metadata": {},
     "output_type": "display_data"
    },
    {
     "data": {
      "text/html": [
       "<pre>Read 87910149 lines. Lines per second: 90189.4</pre>"
      ],
      "text/plain": [
       "Read 87910149 lines. Lines per second: 90189.4"
      ]
     },
     "metadata": {},
     "output_type": "display_data"
    },
    {
     "data": {
      "text/html": [
       "<pre>Read 88257484 lines. Lines per second: 90053</pre>"
      ],
      "text/plain": [
       "Read 88257484 lines. Lines per second: 90053"
      ]
     },
     "metadata": {},
     "output_type": "display_data"
    },
    {
     "data": {
      "text/html": [
       "<pre>Read 88778524 lines. Lines per second: 89958.4</pre>"
      ],
      "text/plain": [
       "Read 88778524 lines. Lines per second: 89958.4"
      ]
     },
     "metadata": {},
     "output_type": "display_data"
    },
    {
     "data": {
      "text/html": [
       "<pre>Read 89323274 lines. Lines per second: 89927.1</pre>"
      ],
      "text/plain": [
       "Read 89323274 lines. Lines per second: 89927.1"
      ]
     },
     "metadata": {},
     "output_type": "display_data"
    },
    {
     "data": {
      "text/html": [
       "<pre>Read 89896366 lines. Lines per second: 89886.2</pre>"
      ],
      "text/plain": [
       "Read 89896366 lines. Lines per second: 89886.2"
      ]
     },
     "metadata": {},
     "output_type": "display_data"
    },
    {
     "data": {
      "text/html": [
       "<pre>Read 90254950 lines. Lines per second: 89791.6</pre>"
      ],
      "text/plain": [
       "Read 90254950 lines. Lines per second: 89791.6"
      ]
     },
     "metadata": {},
     "output_type": "display_data"
    },
    {
     "data": {
      "text/html": [
       "<pre>Read 90793465 lines. Lines per second: 89735.2</pre>"
      ],
      "text/plain": [
       "Read 90793465 lines. Lines per second: 89735.2"
      ]
     },
     "metadata": {},
     "output_type": "display_data"
    },
    {
     "data": {
      "text/html": [
       "<pre>Read 91327026 lines. Lines per second: 89705.4</pre>"
      ],
      "text/plain": [
       "Read 91327026 lines. Lines per second: 89705.4"
      ]
     },
     "metadata": {},
     "output_type": "display_data"
    },
    {
     "data": {
      "text/html": [
       "<pre>Read 91694772 lines. Lines per second: 89614.9</pre>"
      ],
      "text/plain": [
       "Read 91694772 lines. Lines per second: 89614.9"
      ]
     },
     "metadata": {},
     "output_type": "display_data"
    },
    {
     "data": {
      "text/html": [
       "<pre>Read 92246082 lines. Lines per second: 89633.4</pre>"
      ],
      "text/plain": [
       "Read 92246082 lines. Lines per second: 89633.4"
      ]
     },
     "metadata": {},
     "output_type": "display_data"
    },
    {
     "data": {
      "text/html": [
       "<pre>Read 92782006 lines. Lines per second: 89589.1</pre>"
      ],
      "text/plain": [
       "Read 92782006 lines. Lines per second: 89589.1"
      ]
     },
     "metadata": {},
     "output_type": "display_data"
    },
    {
     "data": {
      "text/html": [
       "<pre>Read 93302087 lines. Lines per second: 89605</pre>"
      ],
      "text/plain": [
       "Read 93302087 lines. Lines per second: 89605"
      ]
     },
     "metadata": {},
     "output_type": "display_data"
    },
    {
     "data": {
      "text/html": [
       "<pre>Read 93821780 lines. Lines per second: 89573.4</pre>"
      ],
      "text/plain": [
       "Read 93821780 lines. Lines per second: 89573.4"
      ]
     },
     "metadata": {},
     "output_type": "display_data"
    },
    {
     "data": {
      "text/html": [
       "<pre>Read 94332721 lines. Lines per second: 89513.7</pre>"
      ],
      "text/plain": [
       "Read 94332721 lines. Lines per second: 89513.7"
      ]
     },
     "metadata": {},
     "output_type": "display_data"
    },
    {
     "data": {
      "text/html": [
       "<pre>Read 94844881 lines. Lines per second: 89488.7</pre>"
      ],
      "text/plain": [
       "Read 94844881 lines. Lines per second: 89488.7"
      ]
     },
     "metadata": {},
     "output_type": "display_data"
    },
    {
     "data": {
      "text/html": [
       "<pre>Read 95381283 lines. Lines per second: 89495.6</pre>"
      ],
      "text/plain": [
       "Read 95381283 lines. Lines per second: 89495.6"
      ]
     },
     "metadata": {},
     "output_type": "display_data"
    },
    {
     "data": {
      "text/html": [
       "<pre>Read 95900622 lines. Lines per second: 89534</pre>"
      ],
      "text/plain": [
       "Read 95900622 lines. Lines per second: 89534"
      ]
     },
     "metadata": {},
     "output_type": "display_data"
    },
    {
     "data": {
      "text/html": [
       "<pre>Read 96394725 lines. Lines per second: 89500.7</pre>"
      ],
      "text/plain": [
       "Read 96394725 lines. Lines per second: 89500.7"
      ]
     },
     "metadata": {},
     "output_type": "display_data"
    },
    {
     "data": {
      "text/html": [
       "<pre>Read 96888644 lines. Lines per second: 89526.3</pre>"
      ],
      "text/plain": [
       "Read 96888644 lines. Lines per second: 89526.3"
      ]
     },
     "metadata": {},
     "output_type": "display_data"
    },
    {
     "data": {
      "text/html": [
       "<pre>Read 97384214 lines. Lines per second: 89539.5</pre>"
      ],
      "text/plain": [
       "Read 97384214 lines. Lines per second: 89539.5"
      ]
     },
     "metadata": {},
     "output_type": "display_data"
    },
    {
     "data": {
      "text/html": [
       "<pre>Read 97879707 lines. Lines per second: 89564.5</pre>"
      ],
      "text/plain": [
       "Read 97879707 lines. Lines per second: 89564.5"
      ]
     },
     "metadata": {},
     "output_type": "display_data"
    },
    {
     "data": {
      "text/html": [
       "<pre>Read 98406709 lines. Lines per second: 89612.2</pre>"
      ],
      "text/plain": [
       "Read 98406709 lines. Lines per second: 89612.2"
      ]
     },
     "metadata": {},
     "output_type": "display_data"
    },
    {
     "data": {
      "text/html": [
       "<pre>Read 98944882 lines. Lines per second: 89617.4</pre>"
      ],
      "text/plain": [
       "Read 98944882 lines. Lines per second: 89617.4"
      ]
     },
     "metadata": {},
     "output_type": "display_data"
    },
    {
     "data": {
      "text/html": [
       "<pre>Read 99440098 lines. Lines per second: 89636.1</pre>"
      ],
      "text/plain": [
       "Read 99440098 lines. Lines per second: 89636.1"
      ]
     },
     "metadata": {},
     "output_type": "display_data"
    },
    {
     "data": {
      "text/html": [
       "<pre>Read 99936581 lines. Lines per second: 89658.8</pre>"
      ],
      "text/plain": [
       "Read 99936581 lines. Lines per second: 89658.8"
      ]
     },
     "metadata": {},
     "output_type": "display_data"
    },
    {
     "data": {
      "text/html": [
       "<pre>Read 100433878 lines. Lines per second: 89675</pre>"
      ],
      "text/plain": [
       "Read 100433878 lines. Lines per second: 89675"
      ]
     },
     "metadata": {},
     "output_type": "display_data"
    },
    {
     "data": {
      "text/html": [
       "<pre>Read 100953246 lines. Lines per second: 89716.2</pre>"
      ],
      "text/plain": [
       "Read 100953246 lines. Lines per second: 89716.2"
      ]
     },
     "metadata": {},
     "output_type": "display_data"
    },
    {
     "data": {
      "text/html": [
       "<pre>Read 101514940 lines. Lines per second: 89709.5</pre>"
      ],
      "text/plain": [
       "Read 101514940 lines. Lines per second: 89709.5"
      ]
     },
     "metadata": {},
     "output_type": "display_data"
    },
    {
     "data": {
      "text/html": [
       "<pre>Read 102051222 lines. Lines per second: 89728.9</pre>"
      ],
      "text/plain": [
       "Read 102051222 lines. Lines per second: 89728.9"
      ]
     },
     "metadata": {},
     "output_type": "display_data"
    },
    {
     "data": {
      "text/html": [
       "<pre>Read 102595108 lines. Lines per second: 89775.1</pre>"
      ],
      "text/plain": [
       "Read 102595108 lines. Lines per second: 89775.1"
      ]
     },
     "metadata": {},
     "output_type": "display_data"
    },
    {
     "data": {
      "text/html": [
       "<pre>Read 103158014 lines. Lines per second: 89787</pre>"
      ],
      "text/plain": [
       "Read 103158014 lines. Lines per second: 89787"
      ]
     },
     "metadata": {},
     "output_type": "display_data"
    },
    {
     "data": {
      "text/html": [
       "<pre>Read 103733904 lines. Lines per second: 89841.6</pre>"
      ],
      "text/plain": [
       "Read 103733904 lines. Lines per second: 89841.6"
      ]
     },
     "metadata": {},
     "output_type": "display_data"
    },
    {
     "data": {
      "text/html": [
       "<pre>Read 104305306 lines. Lines per second: 89856.5</pre>"
      ],
      "text/plain": [
       "Read 104305306 lines. Lines per second: 89856.5"
      ]
     },
     "metadata": {},
     "output_type": "display_data"
    },
    {
     "data": {
      "text/html": [
       "<pre>Read 104864501 lines. Lines per second: 89880.3</pre>"
      ],
      "text/plain": [
       "Read 104864501 lines. Lines per second: 89880.3"
      ]
     },
     "metadata": {},
     "output_type": "display_data"
    },
    {
     "data": {
      "text/html": [
       "<pre>Read 105415787 lines. Lines per second: 89888.7</pre>"
      ],
      "text/plain": [
       "Read 105415787 lines. Lines per second: 89888.7"
      ]
     },
     "metadata": {},
     "output_type": "display_data"
    },
    {
     "data": {
      "text/html": [
       "<pre>Read 105966618 lines. Lines per second: 89952.6</pre>"
      ],
      "text/plain": [
       "Read 105966618 lines. Lines per second: 89952.6"
      ]
     },
     "metadata": {},
     "output_type": "display_data"
    },
    {
     "data": {
      "text/html": [
       "<pre>Read 106540636 lines. Lines per second: 89907.7</pre>"
      ],
      "text/plain": [
       "Read 106540636 lines. Lines per second: 89907.7"
      ]
     },
     "metadata": {},
     "output_type": "display_data"
    },
    {
     "data": {
      "text/html": [
       "<pre>Read 107195078 lines. Lines per second: 89990.5</pre>"
      ],
      "text/plain": [
       "Read 107195078 lines. Lines per second: 89990.5"
      ]
     },
     "metadata": {},
     "output_type": "display_data"
    },
    {
     "data": {
      "text/html": [
       "<pre>Read 107738936 lines. Lines per second: 90021.6</pre>"
      ],
      "text/plain": [
       "Read 107738936 lines. Lines per second: 90021.6"
      ]
     },
     "metadata": {},
     "output_type": "display_data"
    },
    {
     "data": {
      "text/html": [
       "<pre>Read 108282748 lines. Lines per second: 90075.4</pre>"
      ],
      "text/plain": [
       "Read 108282748 lines. Lines per second: 90075.4"
      ]
     },
     "metadata": {},
     "output_type": "display_data"
    },
    {
     "data": {
      "text/html": [
       "<pre>Read 108860475 lines. Lines per second: 90037.3</pre>"
      ],
      "text/plain": [
       "Read 108860475 lines. Lines per second: 90037.3"
      ]
     },
     "metadata": {},
     "output_type": "display_data"
    },
    {
     "data": {
      "text/html": [
       "<pre>Read 109398078 lines. Lines per second: 90080.6</pre>"
      ],
      "text/plain": [
       "Read 109398078 lines. Lines per second: 90080.6"
      ]
     },
     "metadata": {},
     "output_type": "display_data"
    },
    {
     "data": {
      "text/html": [
       "<pre>Read 109941449 lines. Lines per second: 90095.5</pre>"
      ],
      "text/plain": [
       "Read 109941449 lines. Lines per second: 90095.5"
      ]
     },
     "metadata": {},
     "output_type": "display_data"
    },
    {
     "data": {
      "text/html": [
       "<pre>Read 110493639 lines. Lines per second: 90121.8</pre>"
      ],
      "text/plain": [
       "Read 110493639 lines. Lines per second: 90121.8"
      ]
     },
     "metadata": {},
     "output_type": "display_data"
    },
    {
     "data": {
      "text/html": [
       "<pre>Read 111053433 lines. Lines per second: 90174.1</pre>"
      ],
      "text/plain": [
       "Read 111053433 lines. Lines per second: 90174.1"
      ]
     },
     "metadata": {},
     "output_type": "display_data"
    },
    {
     "data": {
      "text/html": [
       "<pre>Read 111789422 lines. Lines per second: 90297.3</pre>"
      ],
      "text/plain": [
       "Read 111789422 lines. Lines per second: 90297.3"
      ]
     },
     "metadata": {},
     "output_type": "display_data"
    },
    {
     "data": {
      "text/html": [
       "<pre>Read 112329429 lines. Lines per second: 90372.9</pre>"
      ],
      "text/plain": [
       "Read 112329429 lines. Lines per second: 90372.9"
      ]
     },
     "metadata": {},
     "output_type": "display_data"
    },
    {
     "data": {
      "text/html": [
       "<pre>Read 113040016 lines. Lines per second: 90524</pre>"
      ],
      "text/plain": [
       "Read 113040016 lines. Lines per second: 90524"
      ]
     },
     "metadata": {},
     "output_type": "display_data"
    },
    {
     "data": {
      "text/html": [
       "<pre>Read 113727643 lines. Lines per second: 90648.2</pre>"
      ],
      "text/plain": [
       "Read 113727643 lines. Lines per second: 90648.2"
      ]
     },
     "metadata": {},
     "output_type": "display_data"
    },
    {
     "data": {
      "text/html": [
       "<pre>Read 114411838 lines. Lines per second: 90772.6</pre>"
      ],
      "text/plain": [
       "Read 114411838 lines. Lines per second: 90772.6"
      ]
     },
     "metadata": {},
     "output_type": "display_data"
    },
    {
     "data": {
      "text/html": [
       "<pre>Read 115108728 lines. Lines per second: 90945.3</pre>"
      ],
      "text/plain": [
       "Read 115108728 lines. Lines per second: 90945.3"
      ]
     },
     "metadata": {},
     "output_type": "display_data"
    },
    {
     "data": {
      "text/html": [
       "<pre>Read 115633310 lines. Lines per second: 90997.1</pre>"
      ],
      "text/plain": [
       "Read 115633310 lines. Lines per second: 90997.1"
      ]
     },
     "metadata": {},
     "output_type": "display_data"
    },
    {
     "data": {
      "text/html": [
       "<pre>Read 116156835 lines. Lines per second: 91042.6</pre>"
      ],
      "text/plain": [
       "Read 116156835 lines. Lines per second: 91042.6"
      ]
     },
     "metadata": {},
     "output_type": "display_data"
    },
    {
     "data": {
      "text/html": [
       "<pre>Read 116680375 lines. Lines per second: 91049.4</pre>"
      ],
      "text/plain": [
       "Read 116680375 lines. Lines per second: 91049.4"
      ]
     },
     "metadata": {},
     "output_type": "display_data"
    },
    {
     "data": {
      "text/html": [
       "<pre>Read 117214954 lines. Lines per second: 91071</pre>"
      ],
      "text/plain": [
       "Read 117214954 lines. Lines per second: 91071"
      ]
     },
     "metadata": {},
     "output_type": "display_data"
    },
    {
     "data": {
      "text/html": [
       "<pre>Read 117755635 lines. Lines per second: 91048.3</pre>"
      ],
      "text/plain": [
       "Read 117755635 lines. Lines per second: 91048.3"
      ]
     },
     "metadata": {},
     "output_type": "display_data"
    },
    {
     "data": {
      "text/html": [
       "<pre>Read 118282292 lines. Lines per second: 91047</pre>"
      ],
      "text/plain": [
       "Read 118282292 lines. Lines per second: 91047"
      ]
     },
     "metadata": {},
     "output_type": "display_data"
    },
    {
     "data": {
      "text/html": [
       "<pre>Read 118955998 lines. Lines per second: 91123.5</pre>"
      ],
      "text/plain": [
       "Read 118955998 lines. Lines per second: 91123.5"
      ]
     },
     "metadata": {},
     "output_type": "display_data"
    },
    {
     "data": {
      "text/html": [
       "<pre>Read 119629160 lines. Lines per second: 91240.4</pre>"
      ],
      "text/plain": [
       "Read 119629160 lines. Lines per second: 91240.4"
      ]
     },
     "metadata": {},
     "output_type": "display_data"
    },
    {
     "data": {
      "text/html": [
       "<pre>Read 120344489 lines. Lines per second: 91368.3</pre>"
      ],
      "text/plain": [
       "Read 120344489 lines. Lines per second: 91368.3"
      ]
     },
     "metadata": {},
     "output_type": "display_data"
    },
    {
     "data": {
      "text/html": [
       "<pre>Read 121066593 lines. Lines per second: 91494</pre>"
      ],
      "text/plain": [
       "Read 121066593 lines. Lines per second: 91494"
      ]
     },
     "metadata": {},
     "output_type": "display_data"
    },
    {
     "data": {
      "text/html": [
       "<pre>Read 121603472 lines. Lines per second: 91495.3</pre>"
      ],
      "text/plain": [
       "Read 121603472 lines. Lines per second: 91495.3"
      ]
     },
     "metadata": {},
     "output_type": "display_data"
    },
    {
     "data": {
      "text/html": [
       "<pre>Read 122141348 lines. Lines per second: 91506.6</pre>"
      ],
      "text/plain": [
       "Read 122141348 lines. Lines per second: 91506.6"
      ]
     },
     "metadata": {},
     "output_type": "display_data"
    },
    {
     "data": {
      "text/html": [
       "<pre>Read 122679365 lines. Lines per second: 91497.7</pre>"
      ],
      "text/plain": [
       "Read 122679365 lines. Lines per second: 91497.7"
      ]
     },
     "metadata": {},
     "output_type": "display_data"
    },
    {
     "data": {
      "text/html": [
       "<pre>Read 123229377 lines. Lines per second: 91515.6</pre>"
      ],
      "text/plain": [
       "Read 123229377 lines. Lines per second: 91515.6"
      ]
     },
     "metadata": {},
     "output_type": "display_data"
    },
    {
     "data": {
      "text/html": [
       "<pre>Read 123793116 lines. Lines per second: 91501.6</pre>"
      ],
      "text/plain": [
       "Read 123793116 lines. Lines per second: 91501.6"
      ]
     },
     "metadata": {},
     "output_type": "display_data"
    },
    {
     "data": {
      "text/html": [
       "<pre>Read 124311751 lines. Lines per second: 91490.7</pre>"
      ],
      "text/plain": [
       "Read 124311751 lines. Lines per second: 91490.7"
      ]
     },
     "metadata": {},
     "output_type": "display_data"
    },
    {
     "data": {
      "text/html": [
       "<pre>Read 124799802 lines. Lines per second: 91498.9</pre>"
      ],
      "text/plain": [
       "Read 124799802 lines. Lines per second: 91498.9"
      ]
     },
     "metadata": {},
     "output_type": "display_data"
    },
    {
     "data": {
      "text/html": [
       "<pre>Read 125287600 lines. Lines per second: 91508.9</pre>"
      ],
      "text/plain": [
       "Read 125287600 lines. Lines per second: 91508.9"
      ]
     },
     "metadata": {},
     "output_type": "display_data"
    },
    {
     "data": {
      "text/html": [
       "<pre>Read 125775419 lines. Lines per second: 91504</pre>"
      ],
      "text/plain": [
       "Read 125775419 lines. Lines per second: 91504"
      ]
     },
     "metadata": {},
     "output_type": "display_data"
    },
    {
     "data": {
      "text/html": [
       "<pre>Read 126263399 lines. Lines per second: 91444.4</pre>"
      ],
      "text/plain": [
       "Read 126263399 lines. Lines per second: 91444.4"
      ]
     },
     "metadata": {},
     "output_type": "display_data"
    },
    {
     "data": {
      "text/html": [
       "<pre>Read 126753091 lines. Lines per second: 91428.4</pre>"
      ],
      "text/plain": [
       "Read 126753091 lines. Lines per second: 91428.4"
      ]
     },
     "metadata": {},
     "output_type": "display_data"
    },
    {
     "data": {
      "text/html": [
       "<pre>Read 127279486 lines. Lines per second: 91366.6</pre>"
      ],
      "text/plain": [
       "Read 127279486 lines. Lines per second: 91366.6"
      ]
     },
     "metadata": {},
     "output_type": "display_data"
    },
    {
     "data": {
      "text/html": [
       "<pre>Read 127773691 lines. Lines per second: 91377.4</pre>"
      ],
      "text/plain": [
       "Read 127773691 lines. Lines per second: 91377.4"
      ]
     },
     "metadata": {},
     "output_type": "display_data"
    },
    {
     "data": {
      "text/html": [
       "<pre>Read 128266001 lines. Lines per second: 91379.1</pre>"
      ],
      "text/plain": [
       "Read 128266001 lines. Lines per second: 91379.1"
      ]
     },
     "metadata": {},
     "output_type": "display_data"
    },
    {
     "data": {
      "text/html": [
       "<pre>Read 128757068 lines. Lines per second: 91391.7</pre>"
      ],
      "text/plain": [
       "Read 128757068 lines. Lines per second: 91391.7"
      ]
     },
     "metadata": {},
     "output_type": "display_data"
    },
    {
     "data": {
      "text/html": [
       "<pre>Read 129248115 lines. Lines per second: 91388.5</pre>"
      ],
      "text/plain": [
       "Read 129248115 lines. Lines per second: 91388.5"
      ]
     },
     "metadata": {},
     "output_type": "display_data"
    },
    {
     "data": {
      "text/html": [
       "<pre>Read 129747547 lines. Lines per second: 91347</pre>"
      ],
      "text/plain": [
       "Read 129747547 lines. Lines per second: 91347"
      ]
     },
     "metadata": {},
     "output_type": "display_data"
    },
    {
     "data": {
      "text/html": [
       "<pre>Read 130253013 lines. Lines per second: 91337.4</pre>"
      ],
      "text/plain": [
       "Read 130253013 lines. Lines per second: 91337.4"
      ]
     },
     "metadata": {},
     "output_type": "display_data"
    },
    {
     "data": {
      "text/html": [
       "<pre>Read 130859951 lines. Lines per second: 91323.9</pre>"
      ],
      "text/plain": [
       "Read 130859951 lines. Lines per second: 91323.9"
      ]
     },
     "metadata": {},
     "output_type": "display_data"
    },
    {
     "data": {
      "text/html": [
       "<pre>Read 131497032 lines. Lines per second: 91322.9</pre>"
      ],
      "text/plain": [
       "Read 131497032 lines. Lines per second: 91322.9"
      ]
     },
     "metadata": {},
     "output_type": "display_data"
    },
    {
     "data": {
      "text/html": [
       "<pre>Read 131970080 lines. Lines per second: 91331.6</pre>"
      ],
      "text/plain": [
       "Read 131970080 lines. Lines per second: 91331.6"
      ]
     },
     "metadata": {},
     "output_type": "display_data"
    },
    {
     "data": {
      "text/html": [
       "<pre>Read 132513952 lines. Lines per second: 91362.4</pre>"
      ],
      "text/plain": [
       "Read 132513952 lines. Lines per second: 91362.4"
      ]
     },
     "metadata": {},
     "output_type": "display_data"
    },
    {
     "data": {
      "text/html": [
       "<pre>Read 133057949 lines. Lines per second: 91382.7</pre>"
      ],
      "text/plain": [
       "Read 133057949 lines. Lines per second: 91382.7"
      ]
     },
     "metadata": {},
     "output_type": "display_data"
    },
    {
     "data": {
      "text/html": [
       "<pre>Read 133644916 lines. Lines per second: 91391.1</pre>"
      ],
      "text/plain": [
       "Read 133644916 lines. Lines per second: 91391.1"
      ]
     },
     "metadata": {},
     "output_type": "display_data"
    },
    {
     "data": {
      "text/html": [
       "<pre>Read 134220190 lines. Lines per second: 91401.8</pre>"
      ],
      "text/plain": [
       "Read 134220190 lines. Lines per second: 91401.8"
      ]
     },
     "metadata": {},
     "output_type": "display_data"
    },
    {
     "data": {
      "text/html": [
       "<pre>Read 134848400 lines. Lines per second: 91425.6</pre>"
      ],
      "text/plain": [
       "Read 134848400 lines. Lines per second: 91425.6"
      ]
     },
     "metadata": {},
     "output_type": "display_data"
    },
    {
     "data": {
      "text/html": [
       "<pre>Read 135541081 lines. Lines per second: 91447.2</pre>"
      ],
      "text/plain": [
       "Read 135541081 lines. Lines per second: 91447.2"
      ]
     },
     "metadata": {},
     "output_type": "display_data"
    },
    {
     "data": {
      "text/html": [
       "<pre>Read 136085929 lines. Lines per second: 91447.1</pre>"
      ],
      "text/plain": [
       "Read 136085929 lines. Lines per second: 91447.1"
      ]
     },
     "metadata": {},
     "output_type": "display_data"
    },
    {
     "data": {
      "text/html": [
       "<pre>Read 136629947 lines. Lines per second: 91465.4</pre>"
      ],
      "text/plain": [
       "Read 136629947 lines. Lines per second: 91465.4"
      ]
     },
     "metadata": {},
     "output_type": "display_data"
    },
    {
     "data": {
      "text/html": [
       "<pre>Read 137159860 lines. Lines per second: 91466</pre>"
      ],
      "text/plain": [
       "Read 137159860 lines. Lines per second: 91466"
      ]
     },
     "metadata": {},
     "output_type": "display_data"
    },
    {
     "data": {
      "text/html": [
       "<pre>Read 137680353 lines. Lines per second: 91461.3</pre>"
      ],
      "text/plain": [
       "Read 137680353 lines. Lines per second: 91461.3"
      ]
     },
     "metadata": {},
     "output_type": "display_data"
    },
    {
     "data": {
      "text/html": [
       "<pre>Read 138192964 lines. Lines per second: 91494.6</pre>"
      ],
      "text/plain": [
       "Read 138192964 lines. Lines per second: 91494.6"
      ]
     },
     "metadata": {},
     "output_type": "display_data"
    },
    {
     "data": {
      "text/html": [
       "<pre>Read 138873831 lines. Lines per second: 91576.9</pre>"
      ],
      "text/plain": [
       "Read 138873831 lines. Lines per second: 91576.9"
      ]
     },
     "metadata": {},
     "output_type": "display_data"
    },
    {
     "data": {
      "text/html": [
       "<pre>Read 139584675 lines. Lines per second: 91666.8</pre>"
      ],
      "text/plain": [
       "Read 139584675 lines. Lines per second: 91666.8"
      ]
     },
     "metadata": {},
     "output_type": "display_data"
    },
    {
     "data": {
      "text/html": [
       "<pre>Read 140316226 lines. Lines per second: 91765.1</pre>"
      ],
      "text/plain": [
       "Read 140316226 lines. Lines per second: 91765.1"
      ]
     },
     "metadata": {},
     "output_type": "display_data"
    },
    {
     "data": {
      "text/html": [
       "<pre>Read 140993999 lines. Lines per second: 91851.8</pre>"
      ],
      "text/plain": [
       "Read 140993999 lines. Lines per second: 91851.8"
      ]
     },
     "metadata": {},
     "output_type": "display_data"
    },
    {
     "data": {
      "text/html": [
       "<pre>Read 141670007 lines. Lines per second: 91947.8</pre>"
      ],
      "text/plain": [
       "Read 141670007 lines. Lines per second: 91947.8"
      ]
     },
     "metadata": {},
     "output_type": "display_data"
    },
    {
     "data": {
      "text/html": [
       "<pre>Read 142176866 lines. Lines per second: 91897.2</pre>"
      ],
      "text/plain": [
       "Read 142176866 lines. Lines per second: 91897.2"
      ]
     },
     "metadata": {},
     "output_type": "display_data"
    },
    {
     "data": {
      "text/html": [
       "<pre>Read 142710353 lines. Lines per second: 91890.3</pre>"
      ],
      "text/plain": [
       "Read 142710353 lines. Lines per second: 91890.3"
      ]
     },
     "metadata": {},
     "output_type": "display_data"
    },
    {
     "data": {
      "text/html": [
       "<pre>Read 143211581 lines. Lines per second: 91880.4</pre>"
      ],
      "text/plain": [
       "Read 143211581 lines. Lines per second: 91880.4"
      ]
     },
     "metadata": {},
     "output_type": "display_data"
    },
    {
     "data": {
      "text/html": [
       "<pre>Read 143755642 lines. Lines per second: 91890.7</pre>"
      ],
      "text/plain": [
       "Read 143755642 lines. Lines per second: 91890.7"
      ]
     },
     "metadata": {},
     "output_type": "display_data"
    },
    {
     "data": {
      "text/html": [
       "<pre>Read 144299716 lines. Lines per second: 91912.6</pre>"
      ],
      "text/plain": [
       "Read 144299716 lines. Lines per second: 91912.6"
      ]
     },
     "metadata": {},
     "output_type": "display_data"
    },
    {
     "data": {
      "text/html": [
       "<pre>Read 144843635 lines. Lines per second: 91898.6</pre>"
      ],
      "text/plain": [
       "Read 144843635 lines. Lines per second: 91898.6"
      ]
     },
     "metadata": {},
     "output_type": "display_data"
    },
    {
     "data": {
      "text/html": [
       "<pre>Read 145387944 lines. Lines per second: 91901.5</pre>"
      ],
      "text/plain": [
       "Read 145387944 lines. Lines per second: 91901.5"
      ]
     },
     "metadata": {},
     "output_type": "display_data"
    },
    {
     "data": {
      "text/html": [
       "<pre>Read 145931684 lines. Lines per second: 91898.2</pre>"
      ],
      "text/plain": [
       "Read 145931684 lines. Lines per second: 91898.2"
      ]
     },
     "metadata": {},
     "output_type": "display_data"
    },
    {
     "data": {
      "text/html": [
       "<pre>Read 146475555 lines. Lines per second: 91932.1</pre>"
      ],
      "text/plain": [
       "Read 146475555 lines. Lines per second: 91932.1"
      ]
     },
     "metadata": {},
     "output_type": "display_data"
    },
    {
     "data": {
      "text/html": [
       "<pre>Read 147188604 lines. Lines per second: 92045.6</pre>"
      ],
      "text/plain": [
       "Read 147188604 lines. Lines per second: 92045.6"
      ]
     },
     "metadata": {},
     "output_type": "display_data"
    },
    {
     "data": {
      "text/html": [
       "<pre>Read 147889981 lines. Lines per second: 92139.4</pre>"
      ],
      "text/plain": [
       "Read 147889981 lines. Lines per second: 92139.4"
      ]
     },
     "metadata": {},
     "output_type": "display_data"
    },
    {
     "data": {
      "text/html": [
       "<pre>Read 148412426 lines. Lines per second: 92148.2</pre>"
      ],
      "text/plain": [
       "Read 148412426 lines. Lines per second: 92148.2"
      ]
     },
     "metadata": {},
     "output_type": "display_data"
    },
    {
     "data": {
      "text/html": [
       "<pre>Read 148958664 lines. Lines per second: 92157.9</pre>"
      ],
      "text/plain": [
       "Read 148958664 lines. Lines per second: 92157.9"
      ]
     },
     "metadata": {},
     "output_type": "display_data"
    },
    {
     "data": {
      "text/html": [
       "<pre>Read 149539154 lines. Lines per second: 92197.3</pre>"
      ],
      "text/plain": [
       "Read 149539154 lines. Lines per second: 92197.3"
      ]
     },
     "metadata": {},
     "output_type": "display_data"
    },
    {
     "data": {
      "text/html": [
       "<pre>Read 150144030 lines. Lines per second: 92243.2</pre>"
      ],
      "text/plain": [
       "Read 150144030 lines. Lines per second: 92243.2"
      ]
     },
     "metadata": {},
     "output_type": "display_data"
    },
    {
     "data": {
      "text/html": [
       "<pre>Read 150750069 lines. Lines per second: 92299.3</pre>"
      ],
      "text/plain": [
       "Read 150750069 lines. Lines per second: 92299.3"
      ]
     },
     "metadata": {},
     "output_type": "display_data"
    },
    {
     "data": {
      "text/html": [
       "<pre>Read 151364441 lines. Lines per second: 92277.6</pre>"
      ],
      "text/plain": [
       "Read 151364441 lines. Lines per second: 92277.6"
      ]
     },
     "metadata": {},
     "output_type": "display_data"
    },
    {
     "data": {
      "text/html": [
       "<pre>Read 152026808 lines. Lines per second: 92348.6</pre>"
      ],
      "text/plain": [
       "Read 152026808 lines. Lines per second: 92348.6"
      ]
     },
     "metadata": {},
     "output_type": "display_data"
    },
    {
     "data": {
      "text/html": [
       "<pre>Read 152492930 lines. Lines per second: 92350.9</pre>"
      ],
      "text/plain": [
       "Read 152492930 lines. Lines per second: 92350.9"
      ]
     },
     "metadata": {},
     "output_type": "display_data"
    },
    {
     "data": {
      "text/html": [
       "<pre>Read 153037095 lines. Lines per second: 92388.5</pre>"
      ],
      "text/plain": [
       "Read 153037095 lines. Lines per second: 92388.5"
      ]
     },
     "metadata": {},
     "output_type": "display_data"
    },
    {
     "data": {
      "text/html": [
       "<pre>Read 153707734 lines. Lines per second: 92419.5</pre>"
      ],
      "text/plain": [
       "Read 153707734 lines. Lines per second: 92419.5"
      ]
     },
     "metadata": {},
     "output_type": "display_data"
    },
    {
     "data": {
      "text/html": [
       "<pre>Read 154294709 lines. Lines per second: 92418.7</pre>"
      ],
      "text/plain": [
       "Read 154294709 lines. Lines per second: 92418.7"
      ]
     },
     "metadata": {},
     "output_type": "display_data"
    },
    {
     "data": {
      "text/html": [
       "<pre>Read 154882777 lines. Lines per second: 92415.2</pre>"
      ],
      "text/plain": [
       "Read 154882777 lines. Lines per second: 92415.2"
      ]
     },
     "metadata": {},
     "output_type": "display_data"
    },
    {
     "data": {
      "text/html": [
       "<pre>Read 155482862 lines. Lines per second: 92431.5</pre>"
      ],
      "text/plain": [
       "Read 155482862 lines. Lines per second: 92431.5"
      ]
     },
     "metadata": {},
     "output_type": "display_data"
    },
    {
     "data": {
      "text/html": [
       "<pre>Read 156123787 lines. Lines per second: 92408.6</pre>"
      ],
      "text/plain": [
       "Read 156123787 lines. Lines per second: 92408.6"
      ]
     },
     "metadata": {},
     "output_type": "display_data"
    },
    {
     "data": {
      "text/html": [
       "<pre>Read 156736794 lines. Lines per second: 92437.2</pre>"
      ],
      "text/plain": [
       "Read 156736794 lines. Lines per second: 92437.2"
      ]
     },
     "metadata": {},
     "output_type": "display_data"
    },
    {
     "data": {
      "text/html": [
       "<pre>Read 157315158 lines. Lines per second: 92447.7</pre>"
      ],
      "text/plain": [
       "Read 157315158 lines. Lines per second: 92447.7"
      ]
     },
     "metadata": {},
     "output_type": "display_data"
    },
    {
     "data": {
      "text/html": [
       "<pre>Read 157895205 lines. Lines per second: 92452.9</pre>"
      ],
      "text/plain": [
       "Read 157895205 lines. Lines per second: 92452.9"
      ]
     },
     "metadata": {},
     "output_type": "display_data"
    },
    {
     "data": {
      "text/html": [
       "<pre>Read 158482429 lines. Lines per second: 92472.4</pre>"
      ],
      "text/plain": [
       "Read 158482429 lines. Lines per second: 92472.4"
      ]
     },
     "metadata": {},
     "output_type": "display_data"
    },
    {
     "data": {
      "text/html": [
       "<pre>Read 159075644 lines. Lines per second: 92474.3</pre>"
      ],
      "text/plain": [
       "Read 159075644 lines. Lines per second: 92474.3"
      ]
     },
     "metadata": {},
     "output_type": "display_data"
    },
    {
     "data": {
      "text/html": [
       "<pre>Read 159652468 lines. Lines per second: 92467.6</pre>"
      ],
      "text/plain": [
       "Read 159652468 lines. Lines per second: 92467.6"
      ]
     },
     "metadata": {},
     "output_type": "display_data"
    },
    {
     "data": {
      "text/html": [
       "<pre>Read 160172114 lines. Lines per second: 92464.8</pre>"
      ],
      "text/plain": [
       "Read 160172114 lines. Lines per second: 92464.8"
      ]
     },
     "metadata": {},
     "output_type": "display_data"
    },
    {
     "data": {
      "text/html": [
       "<pre>Read 160695661 lines. Lines per second: 92452.8</pre>"
      ],
      "text/plain": [
       "Read 160695661 lines. Lines per second: 92452.8"
      ]
     },
     "metadata": {},
     "output_type": "display_data"
    },
    {
     "data": {
      "text/html": [
       "<pre>Read 161219307 lines. Lines per second: 92434.6</pre>"
      ],
      "text/plain": [
       "Read 161219307 lines. Lines per second: 92434.6"
      ]
     },
     "metadata": {},
     "output_type": "display_data"
    },
    {
     "data": {
      "text/html": [
       "<pre>Read 161742840 lines. Lines per second: 92438.3</pre>"
      ],
      "text/plain": [
       "Read 161742840 lines. Lines per second: 92438.3"
      ]
     },
     "metadata": {},
     "output_type": "display_data"
    },
    {
     "data": {
      "text/html": [
       "<pre>Read 162307048 lines. Lines per second: 92396.1</pre>"
      ],
      "text/plain": [
       "Read 162307048 lines. Lines per second: 92396.1"
      ]
     },
     "metadata": {},
     "output_type": "display_data"
    },
    {
     "data": {
      "text/html": [
       "<pre>Read 162884034 lines. Lines per second: 92376.3</pre>"
      ],
      "text/plain": [
       "Read 162884034 lines. Lines per second: 92376.3"
      ]
     },
     "metadata": {},
     "output_type": "display_data"
    },
    {
     "data": {
      "text/html": [
       "<pre>Read 163460327 lines. Lines per second: 92333.8</pre>"
      ],
      "text/plain": [
       "Read 163460327 lines. Lines per second: 92333.8"
      ]
     },
     "metadata": {},
     "output_type": "display_data"
    },
    {
     "data": {
      "text/html": [
       "<pre>Read 164033666 lines. Lines per second: 92299.4</pre>"
      ],
      "text/plain": [
       "Read 164033666 lines. Lines per second: 92299.4"
      ]
     },
     "metadata": {},
     "output_type": "display_data"
    },
    {
     "data": {
      "text/html": [
       "<pre>Read 164637965 lines. Lines per second: 92289.4</pre>"
      ],
      "text/plain": [
       "Read 164637965 lines. Lines per second: 92289.4"
      ]
     },
     "metadata": {},
     "output_type": "display_data"
    },
    {
     "data": {
      "text/html": [
       "<pre>Read 165281636 lines. Lines per second: 92296.2</pre>"
      ],
      "text/plain": [
       "Read 165281636 lines. Lines per second: 92296.2"
      ]
     },
     "metadata": {},
     "output_type": "display_data"
    },
    {
     "data": {
      "text/html": [
       "<pre>Read 165894064 lines. Lines per second: 92301.2</pre>"
      ],
      "text/plain": [
       "Read 165894064 lines. Lines per second: 92301.2"
      ]
     },
     "metadata": {},
     "output_type": "display_data"
    },
    {
     "data": {
      "text/html": [
       "<pre>Read 166411375 lines. Lines per second: 92279.4</pre>"
      ],
      "text/plain": [
       "Read 166411375 lines. Lines per second: 92279.4"
      ]
     },
     "metadata": {},
     "output_type": "display_data"
    },
    {
     "data": {
      "text/html": [
       "<pre>Read 166926095 lines. Lines per second: 92282.7</pre>"
      ],
      "text/plain": [
       "Read 166926095 lines. Lines per second: 92282.7"
      ]
     },
     "metadata": {},
     "output_type": "display_data"
    },
    {
     "data": {
      "text/html": [
       "<pre>Read 167433867 lines. Lines per second: 92258.5</pre>"
      ],
      "text/plain": [
       "Read 167433867 lines. Lines per second: 92258.5"
      ]
     },
     "metadata": {},
     "output_type": "display_data"
    },
    {
     "data": {
      "text/html": [
       "<pre>Read 167945320 lines. Lines per second: 92231.2</pre>"
      ],
      "text/plain": [
       "Read 167945320 lines. Lines per second: 92231.2"
      ]
     },
     "metadata": {},
     "output_type": "display_data"
    },
    {
     "data": {
      "text/html": [
       "<pre>Read 168462355 lines. Lines per second: 92222.2</pre>"
      ],
      "text/plain": [
       "Read 168462355 lines. Lines per second: 92222.2"
      ]
     },
     "metadata": {},
     "output_type": "display_data"
    },
    {
     "data": {
      "text/html": [
       "<pre>Read 168972422 lines. Lines per second: 92232.6</pre>"
      ],
      "text/plain": [
       "Read 168972422 lines. Lines per second: 92232.6"
      ]
     },
     "metadata": {},
     "output_type": "display_data"
    },
    {
     "data": {
      "text/html": [
       "<pre>Read 169688023 lines. Lines per second: 92296.2</pre>"
      ],
      "text/plain": [
       "Read 169688023 lines. Lines per second: 92296.2"
      ]
     },
     "metadata": {},
     "output_type": "display_data"
    },
    {
     "data": {
      "text/html": [
       "<pre>Read 170437752 lines. Lines per second: 92393.3</pre>"
      ],
      "text/plain": [
       "Read 170437752 lines. Lines per second: 92393.3"
      ]
     },
     "metadata": {},
     "output_type": "display_data"
    },
    {
     "data": {
      "text/html": [
       "<pre>Read 171004282 lines. Lines per second: 92436.2</pre>"
      ],
      "text/plain": [
       "Read 171004282 lines. Lines per second: 92436.2"
      ]
     },
     "metadata": {},
     "output_type": "display_data"
    },
    {
     "data": {
      "text/html": [
       "<pre>Read 171596027 lines. Lines per second: 92497.6</pre>"
      ],
      "text/plain": [
       "Read 171596027 lines. Lines per second: 92497.6"
      ]
     },
     "metadata": {},
     "output_type": "display_data"
    },
    {
     "data": {
      "text/html": [
       "<pre>Read 172180949 lines. Lines per second: 92563.7</pre>"
      ],
      "text/plain": [
       "Read 172180949 lines. Lines per second: 92563.7"
      ]
     },
     "metadata": {},
     "output_type": "display_data"
    },
    {
     "data": {
      "text/html": [
       "<pre>Read 172889114 lines. Lines per second: 92616.2</pre>"
      ],
      "text/plain": [
       "Read 172889114 lines. Lines per second: 92616.2"
      ]
     },
     "metadata": {},
     "output_type": "display_data"
    },
    {
     "data": {
      "text/html": [
       "<pre>Read 173401904 lines. Lines per second: 92636.2</pre>"
      ],
      "text/plain": [
       "Read 173401904 lines. Lines per second: 92636.2"
      ]
     },
     "metadata": {},
     "output_type": "display_data"
    },
    {
     "data": {
      "text/html": [
       "<pre>Read 174086033 lines. Lines per second: 92707.1</pre>"
      ],
      "text/plain": [
       "Read 174086033 lines. Lines per second: 92707.1"
      ]
     },
     "metadata": {},
     "output_type": "display_data"
    },
    {
     "data": {
      "text/html": [
       "<pre>Read 174819426 lines. Lines per second: 92796</pre>"
      ],
      "text/plain": [
       "Read 174819426 lines. Lines per second: 92796"
      ]
     },
     "metadata": {},
     "output_type": "display_data"
    },
    {
     "data": {
      "text/html": [
       "<pre>Read 175447048 lines. Lines per second: 92873.7</pre>"
      ],
      "text/plain": [
       "Read 175447048 lines. Lines per second: 92873.7"
      ]
     },
     "metadata": {},
     "output_type": "display_data"
    },
    {
     "data": {
      "text/html": [
       "<pre>Read 176076441 lines. Lines per second: 92891.2</pre>"
      ],
      "text/plain": [
       "Read 176076441 lines. Lines per second: 92891.2"
      ]
     },
     "metadata": {},
     "output_type": "display_data"
    },
    {
     "data": {
      "text/html": [
       "<pre>Read 176706262 lines. Lines per second: 92894.3</pre>"
      ],
      "text/plain": [
       "Read 176706262 lines. Lines per second: 92894.3"
      ]
     },
     "metadata": {},
     "output_type": "display_data"
    },
    {
     "data": {
      "text/html": [
       "<pre>Read 177365368 lines. Lines per second: 92895.8</pre>"
      ],
      "text/plain": [
       "Read 177365368 lines. Lines per second: 92895.8"
      ]
     },
     "metadata": {},
     "output_type": "display_data"
    },
    {
     "data": {
      "text/html": [
       "<pre>Read 177868754 lines. Lines per second: 92894.9</pre>"
      ],
      "text/plain": [
       "Read 177868754 lines. Lines per second: 92894.9"
      ]
     },
     "metadata": {},
     "output_type": "display_data"
    },
    {
     "data": {
      "text/html": [
       "<pre>Read 178413019 lines. Lines per second: 92878</pre>"
      ],
      "text/plain": [
       "Read 178413019 lines. Lines per second: 92878"
      ]
     },
     "metadata": {},
     "output_type": "display_data"
    },
    {
     "data": {
      "text/html": [
       "<pre>Read 179003518 lines. Lines per second: 92857.5</pre>"
      ],
      "text/plain": [
       "Read 179003518 lines. Lines per second: 92857.5"
      ]
     },
     "metadata": {},
     "output_type": "display_data"
    },
    {
     "data": {
      "text/html": [
       "<pre>Read 179482375 lines. Lines per second: 92848.7</pre>"
      ],
      "text/plain": [
       "Read 179482375 lines. Lines per second: 92848.7"
      ]
     },
     "metadata": {},
     "output_type": "display_data"
    },
    {
     "data": {
      "text/html": [
       "<pre>Read 179963879 lines. Lines per second: 92804.8</pre>"
      ],
      "text/plain": [
       "Read 179963879 lines. Lines per second: 92804.8"
      ]
     },
     "metadata": {},
     "output_type": "display_data"
    },
    {
     "data": {
      "text/html": [
       "<pre>Read 180623076 lines. Lines per second: 92824.7</pre>"
      ],
      "text/plain": [
       "Read 180623076 lines. Lines per second: 92824.7"
      ]
     },
     "metadata": {},
     "output_type": "display_data"
    },
    {
     "data": {
      "text/html": [
       "<pre>Read 181195379 lines. Lines per second: 92821.1</pre>"
      ],
      "text/plain": [
       "Read 181195379 lines. Lines per second: 92821.1"
      ]
     },
     "metadata": {},
     "output_type": "display_data"
    },
    {
     "data": {
      "text/html": [
       "<pre>Read 181775300 lines. Lines per second: 92826.1</pre>"
      ],
      "text/plain": [
       "Read 181775300 lines. Lines per second: 92826.1"
      ]
     },
     "metadata": {},
     "output_type": "display_data"
    },
    {
     "data": {
      "text/html": [
       "<pre>Read 182354969 lines. Lines per second: 92881.1</pre>"
      ],
      "text/plain": [
       "Read 182354969 lines. Lines per second: 92881.1"
      ]
     },
     "metadata": {},
     "output_type": "display_data"
    },
    {
     "data": {
      "text/html": [
       "<pre>Read 183170807 lines. Lines per second: 92980.8</pre>"
      ],
      "text/plain": [
       "Read 183170807 lines. Lines per second: 92980.8"
      ]
     },
     "metadata": {},
     "output_type": "display_data"
    },
    {
     "data": {
      "text/html": [
       "<pre>Read 183834510 lines. Lines per second: 93072.8</pre>"
      ],
      "text/plain": [
       "Read 183834510 lines. Lines per second: 93072.8"
      ]
     },
     "metadata": {},
     "output_type": "display_data"
    },
    {
     "data": {
      "text/html": [
       "<pre>Read 184651346 lines. Lines per second: 93173.1</pre>"
      ],
      "text/plain": [
       "Read 184651346 lines. Lines per second: 93173.1"
      ]
     },
     "metadata": {},
     "output_type": "display_data"
    },
    {
     "data": {
      "text/html": [
       "<pre>Read 185452074 lines. Lines per second: 93257.5</pre>"
      ],
      "text/plain": [
       "Read 185452074 lines. Lines per second: 93257.5"
      ]
     },
     "metadata": {},
     "output_type": "display_data"
    },
    {
     "data": {
      "text/html": [
       "<pre>Read 185986579 lines. Lines per second: 93258.1</pre>"
      ],
      "text/plain": [
       "Read 185986579 lines. Lines per second: 93258.1"
      ]
     },
     "metadata": {},
     "output_type": "display_data"
    },
    {
     "data": {
      "text/html": [
       "<pre>Read 186526364 lines. Lines per second: 93230.2</pre>"
      ],
      "text/plain": [
       "Read 186526364 lines. Lines per second: 93230.2"
      ]
     },
     "metadata": {},
     "output_type": "display_data"
    },
    {
     "data": {
      "text/html": [
       "<pre>Read 187065965 lines. Lines per second: 93230.4</pre>"
      ],
      "text/plain": [
       "Read 187065965 lines. Lines per second: 93230.4"
      ]
     },
     "metadata": {},
     "output_type": "display_data"
    },
    {
     "data": {
      "text/html": [
       "<pre>Read 187610217 lines. Lines per second: 93232.2</pre>"
      ],
      "text/plain": [
       "Read 187610217 lines. Lines per second: 93232.2"
      ]
     },
     "metadata": {},
     "output_type": "display_data"
    },
    {
     "data": {
      "text/html": [
       "<pre>Read 188137048 lines. Lines per second: 93244.7</pre>"
      ],
      "text/plain": [
       "Read 188137048 lines. Lines per second: 93244.7"
      ]
     },
     "metadata": {},
     "output_type": "display_data"
    },
    {
     "data": {
      "text/html": [
       "<pre>Read 188650985 lines. Lines per second: 93254.7</pre>"
      ],
      "text/plain": [
       "Read 188650985 lines. Lines per second: 93254.7"
      ]
     },
     "metadata": {},
     "output_type": "display_data"
    },
    {
     "data": {
      "text/html": [
       "<pre>Read 189164236 lines. Lines per second: 93237.5</pre>"
      ],
      "text/plain": [
       "Read 189164236 lines. Lines per second: 93237.5"
      ]
     },
     "metadata": {},
     "output_type": "display_data"
    },
    {
     "data": {
      "text/html": [
       "<pre>Read 189678378 lines. Lines per second: 93225.2</pre>"
      ],
      "text/plain": [
       "Read 189678378 lines. Lines per second: 93225.2"
      ]
     },
     "metadata": {},
     "output_type": "display_data"
    },
    {
     "data": {
      "text/html": [
       "<pre>Read 190380773 lines. Lines per second: 93288.5</pre>"
      ],
      "text/plain": [
       "Read 190380773 lines. Lines per second: 93288.5"
      ]
     },
     "metadata": {},
     "output_type": "display_data"
    },
    {
     "data": {
      "text/html": [
       "<pre>Read 191062963 lines. Lines per second: 93350.5</pre>"
      ],
      "text/plain": [
       "Read 191062963 lines. Lines per second: 93350.5"
      ]
     },
     "metadata": {},
     "output_type": "display_data"
    },
    {
     "data": {
      "text/html": [
       "<pre>Read 191559224 lines. Lines per second: 93355.3</pre>"
      ],
      "text/plain": [
       "Read 191559224 lines. Lines per second: 93355.3"
      ]
     },
     "metadata": {},
     "output_type": "display_data"
    },
    {
     "data": {
      "text/html": [
       "<pre>Read 192055415 lines. Lines per second: 93362.6</pre>"
      ],
      "text/plain": [
       "Read 192055415 lines. Lines per second: 93362.6"
      ]
     },
     "metadata": {},
     "output_type": "display_data"
    },
    {
     "data": {
      "text/html": [
       "<pre>Read 192721279 lines. Lines per second: 93393.1</pre>"
      ],
      "text/plain": [
       "Read 192721279 lines. Lines per second: 93393.1"
      ]
     },
     "metadata": {},
     "output_type": "display_data"
    },
    {
     "data": {
      "text/html": [
       "<pre>Read 193241812 lines. Lines per second: 93406.7</pre>"
      ],
      "text/plain": [
       "Read 193241812 lines. Lines per second: 93406.7"
      ]
     },
     "metadata": {},
     "output_type": "display_data"
    },
    {
     "data": {
      "text/html": [
       "<pre>Read 193788955 lines. Lines per second: 93359.7</pre>"
      ],
      "text/plain": [
       "Read 193788955 lines. Lines per second: 93359.7"
      ]
     },
     "metadata": {},
     "output_type": "display_data"
    },
    {
     "data": {
      "text/html": [
       "<pre>Read 194328100 lines. Lines per second: 93382.4</pre>"
      ],
      "text/plain": [
       "Read 194328100 lines. Lines per second: 93382.4"
      ]
     },
     "metadata": {},
     "output_type": "display_data"
    },
    {
     "data": {
      "text/html": [
       "<pre>Read 194867110 lines. Lines per second: 93404.5</pre>"
      ],
      "text/plain": [
       "Read 194867110 lines. Lines per second: 93404.5"
      ]
     },
     "metadata": {},
     "output_type": "display_data"
    },
    {
     "data": {
      "text/html": [
       "<pre>Read 195405836 lines. Lines per second: 93422.3</pre>"
      ],
      "text/plain": [
       "Read 195405836 lines. Lines per second: 93422.3"
      ]
     },
     "metadata": {},
     "output_type": "display_data"
    },
    {
     "data": {
      "text/html": [
       "<pre>Read 195968612 lines. Lines per second: 93434.5</pre>"
      ],
      "text/plain": [
       "Read 195968612 lines. Lines per second: 93434.5"
      ]
     },
     "metadata": {},
     "output_type": "display_data"
    },
    {
     "data": {
      "text/html": [
       "<pre>Read 196519168 lines. Lines per second: 93473.2</pre>"
      ],
      "text/plain": [
       "Read 196519168 lines. Lines per second: 93473.2"
      ]
     },
     "metadata": {},
     "output_type": "display_data"
    },
    {
     "data": {
      "text/html": [
       "<pre>Read 197044591 lines. Lines per second: 93462.8</pre>"
      ],
      "text/plain": [
       "Read 197044591 lines. Lines per second: 93462.8"
      ]
     },
     "metadata": {},
     "output_type": "display_data"
    },
    {
     "data": {
      "text/html": [
       "<pre>Read 197593956 lines. Lines per second: 93501.4</pre>"
      ],
      "text/plain": [
       "Read 197593956 lines. Lines per second: 93501.4"
      ]
     },
     "metadata": {},
     "output_type": "display_data"
    },
    {
     "data": {
      "text/html": [
       "<pre>Read 198143167 lines. Lines per second: 93500.1</pre>"
      ],
      "text/plain": [
       "Read 198143167 lines. Lines per second: 93500.1"
      ]
     },
     "metadata": {},
     "output_type": "display_data"
    },
    {
     "data": {
      "text/html": [
       "<pre>Read 198774823 lines. Lines per second: 93515</pre>"
      ],
      "text/plain": [
       "Read 198774823 lines. Lines per second: 93515"
      ]
     },
     "metadata": {},
     "output_type": "display_data"
    },
    {
     "data": {
      "text/html": [
       "<pre>Read 199519685 lines. Lines per second: 93534.3</pre>"
      ],
      "text/plain": [
       "Read 199519685 lines. Lines per second: 93534.3"
      ]
     },
     "metadata": {},
     "output_type": "display_data"
    },
    {
     "data": {
      "text/html": [
       "<pre>Read 200063923 lines. Lines per second: 93526.9</pre>"
      ],
      "text/plain": [
       "Read 200063923 lines. Lines per second: 93526.9"
      ]
     },
     "metadata": {},
     "output_type": "display_data"
    },
    {
     "data": {
      "text/html": [
       "<pre>Read 200829324 lines. Lines per second: 93622.6</pre>"
      ],
      "text/plain": [
       "Read 200829324 lines. Lines per second: 93622.6"
      ]
     },
     "metadata": {},
     "output_type": "display_data"
    },
    {
     "data": {
      "text/html": [
       "<pre>Read 201557760 lines. Lines per second: 93686.6</pre>"
      ],
      "text/plain": [
       "Read 201557760 lines. Lines per second: 93686.6"
      ]
     },
     "metadata": {},
     "output_type": "display_data"
    },
    {
     "data": {
      "text/html": [
       "<pre>Read 202277599 lines. Lines per second: 93749.7</pre>"
      ],
      "text/plain": [
       "Read 202277599 lines. Lines per second: 93749.7"
      ]
     },
     "metadata": {},
     "output_type": "display_data"
    },
    {
     "data": {
      "text/html": [
       "<pre>Read 202986630 lines. Lines per second: 93817.2</pre>"
      ],
      "text/plain": [
       "Read 202986630 lines. Lines per second: 93817.2"
      ]
     },
     "metadata": {},
     "output_type": "display_data"
    },
    {
     "data": {
      "text/html": [
       "<pre>Read 203683802 lines. Lines per second: 93888.1</pre>"
      ],
      "text/plain": [
       "Read 203683802 lines. Lines per second: 93888.1"
      ]
     },
     "metadata": {},
     "output_type": "display_data"
    },
    {
     "data": {
      "text/html": [
       "<pre>Read 204396953 lines. Lines per second: 93955.4</pre>"
      ],
      "text/plain": [
       "Read 204396953 lines. Lines per second: 93955.4"
      ]
     },
     "metadata": {},
     "output_type": "display_data"
    },
    {
     "data": {
      "text/html": [
       "<pre>Read 205117573 lines. Lines per second: 94006.3</pre>"
      ],
      "text/plain": [
       "Read 205117573 lines. Lines per second: 94006.3"
      ]
     },
     "metadata": {},
     "output_type": "display_data"
    },
    {
     "data": {
      "text/html": [
       "<pre>Read 205852350 lines. Lines per second: 94067.9</pre>"
      ],
      "text/plain": [
       "Read 205852350 lines. Lines per second: 94067.9"
      ]
     },
     "metadata": {},
     "output_type": "display_data"
    },
    {
     "data": {
      "text/html": [
       "<pre>Read 206556584 lines. Lines per second: 94135.1</pre>"
      ],
      "text/plain": [
       "Read 206556584 lines. Lines per second: 94135.1"
      ]
     },
     "metadata": {},
     "output_type": "display_data"
    },
    {
     "data": {
      "text/html": [
       "<pre>Read 207252349 lines. Lines per second: 94181.3</pre>"
      ],
      "text/plain": [
       "Read 207252349 lines. Lines per second: 94181.3"
      ]
     },
     "metadata": {},
     "output_type": "display_data"
    },
    {
     "data": {
      "text/html": [
       "<pre>Read 207949761 lines. Lines per second: 94236.7</pre>"
      ],
      "text/plain": [
       "Read 207949761 lines. Lines per second: 94236.7"
      ]
     },
     "metadata": {},
     "output_type": "display_data"
    },
    {
     "data": {
      "text/html": [
       "<pre>Read 208698576 lines. Lines per second: 94318.8</pre>"
      ],
      "text/plain": [
       "Read 208698576 lines. Lines per second: 94318.8"
      ]
     },
     "metadata": {},
     "output_type": "display_data"
    },
    {
     "data": {
      "text/html": [
       "<pre>Read 209390554 lines. Lines per second: 94392.6</pre>"
      ],
      "text/plain": [
       "Read 209390554 lines. Lines per second: 94392.6"
      ]
     },
     "metadata": {},
     "output_type": "display_data"
    },
    {
     "data": {
      "text/html": [
       "<pre>Read 210082488 lines. Lines per second: 94447.1</pre>"
      ],
      "text/plain": [
       "Read 210082488 lines. Lines per second: 94447.1"
      ]
     },
     "metadata": {},
     "output_type": "display_data"
    },
    {
     "data": {
      "text/html": [
       "<pre>Read 210774496 lines. Lines per second: 94522.3</pre>"
      ],
      "text/plain": [
       "Read 210774496 lines. Lines per second: 94522.3"
      ]
     },
     "metadata": {},
     "output_type": "display_data"
    },
    {
     "data": {
      "text/html": [
       "<pre>Read 211332970 lines. Lines per second: 94552.2</pre>"
      ],
      "text/plain": [
       "Read 211332970 lines. Lines per second: 94552.2"
      ]
     },
     "metadata": {},
     "output_type": "display_data"
    },
    {
     "data": {
      "text/html": [
       "<pre>Read 211909823 lines. Lines per second: 94528.9</pre>"
      ],
      "text/plain": [
       "Read 211909823 lines. Lines per second: 94528.9"
      ]
     },
     "metadata": {},
     "output_type": "display_data"
    },
    {
     "data": {
      "text/html": [
       "<pre>Read 212472078 lines. Lines per second: 94548.5</pre>"
      ],
      "text/plain": [
       "Read 212472078 lines. Lines per second: 94548.5"
      ]
     },
     "metadata": {},
     "output_type": "display_data"
    },
    {
     "data": {
      "text/html": [
       "<pre>Read 213026267 lines. Lines per second: 94558.3</pre>"
      ],
      "text/plain": [
       "Read 213026267 lines. Lines per second: 94558.3"
      ]
     },
     "metadata": {},
     "output_type": "display_data"
    },
    {
     "data": {
      "text/html": [
       "<pre>Read 213577014 lines. Lines per second: 94552.5</pre>"
      ],
      "text/plain": [
       "Read 213577014 lines. Lines per second: 94552.5"
      ]
     },
     "metadata": {},
     "output_type": "display_data"
    },
    {
     "data": {
      "text/html": [
       "<pre>6824 lines failed to parse correctly</pre>"
      ],
      "text/plain": [
       "6824 lines failed to parse correctly"
      ]
     },
     "metadata": {},
     "output_type": "display_data"
    },
    {
     "data": {
      "text/html": [
       "<pre>Finished parsing file /storage/homedir/dima/.scidyn2/MAG/Papers.txt.gz</pre>"
      ],
      "text/plain": [
       "Finished parsing file /storage/homedir/dima/.scidyn2/MAG/Papers.txt.gz"
      ]
     },
     "metadata": {},
     "output_type": "display_data"
    },
    {
     "data": {
      "text/html": [
       "<pre>Parsing completed. Parsed 214006156 lines in 2263.97 secs.</pre>"
      ],
      "text/plain": [
       "Parsing completed. Parsed 214006156 lines in 2263.97 secs."
      ]
     },
     "metadata": {},
     "output_type": "display_data"
    },
    {
     "ename": "RuntimeError",
     "evalue": "Unable to interpret value of \"Journal\" as a integer.",
     "output_type": "error",
     "traceback": [
      "\u001b[0;31m---------------------------------------------------------------------------\u001b[0m",
      "\u001b[0;31mRuntimeError\u001b[0m                              Traceback (most recent call last)",
      "\u001b[0;32m~/miniconda3/envs/promed/lib/python3.6/site-packages/turicreate/data_structures/sarray.py\u001b[0m in \u001b[0;36mastype\u001b[0;34m(self, dtype, undefined_on_failure)\u001b[0m\n\u001b[1;32m   2528\u001b[0m         \u001b[0;32mwith\u001b[0m \u001b[0mcython_context\u001b[0m\u001b[0;34m(\u001b[0m\u001b[0;34m)\u001b[0m\u001b[0;34m:\u001b[0m\u001b[0;34m\u001b[0m\u001b[0;34m\u001b[0m\u001b[0m\n\u001b[0;32m-> 2529\u001b[0;31m             \u001b[0;32mreturn\u001b[0m \u001b[0mSArray\u001b[0m\u001b[0;34m(\u001b[0m\u001b[0m_proxy\u001b[0m\u001b[0;34m=\u001b[0m\u001b[0mself\u001b[0m\u001b[0;34m.\u001b[0m\u001b[0m__proxy__\u001b[0m\u001b[0;34m.\u001b[0m\u001b[0mastype\u001b[0m\u001b[0;34m(\u001b[0m\u001b[0mdtype\u001b[0m\u001b[0;34m,\u001b[0m \u001b[0mundefined_on_failure\u001b[0m\u001b[0;34m)\u001b[0m\u001b[0;34m)\u001b[0m\u001b[0;34m\u001b[0m\u001b[0;34m\u001b[0m\u001b[0m\n\u001b[0m\u001b[1;32m   2530\u001b[0m \u001b[0;34m\u001b[0m\u001b[0m\n",
      "\u001b[0;32mturicreate/cython/cy_sarray.pyx\u001b[0m in \u001b[0;36mturicreate.cython.cy_sarray.UnitySArrayProxy.astype\u001b[0;34m()\u001b[0m\n",
      "\u001b[0;32mturicreate/cython/cy_sarray.pyx\u001b[0m in \u001b[0;36mturicreate.cython.cy_sarray.UnitySArrayProxy.astype\u001b[0;34m()\u001b[0m\n",
      "\u001b[0;31mRuntimeError\u001b[0m: Unable to interpret value of \"Journal\" as a integer.",
      "\nDuring handling of the above exception, another exception occurred:\n",
      "\u001b[0;31mRuntimeError\u001b[0m                              Traceback (most recent call last)",
      "\u001b[0;32m<ipython-input-7-b8fc0ba695db>\u001b[0m in \u001b[0;36m<module>\u001b[0;34m\u001b[0m\n\u001b[0;32m----> 1\u001b[0;31m \u001b[0mmag\u001b[0m\u001b[0;34m.\u001b[0m\u001b[0mfields_of_study_papers_ids\u001b[0m\u001b[0;34m(\u001b[0m\u001b[0;34m)\u001b[0m\u001b[0;34m\u001b[0m\u001b[0;34m\u001b[0m\u001b[0m\n\u001b[0m",
      "\u001b[0;32m~/Projects/ScienceDynamics/ScienceDynamics/datasets/utils.py\u001b[0m in \u001b[0;36mwrapper_repeat\u001b[0;34m(self, *args, **kwargs)\u001b[0m\n\u001b[1;32m     45\u001b[0m             \u001b[0msframe_path\u001b[0m \u001b[0;34m=\u001b[0m \u001b[0mpathlib\u001b[0m\u001b[0;34m.\u001b[0m\u001b[0mPath\u001b[0m\u001b[0;34m(\u001b[0m\u001b[0mself\u001b[0m\u001b[0;34m.\u001b[0m\u001b[0m_sframe_dir\u001b[0m\u001b[0;34m)\u001b[0m\u001b[0;34m.\u001b[0m\u001b[0mjoinpath\u001b[0m\u001b[0;34m(\u001b[0m\u001b[0msframe\u001b[0m\u001b[0;34m)\u001b[0m\u001b[0;34m\u001b[0m\u001b[0;34m\u001b[0m\u001b[0m\n\u001b[1;32m     46\u001b[0m             \u001b[0;32mif\u001b[0m \u001b[0;32mnot\u001b[0m \u001b[0msframe_path\u001b[0m\u001b[0;34m.\u001b[0m\u001b[0mexists\u001b[0m\u001b[0;34m(\u001b[0m\u001b[0;34m)\u001b[0m\u001b[0;34m:\u001b[0m\u001b[0;34m\u001b[0m\u001b[0;34m\u001b[0m\u001b[0m\n\u001b[0;32m---> 47\u001b[0;31m                 \u001b[0mvalue\u001b[0m \u001b[0;34m=\u001b[0m \u001b[0mfunc\u001b[0m\u001b[0;34m(\u001b[0m\u001b[0mself\u001b[0m\u001b[0;34m,\u001b[0m \u001b[0;34m*\u001b[0m\u001b[0margs\u001b[0m\u001b[0;34m,\u001b[0m \u001b[0;34m**\u001b[0m\u001b[0mkwargs\u001b[0m\u001b[0;34m)\u001b[0m\u001b[0;34m\u001b[0m\u001b[0;34m\u001b[0m\u001b[0m\n\u001b[0m\u001b[1;32m     48\u001b[0m                 \u001b[0mvalue\u001b[0m\u001b[0;34m.\u001b[0m\u001b[0msave\u001b[0m\u001b[0;34m(\u001b[0m\u001b[0mstr\u001b[0m\u001b[0;34m(\u001b[0m\u001b[0msframe_path\u001b[0m\u001b[0;34m)\u001b[0m\u001b[0;34m)\u001b[0m\u001b[0;34m\u001b[0m\u001b[0;34m\u001b[0m\u001b[0m\n\u001b[1;32m     49\u001b[0m             \u001b[0;32melse\u001b[0m\u001b[0;34m:\u001b[0m\u001b[0;34m\u001b[0m\u001b[0;34m\u001b[0m\u001b[0m\n",
      "\u001b[0;32m~/Projects/ScienceDynamics/ScienceDynamics/datasets/microsoft_academic_graph.py\u001b[0m in \u001b[0;36mfields_of_study_papers_ids\u001b[0;34m(self, levels)\u001b[0m\n\u001b[1;32m    343\u001b[0m         \u001b[0msf\u001b[0m \u001b[0;34m=\u001b[0m \u001b[0mSFrame\u001b[0m\u001b[0;34m(\u001b[0m\u001b[0;34m)\u001b[0m\u001b[0;34m\u001b[0m\u001b[0;34m\u001b[0m\u001b[0m\n\u001b[1;32m    344\u001b[0m         \u001b[0;32mfor\u001b[0m \u001b[0mlevel\u001b[0m \u001b[0;32min\u001b[0m \u001b[0mlevels\u001b[0m\u001b[0;34m:\u001b[0m\u001b[0;34m\u001b[0m\u001b[0;34m\u001b[0m\u001b[0m\n\u001b[0;32m--> 345\u001b[0;31m             \u001b[0msf\u001b[0m \u001b[0;34m=\u001b[0m \u001b[0msf\u001b[0m\u001b[0;34m.\u001b[0m\u001b[0mappend\u001b[0m\u001b[0;34m(\u001b[0m\u001b[0mself\u001b[0m\u001b[0;34m.\u001b[0m\u001b[0m_create_field_of_study_paper_ids\u001b[0m\u001b[0;34m(\u001b[0m\u001b[0mlevel\u001b[0m\u001b[0;34m)\u001b[0m\u001b[0;34m)\u001b[0m\u001b[0;34m\u001b[0m\u001b[0;34m\u001b[0m\u001b[0m\n\u001b[0m\u001b[1;32m    346\u001b[0m         \u001b[0;32mreturn\u001b[0m \u001b[0msf\u001b[0m\u001b[0;34m\u001b[0m\u001b[0;34m\u001b[0m\u001b[0m\n",
      "\u001b[0;32m~/Projects/ScienceDynamics/ScienceDynamics/datasets/microsoft_academic_graph.py\u001b[0m in \u001b[0;36m_create_field_of_study_paper_ids\u001b[0;34m(self, level)\u001b[0m\n\u001b[1;32m    322\u001b[0m \u001b[0;34m\u001b[0m\u001b[0m\n\u001b[1;32m    323\u001b[0m         \u001b[0mcol\u001b[0m \u001b[0;34m=\u001b[0m \u001b[0;34m'Fields of study parent list (L%s)'\u001b[0m \u001b[0;34m%\u001b[0m \u001b[0mlevel\u001b[0m\u001b[0;34m\u001b[0m\u001b[0;34m\u001b[0m\u001b[0m\n\u001b[0;32m--> 324\u001b[0;31m         \u001b[0msf\u001b[0m \u001b[0;34m=\u001b[0m \u001b[0mself\u001b[0m\u001b[0;34m.\u001b[0m\u001b[0mextended_papers\u001b[0m\u001b[0;34m\u001b[0m\u001b[0;34m\u001b[0m\u001b[0m\n\u001b[0m\u001b[1;32m    325\u001b[0m         \u001b[0mnew_col_name\u001b[0m \u001b[0;34m=\u001b[0m \u001b[0;34m\"Field ID\"\u001b[0m\u001b[0;34m\u001b[0m\u001b[0;34m\u001b[0m\u001b[0m\n\u001b[1;32m    326\u001b[0m         \u001b[0msf\u001b[0m \u001b[0;34m=\u001b[0m \u001b[0msf\u001b[0m\u001b[0;34m[\u001b[0m\u001b[0msf\u001b[0m\u001b[0;34m[\u001b[0m\u001b[0mcol\u001b[0m\u001b[0;34m]\u001b[0m \u001b[0;34m!=\u001b[0m \u001b[0;32mNone\u001b[0m\u001b[0;34m]\u001b[0m\u001b[0;34m\u001b[0m\u001b[0;34m\u001b[0m\u001b[0m\n",
      "\u001b[0;32m~/Projects/ScienceDynamics/ScienceDynamics/datasets/utils.py\u001b[0m in \u001b[0;36mwrapper_repeat\u001b[0;34m(self, *args, **kwargs)\u001b[0m\n\u001b[1;32m     45\u001b[0m             \u001b[0msframe_path\u001b[0m \u001b[0;34m=\u001b[0m \u001b[0mpathlib\u001b[0m\u001b[0;34m.\u001b[0m\u001b[0mPath\u001b[0m\u001b[0;34m(\u001b[0m\u001b[0mself\u001b[0m\u001b[0;34m.\u001b[0m\u001b[0m_sframe_dir\u001b[0m\u001b[0;34m)\u001b[0m\u001b[0;34m.\u001b[0m\u001b[0mjoinpath\u001b[0m\u001b[0;34m(\u001b[0m\u001b[0msframe\u001b[0m\u001b[0;34m)\u001b[0m\u001b[0;34m\u001b[0m\u001b[0;34m\u001b[0m\u001b[0m\n\u001b[1;32m     46\u001b[0m             \u001b[0;32mif\u001b[0m \u001b[0;32mnot\u001b[0m \u001b[0msframe_path\u001b[0m\u001b[0;34m.\u001b[0m\u001b[0mexists\u001b[0m\u001b[0;34m(\u001b[0m\u001b[0;34m)\u001b[0m\u001b[0;34m:\u001b[0m\u001b[0;34m\u001b[0m\u001b[0;34m\u001b[0m\u001b[0m\n\u001b[0;32m---> 47\u001b[0;31m                 \u001b[0mvalue\u001b[0m \u001b[0;34m=\u001b[0m \u001b[0mfunc\u001b[0m\u001b[0;34m(\u001b[0m\u001b[0mself\u001b[0m\u001b[0;34m,\u001b[0m \u001b[0;34m*\u001b[0m\u001b[0margs\u001b[0m\u001b[0;34m,\u001b[0m \u001b[0;34m**\u001b[0m\u001b[0mkwargs\u001b[0m\u001b[0;34m)\u001b[0m\u001b[0;34m\u001b[0m\u001b[0;34m\u001b[0m\u001b[0m\n\u001b[0m\u001b[1;32m     48\u001b[0m                 \u001b[0mvalue\u001b[0m\u001b[0;34m.\u001b[0m\u001b[0msave\u001b[0m\u001b[0;34m(\u001b[0m\u001b[0mstr\u001b[0m\u001b[0;34m(\u001b[0m\u001b[0msframe_path\u001b[0m\u001b[0;34m)\u001b[0m\u001b[0;34m)\u001b[0m\u001b[0;34m\u001b[0m\u001b[0;34m\u001b[0m\u001b[0m\n\u001b[1;32m     49\u001b[0m             \u001b[0;32melse\u001b[0m\u001b[0;34m:\u001b[0m\u001b[0;34m\u001b[0m\u001b[0;34m\u001b[0m\u001b[0m\n",
      "\u001b[0;32m~/Projects/ScienceDynamics/ScienceDynamics/datasets/microsoft_academic_graph.py\u001b[0m in \u001b[0;36mextended_papers\u001b[0;34m(self)\u001b[0m\n\u001b[1;32m    305\u001b[0m         \u001b[0;34m:\u001b[0m\u001b[0;32mreturn\u001b[0m\u001b[0;34m:\u001b[0m\u001b[0;34m\u001b[0m\u001b[0;34m\u001b[0m\u001b[0m\n\u001b[1;32m    306\u001b[0m         \"\"\"\n\u001b[0;32m--> 307\u001b[0;31m         \u001b[0msf\u001b[0m \u001b[0;34m=\u001b[0m \u001b[0mself\u001b[0m\u001b[0;34m.\u001b[0m\u001b[0mpapers\u001b[0m\u001b[0;34m\u001b[0m\u001b[0;34m\u001b[0m\u001b[0m\n\u001b[0m\u001b[1;32m    308\u001b[0m         sframe_list = [self.reference_count, self.papers_citation_number_by_year, self.papers_authors_lists,\n\u001b[1;32m    309\u001b[0m                        self.paper_keywords_list, self.papers_fields_of_study(), self.urls]\n",
      "\u001b[0;32m~/Projects/ScienceDynamics/ScienceDynamics/datasets/utils.py\u001b[0m in \u001b[0;36mwrapper_repeat\u001b[0;34m(self, *args, **kwargs)\u001b[0m\n\u001b[1;32m     45\u001b[0m             \u001b[0msframe_path\u001b[0m \u001b[0;34m=\u001b[0m \u001b[0mpathlib\u001b[0m\u001b[0;34m.\u001b[0m\u001b[0mPath\u001b[0m\u001b[0;34m(\u001b[0m\u001b[0mself\u001b[0m\u001b[0;34m.\u001b[0m\u001b[0m_sframe_dir\u001b[0m\u001b[0;34m)\u001b[0m\u001b[0;34m.\u001b[0m\u001b[0mjoinpath\u001b[0m\u001b[0;34m(\u001b[0m\u001b[0msframe\u001b[0m\u001b[0;34m)\u001b[0m\u001b[0;34m\u001b[0m\u001b[0;34m\u001b[0m\u001b[0m\n\u001b[1;32m     46\u001b[0m             \u001b[0;32mif\u001b[0m \u001b[0;32mnot\u001b[0m \u001b[0msframe_path\u001b[0m\u001b[0;34m.\u001b[0m\u001b[0mexists\u001b[0m\u001b[0;34m(\u001b[0m\u001b[0;34m)\u001b[0m\u001b[0;34m:\u001b[0m\u001b[0;34m\u001b[0m\u001b[0;34m\u001b[0m\u001b[0m\n\u001b[0;32m---> 47\u001b[0;31m                 \u001b[0mvalue\u001b[0m \u001b[0;34m=\u001b[0m \u001b[0mfunc\u001b[0m\u001b[0;34m(\u001b[0m\u001b[0mself\u001b[0m\u001b[0;34m,\u001b[0m \u001b[0;34m*\u001b[0m\u001b[0margs\u001b[0m\u001b[0;34m,\u001b[0m \u001b[0;34m**\u001b[0m\u001b[0mkwargs\u001b[0m\u001b[0;34m)\u001b[0m\u001b[0;34m\u001b[0m\u001b[0;34m\u001b[0m\u001b[0m\n\u001b[0m\u001b[1;32m     48\u001b[0m                 \u001b[0mvalue\u001b[0m\u001b[0;34m.\u001b[0m\u001b[0msave\u001b[0m\u001b[0;34m(\u001b[0m\u001b[0mstr\u001b[0m\u001b[0;34m(\u001b[0m\u001b[0msframe_path\u001b[0m\u001b[0;34m)\u001b[0m\u001b[0;34m)\u001b[0m\u001b[0;34m\u001b[0m\u001b[0;34m\u001b[0m\u001b[0m\n\u001b[1;32m     49\u001b[0m             \u001b[0;32melse\u001b[0m\u001b[0;34m:\u001b[0m\u001b[0;34m\u001b[0m\u001b[0;34m\u001b[0m\u001b[0m\n",
      "\u001b[0;32m~/Projects/ScienceDynamics/ScienceDynamics/datasets/microsoft_academic_graph.py\u001b[0m in \u001b[0;36mpapers\u001b[0;34m(self)\u001b[0m\n\u001b[1;32m     37\u001b[0m                                 \u001b[0;34m\"X9\"\u001b[0m\u001b[0;34m:\u001b[0m \u001b[0;34m\"Journal ID mapped to venue name\"\u001b[0m\u001b[0;34m,\u001b[0m\u001b[0;34m\u001b[0m\u001b[0;34m\u001b[0m\u001b[0m\n\u001b[1;32m     38\u001b[0m                                 \"X10\": \"Conference ID mapped to venue name\", \"X11\": \"Paper rank\"})\n\u001b[0;32m---> 39\u001b[0;31m         \u001b[0mpapers\u001b[0m\u001b[0;34m[\u001b[0m\u001b[0;34m\"Paper publish year\"\u001b[0m\u001b[0;34m]\u001b[0m \u001b[0;34m=\u001b[0m \u001b[0mpapers\u001b[0m\u001b[0;34m[\u001b[0m\u001b[0;34m\"Paper publish year\"\u001b[0m\u001b[0;34m]\u001b[0m\u001b[0;34m.\u001b[0m\u001b[0mastype\u001b[0m\u001b[0;34m(\u001b[0m\u001b[0mint\u001b[0m\u001b[0;34m)\u001b[0m\u001b[0;34m\u001b[0m\u001b[0;34m\u001b[0m\u001b[0m\n\u001b[0m\u001b[1;32m     40\u001b[0m         \u001b[0;32mreturn\u001b[0m \u001b[0mpapers\u001b[0m\u001b[0;34m\u001b[0m\u001b[0;34m\u001b[0m\u001b[0m\n\u001b[1;32m     41\u001b[0m \u001b[0;34m\u001b[0m\u001b[0m\n",
      "\u001b[0;32m~/miniconda3/envs/promed/lib/python3.6/site-packages/turicreate/data_structures/sarray.py\u001b[0m in \u001b[0;36mastype\u001b[0;34m(self, dtype, undefined_on_failure)\u001b[0m\n\u001b[1;32m   2527\u001b[0m \u001b[0;34m\u001b[0m\u001b[0m\n\u001b[1;32m   2528\u001b[0m         \u001b[0;32mwith\u001b[0m \u001b[0mcython_context\u001b[0m\u001b[0;34m(\u001b[0m\u001b[0;34m)\u001b[0m\u001b[0;34m:\u001b[0m\u001b[0;34m\u001b[0m\u001b[0;34m\u001b[0m\u001b[0m\n\u001b[0;32m-> 2529\u001b[0;31m             \u001b[0;32mreturn\u001b[0m \u001b[0mSArray\u001b[0m\u001b[0;34m(\u001b[0m\u001b[0m_proxy\u001b[0m\u001b[0;34m=\u001b[0m\u001b[0mself\u001b[0m\u001b[0;34m.\u001b[0m\u001b[0m__proxy__\u001b[0m\u001b[0;34m.\u001b[0m\u001b[0mastype\u001b[0m\u001b[0;34m(\u001b[0m\u001b[0mdtype\u001b[0m\u001b[0;34m,\u001b[0m \u001b[0mundefined_on_failure\u001b[0m\u001b[0;34m)\u001b[0m\u001b[0;34m)\u001b[0m\u001b[0;34m\u001b[0m\u001b[0;34m\u001b[0m\u001b[0m\n\u001b[0m\u001b[1;32m   2530\u001b[0m \u001b[0;34m\u001b[0m\u001b[0m\n\u001b[1;32m   2531\u001b[0m     \u001b[0;32mdef\u001b[0m \u001b[0mclip\u001b[0m\u001b[0;34m(\u001b[0m\u001b[0mself\u001b[0m\u001b[0;34m,\u001b[0m \u001b[0mlower\u001b[0m\u001b[0;34m=\u001b[0m\u001b[0mfloat\u001b[0m\u001b[0;34m(\u001b[0m\u001b[0;34m'nan'\u001b[0m\u001b[0;34m)\u001b[0m\u001b[0;34m,\u001b[0m \u001b[0mupper\u001b[0m\u001b[0;34m=\u001b[0m\u001b[0mfloat\u001b[0m\u001b[0;34m(\u001b[0m\u001b[0;34m'nan'\u001b[0m\u001b[0;34m)\u001b[0m\u001b[0;34m)\u001b[0m\u001b[0;34m:\u001b[0m\u001b[0;34m\u001b[0m\u001b[0;34m\u001b[0m\u001b[0m\n",
      "\u001b[0;32m~/miniconda3/envs/promed/lib/python3.6/site-packages/turicreate/cython/context.py\u001b[0m in \u001b[0;36m__exit__\u001b[0;34m(self, exc_type, exc_value, traceback)\u001b[0m\n\u001b[1;32m     47\u001b[0m             \u001b[0;32mif\u001b[0m \u001b[0;32mnot\u001b[0m \u001b[0mself\u001b[0m\u001b[0;34m.\u001b[0m\u001b[0mshow_cython_trace\u001b[0m\u001b[0;34m:\u001b[0m\u001b[0;34m\u001b[0m\u001b[0;34m\u001b[0m\u001b[0m\n\u001b[1;32m     48\u001b[0m                 \u001b[0;31m# To hide cython trace, we re-raise from here\u001b[0m\u001b[0;34m\u001b[0m\u001b[0;34m\u001b[0m\u001b[0;34m\u001b[0m\u001b[0m\n\u001b[0;32m---> 49\u001b[0;31m                 \u001b[0;32mraise\u001b[0m \u001b[0mexc_type\u001b[0m\u001b[0;34m(\u001b[0m\u001b[0mexc_value\u001b[0m\u001b[0;34m)\u001b[0m\u001b[0;34m\u001b[0m\u001b[0;34m\u001b[0m\u001b[0m\n\u001b[0m\u001b[1;32m     50\u001b[0m             \u001b[0;32melse\u001b[0m\u001b[0;34m:\u001b[0m\u001b[0;34m\u001b[0m\u001b[0;34m\u001b[0m\u001b[0m\n\u001b[1;32m     51\u001b[0m                 \u001b[0;31m# To show the full trace, we do nothing and let exception propagate\u001b[0m\u001b[0;34m\u001b[0m\u001b[0;34m\u001b[0m\u001b[0;34m\u001b[0m\u001b[0m\n",
      "\u001b[0;31mRuntimeError\u001b[0m: Unable to interpret value of \"Journal\" as a integer."
     ]
    }
   ],
   "source": [
    "mag.fields_of_study_papers_ids()"
   ]
  },
  {
   "cell_type": "markdown",
   "metadata": {},
   "source": [
    "The above two lines of code will create a set of SFrames with all the dataset data. The SFrames will include data on authors’ papers, keywords, fields of study, and more. Moreover, the code will construct the Extended Papers SFrame, which contains various meta data on each paper in the dataset."
   ]
  },
  {
   "cell_type": "code",
   "execution_count": null,
   "metadata": {
    "collapsed": true,
    "jupyter": {
     "outputs_hidden": true
    }
   },
   "outputs": [],
   "source": [
    "sframe_list = [ self.papers_citation_number_by_year, \n",
    "                        self.urls]"
   ]
  },
  {
   "cell_type": "code",
   "execution_count": 14,
   "metadata": {
    "collapsed": true,
    "jupyter": {
     "outputs_hidden": true
    }
   },
   "outputs": [],
   "source": [
    "p = mag.papers"
   ]
  },
  {
   "cell_type": "code",
   "execution_count": 15,
   "metadata": {
    "collapsed": true,
    "jupyter": {
     "outputs_hidden": true
    }
   },
   "outputs": [
    {
     "data": {
      "text/plain": [
       "True"
      ]
     },
     "execution_count": 15,
     "metadata": {},
     "output_type": "execute_result"
    }
   ],
   "source": [
    "os.path.exists(\"/storage/homedir/dima/.scidyn/MAG/sframes/ExtendedPapers.sframe\")"
   ]
  },
  {
   "cell_type": "code",
   "execution_count": 31,
   "metadata": {
    "collapsed": true,
    "jupyter": {
     "outputs_hidden": true
    }
   },
   "outputs": [],
   "source": [
    "mag_sf = mag.extended_papers\n"
   ]
  },
  {
   "cell_type": "code",
   "execution_count": 34,
   "metadata": {
    "collapsed": true,
    "jupyter": {
     "outputs_hidden": true
    }
   },
   "outputs": [],
   "source": [
    "col= 'Fields of study parent list (L1)'"
   ]
  },
  {
   "cell_type": "code",
   "execution_count": 36,
   "metadata": {
    "collapsed": true,
    "jupyter": {
     "outputs_hidden": true
    }
   },
   "outputs": [],
   "source": [
    "new_col_name = \"Field ID\"\n",
    "sf = mag_sf.stack(col, new_column_name=new_col_name)"
   ]
  },
  {
   "cell_type": "code",
   "execution_count": 55,
   "metadata": {
    "collapsed": true,
    "jupyter": {
     "outputs_hidden": true
    }
   },
   "outputs": [
    {
     "data": {
      "text/html": [
       "<div style=\"max-height:1000px;max-width:1500px;overflow:auto;\"><table frame=\"box\" rules=\"cols\">\n",
       "    <tr>\n",
       "        <th style=\"padding-left: 1em; padding-right: 1em; text-align: center\">Field of study ID</th>\n",
       "        <th style=\"padding-left: 1em; padding-right: 1em; text-align: center\">Paper IDs</th>\n",
       "        <th style=\"padding-left: 1em; padding-right: 1em; text-align: center\">Field of study name</th>\n",
       "        <th style=\"padding-left: 1em; padding-right: 1em; text-align: center\">Number of Paper</th>\n",
       "        <th style=\"padding-left: 1em; padding-right: 1em; text-align: center\">Level</th>\n",
       "    </tr>\n",
       "    <tr>\n",
       "        <td style=\"padding-left: 1em; padding-right: 1em; text-align: center; vertical-align: top\">01C396A7</td>\n",
       "        <td style=\"padding-left: 1em; padding-right: 1em; text-align: center; vertical-align: top\">[7FE89521, 0E23C189,<br>59E35B91, 587AF2A4, ...</td>\n",
       "        <td style=\"padding-left: 1em; padding-right: 1em; text-align: center; vertical-align: top\">Media studies</td>\n",
       "        <td style=\"padding-left: 1em; padding-right: 1em; text-align: center; vertical-align: top\">24854</td>\n",
       "        <td style=\"padding-left: 1em; padding-right: 1em; text-align: center; vertical-align: top\">1</td>\n",
       "    </tr>\n",
       "    <tr>\n",
       "        <td style=\"padding-left: 1em; padding-right: 1em; text-align: center; vertical-align: top\">02005B3E</td>\n",
       "        <td style=\"padding-left: 1em; padding-right: 1em; text-align: center; vertical-align: top\">[7887D4CE, 7DAF4838,<br>7919A107, 5E1E0717, ...</td>\n",
       "        <td style=\"padding-left: 1em; padding-right: 1em; text-align: center; vertical-align: top\">Calculus</td>\n",
       "        <td style=\"padding-left: 1em; padding-right: 1em; text-align: center; vertical-align: top\">181633</td>\n",
       "        <td style=\"padding-left: 1em; padding-right: 1em; text-align: center; vertical-align: top\">1</td>\n",
       "    </tr>\n",
       "    <tr>\n",
       "        <td style=\"padding-left: 1em; padding-right: 1em; text-align: center; vertical-align: top\">0A778812</td>\n",
       "        <td style=\"padding-left: 1em; padding-right: 1em; text-align: center; vertical-align: top\">[7EAF768F, 7DC84FFC,<br>49816720, 7DF2E00F, ...</td>\n",
       "        <td style=\"padding-left: 1em; padding-right: 1em; text-align: center; vertical-align: top\">Natural resource<br>economics ...</td>\n",
       "        <td style=\"padding-left: 1em; padding-right: 1em; text-align: center; vertical-align: top\">1222</td>\n",
       "        <td style=\"padding-left: 1em; padding-right: 1em; text-align: center; vertical-align: top\">1</td>\n",
       "    </tr>\n",
       "    <tr>\n",
       "        <td style=\"padding-left: 1em; padding-right: 1em; text-align: center; vertical-align: top\">0BE4BA29</td>\n",
       "        <td style=\"padding-left: 1em; padding-right: 1em; text-align: center; vertical-align: top\">[7CFE299E, 5E628D73,<br>80BEF0CE, 7E555D49, ...</td>\n",
       "        <td style=\"padding-left: 1em; padding-right: 1em; text-align: center; vertical-align: top\">Law</td>\n",
       "        <td style=\"padding-left: 1em; padding-right: 1em; text-align: center; vertical-align: top\">1343748</td>\n",
       "        <td style=\"padding-left: 1em; padding-right: 1em; text-align: center; vertical-align: top\">1</td>\n",
       "    </tr>\n",
       "    <tr>\n",
       "        <td style=\"padding-left: 1em; padding-right: 1em; text-align: center; vertical-align: top\">014EF258</td>\n",
       "        <td style=\"padding-left: 1em; padding-right: 1em; text-align: center; vertical-align: top\">[7F9691D6, 7DED9FA0,<br>7E4483E2, 7DFA3CA8, ...</td>\n",
       "        <td style=\"padding-left: 1em; padding-right: 1em; text-align: center; vertical-align: top\">Combinatorial chemistry</td>\n",
       "        <td style=\"padding-left: 1em; padding-right: 1em; text-align: center; vertical-align: top\">42382</td>\n",
       "        <td style=\"padding-left: 1em; padding-right: 1em; text-align: center; vertical-align: top\">1</td>\n",
       "    </tr>\n",
       "    <tr>\n",
       "        <td style=\"padding-left: 1em; padding-right: 1em; text-align: center; vertical-align: top\">023E10AF</td>\n",
       "        <td style=\"padding-left: 1em; padding-right: 1em; text-align: center; vertical-align: top\">[7FD252F0, 84287EA0,<br>728CDCF0, 5C37DA5F, ...</td>\n",
       "        <td style=\"padding-left: 1em; padding-right: 1em; text-align: center; vertical-align: top\">Agricultural science</td>\n",
       "        <td style=\"padding-left: 1em; padding-right: 1em; text-align: center; vertical-align: top\">49446</td>\n",
       "        <td style=\"padding-left: 1em; padding-right: 1em; text-align: center; vertical-align: top\">1</td>\n",
       "    </tr>\n",
       "    <tr>\n",
       "        <td style=\"padding-left: 1em; padding-right: 1em; text-align: center; vertical-align: top\">02C0117D</td>\n",
       "        <td style=\"padding-left: 1em; padding-right: 1em; text-align: center; vertical-align: top\">[790C14A8, 5DD62343,<br>80D484FA, 78CD50CE, ...</td>\n",
       "        <td style=\"padding-left: 1em; padding-right: 1em; text-align: center; vertical-align: top\">Nuclear magnetic<br>resonance ...</td>\n",
       "        <td style=\"padding-left: 1em; padding-right: 1em; text-align: center; vertical-align: top\">486056</td>\n",
       "        <td style=\"padding-left: 1em; padding-right: 1em; text-align: center; vertical-align: top\">1</td>\n",
       "    </tr>\n",
       "    <tr>\n",
       "        <td style=\"padding-left: 1em; padding-right: 1em; text-align: center; vertical-align: top\">06E88D7C</td>\n",
       "        <td style=\"padding-left: 1em; padding-right: 1em; text-align: center; vertical-align: top\">[7CFE299E, 79F82B7D,<br>7E087EF0, 5C65E96E, ...</td>\n",
       "        <td style=\"padding-left: 1em; padding-right: 1em; text-align: center; vertical-align: top\">Software Engineering</td>\n",
       "        <td style=\"padding-left: 1em; padding-right: 1em; text-align: center; vertical-align: top\">323620</td>\n",
       "        <td style=\"padding-left: 1em; padding-right: 1em; text-align: center; vertical-align: top\">1</td>\n",
       "    </tr>\n",
       "    <tr>\n",
       "        <td style=\"padding-left: 1em; padding-right: 1em; text-align: center; vertical-align: top\">073136E6</td>\n",
       "        <td style=\"padding-left: 1em; padding-right: 1em; text-align: center; vertical-align: top\">[0A8B0683, 77DE62B4,<br>5ABC5929, 5E494EDA, ...</td>\n",
       "        <td style=\"padding-left: 1em; padding-right: 1em; text-align: center; vertical-align: top\">Optics</td>\n",
       "        <td style=\"padding-left: 1em; padding-right: 1em; text-align: center; vertical-align: top\">888483</td>\n",
       "        <td style=\"padding-left: 1em; padding-right: 1em; text-align: center; vertical-align: top\">1</td>\n",
       "    </tr>\n",
       "    <tr>\n",
       "        <td style=\"padding-left: 1em; padding-right: 1em; text-align: center; vertical-align: top\">08ED7E6D</td>\n",
       "        <td style=\"padding-left: 1em; padding-right: 1em; text-align: center; vertical-align: top\">[7CC75151, 75AE9967,<br>58AF9956, 5B9DDC2F, ...</td>\n",
       "        <td style=\"padding-left: 1em; padding-right: 1em; text-align: center; vertical-align: top\">Econometrics</td>\n",
       "        <td style=\"padding-left: 1em; padding-right: 1em; text-align: center; vertical-align: top\">41660</td>\n",
       "        <td style=\"padding-left: 1em; padding-right: 1em; text-align: center; vertical-align: top\">1</td>\n",
       "    </tr>\n",
       "</table>\n",
       "[37816 rows x 5 columns]<br/>Note: Only the head of the SFrame is printed.<br/>You can use print_rows(num_rows=m, num_columns=n) to print more rows and columns.\n",
       "</div>"
      ],
      "text/plain": [
       "Columns:\n",
       "\tField of study ID\tstr\n",
       "\tPaper IDs\tlist\n",
       "\tField of study name\tstr\n",
       "\tNumber of Paper\tint\n",
       "\tLevel\tint\n",
       "\n",
       "Rows: 37816\n",
       "\n",
       "Data:\n",
       "+-------------------+-------------------------------+----------------------------+\n",
       "| Field of study ID |           Paper IDs           |    Field of study name     |\n",
       "+-------------------+-------------------------------+----------------------------+\n",
       "|      01C396A7     | [7FE89521, 0E23C189, 59E35... |       Media studies        |\n",
       "|      02005B3E     | [7887D4CE, 7DAF4838, 7919A... |          Calculus          |\n",
       "|      0A778812     | [7EAF768F, 7DC84FFC, 49816... | Natural resource economics |\n",
       "|      0BE4BA29     | [7CFE299E, 5E628D73, 80BEF... |            Law             |\n",
       "|      014EF258     | [7F9691D6, 7DED9FA0, 7E448... |  Combinatorial chemistry   |\n",
       "|      023E10AF     | [7FD252F0, 84287EA0, 728CD... |    Agricultural science    |\n",
       "|      02C0117D     | [790C14A8, 5DD62343, 80D48... | Nuclear magnetic resonance |\n",
       "|      06E88D7C     | [7CFE299E, 79F82B7D, 7E087... |    Software Engineering    |\n",
       "|      073136E6     | [0A8B0683, 77DE62B4, 5ABC5... |           Optics           |\n",
       "|      08ED7E6D     | [7CC75151, 75AE9967, 58AF9... |        Econometrics        |\n",
       "+-------------------+-------------------------------+----------------------------+\n",
       "+-----------------+-------+\n",
       "| Number of Paper | Level |\n",
       "+-----------------+-------+\n",
       "|      24854      |   1   |\n",
       "|      181633     |   1   |\n",
       "|       1222      |   1   |\n",
       "|     1343748     |   1   |\n",
       "|      42382      |   1   |\n",
       "|      49446      |   1   |\n",
       "|      486056     |   1   |\n",
       "|      323620     |   1   |\n",
       "|      888483     |   1   |\n",
       "|      41660      |   1   |\n",
       "+-----------------+-------+\n",
       "[37816 rows x 5 columns]\n",
       "Note: Only the head of the SFrame is printed.\n",
       "You can use print_rows(num_rows=m, num_columns=n) to print more rows and columns."
      ]
     },
     "execution_count": 55,
     "metadata": {},
     "output_type": "execute_result"
    }
   ],
   "source": [
    "mag.fields_of_study_papers_ids_sframes()"
   ]
  },
  {
   "cell_type": "markdown",
   "metadata": {},
   "source": [
    "In our study, we also analyzed how various authors' attributes, such as the number of published papers, number of coauthors, etc., has changed over time. To achieve this, we created an authors features SFrame using the following code:"
   ]
  },
  {
   "cell_type": "code",
   "execution_count": 8,
   "metadata": {
    "collapsed": true,
    "jupyter": {
     "outputs_hidden": true
    }
   },
   "outputs": [
    {
     "data": {
      "text/html": [
       "<pre>Finished parsing file /storage/homedir/dima/.scidyn/MAG/Authors.txt</pre>"
      ],
      "text/plain": [
       "Finished parsing file /storage/homedir/dima/.scidyn/MAG/Authors.txt"
      ]
     },
     "metadata": {},
     "output_type": "display_data"
    },
    {
     "data": {
      "text/html": [
       "<pre>Parsing completed. Parsed 100 lines in 5.93314 secs.</pre>"
      ],
      "text/plain": [
       "Parsing completed. Parsed 100 lines in 5.93314 secs."
      ]
     },
     "metadata": {},
     "output_type": "display_data"
    },
    {
     "name": "stdout",
     "output_type": "stream",
     "text": [
      "------------------------------------------------------\n",
      "Inferred types from first 100 line(s) of file as \n",
      "column_type_hints=[str,str]\n",
      "If parsing fails due to incorrect types, you can correct\n",
      "the inferred type list above and pass it to read_csv in\n",
      "the column_type_hints argument\n",
      "------------------------------------------------------\n"
     ]
    },
    {
     "data": {
      "text/html": [
       "<pre>Read 2100324 lines. Lines per second: 346187</pre>"
      ],
      "text/plain": [
       "Read 2100324 lines. Lines per second: 346187"
      ]
     },
     "metadata": {},
     "output_type": "display_data"
    },
    {
     "data": {
      "text/html": [
       "<pre>Read 12600385 lines. Lines per second: 1.08461e+06</pre>"
      ],
      "text/plain": [
       "Read 12600385 lines. Lines per second: 1.08461e+06"
      ]
     },
     "metadata": {},
     "output_type": "display_data"
    },
    {
     "data": {
      "text/html": [
       "<pre>Read 20989995 lines. Lines per second: 1.21389e+06</pre>"
      ],
      "text/plain": [
       "Read 20989995 lines. Lines per second: 1.21389e+06"
      ]
     },
     "metadata": {},
     "output_type": "display_data"
    },
    {
     "data": {
      "text/html": [
       "<pre>Read 29381572 lines. Lines per second: 1.28995e+06</pre>"
      ],
      "text/plain": [
       "Read 29381572 lines. Lines per second: 1.28995e+06"
      ]
     },
     "metadata": {},
     "output_type": "display_data"
    },
    {
     "data": {
      "text/html": [
       "<pre>Read 37777563 lines. Lines per second: 1.30357e+06</pre>"
      ],
      "text/plain": [
       "Read 37777563 lines. Lines per second: 1.30357e+06"
      ]
     },
     "metadata": {},
     "output_type": "display_data"
    },
    {
     "data": {
      "text/html": [
       "<pre>Read 46173322 lines. Lines per second: 1.33767e+06</pre>"
      ],
      "text/plain": [
       "Read 46173322 lines. Lines per second: 1.33767e+06"
      ]
     },
     "metadata": {},
     "output_type": "display_data"
    },
    {
     "data": {
      "text/html": [
       "<pre>Read 54572360 lines. Lines per second: 1.34288e+06</pre>"
      ],
      "text/plain": [
       "Read 54572360 lines. Lines per second: 1.34288e+06"
      ]
     },
     "metadata": {},
     "output_type": "display_data"
    },
    {
     "data": {
      "text/html": [
       "<pre>Read 62961868 lines. Lines per second: 1.36628e+06</pre>"
      ],
      "text/plain": [
       "Read 62961868 lines. Lines per second: 1.36628e+06"
      ]
     },
     "metadata": {},
     "output_type": "display_data"
    },
    {
     "data": {
      "text/html": [
       "<pre>Read 71351900 lines. Lines per second: 1.36946e+06</pre>"
      ],
      "text/plain": [
       "Read 71351900 lines. Lines per second: 1.36946e+06"
      ]
     },
     "metadata": {},
     "output_type": "display_data"
    },
    {
     "data": {
      "text/html": [
       "<pre>Read 77651566 lines. Lines per second: 1.35928e+06</pre>"
      ],
      "text/plain": [
       "Read 77651566 lines. Lines per second: 1.35928e+06"
      ]
     },
     "metadata": {},
     "output_type": "display_data"
    },
    {
     "data": {
      "text/html": [
       "<pre>Read 86040708 lines. Lines per second: 1.37492e+06</pre>"
      ],
      "text/plain": [
       "Read 86040708 lines. Lines per second: 1.37492e+06"
      ]
     },
     "metadata": {},
     "output_type": "display_data"
    },
    {
     "data": {
      "text/html": [
       "<pre>Read 94443178 lines. Lines per second: 1.37786e+06</pre>"
      ],
      "text/plain": [
       "Read 94443178 lines. Lines per second: 1.37786e+06"
      ]
     },
     "metadata": {},
     "output_type": "display_data"
    },
    {
     "data": {
      "text/html": [
       "<pre>Read 102838025 lines. Lines per second: 1.39162e+06</pre>"
      ],
      "text/plain": [
       "Read 102838025 lines. Lines per second: 1.39162e+06"
      ]
     },
     "metadata": {},
     "output_type": "display_data"
    },
    {
     "data": {
      "text/html": [
       "<pre>Read 111227448 lines. Lines per second: 1.39731e+06</pre>"
      ],
      "text/plain": [
       "Read 111227448 lines. Lines per second: 1.39731e+06"
      ]
     },
     "metadata": {},
     "output_type": "display_data"
    },
    {
     "data": {
      "text/html": [
       "<pre>Finished parsing file /storage/homedir/dima/.scidyn/MAG/Authors.txt</pre>"
      ],
      "text/plain": [
       "Finished parsing file /storage/homedir/dima/.scidyn/MAG/Authors.txt"
      ]
     },
     "metadata": {},
     "output_type": "display_data"
    },
    {
     "data": {
      "text/html": [
       "<pre>Parsing completed. Parsed 114698044 lines in 81.5504 secs.</pre>"
      ],
      "text/plain": [
       "Parsing completed. Parsed 114698044 lines in 81.5504 secs."
      ]
     },
     "metadata": {},
     "output_type": "display_data"
    },
    {
     "data": {
      "text/html": [
       "<pre>Less than 64 successfully started. Using only 26 workers.</pre>"
      ],
      "text/plain": [
       "Less than 64 successfully started. Using only 26 workers."
      ]
     },
     "metadata": {},
     "output_type": "display_data"
    },
    {
     "data": {
      "text/html": [
       "<pre>All operations will proceed as normal, but lambda operations will not be able to use all available cores.</pre>"
      ],
      "text/plain": [
       "All operations will proceed as normal, but lambda operations will not be able to use all available cores."
      ]
     },
     "metadata": {},
     "output_type": "display_data"
    },
    {
     "data": {
      "text/html": [
       "<pre>Using default 64 lambda workers.</pre>"
      ],
      "text/plain": [
       "Using default 64 lambda workers."
      ]
     },
     "metadata": {},
     "output_type": "display_data"
    },
    {
     "data": {
      "text/html": [
       "<pre>To maximize the degree of parallelism, add the following code to the beginning of the program:</pre>"
      ],
      "text/plain": [
       "To maximize the degree of parallelism, add the following code to the beginning of the program:"
      ]
     },
     "metadata": {},
     "output_type": "display_data"
    },
    {
     "data": {
      "text/html": [
       "<pre>\"turicreate.config.set_runtime_config('TURI_DEFAULT_NUM_PYLAMBDA_WORKERS', 128)\"</pre>"
      ],
      "text/plain": [
       "\"turicreate.config.set_runtime_config('TURI_DEFAULT_NUM_PYLAMBDA_WORKERS', 128)\""
      ]
     },
     "metadata": {},
     "output_type": "display_data"
    },
    {
     "data": {
      "text/html": [
       "<pre>Note that increasing the degree of parallelism also increases the memory footprint.</pre>"
      ],
      "text/plain": [
       "Note that increasing the degree of parallelism also increases the memory footprint."
      ]
     },
     "metadata": {},
     "output_type": "display_data"
    },
    {
     "data": {
      "text/html": [
       "<div style=\"max-height:1000px;max-width:1500px;overflow:auto;\"><table frame=\"box\" rules=\"cols\">\n",
       "    <tr>\n",
       "        <th style=\"padding-left: 1em; padding-right: 1em; text-align: center\">Author ID</th>\n",
       "        <th style=\"padding-left: 1em; padding-right: 1em; text-align: center\">Author name</th>\n",
       "        <th style=\"padding-left: 1em; padding-right: 1em; text-align: center\">First name</th>\n",
       "        <th style=\"padding-left: 1em; padding-right: 1em; text-align: center\">Last name</th>\n",
       "    </tr>\n",
       "    <tr>\n",
       "        <td style=\"padding-left: 1em; padding-right: 1em; text-align: center; vertical-align: top\">00001F05</td>\n",
       "        <td style=\"padding-left: 1em; padding-right: 1em; text-align: center; vertical-align: top\">nancy praill</td>\n",
       "        <td style=\"padding-left: 1em; padding-right: 1em; text-align: center; vertical-align: top\">nancy</td>\n",
       "        <td style=\"padding-left: 1em; padding-right: 1em; text-align: center; vertical-align: top\">praill</td>\n",
       "    </tr>\n",
       "    <tr>\n",
       "        <td style=\"padding-left: 1em; padding-right: 1em; text-align: center; vertical-align: top\">000025C5</td>\n",
       "        <td style=\"padding-left: 1em; padding-right: 1em; text-align: center; vertical-align: top\">david banitt</td>\n",
       "        <td style=\"padding-left: 1em; padding-right: 1em; text-align: center; vertical-align: top\">david</td>\n",
       "        <td style=\"padding-left: 1em; padding-right: 1em; text-align: center; vertical-align: top\">banitt</td>\n",
       "    </tr>\n",
       "    <tr>\n",
       "        <td style=\"padding-left: 1em; padding-right: 1em; text-align: center; vertical-align: top\">00002AD3</td>\n",
       "        <td style=\"padding-left: 1em; padding-right: 1em; text-align: center; vertical-align: top\">david s rebergen</td>\n",
       "        <td style=\"padding-left: 1em; padding-right: 1em; text-align: center; vertical-align: top\">david</td>\n",
       "        <td style=\"padding-left: 1em; padding-right: 1em; text-align: center; vertical-align: top\">rebergen</td>\n",
       "    </tr>\n",
       "    <tr>\n",
       "        <td style=\"padding-left: 1em; padding-right: 1em; text-align: center; vertical-align: top\">000038C0</td>\n",
       "        <td style=\"padding-left: 1em; padding-right: 1em; text-align: center; vertical-align: top\">西原 一幸</td>\n",
       "        <td style=\"padding-left: 1em; padding-right: 1em; text-align: center; vertical-align: top\">西原</td>\n",
       "        <td style=\"padding-left: 1em; padding-right: 1em; text-align: center; vertical-align: top\">一幸</td>\n",
       "    </tr>\n",
       "    <tr>\n",
       "        <td style=\"padding-left: 1em; padding-right: 1em; text-align: center; vertical-align: top\">000060E7</td>\n",
       "        <td style=\"padding-left: 1em; padding-right: 1em; text-align: center; vertical-align: top\">francesco saverio<br>intorcia ...</td>\n",
       "        <td style=\"padding-left: 1em; padding-right: 1em; text-align: center; vertical-align: top\">francesco</td>\n",
       "        <td style=\"padding-left: 1em; padding-right: 1em; text-align: center; vertical-align: top\">intorcia</td>\n",
       "    </tr>\n",
       "    <tr>\n",
       "        <td style=\"padding-left: 1em; padding-right: 1em; text-align: center; vertical-align: top\">00006A31</td>\n",
       "        <td style=\"padding-left: 1em; padding-right: 1em; text-align: center; vertical-align: top\">b zelazowska</td>\n",
       "        <td style=\"padding-left: 1em; padding-right: 1em; text-align: center; vertical-align: top\">b</td>\n",
       "        <td style=\"padding-left: 1em; padding-right: 1em; text-align: center; vertical-align: top\">zelazowska</td>\n",
       "    </tr>\n",
       "    <tr>\n",
       "        <td style=\"padding-left: 1em; padding-right: 1em; text-align: center; vertical-align: top\">00009F6B</td>\n",
       "        <td style=\"padding-left: 1em; padding-right: 1em; text-align: center; vertical-align: top\">bo glimskar</td>\n",
       "        <td style=\"padding-left: 1em; padding-right: 1em; text-align: center; vertical-align: top\">bo</td>\n",
       "        <td style=\"padding-left: 1em; padding-right: 1em; text-align: center; vertical-align: top\">glimskar</td>\n",
       "    </tr>\n",
       "    <tr>\n",
       "        <td style=\"padding-left: 1em; padding-right: 1em; text-align: center; vertical-align: top\">0000B5FA</td>\n",
       "        <td style=\"padding-left: 1em; padding-right: 1em; text-align: center; vertical-align: top\">lars goerigk</td>\n",
       "        <td style=\"padding-left: 1em; padding-right: 1em; text-align: center; vertical-align: top\">lars</td>\n",
       "        <td style=\"padding-left: 1em; padding-right: 1em; text-align: center; vertical-align: top\">goerigk</td>\n",
       "    </tr>\n",
       "    <tr>\n",
       "        <td style=\"padding-left: 1em; padding-right: 1em; text-align: center; vertical-align: top\">0000D3AB</td>\n",
       "        <td style=\"padding-left: 1em; padding-right: 1em; text-align: center; vertical-align: top\">default admin user</td>\n",
       "        <td style=\"padding-left: 1em; padding-right: 1em; text-align: center; vertical-align: top\">default</td>\n",
       "        <td style=\"padding-left: 1em; padding-right: 1em; text-align: center; vertical-align: top\">user</td>\n",
       "    </tr>\n",
       "    <tr>\n",
       "        <td style=\"padding-left: 1em; padding-right: 1em; text-align: center; vertical-align: top\">0000DF94</td>\n",
       "        <td style=\"padding-left: 1em; padding-right: 1em; text-align: center; vertical-align: top\">leila medjkoune</td>\n",
       "        <td style=\"padding-left: 1em; padding-right: 1em; text-align: center; vertical-align: top\">leila</td>\n",
       "        <td style=\"padding-left: 1em; padding-right: 1em; text-align: center; vertical-align: top\">medjkoune</td>\n",
       "    </tr>\n",
       "</table>\n",
       "[114698044 rows x 4 columns]<br/>Note: Only the head of the SFrame is printed.<br/>You can use print_rows(num_rows=m, num_columns=n) to print more rows and columns.\n",
       "</div>"
      ],
      "text/plain": [
       "Columns:\n",
       "\tAuthor ID\tstr\n",
       "\tAuthor name\tstr\n",
       "\tFirst name\tstr\n",
       "\tLast name\tstr\n",
       "\n",
       "Rows: 114698044\n",
       "\n",
       "Data:\n",
       "+-----------+----------------------------+------------+------------+\n",
       "| Author ID |        Author name         | First name | Last name  |\n",
       "+-----------+----------------------------+------------+------------+\n",
       "|  00001F05 |        nancy praill        |   nancy    |   praill   |\n",
       "|  000025C5 |        david banitt        |   david    |   banitt   |\n",
       "|  00002AD3 |      david s rebergen      |   david    |  rebergen  |\n",
       "|  000038C0 |         西原 一幸          |    西原    |    一幸    |\n",
       "|  000060E7 | francesco saverio intorcia | francesco  |  intorcia  |\n",
       "|  00006A31 |        b zelazowska        |     b      | zelazowska |\n",
       "|  00009F6B |        bo glimskar         |     bo     |  glimskar  |\n",
       "|  0000B5FA |        lars goerigk        |    lars    |  goerigk   |\n",
       "|  0000D3AB |     default admin user     |  default   |    user    |\n",
       "|  0000DF94 |      leila medjkoune       |   leila    | medjkoune  |\n",
       "+-----------+----------------------------+------------+------------+\n",
       "[114698044 rows x 4 columns]\n",
       "Note: Only the head of the SFrame is printed.\n",
       "You can use print_rows(num_rows=m, num_columns=n) to print more rows and columns."
      ]
     },
     "execution_count": 8,
     "metadata": {},
     "output_type": "execute_result"
    }
   ],
   "source": [
    "mag.author_names"
   ]
  },
  {
   "cell_type": "code",
   "execution_count": 6,
   "metadata": {},
   "outputs": [],
   "source": [
    "import turicreate\n",
    "turicreate.config.set_runtime_config('TURI_DEFAULT_NUM_PYLAMBDA_WORKERS', 2)\n",
    "turicreate.config.set_runtime_config('TURI_DEFAULT_NUM_GRAPH_LAMBDA_WORKERS', 2)\n",
    "from ScienceDynamics.datasets.mag_authors import AuthorsFeaturesExtractor\n",
    "a = AuthorsFeaturesExtractor(mag)\n",
    "# a.authors_features\n",
    "#This need to run on a strong server and can take considerable time to run\n",
    "# a_sf = a.get_authors_all_features_sframe()\n",
    "# a_sf #the SFrame can be later loaded using tc.load_sframe(AUTHROS_FEATURES_SFRAME)"
   ]
  },
  {
   "cell_type": "code",
   "execution_count": 10,
   "metadata": {
    "collapsed": true,
    "jupyter": {
     "outputs_hidden": true
    }
   },
   "outputs": [
    {
     "data": {
      "text/html": [
       "<div style=\"max-height:1000px;max-width:1500px;overflow:auto;\"><table frame=\"box\" rules=\"cols\">\n",
       "    <tr>\n",
       "        <th style=\"padding-left: 1em; padding-right: 1em; text-align: center\">AuthorId</th>\n",
       "        <th style=\"padding-left: 1em; padding-right: 1em; text-align: center\">PaperId</th>\n",
       "        <th style=\"padding-left: 1em; padding-right: 1em; text-align: center\">Year</th>\n",
       "    </tr>\n",
       "    <tr>\n",
       "        <td style=\"padding-left: 1em; padding-right: 1em; text-align: center; vertical-align: top\">2151921381</td>\n",
       "        <td style=\"padding-left: 1em; padding-right: 1em; text-align: center; vertical-align: top\">37</td>\n",
       "        <td style=\"padding-left: 1em; padding-right: 1em; text-align: center; vertical-align: top\">2004</td>\n",
       "    </tr>\n",
       "    <tr>\n",
       "        <td style=\"padding-left: 1em; padding-right: 1em; text-align: center; vertical-align: top\">2722638736</td>\n",
       "        <td style=\"padding-left: 1em; padding-right: 1em; text-align: center; vertical-align: top\">37</td>\n",
       "        <td style=\"padding-left: 1em; padding-right: 1em; text-align: center; vertical-align: top\">2004</td>\n",
       "    </tr>\n",
       "    <tr>\n",
       "        <td style=\"padding-left: 1em; padding-right: 1em; text-align: center; vertical-align: top\">2767506227</td>\n",
       "        <td style=\"padding-left: 1em; padding-right: 1em; text-align: center; vertical-align: top\">37</td>\n",
       "        <td style=\"padding-left: 1em; padding-right: 1em; text-align: center; vertical-align: top\">2004</td>\n",
       "    </tr>\n",
       "    <tr>\n",
       "        <td style=\"padding-left: 1em; padding-right: 1em; text-align: center; vertical-align: top\">2126642415</td>\n",
       "        <td style=\"padding-left: 1em; padding-right: 1em; text-align: center; vertical-align: top\">108</td>\n",
       "        <td style=\"padding-left: 1em; padding-right: 1em; text-align: center; vertical-align: top\">2013</td>\n",
       "    </tr>\n",
       "    <tr>\n",
       "        <td style=\"padding-left: 1em; padding-right: 1em; text-align: center; vertical-align: top\">1995014452</td>\n",
       "        <td style=\"padding-left: 1em; padding-right: 1em; text-align: center; vertical-align: top\">125</td>\n",
       "        <td style=\"padding-left: 1em; padding-right: 1em; text-align: center; vertical-align: top\">1988</td>\n",
       "    </tr>\n",
       "    <tr>\n",
       "        <td style=\"padding-left: 1em; padding-right: 1em; text-align: center; vertical-align: top\">2002579779</td>\n",
       "        <td style=\"padding-left: 1em; padding-right: 1em; text-align: center; vertical-align: top\">125</td>\n",
       "        <td style=\"padding-left: 1em; padding-right: 1em; text-align: center; vertical-align: top\">1988</td>\n",
       "    </tr>\n",
       "    <tr>\n",
       "        <td style=\"padding-left: 1em; padding-right: 1em; text-align: center; vertical-align: top\">2250382311</td>\n",
       "        <td style=\"padding-left: 1em; padding-right: 1em; text-align: center; vertical-align: top\">125</td>\n",
       "        <td style=\"padding-left: 1em; padding-right: 1em; text-align: center; vertical-align: top\">1988</td>\n",
       "    </tr>\n",
       "    <tr>\n",
       "        <td style=\"padding-left: 1em; padding-right: 1em; text-align: center; vertical-align: top\">2283694448</td>\n",
       "        <td style=\"padding-left: 1em; padding-right: 1em; text-align: center; vertical-align: top\">125</td>\n",
       "        <td style=\"padding-left: 1em; padding-right: 1em; text-align: center; vertical-align: top\">1988</td>\n",
       "    </tr>\n",
       "    <tr>\n",
       "        <td style=\"padding-left: 1em; padding-right: 1em; text-align: center; vertical-align: top\">2110272823</td>\n",
       "        <td style=\"padding-left: 1em; padding-right: 1em; text-align: center; vertical-align: top\">147</td>\n",
       "        <td style=\"padding-left: 1em; padding-right: 1em; text-align: center; vertical-align: top\">2008</td>\n",
       "    </tr>\n",
       "    <tr>\n",
       "        <td style=\"padding-left: 1em; padding-right: 1em; text-align: center; vertical-align: top\">2165699729</td>\n",
       "        <td style=\"padding-left: 1em; padding-right: 1em; text-align: center; vertical-align: top\">147</td>\n",
       "        <td style=\"padding-left: 1em; padding-right: 1em; text-align: center; vertical-align: top\">2008</td>\n",
       "    </tr>\n",
       "</table>\n",
       "[193553756 rows x 3 columns]<br/>Note: Only the head of the SFrame is printed.<br/>You can use print_rows(num_rows=m, num_columns=n) to print more rows and columns.\n",
       "</div>"
      ],
      "text/plain": [
       "Columns:\n",
       "\tAuthorId\tint\n",
       "\tPaperId\tint\n",
       "\tYear\tint\n",
       "\n",
       "Rows: 193553756\n",
       "\n",
       "Data:\n",
       "+------------+---------+------+\n",
       "|  AuthorId  | PaperId | Year |\n",
       "+------------+---------+------+\n",
       "| 2151921381 |    37   | 2004 |\n",
       "| 2722638736 |    37   | 2004 |\n",
       "| 2767506227 |    37   | 2004 |\n",
       "| 2126642415 |   108   | 2013 |\n",
       "| 1995014452 |   125   | 1988 |\n",
       "| 2002579779 |   125   | 1988 |\n",
       "| 2250382311 |   125   | 1988 |\n",
       "| 2283694448 |   125   | 1988 |\n",
       "| 2110272823 |   147   | 2008 |\n",
       "| 2165699729 |   147   | 2008 |\n",
       "+------------+---------+------+\n",
       "[193553756 rows x 3 columns]\n",
       "Note: Only the head of the SFrame is printed.\n",
       "You can use print_rows(num_rows=m, num_columns=n) to print more rows and columns."
      ]
     },
     "execution_count": 10,
     "metadata": {},
     "output_type": "execute_result"
    }
   ],
   "source": [
    "a.paper_authors_years"
   ]
  },
  {
   "cell_type": "code",
   "execution_count": 24,
   "metadata": {
    "collapsed": true,
    "jupyter": {
     "outputs_hidden": true
    }
   },
   "outputs": [
    {
     "data": {
      "text/html": [
       "<div style=\"max-height:1000px;max-width:1500px;overflow:auto;\"><table frame=\"box\" rules=\"cols\">\n",
       "    <tr>\n",
       "        <th style=\"padding-left: 1em; padding-right: 1em; text-align: center\">PaperId</th>\n",
       "        <th style=\"padding-left: 1em; padding-right: 1em; text-align: center\">AuthorId</th>\n",
       "        <th style=\"padding-left: 1em; padding-right: 1em; text-align: center\">AffiliationId</th>\n",
       "        <th style=\"padding-left: 1em; padding-right: 1em; text-align: center\">AuthorSequenceNumber</th>\n",
       "        <th style=\"padding-left: 1em; padding-right: 1em; text-align: center\">OriginalAuthor</th>\n",
       "        <th style=\"padding-left: 1em; padding-right: 1em; text-align: center\">OriginalAffiliation</th>\n",
       "        <th style=\"padding-left: 1em; padding-right: 1em; text-align: center\">Year</th>\n",
       "    </tr>\n",
       "    <tr>\n",
       "        <td style=\"padding-left: 1em; padding-right: 1em; text-align: center; vertical-align: top\">37</td>\n",
       "        <td style=\"padding-left: 1em; padding-right: 1em; text-align: center; vertical-align: top\">2151921381</td>\n",
       "        <td style=\"padding-left: 1em; padding-right: 1em; text-align: center; vertical-align: top\">30338065.0</td>\n",
       "        <td style=\"padding-left: 1em; padding-right: 1em; text-align: center; vertical-align: top\">2</td>\n",
       "        <td style=\"padding-left: 1em; padding-right: 1em; text-align: center; vertical-align: top\">Helena Elisa Stein</td>\n",
       "        <td style=\"padding-left: 1em; padding-right: 1em; text-align: center; vertical-align: top\">Universidade de Caxias do<br>Sul ...</td>\n",
       "        <td style=\"padding-left: 1em; padding-right: 1em; text-align: center; vertical-align: top\">2004</td>\n",
       "    </tr>\n",
       "    <tr>\n",
       "        <td style=\"padding-left: 1em; padding-right: 1em; text-align: center; vertical-align: top\">37</td>\n",
       "        <td style=\"padding-left: 1em; padding-right: 1em; text-align: center; vertical-align: top\">2722638736</td>\n",
       "        <td style=\"padding-left: 1em; padding-right: 1em; text-align: center; vertical-align: top\">None</td>\n",
       "        <td style=\"padding-left: 1em; padding-right: 1em; text-align: center; vertical-align: top\">3</td>\n",
       "        <td style=\"padding-left: 1em; padding-right: 1em; text-align: center; vertical-align: top\">Lauro Machado Neto</td>\n",
       "        <td style=\"padding-left: 1em; padding-right: 1em; text-align: center; vertical-align: top\">None</td>\n",
       "        <td style=\"padding-left: 1em; padding-right: 1em; text-align: center; vertical-align: top\">2004</td>\n",
       "    </tr>\n",
       "    <tr>\n",
       "        <td style=\"padding-left: 1em; padding-right: 1em; text-align: center; vertical-align: top\">37</td>\n",
       "        <td style=\"padding-left: 1em; padding-right: 1em; text-align: center; vertical-align: top\">2767506227</td>\n",
       "        <td style=\"padding-left: 1em; padding-right: 1em; text-align: center; vertical-align: top\">30338065.0</td>\n",
       "        <td style=\"padding-left: 1em; padding-right: 1em; text-align: center; vertical-align: top\">1</td>\n",
       "        <td style=\"padding-left: 1em; padding-right: 1em; text-align: center; vertical-align: top\">Ana Paula Tedesco<br>Gabrieli ...</td>\n",
       "        <td style=\"padding-left: 1em; padding-right: 1em; text-align: center; vertical-align: top\">Ortopedia e Traumatologia<br>|Universidade de Caxias ...</td>\n",
       "        <td style=\"padding-left: 1em; padding-right: 1em; text-align: center; vertical-align: top\">2004</td>\n",
       "    </tr>\n",
       "    <tr>\n",
       "        <td style=\"padding-left: 1em; padding-right: 1em; text-align: center; vertical-align: top\">108</td>\n",
       "        <td style=\"padding-left: 1em; padding-right: 1em; text-align: center; vertical-align: top\">2126642415</td>\n",
       "        <td style=\"padding-left: 1em; padding-right: 1em; text-align: center; vertical-align: top\">165102784.0</td>\n",
       "        <td style=\"padding-left: 1em; padding-right: 1em; text-align: center; vertical-align: top\">1</td>\n",
       "        <td style=\"padding-left: 1em; padding-right: 1em; text-align: center; vertical-align: top\">Matthew Lovett</td>\n",
       "        <td style=\"padding-left: 1em; padding-right: 1em; text-align: center; vertical-align: top\">Duquesne University</td>\n",
       "        <td style=\"padding-left: 1em; padding-right: 1em; text-align: center; vertical-align: top\">2013</td>\n",
       "    </tr>\n",
       "    <tr>\n",
       "        <td style=\"padding-left: 1em; padding-right: 1em; text-align: center; vertical-align: top\">125</td>\n",
       "        <td style=\"padding-left: 1em; padding-right: 1em; text-align: center; vertical-align: top\">1995014452</td>\n",
       "        <td style=\"padding-left: 1em; padding-right: 1em; text-align: center; vertical-align: top\">169199633.0</td>\n",
       "        <td style=\"padding-left: 1em; padding-right: 1em; text-align: center; vertical-align: top\">2</td>\n",
       "        <td style=\"padding-left: 1em; padding-right: 1em; text-align: center; vertical-align: top\">David Hannaford</td>\n",
       "        <td style=\"padding-left: 1em; padding-right: 1em; text-align: center; vertical-align: top\">Aston University and BIS<br>Applied Systems Ltd ...</td>\n",
       "        <td style=\"padding-left: 1em; padding-right: 1em; text-align: center; vertical-align: top\">1988</td>\n",
       "    </tr>\n",
       "    <tr>\n",
       "        <td style=\"padding-left: 1em; padding-right: 1em; text-align: center; vertical-align: top\">125</td>\n",
       "        <td style=\"padding-left: 1em; padding-right: 1em; text-align: center; vertical-align: top\">2002579779</td>\n",
       "        <td style=\"padding-left: 1em; padding-right: 1em; text-align: center; vertical-align: top\">169199633.0</td>\n",
       "        <td style=\"padding-left: 1em; padding-right: 1em; text-align: center; vertical-align: top\">1</td>\n",
       "        <td style=\"padding-left: 1em; padding-right: 1em; text-align: center; vertical-align: top\">Jon Bader</td>\n",
       "        <td style=\"padding-left: 1em; padding-right: 1em; text-align: center; vertical-align: top\">Aston University and BIS<br>Applied Systems Ltd ...</td>\n",
       "        <td style=\"padding-left: 1em; padding-right: 1em; text-align: center; vertical-align: top\">1988</td>\n",
       "    </tr>\n",
       "    <tr>\n",
       "        <td style=\"padding-left: 1em; padding-right: 1em; text-align: center; vertical-align: top\">125</td>\n",
       "        <td style=\"padding-left: 1em; padding-right: 1em; text-align: center; vertical-align: top\">2250382311</td>\n",
       "        <td style=\"padding-left: 1em; padding-right: 1em; text-align: center; vertical-align: top\">169199633.0</td>\n",
       "        <td style=\"padding-left: 1em; padding-right: 1em; text-align: center; vertical-align: top\">4</td>\n",
       "        <td style=\"padding-left: 1em; padding-right: 1em; text-align: center; vertical-align: top\">John Edwards</td>\n",
       "        <td style=\"padding-left: 1em; padding-right: 1em; text-align: center; vertical-align: top\">Aston University and BIS<br>Applied Systems Ltd ...</td>\n",
       "        <td style=\"padding-left: 1em; padding-right: 1em; text-align: center; vertical-align: top\">1988</td>\n",
       "    </tr>\n",
       "    <tr>\n",
       "        <td style=\"padding-left: 1em; padding-right: 1em; text-align: center; vertical-align: top\">125</td>\n",
       "        <td style=\"padding-left: 1em; padding-right: 1em; text-align: center; vertical-align: top\">2283694448</td>\n",
       "        <td style=\"padding-left: 1em; padding-right: 1em; text-align: center; vertical-align: top\">169199633.0</td>\n",
       "        <td style=\"padding-left: 1em; padding-right: 1em; text-align: center; vertical-align: top\">3</td>\n",
       "        <td style=\"padding-left: 1em; padding-right: 1em; text-align: center; vertical-align: top\">Alastair Cochran</td>\n",
       "        <td style=\"padding-left: 1em; padding-right: 1em; text-align: center; vertical-align: top\">Aston University and BIS<br>Applied Systems Ltd ...</td>\n",
       "        <td style=\"padding-left: 1em; padding-right: 1em; text-align: center; vertical-align: top\">1988</td>\n",
       "    </tr>\n",
       "    <tr>\n",
       "        <td style=\"padding-left: 1em; padding-right: 1em; text-align: center; vertical-align: top\">147</td>\n",
       "        <td style=\"padding-left: 1em; padding-right: 1em; text-align: center; vertical-align: top\">2110272823</td>\n",
       "        <td style=\"padding-left: 1em; padding-right: 1em; text-align: center; vertical-align: top\">None</td>\n",
       "        <td style=\"padding-left: 1em; padding-right: 1em; text-align: center; vertical-align: top\">2</td>\n",
       "        <td style=\"padding-left: 1em; padding-right: 1em; text-align: center; vertical-align: top\">J.M. García Puga</td>\n",
       "        <td style=\"padding-left: 1em; padding-right: 1em; text-align: center; vertical-align: top\">None</td>\n",
       "        <td style=\"padding-left: 1em; padding-right: 1em; text-align: center; vertical-align: top\">2008</td>\n",
       "    </tr>\n",
       "    <tr>\n",
       "        <td style=\"padding-left: 1em; padding-right: 1em; text-align: center; vertical-align: top\">147</td>\n",
       "        <td style=\"padding-left: 1em; padding-right: 1em; text-align: center; vertical-align: top\">2165699729</td>\n",
       "        <td style=\"padding-left: 1em; padding-right: 1em; text-align: center; vertical-align: top\">None</td>\n",
       "        <td style=\"padding-left: 1em; padding-right: 1em; text-align: center; vertical-align: top\">1</td>\n",
       "        <td style=\"padding-left: 1em; padding-right: 1em; text-align: center; vertical-align: top\">J. E. Callejas Pozo</td>\n",
       "        <td style=\"padding-left: 1em; padding-right: 1em; text-align: center; vertical-align: top\">None</td>\n",
       "        <td style=\"padding-left: 1em; padding-right: 1em; text-align: center; vertical-align: top\">2008</td>\n",
       "    </tr>\n",
       "</table>\n",
       "<table frame=\"box\" rules=\"cols\">\n",
       "    <tr>\n",
       "        <th style=\"padding-left: 1em; padding-right: 1em; text-align: center\">ConferenceSeriesId</th>\n",
       "        <th style=\"padding-left: 1em; padding-right: 1em; text-align: center\">JournalId</th>\n",
       "        <th style=\"padding-left: 1em; padding-right: 1em; text-align: center\">OriginalVenue</th>\n",
       "    </tr>\n",
       "    <tr>\n",
       "        <td style=\"padding-left: 1em; padding-right: 1em; text-align: center; vertical-align: top\">None</td>\n",
       "        <td style=\"padding-left: 1em; padding-right: 1em; text-align: center; vertical-align: top\">205911048</td>\n",
       "        <td style=\"padding-left: 1em; padding-right: 1em; text-align: center; vertical-align: top\">Acta Ortopedica<br>Brasileira ...</td>\n",
       "    </tr>\n",
       "    <tr>\n",
       "        <td style=\"padding-left: 1em; padding-right: 1em; text-align: center; vertical-align: top\">None</td>\n",
       "        <td style=\"padding-left: 1em; padding-right: 1em; text-align: center; vertical-align: top\">205911048</td>\n",
       "        <td style=\"padding-left: 1em; padding-right: 1em; text-align: center; vertical-align: top\">Acta Ortopedica<br>Brasileira ...</td>\n",
       "    </tr>\n",
       "    <tr>\n",
       "        <td style=\"padding-left: 1em; padding-right: 1em; text-align: center; vertical-align: top\">None</td>\n",
       "        <td style=\"padding-left: 1em; padding-right: 1em; text-align: center; vertical-align: top\">205911048</td>\n",
       "        <td style=\"padding-left: 1em; padding-right: 1em; text-align: center; vertical-align: top\">Acta Ortopedica<br>Brasileira ...</td>\n",
       "    </tr>\n",
       "    <tr>\n",
       "        <td style=\"padding-left: 1em; padding-right: 1em; text-align: center; vertical-align: top\">None</td>\n",
       "        <td style=\"padding-left: 1em; padding-right: 1em; text-align: center; vertical-align: top\">2737631889</td>\n",
       "        <td style=\"padding-left: 1em; padding-right: 1em; text-align: center; vertical-align: top\">American Society for<br>Aesthetics Graduate ...</td>\n",
       "    </tr>\n",
       "    <tr>\n",
       "        <td style=\"padding-left: 1em; padding-right: 1em; text-align: center; vertical-align: top\">None</td>\n",
       "        <td style=\"padding-left: 1em; padding-right: 1em; text-align: center; vertical-align: top\">None</td>\n",
       "        <td style=\"padding-left: 1em; padding-right: 1em; text-align: center; vertical-align: top\"></td>\n",
       "    </tr>\n",
       "    <tr>\n",
       "        <td style=\"padding-left: 1em; padding-right: 1em; text-align: center; vertical-align: top\">None</td>\n",
       "        <td style=\"padding-left: 1em; padding-right: 1em; text-align: center; vertical-align: top\">None</td>\n",
       "        <td style=\"padding-left: 1em; padding-right: 1em; text-align: center; vertical-align: top\"></td>\n",
       "    </tr>\n",
       "    <tr>\n",
       "        <td style=\"padding-left: 1em; padding-right: 1em; text-align: center; vertical-align: top\">None</td>\n",
       "        <td style=\"padding-left: 1em; padding-right: 1em; text-align: center; vertical-align: top\">None</td>\n",
       "        <td style=\"padding-left: 1em; padding-right: 1em; text-align: center; vertical-align: top\"></td>\n",
       "    </tr>\n",
       "    <tr>\n",
       "        <td style=\"padding-left: 1em; padding-right: 1em; text-align: center; vertical-align: top\">None</td>\n",
       "        <td style=\"padding-left: 1em; padding-right: 1em; text-align: center; vertical-align: top\">None</td>\n",
       "        <td style=\"padding-left: 1em; padding-right: 1em; text-align: center; vertical-align: top\"></td>\n",
       "    </tr>\n",
       "    <tr>\n",
       "        <td style=\"padding-left: 1em; padding-right: 1em; text-align: center; vertical-align: top\">None</td>\n",
       "        <td style=\"padding-left: 1em; padding-right: 1em; text-align: center; vertical-align: top\">138842040</td>\n",
       "        <td style=\"padding-left: 1em; padding-right: 1em; text-align: center; vertical-align: top\">Revista Pediatría de<br>Atención Primaria ...</td>\n",
       "    </tr>\n",
       "    <tr>\n",
       "        <td style=\"padding-left: 1em; padding-right: 1em; text-align: center; vertical-align: top\">None</td>\n",
       "        <td style=\"padding-left: 1em; padding-right: 1em; text-align: center; vertical-align: top\">138842040</td>\n",
       "        <td style=\"padding-left: 1em; padding-right: 1em; text-align: center; vertical-align: top\">Revista Pediatría de<br>Atención Primaria ...</td>\n",
       "    </tr>\n",
       "</table>\n",
       "[193553756 rows x 10 columns]<br/>Note: Only the head of the SFrame is printed.<br/>You can use print_rows(num_rows=m, num_columns=n) to print more rows and columns.\n",
       "</div>"
      ],
      "text/plain": [
       "Columns:\n",
       "\tPaperId\tint\n",
       "\tAuthorId\tint\n",
       "\tAffiliationId\tfloat\n",
       "\tAuthorSequenceNumber\tint\n",
       "\tOriginalAuthor\tstr\n",
       "\tOriginalAffiliation\tstr\n",
       "\tYear\tint\n",
       "\tConferenceSeriesId\tint\n",
       "\tJournalId\tint\n",
       "\tOriginalVenue\tstr\n",
       "\n",
       "Rows: 193553756\n",
       "\n",
       "Data:\n",
       "+---------+------------+---------------+----------------------+\n",
       "| PaperId |  AuthorId  | AffiliationId | AuthorSequenceNumber |\n",
       "+---------+------------+---------------+----------------------+\n",
       "|    37   | 2151921381 |   30338065.0  |          2           |\n",
       "|    37   | 2722638736 |      None     |          3           |\n",
       "|    37   | 2767506227 |   30338065.0  |          1           |\n",
       "|   108   | 2126642415 |  165102784.0  |          1           |\n",
       "|   125   | 1995014452 |  169199633.0  |          2           |\n",
       "|   125   | 2002579779 |  169199633.0  |          1           |\n",
       "|   125   | 2250382311 |  169199633.0  |          4           |\n",
       "|   125   | 2283694448 |  169199633.0  |          3           |\n",
       "|   147   | 2110272823 |      None     |          2           |\n",
       "|   147   | 2165699729 |      None     |          1           |\n",
       "+---------+------------+---------------+----------------------+\n",
       "+----------------------------+-------------------------------+------+--------------------+\n",
       "|       OriginalAuthor       |      OriginalAffiliation      | Year | ConferenceSeriesId |\n",
       "+----------------------------+-------------------------------+------+--------------------+\n",
       "|     Helena Elisa Stein     | Universidade de Caxias do Sul | 2004 |        None        |\n",
       "|     Lauro Machado Neto     |              None             | 2004 |        None        |\n",
       "| Ana Paula Tedesco Gabrieli | Ortopedia e Traumatologia|... | 2004 |        None        |\n",
       "|       Matthew Lovett       |      Duquesne University      | 2013 |        None        |\n",
       "|      David Hannaford       | Aston University and BIS A... | 1988 |        None        |\n",
       "|         Jon Bader          | Aston University and BIS A... | 1988 |        None        |\n",
       "|        John Edwards        | Aston University and BIS A... | 1988 |        None        |\n",
       "|      Alastair Cochran      | Aston University and BIS A... | 1988 |        None        |\n",
       "|      J.M. García Puga      |              None             | 2008 |        None        |\n",
       "|    J. E. Callejas Pozo     |              None             | 2008 |        None        |\n",
       "+----------------------------+-------------------------------+------+--------------------+\n",
       "+------------+-------------------------------+\n",
       "| JournalId  |         OriginalVenue         |\n",
       "+------------+-------------------------------+\n",
       "| 205911048  |   Acta Ortopedica Brasileira  |\n",
       "| 205911048  |   Acta Ortopedica Brasileira  |\n",
       "| 205911048  |   Acta Ortopedica Brasileira  |\n",
       "| 2737631889 | American Society for Aesth... |\n",
       "|    None    |                               |\n",
       "|    None    |                               |\n",
       "|    None    |                               |\n",
       "|    None    |                               |\n",
       "| 138842040  | Revista Pediatría de Atenc... |\n",
       "| 138842040  | Revista Pediatría de Atenc... |\n",
       "+------------+-------------------------------+\n",
       "[193553756 rows x 10 columns]\n",
       "Note: Only the head of the SFrame is printed.\n",
       "You can use print_rows(num_rows=m, num_columns=n) to print more rows and columns."
      ]
     },
     "execution_count": 24,
     "metadata": {},
     "output_type": "execute_result"
    }
   ],
   "source": [
    "a.paper_author_affiliation_sframe"
   ]
  },
  {
   "cell_type": "code",
   "execution_count": 11,
   "metadata": {
    "collapsed": true,
    "jupyter": {
     "outputs_hidden": true
    }
   },
   "outputs": [
    {
     "data": {
      "text/plain": [
       "{'TURI_CACHE_FILE_HDFS_LOCATION': '',\n",
       " 'TURI_CACHE_FILE_LOCATIONS': '/storage/homedir/dima/.scidyn2/tmp',\n",
       " 'TURI_DEFAULT_NUM_GRAPH_LAMBDA_WORKERS': 12,\n",
       " 'TURI_DEFAULT_NUM_PYLAMBDA_WORKERS': 2,\n",
       " 'TURI_FAST_COMPACT_BLOCKS_IN_SMALL_SEGMENT': 8,\n",
       " 'TURI_FILEIO_ALTERNATIVE_SSL_CERT_DIR': '',\n",
       " 'TURI_FILEIO_ALTERNATIVE_SSL_CERT_FILE': '/storage/homedir/dima/miniconda3/envs/promed/lib/python3.6/site-packages/certifi/cacert.pem',\n",
       " 'TURI_FILEIO_INSECURE_SSL_CERTIFICATE_CHECKS': 0,\n",
       " 'TURI_FILEIO_MAXIMUM_CACHE_CAPACITY': 270489230336,\n",
       " 'TURI_FILEIO_MAXIMUM_CACHE_CAPACITY_PER_FILE': 270489230336,\n",
       " 'TURI_FILEIO_MAX_REMOTE_FS_CACHE_ENTRIES': 0,\n",
       " 'TURI_FORCE_IPC_TO_TCP_FALLBACK': 0,\n",
       " 'TURI_GLOBALS_PYTHON_EXECUTABLE': '/storage/homedir/dima/miniconda3/envs/promed/bin/python',\n",
       " 'TURI_LAMBDA_WORKER_CONNECTION_TIMEOUT': 60.0,\n",
       " 'TURI_MIN_SECONDS_BETWEEN_TICK_PRINTS': 3.0,\n",
       " 'TURI_ML_DATA_STATS_PARALLEL_ACCESS_THRESHOLD': 1048576,\n",
       " 'TURI_ML_DATA_TARGET_ROW_BYTE_MINIMUM': 262144,\n",
       " 'TURI_NUM_GPUS': -1,\n",
       " 'TURI_S3_ENDPOINT': '',\n",
       " 'TURI_S3_REGION': '',\n",
       " 'TURI_SFRAME_COMPACTION_THRESHOLD': 256,\n",
       " 'TURI_SFRAME_CSV_PARSER_READ_SIZE': 52428800,\n",
       " 'TURI_SFRAME_DEFAULT_BLOCK_SIZE': 65536,\n",
       " 'TURI_SFRAME_DEFAULT_NUM_SEGMENTS': 24,\n",
       " 'TURI_SFRAME_FILE_HANDLE_POOL_SIZE': 3072,\n",
       " 'TURI_SFRAME_GROUPBY_BUFFER_NUM_ROWS': 422639422,\n",
       " 'TURI_SFRAME_IO_READ_LOCK': 0,\n",
       " 'TURI_SFRAME_JOIN_BUFFER_NUM_CELLS': 2113197112,\n",
       " 'TURI_SFRAME_MAX_BLOCKS_IN_CACHE': 384,\n",
       " 'TURI_SFRAME_MAX_LAZY_NODE_SIZE': 10000,\n",
       " 'TURI_SFRAME_READ_BATCH_SIZE': 128,\n",
       " 'TURI_SFRAME_SORT_BUFFER_SIZE': 135244615168,\n",
       " 'TURI_SFRAME_SORT_MAX_SEGMENTS': 768,\n",
       " 'TURI_SFRAME_SORT_PIVOT_ESTIMATION_SAMPLE_SIZE': 2000000,\n",
       " 'TURI_SFRAME_WRITER_MAX_BUFFERED_CELLS': 33554432,\n",
       " 'TURI_SFRAME_WRITER_MAX_BUFFERED_CELLS_PER_BLOCK': 262144,\n",
       " 'TURI_SGRAPH_BATCH_TRIPLE_APPLY_LOCK_ARRAY_SIZE': 1048576,\n",
       " 'TURI_SGRAPH_DEFAULT_NUM_PARTITIONS': 8,\n",
       " 'TURI_SGRAPH_HILBERT_CURVE_PARALLEL_FOR_NUM_THREADS': 24,\n",
       " 'TURI_SGRAPH_INGRESS_VID_BUFFER_SIZE': 1048576,\n",
       " 'TURI_SGRAPH_TRIPLE_APPLY_EDGE_BATCH_SIZE': 1024,\n",
       " 'TURI_SGRAPH_TRIPLE_APPLY_LOCK_ARRAY_SIZE': 1048576,\n",
       " 'TURI_USE_GL_DATATYPE': 0,\n",
       " 'TURI_VISUALIZATION_WEB_SERVER_ROOT_DIRECTORY': ''}"
      ]
     },
     "execution_count": 11,
     "metadata": {},
     "output_type": "execute_result"
    }
   ],
   "source": [
    "tc.config.get_runtime_config()\n"
   ]
  },
  {
   "cell_type": "code",
   "execution_count": null,
   "metadata": {},
   "outputs": [
    {
     "name": "stderr",
     "output_type": "stream",
     "text": [
      "2020-04-02 15:34:12,640 [MainThread  ] [INFO ]  Calcualting authors' coauthors by year\n"
     ]
    }
   ],
   "source": [
    "a.get_co_authors_dict_sframe()"
   ]
  },
  {
   "cell_type": "code",
   "execution_count": null,
   "metadata": {},
   "outputs": [],
   "source": [
    "a.get_authors_papers_dict_sframe()"
   ]
  },
  {
   "cell_type": "code",
   "execution_count": 9,
   "metadata": {
    "collapsed": true,
    "jupyter": {
     "outputs_hidden": true
    }
   },
   "outputs": [],
   "source": [
    "self = a"
   ]
  },
  {
   "cell_type": "code",
   "execution_count": 10,
   "metadata": {
    "collapsed": true,
    "jupyter": {
     "outputs_hidden": true
    }
   },
   "outputs": [
    {
     "name": "stderr",
     "output_type": "stream",
     "text": [
      "2020-03-02 10:51:11,648 [MainThread  ] [INFO ]  Calcualting authors' papers by year\n",
      "2020-03-02 11:31:19,056 [MainThread  ] [INFO ]  Calcualting authors' coauthors by year\n"
     ]
    },
    {
     "ename": "RuntimeError",
     "evalue": "vector::_M_default_append",
     "output_type": "error",
     "traceback": [
      "\u001b[0;31m---------------------------------------------------------------------------\u001b[0m",
      "\u001b[0;31mRuntimeError\u001b[0m                              Traceback (most recent call last)",
      "\u001b[0;32m~/miniconda3/envs/promed/lib/python3.6/site-packages/turicreate/data_structures/sframe.py\u001b[0m in \u001b[0;36mgroupby\u001b[0;34m(self, key_column_names, operations, *args)\u001b[0m\n\u001b[1;32m   4175\u001b[0m                                                                   \u001b[0mgroup_output_columns\u001b[0m\u001b[0;34m,\u001b[0m\u001b[0;34m\u001b[0m\u001b[0;34m\u001b[0m\u001b[0m\n\u001b[0;32m-> 4176\u001b[0;31m                                                                   group_ops))\n\u001b[0m\u001b[1;32m   4177\u001b[0m \u001b[0;34m\u001b[0m\u001b[0m\n",
      "\u001b[0;32mturicreate/cython/cy_sframe.pyx\u001b[0m in \u001b[0;36mturicreate.cython.cy_sframe.UnitySFrameProxy.groupby_aggregate\u001b[0;34m()\u001b[0m\n",
      "\u001b[0;32mturicreate/cython/cy_sframe.pyx\u001b[0m in \u001b[0;36mturicreate.cython.cy_sframe.UnitySFrameProxy.groupby_aggregate\u001b[0;34m()\u001b[0m\n",
      "\u001b[0;31mRuntimeError\u001b[0m: vector::_M_default_append",
      "\nDuring handling of the above exception, another exception occurred:\n",
      "\u001b[0;31mRuntimeError\u001b[0m                              Traceback (most recent call last)",
      "\u001b[0;32m<ipython-input-10-88d82429ec3c>\u001b[0m in \u001b[0;36m<module>\u001b[0;34m\u001b[0m\n\u001b[1;32m      8\u001b[0m \u001b[0;32mdel\u001b[0m \u001b[0mg\u001b[0m\u001b[0;34m\u001b[0m\u001b[0;34m\u001b[0m\u001b[0m\n\u001b[1;32m      9\u001b[0m \u001b[0;32mdel\u001b[0m \u001b[0mp_sf\u001b[0m\u001b[0;34m\u001b[0m\u001b[0;34m\u001b[0m\u001b[0m\n\u001b[0;32m---> 10\u001b[0;31m \u001b[0mg\u001b[0m \u001b[0;34m=\u001b[0m \u001b[0mself\u001b[0m\u001b[0;34m.\u001b[0m\u001b[0mget_co_authors_dict_sframe\u001b[0m\u001b[0;34m(\u001b[0m\u001b[0;34m)\u001b[0m\u001b[0;34m\u001b[0m\u001b[0;34m\u001b[0m\u001b[0m\n\u001b[0m",
      "\u001b[0;32m~/Projects/ScienceDynamics/ScienceDynamics/datasets/mag_authors.py\u001b[0m in \u001b[0;36mget_co_authors_dict_sframe\u001b[0;34m(self)\u001b[0m\n\u001b[1;32m    108\u001b[0m         \u001b[0;32mdel\u001b[0m \u001b[0msf2\u001b[0m\u001b[0;34m\u001b[0m\u001b[0;34m\u001b[0m\u001b[0m\n\u001b[1;32m    109\u001b[0m         \u001b[0mg\u001b[0m\u001b[0;34m[\u001b[0m\u001b[0;34m'Coauthors Year'\u001b[0m\u001b[0;34m]\u001b[0m \u001b[0;34m=\u001b[0m \u001b[0mg\u001b[0m\u001b[0;34m.\u001b[0m\u001b[0mapply\u001b[0m\u001b[0;34m(\u001b[0m\u001b[0;32mlambda\u001b[0m \u001b[0mr\u001b[0m\u001b[0;34m:\u001b[0m \u001b[0;34m(\u001b[0m\u001b[0mr\u001b[0m\u001b[0;34m[\u001b[0m\u001b[0;34m'Year'\u001b[0m\u001b[0;34m]\u001b[0m\u001b[0;34m,\u001b[0m \u001b[0mr\u001b[0m\u001b[0;34m[\u001b[0m\u001b[0;34m'Coauthors List'\u001b[0m\u001b[0;34m]\u001b[0m\u001b[0;34m)\u001b[0m\u001b[0;34m)\u001b[0m\u001b[0;34m\u001b[0m\u001b[0;34m\u001b[0m\u001b[0m\n\u001b[0;32m--> 110\u001b[0;31m         \u001b[0mg2\u001b[0m \u001b[0;34m=\u001b[0m \u001b[0mg\u001b[0m\u001b[0;34m.\u001b[0m\u001b[0mgroupby\u001b[0m\u001b[0;34m(\u001b[0m\u001b[0;34m\"AuthorId\"\u001b[0m\u001b[0;34m,\u001b[0m \u001b[0;34m{\u001b[0m\u001b[0;34m'Coauthors list'\u001b[0m\u001b[0;34m:\u001b[0m \u001b[0magg\u001b[0m\u001b[0;34m.\u001b[0m\u001b[0mCONCAT\u001b[0m\u001b[0;34m(\u001b[0m\u001b[0;34m'Coauthors Year'\u001b[0m\u001b[0;34m)\u001b[0m\u001b[0;34m}\u001b[0m\u001b[0;34m)\u001b[0m\u001b[0;34m\u001b[0m\u001b[0;34m\u001b[0m\u001b[0m\n\u001b[0m\u001b[1;32m    111\u001b[0m         \u001b[0mg2\u001b[0m\u001b[0;34m[\u001b[0m\u001b[0;34m'Coauthors by Years Dict'\u001b[0m\u001b[0;34m]\u001b[0m \u001b[0;34m=\u001b[0m \u001b[0mg2\u001b[0m\u001b[0;34m[\u001b[0m\u001b[0;34m'Coauthors list'\u001b[0m\u001b[0;34m]\u001b[0m\u001b[0;34m.\u001b[0m\u001b[0mapply\u001b[0m\u001b[0;34m(\u001b[0m\u001b[0;32mlambda\u001b[0m \u001b[0ml\u001b[0m\u001b[0;34m:\u001b[0m \u001b[0;34m{\u001b[0m\u001b[0my\u001b[0m\u001b[0;34m:\u001b[0m \u001b[0mcoa_list\u001b[0m \u001b[0;32mfor\u001b[0m \u001b[0my\u001b[0m\u001b[0;34m,\u001b[0m \u001b[0mcoa_list\u001b[0m \u001b[0;32min\u001b[0m \u001b[0ml\u001b[0m\u001b[0;34m}\u001b[0m\u001b[0;34m)\u001b[0m\u001b[0;34m\u001b[0m\u001b[0;34m\u001b[0m\u001b[0m\n\u001b[1;32m    112\u001b[0m         \u001b[0mg2\u001b[0m \u001b[0;34m=\u001b[0m \u001b[0mg2\u001b[0m\u001b[0;34m.\u001b[0m\u001b[0mremove_column\u001b[0m\u001b[0;34m(\u001b[0m\u001b[0;34m'Coauthors list'\u001b[0m\u001b[0;34m)\u001b[0m\u001b[0;34m\u001b[0m\u001b[0;34m\u001b[0m\u001b[0m\n",
      "\u001b[0;32m~/miniconda3/envs/promed/lib/python3.6/site-packages/turicreate/data_structures/sframe.py\u001b[0m in \u001b[0;36mgroupby\u001b[0;34m(self, key_column_names, operations, *args)\u001b[0m\n\u001b[1;32m   4174\u001b[0m                                                                   \u001b[0mgroup_columns\u001b[0m\u001b[0;34m,\u001b[0m\u001b[0;34m\u001b[0m\u001b[0;34m\u001b[0m\u001b[0m\n\u001b[1;32m   4175\u001b[0m                                                                   \u001b[0mgroup_output_columns\u001b[0m\u001b[0;34m,\u001b[0m\u001b[0;34m\u001b[0m\u001b[0;34m\u001b[0m\u001b[0m\n\u001b[0;32m-> 4176\u001b[0;31m                                                                   group_ops))\n\u001b[0m\u001b[1;32m   4177\u001b[0m \u001b[0;34m\u001b[0m\u001b[0m\n\u001b[1;32m   4178\u001b[0m     \u001b[0;32mdef\u001b[0m \u001b[0mjoin\u001b[0m\u001b[0;34m(\u001b[0m\u001b[0mself\u001b[0m\u001b[0;34m,\u001b[0m \u001b[0mright\u001b[0m\u001b[0;34m,\u001b[0m \u001b[0mon\u001b[0m\u001b[0;34m=\u001b[0m\u001b[0;32mNone\u001b[0m\u001b[0;34m,\u001b[0m \u001b[0mhow\u001b[0m\u001b[0;34m=\u001b[0m\u001b[0;34m'inner'\u001b[0m\u001b[0;34m)\u001b[0m\u001b[0;34m:\u001b[0m\u001b[0;34m\u001b[0m\u001b[0;34m\u001b[0m\u001b[0m\n",
      "\u001b[0;32m~/miniconda3/envs/promed/lib/python3.6/site-packages/turicreate/cython/context.py\u001b[0m in \u001b[0;36m__exit__\u001b[0;34m(self, exc_type, exc_value, traceback)\u001b[0m\n\u001b[1;32m     47\u001b[0m             \u001b[0;32mif\u001b[0m \u001b[0;32mnot\u001b[0m \u001b[0mself\u001b[0m\u001b[0;34m.\u001b[0m\u001b[0mshow_cython_trace\u001b[0m\u001b[0;34m:\u001b[0m\u001b[0;34m\u001b[0m\u001b[0;34m\u001b[0m\u001b[0m\n\u001b[1;32m     48\u001b[0m                 \u001b[0;31m# To hide cython trace, we re-raise from here\u001b[0m\u001b[0;34m\u001b[0m\u001b[0;34m\u001b[0m\u001b[0;34m\u001b[0m\u001b[0m\n\u001b[0;32m---> 49\u001b[0;31m                 \u001b[0;32mraise\u001b[0m \u001b[0mexc_type\u001b[0m\u001b[0;34m(\u001b[0m\u001b[0mexc_value\u001b[0m\u001b[0;34m)\u001b[0m\u001b[0;34m\u001b[0m\u001b[0;34m\u001b[0m\u001b[0m\n\u001b[0m\u001b[1;32m     50\u001b[0m             \u001b[0;32melse\u001b[0m\u001b[0;34m:\u001b[0m\u001b[0;34m\u001b[0m\u001b[0;34m\u001b[0m\u001b[0m\n\u001b[1;32m     51\u001b[0m                 \u001b[0;31m# To show the full trace, we do nothing and let exception propagate\u001b[0m\u001b[0;34m\u001b[0m\u001b[0;34m\u001b[0m\u001b[0;34m\u001b[0m\u001b[0m\n",
      "\u001b[0;31mRuntimeError\u001b[0m: vector::_M_default_append"
     ]
    }
   ],
   "source": [
    "p_sf = self._p_sf[['PaperId']]  # 22082741\n",
    "a_sf = self._mag.paper_author_affiliations[\"AuthorId\", \"PaperId\"]\n",
    "a_sf = a_sf.join(p_sf, on=\"PaperId\")\n",
    "a_sf = a_sf[[\"AuthorId\"]].unique()\n",
    "g = self.get_authors_papers_dict_sframe()\n",
    "a_sf = a_sf.join(g, on=\"AuthorId\", how=\"left\")  # 22443094 rows\n",
    "a_sf.__materialize__()\n",
    "del g\n",
    "del p_sf\n",
    "g = self.get_co_authors_dict_sframe()"
   ]
  },
  {
   "cell_type": "code",
   "execution_count": 13,
   "metadata": {
    "collapsed": true,
    "jupyter": {
     "outputs_hidden": true
    }
   },
   "outputs": [],
   "source": [
    "from turicreate import aggregate as agg"
   ]
  },
  {
   "cell_type": "code",
   "execution_count": 15,
   "metadata": {
    "collapsed": true,
    "jupyter": {
     "outputs_hidden": true
    }
   },
   "outputs": [
    {
     "ename": "MemoryError",
     "evalue": "std::bad_alloc",
     "output_type": "error",
     "traceback": [
      "\u001b[0;31m---------------------------------------------------------------------------\u001b[0m",
      "\u001b[0;31mMemoryError\u001b[0m                               Traceback (most recent call last)",
      "\u001b[0;32m~/miniconda3/envs/promed/lib/python3.6/site-packages/turicreate/data_structures/sframe.py\u001b[0m in \u001b[0;36mgroupby\u001b[0;34m(self, key_column_names, operations, *args)\u001b[0m\n\u001b[1;32m   4175\u001b[0m                                                                   \u001b[0mgroup_output_columns\u001b[0m\u001b[0;34m,\u001b[0m\u001b[0;34m\u001b[0m\u001b[0;34m\u001b[0m\u001b[0m\n\u001b[0;32m-> 4176\u001b[0;31m                                                                   group_ops))\n\u001b[0m\u001b[1;32m   4177\u001b[0m \u001b[0;34m\u001b[0m\u001b[0m\n",
      "\u001b[0;32mturicreate/cython/cy_sframe.pyx\u001b[0m in \u001b[0;36mturicreate.cython.cy_sframe.UnitySFrameProxy.groupby_aggregate\u001b[0;34m()\u001b[0m\n",
      "\u001b[0;32mturicreate/cython/cy_sframe.pyx\u001b[0m in \u001b[0;36mturicreate.cython.cy_sframe.UnitySFrameProxy.groupby_aggregate\u001b[0;34m()\u001b[0m\n",
      "\u001b[0;31mMemoryError\u001b[0m: std::bad_alloc",
      "\nDuring handling of the above exception, another exception occurred:\n",
      "\u001b[0;31mMemoryError\u001b[0m                               Traceback (most recent call last)",
      "\u001b[0;32m<ipython-input-15-ebe46ba5062c>\u001b[0m in \u001b[0;36m<module>\u001b[0;34m\u001b[0m\n\u001b[1;32m     10\u001b[0m \u001b[0;31m# del sf2\u001b[0m\u001b[0;34m\u001b[0m\u001b[0;34m\u001b[0m\u001b[0;34m\u001b[0m\u001b[0m\n\u001b[1;32m     11\u001b[0m \u001b[0mg\u001b[0m\u001b[0;34m[\u001b[0m\u001b[0;34m'Coauthors Year'\u001b[0m\u001b[0;34m]\u001b[0m \u001b[0;34m=\u001b[0m \u001b[0mg\u001b[0m\u001b[0;34m.\u001b[0m\u001b[0mapply\u001b[0m\u001b[0;34m(\u001b[0m\u001b[0;32mlambda\u001b[0m \u001b[0mr\u001b[0m\u001b[0;34m:\u001b[0m \u001b[0;34m(\u001b[0m\u001b[0mr\u001b[0m\u001b[0;34m[\u001b[0m\u001b[0;34m'Year'\u001b[0m\u001b[0;34m]\u001b[0m\u001b[0;34m,\u001b[0m \u001b[0mr\u001b[0m\u001b[0;34m[\u001b[0m\u001b[0;34m'Coauthors List'\u001b[0m\u001b[0;34m]\u001b[0m\u001b[0;34m)\u001b[0m\u001b[0;34m)\u001b[0m\u001b[0;34m\u001b[0m\u001b[0;34m\u001b[0m\u001b[0m\n\u001b[0;32m---> 12\u001b[0;31m \u001b[0mg2\u001b[0m \u001b[0;34m=\u001b[0m \u001b[0mg\u001b[0m\u001b[0;34m.\u001b[0m\u001b[0mgroupby\u001b[0m\u001b[0;34m(\u001b[0m\u001b[0;34m\"AuthorId\"\u001b[0m\u001b[0;34m,\u001b[0m \u001b[0;34m{\u001b[0m\u001b[0;34m'Coauthors list'\u001b[0m\u001b[0;34m:\u001b[0m \u001b[0magg\u001b[0m\u001b[0;34m.\u001b[0m\u001b[0mCONCAT\u001b[0m\u001b[0;34m(\u001b[0m\u001b[0;34m'Coauthors Year'\u001b[0m\u001b[0;34m)\u001b[0m\u001b[0;34m}\u001b[0m\u001b[0;34m)\u001b[0m\u001b[0;34m\u001b[0m\u001b[0;34m\u001b[0m\u001b[0m\n\u001b[0m\u001b[1;32m     13\u001b[0m \u001b[0mg2\u001b[0m\u001b[0;34m[\u001b[0m\u001b[0;34m'Coauthors by Years Dict'\u001b[0m\u001b[0;34m]\u001b[0m \u001b[0;34m=\u001b[0m \u001b[0mg2\u001b[0m\u001b[0;34m[\u001b[0m\u001b[0;34m'Coauthors list'\u001b[0m\u001b[0;34m]\u001b[0m\u001b[0;34m.\u001b[0m\u001b[0mapply\u001b[0m\u001b[0;34m(\u001b[0m\u001b[0;32mlambda\u001b[0m \u001b[0ml\u001b[0m\u001b[0;34m:\u001b[0m \u001b[0;34m{\u001b[0m\u001b[0my\u001b[0m\u001b[0;34m:\u001b[0m \u001b[0mcoa_list\u001b[0m \u001b[0;32mfor\u001b[0m \u001b[0my\u001b[0m\u001b[0;34m,\u001b[0m \u001b[0mcoa_list\u001b[0m \u001b[0;32min\u001b[0m \u001b[0ml\u001b[0m\u001b[0;34m}\u001b[0m\u001b[0;34m)\u001b[0m\u001b[0;34m\u001b[0m\u001b[0;34m\u001b[0m\u001b[0m\n\u001b[1;32m     14\u001b[0m \u001b[0mg2\u001b[0m \u001b[0;34m=\u001b[0m \u001b[0mg2\u001b[0m\u001b[0;34m.\u001b[0m\u001b[0mremove_column\u001b[0m\u001b[0;34m(\u001b[0m\u001b[0;34m'Coauthors list'\u001b[0m\u001b[0;34m)\u001b[0m\u001b[0;34m\u001b[0m\u001b[0;34m\u001b[0m\u001b[0m\n",
      "\u001b[0;32m~/miniconda3/envs/promed/lib/python3.6/site-packages/turicreate/data_structures/sframe.py\u001b[0m in \u001b[0;36mgroupby\u001b[0;34m(self, key_column_names, operations, *args)\u001b[0m\n\u001b[1;32m   4174\u001b[0m                                                                   \u001b[0mgroup_columns\u001b[0m\u001b[0;34m,\u001b[0m\u001b[0;34m\u001b[0m\u001b[0;34m\u001b[0m\u001b[0m\n\u001b[1;32m   4175\u001b[0m                                                                   \u001b[0mgroup_output_columns\u001b[0m\u001b[0;34m,\u001b[0m\u001b[0;34m\u001b[0m\u001b[0;34m\u001b[0m\u001b[0m\n\u001b[0;32m-> 4176\u001b[0;31m                                                                   group_ops))\n\u001b[0m\u001b[1;32m   4177\u001b[0m \u001b[0;34m\u001b[0m\u001b[0m\n\u001b[1;32m   4178\u001b[0m     \u001b[0;32mdef\u001b[0m \u001b[0mjoin\u001b[0m\u001b[0;34m(\u001b[0m\u001b[0mself\u001b[0m\u001b[0;34m,\u001b[0m \u001b[0mright\u001b[0m\u001b[0;34m,\u001b[0m \u001b[0mon\u001b[0m\u001b[0;34m=\u001b[0m\u001b[0;32mNone\u001b[0m\u001b[0;34m,\u001b[0m \u001b[0mhow\u001b[0m\u001b[0;34m=\u001b[0m\u001b[0;34m'inner'\u001b[0m\u001b[0;34m)\u001b[0m\u001b[0;34m:\u001b[0m\u001b[0;34m\u001b[0m\u001b[0;34m\u001b[0m\u001b[0m\n",
      "\u001b[0;32m~/miniconda3/envs/promed/lib/python3.6/site-packages/turicreate/cython/context.py\u001b[0m in \u001b[0;36m__exit__\u001b[0;34m(self, exc_type, exc_value, traceback)\u001b[0m\n\u001b[1;32m     47\u001b[0m             \u001b[0;32mif\u001b[0m \u001b[0;32mnot\u001b[0m \u001b[0mself\u001b[0m\u001b[0;34m.\u001b[0m\u001b[0mshow_cython_trace\u001b[0m\u001b[0;34m:\u001b[0m\u001b[0;34m\u001b[0m\u001b[0;34m\u001b[0m\u001b[0m\n\u001b[1;32m     48\u001b[0m                 \u001b[0;31m# To hide cython trace, we re-raise from here\u001b[0m\u001b[0;34m\u001b[0m\u001b[0;34m\u001b[0m\u001b[0;34m\u001b[0m\u001b[0m\n\u001b[0;32m---> 49\u001b[0;31m                 \u001b[0;32mraise\u001b[0m \u001b[0mexc_type\u001b[0m\u001b[0;34m(\u001b[0m\u001b[0mexc_value\u001b[0m\u001b[0;34m)\u001b[0m\u001b[0;34m\u001b[0m\u001b[0;34m\u001b[0m\u001b[0m\n\u001b[0m\u001b[1;32m     50\u001b[0m             \u001b[0;32melse\u001b[0m\u001b[0;34m:\u001b[0m\u001b[0;34m\u001b[0m\u001b[0;34m\u001b[0m\u001b[0m\n\u001b[1;32m     51\u001b[0m                 \u001b[0;31m# To show the full trace, we do nothing and let exception propagate\u001b[0m\u001b[0;34m\u001b[0m\u001b[0;34m\u001b[0m\u001b[0;34m\u001b[0m\u001b[0m\n",
      "\u001b[0;31mMemoryError\u001b[0m: std::bad_alloc"
     ]
    }
   ],
   "source": [
    "# print(\"Calcualting authors' coauthors by year\")\n",
    "# sf = self.paper_authors_years\n",
    "# sf = sf.join(sf, on='PaperId')\n",
    "# sf2 = sf[sf['AuthorId'] != sf['AuthorId.1']]\n",
    "# sf2 = sf2.remove_column('Year.1')\n",
    "# sf2.__materialize__()\n",
    "# g = sf2.groupby(['AuthorId', 'Year'], {'Coauthors List': agg.CONCAT('AuthorId.1')})\n",
    "# del sf\n",
    "# g.__materialize__()\n",
    "# del sf2\n",
    "g['Coauthors Year'] = g.apply(lambda r: (r['Year'], r['Coauthors List']))\n",
    "g2 = g.groupby(\"AuthorId\", {'Coauthors list': agg.CONCAT('Coauthors Year')})\n",
    "g2['Coauthors by Years Dict'] = g2['Coauthors list'].apply(lambda l: {y: coa_list for y, coa_list in l})\n",
    "g2 = g2.remove_column('Coauthors list')\n"
   ]
  },
  {
   "cell_type": "code",
   "execution_count": 7,
   "metadata": {},
   "outputs": [
    {
     "data": {
      "text/plain": [
       "'6.1'"
      ]
     },
     "execution_count": 7,
     "metadata": {},
     "output_type": "execute_result"
    }
   ],
   "source": [
    "import turicreate as tc\n",
    "tc.__version__"
   ]
  },
  {
   "cell_type": "markdown",
   "metadata": {},
   "source": [
    "The above SFrame contains various features of each author that were constructed based on analyzing the author’s papers that have at least 5 references. If you notice, the author’s SFrame contains each author’s gender prediction. This column was created by obtaining first-name gender statistics from the [SSA Baby Names](http://www.ssa.gov/oact/babynames/names.zip]) and [WikiTree](https://www.wikitree.com/wiki/Help:Database_Dumps) datasets which include over 115 thousands unique first names (see details in geneder_classifier.py). "
   ]
  },
  {
   "cell_type": "markdown",
   "metadata": {},
   "source": [
    "## 1.2 The AMiner Dataset"
   ]
  },
  {
   "cell_type": "markdown",
   "metadata": {},
   "source": [
    "After downloading the [AMiner website](https://aminer.org/open-academic-graph), simply load to an SFrame using the following code:"
   ]
  },
  {
   "cell_type": "code",
   "execution_count": 17,
   "metadata": {
    "collapsed": true,
    "jupyter": {
     "outputs_hidden": true
    }
   },
   "outputs": [],
   "source": [
    "from ScienceDynamics.datasets.aminer import Aminer\n",
    "from ScienceDynamics.config.configs import DATASETS_AMINER_DIR"
   ]
  },
  {
   "cell_type": "code",
   "execution_count": 8,
   "metadata": {
    "collapsed": true,
    "jupyter": {
     "outputs_hidden": true
    }
   },
   "outputs": [
    {
     "data": {
      "text/plain": [
       "1"
      ]
     },
     "execution_count": 8,
     "metadata": {},
     "output_type": "execute_result"
    }
   ],
   "source": [
    "1"
   ]
  },
  {
   "cell_type": "code",
   "execution_count": 18,
   "metadata": {
    "collapsed": true,
    "jupyter": {
     "outputs_hidden": true
    }
   },
   "outputs": [],
   "source": [
    "a = Aminer(DATASETS_AMINER_DIR)"
   ]
  },
  {
   "cell_type": "code",
   "execution_count": 9,
   "metadata": {
    "collapsed": true,
    "jupyter": {
     "outputs_hidden": true
    }
   },
   "outputs": [
    {
     "data": {
      "text/html": [
       "<pre>Finished parsing file /storage/homedir/dima/.scidyn/AMiner/aminer_papers_30.txt</pre>"
      ],
      "text/plain": [
       "Finished parsing file /storage/homedir/dima/.scidyn/AMiner/aminer_papers_30.txt"
      ]
     },
     "metadata": {},
     "output_type": "display_data"
    },
    {
     "data": {
      "text/html": [
       "<pre>Parsing completed. Parsed 100 lines in 1.07869 secs.</pre>"
      ],
      "text/plain": [
       "Parsing completed. Parsed 100 lines in 1.07869 secs."
      ]
     },
     "metadata": {},
     "output_type": "display_data"
    },
    {
     "name": "stdout",
     "output_type": "stream",
     "text": [
      "------------------------------------------------------\n",
      "Inferred types from first 100 line(s) of file as \n",
      "column_type_hints=[dict]\n",
      "If parsing fails due to incorrect types, you can correct\n",
      "the inferred type list above and pass it to read_csv in\n",
      "the column_type_hints argument\n",
      "------------------------------------------------------\n"
     ]
    },
    {
     "data": {
      "text/html": [
       "<pre>Read 33536 lines. Lines per second: 22892.2</pre>"
      ],
      "text/plain": [
       "Read 33536 lines. Lines per second: 22892.2"
      ]
     },
     "metadata": {},
     "output_type": "display_data"
    },
    {
     "data": {
      "text/html": [
       "<pre>Read 476080 lines. Lines per second: 68313.8</pre>"
      ],
      "text/plain": [
       "Read 476080 lines. Lines per second: 68313.8"
      ]
     },
     "metadata": {},
     "output_type": "display_data"
    },
    {
     "data": {
      "text/html": [
       "<pre>Read 816303 lines. Lines per second: 65905.3</pre>"
      ],
      "text/plain": [
       "Read 816303 lines. Lines per second: 65905.3"
      ]
     },
     "metadata": {},
     "output_type": "display_data"
    },
    {
     "data": {
      "text/html": [
       "<pre>Finished parsing file /storage/homedir/dima/.scidyn/AMiner/aminer_papers_30.txt</pre>"
      ],
      "text/plain": [
       "Finished parsing file /storage/homedir/dima/.scidyn/AMiner/aminer_papers_30.txt"
      ]
     },
     "metadata": {},
     "output_type": "display_data"
    },
    {
     "data": {
      "text/html": [
       "<pre>Read 1074800 lines. Lines per second: 61943</pre>"
      ],
      "text/plain": [
       "Read 1074800 lines. Lines per second: 61943"
      ]
     },
     "metadata": {},
     "output_type": "display_data"
    },
    {
     "data": {
      "text/html": [
       "<pre>Read 1400740 lines. Lines per second: 62044.6</pre>"
      ],
      "text/plain": [
       "Read 1400740 lines. Lines per second: 62044.6"
      ]
     },
     "metadata": {},
     "output_type": "display_data"
    },
    {
     "data": {
      "text/html": [
       "<pre>Read 1741524 lines. Lines per second: 61926.5</pre>"
      ],
      "text/plain": [
       "Read 1741524 lines. Lines per second: 61926.5"
      ]
     },
     "metadata": {},
     "output_type": "display_data"
    },
    {
     "data": {
      "text/html": [
       "<pre>Finished parsing file /storage/homedir/dima/.scidyn/AMiner/aminer_papers_33.txt</pre>"
      ],
      "text/plain": [
       "Finished parsing file /storage/homedir/dima/.scidyn/AMiner/aminer_papers_33.txt"
      ]
     },
     "metadata": {},
     "output_type": "display_data"
    },
    {
     "data": {
      "text/html": [
       "<pre>Read 2033558 lines. Lines per second: 60892.5</pre>"
      ],
      "text/plain": [
       "Read 2033558 lines. Lines per second: 60892.5"
      ]
     },
     "metadata": {},
     "output_type": "display_data"
    },
    {
     "data": {
      "text/html": [
       "<pre>Read 2268547 lines. Lines per second: 58984.6</pre>"
      ],
      "text/plain": [
       "Read 2268547 lines. Lines per second: 58984.6"
      ]
     },
     "metadata": {},
     "output_type": "display_data"
    },
    {
     "data": {
      "text/html": [
       "<pre>Read 2540369 lines. Lines per second: 58560.5</pre>"
      ],
      "text/plain": [
       "Read 2540369 lines. Lines per second: 58560.5"
      ]
     },
     "metadata": {},
     "output_type": "display_data"
    },
    {
     "data": {
      "text/html": [
       "<pre>Read 2808932 lines. Lines per second: 58047</pre>"
      ],
      "text/plain": [
       "Read 2808932 lines. Lines per second: 58047"
      ]
     },
     "metadata": {},
     "output_type": "display_data"
    },
    {
     "data": {
      "text/html": [
       "<pre>Finished parsing file /storage/homedir/dima/.scidyn/AMiner/aminer_papers_34.txt</pre>"
      ],
      "text/plain": [
       "Finished parsing file /storage/homedir/dima/.scidyn/AMiner/aminer_papers_34.txt"
      ]
     },
     "metadata": {},
     "output_type": "display_data"
    },
    {
     "data": {
      "text/html": [
       "<pre>Read 3067847 lines. Lines per second: 56978</pre>"
      ],
      "text/plain": [
       "Read 3067847 lines. Lines per second: 56978"
      ]
     },
     "metadata": {},
     "output_type": "display_data"
    },
    {
     "data": {
      "text/html": [
       "<pre>Read 3372483 lines. Lines per second: 57213.6</pre>"
      ],
      "text/plain": [
       "Read 3372483 lines. Lines per second: 57213.6"
      ]
     },
     "metadata": {},
     "output_type": "display_data"
    },
    {
     "data": {
      "text/html": [
       "<pre>Read 3642597 lines. Lines per second: 56856.1</pre>"
      ],
      "text/plain": [
       "Read 3642597 lines. Lines per second: 56856.1"
      ]
     },
     "metadata": {},
     "output_type": "display_data"
    },
    {
     "data": {
      "text/html": [
       "<pre>Read 3911922 lines. Lines per second: 56621.9</pre>"
      ],
      "text/plain": [
       "Read 3911922 lines. Lines per second: 56621.9"
      ]
     },
     "metadata": {},
     "output_type": "display_data"
    },
    {
     "data": {
      "text/html": [
       "<pre>Finished parsing file /storage/homedir/dima/.scidyn/AMiner/aminer_papers_35.txt</pre>"
      ],
      "text/plain": [
       "Finished parsing file /storage/homedir/dima/.scidyn/AMiner/aminer_papers_35.txt"
      ]
     },
     "metadata": {},
     "output_type": "display_data"
    },
    {
     "data": {
      "text/html": [
       "<pre>Read 4170087 lines. Lines per second: 56205.1</pre>"
      ],
      "text/plain": [
       "Read 4170087 lines. Lines per second: 56205.1"
      ]
     },
     "metadata": {},
     "output_type": "display_data"
    },
    {
     "data": {
      "text/html": [
       "<pre>Read 4473362 lines. Lines per second: 56402.6</pre>"
      ],
      "text/plain": [
       "Read 4473362 lines. Lines per second: 56402.6"
      ]
     },
     "metadata": {},
     "output_type": "display_data"
    },
    {
     "data": {
      "text/html": [
       "<pre>Read 4746170 lines. Lines per second: 56231.6</pre>"
      ],
      "text/plain": [
       "Read 4746170 lines. Lines per second: 56231.6"
      ]
     },
     "metadata": {},
     "output_type": "display_data"
    },
    {
     "data": {
      "text/html": [
       "<pre>Finished parsing file /storage/homedir/dima/.scidyn/AMiner/aminer_papers_38.txt</pre>"
      ],
      "text/plain": [
       "Finished parsing file /storage/homedir/dima/.scidyn/AMiner/aminer_papers_38.txt"
      ]
     },
     "metadata": {},
     "output_type": "display_data"
    },
    {
     "data": {
      "text/html": [
       "<pre>Read 5034202 lines. Lines per second: 56251.4</pre>"
      ],
      "text/plain": [
       "Read 5034202 lines. Lines per second: 56251.4"
      ]
     },
     "metadata": {},
     "output_type": "display_data"
    },
    {
     "data": {
      "text/html": [
       "<pre>Read 5338708 lines. Lines per second: 56369.8</pre>"
      ],
      "text/plain": [
       "Read 5338708 lines. Lines per second: 56369.8"
      ]
     },
     "metadata": {},
     "output_type": "display_data"
    },
    {
     "data": {
      "text/html": [
       "<pre>Read 5610978 lines. Lines per second: 55978.6</pre>"
      ],
      "text/plain": [
       "Read 5610978 lines. Lines per second: 55978.6"
      ]
     },
     "metadata": {},
     "output_type": "display_data"
    },
    {
     "data": {
      "text/html": [
       "<pre>Read 5915844 lines. Lines per second: 56198</pre>"
      ],
      "text/plain": [
       "Read 5915844 lines. Lines per second: 56198"
      ]
     },
     "metadata": {},
     "output_type": "display_data"
    },
    {
     "data": {
      "text/html": [
       "<pre>Finished parsing file /storage/homedir/dima/.scidyn/AMiner/aminer_papers_40.txt</pre>"
      ],
      "text/plain": [
       "Finished parsing file /storage/homedir/dima/.scidyn/AMiner/aminer_papers_40.txt"
      ]
     },
     "metadata": {},
     "output_type": "display_data"
    },
    {
     "data": {
      "text/html": [
       "<pre>Read 6207342 lines. Lines per second: 56068.9</pre>"
      ],
      "text/plain": [
       "Read 6207342 lines. Lines per second: 56068.9"
      ]
     },
     "metadata": {},
     "output_type": "display_data"
    },
    {
     "data": {
      "text/html": [
       "<pre>Read 6510713 lines. Lines per second: 56084.4</pre>"
      ],
      "text/plain": [
       "Read 6510713 lines. Lines per second: 56084.4"
      ]
     },
     "metadata": {},
     "output_type": "display_data"
    },
    {
     "data": {
      "text/html": [
       "<pre>Read 6814534 lines. Lines per second: 56142.8</pre>"
      ],
      "text/plain": [
       "Read 6814534 lines. Lines per second: 56142.8"
      ]
     },
     "metadata": {},
     "output_type": "display_data"
    },
    {
     "data": {
      "text/html": [
       "<pre>Finished parsing file /storage/homedir/dima/.scidyn/AMiner/aminer_papers_41.txt</pre>"
      ],
      "text/plain": [
       "Finished parsing file /storage/homedir/dima/.scidyn/AMiner/aminer_papers_41.txt"
      ]
     },
     "metadata": {},
     "output_type": "display_data"
    },
    {
     "data": {
      "text/html": [
       "<pre>Read 7101008 lines. Lines per second: 55930.2</pre>"
      ],
      "text/plain": [
       "Read 7101008 lines. Lines per second: 55930.2"
      ]
     },
     "metadata": {},
     "output_type": "display_data"
    },
    {
     "data": {
      "text/html": [
       "<pre>Read 7434845 lines. Lines per second: 56075.9</pre>"
      ],
      "text/plain": [
       "Read 7434845 lines. Lines per second: 56075.9"
      ]
     },
     "metadata": {},
     "output_type": "display_data"
    },
    {
     "data": {
      "text/html": [
       "<pre>Read 7737905 lines. Lines per second: 56039.5</pre>"
      ],
      "text/plain": [
       "Read 7737905 lines. Lines per second: 56039.5"
      ]
     },
     "metadata": {},
     "output_type": "display_data"
    },
    {
     "data": {
      "text/html": [
       "<pre>Finished parsing file /storage/homedir/dima/.scidyn/AMiner/aminer_papers_42.txt</pre>"
      ],
      "text/plain": [
       "Finished parsing file /storage/homedir/dima/.scidyn/AMiner/aminer_papers_42.txt"
      ]
     },
     "metadata": {},
     "output_type": "display_data"
    },
    {
     "data": {
      "text/html": [
       "<pre>Read 8033388 lines. Lines per second: 56086.8</pre>"
      ],
      "text/plain": [
       "Read 8033388 lines. Lines per second: 56086.8"
      ]
     },
     "metadata": {},
     "output_type": "display_data"
    },
    {
     "data": {
      "text/html": [
       "<pre>Read 8338736 lines. Lines per second: 56151.9</pre>"
      ],
      "text/plain": [
       "Read 8338736 lines. Lines per second: 56151.9"
      ]
     },
     "metadata": {},
     "output_type": "display_data"
    },
    {
     "data": {
      "text/html": [
       "<pre>Read 8641301 lines. Lines per second: 56141.4</pre>"
      ],
      "text/plain": [
       "Read 8641301 lines. Lines per second: 56141.4"
      ]
     },
     "metadata": {},
     "output_type": "display_data"
    },
    {
     "data": {
      "text/html": [
       "<pre>Read 8854612 lines. Lines per second: 55696.2</pre>"
      ],
      "text/plain": [
       "Read 8854612 lines. Lines per second: 55696.2"
      ]
     },
     "metadata": {},
     "output_type": "display_data"
    },
    {
     "data": {
      "text/html": [
       "<pre>Finished parsing file /storage/homedir/dima/.scidyn/AMiner/aminer_papers_43.txt</pre>"
      ],
      "text/plain": [
       "Finished parsing file /storage/homedir/dima/.scidyn/AMiner/aminer_papers_43.txt"
      ]
     },
     "metadata": {},
     "output_type": "display_data"
    },
    {
     "data": {
      "text/html": [
       "<pre>Read 9000000 lines. Lines per second: 54784.4</pre>"
      ],
      "text/plain": [
       "Read 9000000 lines. Lines per second: 54784.4"
      ]
     },
     "metadata": {},
     "output_type": "display_data"
    },
    {
     "data": {
      "text/html": [
       "<pre>Read 9216119 lines. Lines per second: 54387.8</pre>"
      ],
      "text/plain": [
       "Read 9216119 lines. Lines per second: 54387.8"
      ]
     },
     "metadata": {},
     "output_type": "display_data"
    },
    {
     "data": {
      "text/html": [
       "<pre>Read 9462586 lines. Lines per second: 54226.7</pre>"
      ],
      "text/plain": [
       "Read 9462586 lines. Lines per second: 54226.7"
      ]
     },
     "metadata": {},
     "output_type": "display_data"
    },
    {
     "data": {
      "text/html": [
       "<pre>Read 9722500 lines. Lines per second: 54164.9</pre>"
      ],
      "text/plain": [
       "Read 9722500 lines. Lines per second: 54164.9"
      ]
     },
     "metadata": {},
     "output_type": "display_data"
    },
    {
     "data": {
      "text/html": [
       "<pre>Read 9971093 lines. Lines per second: 54004.4</pre>"
      ],
      "text/plain": [
       "Read 9971093 lines. Lines per second: 54004.4"
      ]
     },
     "metadata": {},
     "output_type": "display_data"
    },
    {
     "data": {
      "text/html": [
       "<pre>Finished parsing file /storage/homedir/dima/.scidyn/AMiner/aminer_papers_44.txt</pre>"
      ],
      "text/plain": [
       "Finished parsing file /storage/homedir/dima/.scidyn/AMiner/aminer_papers_44.txt"
      ]
     },
     "metadata": {},
     "output_type": "display_data"
    },
    {
     "data": {
      "text/html": [
       "<pre>Read 10323882 lines. Lines per second: 54415</pre>"
      ],
      "text/plain": [
       "Read 10323882 lines. Lines per second: 54415"
      ]
     },
     "metadata": {},
     "output_type": "display_data"
    },
    {
     "data": {
      "text/html": [
       "<pre>Read 10637923 lines. Lines per second: 54623.2</pre>"
      ],
      "text/plain": [
       "Read 10637923 lines. Lines per second: 54623.2"
      ]
     },
     "metadata": {},
     "output_type": "display_data"
    },
    {
     "data": {
      "text/html": [
       "<pre>Read 10968235 lines. Lines per second: 54873.4</pre>"
      ],
      "text/plain": [
       "Read 10968235 lines. Lines per second: 54873.4"
      ]
     },
     "metadata": {},
     "output_type": "display_data"
    },
    {
     "data": {
      "text/html": [
       "<pre>Finished parsing file /storage/homedir/dima/.scidyn/AMiner/aminer_papers_49.txt</pre>"
      ],
      "text/plain": [
       "Finished parsing file /storage/homedir/dima/.scidyn/AMiner/aminer_papers_49.txt"
      ]
     },
     "metadata": {},
     "output_type": "display_data"
    },
    {
     "data": {
      "text/html": [
       "<pre>Read 11330624 lines. Lines per second: 55288.5</pre>"
      ],
      "text/plain": [
       "Read 11330624 lines. Lines per second: 55288.5"
      ]
     },
     "metadata": {},
     "output_type": "display_data"
    },
    {
     "data": {
      "text/html": [
       "<pre>Read 11739165 lines. Lines per second: 55874.3</pre>"
      ],
      "text/plain": [
       "Read 11739165 lines. Lines per second: 55874.3"
      ]
     },
     "metadata": {},
     "output_type": "display_data"
    },
    {
     "data": {
      "text/html": [
       "<pre>Read 11991337 lines. Lines per second: 55716.8</pre>"
      ],
      "text/plain": [
       "Read 11991337 lines. Lines per second: 55716.8"
      ]
     },
     "metadata": {},
     "output_type": "display_data"
    },
    {
     "data": {
      "text/html": [
       "<pre>Finished parsing file /storage/homedir/dima/.scidyn/AMiner/aminer_papers_50.txt</pre>"
      ],
      "text/plain": [
       "Finished parsing file /storage/homedir/dima/.scidyn/AMiner/aminer_papers_50.txt"
      ]
     },
     "metadata": {},
     "output_type": "display_data"
    },
    {
     "data": {
      "text/html": [
       "<pre>Read 12280859 lines. Lines per second: 55697.8</pre>"
      ],
      "text/plain": [
       "Read 12280859 lines. Lines per second: 55697.8"
      ]
     },
     "metadata": {},
     "output_type": "display_data"
    },
    {
     "data": {
      "text/html": [
       "<pre>Read 12569326 lines. Lines per second: 55707.3</pre>"
      ],
      "text/plain": [
       "Read 12569326 lines. Lines per second: 55707.3"
      ]
     },
     "metadata": {},
     "output_type": "display_data"
    },
    {
     "data": {
      "text/html": [
       "<pre>Read 12874356 lines. Lines per second: 55762.2</pre>"
      ],
      "text/plain": [
       "Read 12874356 lines. Lines per second: 55762.2"
      ]
     },
     "metadata": {},
     "output_type": "display_data"
    },
    {
     "data": {
      "text/html": [
       "<pre>Finished parsing file /storage/homedir/dima/.scidyn/AMiner/aminer_papers_51.txt</pre>"
      ],
      "text/plain": [
       "Finished parsing file /storage/homedir/dima/.scidyn/AMiner/aminer_papers_51.txt"
      ]
     },
     "metadata": {},
     "output_type": "display_data"
    },
    {
     "data": {
      "text/html": [
       "<pre>Read 13171567 lines. Lines per second: 55774.3</pre>"
      ],
      "text/plain": [
       "Read 13171567 lines. Lines per second: 55774.3"
      ]
     },
     "metadata": {},
     "output_type": "display_data"
    },
    {
     "data": {
      "text/html": [
       "<pre>Read 13515717 lines. Lines per second: 55974.1</pre>"
      ],
      "text/plain": [
       "Read 13515717 lines. Lines per second: 55974.1"
      ]
     },
     "metadata": {},
     "output_type": "display_data"
    },
    {
     "data": {
      "text/html": [
       "<pre>Read 13771561 lines. Lines per second: 55818.9</pre>"
      ],
      "text/plain": [
       "Read 13771561 lines. Lines per second: 55818.9"
      ]
     },
     "metadata": {},
     "output_type": "display_data"
    },
    {
     "data": {
      "text/html": [
       "<pre>Finished parsing file /storage/homedir/dima/.scidyn/AMiner/aminer_papers_52.txt</pre>"
      ],
      "text/plain": [
       "Finished parsing file /storage/homedir/dima/.scidyn/AMiner/aminer_papers_52.txt"
      ]
     },
     "metadata": {},
     "output_type": "display_data"
    },
    {
     "data": {
      "text/html": [
       "<pre>Read 14145950 lines. Lines per second: 56091.2</pre>"
      ],
      "text/plain": [
       "Read 14145950 lines. Lines per second: 56091.2"
      ]
     },
     "metadata": {},
     "output_type": "display_data"
    },
    {
     "data": {
      "text/html": [
       "<pre>Read 14483362 lines. Lines per second: 56287.3</pre>"
      ],
      "text/plain": [
       "Read 14483362 lines. Lines per second: 56287.3"
      ]
     },
     "metadata": {},
     "output_type": "display_data"
    },
    {
     "data": {
      "text/html": [
       "<pre>Read 14815230 lines. Lines per second: 56402.6</pre>"
      ],
      "text/plain": [
       "Read 14815230 lines. Lines per second: 56402.6"
      ]
     },
     "metadata": {},
     "output_type": "display_data"
    },
    {
     "data": {
      "text/html": [
       "<pre>Finished parsing file /storage/homedir/dima/.scidyn/AMiner/aminer_papers_54.txt</pre>"
      ],
      "text/plain": [
       "Finished parsing file /storage/homedir/dima/.scidyn/AMiner/aminer_papers_54.txt"
      ]
     },
     "metadata": {},
     "output_type": "display_data"
    },
    {
     "data": {
      "text/html": [
       "<pre>Read 15080892 lines. Lines per second: 56335</pre>"
      ],
      "text/plain": [
       "Read 15080892 lines. Lines per second: 56335"
      ]
     },
     "metadata": {},
     "output_type": "display_data"
    },
    {
     "data": {
      "text/html": [
       "<pre>Read 15405332 lines. Lines per second: 56433.8</pre>"
      ],
      "text/plain": [
       "Read 15405332 lines. Lines per second: 56433.8"
      ]
     },
     "metadata": {},
     "output_type": "display_data"
    },
    {
     "data": {
      "text/html": [
       "<pre>Read 15692359 lines. Lines per second: 56436.3</pre>"
      ],
      "text/plain": [
       "Read 15692359 lines. Lines per second: 56436.3"
      ]
     },
     "metadata": {},
     "output_type": "display_data"
    },
    {
     "data": {
      "text/html": [
       "<pre>Read 15957889 lines. Lines per second: 56311.8</pre>"
      ],
      "text/plain": [
       "Read 15957889 lines. Lines per second: 56311.8"
      ]
     },
     "metadata": {},
     "output_type": "display_data"
    },
    {
     "data": {
      "text/html": [
       "<pre>Finished parsing file /storage/homedir/dima/.scidyn/AMiner/aminer_papers_57.txt</pre>"
      ],
      "text/plain": [
       "Finished parsing file /storage/homedir/dima/.scidyn/AMiner/aminer_papers_57.txt"
      ]
     },
     "metadata": {},
     "output_type": "display_data"
    },
    {
     "data": {
      "text/html": [
       "<pre>Read 16826694 lines. Lines per second: 58286.6</pre>"
      ],
      "text/plain": [
       "Read 16826694 lines. Lines per second: 58286.6"
      ]
     },
     "metadata": {},
     "output_type": "display_data"
    },
    {
     "data": {
      "text/html": [
       "<pre>Finished parsing file /storage/homedir/dima/.scidyn/AMiner/aminer_papers_100.txt</pre>"
      ],
      "text/plain": [
       "Finished parsing file /storage/homedir/dima/.scidyn/AMiner/aminer_papers_100.txt"
      ]
     },
     "metadata": {},
     "output_type": "display_data"
    },
    {
     "data": {
      "text/html": [
       "<pre>Read 17661340 lines. Lines per second: 59983.1</pre>"
      ],
      "text/plain": [
       "Read 17661340 lines. Lines per second: 59983.1"
      ]
     },
     "metadata": {},
     "output_type": "display_data"
    },
    {
     "data": {
      "text/html": [
       "<pre>Finished parsing file /storage/homedir/dima/.scidyn/AMiner/aminer_papers_101.txt</pre>"
      ],
      "text/plain": [
       "Finished parsing file /storage/homedir/dima/.scidyn/AMiner/aminer_papers_101.txt"
      ]
     },
     "metadata": {},
     "output_type": "display_data"
    },
    {
     "data": {
      "text/html": [
       "<pre>Read 18495608 lines. Lines per second: 61753.6</pre>"
      ],
      "text/plain": [
       "Read 18495608 lines. Lines per second: 61753.6"
      ]
     },
     "metadata": {},
     "output_type": "display_data"
    },
    {
     "data": {
      "text/html": [
       "<pre>Finished parsing file /storage/homedir/dima/.scidyn/AMiner/aminer_papers_107.txt</pre>"
      ],
      "text/plain": [
       "Finished parsing file /storage/homedir/dima/.scidyn/AMiner/aminer_papers_107.txt"
      ]
     },
     "metadata": {},
     "output_type": "display_data"
    },
    {
     "data": {
      "text/html": [
       "<pre>Read 19330120 lines. Lines per second: 63346.6</pre>"
      ],
      "text/plain": [
       "Read 19330120 lines. Lines per second: 63346.6"
      ]
     },
     "metadata": {},
     "output_type": "display_data"
    },
    {
     "data": {
      "text/html": [
       "<pre>Finished parsing file /storage/homedir/dima/.scidyn/AMiner/aminer_papers_108.txt</pre>"
      ],
      "text/plain": [
       "Finished parsing file /storage/homedir/dima/.scidyn/AMiner/aminer_papers_108.txt"
      ]
     },
     "metadata": {},
     "output_type": "display_data"
    },
    {
     "data": {
      "text/html": [
       "<pre>Read 20165746 lines. Lines per second: 64910.3</pre>"
      ],
      "text/plain": [
       "Read 20165746 lines. Lines per second: 64910.3"
      ]
     },
     "metadata": {},
     "output_type": "display_data"
    },
    {
     "data": {
      "text/html": [
       "<pre>Read 20991161 lines. Lines per second: 66416.1</pre>"
      ],
      "text/plain": [
       "Read 20991161 lines. Lines per second: 66416.1"
      ]
     },
     "metadata": {},
     "output_type": "display_data"
    },
    {
     "data": {
      "text/html": [
       "<pre>Finished parsing file /storage/homedir/dima/.scidyn/AMiner/aminer_papers_111.txt</pre>"
      ],
      "text/plain": [
       "Finished parsing file /storage/homedir/dima/.scidyn/AMiner/aminer_papers_111.txt"
      ]
     },
     "metadata": {},
     "output_type": "display_data"
    },
    {
     "data": {
      "text/html": [
       "<pre>Read 21828471 lines. Lines per second: 67964.5</pre>"
      ],
      "text/plain": [
       "Read 21828471 lines. Lines per second: 67964.5"
      ]
     },
     "metadata": {},
     "output_type": "display_data"
    },
    {
     "data": {
      "text/html": [
       "<pre>Finished parsing file /storage/homedir/dima/.scidyn/AMiner/aminer_papers_114.txt</pre>"
      ],
      "text/plain": [
       "Finished parsing file /storage/homedir/dima/.scidyn/AMiner/aminer_papers_114.txt"
      ]
     },
     "metadata": {},
     "output_type": "display_data"
    },
    {
     "data": {
      "text/html": [
       "<pre>Read 22661576 lines. Lines per second: 69437.2</pre>"
      ],
      "text/plain": [
       "Read 22661576 lines. Lines per second: 69437.2"
      ]
     },
     "metadata": {},
     "output_type": "display_data"
    },
    {
     "data": {
      "text/html": [
       "<pre>Finished parsing file /storage/homedir/dima/.scidyn/AMiner/aminer_papers_115.txt</pre>"
      ],
      "text/plain": [
       "Finished parsing file /storage/homedir/dima/.scidyn/AMiner/aminer_papers_115.txt"
      ]
     },
     "metadata": {},
     "output_type": "display_data"
    },
    {
     "data": {
      "text/html": [
       "<pre>Read 23495307 lines. Lines per second: 70896.2</pre>"
      ],
      "text/plain": [
       "Read 23495307 lines. Lines per second: 70896.2"
      ]
     },
     "metadata": {},
     "output_type": "display_data"
    },
    {
     "data": {
      "text/html": [
       "<pre>Finished parsing file /storage/homedir/dima/.scidyn/AMiner/aminer_papers_116.txt</pre>"
      ],
      "text/plain": [
       "Finished parsing file /storage/homedir/dima/.scidyn/AMiner/aminer_papers_116.txt"
      ]
     },
     "metadata": {},
     "output_type": "display_data"
    },
    {
     "data": {
      "text/html": [
       "<pre>Read 24329312 lines. Lines per second: 72299.3</pre>"
      ],
      "text/plain": [
       "Read 24329312 lines. Lines per second: 72299.3"
      ]
     },
     "metadata": {},
     "output_type": "display_data"
    },
    {
     "data": {
      "text/html": [
       "<pre>Finished parsing file /storage/homedir/dima/.scidyn/AMiner/aminer_papers_118.txt</pre>"
      ],
      "text/plain": [
       "Finished parsing file /storage/homedir/dima/.scidyn/AMiner/aminer_papers_118.txt"
      ]
     },
     "metadata": {},
     "output_type": "display_data"
    },
    {
     "data": {
      "text/html": [
       "<pre>Read 25165520 lines. Lines per second: 73668</pre>"
      ],
      "text/plain": [
       "Read 25165520 lines. Lines per second: 73668"
      ]
     },
     "metadata": {},
     "output_type": "display_data"
    },
    {
     "data": {
      "text/html": [
       "<pre>Read 25992187 lines. Lines per second: 74853.6</pre>"
      ],
      "text/plain": [
       "Read 25992187 lines. Lines per second: 74853.6"
      ]
     },
     "metadata": {},
     "output_type": "display_data"
    },
    {
     "data": {
      "text/html": [
       "<pre>Finished parsing file /storage/homedir/dima/.scidyn/AMiner/aminer_papers_119.txt</pre>"
      ],
      "text/plain": [
       "Finished parsing file /storage/homedir/dima/.scidyn/AMiner/aminer_papers_119.txt"
      ]
     },
     "metadata": {},
     "output_type": "display_data"
    },
    {
     "data": {
      "text/html": [
       "<pre>Read 26992277 lines. Lines per second: 76446.5</pre>"
      ],
      "text/plain": [
       "Read 26992277 lines. Lines per second: 76446.5"
      ]
     },
     "metadata": {},
     "output_type": "display_data"
    },
    {
     "data": {
      "text/html": [
       "<pre>Finished parsing file /storage/homedir/dima/.scidyn/AMiner/aminer_papers_120.txt</pre>"
      ],
      "text/plain": [
       "Finished parsing file /storage/homedir/dima/.scidyn/AMiner/aminer_papers_120.txt"
      ]
     },
     "metadata": {},
     "output_type": "display_data"
    },
    {
     "data": {
      "text/html": [
       "<pre>Read 27825235 lines. Lines per second: 77689.8</pre>"
      ],
      "text/plain": [
       "Read 27825235 lines. Lines per second: 77689.8"
      ]
     },
     "metadata": {},
     "output_type": "display_data"
    },
    {
     "data": {
      "text/html": [
       "<pre>Finished parsing file /storage/homedir/dima/.scidyn/AMiner/aminer_papers_121.txt</pre>"
      ],
      "text/plain": [
       "Finished parsing file /storage/homedir/dima/.scidyn/AMiner/aminer_papers_121.txt"
      ]
     },
     "metadata": {},
     "output_type": "display_data"
    },
    {
     "data": {
      "text/html": [
       "<pre>Read 28661641 lines. Lines per second: 78790.4</pre>"
      ],
      "text/plain": [
       "Read 28661641 lines. Lines per second: 78790.4"
      ]
     },
     "metadata": {},
     "output_type": "display_data"
    },
    {
     "data": {
      "text/html": [
       "<pre>Finished parsing file /storage/homedir/dima/.scidyn/AMiner/aminer_papers_122.txt</pre>"
      ],
      "text/plain": [
       "Finished parsing file /storage/homedir/dima/.scidyn/AMiner/aminer_papers_122.txt"
      ]
     },
     "metadata": {},
     "output_type": "display_data"
    },
    {
     "data": {
      "text/html": [
       "<pre>Read 29495352 lines. Lines per second: 79987.1</pre>"
      ],
      "text/plain": [
       "Read 29495352 lines. Lines per second: 79987.1"
      ]
     },
     "metadata": {},
     "output_type": "display_data"
    },
    {
     "data": {
      "text/html": [
       "<pre>Finished parsing file /storage/homedir/dima/.scidyn/AMiner/aminer_papers_123.txt</pre>"
      ],
      "text/plain": [
       "Finished parsing file /storage/homedir/dima/.scidyn/AMiner/aminer_papers_123.txt"
      ]
     },
     "metadata": {},
     "output_type": "display_data"
    },
    {
     "data": {
      "text/html": [
       "<pre>Read 30331761 lines. Lines per second: 81126</pre>"
      ],
      "text/plain": [
       "Read 30331761 lines. Lines per second: 81126"
      ]
     },
     "metadata": {},
     "output_type": "display_data"
    },
    {
     "data": {
      "text/html": [
       "<pre>Finished parsing file /storage/homedir/dima/.scidyn/AMiner/aminer_papers_125.txt</pre>"
      ],
      "text/plain": [
       "Finished parsing file /storage/homedir/dima/.scidyn/AMiner/aminer_papers_125.txt"
      ]
     },
     "metadata": {},
     "output_type": "display_data"
    },
    {
     "data": {
      "text/html": [
       "<pre>Read 31165467 lines. Lines per second: 82086.3</pre>"
      ],
      "text/plain": [
       "Read 31165467 lines. Lines per second: 82086.3"
      ]
     },
     "metadata": {},
     "output_type": "display_data"
    },
    {
     "data": {
      "text/html": [
       "<pre>Finished parsing file /storage/homedir/dima/.scidyn/AMiner/aminer_papers_128.txt</pre>"
      ],
      "text/plain": [
       "Finished parsing file /storage/homedir/dima/.scidyn/AMiner/aminer_papers_128.txt"
      ]
     },
     "metadata": {},
     "output_type": "display_data"
    },
    {
     "data": {
      "text/html": [
       "<pre>Read 32000000 lines. Lines per second: 83163.4</pre>"
      ],
      "text/plain": [
       "Read 32000000 lines. Lines per second: 83163.4"
      ]
     },
     "metadata": {},
     "output_type": "display_data"
    },
    {
     "data": {
      "text/html": [
       "<pre>Read 32991859 lines. Lines per second: 84534.1</pre>"
      ],
      "text/plain": [
       "Read 32991859 lines. Lines per second: 84534.1"
      ]
     },
     "metadata": {},
     "output_type": "display_data"
    },
    {
     "data": {
      "text/html": [
       "<pre>Finished parsing file /storage/homedir/dima/.scidyn/AMiner/aminer_papers_132.txt</pre>"
      ],
      "text/plain": [
       "Finished parsing file /storage/homedir/dima/.scidyn/AMiner/aminer_papers_132.txt"
      ]
     },
     "metadata": {},
     "output_type": "display_data"
    },
    {
     "data": {
      "text/html": [
       "<pre>Read 33826691 lines. Lines per second: 85556.2</pre>"
      ],
      "text/plain": [
       "Read 33826691 lines. Lines per second: 85556.2"
      ]
     },
     "metadata": {},
     "output_type": "display_data"
    },
    {
     "data": {
      "text/html": [
       "<pre>Finished parsing file /storage/homedir/dima/.scidyn/AMiner/aminer_papers_135.txt</pre>"
      ],
      "text/plain": [
       "Finished parsing file /storage/homedir/dima/.scidyn/AMiner/aminer_papers_135.txt"
      ]
     },
     "metadata": {},
     "output_type": "display_data"
    },
    {
     "data": {
      "text/html": [
       "<pre>Read 34661300 lines. Lines per second: 86443.7</pre>"
      ],
      "text/plain": [
       "Read 34661300 lines. Lines per second: 86443.7"
      ]
     },
     "metadata": {},
     "output_type": "display_data"
    },
    {
     "data": {
      "text/html": [
       "<pre>Finished parsing file /storage/homedir/dima/.scidyn/AMiner/aminer_papers_137.txt</pre>"
      ],
      "text/plain": [
       "Finished parsing file /storage/homedir/dima/.scidyn/AMiner/aminer_papers_137.txt"
      ]
     },
     "metadata": {},
     "output_type": "display_data"
    },
    {
     "data": {
      "text/html": [
       "<pre>Read 35330547 lines. Lines per second: 87027</pre>"
      ],
      "text/plain": [
       "Read 35330547 lines. Lines per second: 87027"
      ]
     },
     "metadata": {},
     "output_type": "display_data"
    },
    {
     "data": {
      "text/html": [
       "<pre>Finished parsing file /storage/homedir/dima/.scidyn/AMiner/aminer_papers_139.txt</pre>"
      ],
      "text/plain": [
       "Finished parsing file /storage/homedir/dima/.scidyn/AMiner/aminer_papers_139.txt"
      ]
     },
     "metadata": {},
     "output_type": "display_data"
    },
    {
     "data": {
      "text/html": [
       "<pre>Read 36000000 lines. Lines per second: 87543.1</pre>"
      ],
      "text/plain": [
       "Read 36000000 lines. Lines per second: 87543.1"
      ]
     },
     "metadata": {},
     "output_type": "display_data"
    },
    {
     "data": {
      "text/html": [
       "<pre>Read 36827354 lines. Lines per second: 88408.5</pre>"
      ],
      "text/plain": [
       "Read 36827354 lines. Lines per second: 88408.5"
      ]
     },
     "metadata": {},
     "output_type": "display_data"
    },
    {
     "data": {
      "text/html": [
       "<pre>Finished parsing file /storage/homedir/dima/.scidyn/AMiner/aminer_papers_140.txt</pre>"
      ],
      "text/plain": [
       "Finished parsing file /storage/homedir/dima/.scidyn/AMiner/aminer_papers_140.txt"
      ]
     },
     "metadata": {},
     "output_type": "display_data"
    },
    {
     "data": {
      "text/html": [
       "<pre>Read 37376475 lines. Lines per second: 88596.1</pre>"
      ],
      "text/plain": [
       "Read 37376475 lines. Lines per second: 88596.1"
      ]
     },
     "metadata": {},
     "output_type": "display_data"
    },
    {
     "data": {
      "text/html": [
       "<pre>Read 37962073 lines. Lines per second: 88874.6</pre>"
      ],
      "text/plain": [
       "Read 37962073 lines. Lines per second: 88874.6"
      ]
     },
     "metadata": {},
     "output_type": "display_data"
    },
    {
     "data": {
      "text/html": [
       "<pre>Finished parsing file /storage/homedir/dima/.scidyn/AMiner/aminer_papers_142.txt</pre>"
      ],
      "text/plain": [
       "Finished parsing file /storage/homedir/dima/.scidyn/AMiner/aminer_papers_142.txt"
      ]
     },
     "metadata": {},
     "output_type": "display_data"
    },
    {
     "data": {
      "text/html": [
       "<pre>Read 38453056 lines. Lines per second: 88862.2</pre>"
      ],
      "text/plain": [
       "Read 38453056 lines. Lines per second: 88862.2"
      ]
     },
     "metadata": {},
     "output_type": "display_data"
    },
    {
     "data": {
      "text/html": [
       "<pre>Read 38875553 lines. Lines per second: 88631.4</pre>"
      ],
      "text/plain": [
       "Read 38875553 lines. Lines per second: 88631.4"
      ]
     },
     "metadata": {},
     "output_type": "display_data"
    },
    {
     "data": {
      "text/html": [
       "<pre>Finished parsing file /storage/homedir/dima/.scidyn/AMiner/aminer_papers_144.txt</pre>"
      ],
      "text/plain": [
       "Finished parsing file /storage/homedir/dima/.scidyn/AMiner/aminer_papers_144.txt"
      ]
     },
     "metadata": {},
     "output_type": "display_data"
    },
    {
     "data": {
      "text/html": [
       "<pre>Read 39265052 lines. Lines per second: 88329</pre>"
      ],
      "text/plain": [
       "Read 39265052 lines. Lines per second: 88329"
      ]
     },
     "metadata": {},
     "output_type": "display_data"
    },
    {
     "data": {
      "text/html": [
       "<pre>Read 39817273 lines. Lines per second: 88454.4</pre>"
      ],
      "text/plain": [
       "Read 39817273 lines. Lines per second: 88454.4"
      ]
     },
     "metadata": {},
     "output_type": "display_data"
    },
    {
     "data": {
      "text/html": [
       "<pre>Finished parsing file /storage/homedir/dima/.scidyn/AMiner/aminer_papers_145.txt</pre>"
      ],
      "text/plain": [
       "Finished parsing file /storage/homedir/dima/.scidyn/AMiner/aminer_papers_145.txt"
      ]
     },
     "metadata": {},
     "output_type": "display_data"
    },
    {
     "data": {
      "text/html": [
       "<pre>Read 40300538 lines. Lines per second: 88485.9</pre>"
      ],
      "text/plain": [
       "Read 40300538 lines. Lines per second: 88485.9"
      ]
     },
     "metadata": {},
     "output_type": "display_data"
    },
    {
     "data": {
      "text/html": [
       "<pre>Read 40745523 lines. Lines per second: 88406.5</pre>"
      ],
      "text/plain": [
       "Read 40745523 lines. Lines per second: 88406.5"
      ]
     },
     "metadata": {},
     "output_type": "display_data"
    },
    {
     "data": {
      "text/html": [
       "<pre>Finished parsing file /storage/homedir/dima/.scidyn/AMiner/aminer_papers_146.txt</pre>"
      ],
      "text/plain": [
       "Finished parsing file /storage/homedir/dima/.scidyn/AMiner/aminer_papers_146.txt"
      ]
     },
     "metadata": {},
     "output_type": "display_data"
    },
    {
     "data": {
      "text/html": [
       "<pre>Read 41181334 lines. Lines per second: 88331.4</pre>"
      ],
      "text/plain": [
       "Read 41181334 lines. Lines per second: 88331.4"
      ]
     },
     "metadata": {},
     "output_type": "display_data"
    },
    {
     "data": {
      "text/html": [
       "<pre>Read 41747367 lines. Lines per second: 88542.6</pre>"
      ],
      "text/plain": [
       "Read 41747367 lines. Lines per second: 88542.6"
      ]
     },
     "metadata": {},
     "output_type": "display_data"
    },
    {
     "data": {
      "text/html": [
       "<pre>Finished parsing file /storage/homedir/dima/.scidyn/AMiner/aminer_papers_147.txt</pre>"
      ],
      "text/plain": [
       "Finished parsing file /storage/homedir/dima/.scidyn/AMiner/aminer_papers_147.txt"
      ]
     },
     "metadata": {},
     "output_type": "display_data"
    },
    {
     "data": {
      "text/html": [
       "<pre>Read 42115143 lines. Lines per second: 88337.6</pre>"
      ],
      "text/plain": [
       "Read 42115143 lines. Lines per second: 88337.6"
      ]
     },
     "metadata": {},
     "output_type": "display_data"
    },
    {
     "data": {
      "text/html": [
       "<pre>Read 42552095 lines. Lines per second: 88333.5</pre>"
      ],
      "text/plain": [
       "Read 42552095 lines. Lines per second: 88333.5"
      ]
     },
     "metadata": {},
     "output_type": "display_data"
    },
    {
     "data": {
      "text/html": [
       "<pre>Read 42995675 lines. Lines per second: 88249.6</pre>"
      ],
      "text/plain": [
       "Read 42995675 lines. Lines per second: 88249.6"
      ]
     },
     "metadata": {},
     "output_type": "display_data"
    },
    {
     "data": {
      "text/html": [
       "<pre>Finished parsing file /storage/homedir/dima/.scidyn/AMiner/aminer_papers_153.txt</pre>"
      ],
      "text/plain": [
       "Finished parsing file /storage/homedir/dima/.scidyn/AMiner/aminer_papers_153.txt"
      ]
     },
     "metadata": {},
     "output_type": "display_data"
    },
    {
     "data": {
      "text/html": [
       "<pre>Read 43368964 lines. Lines per second: 88069.1</pre>"
      ],
      "text/plain": [
       "Read 43368964 lines. Lines per second: 88069.1"
      ]
     },
     "metadata": {},
     "output_type": "display_data"
    },
    {
     "data": {
      "text/html": [
       "<pre>Read 43714502 lines. Lines per second: 87846.7</pre>"
      ],
      "text/plain": [
       "Read 43714502 lines. Lines per second: 87846.7"
      ]
     },
     "metadata": {},
     "output_type": "display_data"
    },
    {
     "data": {
      "text/html": [
       "<pre>Finished parsing file /storage/homedir/dima/.scidyn/AMiner/aminer_papers_60.txt</pre>"
      ],
      "text/plain": [
       "Finished parsing file /storage/homedir/dima/.scidyn/AMiner/aminer_papers_60.txt"
      ]
     },
     "metadata": {},
     "output_type": "display_data"
    },
    {
     "data": {
      "text/html": [
       "<pre>Read 44057404 lines. Lines per second: 87641</pre>"
      ],
      "text/plain": [
       "Read 44057404 lines. Lines per second: 87641"
      ]
     },
     "metadata": {},
     "output_type": "display_data"
    },
    {
     "data": {
      "text/html": [
       "<pre>Read 44550625 lines. Lines per second: 87626.5</pre>"
      ],
      "text/plain": [
       "Read 44550625 lines. Lines per second: 87626.5"
      ]
     },
     "metadata": {},
     "output_type": "display_data"
    },
    {
     "data": {
      "text/html": [
       "<pre>Finished parsing file /storage/homedir/dima/.scidyn/AMiner/aminer_papers_61.txt</pre>"
      ],
      "text/plain": [
       "Finished parsing file /storage/homedir/dima/.scidyn/AMiner/aminer_papers_61.txt"
      ]
     },
     "metadata": {},
     "output_type": "display_data"
    },
    {
     "data": {
      "text/html": [
       "<pre>Read 45072698 lines. Lines per second: 87674.2</pre>"
      ],
      "text/plain": [
       "Read 45072698 lines. Lines per second: 87674.2"
      ]
     },
     "metadata": {},
     "output_type": "display_data"
    },
    {
     "data": {
      "text/html": [
       "<pre>Read 45448760 lines. Lines per second: 87436.7</pre>"
      ],
      "text/plain": [
       "Read 45448760 lines. Lines per second: 87436.7"
      ]
     },
     "metadata": {},
     "output_type": "display_data"
    },
    {
     "data": {
      "text/html": [
       "<pre>Read 45819142 lines. Lines per second: 87296.6</pre>"
      ],
      "text/plain": [
       "Read 45819142 lines. Lines per second: 87296.6"
      ]
     },
     "metadata": {},
     "output_type": "display_data"
    },
    {
     "data": {
      "text/html": [
       "<pre>Finished parsing file /storage/homedir/dima/.scidyn/AMiner/aminer_papers_62.txt</pre>"
      ],
      "text/plain": [
       "Finished parsing file /storage/homedir/dima/.scidyn/AMiner/aminer_papers_62.txt"
      ]
     },
     "metadata": {},
     "output_type": "display_data"
    },
    {
     "data": {
      "text/html": [
       "<pre>Read 46060781 lines. Lines per second: 86866.3</pre>"
      ],
      "text/plain": [
       "Read 46060781 lines. Lines per second: 86866.3"
      ]
     },
     "metadata": {},
     "output_type": "display_data"
    },
    {
     "data": {
      "text/html": [
       "<pre>Read 46361368 lines. Lines per second: 86603.5</pre>"
      ],
      "text/plain": [
       "Read 46361368 lines. Lines per second: 86603.5"
      ]
     },
     "metadata": {},
     "output_type": "display_data"
    },
    {
     "data": {
      "text/html": [
       "<pre>Read 46648657 lines. Lines per second: 86330</pre>"
      ],
      "text/plain": [
       "Read 46648657 lines. Lines per second: 86330"
      ]
     },
     "metadata": {},
     "output_type": "display_data"
    },
    {
     "data": {
      "text/html": [
       "<pre>Read 46850991 lines. Lines per second: 85834</pre>"
      ],
      "text/plain": [
       "Read 46850991 lines. Lines per second: 85834"
      ]
     },
     "metadata": {},
     "output_type": "display_data"
    },
    {
     "data": {
      "text/html": [
       "<pre>Finished parsing file /storage/homedir/dima/.scidyn/AMiner/aminer_papers_64.txt</pre>"
      ],
      "text/plain": [
       "Finished parsing file /storage/homedir/dima/.scidyn/AMiner/aminer_papers_64.txt"
      ]
     },
     "metadata": {},
     "output_type": "display_data"
    },
    {
     "data": {
      "text/html": [
       "<pre>Read 47034680 lines. Lines per second: 85346.9</pre>"
      ],
      "text/plain": [
       "Read 47034680 lines. Lines per second: 85346.9"
      ]
     },
     "metadata": {},
     "output_type": "display_data"
    },
    {
     "data": {
      "text/html": [
       "<pre>Read 47207329 lines. Lines per second: 84883.1</pre>"
      ],
      "text/plain": [
       "Read 47207329 lines. Lines per second: 84883.1"
      ]
     },
     "metadata": {},
     "output_type": "display_data"
    },
    {
     "data": {
      "text/html": [
       "<pre>Read 47543200 lines. Lines per second: 84680.9</pre>"
      ],
      "text/plain": [
       "Read 47543200 lines. Lines per second: 84680.9"
      ]
     },
     "metadata": {},
     "output_type": "display_data"
    },
    {
     "data": {
      "text/html": [
       "<pre>Read 47732780 lines. Lines per second: 84235.4</pre>"
      ],
      "text/plain": [
       "Read 47732780 lines. Lines per second: 84235.4"
      ]
     },
     "metadata": {},
     "output_type": "display_data"
    },
    {
     "data": {
      "text/html": [
       "<pre>Read 47965044 lines. Lines per second: 83896.2</pre>"
      ],
      "text/plain": [
       "Read 47965044 lines. Lines per second: 83896.2"
      ]
     },
     "metadata": {},
     "output_type": "display_data"
    },
    {
     "data": {
      "text/html": [
       "<pre>Finished parsing file /storage/homedir/dima/.scidyn/AMiner/aminer_papers_66.txt</pre>"
      ],
      "text/plain": [
       "Finished parsing file /storage/homedir/dima/.scidyn/AMiner/aminer_papers_66.txt"
      ]
     },
     "metadata": {},
     "output_type": "display_data"
    },
    {
     "data": {
      "text/html": [
       "<pre>Read 48405843 lines. Lines per second: 83912.8</pre>"
      ],
      "text/plain": [
       "Read 48405843 lines. Lines per second: 83912.8"
      ]
     },
     "metadata": {},
     "output_type": "display_data"
    },
    {
     "data": {
      "text/html": [
       "<pre>Read 48935357 lines. Lines per second: 84063.2</pre>"
      ],
      "text/plain": [
       "Read 48935357 lines. Lines per second: 84063.2"
      ]
     },
     "metadata": {},
     "output_type": "display_data"
    },
    {
     "data": {
      "text/html": [
       "<pre>Finished parsing file /storage/homedir/dima/.scidyn/AMiner/aminer_papers_67.txt</pre>"
      ],
      "text/plain": [
       "Finished parsing file /storage/homedir/dima/.scidyn/AMiner/aminer_papers_67.txt"
      ]
     },
     "metadata": {},
     "output_type": "display_data"
    },
    {
     "data": {
      "text/html": [
       "<pre>Read 49414978 lines. Lines per second: 84015.3</pre>"
      ],
      "text/plain": [
       "Read 49414978 lines. Lines per second: 84015.3"
      ]
     },
     "metadata": {},
     "output_type": "display_data"
    },
    {
     "data": {
      "text/html": [
       "<pre>Read 49985244 lines. Lines per second: 84175.2</pre>"
      ],
      "text/plain": [
       "Read 49985244 lines. Lines per second: 84175.2"
      ]
     },
     "metadata": {},
     "output_type": "display_data"
    },
    {
     "data": {
      "text/html": [
       "<pre>Finished parsing file /storage/homedir/dima/.scidyn/AMiner/aminer_papers_68.txt</pre>"
      ],
      "text/plain": [
       "Finished parsing file /storage/homedir/dima/.scidyn/AMiner/aminer_papers_68.txt"
      ]
     },
     "metadata": {},
     "output_type": "display_data"
    },
    {
     "data": {
      "text/html": [
       "<pre>Read 50465337 lines. Lines per second: 84201.2</pre>"
      ],
      "text/plain": [
       "Read 50465337 lines. Lines per second: 84201.2"
      ]
     },
     "metadata": {},
     "output_type": "display_data"
    },
    {
     "data": {
      "text/html": [
       "<pre>Finished parsing file /storage/homedir/dima/.scidyn/AMiner/aminer_papers_70.txt</pre>"
      ],
      "text/plain": [
       "Finished parsing file /storage/homedir/dima/.scidyn/AMiner/aminer_papers_70.txt"
      ]
     },
     "metadata": {},
     "output_type": "display_data"
    },
    {
     "data": {
      "text/html": [
       "<pre>Read 51000000 lines. Lines per second: 84250.4</pre>"
      ],
      "text/plain": [
       "Read 51000000 lines. Lines per second: 84250.4"
      ]
     },
     "metadata": {},
     "output_type": "display_data"
    },
    {
     "data": {
      "text/html": [
       "<pre>Read 51454842 lines. Lines per second: 84311.4</pre>"
      ],
      "text/plain": [
       "Read 51454842 lines. Lines per second: 84311.4"
      ]
     },
     "metadata": {},
     "output_type": "display_data"
    },
    {
     "data": {
      "text/html": [
       "<pre>Read 51974813 lines. Lines per second: 84452.1</pre>"
      ],
      "text/plain": [
       "Read 51974813 lines. Lines per second: 84452.1"
      ]
     },
     "metadata": {},
     "output_type": "display_data"
    },
    {
     "data": {
      "text/html": [
       "<pre>Finished parsing file /storage/homedir/dima/.scidyn/AMiner/aminer_papers_71.txt</pre>"
      ],
      "text/plain": [
       "Finished parsing file /storage/homedir/dima/.scidyn/AMiner/aminer_papers_71.txt"
      ]
     },
     "metadata": {},
     "output_type": "display_data"
    },
    {
     "data": {
      "text/html": [
       "<pre>Read 52547104 lines. Lines per second: 84582.8</pre>"
      ],
      "text/plain": [
       "Read 52547104 lines. Lines per second: 84582.8"
      ]
     },
     "metadata": {},
     "output_type": "display_data"
    },
    {
     "data": {
      "text/html": [
       "<pre>Finished parsing file /storage/homedir/dima/.scidyn/AMiner/aminer_papers_72.txt</pre>"
      ],
      "text/plain": [
       "Finished parsing file /storage/homedir/dima/.scidyn/AMiner/aminer_papers_72.txt"
      ]
     },
     "metadata": {},
     "output_type": "display_data"
    },
    {
     "data": {
      "text/html": [
       "<pre>Read 53000000 lines. Lines per second: 84584</pre>"
      ],
      "text/plain": [
       "Read 53000000 lines. Lines per second: 84584"
      ]
     },
     "metadata": {},
     "output_type": "display_data"
    },
    {
     "data": {
      "text/html": [
       "<pre>Read 53992188 lines. Lines per second: 85411.6</pre>"
      ],
      "text/plain": [
       "Read 53992188 lines. Lines per second: 85411.6"
      ]
     },
     "metadata": {},
     "output_type": "display_data"
    },
    {
     "data": {
      "text/html": [
       "<pre>Finished parsing file /storage/homedir/dima/.scidyn/AMiner/aminer_papers_74.txt</pre>"
      ],
      "text/plain": [
       "Finished parsing file /storage/homedir/dima/.scidyn/AMiner/aminer_papers_74.txt"
      ]
     },
     "metadata": {},
     "output_type": "display_data"
    },
    {
     "data": {
      "text/html": [
       "<pre>Read 54826656 lines. Lines per second: 86007.6</pre>"
      ],
      "text/plain": [
       "Read 54826656 lines. Lines per second: 86007.6"
      ]
     },
     "metadata": {},
     "output_type": "display_data"
    },
    {
     "data": {
      "text/html": [
       "<pre>Finished parsing file /storage/homedir/dima/.scidyn/AMiner/aminer_papers_75.txt</pre>"
      ],
      "text/plain": [
       "Finished parsing file /storage/homedir/dima/.scidyn/AMiner/aminer_papers_75.txt"
      ]
     },
     "metadata": {},
     "output_type": "display_data"
    },
    {
     "data": {
      "text/html": [
       "<pre>Read 55659234 lines. Lines per second: 86608.8</pre>"
      ],
      "text/plain": [
       "Read 55659234 lines. Lines per second: 86608.8"
      ]
     },
     "metadata": {},
     "output_type": "display_data"
    },
    {
     "data": {
      "text/html": [
       "<pre>Finished parsing file /storage/homedir/dima/.scidyn/AMiner/aminer_papers_77.txt</pre>"
      ],
      "text/plain": [
       "Finished parsing file /storage/homedir/dima/.scidyn/AMiner/aminer_papers_77.txt"
      ]
     },
     "metadata": {},
     "output_type": "display_data"
    },
    {
     "data": {
      "text/html": [
       "<pre>Read 56330652 lines. Lines per second: 86953.8</pre>"
      ],
      "text/plain": [
       "Read 56330652 lines. Lines per second: 86953.8"
      ]
     },
     "metadata": {},
     "output_type": "display_data"
    },
    {
     "data": {
      "text/html": [
       "<pre>Finished parsing file /storage/homedir/dima/.scidyn/AMiner/aminer_papers_78.txt</pre>"
      ],
      "text/plain": [
       "Finished parsing file /storage/homedir/dima/.scidyn/AMiner/aminer_papers_78.txt"
      ]
     },
     "metadata": {},
     "output_type": "display_data"
    },
    {
     "data": {
      "text/html": [
       "<pre>Read 57330250 lines. Lines per second: 87712.2</pre>"
      ],
      "text/plain": [
       "Read 57330250 lines. Lines per second: 87712.2"
      ]
     },
     "metadata": {},
     "output_type": "display_data"
    },
    {
     "data": {
      "text/html": [
       "<pre>Finished parsing file /storage/homedir/dima/.scidyn/AMiner/aminer_papers_82.txt</pre>"
      ],
      "text/plain": [
       "Finished parsing file /storage/homedir/dima/.scidyn/AMiner/aminer_papers_82.txt"
      ]
     },
     "metadata": {},
     "output_type": "display_data"
    },
    {
     "data": {
      "text/html": [
       "<pre>Read 58329863 lines. Lines per second: 88464.2</pre>"
      ],
      "text/plain": [
       "Read 58329863 lines. Lines per second: 88464.2"
      ]
     },
     "metadata": {},
     "output_type": "display_data"
    },
    {
     "data": {
      "text/html": [
       "<pre>Finished parsing file /storage/homedir/dima/.scidyn/AMiner/aminer_papers_85.txt</pre>"
      ],
      "text/plain": [
       "Finished parsing file /storage/homedir/dima/.scidyn/AMiner/aminer_papers_85.txt"
      ]
     },
     "metadata": {},
     "output_type": "display_data"
    },
    {
     "data": {
      "text/html": [
       "<pre>Read 59165568 lines. Lines per second: 89053</pre>"
      ],
      "text/plain": [
       "Read 59165568 lines. Lines per second: 89053"
      ]
     },
     "metadata": {},
     "output_type": "display_data"
    },
    {
     "data": {
      "text/html": [
       "<pre>Finished parsing file /storage/homedir/dima/.scidyn/AMiner/aminer_papers_88.txt</pre>"
      ],
      "text/plain": [
       "Finished parsing file /storage/homedir/dima/.scidyn/AMiner/aminer_papers_88.txt"
      ]
     },
     "metadata": {},
     "output_type": "display_data"
    },
    {
     "data": {
      "text/html": [
       "<pre>Read 60000000 lines. Lines per second: 89626.8</pre>"
      ],
      "text/plain": [
       "Read 60000000 lines. Lines per second: 89626.8"
      ]
     },
     "metadata": {},
     "output_type": "display_data"
    },
    {
     "data": {
      "text/html": [
       "<pre>Read 60991283 lines. Lines per second: 90396.6</pre>"
      ],
      "text/plain": [
       "Read 60991283 lines. Lines per second: 90396.6"
      ]
     },
     "metadata": {},
     "output_type": "display_data"
    },
    {
     "data": {
      "text/html": [
       "<pre>Finished parsing file /storage/homedir/dima/.scidyn/AMiner/aminer_papers_89.txt</pre>"
      ],
      "text/plain": [
       "Finished parsing file /storage/homedir/dima/.scidyn/AMiner/aminer_papers_89.txt"
      ]
     },
     "metadata": {},
     "output_type": "display_data"
    },
    {
     "data": {
      "text/html": [
       "<pre>Read 61825957 lines. Lines per second: 90940.6</pre>"
      ],
      "text/plain": [
       "Read 61825957 lines. Lines per second: 90940.6"
      ]
     },
     "metadata": {},
     "output_type": "display_data"
    },
    {
     "data": {
      "text/html": [
       "<pre>Finished parsing file /storage/homedir/dima/.scidyn/AMiner/aminer_papers_91.txt</pre>"
      ],
      "text/plain": [
       "Finished parsing file /storage/homedir/dima/.scidyn/AMiner/aminer_papers_91.txt"
      ]
     },
     "metadata": {},
     "output_type": "display_data"
    },
    {
     "data": {
      "text/html": [
       "<pre>Read 62661511 lines. Lines per second: 91433.9</pre>"
      ],
      "text/plain": [
       "Read 62661511 lines. Lines per second: 91433.9"
      ]
     },
     "metadata": {},
     "output_type": "display_data"
    },
    {
     "data": {
      "text/html": [
       "<pre>Finished parsing file /storage/homedir/dima/.scidyn/AMiner/aminer_papers_93.txt</pre>"
      ],
      "text/plain": [
       "Finished parsing file /storage/homedir/dima/.scidyn/AMiner/aminer_papers_93.txt"
      ]
     },
     "metadata": {},
     "output_type": "display_data"
    },
    {
     "data": {
      "text/html": [
       "<pre>Read 63659529 lines. Lines per second: 92134.2</pre>"
      ],
      "text/plain": [
       "Read 63659529 lines. Lines per second: 92134.2"
      ]
     },
     "metadata": {},
     "output_type": "display_data"
    },
    {
     "data": {
      "text/html": [
       "<pre>Finished parsing file /storage/homedir/dima/.scidyn/AMiner/aminer_papers_97.txt</pre>"
      ],
      "text/plain": [
       "Finished parsing file /storage/homedir/dima/.scidyn/AMiner/aminer_papers_97.txt"
      ]
     },
     "metadata": {},
     "output_type": "display_data"
    },
    {
     "data": {
      "text/html": [
       "<pre>Read 64495719 lines. Lines per second: 92652.1</pre>"
      ],
      "text/plain": [
       "Read 64495719 lines. Lines per second: 92652.1"
      ]
     },
     "metadata": {},
     "output_type": "display_data"
    },
    {
     "data": {
      "text/html": [
       "<pre>Finished parsing file /storage/homedir/dima/.scidyn/AMiner/aminer_papers_98.txt</pre>"
      ],
      "text/plain": [
       "Finished parsing file /storage/homedir/dima/.scidyn/AMiner/aminer_papers_98.txt"
      ]
     },
     "metadata": {},
     "output_type": "display_data"
    },
    {
     "data": {
      "text/html": [
       "<pre>Read 65136739 lines. Lines per second: 92887.6</pre>"
      ],
      "text/plain": [
       "Read 65136739 lines. Lines per second: 92887.6"
      ]
     },
     "metadata": {},
     "output_type": "display_data"
    },
    {
     "data": {
      "text/html": [
       "<pre>Read 65447152 lines. Lines per second: 92630.5</pre>"
      ],
      "text/plain": [
       "Read 65447152 lines. Lines per second: 92630.5"
      ]
     },
     "metadata": {},
     "output_type": "display_data"
    },
    {
     "data": {
      "text/html": [
       "<pre>Read 65721931 lines. Lines per second: 92308.9</pre>"
      ],
      "text/plain": [
       "Read 65721931 lines. Lines per second: 92308.9"
      ]
     },
     "metadata": {},
     "output_type": "display_data"
    },
    {
     "data": {
      "text/html": [
       "<pre>Read 65994941 lines. Lines per second: 91961</pre>"
      ],
      "text/plain": [
       "Read 65994941 lines. Lines per second: 91961"
      ]
     },
     "metadata": {},
     "output_type": "display_data"
    },
    {
     "data": {
      "text/html": [
       "<pre>Finished parsing file /storage/homedir/dima/.scidyn/AMiner/aminer_papers_10.txt</pre>"
      ],
      "text/plain": [
       "Finished parsing file /storage/homedir/dima/.scidyn/AMiner/aminer_papers_10.txt"
      ]
     },
     "metadata": {},
     "output_type": "display_data"
    },
    {
     "data": {
      "text/html": [
       "<pre>Read 66242349 lines. Lines per second: 91668.7</pre>"
      ],
      "text/plain": [
       "Read 66242349 lines. Lines per second: 91668.7"
      ]
     },
     "metadata": {},
     "output_type": "display_data"
    },
    {
     "data": {
      "text/html": [
       "<pre>Read 66551145 lines. Lines per second: 91433.8</pre>"
      ],
      "text/plain": [
       "Read 66551145 lines. Lines per second: 91433.8"
      ]
     },
     "metadata": {},
     "output_type": "display_data"
    },
    {
     "data": {
      "text/html": [
       "<pre>Read 66859841 lines. Lines per second: 91219.2</pre>"
      ],
      "text/plain": [
       "Read 66859841 lines. Lines per second: 91219.2"
      ]
     },
     "metadata": {},
     "output_type": "display_data"
    },
    {
     "data": {
      "text/html": [
       "<pre>Finished parsing file /storage/homedir/dima/.scidyn/AMiner/aminer_papers_11.txt</pre>"
      ],
      "text/plain": [
       "Finished parsing file /storage/homedir/dima/.scidyn/AMiner/aminer_papers_11.txt"
      ]
     },
     "metadata": {},
     "output_type": "display_data"
    },
    {
     "data": {
      "text/html": [
       "<pre>Read 67140859 lines. Lines per second: 90948.8</pre>"
      ],
      "text/plain": [
       "Read 67140859 lines. Lines per second: 90948.8"
      ]
     },
     "metadata": {},
     "output_type": "display_data"
    },
    {
     "data": {
      "text/html": [
       "<pre>Read 67448826 lines. Lines per second: 90723.7</pre>"
      ],
      "text/plain": [
       "Read 67448826 lines. Lines per second: 90723.7"
      ]
     },
     "metadata": {},
     "output_type": "display_data"
    },
    {
     "data": {
      "text/html": [
       "<pre>Read 67756440 lines. Lines per second: 90498.2</pre>"
      ],
      "text/plain": [
       "Read 67756440 lines. Lines per second: 90498.2"
      ]
     },
     "metadata": {},
     "output_type": "display_data"
    },
    {
     "data": {
      "text/html": [
       "<pre>Finished parsing file /storage/homedir/dima/.scidyn/AMiner/aminer_papers_14.txt</pre>"
      ],
      "text/plain": [
       "Finished parsing file /storage/homedir/dima/.scidyn/AMiner/aminer_papers_14.txt"
      ]
     },
     "metadata": {},
     "output_type": "display_data"
    },
    {
     "data": {
      "text/html": [
       "<pre>Read 68070294 lines. Lines per second: 90268.5</pre>"
      ],
      "text/plain": [
       "Read 68070294 lines. Lines per second: 90268.5"
      ]
     },
     "metadata": {},
     "output_type": "display_data"
    },
    {
     "data": {
      "text/html": [
       "<pre>Read 68394955 lines. Lines per second: 90075.4</pre>"
      ],
      "text/plain": [
       "Read 68394955 lines. Lines per second: 90075.4"
      ]
     },
     "metadata": {},
     "output_type": "display_data"
    },
    {
     "data": {
      "text/html": [
       "<pre>Read 68707535 lines. Lines per second: 89894.7</pre>"
      ],
      "text/plain": [
       "Read 68707535 lines. Lines per second: 89894.7"
      ]
     },
     "metadata": {},
     "output_type": "display_data"
    },
    {
     "data": {
      "text/html": [
       "<pre>Finished parsing file /storage/homedir/dima/.scidyn/AMiner/aminer_papers_18.txt</pre>"
      ],
      "text/plain": [
       "Finished parsing file /storage/homedir/dima/.scidyn/AMiner/aminer_papers_18.txt"
      ]
     },
     "metadata": {},
     "output_type": "display_data"
    },
    {
     "data": {
      "text/html": [
       "<pre>Read 69000000 lines. Lines per second: 89682</pre>"
      ],
      "text/plain": [
       "Read 69000000 lines. Lines per second: 89682"
      ]
     },
     "metadata": {},
     "output_type": "display_data"
    },
    {
     "data": {
      "text/html": [
       "<pre>Read 69282495 lines. Lines per second: 89440.3</pre>"
      ],
      "text/plain": [
       "Read 69282495 lines. Lines per second: 89440.3"
      ]
     },
     "metadata": {},
     "output_type": "display_data"
    },
    {
     "data": {
      "text/html": [
       "<pre>Read 69615432 lines. Lines per second: 89280.6</pre>"
      ],
      "text/plain": [
       "Read 69615432 lines. Lines per second: 89280.6"
      ]
     },
     "metadata": {},
     "output_type": "display_data"
    },
    {
     "data": {
      "text/html": [
       "<pre>Read 69926828 lines. Lines per second: 89072.2</pre>"
      ],
      "text/plain": [
       "Read 69926828 lines. Lines per second: 89072.2"
      ]
     },
     "metadata": {},
     "output_type": "display_data"
    },
    {
     "data": {
      "text/html": [
       "<pre>Finished parsing file /storage/homedir/dima/.scidyn/AMiner/aminer_papers_20.txt</pre>"
      ],
      "text/plain": [
       "Finished parsing file /storage/homedir/dima/.scidyn/AMiner/aminer_papers_20.txt"
      ]
     },
     "metadata": {},
     "output_type": "display_data"
    },
    {
     "data": {
      "text/html": [
       "<pre>Read 70234352 lines. Lines per second: 88906.9</pre>"
      ],
      "text/plain": [
       "Read 70234352 lines. Lines per second: 88906.9"
      ]
     },
     "metadata": {},
     "output_type": "display_data"
    },
    {
     "data": {
      "text/html": [
       "<pre>Read 70571176 lines. Lines per second: 88730.4</pre>"
      ],
      "text/plain": [
       "Read 70571176 lines. Lines per second: 88730.4"
      ]
     },
     "metadata": {},
     "output_type": "display_data"
    },
    {
     "data": {
      "text/html": [
       "<pre>Read 70865860 lines. Lines per second: 88527.1</pre>"
      ],
      "text/plain": [
       "Read 70865860 lines. Lines per second: 88527.1"
      ]
     },
     "metadata": {},
     "output_type": "display_data"
    },
    {
     "data": {
      "text/html": [
       "<pre>Finished parsing file /storage/homedir/dima/.scidyn/AMiner/aminer_papers_21.txt</pre>"
      ],
      "text/plain": [
       "Finished parsing file /storage/homedir/dima/.scidyn/AMiner/aminer_papers_21.txt"
      ]
     },
     "metadata": {},
     "output_type": "display_data"
    },
    {
     "data": {
      "text/html": [
       "<pre>Read 71174664 lines. Lines per second: 88344.2</pre>"
      ],
      "text/plain": [
       "Read 71174664 lines. Lines per second: 88344.2"
      ]
     },
     "metadata": {},
     "output_type": "display_data"
    },
    {
     "data": {
      "text/html": [
       "<pre>Read 71485886 lines. Lines per second: 88178.3</pre>"
      ],
      "text/plain": [
       "Read 71485886 lines. Lines per second: 88178.3"
      ]
     },
     "metadata": {},
     "output_type": "display_data"
    },
    {
     "data": {
      "text/html": [
       "<pre>Read 71843098 lines. Lines per second: 88023.4</pre>"
      ],
      "text/plain": [
       "Read 71843098 lines. Lines per second: 88023.4"
      ]
     },
     "metadata": {},
     "output_type": "display_data"
    },
    {
     "data": {
      "text/html": [
       "<pre>Finished parsing file /storage/homedir/dima/.scidyn/AMiner/aminer_papers_23.txt</pre>"
      ],
      "text/plain": [
       "Finished parsing file /storage/homedir/dima/.scidyn/AMiner/aminer_papers_23.txt"
      ]
     },
     "metadata": {},
     "output_type": "display_data"
    },
    {
     "data": {
      "text/html": [
       "<pre>Read 72141327 lines. Lines per second: 87852.3</pre>"
      ],
      "text/plain": [
       "Read 72141327 lines. Lines per second: 87852.3"
      ]
     },
     "metadata": {},
     "output_type": "display_data"
    },
    {
     "data": {
      "text/html": [
       "<pre>Read 72473093 lines. Lines per second: 87712</pre>"
      ],
      "text/plain": [
       "Read 72473093 lines. Lines per second: 87712"
      ]
     },
     "metadata": {},
     "output_type": "display_data"
    },
    {
     "data": {
      "text/html": [
       "<pre>Read 72796185 lines. Lines per second: 87542.8</pre>"
      ],
      "text/plain": [
       "Read 72796185 lines. Lines per second: 87542.8"
      ]
     },
     "metadata": {},
     "output_type": "display_data"
    },
    {
     "data": {
      "text/html": [
       "<pre>Finished parsing file /storage/homedir/dima/.scidyn/AMiner/aminer_papers_25.txt</pre>"
      ],
      "text/plain": [
       "Finished parsing file /storage/homedir/dima/.scidyn/AMiner/aminer_papers_25.txt"
      ]
     },
     "metadata": {},
     "output_type": "display_data"
    },
    {
     "data": {
      "text/html": [
       "<pre>Read 73069502 lines. Lines per second: 87309.8</pre>"
      ],
      "text/plain": [
       "Read 73069502 lines. Lines per second: 87309.8"
      ]
     },
     "metadata": {},
     "output_type": "display_data"
    },
    {
     "data": {
      "text/html": [
       "<pre>Read 73381493 lines. Lines per second: 87155.7</pre>"
      ],
      "text/plain": [
       "Read 73381493 lines. Lines per second: 87155.7"
      ]
     },
     "metadata": {},
     "output_type": "display_data"
    },
    {
     "data": {
      "text/html": [
       "<pre>Read 73688428 lines. Lines per second: 86980.6</pre>"
      ],
      "text/plain": [
       "Read 73688428 lines. Lines per second: 86980.6"
      ]
     },
     "metadata": {},
     "output_type": "display_data"
    },
    {
     "data": {
      "text/html": [
       "<pre>Read 73965870 lines. Lines per second: 86781.2</pre>"
      ],
      "text/plain": [
       "Read 73965870 lines. Lines per second: 86781.2"
      ]
     },
     "metadata": {},
     "output_type": "display_data"
    },
    {
     "data": {
      "text/html": [
       "<pre>Finished parsing file /storage/homedir/dima/.scidyn/AMiner/aminer_papers_29.txt</pre>"
      ],
      "text/plain": [
       "Finished parsing file /storage/homedir/dima/.scidyn/AMiner/aminer_papers_29.txt"
      ]
     },
     "metadata": {},
     "output_type": "display_data"
    },
    {
     "data": {
      "text/html": [
       "<pre>Read 74208254 lines. Lines per second: 86559.9</pre>"
      ],
      "text/plain": [
       "Read 74208254 lines. Lines per second: 86559.9"
      ]
     },
     "metadata": {},
     "output_type": "display_data"
    },
    {
     "data": {
      "text/html": [
       "<pre>Read 74516654 lines. Lines per second: 86378.2</pre>"
      ],
      "text/plain": [
       "Read 74516654 lines. Lines per second: 86378.2"
      ]
     },
     "metadata": {},
     "output_type": "display_data"
    },
    {
     "data": {
      "text/html": [
       "<pre>Read 74823527 lines. Lines per second: 86216.5</pre>"
      ],
      "text/plain": [
       "Read 74823527 lines. Lines per second: 86216.5"
      ]
     },
     "metadata": {},
     "output_type": "display_data"
    },
    {
     "data": {
      "text/html": [
       "<pre>Finished parsing file /storage/homedir/dima/.scidyn/AMiner/aminer_papers_2.txt</pre>"
      ],
      "text/plain": [
       "Finished parsing file /storage/homedir/dima/.scidyn/AMiner/aminer_papers_2.txt"
      ]
     },
     "metadata": {},
     "output_type": "display_data"
    },
    {
     "data": {
      "text/html": [
       "<pre>Read 75205694 lines. Lines per second: 86124.4</pre>"
      ],
      "text/plain": [
       "Read 75205694 lines. Lines per second: 86124.4"
      ]
     },
     "metadata": {},
     "output_type": "display_data"
    },
    {
     "data": {
      "text/html": [
       "<pre>Read 75545237 lines. Lines per second: 86026</pre>"
      ],
      "text/plain": [
       "Read 75545237 lines. Lines per second: 86026"
      ]
     },
     "metadata": {},
     "output_type": "display_data"
    },
    {
     "data": {
      "text/html": [
       "<pre>Read 75926142 lines. Lines per second: 85933.8</pre>"
      ],
      "text/plain": [
       "Read 75926142 lines. Lines per second: 85933.8"
      ]
     },
     "metadata": {},
     "output_type": "display_data"
    },
    {
     "data": {
      "text/html": [
       "<pre>Finished parsing file /storage/homedir/dima/.scidyn/AMiner/aminer_papers_3.txt</pre>"
      ],
      "text/plain": [
       "Finished parsing file /storage/homedir/dima/.scidyn/AMiner/aminer_papers_3.txt"
      ]
     },
     "metadata": {},
     "output_type": "display_data"
    },
    {
     "data": {
      "text/html": [
       "<pre>Read 76204289 lines. Lines per second: 85734.3</pre>"
      ],
      "text/plain": [
       "Read 76204289 lines. Lines per second: 85734.3"
      ]
     },
     "metadata": {},
     "output_type": "display_data"
    },
    {
     "data": {
      "text/html": [
       "<pre>Read 76511579 lines. Lines per second: 85566</pre>"
      ],
      "text/plain": [
       "Read 76511579 lines. Lines per second: 85566"
      ]
     },
     "metadata": {},
     "output_type": "display_data"
    },
    {
     "data": {
      "text/html": [
       "<pre>Read 76816125 lines. Lines per second: 85418.3</pre>"
      ],
      "text/plain": [
       "Read 76816125 lines. Lines per second: 85418.3"
      ]
     },
     "metadata": {},
     "output_type": "display_data"
    },
    {
     "data": {
      "text/html": [
       "<pre>Finished parsing file /storage/homedir/dima/.scidyn/AMiner/aminer_papers_5.txt</pre>"
      ],
      "text/plain": [
       "Finished parsing file /storage/homedir/dima/.scidyn/AMiner/aminer_papers_5.txt"
      ]
     },
     "metadata": {},
     "output_type": "display_data"
    },
    {
     "data": {
      "text/html": [
       "<pre>Read 77068026 lines. Lines per second: 85195</pre>"
      ],
      "text/plain": [
       "Read 77068026 lines. Lines per second: 85195"
      ]
     },
     "metadata": {},
     "output_type": "display_data"
    },
    {
     "data": {
      "text/html": [
       "<pre>Read 77341740 lines. Lines per second: 85014.5</pre>"
      ],
      "text/plain": [
       "Read 77341740 lines. Lines per second: 85014.5"
      ]
     },
     "metadata": {},
     "output_type": "display_data"
    },
    {
     "data": {
      "text/html": [
       "<pre>Read 77649985 lines. Lines per second: 84853.2</pre>"
      ],
      "text/plain": [
       "Read 77649985 lines. Lines per second: 84853.2"
      ]
     },
     "metadata": {},
     "output_type": "display_data"
    },
    {
     "data": {
      "text/html": [
       "<pre>Read 77962300 lines. Lines per second: 84710.9</pre>"
      ],
      "text/plain": [
       "Read 77962300 lines. Lines per second: 84710.9"
      ]
     },
     "metadata": {},
     "output_type": "display_data"
    },
    {
     "data": {
      "text/html": [
       "<pre>Finished parsing file /storage/homedir/dima/.scidyn/AMiner/aminer_papers_9.txt</pre>"
      ],
      "text/plain": [
       "Finished parsing file /storage/homedir/dima/.scidyn/AMiner/aminer_papers_9.txt"
      ]
     },
     "metadata": {},
     "output_type": "display_data"
    },
    {
     "data": {
      "text/html": [
       "<pre>Read 78242066 lines. Lines per second: 84546.1</pre>"
      ],
      "text/plain": [
       "Read 78242066 lines. Lines per second: 84546.1"
      ]
     },
     "metadata": {},
     "output_type": "display_data"
    },
    {
     "data": {
      "text/html": [
       "<pre>Read 78550926 lines. Lines per second: 84414.9</pre>"
      ],
      "text/plain": [
       "Read 78550926 lines. Lines per second: 84414.9"
      ]
     },
     "metadata": {},
     "output_type": "display_data"
    },
    {
     "data": {
      "text/html": [
       "<pre>Read 78860270 lines. Lines per second: 84284.5</pre>"
      ],
      "text/plain": [
       "Read 78860270 lines. Lines per second: 84284.5"
      ]
     },
     "metadata": {},
     "output_type": "display_data"
    },
    {
     "data": {
      "text/html": [
       "<pre>Finished parsing file /storage/homedir/dima/.scidyn/AMiner/aminer_papers_13.txt</pre>"
      ],
      "text/plain": [
       "Finished parsing file /storage/homedir/dima/.scidyn/AMiner/aminer_papers_13.txt"
      ]
     },
     "metadata": {},
     "output_type": "display_data"
    },
    {
     "data": {
      "text/html": [
       "<pre>Read 79496215 lines. Lines per second: 84437.4</pre>"
      ],
      "text/plain": [
       "Read 79496215 lines. Lines per second: 84437.4"
      ]
     },
     "metadata": {},
     "output_type": "display_data"
    },
    {
     "data": {
      "text/html": [
       "<pre>Finished parsing file /storage/homedir/dima/.scidyn/AMiner/aminer_papers_94.txt</pre>"
      ],
      "text/plain": [
       "Finished parsing file /storage/homedir/dima/.scidyn/AMiner/aminer_papers_94.txt"
      ]
     },
     "metadata": {},
     "output_type": "display_data"
    },
    {
     "data": {
      "text/html": [
       "<pre>Read 80331128 lines. Lines per second: 84864.8</pre>"
      ],
      "text/plain": [
       "Read 80331128 lines. Lines per second: 84864.8"
      ]
     },
     "metadata": {},
     "output_type": "display_data"
    },
    {
     "data": {
      "text/html": [
       "<pre>Finished parsing file /storage/homedir/dima/.scidyn/AMiner/aminer_papers_104.txt</pre>"
      ],
      "text/plain": [
       "Finished parsing file /storage/homedir/dima/.scidyn/AMiner/aminer_papers_104.txt"
      ]
     },
     "metadata": {},
     "output_type": "display_data"
    },
    {
     "data": {
      "text/html": [
       "<pre>Read 81104004 lines. Lines per second: 85207.7</pre>"
      ],
      "text/plain": [
       "Read 81104004 lines. Lines per second: 85207.7"
      ]
     },
     "metadata": {},
     "output_type": "display_data"
    },
    {
     "data": {
      "text/html": [
       "<pre>Read 81427551 lines. Lines per second: 85067.9</pre>"
      ],
      "text/plain": [
       "Read 81427551 lines. Lines per second: 85067.9"
      ]
     },
     "metadata": {},
     "output_type": "display_data"
    },
    {
     "data": {
      "text/html": [
       "<pre>Read 81750714 lines. Lines per second: 84961.1</pre>"
      ],
      "text/plain": [
       "Read 81750714 lines. Lines per second: 84961.1"
      ]
     },
     "metadata": {},
     "output_type": "display_data"
    },
    {
     "data": {
      "text/html": [
       "<pre>Finished parsing file /storage/homedir/dima/.scidyn/AMiner/aminer_papers_32.txt</pre>"
      ],
      "text/plain": [
       "Finished parsing file /storage/homedir/dima/.scidyn/AMiner/aminer_papers_32.txt"
      ]
     },
     "metadata": {},
     "output_type": "display_data"
    },
    {
     "data": {
      "text/html": [
       "<pre>Read 82067227 lines. Lines per second: 84821.1</pre>"
      ],
      "text/plain": [
       "Read 82067227 lines. Lines per second: 84821.1"
      ]
     },
     "metadata": {},
     "output_type": "display_data"
    },
    {
     "data": {
      "text/html": [
       "<pre>Read 82340141 lines. Lines per second: 84661.2</pre>"
      ],
      "text/plain": [
       "Read 82340141 lines. Lines per second: 84661.2"
      ]
     },
     "metadata": {},
     "output_type": "display_data"
    },
    {
     "data": {
      "text/html": [
       "<pre>Read 82649570 lines. Lines per second: 84473.8</pre>"
      ],
      "text/plain": [
       "Read 82649570 lines. Lines per second: 84473.8"
      ]
     },
     "metadata": {},
     "output_type": "display_data"
    },
    {
     "data": {
      "text/html": [
       "<pre>Read 82924609 lines. Lines per second: 84323.1</pre>"
      ],
      "text/plain": [
       "Read 82924609 lines. Lines per second: 84323.1"
      ]
     },
     "metadata": {},
     "output_type": "display_data"
    },
    {
     "data": {
      "text/html": [
       "<pre>Finished parsing file /storage/homedir/dima/.scidyn/AMiner/aminer_papers_39.txt</pre>"
      ],
      "text/plain": [
       "Finished parsing file /storage/homedir/dima/.scidyn/AMiner/aminer_papers_39.txt"
      ]
     },
     "metadata": {},
     "output_type": "display_data"
    },
    {
     "data": {
      "text/html": [
       "<pre>Read 83659290 lines. Lines per second: 84612.4</pre>"
      ],
      "text/plain": [
       "Read 83659290 lines. Lines per second: 84612.4"
      ]
     },
     "metadata": {},
     "output_type": "display_data"
    },
    {
     "data": {
      "text/html": [
       "<pre>Finished parsing file /storage/homedir/dima/.scidyn/AMiner/aminer_papers_95.txt</pre>"
      ],
      "text/plain": [
       "Finished parsing file /storage/homedir/dima/.scidyn/AMiner/aminer_papers_95.txt"
      ]
     },
     "metadata": {},
     "output_type": "display_data"
    },
    {
     "data": {
      "text/html": [
       "<pre>Read 84494601 lines. Lines per second: 84986.5</pre>"
      ],
      "text/plain": [
       "Read 84494601 lines. Lines per second: 84986.5"
      ]
     },
     "metadata": {},
     "output_type": "display_data"
    },
    {
     "data": {
      "text/html": [
       "<pre>Finished parsing file /storage/homedir/dima/.scidyn/AMiner/aminer_papers_103.txt</pre>"
      ],
      "text/plain": [
       "Finished parsing file /storage/homedir/dima/.scidyn/AMiner/aminer_papers_103.txt"
      ]
     },
     "metadata": {},
     "output_type": "display_data"
    },
    {
     "data": {
      "text/html": [
       "<pre>Read 85331933 lines. Lines per second: 85383.9</pre>"
      ],
      "text/plain": [
       "Read 85331933 lines. Lines per second: 85383.9"
      ]
     },
     "metadata": {},
     "output_type": "display_data"
    },
    {
     "data": {
      "text/html": [
       "<pre>Finished parsing file /storage/homedir/dima/.scidyn/AMiner/aminer_papers_134.txt</pre>"
      ],
      "text/plain": [
       "Finished parsing file /storage/homedir/dima/.scidyn/AMiner/aminer_papers_134.txt"
      ]
     },
     "metadata": {},
     "output_type": "display_data"
    },
    {
     "data": {
      "text/html": [
       "<pre>Read 86165661 lines. Lines per second: 85790</pre>"
      ],
      "text/plain": [
       "Read 86165661 lines. Lines per second: 85790"
      ]
     },
     "metadata": {},
     "output_type": "display_data"
    },
    {
     "data": {
      "text/html": [
       "<pre>Finished parsing file /storage/homedir/dima/.scidyn/AMiner/aminer_papers_113.txt</pre>"
      ],
      "text/plain": [
       "Finished parsing file /storage/homedir/dima/.scidyn/AMiner/aminer_papers_113.txt"
      ]
     },
     "metadata": {},
     "output_type": "display_data"
    },
    {
     "data": {
      "text/html": [
       "<pre>Read 87165134 lines. Lines per second: 86306.8</pre>"
      ],
      "text/plain": [
       "Read 87165134 lines. Lines per second: 86306.8"
      ]
     },
     "metadata": {},
     "output_type": "display_data"
    },
    {
     "data": {
      "text/html": [
       "<pre>Read 87991270 lines. Lines per second: 86696.5</pre>"
      ],
      "text/plain": [
       "Read 87991270 lines. Lines per second: 86696.5"
      ]
     },
     "metadata": {},
     "output_type": "display_data"
    },
    {
     "data": {
      "text/html": [
       "<pre>Finished parsing file /storage/homedir/dima/.scidyn/AMiner/aminer_papers_124.txt</pre>"
      ],
      "text/plain": [
       "Finished parsing file /storage/homedir/dima/.scidyn/AMiner/aminer_papers_124.txt"
      ]
     },
     "metadata": {},
     "output_type": "display_data"
    },
    {
     "data": {
      "text/html": [
       "<pre>Read 88823819 lines. Lines per second: 87093.2</pre>"
      ],
      "text/plain": [
       "Read 88823819 lines. Lines per second: 87093.2"
      ]
     },
     "metadata": {},
     "output_type": "display_data"
    },
    {
     "data": {
      "text/html": [
       "<pre>Finished parsing file /storage/homedir/dima/.scidyn/AMiner/aminer_papers_79.txt</pre>"
      ],
      "text/plain": [
       "Finished parsing file /storage/homedir/dima/.scidyn/AMiner/aminer_papers_79.txt"
      ]
     },
     "metadata": {},
     "output_type": "display_data"
    },
    {
     "data": {
      "text/html": [
       "<pre>Read 89497999 lines. Lines per second: 87312.9</pre>"
      ],
      "text/plain": [
       "Read 89497999 lines. Lines per second: 87312.9"
      ]
     },
     "metadata": {},
     "output_type": "display_data"
    },
    {
     "data": {
      "text/html": [
       "<pre>Finished parsing file /storage/homedir/dima/.scidyn/AMiner/aminer_papers_141.txt</pre>"
      ],
      "text/plain": [
       "Finished parsing file /storage/homedir/dima/.scidyn/AMiner/aminer_papers_141.txt"
      ]
     },
     "metadata": {},
     "output_type": "display_data"
    },
    {
     "data": {
      "text/html": [
       "<pre>Read 90025749 lines. Lines per second: 87401.8</pre>"
      ],
      "text/plain": [
       "Read 90025749 lines. Lines per second: 87401.8"
      ]
     },
     "metadata": {},
     "output_type": "display_data"
    },
    {
     "data": {
      "text/html": [
       "<pre>Read 90311138 lines. Lines per second: 87231.7</pre>"
      ],
      "text/plain": [
       "Read 90311138 lines. Lines per second: 87231.7"
      ]
     },
     "metadata": {},
     "output_type": "display_data"
    },
    {
     "data": {
      "text/html": [
       "<pre>Read 90560241 lines. Lines per second: 87038</pre>"
      ],
      "text/plain": [
       "Read 90560241 lines. Lines per second: 87038"
      ]
     },
     "metadata": {},
     "output_type": "display_data"
    },
    {
     "data": {
      "text/html": [
       "<pre>Read 90755956 lines. Lines per second: 86799.8</pre>"
      ],
      "text/plain": [
       "Read 90755956 lines. Lines per second: 86799.8"
      ]
     },
     "metadata": {},
     "output_type": "display_data"
    },
    {
     "data": {
      "text/html": [
       "<pre>Finished parsing file /storage/homedir/dima/.scidyn/AMiner/aminer_papers_45.txt</pre>"
      ],
      "text/plain": [
       "Finished parsing file /storage/homedir/dima/.scidyn/AMiner/aminer_papers_45.txt"
      ]
     },
     "metadata": {},
     "output_type": "display_data"
    },
    {
     "data": {
      "text/html": [
       "<pre>Read 91068101 lines. Lines per second: 86638.5</pre>"
      ],
      "text/plain": [
       "Read 91068101 lines. Lines per second: 86638.5"
      ]
     },
     "metadata": {},
     "output_type": "display_data"
    },
    {
     "data": {
      "text/html": [
       "<pre>Read 91373436 lines. Lines per second: 86496.1</pre>"
      ],
      "text/plain": [
       "Read 91373436 lines. Lines per second: 86496.1"
      ]
     },
     "metadata": {},
     "output_type": "display_data"
    },
    {
     "data": {
      "text/html": [
       "<pre>Read 91680086 lines. Lines per second: 86362.7</pre>"
      ],
      "text/plain": [
       "Read 91680086 lines. Lines per second: 86362.7"
      ]
     },
     "metadata": {},
     "output_type": "display_data"
    },
    {
     "data": {
      "text/html": [
       "<pre>Read 91954856 lines. Lines per second: 86214.9</pre>"
      ],
      "text/plain": [
       "Read 91954856 lines. Lines per second: 86214.9"
      ]
     },
     "metadata": {},
     "output_type": "display_data"
    },
    {
     "data": {
      "text/html": [
       "<pre>Finished parsing file /storage/homedir/dima/.scidyn/AMiner/aminer_papers_36.txt</pre>"
      ],
      "text/plain": [
       "Finished parsing file /storage/homedir/dima/.scidyn/AMiner/aminer_papers_36.txt"
      ]
     },
     "metadata": {},
     "output_type": "display_data"
    },
    {
     "data": {
      "text/html": [
       "<pre>Read 92304565 lines. Lines per second: 86112.9</pre>"
      ],
      "text/plain": [
       "Read 92304565 lines. Lines per second: 86112.9"
      ]
     },
     "metadata": {},
     "output_type": "display_data"
    },
    {
     "data": {
      "text/html": [
       "<pre>Read 92673781 lines. Lines per second: 86040.6</pre>"
      ],
      "text/plain": [
       "Read 92673781 lines. Lines per second: 86040.6"
      ]
     },
     "metadata": {},
     "output_type": "display_data"
    },
    {
     "data": {
      "text/html": [
       "<pre>Finished parsing file /storage/homedir/dima/.scidyn/AMiner/aminer_papers_53.txt</pre>"
      ],
      "text/plain": [
       "Finished parsing file /storage/homedir/dima/.scidyn/AMiner/aminer_papers_53.txt"
      ]
     },
     "metadata": {},
     "output_type": "display_data"
    },
    {
     "data": {
      "text/html": [
       "<pre>Read 93078708 lines. Lines per second: 85979.8</pre>"
      ],
      "text/plain": [
       "Read 93078708 lines. Lines per second: 85979.8"
      ]
     },
     "metadata": {},
     "output_type": "display_data"
    },
    {
     "data": {
      "text/html": [
       "<pre>Read 93617426 lines. Lines per second: 86068.7</pre>"
      ],
      "text/plain": [
       "Read 93617426 lines. Lines per second: 86068.7"
      ]
     },
     "metadata": {},
     "output_type": "display_data"
    },
    {
     "data": {
      "text/html": [
       "<pre>Finished parsing file /storage/homedir/dima/.scidyn/AMiner/aminer_papers_0.txt</pre>"
      ],
      "text/plain": [
       "Finished parsing file /storage/homedir/dima/.scidyn/AMiner/aminer_papers_0.txt"
      ]
     },
     "metadata": {},
     "output_type": "display_data"
    },
    {
     "data": {
      "text/html": [
       "<pre>Read 94164619 lines. Lines per second: 86140.6</pre>"
      ],
      "text/plain": [
       "Read 94164619 lines. Lines per second: 86140.6"
      ]
     },
     "metadata": {},
     "output_type": "display_data"
    },
    {
     "data": {
      "text/html": [
       "<pre>Finished parsing file /storage/homedir/dima/.scidyn/AMiner/aminer_papers_112.txt</pre>"
      ],
      "text/plain": [
       "Finished parsing file /storage/homedir/dima/.scidyn/AMiner/aminer_papers_112.txt"
      ]
     },
     "metadata": {},
     "output_type": "display_data"
    },
    {
     "data": {
      "text/html": [
       "<pre>Read 95000000 lines. Lines per second: 86484.7</pre>"
      ],
      "text/plain": [
       "Read 95000000 lines. Lines per second: 86484.7"
      ]
     },
     "metadata": {},
     "output_type": "display_data"
    },
    {
     "data": {
      "text/html": [
       "<pre>Read 95709364 lines. Lines per second: 86694.4</pre>"
      ],
      "text/plain": [
       "Read 95709364 lines. Lines per second: 86694.4"
      ]
     },
     "metadata": {},
     "output_type": "display_data"
    },
    {
     "data": {
      "text/html": [
       "<pre>Finished parsing file /storage/homedir/dima/.scidyn/AMiner/aminer_papers_151.txt</pre>"
      ],
      "text/plain": [
       "Finished parsing file /storage/homedir/dima/.scidyn/AMiner/aminer_papers_151.txt"
      ]
     },
     "metadata": {},
     "output_type": "display_data"
    },
    {
     "data": {
      "text/html": [
       "<pre>Read 96496275 lines. Lines per second: 86962.6</pre>"
      ],
      "text/plain": [
       "Read 96496275 lines. Lines per second: 86962.6"
      ]
     },
     "metadata": {},
     "output_type": "display_data"
    },
    {
     "data": {
      "text/html": [
       "<pre>Finished parsing file /storage/homedir/dima/.scidyn/AMiner/aminer_papers_86.txt</pre>"
      ],
      "text/plain": [
       "Finished parsing file /storage/homedir/dima/.scidyn/AMiner/aminer_papers_86.txt"
      ]
     },
     "metadata": {},
     "output_type": "display_data"
    },
    {
     "data": {
      "text/html": [
       "<pre>Read 97495621 lines. Lines per second: 87410.7</pre>"
      ],
      "text/plain": [
       "Read 97495621 lines. Lines per second: 87410.7"
      ]
     },
     "metadata": {},
     "output_type": "display_data"
    },
    {
     "data": {
      "text/html": [
       "<pre>Finished parsing file /storage/homedir/dima/.scidyn/AMiner/aminer_papers_96.txt</pre>"
      ],
      "text/plain": [
       "Finished parsing file /storage/homedir/dima/.scidyn/AMiner/aminer_papers_96.txt"
      ]
     },
     "metadata": {},
     "output_type": "display_data"
    },
    {
     "data": {
      "text/html": [
       "<pre>Read 98149550 lines. Lines per second: 87576.1</pre>"
      ],
      "text/plain": [
       "Read 98149550 lines. Lines per second: 87576.1"
      ]
     },
     "metadata": {},
     "output_type": "display_data"
    },
    {
     "data": {
      "text/html": [
       "<pre>Read 98549805 lines. Lines per second: 87512</pre>"
      ],
      "text/plain": [
       "Read 98549805 lines. Lines per second: 87512"
      ]
     },
     "metadata": {},
     "output_type": "display_data"
    },
    {
     "data": {
      "text/html": [
       "<pre>Read 98905819 lines. Lines per second: 87417.6</pre>"
      ],
      "text/plain": [
       "Read 98905819 lines. Lines per second: 87417.6"
      ]
     },
     "metadata": {},
     "output_type": "display_data"
    },
    {
     "data": {
      "text/html": [
       "<pre>Finished parsing file /storage/homedir/dima/.scidyn/AMiner/aminer_papers_56.txt</pre>"
      ],
      "text/plain": [
       "Finished parsing file /storage/homedir/dima/.scidyn/AMiner/aminer_papers_56.txt"
      ]
     },
     "metadata": {},
     "output_type": "display_data"
    },
    {
     "data": {
      "text/html": [
       "<pre>Read 99660166 lines. Lines per second: 87639.6</pre>"
      ],
      "text/plain": [
       "Read 99660166 lines. Lines per second: 87639.6"
      ]
     },
     "metadata": {},
     "output_type": "display_data"
    },
    {
     "data": {
      "text/html": [
       "<pre>Finished parsing file /storage/homedir/dima/.scidyn/AMiner/aminer_papers_106.txt</pre>"
      ],
      "text/plain": [
       "Finished parsing file /storage/homedir/dima/.scidyn/AMiner/aminer_papers_106.txt"
      ]
     },
     "metadata": {},
     "output_type": "display_data"
    },
    {
     "data": {
      "text/html": [
       "<pre>Read 100661486 lines. Lines per second: 88088.2</pre>"
      ],
      "text/plain": [
       "Read 100661486 lines. Lines per second: 88088.2"
      ]
     },
     "metadata": {},
     "output_type": "display_data"
    },
    {
     "data": {
      "text/html": [
       "<pre>Finished parsing file /storage/homedir/dima/.scidyn/AMiner/aminer_papers_90.txt</pre>"
      ],
      "text/plain": [
       "Finished parsing file /storage/homedir/dima/.scidyn/AMiner/aminer_papers_90.txt"
      ]
     },
     "metadata": {},
     "output_type": "display_data"
    },
    {
     "data": {
      "text/html": [
       "<pre>Read 101358376 lines. Lines per second: 88305.5</pre>"
      ],
      "text/plain": [
       "Read 101358376 lines. Lines per second: 88305.5"
      ]
     },
     "metadata": {},
     "output_type": "display_data"
    },
    {
     "data": {
      "text/html": [
       "<pre>Read 101938949 lines. Lines per second: 88397.7</pre>"
      ],
      "text/plain": [
       "Read 101938949 lines. Lines per second: 88397.7"
      ]
     },
     "metadata": {},
     "output_type": "display_data"
    },
    {
     "data": {
      "text/html": [
       "<pre>Finished parsing file /storage/homedir/dima/.scidyn/AMiner/aminer_papers_150.txt</pre>"
      ],
      "text/plain": [
       "Finished parsing file /storage/homedir/dima/.scidyn/AMiner/aminer_papers_150.txt"
      ]
     },
     "metadata": {},
     "output_type": "display_data"
    },
    {
     "data": {
      "text/html": [
       "<pre>Read 102207511 lines. Lines per second: 88224.4</pre>"
      ],
      "text/plain": [
       "Read 102207511 lines. Lines per second: 88224.4"
      ]
     },
     "metadata": {},
     "output_type": "display_data"
    },
    {
     "data": {
      "text/html": [
       "<pre>Read 102462208 lines. Lines per second: 88049</pre>"
      ],
      "text/plain": [
       "Read 102462208 lines. Lines per second: 88049"
      ]
     },
     "metadata": {},
     "output_type": "display_data"
    },
    {
     "data": {
      "text/html": [
       "<pre>Read 102663789 lines. Lines per second: 87834.2</pre>"
      ],
      "text/plain": [
       "Read 102663789 lines. Lines per second: 87834.2"
      ]
     },
     "metadata": {},
     "output_type": "display_data"
    },
    {
     "data": {
      "text/html": [
       "<pre>Read 102859522 lines. Lines per second: 87606.1</pre>"
      ],
      "text/plain": [
       "Read 102859522 lines. Lines per second: 87606.1"
      ]
     },
     "metadata": {},
     "output_type": "display_data"
    },
    {
     "data": {
      "text/html": [
       "<pre>Finished parsing file /storage/homedir/dima/.scidyn/AMiner/aminer_papers_65.txt</pre>"
      ],
      "text/plain": [
       "Finished parsing file /storage/homedir/dima/.scidyn/AMiner/aminer_papers_65.txt"
      ]
     },
     "metadata": {},
     "output_type": "display_data"
    },
    {
     "data": {
      "text/html": [
       "<pre>Read 103165711 lines. Lines per second: 87469.5</pre>"
      ],
      "text/plain": [
       "Read 103165711 lines. Lines per second: 87469.5"
      ]
     },
     "metadata": {},
     "output_type": "display_data"
    },
    {
     "data": {
      "text/html": [
       "<pre>Finished parsing file /storage/homedir/dima/.scidyn/AMiner/aminer_papers_81.txt</pre>"
      ],
      "text/plain": [
       "Finished parsing file /storage/homedir/dima/.scidyn/AMiner/aminer_papers_81.txt"
      ]
     },
     "metadata": {},
     "output_type": "display_data"
    },
    {
     "data": {
      "text/html": [
       "<pre>Read 104165871 lines. Lines per second: 87903.2</pre>"
      ],
      "text/plain": [
       "Read 104165871 lines. Lines per second: 87903.2"
      ]
     },
     "metadata": {},
     "output_type": "display_data"
    },
    {
     "data": {
      "text/html": [
       "<pre>Finished parsing file /storage/homedir/dima/.scidyn/AMiner/aminer_papers_136.txt</pre>"
      ],
      "text/plain": [
       "Finished parsing file /storage/homedir/dima/.scidyn/AMiner/aminer_papers_136.txt"
      ]
     },
     "metadata": {},
     "output_type": "display_data"
    },
    {
     "data": {
      "text/html": [
       "<pre>Read 105164928 lines. Lines per second: 88353.9</pre>"
      ],
      "text/plain": [
       "Read 105164928 lines. Lines per second: 88353.9"
      ]
     },
     "metadata": {},
     "output_type": "display_data"
    },
    {
     "data": {
      "text/html": [
       "<pre>Finished parsing file /storage/homedir/dima/.scidyn/AMiner/aminer_papers_126.txt</pre>"
      ],
      "text/plain": [
       "Finished parsing file /storage/homedir/dima/.scidyn/AMiner/aminer_papers_126.txt"
      ]
     },
     "metadata": {},
     "output_type": "display_data"
    },
    {
     "data": {
      "text/html": [
       "<pre>Read 106164614 lines. Lines per second: 88799.9</pre>"
      ],
      "text/plain": [
       "Read 106164614 lines. Lines per second: 88799.9"
      ]
     },
     "metadata": {},
     "output_type": "display_data"
    },
    {
     "data": {
      "text/html": [
       "<pre>Finished parsing file /storage/homedir/dima/.scidyn/AMiner/aminer_papers_87.txt</pre>"
      ],
      "text/plain": [
       "Finished parsing file /storage/homedir/dima/.scidyn/AMiner/aminer_papers_87.txt"
      ]
     },
     "metadata": {},
     "output_type": "display_data"
    },
    {
     "data": {
      "text/html": [
       "<pre>Read 107000000 lines. Lines per second: 89127.5</pre>"
      ],
      "text/plain": [
       "Read 107000000 lines. Lines per second: 89127.5"
      ]
     },
     "metadata": {},
     "output_type": "display_data"
    },
    {
     "data": {
      "text/html": [
       "<pre>Finished parsing file /storage/homedir/dima/.scidyn/AMiner/aminer_papers_109.txt</pre>"
      ],
      "text/plain": [
       "Finished parsing file /storage/homedir/dima/.scidyn/AMiner/aminer_papers_109.txt"
      ]
     },
     "metadata": {},
     "output_type": "display_data"
    },
    {
     "data": {
      "text/html": [
       "<pre>Read 108000000 lines. Lines per second: 89569.7</pre>"
      ],
      "text/plain": [
       "Read 108000000 lines. Lines per second: 89569.7"
      ]
     },
     "metadata": {},
     "output_type": "display_data"
    },
    {
     "data": {
      "text/html": [
       "<pre>Read 108802422 lines. Lines per second: 89817.4</pre>"
      ],
      "text/plain": [
       "Read 108802422 lines. Lines per second: 89817.4"
      ]
     },
     "metadata": {},
     "output_type": "display_data"
    },
    {
     "data": {
      "text/html": [
       "<pre>Finished parsing file /storage/homedir/dima/.scidyn/AMiner/aminer_papers_143.txt</pre>"
      ],
      "text/plain": [
       "Finished parsing file /storage/homedir/dima/.scidyn/AMiner/aminer_papers_143.txt"
      ]
     },
     "metadata": {},
     "output_type": "display_data"
    },
    {
     "data": {
      "text/html": [
       "<pre>Read 109661940 lines. Lines per second: 90122.3</pre>"
      ],
      "text/plain": [
       "Read 109661940 lines. Lines per second: 90122.3"
      ]
     },
     "metadata": {},
     "output_type": "display_data"
    },
    {
     "data": {
      "text/html": [
       "<pre>Finished parsing file /storage/homedir/dima/.scidyn/AMiner/aminer_papers_117.txt</pre>"
      ],
      "text/plain": [
       "Finished parsing file /storage/homedir/dima/.scidyn/AMiner/aminer_papers_117.txt"
      ]
     },
     "metadata": {},
     "output_type": "display_data"
    },
    {
     "data": {
      "text/html": [
       "<pre>Read 110203823 lines. Lines per second: 90194.8</pre>"
      ],
      "text/plain": [
       "Read 110203823 lines. Lines per second: 90194.8"
      ]
     },
     "metadata": {},
     "output_type": "display_data"
    },
    {
     "data": {
      "text/html": [
       "<pre>Read 110541639 lines. Lines per second: 90087.1</pre>"
      ],
      "text/plain": [
       "Read 110541639 lines. Lines per second: 90087.1"
      ]
     },
     "metadata": {},
     "output_type": "display_data"
    },
    {
     "data": {
      "text/html": [
       "<pre>Read 110890857 lines. Lines per second: 89998.8</pre>"
      ],
      "text/plain": [
       "Read 110890857 lines. Lines per second: 89998.8"
      ]
     },
     "metadata": {},
     "output_type": "display_data"
    },
    {
     "data": {
      "text/html": [
       "<pre>Finished parsing file /storage/homedir/dima/.scidyn/AMiner/aminer_papers_17.txt</pre>"
      ],
      "text/plain": [
       "Finished parsing file /storage/homedir/dima/.scidyn/AMiner/aminer_papers_17.txt"
      ]
     },
     "metadata": {},
     "output_type": "display_data"
    },
    {
     "data": {
      "text/html": [
       "<pre>Read 111660471 lines. Lines per second: 90234.6</pre>"
      ],
      "text/plain": [
       "Read 111660471 lines. Lines per second: 90234.6"
      ]
     },
     "metadata": {},
     "output_type": "display_data"
    },
    {
     "data": {
      "text/html": [
       "<pre>Finished parsing file /storage/homedir/dima/.scidyn/AMiner/aminer_papers_127.txt</pre>"
      ],
      "text/plain": [
       "Finished parsing file /storage/homedir/dima/.scidyn/AMiner/aminer_papers_127.txt"
      ]
     },
     "metadata": {},
     "output_type": "display_data"
    },
    {
     "data": {
      "text/html": [
       "<pre>Read 112297179 lines. Lines per second: 90346.6</pre>"
      ],
      "text/plain": [
       "Read 112297179 lines. Lines per second: 90346.6"
      ]
     },
     "metadata": {},
     "output_type": "display_data"
    },
    {
     "data": {
      "text/html": [
       "<pre>Read 112701140 lines. Lines per second: 90275.4</pre>"
      ],
      "text/plain": [
       "Read 112701140 lines. Lines per second: 90275.4"
      ]
     },
     "metadata": {},
     "output_type": "display_data"
    },
    {
     "data": {
      "text/html": [
       "<pre>Finished parsing file /storage/homedir/dima/.scidyn/AMiner/aminer_papers_58.txt</pre>"
      ],
      "text/plain": [
       "Finished parsing file /storage/homedir/dima/.scidyn/AMiner/aminer_papers_58.txt"
      ]
     },
     "metadata": {},
     "output_type": "display_data"
    },
    {
     "data": {
      "text/html": [
       "<pre>Read 113165259 lines. Lines per second: 90277.4</pre>"
      ],
      "text/plain": [
       "Read 113165259 lines. Lines per second: 90277.4"
      ]
     },
     "metadata": {},
     "output_type": "display_data"
    },
    {
     "data": {
      "text/html": [
       "<pre>Finished parsing file /storage/homedir/dima/.scidyn/AMiner/aminer_papers_99.txt</pre>"
      ],
      "text/plain": [
       "Finished parsing file /storage/homedir/dima/.scidyn/AMiner/aminer_papers_99.txt"
      ]
     },
     "metadata": {},
     "output_type": "display_data"
    },
    {
     "data": {
      "text/html": [
       "<pre>Read 114165380 lines. Lines per second: 90676.8</pre>"
      ],
      "text/plain": [
       "Read 114165380 lines. Lines per second: 90676.8"
      ]
     },
     "metadata": {},
     "output_type": "display_data"
    },
    {
     "data": {
      "text/html": [
       "<pre>Finished parsing file /storage/homedir/dima/.scidyn/AMiner/aminer_papers_84.txt</pre>"
      ],
      "text/plain": [
       "Finished parsing file /storage/homedir/dima/.scidyn/AMiner/aminer_papers_84.txt"
      ]
     },
     "metadata": {},
     "output_type": "display_data"
    },
    {
     "data": {
      "text/html": [
       "<pre>Read 115165244 lines. Lines per second: 91080</pre>"
      ],
      "text/plain": [
       "Read 115165244 lines. Lines per second: 91080"
      ]
     },
     "metadata": {},
     "output_type": "display_data"
    },
    {
     "data": {
      "text/html": [
       "<pre>Finished parsing file /storage/homedir/dima/.scidyn/AMiner/aminer_papers_129.txt</pre>"
      ],
      "text/plain": [
       "Finished parsing file /storage/homedir/dima/.scidyn/AMiner/aminer_papers_129.txt"
      ]
     },
     "metadata": {},
     "output_type": "display_data"
    },
    {
     "data": {
      "text/html": [
       "<pre>Read 116165142 lines. Lines per second: 91488.2</pre>"
      ],
      "text/plain": [
       "Read 116165142 lines. Lines per second: 91488.2"
      ]
     },
     "metadata": {},
     "output_type": "display_data"
    },
    {
     "data": {
      "text/html": [
       "<pre>Finished parsing file /storage/homedir/dima/.scidyn/AMiner/aminer_papers_133.txt</pre>"
      ],
      "text/plain": [
       "Finished parsing file /storage/homedir/dima/.scidyn/AMiner/aminer_papers_133.txt"
      ]
     },
     "metadata": {},
     "output_type": "display_data"
    },
    {
     "data": {
      "text/html": [
       "<pre>Read 117033975 lines. Lines per second: 91789.2</pre>"
      ],
      "text/plain": [
       "Read 117033975 lines. Lines per second: 91789.2"
      ]
     },
     "metadata": {},
     "output_type": "display_data"
    },
    {
     "data": {
      "text/html": [
       "<pre>Read 117373467 lines. Lines per second: 91685.2</pre>"
      ],
      "text/plain": [
       "Read 117373467 lines. Lines per second: 91685.2"
      ]
     },
     "metadata": {},
     "output_type": "display_data"
    },
    {
     "data": {
      "text/html": [
       "<pre>Read 117713518 lines. Lines per second: 91557.3</pre>"
      ],
      "text/plain": [
       "Read 117713518 lines. Lines per second: 91557.3"
      ]
     },
     "metadata": {},
     "output_type": "display_data"
    },
    {
     "data": {
      "text/html": [
       "<pre>Finished parsing file /storage/homedir/dima/.scidyn/AMiner/aminer_papers_15.txt</pre>"
      ],
      "text/plain": [
       "Finished parsing file /storage/homedir/dima/.scidyn/AMiner/aminer_papers_15.txt"
      ]
     },
     "metadata": {},
     "output_type": "display_data"
    },
    {
     "data": {
      "text/html": [
       "<pre>Read 118096902 lines. Lines per second: 91463.8</pre>"
      ],
      "text/plain": [
       "Read 118096902 lines. Lines per second: 91463.8"
      ]
     },
     "metadata": {},
     "output_type": "display_data"
    },
    {
     "data": {
      "text/html": [
       "<pre>Finished parsing file /storage/homedir/dima/.scidyn/AMiner/aminer_papers_73.txt</pre>"
      ],
      "text/plain": [
       "Finished parsing file /storage/homedir/dima/.scidyn/AMiner/aminer_papers_73.txt"
      ]
     },
     "metadata": {},
     "output_type": "display_data"
    },
    {
     "data": {
      "text/html": [
       "<pre>Read 119165095 lines. Lines per second: 91878.6</pre>"
      ],
      "text/plain": [
       "Read 119165095 lines. Lines per second: 91878.6"
      ]
     },
     "metadata": {},
     "output_type": "display_data"
    },
    {
     "data": {
      "text/html": [
       "<pre>Finished parsing file /storage/homedir/dima/.scidyn/AMiner/aminer_papers_102.txt</pre>"
      ],
      "text/plain": [
       "Finished parsing file /storage/homedir/dima/.scidyn/AMiner/aminer_papers_102.txt"
      ]
     },
     "metadata": {},
     "output_type": "display_data"
    },
    {
     "data": {
      "text/html": [
       "<pre>Read 120165689 lines. Lines per second: 92239.7</pre>"
      ],
      "text/plain": [
       "Read 120165689 lines. Lines per second: 92239.7"
      ]
     },
     "metadata": {},
     "output_type": "display_data"
    },
    {
     "data": {
      "text/html": [
       "<pre>Finished parsing file /storage/homedir/dima/.scidyn/AMiner/aminer_papers_80.txt</pre>"
      ],
      "text/plain": [
       "Finished parsing file /storage/homedir/dima/.scidyn/AMiner/aminer_papers_80.txt"
      ]
     },
     "metadata": {},
     "output_type": "display_data"
    },
    {
     "data": {
      "text/html": [
       "<pre>Read 121028913 lines. Lines per second: 92529</pre>"
      ],
      "text/plain": [
       "Read 121028913 lines. Lines per second: 92529"
      ]
     },
     "metadata": {},
     "output_type": "display_data"
    },
    {
     "data": {
      "text/html": [
       "<pre>Read 121325005 lines. Lines per second: 92371</pre>"
      ],
      "text/plain": [
       "Read 121325005 lines. Lines per second: 92371"
      ]
     },
     "metadata": {},
     "output_type": "display_data"
    },
    {
     "data": {
      "text/html": [
       "<pre>Read 121570289 lines. Lines per second: 92205.1</pre>"
      ],
      "text/plain": [
       "Read 121570289 lines. Lines per second: 92205.1"
      ]
     },
     "metadata": {},
     "output_type": "display_data"
    },
    {
     "data": {
      "text/html": [
       "<pre>Read 121969176 lines. Lines per second: 92112.4</pre>"
      ],
      "text/plain": [
       "Read 121969176 lines. Lines per second: 92112.4"
      ]
     },
     "metadata": {},
     "output_type": "display_data"
    },
    {
     "data": {
      "text/html": [
       "<pre>Finished parsing file /storage/homedir/dima/.scidyn/AMiner/aminer_papers_47.txt</pre>"
      ],
      "text/plain": [
       "Finished parsing file /storage/homedir/dima/.scidyn/AMiner/aminer_papers_47.txt"
      ]
     },
     "metadata": {},
     "output_type": "display_data"
    },
    {
     "data": {
      "text/html": [
       "<pre>Read 122271110 lines. Lines per second: 91972</pre>"
      ],
      "text/plain": [
       "Read 122271110 lines. Lines per second: 91972"
      ]
     },
     "metadata": {},
     "output_type": "display_data"
    },
    {
     "data": {
      "text/html": [
       "<pre>Read 122580730 lines. Lines per second: 91854.8</pre>"
      ],
      "text/plain": [
       "Read 122580730 lines. Lines per second: 91854.8"
      ]
     },
     "metadata": {},
     "output_type": "display_data"
    },
    {
     "data": {
      "text/html": [
       "<pre>Read 122921520 lines. Lines per second: 91737.4</pre>"
      ],
      "text/plain": [
       "Read 122921520 lines. Lines per second: 91737.4"
      ]
     },
     "metadata": {},
     "output_type": "display_data"
    },
    {
     "data": {
      "text/html": [
       "<pre>Finished parsing file /storage/homedir/dima/.scidyn/AMiner/aminer_papers_16.txt</pre>"
      ],
      "text/plain": [
       "Finished parsing file /storage/homedir/dima/.scidyn/AMiner/aminer_papers_16.txt"
      ]
     },
     "metadata": {},
     "output_type": "display_data"
    },
    {
     "data": {
      "text/html": [
       "<pre>Read 123399278 lines. Lines per second: 91744.6</pre>"
      ],
      "text/plain": [
       "Read 123399278 lines. Lines per second: 91744.6"
      ]
     },
     "metadata": {},
     "output_type": "display_data"
    },
    {
     "data": {
      "text/html": [
       "<pre>Finished parsing file /storage/homedir/dima/.scidyn/AMiner/aminer_papers_152.txt</pre>"
      ],
      "text/plain": [
       "Finished parsing file /storage/homedir/dima/.scidyn/AMiner/aminer_papers_152.txt"
      ]
     },
     "metadata": {},
     "output_type": "display_data"
    },
    {
     "data": {
      "text/html": [
       "<pre>Read 124000000 lines. Lines per second: 91833.9</pre>"
      ],
      "text/plain": [
       "Read 124000000 lines. Lines per second: 91833.9"
      ]
     },
     "metadata": {},
     "output_type": "display_data"
    },
    {
     "data": {
      "text/html": [
       "<pre>Read 124336613 lines. Lines per second: 91727.6</pre>"
      ],
      "text/plain": [
       "Read 124336613 lines. Lines per second: 91727.6"
      ]
     },
     "metadata": {},
     "output_type": "display_data"
    },
    {
     "data": {
      "text/html": [
       "<pre>Read 124683403 lines. Lines per second: 91639.8</pre>"
      ],
      "text/plain": [
       "Read 124683403 lines. Lines per second: 91639.8"
      ]
     },
     "metadata": {},
     "output_type": "display_data"
    },
    {
     "data": {
      "text/html": [
       "<pre>Finished parsing file /storage/homedir/dima/.scidyn/AMiner/aminer_papers_12.txt</pre>"
      ],
      "text/plain": [
       "Finished parsing file /storage/homedir/dima/.scidyn/AMiner/aminer_papers_12.txt"
      ]
     },
     "metadata": {},
     "output_type": "display_data"
    },
    {
     "data": {
      "text/html": [
       "<pre>Read 125000000 lines. Lines per second: 91508.1</pre>"
      ],
      "text/plain": [
       "Read 125000000 lines. Lines per second: 91508.1"
      ]
     },
     "metadata": {},
     "output_type": "display_data"
    },
    {
     "data": {
      "text/html": [
       "<pre>Finished parsing file /storage/homedir/dima/.scidyn/AMiner/aminer_papers_110.txt</pre>"
      ],
      "text/plain": [
       "Finished parsing file /storage/homedir/dima/.scidyn/AMiner/aminer_papers_110.txt"
      ]
     },
     "metadata": {},
     "output_type": "display_data"
    },
    {
     "data": {
      "text/html": [
       "<pre>Read 126000000 lines. Lines per second: 91900.7</pre>"
      ],
      "text/plain": [
       "Read 126000000 lines. Lines per second: 91900.7"
      ]
     },
     "metadata": {},
     "output_type": "display_data"
    },
    {
     "data": {
      "text/html": [
       "<pre>Read 126344980 lines. Lines per second: 91801.3</pre>"
      ],
      "text/plain": [
       "Read 126344980 lines. Lines per second: 91801.3"
      ]
     },
     "metadata": {},
     "output_type": "display_data"
    },
    {
     "data": {
      "text/html": [
       "<pre>Read 126688954 lines. Lines per second: 91696.3</pre>"
      ],
      "text/plain": [
       "Read 126688954 lines. Lines per second: 91696.3"
      ]
     },
     "metadata": {},
     "output_type": "display_data"
    },
    {
     "data": {
      "text/html": [
       "<pre>Finished parsing file /storage/homedir/dima/.scidyn/AMiner/aminer_papers_31.txt</pre>"
      ],
      "text/plain": [
       "Finished parsing file /storage/homedir/dima/.scidyn/AMiner/aminer_papers_31.txt"
      ]
     },
     "metadata": {},
     "output_type": "display_data"
    },
    {
     "data": {
      "text/html": [
       "<pre>Read 127000000 lines. Lines per second: 91587.4</pre>"
      ],
      "text/plain": [
       "Read 127000000 lines. Lines per second: 91587.4"
      ]
     },
     "metadata": {},
     "output_type": "display_data"
    },
    {
     "data": {
      "text/html": [
       "<pre>Read 127666287 lines. Lines per second: 91729.2</pre>"
      ],
      "text/plain": [
       "Read 127666287 lines. Lines per second: 91729.2"
      ]
     },
     "metadata": {},
     "output_type": "display_data"
    },
    {
     "data": {
      "text/html": [
       "<pre>Finished parsing file /storage/homedir/dima/.scidyn/AMiner/aminer_papers_149.txt</pre>"
      ],
      "text/plain": [
       "Finished parsing file /storage/homedir/dima/.scidyn/AMiner/aminer_papers_149.txt"
      ]
     },
     "metadata": {},
     "output_type": "display_data"
    },
    {
     "data": {
      "text/html": [
       "<pre>Read 128257026 lines. Lines per second: 91816.9</pre>"
      ],
      "text/plain": [
       "Read 128257026 lines. Lines per second: 91816.9"
      ]
     },
     "metadata": {},
     "output_type": "display_data"
    },
    {
     "data": {
      "text/html": [
       "<pre>Read 128900774 lines. Lines per second: 91911.4</pre>"
      ],
      "text/plain": [
       "Read 128900774 lines. Lines per second: 91911.4"
      ]
     },
     "metadata": {},
     "output_type": "display_data"
    },
    {
     "data": {
      "text/html": [
       "<pre>Finished parsing file /storage/homedir/dima/.scidyn/AMiner/aminer_papers_69.txt</pre>"
      ],
      "text/plain": [
       "Finished parsing file /storage/homedir/dima/.scidyn/AMiner/aminer_papers_69.txt"
      ]
     },
     "metadata": {},
     "output_type": "display_data"
    },
    {
     "data": {
      "text/html": [
       "<pre>Read 129827776 lines. Lines per second: 92199.5</pre>"
      ],
      "text/plain": [
       "Read 129827776 lines. Lines per second: 92199.5"
      ]
     },
     "metadata": {},
     "output_type": "display_data"
    },
    {
     "data": {
      "text/html": [
       "<pre>Finished parsing file /storage/homedir/dima/.scidyn/AMiner/aminer_papers_131.txt</pre>"
      ],
      "text/plain": [
       "Finished parsing file /storage/homedir/dima/.scidyn/AMiner/aminer_papers_131.txt"
      ]
     },
     "metadata": {},
     "output_type": "display_data"
    },
    {
     "data": {
      "text/html": [
       "<pre>Read 130825498 lines. Lines per second: 92572</pre>"
      ],
      "text/plain": [
       "Read 130825498 lines. Lines per second: 92572"
      ]
     },
     "metadata": {},
     "output_type": "display_data"
    },
    {
     "data": {
      "text/html": [
       "<pre>Finished parsing file /storage/homedir/dima/.scidyn/AMiner/aminer_papers_105.txt</pre>"
      ],
      "text/plain": [
       "Finished parsing file /storage/homedir/dima/.scidyn/AMiner/aminer_papers_105.txt"
      ]
     },
     "metadata": {},
     "output_type": "display_data"
    },
    {
     "data": {
      "text/html": [
       "<pre>Read 131274384 lines. Lines per second: 92558.6</pre>"
      ],
      "text/plain": [
       "Read 131274384 lines. Lines per second: 92558.6"
      ]
     },
     "metadata": {},
     "output_type": "display_data"
    },
    {
     "data": {
      "text/html": [
       "<pre>Read 131650348 lines. Lines per second: 92464.9</pre>"
      ],
      "text/plain": [
       "Read 131650348 lines. Lines per second: 92464.9"
      ]
     },
     "metadata": {},
     "output_type": "display_data"
    },
    {
     "data": {
      "text/html": [
       "<pre>Read 131988331 lines. Lines per second: 92378.9</pre>"
      ],
      "text/plain": [
       "Read 131988331 lines. Lines per second: 92378.9"
      ]
     },
     "metadata": {},
     "output_type": "display_data"
    },
    {
     "data": {
      "text/html": [
       "<pre>Finished parsing file /storage/homedir/dima/.scidyn/AMiner/aminer_papers_37.txt</pre>"
      ],
      "text/plain": [
       "Finished parsing file /storage/homedir/dima/.scidyn/AMiner/aminer_papers_37.txt"
      ]
     },
     "metadata": {},
     "output_type": "display_data"
    },
    {
     "data": {
      "text/html": [
       "<pre>Read 132364672 lines. Lines per second: 92294.2</pre>"
      ],
      "text/plain": [
       "Read 132364672 lines. Lines per second: 92294.2"
      ]
     },
     "metadata": {},
     "output_type": "display_data"
    },
    {
     "data": {
      "text/html": [
       "<pre>Read 132721421 lines. Lines per second: 92194.5</pre>"
      ],
      "text/plain": [
       "Read 132721421 lines. Lines per second: 92194.5"
      ]
     },
     "metadata": {},
     "output_type": "display_data"
    },
    {
     "data": {
      "text/html": [
       "<pre>Finished parsing file /storage/homedir/dima/.scidyn/AMiner/aminer_papers_63.txt</pre>"
      ],
      "text/plain": [
       "Finished parsing file /storage/homedir/dima/.scidyn/AMiner/aminer_papers_63.txt"
      ]
     },
     "metadata": {},
     "output_type": "display_data"
    },
    {
     "data": {
      "text/html": [
       "<pre>Read 133019802 lines. Lines per second: 92073.8</pre>"
      ],
      "text/plain": [
       "Read 133019802 lines. Lines per second: 92073.8"
      ]
     },
     "metadata": {},
     "output_type": "display_data"
    },
    {
     "data": {
      "text/html": [
       "<pre>Read 133492208 lines. Lines per second: 92067.2</pre>"
      ],
      "text/plain": [
       "Read 133492208 lines. Lines per second: 92067.2"
      ]
     },
     "metadata": {},
     "output_type": "display_data"
    },
    {
     "data": {
      "text/html": [
       "<pre>Finished parsing file /storage/homedir/dima/.scidyn/AMiner/aminer_papers_154.txt</pre>"
      ],
      "text/plain": [
       "Finished parsing file /storage/homedir/dima/.scidyn/AMiner/aminer_papers_154.txt"
      ]
     },
     "metadata": {},
     "output_type": "display_data"
    },
    {
     "data": {
      "text/html": [
       "<pre>Read 133936009 lines. Lines per second: 92016.5</pre>"
      ],
      "text/plain": [
       "Read 133936009 lines. Lines per second: 92016.5"
      ]
     },
     "metadata": {},
     "output_type": "display_data"
    },
    {
     "data": {
      "text/html": [
       "<pre>Finished parsing file /storage/homedir/dima/.scidyn/AMiner/aminer_papers_138.txt</pre>"
      ],
      "text/plain": [
       "Finished parsing file /storage/homedir/dima/.scidyn/AMiner/aminer_papers_138.txt"
      ]
     },
     "metadata": {},
     "output_type": "display_data"
    },
    {
     "data": {
      "text/html": [
       "<pre>Read 134936763 lines. Lines per second: 92361</pre>"
      ],
      "text/plain": [
       "Read 134936763 lines. Lines per second: 92361"
      ]
     },
     "metadata": {},
     "output_type": "display_data"
    },
    {
     "data": {
      "text/html": [
       "<pre>Finished parsing file /storage/homedir/dima/.scidyn/AMiner/aminer_papers_92.txt</pre>"
      ],
      "text/plain": [
       "Finished parsing file /storage/homedir/dima/.scidyn/AMiner/aminer_papers_92.txt"
      ]
     },
     "metadata": {},
     "output_type": "display_data"
    },
    {
     "data": {
      "text/html": [
       "<pre>Read 135936093 lines. Lines per second: 92699.8</pre>"
      ],
      "text/plain": [
       "Read 135936093 lines. Lines per second: 92699.8"
      ]
     },
     "metadata": {},
     "output_type": "display_data"
    },
    {
     "data": {
      "text/html": [
       "<pre>Finished parsing file /storage/homedir/dima/.scidyn/AMiner/aminer_papers_130.txt</pre>"
      ],
      "text/plain": [
       "Finished parsing file /storage/homedir/dima/.scidyn/AMiner/aminer_papers_130.txt"
      ]
     },
     "metadata": {},
     "output_type": "display_data"
    },
    {
     "data": {
      "text/html": [
       "<pre>Read 136936366 lines. Lines per second: 93024.1</pre>"
      ],
      "text/plain": [
       "Read 136936366 lines. Lines per second: 93024.1"
      ]
     },
     "metadata": {},
     "output_type": "display_data"
    },
    {
     "data": {
      "text/html": [
       "<pre>Finished parsing file /storage/homedir/dima/.scidyn/AMiner/aminer_papers_83.txt</pre>"
      ],
      "text/plain": [
       "Finished parsing file /storage/homedir/dima/.scidyn/AMiner/aminer_papers_83.txt"
      ]
     },
     "metadata": {},
     "output_type": "display_data"
    },
    {
     "data": {
      "text/html": [
       "<pre>Read 137797320 lines. Lines per second: 93281.7</pre>"
      ],
      "text/plain": [
       "Read 137797320 lines. Lines per second: 93281.7"
      ]
     },
     "metadata": {},
     "output_type": "display_data"
    },
    {
     "data": {
      "text/html": [
       "<pre>Read 138092335 lines. Lines per second: 93151.7</pre>"
      ],
      "text/plain": [
       "Read 138092335 lines. Lines per second: 93151.7"
      ]
     },
     "metadata": {},
     "output_type": "display_data"
    },
    {
     "data": {
      "text/html": [
       "<pre>Read 138449343 lines. Lines per second: 93044.9</pre>"
      ],
      "text/plain": [
       "Read 138449343 lines. Lines per second: 93044.9"
      ]
     },
     "metadata": {},
     "output_type": "display_data"
    },
    {
     "data": {
      "text/html": [
       "<pre>Read 138756565 lines. Lines per second: 92919.1</pre>"
      ],
      "text/plain": [
       "Read 138756565 lines. Lines per second: 92919.1"
      ]
     },
     "metadata": {},
     "output_type": "display_data"
    },
    {
     "data": {
      "text/html": [
       "<pre>Finished parsing file /storage/homedir/dima/.scidyn/AMiner/aminer_papers_46.txt</pre>"
      ],
      "text/plain": [
       "Finished parsing file /storage/homedir/dima/.scidyn/AMiner/aminer_papers_46.txt"
      ]
     },
     "metadata": {},
     "output_type": "display_data"
    },
    {
     "data": {
      "text/html": [
       "<pre>Read 139063066 lines. Lines per second: 92809</pre>"
      ],
      "text/plain": [
       "Read 139063066 lines. Lines per second: 92809"
      ]
     },
     "metadata": {},
     "output_type": "display_data"
    },
    {
     "data": {
      "text/html": [
       "<pre>Read 139505054 lines. Lines per second: 92781.9</pre>"
      ],
      "text/plain": [
       "Read 139505054 lines. Lines per second: 92781.9"
      ]
     },
     "metadata": {},
     "output_type": "display_data"
    },
    {
     "data": {
      "text/html": [
       "<pre>Finished parsing file /storage/homedir/dima/.scidyn/AMiner/aminer_papers_59.txt</pre>"
      ],
      "text/plain": [
       "Finished parsing file /storage/homedir/dima/.scidyn/AMiner/aminer_papers_59.txt"
      ]
     },
     "metadata": {},
     "output_type": "display_data"
    },
    {
     "data": {
      "text/html": [
       "<pre>Read 139924678 lines. Lines per second: 92756.2</pre>"
      ],
      "text/plain": [
       "Read 139924678 lines. Lines per second: 92756.2"
      ]
     },
     "metadata": {},
     "output_type": "display_data"
    },
    {
     "data": {
      "text/html": [
       "<pre>Read 140347559 lines. Lines per second: 92708.4</pre>"
      ],
      "text/plain": [
       "Read 140347559 lines. Lines per second: 92708.4"
      ]
     },
     "metadata": {},
     "output_type": "display_data"
    },
    {
     "data": {
      "text/html": [
       "<pre>Finished parsing file /storage/homedir/dima/.scidyn/AMiner/aminer_papers_48.txt</pre>"
      ],
      "text/plain": [
       "Finished parsing file /storage/homedir/dima/.scidyn/AMiner/aminer_papers_48.txt"
      ]
     },
     "metadata": {},
     "output_type": "display_data"
    },
    {
     "data": {
      "text/html": [
       "<pre>Read 140771161 lines. Lines per second: 92654.3</pre>"
      ],
      "text/plain": [
       "Read 140771161 lines. Lines per second: 92654.3"
      ]
     },
     "metadata": {},
     "output_type": "display_data"
    },
    {
     "data": {
      "text/html": [
       "<pre>Read 141474819 lines. Lines per second: 92790.3</pre>"
      ],
      "text/plain": [
       "Read 141474819 lines. Lines per second: 92790.3"
      ]
     },
     "metadata": {},
     "output_type": "display_data"
    },
    {
     "data": {
      "text/html": [
       "<pre>Finished parsing file /storage/homedir/dima/.scidyn/AMiner/aminer_papers_148.txt</pre>"
      ],
      "text/plain": [
       "Finished parsing file /storage/homedir/dima/.scidyn/AMiner/aminer_papers_148.txt"
      ]
     },
     "metadata": {},
     "output_type": "display_data"
    },
    {
     "data": {
      "text/html": [
       "<pre>Read 142266256 lines. Lines per second: 92995.6</pre>"
      ],
      "text/plain": [
       "Read 142266256 lines. Lines per second: 92995.6"
      ]
     },
     "metadata": {},
     "output_type": "display_data"
    },
    {
     "data": {
      "text/html": [
       "<pre>Finished parsing file /storage/homedir/dima/.scidyn/AMiner/aminer_papers_76.txt</pre>"
      ],
      "text/plain": [
       "Finished parsing file /storage/homedir/dima/.scidyn/AMiner/aminer_papers_76.txt"
      ]
     },
     "metadata": {},
     "output_type": "display_data"
    },
    {
     "data": {
      "text/html": [
       "<pre>Read 142931739 lines. Lines per second: 93119</pre>"
      ],
      "text/plain": [
       "Read 142931739 lines. Lines per second: 93119"
      ]
     },
     "metadata": {},
     "output_type": "display_data"
    },
    {
     "data": {
      "text/html": [
       "<pre>Read 143293840 lines. Lines per second: 93044.4</pre>"
      ],
      "text/plain": [
       "Read 143293840 lines. Lines per second: 93044.4"
      ]
     },
     "metadata": {},
     "output_type": "display_data"
    },
    {
     "data": {
      "text/html": [
       "<pre>Read 143629354 lines. Lines per second: 92951.9</pre>"
      ],
      "text/plain": [
       "Read 143629354 lines. Lines per second: 92951.9"
      ]
     },
     "metadata": {},
     "output_type": "display_data"
    },
    {
     "data": {
      "text/html": [
       "<pre>Finished parsing file /storage/homedir/dima/.scidyn/AMiner/aminer_papers_55.txt</pre>"
      ],
      "text/plain": [
       "Finished parsing file /storage/homedir/dima/.scidyn/AMiner/aminer_papers_55.txt"
      ]
     },
     "metadata": {},
     "output_type": "display_data"
    },
    {
     "data": {
      "text/html": [
       "<pre>Read 143983910 lines. Lines per second: 92873.1</pre>"
      ],
      "text/plain": [
       "Read 143983910 lines. Lines per second: 92873.1"
      ]
     },
     "metadata": {},
     "output_type": "display_data"
    },
    {
     "data": {
      "text/html": [
       "<pre>Read 144333276 lines. Lines per second: 92802.5</pre>"
      ],
      "text/plain": [
       "Read 144333276 lines. Lines per second: 92802.5"
      ]
     },
     "metadata": {},
     "output_type": "display_data"
    },
    {
     "data": {
      "text/html": [
       "<pre>Read 144719066 lines. Lines per second: 92721.6</pre>"
      ],
      "text/plain": [
       "Read 144719066 lines. Lines per second: 92721.6"
      ]
     },
     "metadata": {},
     "output_type": "display_data"
    },
    {
     "data": {
      "text/html": [
       "<pre>Finished parsing file /storage/homedir/dima/.scidyn/AMiner/aminer_papers_19.txt</pre>"
      ],
      "text/plain": [
       "Finished parsing file /storage/homedir/dima/.scidyn/AMiner/aminer_papers_19.txt"
      ]
     },
     "metadata": {},
     "output_type": "display_data"
    },
    {
     "data": {
      "text/html": [
       "<pre>Read 145113930 lines. Lines per second: 92663</pre>"
      ],
      "text/plain": [
       "Read 145113930 lines. Lines per second: 92663"
      ]
     },
     "metadata": {},
     "output_type": "display_data"
    },
    {
     "data": {
      "text/html": [
       "<pre>Read 145456035 lines. Lines per second: 92563.3</pre>"
      ],
      "text/plain": [
       "Read 145456035 lines. Lines per second: 92563.3"
      ]
     },
     "metadata": {},
     "output_type": "display_data"
    },
    {
     "data": {
      "text/html": [
       "<pre>Finished parsing file /storage/homedir/dima/.scidyn/AMiner/aminer_papers_1.txt</pre>"
      ],
      "text/plain": [
       "Finished parsing file /storage/homedir/dima/.scidyn/AMiner/aminer_papers_1.txt"
      ]
     },
     "metadata": {},
     "output_type": "display_data"
    },
    {
     "data": {
      "text/html": [
       "<pre>Read 145771161 lines. Lines per second: 92469.9</pre>"
      ],
      "text/plain": [
       "Read 145771161 lines. Lines per second: 92469.9"
      ]
     },
     "metadata": {},
     "output_type": "display_data"
    },
    {
     "data": {
      "text/html": [
       "<pre>Read 146129551 lines. Lines per second: 92396</pre>"
      ],
      "text/plain": [
       "Read 146129551 lines. Lines per second: 92396"
      ]
     },
     "metadata": {},
     "output_type": "display_data"
    },
    {
     "data": {
      "text/html": [
       "<pre>Read 146465443 lines. Lines per second: 92319.6</pre>"
      ],
      "text/plain": [
       "Read 146465443 lines. Lines per second: 92319.6"
      ]
     },
     "metadata": {},
     "output_type": "display_data"
    },
    {
     "data": {
      "text/html": [
       "<pre>Finished parsing file /storage/homedir/dima/.scidyn/AMiner/aminer_papers_22.txt</pre>"
      ],
      "text/plain": [
       "Finished parsing file /storage/homedir/dima/.scidyn/AMiner/aminer_papers_22.txt"
      ]
     },
     "metadata": {},
     "output_type": "display_data"
    },
    {
     "data": {
      "text/html": [
       "<pre>Read 146771161 lines. Lines per second: 92222.6</pre>"
      ],
      "text/plain": [
       "Read 146771161 lines. Lines per second: 92222.6"
      ]
     },
     "metadata": {},
     "output_type": "display_data"
    },
    {
     "data": {
      "text/html": [
       "<pre>Read 147124684 lines. Lines per second: 92151.5</pre>"
      ],
      "text/plain": [
       "Read 147124684 lines. Lines per second: 92151.5"
      ]
     },
     "metadata": {},
     "output_type": "display_data"
    },
    {
     "data": {
      "text/html": [
       "<pre>Read 147512993 lines. Lines per second: 92082.9</pre>"
      ],
      "text/plain": [
       "Read 147512993 lines. Lines per second: 92082.9"
      ]
     },
     "metadata": {},
     "output_type": "display_data"
    },
    {
     "data": {
      "text/html": [
       "<pre>Finished parsing file /storage/homedir/dima/.scidyn/AMiner/aminer_papers_24.txt</pre>"
      ],
      "text/plain": [
       "Finished parsing file /storage/homedir/dima/.scidyn/AMiner/aminer_papers_24.txt"
      ]
     },
     "metadata": {},
     "output_type": "display_data"
    },
    {
     "data": {
      "text/html": [
       "<pre>Read 147875167 lines. Lines per second: 91991.1</pre>"
      ],
      "text/plain": [
       "Read 147875167 lines. Lines per second: 91991.1"
      ]
     },
     "metadata": {},
     "output_type": "display_data"
    },
    {
     "data": {
      "text/html": [
       "<pre>Read 148230991 lines. Lines per second: 91902.2</pre>"
      ],
      "text/plain": [
       "Read 148230991 lines. Lines per second: 91902.2"
      ]
     },
     "metadata": {},
     "output_type": "display_data"
    },
    {
     "data": {
      "text/html": [
       "<pre>Read 148557422 lines. Lines per second: 91819.5</pre>"
      ],
      "text/plain": [
       "Read 148557422 lines. Lines per second: 91819.5"
      ]
     },
     "metadata": {},
     "output_type": "display_data"
    },
    {
     "data": {
      "text/html": [
       "<pre>Finished parsing file /storage/homedir/dima/.scidyn/AMiner/aminer_papers_26.txt</pre>"
      ],
      "text/plain": [
       "Finished parsing file /storage/homedir/dima/.scidyn/AMiner/aminer_papers_26.txt"
      ]
     },
     "metadata": {},
     "output_type": "display_data"
    },
    {
     "data": {
      "text/html": [
       "<pre>Read 148846439 lines. Lines per second: 91690.1</pre>"
      ],
      "text/plain": [
       "Read 148846439 lines. Lines per second: 91690.1"
      ]
     },
     "metadata": {},
     "output_type": "display_data"
    },
    {
     "data": {
      "text/html": [
       "<pre>Read 149158754 lines. Lines per second: 91593.5</pre>"
      ],
      "text/plain": [
       "Read 149158754 lines. Lines per second: 91593.5"
      ]
     },
     "metadata": {},
     "output_type": "display_data"
    },
    {
     "data": {
      "text/html": [
       "<pre>Read 149495286 lines. Lines per second: 91515.3</pre>"
      ],
      "text/plain": [
       "Read 149495286 lines. Lines per second: 91515.3"
      ]
     },
     "metadata": {},
     "output_type": "display_data"
    },
    {
     "data": {
      "text/html": [
       "<pre>Finished parsing file /storage/homedir/dima/.scidyn/AMiner/aminer_papers_27.txt</pre>"
      ],
      "text/plain": [
       "Finished parsing file /storage/homedir/dima/.scidyn/AMiner/aminer_papers_27.txt"
      ]
     },
     "metadata": {},
     "output_type": "display_data"
    },
    {
     "data": {
      "text/html": [
       "<pre>Read 149804890 lines. Lines per second: 91422.2</pre>"
      ],
      "text/plain": [
       "Read 149804890 lines. Lines per second: 91422.2"
      ]
     },
     "metadata": {},
     "output_type": "display_data"
    },
    {
     "data": {
      "text/html": [
       "<pre>Read 150145046 lines. Lines per second: 91334.7</pre>"
      ],
      "text/plain": [
       "Read 150145046 lines. Lines per second: 91334.7"
      ]
     },
     "metadata": {},
     "output_type": "display_data"
    },
    {
     "data": {
      "text/html": [
       "<pre>Read 150485090 lines. Lines per second: 91237</pre>"
      ],
      "text/plain": [
       "Read 150485090 lines. Lines per second: 91237"
      ]
     },
     "metadata": {},
     "output_type": "display_data"
    },
    {
     "data": {
      "text/html": [
       "<pre>Read 150732747 lines. Lines per second: 91019.3</pre>"
      ],
      "text/plain": [
       "Read 150732747 lines. Lines per second: 91019.3"
      ]
     },
     "metadata": {},
     "output_type": "display_data"
    },
    {
     "data": {
      "text/html": [
       "<pre>Finished parsing file /storage/homedir/dima/.scidyn/AMiner/aminer_papers_28.txt</pre>"
      ],
      "text/plain": [
       "Finished parsing file /storage/homedir/dima/.scidyn/AMiner/aminer_papers_28.txt"
      ]
     },
     "metadata": {},
     "output_type": "display_data"
    },
    {
     "data": {
      "text/html": [
       "<pre>Read 151149926 lines. Lines per second: 90967.3</pre>"
      ],
      "text/plain": [
       "Read 151149926 lines. Lines per second: 90967.3"
      ]
     },
     "metadata": {},
     "output_type": "display_data"
    },
    {
     "data": {
      "text/html": [
       "<pre>Read 151533793 lines. Lines per second: 90913.2</pre>"
      ],
      "text/plain": [
       "Read 151533793 lines. Lines per second: 90913.2"
      ]
     },
     "metadata": {},
     "output_type": "display_data"
    },
    {
     "data": {
      "text/html": [
       "<pre>Finished parsing file /storage/homedir/dima/.scidyn/AMiner/aminer_papers_4.txt</pre>"
      ],
      "text/plain": [
       "Finished parsing file /storage/homedir/dima/.scidyn/AMiner/aminer_papers_4.txt"
      ]
     },
     "metadata": {},
     "output_type": "display_data"
    },
    {
     "data": {
      "text/html": [
       "<pre>Read 151838590 lines. Lines per second: 90811.1</pre>"
      ],
      "text/plain": [
       "Read 151838590 lines. Lines per second: 90811.1"
      ]
     },
     "metadata": {},
     "output_type": "display_data"
    },
    {
     "data": {
      "text/html": [
       "<pre>Read 152176968 lines. Lines per second: 90724.4</pre>"
      ],
      "text/plain": [
       "Read 152176968 lines. Lines per second: 90724.4"
      ]
     },
     "metadata": {},
     "output_type": "display_data"
    },
    {
     "data": {
      "text/html": [
       "<pre>Read 152515072 lines. Lines per second: 90653.1</pre>"
      ],
      "text/plain": [
       "Read 152515072 lines. Lines per second: 90653.1"
      ]
     },
     "metadata": {},
     "output_type": "display_data"
    },
    {
     "data": {
      "text/html": [
       "<pre>Finished parsing file /storage/homedir/dima/.scidyn/AMiner/aminer_papers_6.txt</pre>"
      ],
      "text/plain": [
       "Finished parsing file /storage/homedir/dima/.scidyn/AMiner/aminer_papers_6.txt"
      ]
     },
     "metadata": {},
     "output_type": "display_data"
    },
    {
     "data": {
      "text/html": [
       "<pre>Read 152840559 lines. Lines per second: 90572</pre>"
      ],
      "text/plain": [
       "Read 152840559 lines. Lines per second: 90572"
      ]
     },
     "metadata": {},
     "output_type": "display_data"
    },
    {
     "data": {
      "text/html": [
       "<pre>Read 153211886 lines. Lines per second: 90502.9</pre>"
      ],
      "text/plain": [
       "Read 153211886 lines. Lines per second: 90502.9"
      ]
     },
     "metadata": {},
     "output_type": "display_data"
    },
    {
     "data": {
      "text/html": [
       "<pre>Read 153581045 lines. Lines per second: 90431.7</pre>"
      ],
      "text/plain": [
       "Read 153581045 lines. Lines per second: 90431.7"
      ]
     },
     "metadata": {},
     "output_type": "display_data"
    },
    {
     "data": {
      "text/html": [
       "<pre>Finished parsing file /storage/homedir/dima/.scidyn/AMiner/aminer_papers_7.txt</pre>"
      ],
      "text/plain": [
       "Finished parsing file /storage/homedir/dima/.scidyn/AMiner/aminer_papers_7.txt"
      ]
     },
     "metadata": {},
     "output_type": "display_data"
    },
    {
     "data": {
      "text/html": [
       "<pre>Read 153873167 lines. Lines per second: 90331.6</pre>"
      ],
      "text/plain": [
       "Read 153873167 lines. Lines per second: 90331.6"
      ]
     },
     "metadata": {},
     "output_type": "display_data"
    },
    {
     "data": {
      "text/html": [
       "<pre>Read 154247383 lines. Lines per second: 90263.7</pre>"
      ],
      "text/plain": [
       "Read 154247383 lines. Lines per second: 90263.7"
      ]
     },
     "metadata": {},
     "output_type": "display_data"
    },
    {
     "data": {
      "text/html": [
       "<pre>Read 154591163 lines. Lines per second: 90198.8</pre>"
      ],
      "text/plain": [
       "Read 154591163 lines. Lines per second: 90198.8"
      ]
     },
     "metadata": {},
     "output_type": "display_data"
    },
    {
     "data": {
      "text/html": [
       "<pre>Finished parsing file /storage/homedir/dima/.scidyn/AMiner/aminer_papers_8.txt</pre>"
      ],
      "text/plain": [
       "Finished parsing file /storage/homedir/dima/.scidyn/AMiner/aminer_papers_8.txt"
      ]
     },
     "metadata": {},
     "output_type": "display_data"
    },
    {
     "data": {
      "text/html": [
       "<pre>Parsing completed. Parsed 154771161 lines in 1716.82 secs.</pre>"
      ],
      "text/plain": [
       "Parsing completed. Parsed 154771161 lines in 1716.82 secs."
      ]
     },
     "metadata": {},
     "output_type": "display_data"
    },
    {
     "data": {
      "text/html": [
       "<div style=\"max-height:1000px;max-width:1500px;overflow:auto;\"><table frame=\"box\" rules=\"cols\">\n",
       "    <tr>\n",
       "        <th style=\"padding-left: 1em; padding-right: 1em; text-align: center\">abstract</th>\n",
       "        <th style=\"padding-left: 1em; padding-right: 1em; text-align: center\">authors</th>\n",
       "        <th style=\"padding-left: 1em; padding-right: 1em; text-align: center\">doi</th>\n",
       "        <th style=\"padding-left: 1em; padding-right: 1em; text-align: center\">id</th>\n",
       "    </tr>\n",
       "    <tr>\n",
       "        <td style=\"padding-left: 1em; padding-right: 1em; text-align: center; vertical-align: top\">None</td>\n",
       "        <td style=\"padding-left: 1em; padding-right: 1em; text-align: center; vertical-align: top\">[{&#x27;name&#x27;: &#x27;Ö. Tan&#x27;},<br>{&#x27;name&#x27;: &#x27;A. Sahin ...</td>\n",
       "        <td style=\"padding-left: 1em; padding-right: 1em; text-align: center; vertical-align: top\">10.3989/mc.2007.v57.i288.<br>67 ...</td>\n",
       "        <td style=\"padding-left: 1em; padding-right: 1em; text-align: center; vertical-align: top\">53e9b2dbb7602d9703d8c652</td>\n",
       "    </tr>\n",
       "    <tr>\n",
       "        <td style=\"padding-left: 1em; padding-right: 1em; text-align: center; vertical-align: top\">None</td>\n",
       "        <td style=\"padding-left: 1em; padding-right: 1em; text-align: center; vertical-align: top\">[{&#x27;name&#x27;: &#x27;A. Goldman&#x27;},<br>{&#x27;name&#x27;: &#x27;D. G. ...</td>\n",
       "        <td style=\"padding-left: 1em; padding-right: 1em; text-align: center; vertical-align: top\">10.1364/AO.19.003721</td>\n",
       "        <td style=\"padding-left: 1em; padding-right: 1em; text-align: center; vertical-align: top\">53e9b2dbb7602d9703d8c653</td>\n",
       "    </tr>\n",
       "    <tr>\n",
       "        <td style=\"padding-left: 1em; padding-right: 1em; text-align: center; vertical-align: top\">Objective:It summarized<br>nursing measures for ...</td>\n",
       "        <td style=\"padding-left: 1em; padding-right: 1em; text-align: center; vertical-align: top\">[{&#x27;name&#x27;: &#x27;Zhang Rong&#x27;,<br>&#x27;org&#x27;: &#x27;Affiliated ...</td>\n",
       "        <td style=\"padding-left: 1em; padding-right: 1em; text-align: center; vertical-align: top\">None</td>\n",
       "        <td style=\"padding-left: 1em; padding-right: 1em; text-align: center; vertical-align: top\">53e9b2dbb7602d9703d8c654</td>\n",
       "    </tr>\n",
       "    <tr>\n",
       "        <td style=\"padding-left: 1em; padding-right: 1em; text-align: center; vertical-align: top\">None</td>\n",
       "        <td style=\"padding-left: 1em; padding-right: 1em; text-align: center; vertical-align: top\">[{&#x27;name&#x27;: &#x27;Elisabeth van<br>der Linden&#x27;}, {&#x27;name&#x27;: ...</td>\n",
       "        <td style=\"padding-left: 1em; padding-right: 1em; text-align: center; vertical-align: top\">10.1075/eurosla.5.07lin</td>\n",
       "        <td style=\"padding-left: 1em; padding-right: 1em; text-align: center; vertical-align: top\">53e9b2dbb7602d9703d8c655</td>\n",
       "    </tr>\n",
       "    <tr>\n",
       "        <td style=\"padding-left: 1em; padding-right: 1em; text-align: center; vertical-align: top\">None</td>\n",
       "        <td style=\"padding-left: 1em; padding-right: 1em; text-align: center; vertical-align: top\">[{&#x27;name&#x27;: &#x27;N. Cordes&#x27;},<br>{&#x27;name&#x27;: &#x27;L. Plasswil ...</td>\n",
       "        <td style=\"padding-left: 1em; padding-right: 1em; text-align: center; vertical-align: top\">10.1016/S0959-8049(01)812<br>39-9 ...</td>\n",
       "        <td style=\"padding-left: 1em; padding-right: 1em; text-align: center; vertical-align: top\">53e9b2dbb7602d9703d8c656</td>\n",
       "    </tr>\n",
       "    <tr>\n",
       "        <td style=\"padding-left: 1em; padding-right: 1em; text-align: center; vertical-align: top\">None</td>\n",
       "        <td style=\"padding-left: 1em; padding-right: 1em; text-align: center; vertical-align: top\">[{&#x27;name&#x27;: &#x27;Shigeru<br>Ikeda&#x27;}, {&#x27;name&#x27;: ...</td>\n",
       "        <td style=\"padding-left: 1em; padding-right: 1em; text-align: center; vertical-align: top\">10.1021/cm970221c</td>\n",
       "        <td style=\"padding-left: 1em; padding-right: 1em; text-align: center; vertical-align: top\">53e9b2dbb7602d9703d8c657</td>\n",
       "    </tr>\n",
       "    <tr>\n",
       "        <td style=\"padding-left: 1em; padding-right: 1em; text-align: center; vertical-align: top\">Bovine chondrocytes were<br>isolated from the ...</td>\n",
       "        <td style=\"padding-left: 1em; padding-right: 1em; text-align: center; vertical-align: top\">[{&#x27;name&#x27;: &#x27;Takashi Sato&#x27;,<br>&#x27;org&#x27;: &#x27;Biomaterials ...</td>\n",
       "        <td style=\"padding-left: 1em; padding-right: 1em; text-align: center; vertical-align: top\">10.1016/j.msec.2003.12.01<br>0 ...</td>\n",
       "        <td style=\"padding-left: 1em; padding-right: 1em; text-align: center; vertical-align: top\">53e9b2dbb7602d9703d8c658</td>\n",
       "    </tr>\n",
       "    <tr>\n",
       "        <td style=\"padding-left: 1em; padding-right: 1em; text-align: center; vertical-align: top\">Word count: 4667 words<br>(including abstract, key ...</td>\n",
       "        <td style=\"padding-left: 1em; padding-right: 1em; text-align: center; vertical-align: top\">[{&#x27;name&#x27;: &#x27;Ennio<br>Cascetta&#x27;}, {&#x27;name&#x27;: ...</td>\n",
       "        <td style=\"padding-left: 1em; padding-right: 1em; text-align: center; vertical-align: top\">None</td>\n",
       "        <td style=\"padding-left: 1em; padding-right: 1em; text-align: center; vertical-align: top\">53e9b2dbb7602d9703d8c659</td>\n",
       "    </tr>\n",
       "    <tr>\n",
       "        <td style=\"padding-left: 1em; padding-right: 1em; text-align: center; vertical-align: top\">Abstract—A novel family<br>of low-density parity- ...</td>\n",
       "        <td style=\"padding-left: 1em; padding-right: 1em; text-align: center; vertical-align: top\">[{&#x27;name&#x27;: &#x27;I. B.<br>Djordjevic&#x27;}, {&#x27;name&#x27;: ...</td>\n",
       "        <td style=\"padding-left: 1em; padding-right: 1em; text-align: center; vertical-align: top\">10.1109/LCOMM.2004.833833</td>\n",
       "        <td style=\"padding-left: 1em; padding-right: 1em; text-align: center; vertical-align: top\">53e9b2dbb7602d9703d8c65b</td>\n",
       "    </tr>\n",
       "    <tr>\n",
       "        <td style=\"padding-left: 1em; padding-right: 1em; text-align: center; vertical-align: top\">None</td>\n",
       "        <td style=\"padding-left: 1em; padding-right: 1em; text-align: center; vertical-align: top\">[{&#x27;name&#x27;: &#x27;DANIEL M. J<br>OEL&#x27;}, {&#x27;name&#x27;: &#x27;V ITALY ...</td>\n",
       "        <td style=\"padding-left: 1em; padding-right: 1em; text-align: center; vertical-align: top\">None</td>\n",
       "        <td style=\"padding-left: 1em; padding-right: 1em; text-align: center; vertical-align: top\">53e9b2dbb7602d9703d8c65c</td>\n",
       "    </tr>\n",
       "</table>\n",
       "<table frame=\"box\" rules=\"cols\">\n",
       "    <tr>\n",
       "        <th style=\"padding-left: 1em; padding-right: 1em; text-align: center\">isbn</th>\n",
       "        <th style=\"padding-left: 1em; padding-right: 1em; text-align: center\">issn</th>\n",
       "        <th style=\"padding-left: 1em; padding-right: 1em; text-align: center\">issue</th>\n",
       "        <th style=\"padding-left: 1em; padding-right: 1em; text-align: center\">keywords</th>\n",
       "        <th style=\"padding-left: 1em; padding-right: 1em; text-align: center\">lang</th>\n",
       "        <th style=\"padding-left: 1em; padding-right: 1em; text-align: center\">n_citation</th>\n",
       "        <th style=\"padding-left: 1em; padding-right: 1em; text-align: center\">page_end</th>\n",
       "        <th style=\"padding-left: 1em; padding-right: 1em; text-align: center\">page_start</th>\n",
       "        <th style=\"padding-left: 1em; padding-right: 1em; text-align: center\">pdf</th>\n",
       "    </tr>\n",
       "    <tr>\n",
       "        <td style=\"padding-left: 1em; padding-right: 1em; text-align: center; vertical-align: top\">None</td>\n",
       "        <td style=\"padding-left: 1em; padding-right: 1em; text-align: center; vertical-align: top\">None</td>\n",
       "        <td style=\"padding-left: 1em; padding-right: 1em; text-align: center; vertical-align: top\">288</td>\n",
       "        <td style=\"padding-left: 1em; padding-right: 1em; text-align: center; vertical-align: top\">None</td>\n",
       "        <td style=\"padding-left: 1em; padding-right: 1em; text-align: center; vertical-align: top\">en</td>\n",
       "        <td style=\"padding-left: 1em; padding-right: 1em; text-align: center; vertical-align: top\">None</td>\n",
       "        <td style=\"padding-left: 1em; padding-right: 1em; text-align: center; vertical-align: top\">None</td>\n",
       "        <td style=\"padding-left: 1em; padding-right: 1em; text-align: center; vertical-align: top\">None</td>\n",
       "        <td style=\"padding-left: 1em; padding-right: 1em; text-align: center; vertical-align: top\">None</td>\n",
       "    </tr>\n",
       "    <tr>\n",
       "        <td style=\"padding-left: 1em; padding-right: 1em; text-align: center; vertical-align: top\">None</td>\n",
       "        <td style=\"padding-left: 1em; padding-right: 1em; text-align: center; vertical-align: top\">0003-6935</td>\n",
       "        <td style=\"padding-left: 1em; padding-right: 1em; text-align: center; vertical-align: top\">22</td>\n",
       "        <td style=\"padding-left: 1em; padding-right: 1em; text-align: center; vertical-align: top\">None</td>\n",
       "        <td style=\"padding-left: 1em; padding-right: 1em; text-align: center; vertical-align: top\">en</td>\n",
       "        <td style=\"padding-left: 1em; padding-right: 1em; text-align: center; vertical-align: top\">9</td>\n",
       "        <td style=\"padding-left: 1em; padding-right: 1em; text-align: center; vertical-align: top\">3724</td>\n",
       "        <td style=\"padding-left: 1em; padding-right: 1em; text-align: center; vertical-align: top\">3721</td>\n",
       "        <td style=\"padding-left: 1em; padding-right: 1em; text-align: center; vertical-align: top\">None</td>\n",
       "    </tr>\n",
       "    <tr>\n",
       "        <td style=\"padding-left: 1em; padding-right: 1em; text-align: center; vertical-align: top\">None</td>\n",
       "        <td style=\"padding-left: 1em; padding-right: 1em; text-align: center; vertical-align: top\">None</td>\n",
       "        <td style=\"padding-left: 1em; padding-right: 1em; text-align: center; vertical-align: top\">34</td>\n",
       "        <td style=\"padding-left: 1em; padding-right: 1em; text-align: center; vertical-align: top\">[acute aortic dissection,<br>intracavity isolation, ...</td>\n",
       "        <td style=\"padding-left: 1em; padding-right: 1em; text-align: center; vertical-align: top\">zh</td>\n",
       "        <td style=\"padding-left: 1em; padding-right: 1em; text-align: center; vertical-align: top\">None</td>\n",
       "        <td style=\"padding-left: 1em; padding-right: 1em; text-align: center; vertical-align: top\">18</td>\n",
       "        <td style=\"padding-left: 1em; padding-right: 1em; text-align: center; vertical-align: top\">17</td>\n",
       "        <td style=\"padding-left: 1em; padding-right: 1em; text-align: center; vertical-align: top\">None</td>\n",
       "    </tr>\n",
       "    <tr>\n",
       "        <td style=\"padding-left: 1em; padding-right: 1em; text-align: center; vertical-align: top\">None</td>\n",
       "        <td style=\"padding-left: 1em; padding-right: 1em; text-align: center; vertical-align: top\">None</td>\n",
       "        <td style=\"padding-left: 1em; padding-right: 1em; text-align: center; vertical-align: top\">1</td>\n",
       "        <td style=\"padding-left: 1em; padding-right: 1em; text-align: center; vertical-align: top\">None</td>\n",
       "        <td style=\"padding-left: 1em; padding-right: 1em; text-align: center; vertical-align: top\">en</td>\n",
       "        <td style=\"padding-left: 1em; padding-right: 1em; text-align: center; vertical-align: top\">None</td>\n",
       "        <td style=\"padding-left: 1em; padding-right: 1em; text-align: center; vertical-align: top\">135</td>\n",
       "        <td style=\"padding-left: 1em; padding-right: 1em; text-align: center; vertical-align: top\">103</td>\n",
       "        <td style=\"padding-left: 1em; padding-right: 1em; text-align: center; vertical-align: top\">None</td>\n",
       "    </tr>\n",
       "    <tr>\n",
       "        <td style=\"padding-left: 1em; padding-right: 1em; text-align: center; vertical-align: top\">None</td>\n",
       "        <td style=\"padding-left: 1em; padding-right: 1em; text-align: center; vertical-align: top\">European Journal of<br>Cancer ...</td>\n",
       "        <td style=\"padding-left: 1em; padding-right: 1em; text-align: center; vertical-align: top\">None</td>\n",
       "        <td style=\"padding-left: 1em; padding-right: 1em; text-align: center; vertical-align: top\">[signal transduction]</td>\n",
       "        <td style=\"padding-left: 1em; padding-right: 1em; text-align: center; vertical-align: top\">en</td>\n",
       "        <td style=\"padding-left: 1em; padding-right: 1em; text-align: center; vertical-align: top\">None</td>\n",
       "        <td style=\"padding-left: 1em; padding-right: 1em; text-align: center; vertical-align: top\">None</td>\n",
       "        <td style=\"padding-left: 1em; padding-right: 1em; text-align: center; vertical-align: top\">None</td>\n",
       "        <td style=\"padding-left: 1em; padding-right: 1em; text-align: center; vertical-align: top\">None</td>\n",
       "    </tr>\n",
       "    <tr>\n",
       "        <td style=\"padding-left: 1em; padding-right: 1em; text-align: center; vertical-align: top\">None</td>\n",
       "        <td style=\"padding-left: 1em; padding-right: 1em; text-align: center; vertical-align: top\">None</td>\n",
       "        <td style=\"padding-left: 1em; padding-right: 1em; text-align: center; vertical-align: top\">1</td>\n",
       "        <td style=\"padding-left: 1em; padding-right: 1em; text-align: center; vertical-align: top\">None</td>\n",
       "        <td style=\"padding-left: 1em; padding-right: 1em; text-align: center; vertical-align: top\">en</td>\n",
       "        <td style=\"padding-left: 1em; padding-right: 1em; text-align: center; vertical-align: top\">5</td>\n",
       "        <td style=\"padding-left: 1em; padding-right: 1em; text-align: center; vertical-align: top\">77</td>\n",
       "        <td style=\"padding-left: 1em; padding-right: 1em; text-align: center; vertical-align: top\">72</td>\n",
       "        <td style=\"padding-left: 1em; padding-right: 1em; text-align: center; vertical-align: top\">None</td>\n",
       "    </tr>\n",
       "    <tr>\n",
       "        <td style=\"padding-left: 1em; padding-right: 1em; text-align: center; vertical-align: top\">None</td>\n",
       "        <td style=\"padding-left: 1em; padding-right: 1em; text-align: center; vertical-align: top\">Materials Science &amp;<br>Engineering C ...</td>\n",
       "        <td style=\"padding-left: 1em; padding-right: 1em; text-align: center; vertical-align: top\">3</td>\n",
       "        <td style=\"padding-left: 1em; padding-right: 1em; text-align: center; vertical-align: top\">[chondrocyte, cartilage,<br>tissue engineering, ...</td>\n",
       "        <td style=\"padding-left: 1em; padding-right: 1em; text-align: center; vertical-align: top\">en</td>\n",
       "        <td style=\"padding-left: 1em; padding-right: 1em; text-align: center; vertical-align: top\">None</td>\n",
       "        <td style=\"padding-left: 1em; padding-right: 1em; text-align: center; vertical-align: top\">372</td>\n",
       "        <td style=\"padding-left: 1em; padding-right: 1em; text-align: center; vertical-align: top\">365</td>\n",
       "        <td style=\"padding-left: 1em; padding-right: 1em; text-align: center; vertical-align: top\">None</td>\n",
       "    </tr>\n",
       "    <tr>\n",
       "        <td style=\"padding-left: 1em; padding-right: 1em; text-align: center; vertical-align: top\">None</td>\n",
       "        <td style=\"padding-left: 1em; padding-right: 1em; text-align: center; vertical-align: top\">None</td>\n",
       "        <td style=\"padding-left: 1em; padding-right: 1em; text-align: center; vertical-align: top\">None</td>\n",
       "        <td style=\"padding-left: 1em; padding-right: 1em; text-align: center; vertical-align: top\">None</td>\n",
       "        <td style=\"padding-left: 1em; padding-right: 1em; text-align: center; vertical-align: top\">en</td>\n",
       "        <td style=\"padding-left: 1em; padding-right: 1em; text-align: center; vertical-align: top\">6</td>\n",
       "        <td style=\"padding-left: 1em; padding-right: 1em; text-align: center; vertical-align: top\">None</td>\n",
       "        <td style=\"padding-left: 1em; padding-right: 1em; text-align: center; vertical-align: top\">None</td>\n",
       "        <td style=\"padding-left: 1em; padding-right: 1em; text-align: center; vertical-align: top\">None</td>\n",
       "    </tr>\n",
       "    <tr>\n",
       "        <td style=\"padding-left: 1em; padding-right: 1em; text-align: center; vertical-align: top\">None</td>\n",
       "        <td style=\"padding-left: 1em; padding-right: 1em; text-align: center; vertical-align: top\">None</td>\n",
       "        <td style=\"padding-left: 1em; padding-right: 1em; text-align: center; vertical-align: top\">8</td>\n",
       "        <td style=\"padding-left: 1em; padding-right: 1em; text-align: center; vertical-align: top\">None</td>\n",
       "        <td style=\"padding-left: 1em; padding-right: 1em; text-align: center; vertical-align: top\">en</td>\n",
       "        <td style=\"padding-left: 1em; padding-right: 1em; text-align: center; vertical-align: top\">10</td>\n",
       "        <td style=\"padding-left: 1em; padding-right: 1em; text-align: center; vertical-align: top\">540</td>\n",
       "        <td style=\"padding-left: 1em; padding-right: 1em; text-align: center; vertical-align: top\">538</td>\n",
       "        <td style=\"padding-left: 1em; padding-right: 1em; text-align: center; vertical-align: top\">None</td>\n",
       "    </tr>\n",
       "    <tr>\n",
       "        <td style=\"padding-left: 1em; padding-right: 1em; text-align: center; vertical-align: top\">None</td>\n",
       "        <td style=\"padding-left: 1em; padding-right: 1em; text-align: center; vertical-align: top\">None</td>\n",
       "        <td style=\"padding-left: 1em; padding-right: 1em; text-align: center; vertical-align: top\">None</td>\n",
       "        <td style=\"padding-left: 1em; padding-right: 1em; text-align: center; vertical-align: top\">[nicotiana tabacum, pr<br>proteins, orobanche ...</td>\n",
       "        <td style=\"padding-left: 1em; padding-right: 1em; text-align: center; vertical-align: top\">en</td>\n",
       "        <td style=\"padding-left: 1em; padding-right: 1em; text-align: center; vertical-align: top\">None</td>\n",
       "        <td style=\"padding-left: 1em; padding-right: 1em; text-align: center; vertical-align: top\">None</td>\n",
       "        <td style=\"padding-left: 1em; padding-right: 1em; text-align: center; vertical-align: top\">None</td>\n",
       "        <td style=\"padding-left: 1em; padding-right: 1em; text-align: center; vertical-align: top\">None</td>\n",
       "    </tr>\n",
       "</table>\n",
       "<table frame=\"box\" rules=\"cols\">\n",
       "    <tr>\n",
       "        <th style=\"padding-left: 1em; padding-right: 1em; text-align: center\">references</th>\n",
       "        <th style=\"padding-left: 1em; padding-right: 1em; text-align: center\">title</th>\n",
       "        <th style=\"padding-left: 1em; padding-right: 1em; text-align: center\">url</th>\n",
       "        <th style=\"padding-left: 1em; padding-right: 1em; text-align: center\">venue</th>\n",
       "    </tr>\n",
       "    <tr>\n",
       "        <td style=\"padding-left: 1em; padding-right: 1em; text-align: center; vertical-align: top\">None</td>\n",
       "        <td style=\"padding-left: 1em; padding-right: 1em; text-align: center; vertical-align: top\">Optimización de la<br>resistencia a compresión ...</td>\n",
       "        <td style=\"padding-left: 1em; padding-right: 1em; text-align: center; vertical-align: top\">[http://dx.doi.org/10.398<br>9/mc.2007.v57.i288.67] ...</td>\n",
       "        <td style=\"padding-left: 1em; padding-right: 1em; text-align: center; vertical-align: top\">Materiales De<br>Construccion ...</td>\n",
       "    </tr>\n",
       "    <tr>\n",
       "        <td style=\"padding-left: 1em; padding-right: 1em; text-align: center; vertical-align: top\">[53e9ad47b7602d970372b511<br>] ...</td>\n",
       "        <td style=\"padding-left: 1em; padding-right: 1em; text-align: center; vertical-align: top\">High resolution IR<br>balloon-borne solar ...</td>\n",
       "        <td style=\"padding-left: 1em; padding-right: 1em; text-align: center; vertical-align: top\">[http://www.ncbi.nlm.nih.<br>gov/pubmed/20234684?r ...</td>\n",
       "        <td style=\"padding-left: 1em; padding-right: 1em; text-align: center; vertical-align: top\">Applied optics</td>\n",
       "    </tr>\n",
       "    <tr>\n",
       "        <td style=\"padding-left: 1em; padding-right: 1em; text-align: center; vertical-align: top\">None</td>\n",
       "        <td style=\"padding-left: 1em; padding-right: 1em; text-align: center; vertical-align: top\">Nursing care of 31 acute<br>aortic dissection ...</td>\n",
       "        <td style=\"padding-left: 1em; padding-right: 1em; text-align: center; vertical-align: top\">None</td>\n",
       "        <td style=\"padding-left: 1em; padding-right: 1em; text-align: center; vertical-align: top\">Chinese General Nursing</td>\n",
       "    </tr>\n",
       "    <tr>\n",
       "        <td style=\"padding-left: 1em; padding-right: 1em; text-align: center; vertical-align: top\">None</td>\n",
       "        <td style=\"padding-left: 1em; padding-right: 1em; text-align: center; vertical-align: top\">Exploring possession in<br>simultaneous ...</td>\n",
       "        <td style=\"padding-left: 1em; padding-right: 1em; text-align: center; vertical-align: top\">[http://dx.doi.org/10.107<br>5/eurosla.5.07lin] ...</td>\n",
       "        <td style=\"padding-left: 1em; padding-right: 1em; text-align: center; vertical-align: top\">Eurosla Yearbook</td>\n",
       "    </tr>\n",
       "    <tr>\n",
       "        <td style=\"padding-left: 1em; padding-right: 1em; text-align: center; vertical-align: top\">None</td>\n",
       "        <td style=\"padding-left: 1em; padding-right: 1em; text-align: center; vertical-align: top\">The cytotoxicity of<br>Ukrain does not involve ...</td>\n",
       "        <td style=\"padding-left: 1em; padding-right: 1em; text-align: center; vertical-align: top\">[http://dx.doi.org/10.101<br>6/S0959-8049(01)81239-9] ...</td>\n",
       "        <td style=\"padding-left: 1em; padding-right: 1em; text-align: center; vertical-align: top\">European Journal of<br>Cancer ...</td>\n",
       "    </tr>\n",
       "    <tr>\n",
       "        <td style=\"padding-left: 1em; padding-right: 1em; text-align: center; vertical-align: top\">None</td>\n",
       "        <td style=\"padding-left: 1em; padding-right: 1em; text-align: center; vertical-align: top\">Preparation of K&lt;sub&gt;2&lt;/s<br>ub&gt;La&lt;sub&gt;2&lt;/sub&gt;Ti&lt;s ...</td>\n",
       "        <td style=\"padding-left: 1em; padding-right: 1em; text-align: center; vertical-align: top\">None</td>\n",
       "        <td style=\"padding-left: 1em; padding-right: 1em; text-align: center; vertical-align: top\">Chemistry of Materials</td>\n",
       "    </tr>\n",
       "    <tr>\n",
       "        <td style=\"padding-left: 1em; padding-right: 1em; text-align: center; vertical-align: top\">[53e9ba65b7602d9704683131<br>, ...</td>\n",
       "        <td style=\"padding-left: 1em; padding-right: 1em; text-align: center; vertical-align: top\">Evaluation of<br>PLLA–collagen hybrid ...</td>\n",
       "        <td style=\"padding-left: 1em; padding-right: 1em; text-align: center; vertical-align: top\">[http://dx.doi.org/10.101<br>6/j.msec.2003.12.010] ...</td>\n",
       "        <td style=\"padding-left: 1em; padding-right: 1em; text-align: center; vertical-align: top\">Materials Science &amp;<br>Engineering C ...</td>\n",
       "    </tr>\n",
       "    <tr>\n",
       "        <td style=\"padding-left: 1em; padding-right: 1em; text-align: center; vertical-align: top\">[53e9b189b7602d9703c14df5<br>, ...</td>\n",
       "        <td style=\"padding-left: 1em; padding-right: 1em; text-align: center; vertical-align: top\">Dominance Attributes for<br>Alternatives&#x27; Perception ...</td>\n",
       "        <td style=\"padding-left: 1em; padding-right: 1em; text-align: center; vertical-align: top\">None</td>\n",
       "        <td style=\"padding-left: 1em; padding-right: 1em; text-align: center; vertical-align: top\">None</td>\n",
       "    </tr>\n",
       "    <tr>\n",
       "        <td style=\"padding-left: 1em; padding-right: 1em; text-align: center; vertical-align: top\">[53e9baadb7602d97046d806f<br>, ...</td>\n",
       "        <td style=\"padding-left: 1em; padding-right: 1em; text-align: center; vertical-align: top\">MacNeish&amp;#8211 Mann<br>Theorem Based Iterati ...</td>\n",
       "        <td style=\"padding-left: 1em; padding-right: 1em; text-align: center; vertical-align: top\">None</td>\n",
       "        <td style=\"padding-left: 1em; padding-right: 1em; text-align: center; vertical-align: top\">IEEE Communications<br>Letters ...</td>\n",
       "    </tr>\n",
       "    <tr>\n",
       "        <td style=\"padding-left: 1em; padding-right: 1em; text-align: center; vertical-align: top\">[53e9b1c3b7602d9703c54d77<br>, ...</td>\n",
       "        <td style=\"padding-left: 1em; padding-right: 1em; text-align: center; vertical-align: top\">The Angiospermous Root<br>Parasite Orobanche L. ...</td>\n",
       "        <td style=\"padding-left: 1em; padding-right: 1em; text-align: center; vertical-align: top\">None</td>\n",
       "        <td style=\"padding-left: 1em; padding-right: 1em; text-align: center; vertical-align: top\">None</td>\n",
       "    </tr>\n",
       "</table>\n",
       "<table frame=\"box\" rules=\"cols\">\n",
       "    <tr>\n",
       "        <th style=\"padding-left: 1em; padding-right: 1em; text-align: center\">volume</th>\n",
       "        <th style=\"padding-left: 1em; padding-right: 1em; text-align: center\">year</th>\n",
       "    </tr>\n",
       "    <tr>\n",
       "        <td style=\"padding-left: 1em; padding-right: 1em; text-align: center; vertical-align: top\">57</td>\n",
       "        <td style=\"padding-left: 1em; padding-right: 1em; text-align: center; vertical-align: top\">2007</td>\n",
       "    </tr>\n",
       "    <tr>\n",
       "        <td style=\"padding-left: 1em; padding-right: 1em; text-align: center; vertical-align: top\">19</td>\n",
       "        <td style=\"padding-left: 1em; padding-right: 1em; text-align: center; vertical-align: top\">1980</td>\n",
       "    </tr>\n",
       "    <tr>\n",
       "        <td style=\"padding-left: 1em; padding-right: 1em; text-align: center; vertical-align: top\">None</td>\n",
       "        <td style=\"padding-left: 1em; padding-right: 1em; text-align: center; vertical-align: top\">2010</td>\n",
       "    </tr>\n",
       "    <tr>\n",
       "        <td style=\"padding-left: 1em; padding-right: 1em; text-align: center; vertical-align: top\">5</td>\n",
       "        <td style=\"padding-left: 1em; padding-right: 1em; text-align: center; vertical-align: top\">2005</td>\n",
       "    </tr>\n",
       "    <tr>\n",
       "        <td style=\"padding-left: 1em; padding-right: 1em; text-align: center; vertical-align: top\">37</td>\n",
       "        <td style=\"padding-left: 1em; padding-right: 1em; text-align: center; vertical-align: top\">2001</td>\n",
       "    </tr>\n",
       "    <tr>\n",
       "        <td style=\"padding-left: 1em; padding-right: 1em; text-align: center; vertical-align: top\">10</td>\n",
       "        <td style=\"padding-left: 1em; padding-right: 1em; text-align: center; vertical-align: top\">1998</td>\n",
       "    </tr>\n",
       "    <tr>\n",
       "        <td style=\"padding-left: 1em; padding-right: 1em; text-align: center; vertical-align: top\">24</td>\n",
       "        <td style=\"padding-left: 1em; padding-right: 1em; text-align: center; vertical-align: top\">2004</td>\n",
       "    </tr>\n",
       "    <tr>\n",
       "        <td style=\"padding-left: 1em; padding-right: 1em; text-align: center; vertical-align: top\">None</td>\n",
       "        <td style=\"padding-left: 1em; padding-right: 1em; text-align: center; vertical-align: top\">2007</td>\n",
       "    </tr>\n",
       "    <tr>\n",
       "        <td style=\"padding-left: 1em; padding-right: 1em; text-align: center; vertical-align: top\">8</td>\n",
       "        <td style=\"padding-left: 1em; padding-right: 1em; text-align: center; vertical-align: top\">2004</td>\n",
       "    </tr>\n",
       "    <tr>\n",
       "        <td style=\"padding-left: 1em; padding-right: 1em; text-align: center; vertical-align: top\">None</td>\n",
       "        <td style=\"padding-left: 1em; padding-right: 1em; text-align: center; vertical-align: top\">1998</td>\n",
       "    </tr>\n",
       "</table>\n",
       "[154771161 rows x 19 columns]<br/>Note: Only the head of the SFrame is printed.<br/>You can use print_rows(num_rows=m, num_columns=n) to print more rows and columns.\n",
       "</div>"
      ],
      "text/plain": [
       "Columns:\n",
       "\tabstract\tstr\n",
       "\tauthors\tlist\n",
       "\tdoi\tstr\n",
       "\tid\tstr\n",
       "\tisbn\tstr\n",
       "\tissn\tstr\n",
       "\tissue\tstr\n",
       "\tkeywords\tlist\n",
       "\tlang\tstr\n",
       "\tn_citation\tint\n",
       "\tpage_end\tstr\n",
       "\tpage_start\tstr\n",
       "\tpdf\tstr\n",
       "\treferences\tlist\n",
       "\ttitle\tstr\n",
       "\turl\tlist\n",
       "\tvenue\tstr\n",
       "\tvolume\tstr\n",
       "\tyear\tint\n",
       "\n",
       "Rows: 154771161\n",
       "\n",
       "Data:\n",
       "+-------------------------------+-------------------------------+\n",
       "|            abstract           |            authors            |\n",
       "+-------------------------------+-------------------------------+\n",
       "|              None             | [{'name': 'Ö. Tan'}, {'nam... |\n",
       "|              None             | [{'name': 'A. Goldman'}, {... |\n",
       "| Objective:It summarized nu... | [{'name': 'Zhang Rong', 'o... |\n",
       "|              None             | [{'name': 'Elisabeth van d... |\n",
       "|              None             | [{'name': 'N. Cordes'}, {'... |\n",
       "|              None             | [{'name': 'Shigeru Ikeda'}... |\n",
       "| Bovine chondrocytes were i... | [{'name': 'Takashi Sato', ... |\n",
       "| Word count: 4667 words (in... | [{'name': 'Ennio Cascetta'... |\n",
       "| Abstract—A novel family of... | [{'name': 'I. B. Djordjevi... |\n",
       "|              None             | [{'name': 'DANIEL M. J OEL... |\n",
       "+-------------------------------+-------------------------------+\n",
       "+-------------------------------+--------------------------+------+\n",
       "|              doi              |            id            | isbn |\n",
       "+-------------------------------+--------------------------+------+\n",
       "|  10.3989/mc.2007.v57.i288.67  | 53e9b2dbb7602d9703d8c652 | None |\n",
       "|      10.1364/AO.19.003721     | 53e9b2dbb7602d9703d8c653 | None |\n",
       "|              None             | 53e9b2dbb7602d9703d8c654 | None |\n",
       "|    10.1075/eurosla.5.07lin    | 53e9b2dbb7602d9703d8c655 | None |\n",
       "| 10.1016/S0959-8049(01)81239-9 | 53e9b2dbb7602d9703d8c656 | None |\n",
       "|       10.1021/cm970221c       | 53e9b2dbb7602d9703d8c657 | None |\n",
       "|   10.1016/j.msec.2003.12.010  | 53e9b2dbb7602d9703d8c658 | None |\n",
       "|              None             | 53e9b2dbb7602d9703d8c659 | None |\n",
       "|   10.1109/LCOMM.2004.833833   | 53e9b2dbb7602d9703d8c65b | None |\n",
       "|              None             | 53e9b2dbb7602d9703d8c65c | None |\n",
       "+-------------------------------+--------------------------+------+\n",
       "+-------------------------------+-------+-------------------------------+------+\n",
       "|              issn             | issue |            keywords           | lang |\n",
       "+-------------------------------+-------+-------------------------------+------+\n",
       "|              None             |  288  |              None             |  en  |\n",
       "|           0003-6935           |   22  |              None             |  en  |\n",
       "|              None             |   34  | [acute aortic dissection, ... |  zh  |\n",
       "|              None             |   1   |              None             |  en  |\n",
       "|   European Journal of Cancer  |  None |     [signal transduction]     |  en  |\n",
       "|              None             |   1   |              None             |  en  |\n",
       "| Materials Science & Engine... |   3   | [chondrocyte, cartilage, t... |  en  |\n",
       "|              None             |  None |              None             |  en  |\n",
       "|              None             |   8   |              None             |  en  |\n",
       "|              None             |  None | [nicotiana tabacum, pr pro... |  en  |\n",
       "+-------------------------------+-------+-------------------------------+------+\n",
       "+------------+----------+------------+------+-------------------------------+\n",
       "| n_citation | page_end | page_start | pdf  |           references          |\n",
       "+------------+----------+------------+------+-------------------------------+\n",
       "|    None    |   None   |    None    | None |              None             |\n",
       "|     9      |   3724   |    3721    | None |   [53e9ad47b7602d970372b511]  |\n",
       "|    None    |    18    |     17     | None |              None             |\n",
       "|    None    |   135    |    103     | None |              None             |\n",
       "|    None    |   None   |    None    | None |              None             |\n",
       "|     5      |    77    |     72     | None |              None             |\n",
       "|    None    |   372    |    365     | None | [53e9ba65b7602d9704683131,... |\n",
       "|     6      |   None   |    None    | None | [53e9b189b7602d9703c14df5,... |\n",
       "|     10     |   540    |    538     | None | [53e9baadb7602d97046d806f,... |\n",
       "|    None    |   None   |    None    | None | [53e9b1c3b7602d9703c54d77,... |\n",
       "+------------+----------+------------+------+-------------------------------+\n",
       "+-------------------------------+-------------------------------+\n",
       "|             title             |              url              |\n",
       "+-------------------------------+-------------------------------+\n",
       "| Optimización de la resiste... | [http://dx.doi.org/10.3989... |\n",
       "| High resolution IR balloon... | [http://www.ncbi.nlm.nih.g... |\n",
       "| Nursing care of 31 acute a... |              None             |\n",
       "| Exploring possession in si... | [http://dx.doi.org/10.1075... |\n",
       "| The cytotoxicity of Ukrain... | [http://dx.doi.org/10.1016... |\n",
       "| Preparation of K<sub>2</su... |              None             |\n",
       "| Evaluation of PLLA–collage... | [http://dx.doi.org/10.1016... |\n",
       "| Dominance Attributes for A... |              None             |\n",
       "| MacNeish&#8211 Mann Theore... |              None             |\n",
       "| The Angiospermous Root Par... |              None             |\n",
       "+-------------------------------+-------------------------------+\n",
       "+-------------------------------+--------+------+\n",
       "|             venue             | volume | year |\n",
       "+-------------------------------+--------+------+\n",
       "|   Materiales De Construccion  |   57   | 2007 |\n",
       "|         Applied optics        |   19   | 1980 |\n",
       "|    Chinese General Nursing    |  None  | 2010 |\n",
       "|        Eurosla Yearbook       |   5    | 2005 |\n",
       "|   European Journal of Cancer  |   37   | 2001 |\n",
       "|     Chemistry of Materials    |   10   | 1998 |\n",
       "| Materials Science & Engine... |   24   | 2004 |\n",
       "|              None             |  None  | 2007 |\n",
       "|  IEEE Communications Letters  |   8    | 2004 |\n",
       "|              None             |  None  | 1998 |\n",
       "+-------------------------------+--------+------+\n",
       "[154771161 rows x 19 columns]\n",
       "Note: Only the head of the SFrame is printed.\n",
       "You can use print_rows(num_rows=m, num_columns=n) to print more rows and columns."
      ]
     },
     "execution_count": 9,
     "metadata": {},
     "output_type": "execute_result"
    }
   ],
   "source": [
    "a.data"
   ]
  },
  {
   "cell_type": "markdown",
   "metadata": {},
   "source": [
    "## 1.3 The SJR Dataset"
   ]
  },
  {
   "cell_type": "markdown",
   "metadata": {},
   "source": [
    "First, we download all the journal ranking files from [the SJR website](http://www.scimagojr.com/journalrank.php).\n",
    "Next, we use the following code to create a single SFrame with all the journal data:"
   ]
  },
  {
   "cell_type": "code",
   "execution_count": 19,
   "metadata": {
    "collapsed": true,
    "jupyter": {
     "outputs_hidden": true
    }
   },
   "outputs": [],
   "source": [
    "from ScienceDynamics.datasets.sjr import SJR\n",
    "from ScienceDynamics.config.configs import DATASETS_SJR_DIR\n",
    "sjr = SJR(DATASETS_SJR_DIR)"
   ]
  },
  {
   "cell_type": "code",
   "execution_count": 4,
   "metadata": {
    "collapsed": true,
    "jupyter": {
     "outputs_hidden": true
    }
   },
   "outputs": [
    {
     "data": {
      "text/html": [
       "<pre>Finished parsing file /storage/homedir/dima/.scidyn/sjr/scimagojr 1999.csv</pre>"
      ],
      "text/plain": [
       "Finished parsing file /storage/homedir/dima/.scidyn/sjr/scimagojr 1999.csv"
      ]
     },
     "metadata": {},
     "output_type": "display_data"
    },
    {
     "data": {
      "text/html": [
       "<pre>Parsing completed. Parsed 100 lines in 0.152944 secs.</pre>"
      ],
      "text/plain": [
       "Parsing completed. Parsed 100 lines in 0.152944 secs."
      ]
     },
     "metadata": {},
     "output_type": "display_data"
    },
    {
     "name": "stdout",
     "output_type": "stream",
     "text": [
      "------------------------------------------------------\n",
      "Inferred types from first 100 line(s) of file as \n",
      "column_type_hints=[int,int,str,str,str,str,str,int,int,int,int,int,int,str,str,str,str,str]\n",
      "If parsing fails due to incorrect types, you can correct\n",
      "the inferred type list above and pass it to read_csv in\n",
      "the column_type_hints argument\n",
      "------------------------------------------------------\n"
     ]
    },
    {
     "data": {
      "text/html": [
       "<pre>Finished parsing file /storage/homedir/dima/.scidyn/sjr/scimagojr 1999.csv</pre>"
      ],
      "text/plain": [
       "Finished parsing file /storage/homedir/dima/.scidyn/sjr/scimagojr 1999.csv"
      ]
     },
     "metadata": {},
     "output_type": "display_data"
    },
    {
     "data": {
      "text/html": [
       "<pre>Parsing completed. Parsed 17166 lines in 0.109449 secs.</pre>"
      ],
      "text/plain": [
       "Parsing completed. Parsed 17166 lines in 0.109449 secs."
      ]
     },
     "metadata": {},
     "output_type": "display_data"
    },
    {
     "data": {
      "text/html": [
       "<pre>Finished parsing file /storage/homedir/dima/.scidyn/sjr/scimagojr 2000.csv</pre>"
      ],
      "text/plain": [
       "Finished parsing file /storage/homedir/dima/.scidyn/sjr/scimagojr 2000.csv"
      ]
     },
     "metadata": {},
     "output_type": "display_data"
    },
    {
     "data": {
      "text/html": [
       "<pre>Parsing completed. Parsed 100 lines in 0.130457 secs.</pre>"
      ],
      "text/plain": [
       "Parsing completed. Parsed 100 lines in 0.130457 secs."
      ]
     },
     "metadata": {},
     "output_type": "display_data"
    },
    {
     "name": "stdout",
     "output_type": "stream",
     "text": [
      "------------------------------------------------------\n",
      "Inferred types from first 100 line(s) of file as \n",
      "column_type_hints=[int,int,str,str,str,str,str,int,int,int,int,int,int,str,str,str,str,str]\n",
      "If parsing fails due to incorrect types, you can correct\n",
      "the inferred type list above and pass it to read_csv in\n",
      "the column_type_hints argument\n",
      "------------------------------------------------------\n"
     ]
    },
    {
     "data": {
      "text/html": [
       "<pre>Finished parsing file /storage/homedir/dima/.scidyn/sjr/scimagojr 2000.csv</pre>"
      ],
      "text/plain": [
       "Finished parsing file /storage/homedir/dima/.scidyn/sjr/scimagojr 2000.csv"
      ]
     },
     "metadata": {},
     "output_type": "display_data"
    },
    {
     "data": {
      "text/html": [
       "<pre>Parsing completed. Parsed 17534 lines in 0.074504 secs.</pre>"
      ],
      "text/plain": [
       "Parsing completed. Parsed 17534 lines in 0.074504 secs."
      ]
     },
     "metadata": {},
     "output_type": "display_data"
    },
    {
     "data": {
      "text/html": [
       "<pre>Finished parsing file /storage/homedir/dima/.scidyn/sjr/scimagojr 2001.csv</pre>"
      ],
      "text/plain": [
       "Finished parsing file /storage/homedir/dima/.scidyn/sjr/scimagojr 2001.csv"
      ]
     },
     "metadata": {},
     "output_type": "display_data"
    },
    {
     "data": {
      "text/html": [
       "<pre>Parsing completed. Parsed 100 lines in 0.102743 secs.</pre>"
      ],
      "text/plain": [
       "Parsing completed. Parsed 100 lines in 0.102743 secs."
      ]
     },
     "metadata": {},
     "output_type": "display_data"
    },
    {
     "name": "stdout",
     "output_type": "stream",
     "text": [
      "------------------------------------------------------\n",
      "Inferred types from first 100 line(s) of file as \n",
      "column_type_hints=[int,int,str,str,str,str,str,int,int,int,int,int,int,str,str,str,str,str]\n",
      "If parsing fails due to incorrect types, you can correct\n",
      "the inferred type list above and pass it to read_csv in\n",
      "the column_type_hints argument\n",
      "------------------------------------------------------\n"
     ]
    },
    {
     "data": {
      "text/html": [
       "<pre>Finished parsing file /storage/homedir/dima/.scidyn/sjr/scimagojr 2001.csv</pre>"
      ],
      "text/plain": [
       "Finished parsing file /storage/homedir/dima/.scidyn/sjr/scimagojr 2001.csv"
      ]
     },
     "metadata": {},
     "output_type": "display_data"
    },
    {
     "data": {
      "text/html": [
       "<pre>Parsing completed. Parsed 18053 lines in 0.071888 secs.</pre>"
      ],
      "text/plain": [
       "Parsing completed. Parsed 18053 lines in 0.071888 secs."
      ]
     },
     "metadata": {},
     "output_type": "display_data"
    },
    {
     "data": {
      "text/html": [
       "<pre>Finished parsing file /storage/homedir/dima/.scidyn/sjr/scimagojr 2002.csv</pre>"
      ],
      "text/plain": [
       "Finished parsing file /storage/homedir/dima/.scidyn/sjr/scimagojr 2002.csv"
      ]
     },
     "metadata": {},
     "output_type": "display_data"
    },
    {
     "data": {
      "text/html": [
       "<pre>Parsing completed. Parsed 100 lines in 0.092776 secs.</pre>"
      ],
      "text/plain": [
       "Parsing completed. Parsed 100 lines in 0.092776 secs."
      ]
     },
     "metadata": {},
     "output_type": "display_data"
    },
    {
     "name": "stdout",
     "output_type": "stream",
     "text": [
      "------------------------------------------------------\n",
      "Inferred types from first 100 line(s) of file as \n",
      "column_type_hints=[int,int,str,str,str,str,str,int,int,int,int,int,int,str,str,str,str,str]\n",
      "If parsing fails due to incorrect types, you can correct\n",
      "the inferred type list above and pass it to read_csv in\n",
      "the column_type_hints argument\n",
      "------------------------------------------------------\n"
     ]
    },
    {
     "data": {
      "text/html": [
       "<pre>Finished parsing file /storage/homedir/dima/.scidyn/sjr/scimagojr 2002.csv</pre>"
      ],
      "text/plain": [
       "Finished parsing file /storage/homedir/dima/.scidyn/sjr/scimagojr 2002.csv"
      ]
     },
     "metadata": {},
     "output_type": "display_data"
    },
    {
     "data": {
      "text/html": [
       "<pre>Parsing completed. Parsed 19093 lines in 0.071769 secs.</pre>"
      ],
      "text/plain": [
       "Parsing completed. Parsed 19093 lines in 0.071769 secs."
      ]
     },
     "metadata": {},
     "output_type": "display_data"
    },
    {
     "data": {
      "text/html": [
       "<pre>Finished parsing file /storage/homedir/dima/.scidyn/sjr/scimagojr 2003.csv</pre>"
      ],
      "text/plain": [
       "Finished parsing file /storage/homedir/dima/.scidyn/sjr/scimagojr 2003.csv"
      ]
     },
     "metadata": {},
     "output_type": "display_data"
    },
    {
     "data": {
      "text/html": [
       "<pre>Parsing completed. Parsed 100 lines in 0.096754 secs.</pre>"
      ],
      "text/plain": [
       "Parsing completed. Parsed 100 lines in 0.096754 secs."
      ]
     },
     "metadata": {},
     "output_type": "display_data"
    },
    {
     "name": "stdout",
     "output_type": "stream",
     "text": [
      "------------------------------------------------------\n",
      "Inferred types from first 100 line(s) of file as \n",
      "column_type_hints=[int,int,str,str,str,str,str,int,int,int,int,int,int,str,str,str,str,str]\n",
      "If parsing fails due to incorrect types, you can correct\n",
      "the inferred type list above and pass it to read_csv in\n",
      "the column_type_hints argument\n",
      "------------------------------------------------------\n"
     ]
    },
    {
     "data": {
      "text/html": [
       "<pre>Finished parsing file /storage/homedir/dima/.scidyn/sjr/scimagojr 2003.csv</pre>"
      ],
      "text/plain": [
       "Finished parsing file /storage/homedir/dima/.scidyn/sjr/scimagojr 2003.csv"
      ]
     },
     "metadata": {},
     "output_type": "display_data"
    },
    {
     "data": {
      "text/html": [
       "<pre>Parsing completed. Parsed 19698 lines in 0.075655 secs.</pre>"
      ],
      "text/plain": [
       "Parsing completed. Parsed 19698 lines in 0.075655 secs."
      ]
     },
     "metadata": {},
     "output_type": "display_data"
    },
    {
     "data": {
      "text/html": [
       "<pre>Finished parsing file /storage/homedir/dima/.scidyn/sjr/scimagojr 2004.csv</pre>"
      ],
      "text/plain": [
       "Finished parsing file /storage/homedir/dima/.scidyn/sjr/scimagojr 2004.csv"
      ]
     },
     "metadata": {},
     "output_type": "display_data"
    },
    {
     "data": {
      "text/html": [
       "<pre>Parsing completed. Parsed 100 lines in 0.102748 secs.</pre>"
      ],
      "text/plain": [
       "Parsing completed. Parsed 100 lines in 0.102748 secs."
      ]
     },
     "metadata": {},
     "output_type": "display_data"
    },
    {
     "name": "stdout",
     "output_type": "stream",
     "text": [
      "------------------------------------------------------\n",
      "Inferred types from first 100 line(s) of file as \n",
      "column_type_hints=[int,int,str,str,str,str,str,int,int,int,int,int,int,str,str,str,str,str]\n",
      "If parsing fails due to incorrect types, you can correct\n",
      "the inferred type list above and pass it to read_csv in\n",
      "the column_type_hints argument\n",
      "------------------------------------------------------\n"
     ]
    },
    {
     "data": {
      "text/html": [
       "<pre>Finished parsing file /storage/homedir/dima/.scidyn/sjr/scimagojr 2004.csv</pre>"
      ],
      "text/plain": [
       "Finished parsing file /storage/homedir/dima/.scidyn/sjr/scimagojr 2004.csv"
      ]
     },
     "metadata": {},
     "output_type": "display_data"
    },
    {
     "data": {
      "text/html": [
       "<pre>Parsing completed. Parsed 20470 lines in 0.081358 secs.</pre>"
      ],
      "text/plain": [
       "Parsing completed. Parsed 20470 lines in 0.081358 secs."
      ]
     },
     "metadata": {},
     "output_type": "display_data"
    },
    {
     "data": {
      "text/html": [
       "<pre>Finished parsing file /storage/homedir/dima/.scidyn/sjr/scimagojr 2005.csv</pre>"
      ],
      "text/plain": [
       "Finished parsing file /storage/homedir/dima/.scidyn/sjr/scimagojr 2005.csv"
      ]
     },
     "metadata": {},
     "output_type": "display_data"
    },
    {
     "data": {
      "text/html": [
       "<pre>Parsing completed. Parsed 100 lines in 0.115616 secs.</pre>"
      ],
      "text/plain": [
       "Parsing completed. Parsed 100 lines in 0.115616 secs."
      ]
     },
     "metadata": {},
     "output_type": "display_data"
    },
    {
     "name": "stdout",
     "output_type": "stream",
     "text": [
      "------------------------------------------------------\n",
      "Inferred types from first 100 line(s) of file as \n",
      "column_type_hints=[int,int,str,str,str,str,str,int,int,int,int,int,int,str,str,str,str,str]\n",
      "If parsing fails due to incorrect types, you can correct\n",
      "the inferred type list above and pass it to read_csv in\n",
      "the column_type_hints argument\n",
      "------------------------------------------------------\n"
     ]
    },
    {
     "data": {
      "text/html": [
       "<pre>Finished parsing file /storage/homedir/dima/.scidyn/sjr/scimagojr 2005.csv</pre>"
      ],
      "text/plain": [
       "Finished parsing file /storage/homedir/dima/.scidyn/sjr/scimagojr 2005.csv"
      ]
     },
     "metadata": {},
     "output_type": "display_data"
    },
    {
     "data": {
      "text/html": [
       "<pre>Parsing completed. Parsed 21928 lines in 0.086312 secs.</pre>"
      ],
      "text/plain": [
       "Parsing completed. Parsed 21928 lines in 0.086312 secs."
      ]
     },
     "metadata": {},
     "output_type": "display_data"
    },
    {
     "data": {
      "text/html": [
       "<pre>Finished parsing file /storage/homedir/dima/.scidyn/sjr/scimagojr 2006.csv</pre>"
      ],
      "text/plain": [
       "Finished parsing file /storage/homedir/dima/.scidyn/sjr/scimagojr 2006.csv"
      ]
     },
     "metadata": {},
     "output_type": "display_data"
    },
    {
     "data": {
      "text/html": [
       "<pre>Parsing completed. Parsed 100 lines in 0.097547 secs.</pre>"
      ],
      "text/plain": [
       "Parsing completed. Parsed 100 lines in 0.097547 secs."
      ]
     },
     "metadata": {},
     "output_type": "display_data"
    },
    {
     "name": "stdout",
     "output_type": "stream",
     "text": [
      "------------------------------------------------------\n",
      "Inferred types from first 100 line(s) of file as \n",
      "column_type_hints=[int,int,str,str,str,str,str,int,int,int,int,int,int,str,str,str,str,str]\n",
      "If parsing fails due to incorrect types, you can correct\n",
      "the inferred type list above and pass it to read_csv in\n",
      "the column_type_hints argument\n",
      "------------------------------------------------------\n"
     ]
    },
    {
     "data": {
      "text/html": [
       "<pre>Finished parsing file /storage/homedir/dima/.scidyn/sjr/scimagojr 2006.csv</pre>"
      ],
      "text/plain": [
       "Finished parsing file /storage/homedir/dima/.scidyn/sjr/scimagojr 2006.csv"
      ]
     },
     "metadata": {},
     "output_type": "display_data"
    },
    {
     "data": {
      "text/html": [
       "<pre>Parsing completed. Parsed 23550 lines in 0.135448 secs.</pre>"
      ],
      "text/plain": [
       "Parsing completed. Parsed 23550 lines in 0.135448 secs."
      ]
     },
     "metadata": {},
     "output_type": "display_data"
    },
    {
     "data": {
      "text/html": [
       "<pre>Finished parsing file /storage/homedir/dima/.scidyn/sjr/scimagojr 2007.csv</pre>"
      ],
      "text/plain": [
       "Finished parsing file /storage/homedir/dima/.scidyn/sjr/scimagojr 2007.csv"
      ]
     },
     "metadata": {},
     "output_type": "display_data"
    },
    {
     "data": {
      "text/html": [
       "<pre>Parsing completed. Parsed 100 lines in 0.106871 secs.</pre>"
      ],
      "text/plain": [
       "Parsing completed. Parsed 100 lines in 0.106871 secs."
      ]
     },
     "metadata": {},
     "output_type": "display_data"
    },
    {
     "name": "stdout",
     "output_type": "stream",
     "text": [
      "------------------------------------------------------\n",
      "Inferred types from first 100 line(s) of file as \n",
      "column_type_hints=[int,int,str,str,str,str,str,int,int,int,int,int,int,str,str,str,str,str]\n",
      "If parsing fails due to incorrect types, you can correct\n",
      "the inferred type list above and pass it to read_csv in\n",
      "the column_type_hints argument\n",
      "------------------------------------------------------\n"
     ]
    },
    {
     "data": {
      "text/html": [
       "<pre>Finished parsing file /storage/homedir/dima/.scidyn/sjr/scimagojr 2007.csv</pre>"
      ],
      "text/plain": [
       "Finished parsing file /storage/homedir/dima/.scidyn/sjr/scimagojr 2007.csv"
      ]
     },
     "metadata": {},
     "output_type": "display_data"
    },
    {
     "data": {
      "text/html": [
       "<pre>Parsing completed. Parsed 25347 lines in 0.126904 secs.</pre>"
      ],
      "text/plain": [
       "Parsing completed. Parsed 25347 lines in 0.126904 secs."
      ]
     },
     "metadata": {},
     "output_type": "display_data"
    },
    {
     "data": {
      "text/html": [
       "<pre>Finished parsing file /storage/homedir/dima/.scidyn/sjr/scimagojr 2008.csv</pre>"
      ],
      "text/plain": [
       "Finished parsing file /storage/homedir/dima/.scidyn/sjr/scimagojr 2008.csv"
      ]
     },
     "metadata": {},
     "output_type": "display_data"
    },
    {
     "data": {
      "text/html": [
       "<pre>Parsing completed. Parsed 100 lines in 0.133197 secs.</pre>"
      ],
      "text/plain": [
       "Parsing completed. Parsed 100 lines in 0.133197 secs."
      ]
     },
     "metadata": {},
     "output_type": "display_data"
    },
    {
     "name": "stdout",
     "output_type": "stream",
     "text": [
      "------------------------------------------------------\n",
      "Inferred types from first 100 line(s) of file as \n",
      "column_type_hints=[int,int,str,str,str,str,str,int,int,int,int,int,int,str,str,str,str,str]\n",
      "If parsing fails due to incorrect types, you can correct\n",
      "the inferred type list above and pass it to read_csv in\n",
      "the column_type_hints argument\n",
      "------------------------------------------------------\n"
     ]
    },
    {
     "data": {
      "text/html": [
       "<pre>Finished parsing file /storage/homedir/dima/.scidyn/sjr/scimagojr 2008.csv</pre>"
      ],
      "text/plain": [
       "Finished parsing file /storage/homedir/dima/.scidyn/sjr/scimagojr 2008.csv"
      ]
     },
     "metadata": {},
     "output_type": "display_data"
    },
    {
     "data": {
      "text/html": [
       "<pre>Parsing completed. Parsed 27509 lines in 0.099141 secs.</pre>"
      ],
      "text/plain": [
       "Parsing completed. Parsed 27509 lines in 0.099141 secs."
      ]
     },
     "metadata": {},
     "output_type": "display_data"
    },
    {
     "data": {
      "text/html": [
       "<pre>Finished parsing file /storage/homedir/dima/.scidyn/sjr/scimagojr 2009.csv</pre>"
      ],
      "text/plain": [
       "Finished parsing file /storage/homedir/dima/.scidyn/sjr/scimagojr 2009.csv"
      ]
     },
     "metadata": {},
     "output_type": "display_data"
    },
    {
     "data": {
      "text/html": [
       "<pre>Parsing completed. Parsed 100 lines in 0.115971 secs.</pre>"
      ],
      "text/plain": [
       "Parsing completed. Parsed 100 lines in 0.115971 secs."
      ]
     },
     "metadata": {},
     "output_type": "display_data"
    },
    {
     "name": "stdout",
     "output_type": "stream",
     "text": [
      "------------------------------------------------------\n",
      "Inferred types from first 100 line(s) of file as \n",
      "column_type_hints=[int,int,str,str,str,str,str,int,int,int,int,int,int,str,str,str,str,str]\n",
      "If parsing fails due to incorrect types, you can correct\n",
      "the inferred type list above and pass it to read_csv in\n",
      "the column_type_hints argument\n",
      "------------------------------------------------------\n"
     ]
    },
    {
     "data": {
      "text/html": [
       "<pre>Finished parsing file /storage/homedir/dima/.scidyn/sjr/scimagojr 2009.csv</pre>"
      ],
      "text/plain": [
       "Finished parsing file /storage/homedir/dima/.scidyn/sjr/scimagojr 2009.csv"
      ]
     },
     "metadata": {},
     "output_type": "display_data"
    },
    {
     "data": {
      "text/html": [
       "<pre>Parsing completed. Parsed 29367 lines in 0.108933 secs.</pre>"
      ],
      "text/plain": [
       "Parsing completed. Parsed 29367 lines in 0.108933 secs."
      ]
     },
     "metadata": {},
     "output_type": "display_data"
    },
    {
     "data": {
      "text/html": [
       "<pre>Finished parsing file /storage/homedir/dima/.scidyn/sjr/scimagojr 2010.csv</pre>"
      ],
      "text/plain": [
       "Finished parsing file /storage/homedir/dima/.scidyn/sjr/scimagojr 2010.csv"
      ]
     },
     "metadata": {},
     "output_type": "display_data"
    },
    {
     "data": {
      "text/html": [
       "<pre>Parsing completed. Parsed 100 lines in 0.117398 secs.</pre>"
      ],
      "text/plain": [
       "Parsing completed. Parsed 100 lines in 0.117398 secs."
      ]
     },
     "metadata": {},
     "output_type": "display_data"
    },
    {
     "name": "stdout",
     "output_type": "stream",
     "text": [
      "------------------------------------------------------\n",
      "Inferred types from first 100 line(s) of file as \n",
      "column_type_hints=[int,int,str,str,str,str,str,int,int,int,int,int,int,str,str,str,str,str]\n",
      "If parsing fails due to incorrect types, you can correct\n",
      "the inferred type list above and pass it to read_csv in\n",
      "the column_type_hints argument\n",
      "------------------------------------------------------\n"
     ]
    },
    {
     "data": {
      "text/html": [
       "<pre>Finished parsing file /storage/homedir/dima/.scidyn/sjr/scimagojr 2010.csv</pre>"
      ],
      "text/plain": [
       "Finished parsing file /storage/homedir/dima/.scidyn/sjr/scimagojr 2010.csv"
      ]
     },
     "metadata": {},
     "output_type": "display_data"
    },
    {
     "data": {
      "text/html": [
       "<pre>Parsing completed. Parsed 31123 lines in 0.113187 secs.</pre>"
      ],
      "text/plain": [
       "Parsing completed. Parsed 31123 lines in 0.113187 secs."
      ]
     },
     "metadata": {},
     "output_type": "display_data"
    },
    {
     "data": {
      "text/html": [
       "<pre>Finished parsing file /storage/homedir/dima/.scidyn/sjr/scimagojr 2011.csv</pre>"
      ],
      "text/plain": [
       "Finished parsing file /storage/homedir/dima/.scidyn/sjr/scimagojr 2011.csv"
      ]
     },
     "metadata": {},
     "output_type": "display_data"
    },
    {
     "data": {
      "text/html": [
       "<pre>Parsing completed. Parsed 100 lines in 0.12989 secs.</pre>"
      ],
      "text/plain": [
       "Parsing completed. Parsed 100 lines in 0.12989 secs."
      ]
     },
     "metadata": {},
     "output_type": "display_data"
    },
    {
     "name": "stdout",
     "output_type": "stream",
     "text": [
      "------------------------------------------------------\n",
      "Inferred types from first 100 line(s) of file as \n",
      "column_type_hints=[int,int,str,str,str,str,str,int,int,int,int,int,int,str,str,str,str,str]\n",
      "If parsing fails due to incorrect types, you can correct\n",
      "the inferred type list above and pass it to read_csv in\n",
      "the column_type_hints argument\n",
      "------------------------------------------------------\n"
     ]
    },
    {
     "data": {
      "text/html": [
       "<pre>Finished parsing file /storage/homedir/dima/.scidyn/sjr/scimagojr 2011.csv</pre>"
      ],
      "text/plain": [
       "Finished parsing file /storage/homedir/dima/.scidyn/sjr/scimagojr 2011.csv"
      ]
     },
     "metadata": {},
     "output_type": "display_data"
    },
    {
     "data": {
      "text/html": [
       "<pre>Parsing completed. Parsed 32639 lines in 0.132744 secs.</pre>"
      ],
      "text/plain": [
       "Parsing completed. Parsed 32639 lines in 0.132744 secs."
      ]
     },
     "metadata": {},
     "output_type": "display_data"
    },
    {
     "data": {
      "text/html": [
       "<pre>Finished parsing file /storage/homedir/dima/.scidyn/sjr/scimagojr 2012.csv</pre>"
      ],
      "text/plain": [
       "Finished parsing file /storage/homedir/dima/.scidyn/sjr/scimagojr 2012.csv"
      ]
     },
     "metadata": {},
     "output_type": "display_data"
    },
    {
     "data": {
      "text/html": [
       "<pre>Parsing completed. Parsed 100 lines in 0.134671 secs.</pre>"
      ],
      "text/plain": [
       "Parsing completed. Parsed 100 lines in 0.134671 secs."
      ]
     },
     "metadata": {},
     "output_type": "display_data"
    },
    {
     "name": "stdout",
     "output_type": "stream",
     "text": [
      "------------------------------------------------------\n",
      "Inferred types from first 100 line(s) of file as \n",
      "column_type_hints=[int,int,str,str,str,str,str,int,int,int,int,int,int,str,str,str,str,str]\n",
      "If parsing fails due to incorrect types, you can correct\n",
      "the inferred type list above and pass it to read_csv in\n",
      "the column_type_hints argument\n",
      "------------------------------------------------------\n"
     ]
    },
    {
     "data": {
      "text/html": [
       "<pre>Finished parsing file /storage/homedir/dima/.scidyn/sjr/scimagojr 2012.csv</pre>"
      ],
      "text/plain": [
       "Finished parsing file /storage/homedir/dima/.scidyn/sjr/scimagojr 2012.csv"
      ]
     },
     "metadata": {},
     "output_type": "display_data"
    },
    {
     "data": {
      "text/html": [
       "<pre>Parsing completed. Parsed 33434 lines in 0.13239 secs.</pre>"
      ],
      "text/plain": [
       "Parsing completed. Parsed 33434 lines in 0.13239 secs."
      ]
     },
     "metadata": {},
     "output_type": "display_data"
    },
    {
     "data": {
      "text/html": [
       "<pre>Finished parsing file /storage/homedir/dima/.scidyn/sjr/scimagojr 2013.csv</pre>"
      ],
      "text/plain": [
       "Finished parsing file /storage/homedir/dima/.scidyn/sjr/scimagojr 2013.csv"
      ]
     },
     "metadata": {},
     "output_type": "display_data"
    },
    {
     "data": {
      "text/html": [
       "<pre>Parsing completed. Parsed 100 lines in 0.122858 secs.</pre>"
      ],
      "text/plain": [
       "Parsing completed. Parsed 100 lines in 0.122858 secs."
      ]
     },
     "metadata": {},
     "output_type": "display_data"
    },
    {
     "name": "stdout",
     "output_type": "stream",
     "text": [
      "------------------------------------------------------\n",
      "Inferred types from first 100 line(s) of file as \n",
      "column_type_hints=[int,int,str,str,str,str,str,int,int,int,int,int,int,str,str,str,str,str]\n",
      "If parsing fails due to incorrect types, you can correct\n",
      "the inferred type list above and pass it to read_csv in\n",
      "the column_type_hints argument\n",
      "------------------------------------------------------\n"
     ]
    },
    {
     "data": {
      "text/html": [
       "<pre>Finished parsing file /storage/homedir/dima/.scidyn/sjr/scimagojr 2013.csv</pre>"
      ],
      "text/plain": [
       "Finished parsing file /storage/homedir/dima/.scidyn/sjr/scimagojr 2013.csv"
      ]
     },
     "metadata": {},
     "output_type": "display_data"
    },
    {
     "data": {
      "text/html": [
       "<pre>Parsing completed. Parsed 33946 lines in 0.109403 secs.</pre>"
      ],
      "text/plain": [
       "Parsing completed. Parsed 33946 lines in 0.109403 secs."
      ]
     },
     "metadata": {},
     "output_type": "display_data"
    },
    {
     "data": {
      "text/html": [
       "<pre>Finished parsing file /storage/homedir/dima/.scidyn/sjr/scimagojr 2014.csv</pre>"
      ],
      "text/plain": [
       "Finished parsing file /storage/homedir/dima/.scidyn/sjr/scimagojr 2014.csv"
      ]
     },
     "metadata": {},
     "output_type": "display_data"
    },
    {
     "data": {
      "text/html": [
       "<pre>Parsing completed. Parsed 100 lines in 0.143001 secs.</pre>"
      ],
      "text/plain": [
       "Parsing completed. Parsed 100 lines in 0.143001 secs."
      ]
     },
     "metadata": {},
     "output_type": "display_data"
    },
    {
     "name": "stdout",
     "output_type": "stream",
     "text": [
      "------------------------------------------------------\n",
      "Inferred types from first 100 line(s) of file as \n",
      "column_type_hints=[int,int,str,str,str,str,str,int,int,int,int,int,int,str,str,str,str,str]\n",
      "If parsing fails due to incorrect types, you can correct\n",
      "the inferred type list above and pass it to read_csv in\n",
      "the column_type_hints argument\n",
      "------------------------------------------------------\n"
     ]
    },
    {
     "data": {
      "text/html": [
       "<pre>Finished parsing file /storage/homedir/dima/.scidyn/sjr/scimagojr 2014.csv</pre>"
      ],
      "text/plain": [
       "Finished parsing file /storage/homedir/dima/.scidyn/sjr/scimagojr 2014.csv"
      ]
     },
     "metadata": {},
     "output_type": "display_data"
    },
    {
     "data": {
      "text/html": [
       "<pre>Parsing completed. Parsed 34627 lines in 0.126164 secs.</pre>"
      ],
      "text/plain": [
       "Parsing completed. Parsed 34627 lines in 0.126164 secs."
      ]
     },
     "metadata": {},
     "output_type": "display_data"
    },
    {
     "data": {
      "text/html": [
       "<pre>Finished parsing file /storage/homedir/dima/.scidyn/sjr/scimagojr 2015.csv</pre>"
      ],
      "text/plain": [
       "Finished parsing file /storage/homedir/dima/.scidyn/sjr/scimagojr 2015.csv"
      ]
     },
     "metadata": {},
     "output_type": "display_data"
    },
    {
     "data": {
      "text/html": [
       "<pre>Parsing completed. Parsed 100 lines in 0.140235 secs.</pre>"
      ],
      "text/plain": [
       "Parsing completed. Parsed 100 lines in 0.140235 secs."
      ]
     },
     "metadata": {},
     "output_type": "display_data"
    },
    {
     "name": "stdout",
     "output_type": "stream",
     "text": [
      "------------------------------------------------------\n",
      "Inferred types from first 100 line(s) of file as \n",
      "column_type_hints=[int,int,str,str,str,str,str,int,int,int,int,int,int,str,str,str,str,str]\n",
      "If parsing fails due to incorrect types, you can correct\n",
      "the inferred type list above and pass it to read_csv in\n",
      "the column_type_hints argument\n",
      "------------------------------------------------------\n"
     ]
    },
    {
     "data": {
      "text/html": [
       "<pre>Finished parsing file /storage/homedir/dima/.scidyn/sjr/scimagojr 2015.csv</pre>"
      ],
      "text/plain": [
       "Finished parsing file /storage/homedir/dima/.scidyn/sjr/scimagojr 2015.csv"
      ]
     },
     "metadata": {},
     "output_type": "display_data"
    },
    {
     "data": {
      "text/html": [
       "<pre>Parsing completed. Parsed 34981 lines in 0.13075 secs.</pre>"
      ],
      "text/plain": [
       "Parsing completed. Parsed 34981 lines in 0.13075 secs."
      ]
     },
     "metadata": {},
     "output_type": "display_data"
    },
    {
     "data": {
      "text/html": [
       "<pre>Finished parsing file /storage/homedir/dima/.scidyn/sjr/scimagojr 2016.csv</pre>"
      ],
      "text/plain": [
       "Finished parsing file /storage/homedir/dima/.scidyn/sjr/scimagojr 2016.csv"
      ]
     },
     "metadata": {},
     "output_type": "display_data"
    },
    {
     "data": {
      "text/html": [
       "<pre>Parsing completed. Parsed 100 lines in 0.135673 secs.</pre>"
      ],
      "text/plain": [
       "Parsing completed. Parsed 100 lines in 0.135673 secs."
      ]
     },
     "metadata": {},
     "output_type": "display_data"
    },
    {
     "name": "stdout",
     "output_type": "stream",
     "text": [
      "------------------------------------------------------\n",
      "Inferred types from first 100 line(s) of file as \n",
      "column_type_hints=[int,int,str,str,str,str,str,int,int,int,int,int,int,str,str,str,str,str]\n",
      "If parsing fails due to incorrect types, you can correct\n",
      "the inferred type list above and pass it to read_csv in\n",
      "the column_type_hints argument\n",
      "------------------------------------------------------\n"
     ]
    },
    {
     "data": {
      "text/html": [
       "<pre>Finished parsing file /storage/homedir/dima/.scidyn/sjr/scimagojr 2016.csv</pre>"
      ],
      "text/plain": [
       "Finished parsing file /storage/homedir/dima/.scidyn/sjr/scimagojr 2016.csv"
      ]
     },
     "metadata": {},
     "output_type": "display_data"
    },
    {
     "data": {
      "text/html": [
       "<pre>Parsing completed. Parsed 35270 lines in 0.11709 secs.</pre>"
      ],
      "text/plain": [
       "Parsing completed. Parsed 35270 lines in 0.11709 secs."
      ]
     },
     "metadata": {},
     "output_type": "display_data"
    },
    {
     "data": {
      "text/html": [
       "<pre>Finished parsing file /storage/homedir/dima/.scidyn/sjr/scimagojr 2017.csv</pre>"
      ],
      "text/plain": [
       "Finished parsing file /storage/homedir/dima/.scidyn/sjr/scimagojr 2017.csv"
      ]
     },
     "metadata": {},
     "output_type": "display_data"
    },
    {
     "data": {
      "text/html": [
       "<pre>Parsing completed. Parsed 100 lines in 0.137004 secs.</pre>"
      ],
      "text/plain": [
       "Parsing completed. Parsed 100 lines in 0.137004 secs."
      ]
     },
     "metadata": {},
     "output_type": "display_data"
    },
    {
     "name": "stdout",
     "output_type": "stream",
     "text": [
      "------------------------------------------------------\n",
      "Inferred types from first 100 line(s) of file as \n",
      "column_type_hints=[int,int,str,str,str,str,str,int,int,int,int,int,int,str,str,str,str,str]\n",
      "If parsing fails due to incorrect types, you can correct\n",
      "the inferred type list above and pass it to read_csv in\n",
      "the column_type_hints argument\n",
      "------------------------------------------------------\n"
     ]
    },
    {
     "data": {
      "text/html": [
       "<pre>Finished parsing file /storage/homedir/dima/.scidyn/sjr/scimagojr 2017.csv</pre>"
      ],
      "text/plain": [
       "Finished parsing file /storage/homedir/dima/.scidyn/sjr/scimagojr 2017.csv"
      ]
     },
     "metadata": {},
     "output_type": "display_data"
    },
    {
     "data": {
      "text/html": [
       "<pre>Parsing completed. Parsed 34171 lines in 0.130748 secs.</pre>"
      ],
      "text/plain": [
       "Parsing completed. Parsed 34171 lines in 0.130748 secs."
      ]
     },
     "metadata": {},
     "output_type": "display_data"
    },
    {
     "data": {
      "text/html": [
       "<pre>Using default 12 lambda workers.</pre>"
      ],
      "text/plain": [
       "Using default 12 lambda workers."
      ]
     },
     "metadata": {},
     "output_type": "display_data"
    },
    {
     "data": {
      "text/html": [
       "<pre>To maximize the degree of parallelism, add the following code to the beginning of the program:</pre>"
      ],
      "text/plain": [
       "To maximize the degree of parallelism, add the following code to the beginning of the program:"
      ]
     },
     "metadata": {},
     "output_type": "display_data"
    },
    {
     "data": {
      "text/html": [
       "<pre>\"turicreate.config.set_runtime_config('TURI_DEFAULT_NUM_PYLAMBDA_WORKERS', 24)\"</pre>"
      ],
      "text/plain": [
       "\"turicreate.config.set_runtime_config('TURI_DEFAULT_NUM_PYLAMBDA_WORKERS', 24)\""
      ]
     },
     "metadata": {},
     "output_type": "display_data"
    },
    {
     "data": {
      "text/html": [
       "<pre>Note that increasing the degree of parallelism also increases the memory footprint.</pre>"
      ],
      "text/plain": [
       "Note that increasing the degree of parallelism also increases the memory footprint."
      ]
     },
     "metadata": {},
     "output_type": "display_data"
    },
    {
     "data": {
      "text/html": [
       "<div style=\"max-height:1000px;max-width:1500px;overflow:auto;\"><table frame=\"box\" rules=\"cols\">\n",
       "    <tr>\n",
       "        <th style=\"padding-left: 1em; padding-right: 1em; text-align: center\">Rank</th>\n",
       "        <th style=\"padding-left: 1em; padding-right: 1em; text-align: center\">Sourceid</th>\n",
       "        <th style=\"padding-left: 1em; padding-right: 1em; text-align: center\">Title</th>\n",
       "        <th style=\"padding-left: 1em; padding-right: 1em; text-align: center\">Type</th>\n",
       "        <th style=\"padding-left: 1em; padding-right: 1em; text-align: center\">SJR</th>\n",
       "        <th style=\"padding-left: 1em; padding-right: 1em; text-align: center\">SJR Best Quartile</th>\n",
       "        <th style=\"padding-left: 1em; padding-right: 1em; text-align: center\">H index</th>\n",
       "        <th style=\"padding-left: 1em; padding-right: 1em; text-align: center\">Total Docs.</th>\n",
       "        <th style=\"padding-left: 1em; padding-right: 1em; text-align: center\">Total Docs. (3years)</th>\n",
       "    </tr>\n",
       "    <tr>\n",
       "        <td style=\"padding-left: 1em; padding-right: 1em; text-align: center; vertical-align: top\">1</td>\n",
       "        <td style=\"padding-left: 1em; padding-right: 1em; text-align: center; vertical-align: top\">16801</td>\n",
       "        <td style=\"padding-left: 1em; padding-right: 1em; text-align: center; vertical-align: top\">Annual Review of<br>Biochemistry ...</td>\n",
       "        <td style=\"padding-left: 1em; padding-right: 1em; text-align: center; vertical-align: top\">journal</td>\n",
       "        <td style=\"padding-left: 1em; padding-right: 1em; text-align: center; vertical-align: top\">50,518</td>\n",
       "        <td style=\"padding-left: 1em; padding-right: 1em; text-align: center; vertical-align: top\">Q1</td>\n",
       "        <td style=\"padding-left: 1em; padding-right: 1em; text-align: center; vertical-align: top\">268</td>\n",
       "        <td style=\"padding-left: 1em; padding-right: 1em; text-align: center; vertical-align: top\">30</td>\n",
       "        <td style=\"padding-left: 1em; padding-right: 1em; text-align: center; vertical-align: top\">81</td>\n",
       "    </tr>\n",
       "    <tr>\n",
       "        <td style=\"padding-left: 1em; padding-right: 1em; text-align: center; vertical-align: top\">1</td>\n",
       "        <td style=\"padding-left: 1em; padding-right: 1em; text-align: center; vertical-align: top\">16801</td>\n",
       "        <td style=\"padding-left: 1em; padding-right: 1em; text-align: center; vertical-align: top\">Annual Review of<br>Biochemistry ...</td>\n",
       "        <td style=\"padding-left: 1em; padding-right: 1em; text-align: center; vertical-align: top\">journal</td>\n",
       "        <td style=\"padding-left: 1em; padding-right: 1em; text-align: center; vertical-align: top\">50,518</td>\n",
       "        <td style=\"padding-left: 1em; padding-right: 1em; text-align: center; vertical-align: top\">Q1</td>\n",
       "        <td style=\"padding-left: 1em; padding-right: 1em; text-align: center; vertical-align: top\">268</td>\n",
       "        <td style=\"padding-left: 1em; padding-right: 1em; text-align: center; vertical-align: top\">30</td>\n",
       "        <td style=\"padding-left: 1em; padding-right: 1em; text-align: center; vertical-align: top\">81</td>\n",
       "    </tr>\n",
       "    <tr>\n",
       "        <td style=\"padding-left: 1em; padding-right: 1em; text-align: center; vertical-align: top\">2</td>\n",
       "        <td style=\"padding-left: 1em; padding-right: 1em; text-align: center; vertical-align: top\">18434</td>\n",
       "        <td style=\"padding-left: 1em; padding-right: 1em; text-align: center; vertical-align: top\">Cell</td>\n",
       "        <td style=\"padding-left: 1em; padding-right: 1em; text-align: center; vertical-align: top\">journal</td>\n",
       "        <td style=\"padding-left: 1em; padding-right: 1em; text-align: center; vertical-align: top\">43,449</td>\n",
       "        <td style=\"padding-left: 1em; padding-right: 1em; text-align: center; vertical-align: top\">Q1</td>\n",
       "        <td style=\"padding-left: 1em; padding-right: 1em; text-align: center; vertical-align: top\">682</td>\n",
       "        <td style=\"padding-left: 1em; padding-right: 1em; text-align: center; vertical-align: top\">354</td>\n",
       "        <td style=\"padding-left: 1em; padding-right: 1em; text-align: center; vertical-align: top\">1359</td>\n",
       "    </tr>\n",
       "    <tr>\n",
       "        <td style=\"padding-left: 1em; padding-right: 1em; text-align: center; vertical-align: top\">2</td>\n",
       "        <td style=\"padding-left: 1em; padding-right: 1em; text-align: center; vertical-align: top\">18434</td>\n",
       "        <td style=\"padding-left: 1em; padding-right: 1em; text-align: center; vertical-align: top\">Cell</td>\n",
       "        <td style=\"padding-left: 1em; padding-right: 1em; text-align: center; vertical-align: top\">journal</td>\n",
       "        <td style=\"padding-left: 1em; padding-right: 1em; text-align: center; vertical-align: top\">43,449</td>\n",
       "        <td style=\"padding-left: 1em; padding-right: 1em; text-align: center; vertical-align: top\">Q1</td>\n",
       "        <td style=\"padding-left: 1em; padding-right: 1em; text-align: center; vertical-align: top\">682</td>\n",
       "        <td style=\"padding-left: 1em; padding-right: 1em; text-align: center; vertical-align: top\">354</td>\n",
       "        <td style=\"padding-left: 1em; padding-right: 1em; text-align: center; vertical-align: top\">1359</td>\n",
       "    </tr>\n",
       "    <tr>\n",
       "        <td style=\"padding-left: 1em; padding-right: 1em; text-align: center; vertical-align: top\">3</td>\n",
       "        <td style=\"padding-left: 1em; padding-right: 1em; text-align: center; vertical-align: top\">20651</td>\n",
       "        <td style=\"padding-left: 1em; padding-right: 1em; text-align: center; vertical-align: top\">Annual Review of<br>Immunology ...</td>\n",
       "        <td style=\"padding-left: 1em; padding-right: 1em; text-align: center; vertical-align: top\">journal</td>\n",
       "        <td style=\"padding-left: 1em; padding-right: 1em; text-align: center; vertical-align: top\">43,020</td>\n",
       "        <td style=\"padding-left: 1em; padding-right: 1em; text-align: center; vertical-align: top\">Q1</td>\n",
       "        <td style=\"padding-left: 1em; padding-right: 1em; text-align: center; vertical-align: top\">274</td>\n",
       "        <td style=\"padding-left: 1em; padding-right: 1em; text-align: center; vertical-align: top\">29</td>\n",
       "        <td style=\"padding-left: 1em; padding-right: 1em; text-align: center; vertical-align: top\">81</td>\n",
       "    </tr>\n",
       "    <tr>\n",
       "        <td style=\"padding-left: 1em; padding-right: 1em; text-align: center; vertical-align: top\">3</td>\n",
       "        <td style=\"padding-left: 1em; padding-right: 1em; text-align: center; vertical-align: top\">20651</td>\n",
       "        <td style=\"padding-left: 1em; padding-right: 1em; text-align: center; vertical-align: top\">Annual Review of<br>Immunology ...</td>\n",
       "        <td style=\"padding-left: 1em; padding-right: 1em; text-align: center; vertical-align: top\">journal</td>\n",
       "        <td style=\"padding-left: 1em; padding-right: 1em; text-align: center; vertical-align: top\">43,020</td>\n",
       "        <td style=\"padding-left: 1em; padding-right: 1em; text-align: center; vertical-align: top\">Q1</td>\n",
       "        <td style=\"padding-left: 1em; padding-right: 1em; text-align: center; vertical-align: top\">274</td>\n",
       "        <td style=\"padding-left: 1em; padding-right: 1em; text-align: center; vertical-align: top\">29</td>\n",
       "        <td style=\"padding-left: 1em; padding-right: 1em; text-align: center; vertical-align: top\">81</td>\n",
       "    </tr>\n",
       "    <tr>\n",
       "        <td style=\"padding-left: 1em; padding-right: 1em; text-align: center; vertical-align: top\">4</td>\n",
       "        <td style=\"padding-left: 1em; padding-right: 1em; text-align: center; vertical-align: top\">18395</td>\n",
       "        <td style=\"padding-left: 1em; padding-right: 1em; text-align: center; vertical-align: top\">Annual Review of Cell and<br>Developmental Biology ...</td>\n",
       "        <td style=\"padding-left: 1em; padding-right: 1em; text-align: center; vertical-align: top\">book series</td>\n",
       "        <td style=\"padding-left: 1em; padding-right: 1em; text-align: center; vertical-align: top\">35,051</td>\n",
       "        <td style=\"padding-left: 1em; padding-right: 1em; text-align: center; vertical-align: top\">Q1</td>\n",
       "        <td style=\"padding-left: 1em; padding-right: 1em; text-align: center; vertical-align: top\">199</td>\n",
       "        <td style=\"padding-left: 1em; padding-right: 1em; text-align: center; vertical-align: top\">25</td>\n",
       "        <td style=\"padding-left: 1em; padding-right: 1em; text-align: center; vertical-align: top\">61</td>\n",
       "    </tr>\n",
       "    <tr>\n",
       "        <td style=\"padding-left: 1em; padding-right: 1em; text-align: center; vertical-align: top\">4</td>\n",
       "        <td style=\"padding-left: 1em; padding-right: 1em; text-align: center; vertical-align: top\">18395</td>\n",
       "        <td style=\"padding-left: 1em; padding-right: 1em; text-align: center; vertical-align: top\">Annual Review of Cell and<br>Developmental Biology ...</td>\n",
       "        <td style=\"padding-left: 1em; padding-right: 1em; text-align: center; vertical-align: top\">book series</td>\n",
       "        <td style=\"padding-left: 1em; padding-right: 1em; text-align: center; vertical-align: top\">35,051</td>\n",
       "        <td style=\"padding-left: 1em; padding-right: 1em; text-align: center; vertical-align: top\">Q1</td>\n",
       "        <td style=\"padding-left: 1em; padding-right: 1em; text-align: center; vertical-align: top\">199</td>\n",
       "        <td style=\"padding-left: 1em; padding-right: 1em; text-align: center; vertical-align: top\">25</td>\n",
       "        <td style=\"padding-left: 1em; padding-right: 1em; text-align: center; vertical-align: top\">61</td>\n",
       "    </tr>\n",
       "    <tr>\n",
       "        <td style=\"padding-left: 1em; padding-right: 1em; text-align: center; vertical-align: top\">5</td>\n",
       "        <td style=\"padding-left: 1em; padding-right: 1em; text-align: center; vertical-align: top\">14181</td>\n",
       "        <td style=\"padding-left: 1em; padding-right: 1em; text-align: center; vertical-align: top\">Annual Review of<br>Neuroscience ...</td>\n",
       "        <td style=\"padding-left: 1em; padding-right: 1em; text-align: center; vertical-align: top\">book series</td>\n",
       "        <td style=\"padding-left: 1em; padding-right: 1em; text-align: center; vertical-align: top\">25,760</td>\n",
       "        <td style=\"padding-left: 1em; padding-right: 1em; text-align: center; vertical-align: top\">Q1</td>\n",
       "        <td style=\"padding-left: 1em; padding-right: 1em; text-align: center; vertical-align: top\">217</td>\n",
       "        <td style=\"padding-left: 1em; padding-right: 1em; text-align: center; vertical-align: top\">21</td>\n",
       "        <td style=\"padding-left: 1em; padding-right: 1em; text-align: center; vertical-align: top\">60</td>\n",
       "    </tr>\n",
       "    <tr>\n",
       "        <td style=\"padding-left: 1em; padding-right: 1em; text-align: center; vertical-align: top\">6</td>\n",
       "        <td style=\"padding-left: 1em; padding-right: 1em; text-align: center; vertical-align: top\">22126</td>\n",
       "        <td style=\"padding-left: 1em; padding-right: 1em; text-align: center; vertical-align: top\">Genes and Development</td>\n",
       "        <td style=\"padding-left: 1em; padding-right: 1em; text-align: center; vertical-align: top\">journal</td>\n",
       "        <td style=\"padding-left: 1em; padding-right: 1em; text-align: center; vertical-align: top\">25,272</td>\n",
       "        <td style=\"padding-left: 1em; padding-right: 1em; text-align: center; vertical-align: top\">Q1</td>\n",
       "        <td style=\"padding-left: 1em; padding-right: 1em; text-align: center; vertical-align: top\">401</td>\n",
       "        <td style=\"padding-left: 1em; padding-right: 1em; text-align: center; vertical-align: top\">306</td>\n",
       "        <td style=\"padding-left: 1em; padding-right: 1em; text-align: center; vertical-align: top\">915</td>\n",
       "    </tr>\n",
       "</table>\n",
       "<table frame=\"box\" rules=\"cols\">\n",
       "    <tr>\n",
       "        <th style=\"padding-left: 1em; padding-right: 1em; text-align: center\">Total Refs.</th>\n",
       "        <th style=\"padding-left: 1em; padding-right: 1em; text-align: center\">Total Cites (3years)</th>\n",
       "        <th style=\"padding-left: 1em; padding-right: 1em; text-align: center\">Citable Docs. (3years)</th>\n",
       "        <th style=\"padding-left: 1em; padding-right: 1em; text-align: center\">Cites / Doc. (2years)</th>\n",
       "        <th style=\"padding-left: 1em; padding-right: 1em; text-align: center\">Ref. / Doc.</th>\n",
       "        <th style=\"padding-left: 1em; padding-right: 1em; text-align: center\">Country</th>\n",
       "    </tr>\n",
       "    <tr>\n",
       "        <td style=\"padding-left: 1em; padding-right: 1em; text-align: center; vertical-align: top\">5913</td>\n",
       "        <td style=\"padding-left: 1em; padding-right: 1em; text-align: center; vertical-align: top\">3474</td>\n",
       "        <td style=\"padding-left: 1em; padding-right: 1em; text-align: center; vertical-align: top\">80</td>\n",
       "        <td style=\"padding-left: 1em; padding-right: 1em; text-align: center; vertical-align: top\">35,65</td>\n",
       "        <td style=\"padding-left: 1em; padding-right: 1em; text-align: center; vertical-align: top\">197,10</td>\n",
       "        <td style=\"padding-left: 1em; padding-right: 1em; text-align: center; vertical-align: top\">United States</td>\n",
       "    </tr>\n",
       "    <tr>\n",
       "        <td style=\"padding-left: 1em; padding-right: 1em; text-align: center; vertical-align: top\">5913</td>\n",
       "        <td style=\"padding-left: 1em; padding-right: 1em; text-align: center; vertical-align: top\">3474</td>\n",
       "        <td style=\"padding-left: 1em; padding-right: 1em; text-align: center; vertical-align: top\">80</td>\n",
       "        <td style=\"padding-left: 1em; padding-right: 1em; text-align: center; vertical-align: top\">35,65</td>\n",
       "        <td style=\"padding-left: 1em; padding-right: 1em; text-align: center; vertical-align: top\">197,10</td>\n",
       "        <td style=\"padding-left: 1em; padding-right: 1em; text-align: center; vertical-align: top\">United States</td>\n",
       "    </tr>\n",
       "    <tr>\n",
       "        <td style=\"padding-left: 1em; padding-right: 1em; text-align: center; vertical-align: top\">15869</td>\n",
       "        <td style=\"padding-left: 1em; padding-right: 1em; text-align: center; vertical-align: top\">47925</td>\n",
       "        <td style=\"padding-left: 1em; padding-right: 1em; text-align: center; vertical-align: top\">1328</td>\n",
       "        <td style=\"padding-left: 1em; padding-right: 1em; text-align: center; vertical-align: top\">34,75</td>\n",
       "        <td style=\"padding-left: 1em; padding-right: 1em; text-align: center; vertical-align: top\">44,83</td>\n",
       "        <td style=\"padding-left: 1em; padding-right: 1em; text-align: center; vertical-align: top\">United States</td>\n",
       "    </tr>\n",
       "    <tr>\n",
       "        <td style=\"padding-left: 1em; padding-right: 1em; text-align: center; vertical-align: top\">15869</td>\n",
       "        <td style=\"padding-left: 1em; padding-right: 1em; text-align: center; vertical-align: top\">47925</td>\n",
       "        <td style=\"padding-left: 1em; padding-right: 1em; text-align: center; vertical-align: top\">1328</td>\n",
       "        <td style=\"padding-left: 1em; padding-right: 1em; text-align: center; vertical-align: top\">34,75</td>\n",
       "        <td style=\"padding-left: 1em; padding-right: 1em; text-align: center; vertical-align: top\">44,83</td>\n",
       "        <td style=\"padding-left: 1em; padding-right: 1em; text-align: center; vertical-align: top\">United States</td>\n",
       "    </tr>\n",
       "    <tr>\n",
       "        <td style=\"padding-left: 1em; padding-right: 1em; text-align: center; vertical-align: top\">5236</td>\n",
       "        <td style=\"padding-left: 1em; padding-right: 1em; text-align: center; vertical-align: top\">4073</td>\n",
       "        <td style=\"padding-left: 1em; padding-right: 1em; text-align: center; vertical-align: top\">81</td>\n",
       "        <td style=\"padding-left: 1em; padding-right: 1em; text-align: center; vertical-align: top\">47,16</td>\n",
       "        <td style=\"padding-left: 1em; padding-right: 1em; text-align: center; vertical-align: top\">180,55</td>\n",
       "        <td style=\"padding-left: 1em; padding-right: 1em; text-align: center; vertical-align: top\">United States</td>\n",
       "    </tr>\n",
       "    <tr>\n",
       "        <td style=\"padding-left: 1em; padding-right: 1em; text-align: center; vertical-align: top\">5236</td>\n",
       "        <td style=\"padding-left: 1em; padding-right: 1em; text-align: center; vertical-align: top\">4073</td>\n",
       "        <td style=\"padding-left: 1em; padding-right: 1em; text-align: center; vertical-align: top\">81</td>\n",
       "        <td style=\"padding-left: 1em; padding-right: 1em; text-align: center; vertical-align: top\">47,16</td>\n",
       "        <td style=\"padding-left: 1em; padding-right: 1em; text-align: center; vertical-align: top\">180,55</td>\n",
       "        <td style=\"padding-left: 1em; padding-right: 1em; text-align: center; vertical-align: top\">United States</td>\n",
       "    </tr>\n",
       "    <tr>\n",
       "        <td style=\"padding-left: 1em; padding-right: 1em; text-align: center; vertical-align: top\">4134</td>\n",
       "        <td style=\"padding-left: 1em; padding-right: 1em; text-align: center; vertical-align: top\">1793</td>\n",
       "        <td style=\"padding-left: 1em; padding-right: 1em; text-align: center; vertical-align: top\">60</td>\n",
       "        <td style=\"padding-left: 1em; padding-right: 1em; text-align: center; vertical-align: top\">26,89</td>\n",
       "        <td style=\"padding-left: 1em; padding-right: 1em; text-align: center; vertical-align: top\">165,36</td>\n",
       "        <td style=\"padding-left: 1em; padding-right: 1em; text-align: center; vertical-align: top\">United States</td>\n",
       "    </tr>\n",
       "    <tr>\n",
       "        <td style=\"padding-left: 1em; padding-right: 1em; text-align: center; vertical-align: top\">4134</td>\n",
       "        <td style=\"padding-left: 1em; padding-right: 1em; text-align: center; vertical-align: top\">1793</td>\n",
       "        <td style=\"padding-left: 1em; padding-right: 1em; text-align: center; vertical-align: top\">60</td>\n",
       "        <td style=\"padding-left: 1em; padding-right: 1em; text-align: center; vertical-align: top\">26,89</td>\n",
       "        <td style=\"padding-left: 1em; padding-right: 1em; text-align: center; vertical-align: top\">165,36</td>\n",
       "        <td style=\"padding-left: 1em; padding-right: 1em; text-align: center; vertical-align: top\">United States</td>\n",
       "    </tr>\n",
       "    <tr>\n",
       "        <td style=\"padding-left: 1em; padding-right: 1em; text-align: center; vertical-align: top\">3419</td>\n",
       "        <td style=\"padding-left: 1em; padding-right: 1em; text-align: center; vertical-align: top\">1583</td>\n",
       "        <td style=\"padding-left: 1em; padding-right: 1em; text-align: center; vertical-align: top\">60</td>\n",
       "        <td style=\"padding-left: 1em; padding-right: 1em; text-align: center; vertical-align: top\">22,37</td>\n",
       "        <td style=\"padding-left: 1em; padding-right: 1em; text-align: center; vertical-align: top\">162,81</td>\n",
       "        <td style=\"padding-left: 1em; padding-right: 1em; text-align: center; vertical-align: top\">United States</td>\n",
       "    </tr>\n",
       "    <tr>\n",
       "        <td style=\"padding-left: 1em; padding-right: 1em; text-align: center; vertical-align: top\">16623</td>\n",
       "        <td style=\"padding-left: 1em; padding-right: 1em; text-align: center; vertical-align: top\">17272</td>\n",
       "        <td style=\"padding-left: 1em; padding-right: 1em; text-align: center; vertical-align: top\">888</td>\n",
       "        <td style=\"padding-left: 1em; padding-right: 1em; text-align: center; vertical-align: top\">18,82</td>\n",
       "        <td style=\"padding-left: 1em; padding-right: 1em; text-align: center; vertical-align: top\">54,32</td>\n",
       "        <td style=\"padding-left: 1em; padding-right: 1em; text-align: center; vertical-align: top\">United States</td>\n",
       "    </tr>\n",
       "</table>\n",
       "<table frame=\"box\" rules=\"cols\">\n",
       "    <tr>\n",
       "        <th style=\"padding-left: 1em; padding-right: 1em; text-align: center\">Publisher</th>\n",
       "        <th style=\"padding-left: 1em; padding-right: 1em; text-align: center\">Categories</th>\n",
       "        <th style=\"padding-left: 1em; padding-right: 1em; text-align: center\">Year</th>\n",
       "        <th style=\"padding-left: 1em; padding-right: 1em; text-align: center\">ISSN</th>\n",
       "    </tr>\n",
       "    <tr>\n",
       "        <td style=\"padding-left: 1em; padding-right: 1em; text-align: center; vertical-align: top\">Annual Reviews Inc.</td>\n",
       "        <td style=\"padding-left: 1em; padding-right: 1em; text-align: center; vertical-align: top\">Biochemistry (Q1)</td>\n",
       "        <td style=\"padding-left: 1em; padding-right: 1em; text-align: center; vertical-align: top\">1999</td>\n",
       "        <td style=\"padding-left: 1em; padding-right: 1em; text-align: center; vertical-align: top\">00664154</td>\n",
       "    </tr>\n",
       "    <tr>\n",
       "        <td style=\"padding-left: 1em; padding-right: 1em; text-align: center; vertical-align: top\">Annual Reviews Inc.</td>\n",
       "        <td style=\"padding-left: 1em; padding-right: 1em; text-align: center; vertical-align: top\">Biochemistry (Q1)</td>\n",
       "        <td style=\"padding-left: 1em; padding-right: 1em; text-align: center; vertical-align: top\">1999</td>\n",
       "        <td style=\"padding-left: 1em; padding-right: 1em; text-align: center; vertical-align: top\">15454509</td>\n",
       "    </tr>\n",
       "    <tr>\n",
       "        <td style=\"padding-left: 1em; padding-right: 1em; text-align: center; vertical-align: top\">Cell Press</td>\n",
       "        <td style=\"padding-left: 1em; padding-right: 1em; text-align: center; vertical-align: top\">Biochemistry, Genetics<br>and Molecular Biology ...</td>\n",
       "        <td style=\"padding-left: 1em; padding-right: 1em; text-align: center; vertical-align: top\">1999</td>\n",
       "        <td style=\"padding-left: 1em; padding-right: 1em; text-align: center; vertical-align: top\">10974172</td>\n",
       "    </tr>\n",
       "    <tr>\n",
       "        <td style=\"padding-left: 1em; padding-right: 1em; text-align: center; vertical-align: top\">Cell Press</td>\n",
       "        <td style=\"padding-left: 1em; padding-right: 1em; text-align: center; vertical-align: top\">Biochemistry, Genetics<br>and Molecular Biology ...</td>\n",
       "        <td style=\"padding-left: 1em; padding-right: 1em; text-align: center; vertical-align: top\">1999</td>\n",
       "        <td style=\"padding-left: 1em; padding-right: 1em; text-align: center; vertical-align: top\">00928674</td>\n",
       "    </tr>\n",
       "    <tr>\n",
       "        <td style=\"padding-left: 1em; padding-right: 1em; text-align: center; vertical-align: top\">Annual Reviews Inc.</td>\n",
       "        <td style=\"padding-left: 1em; padding-right: 1em; text-align: center; vertical-align: top\">Immunology (Q1);<br>Immunology and Allergy ...</td>\n",
       "        <td style=\"padding-left: 1em; padding-right: 1em; text-align: center; vertical-align: top\">1999</td>\n",
       "        <td style=\"padding-left: 1em; padding-right: 1em; text-align: center; vertical-align: top\">15453278</td>\n",
       "    </tr>\n",
       "    <tr>\n",
       "        <td style=\"padding-left: 1em; padding-right: 1em; text-align: center; vertical-align: top\">Annual Reviews Inc.</td>\n",
       "        <td style=\"padding-left: 1em; padding-right: 1em; text-align: center; vertical-align: top\">Immunology (Q1);<br>Immunology and Allergy ...</td>\n",
       "        <td style=\"padding-left: 1em; padding-right: 1em; text-align: center; vertical-align: top\">1999</td>\n",
       "        <td style=\"padding-left: 1em; padding-right: 1em; text-align: center; vertical-align: top\">07320582</td>\n",
       "    </tr>\n",
       "    <tr>\n",
       "        <td style=\"padding-left: 1em; padding-right: 1em; text-align: center; vertical-align: top\">Annual Reviews Inc.</td>\n",
       "        <td style=\"padding-left: 1em; padding-right: 1em; text-align: center; vertical-align: top\">Cell Biology (Q1);<br>Developmental Biology ...</td>\n",
       "        <td style=\"padding-left: 1em; padding-right: 1em; text-align: center; vertical-align: top\">1999</td>\n",
       "        <td style=\"padding-left: 1em; padding-right: 1em; text-align: center; vertical-align: top\">10810706</td>\n",
       "    </tr>\n",
       "    <tr>\n",
       "        <td style=\"padding-left: 1em; padding-right: 1em; text-align: center; vertical-align: top\">Annual Reviews Inc.</td>\n",
       "        <td style=\"padding-left: 1em; padding-right: 1em; text-align: center; vertical-align: top\">Cell Biology (Q1);<br>Developmental Biology ...</td>\n",
       "        <td style=\"padding-left: 1em; padding-right: 1em; text-align: center; vertical-align: top\">1999</td>\n",
       "        <td style=\"padding-left: 1em; padding-right: 1em; text-align: center; vertical-align: top\">15308995</td>\n",
       "    </tr>\n",
       "    <tr>\n",
       "        <td style=\"padding-left: 1em; padding-right: 1em; text-align: center; vertical-align: top\">Annual Reviews Inc.</td>\n",
       "        <td style=\"padding-left: 1em; padding-right: 1em; text-align: center; vertical-align: top\">Neuroscience<br>(miscellaneous) (Q1) ...</td>\n",
       "        <td style=\"padding-left: 1em; padding-right: 1em; text-align: center; vertical-align: top\">1999</td>\n",
       "        <td style=\"padding-left: 1em; padding-right: 1em; text-align: center; vertical-align: top\">15454126</td>\n",
       "    </tr>\n",
       "    <tr>\n",
       "        <td style=\"padding-left: 1em; padding-right: 1em; text-align: center; vertical-align: top\">Cold Spring Harbor<br>Laboratory Press ...</td>\n",
       "        <td style=\"padding-left: 1em; padding-right: 1em; text-align: center; vertical-align: top\">Developmental Biology<br>(Q1); Genetics (Q1) ...</td>\n",
       "        <td style=\"padding-left: 1em; padding-right: 1em; text-align: center; vertical-align: top\">1999</td>\n",
       "        <td style=\"padding-left: 1em; padding-right: 1em; text-align: center; vertical-align: top\">08909369</td>\n",
       "    </tr>\n",
       "</table>\n",
       "[619508 rows x 19 columns]<br/>Note: Only the head of the SFrame is printed.<br/>You can use print_rows(num_rows=m, num_columns=n) to print more rows and columns.\n",
       "</div>"
      ],
      "text/plain": [
       "Columns:\n",
       "\tRank\tint\n",
       "\tSourceid\tint\n",
       "\tTitle\tstr\n",
       "\tType\tstr\n",
       "\tSJR\tstr\n",
       "\tSJR Best Quartile\tstr\n",
       "\tH index\tint\n",
       "\tTotal Docs.\tint\n",
       "\tTotal Docs. (3years)\tint\n",
       "\tTotal Refs.\tint\n",
       "\tTotal Cites (3years)\tint\n",
       "\tCitable Docs. (3years)\tint\n",
       "\tCites / Doc. (2years)\tstr\n",
       "\tRef. / Doc.\tstr\n",
       "\tCountry\tstr\n",
       "\tPublisher\tstr\n",
       "\tCategories\tstr\n",
       "\tYear\tint\n",
       "\tISSN\tstr\n",
       "\n",
       "Rows: 619508\n",
       "\n",
       "Data:\n",
       "+------+----------+-------------------------------+-------------+--------+-------------------+\n",
       "| Rank | Sourceid |             Title             |     Type    |  SJR   | SJR Best Quartile |\n",
       "+------+----------+-------------------------------+-------------+--------+-------------------+\n",
       "|  1   |  16801   | Annual Review of Biochemistry |   journal   | 50,518 |         Q1        |\n",
       "|  1   |  16801   | Annual Review of Biochemistry |   journal   | 50,518 |         Q1        |\n",
       "|  2   |  18434   |              Cell             |   journal   | 43,449 |         Q1        |\n",
       "|  2   |  18434   |              Cell             |   journal   | 43,449 |         Q1        |\n",
       "|  3   |  20651   |  Annual Review of Immunology  |   journal   | 43,020 |         Q1        |\n",
       "|  3   |  20651   |  Annual Review of Immunology  |   journal   | 43,020 |         Q1        |\n",
       "|  4   |  18395   | Annual Review of Cell and ... | book series | 35,051 |         Q1        |\n",
       "|  4   |  18395   | Annual Review of Cell and ... | book series | 35,051 |         Q1        |\n",
       "|  5   |  14181   | Annual Review of Neuroscience | book series | 25,760 |         Q1        |\n",
       "|  6   |  22126   |     Genes and Development     |   journal   | 25,272 |         Q1        |\n",
       "+------+----------+-------------------------------+-------------+--------+-------------------+\n",
       "+---------+-------------+----------------------+-------------+----------------------+\n",
       "| H index | Total Docs. | Total Docs. (3years) | Total Refs. | Total Cites (3years) |\n",
       "+---------+-------------+----------------------+-------------+----------------------+\n",
       "|   268   |      30     |          81          |     5913    |         3474         |\n",
       "|   268   |      30     |          81          |     5913    |         3474         |\n",
       "|   682   |     354     |         1359         |    15869    |        47925         |\n",
       "|   682   |     354     |         1359         |    15869    |        47925         |\n",
       "|   274   |      29     |          81          |     5236    |         4073         |\n",
       "|   274   |      29     |          81          |     5236    |         4073         |\n",
       "|   199   |      25     |          61          |     4134    |         1793         |\n",
       "|   199   |      25     |          61          |     4134    |         1793         |\n",
       "|   217   |      21     |          60          |     3419    |         1583         |\n",
       "|   401   |     306     |         915          |    16623    |        17272         |\n",
       "+---------+-------------+----------------------+-------------+----------------------+\n",
       "+------------------------+-----------------------+-------------+---------------+\n",
       "| Citable Docs. (3years) | Cites / Doc. (2years) | Ref. / Doc. |    Country    |\n",
       "+------------------------+-----------------------+-------------+---------------+\n",
       "|           80           |         35,65         |    197,10   | United States |\n",
       "|           80           |         35,65         |    197,10   | United States |\n",
       "|          1328          |         34,75         |    44,83    | United States |\n",
       "|          1328          |         34,75         |    44,83    | United States |\n",
       "|           81           |         47,16         |    180,55   | United States |\n",
       "|           81           |         47,16         |    180,55   | United States |\n",
       "|           60           |         26,89         |    165,36   | United States |\n",
       "|           60           |         26,89         |    165,36   | United States |\n",
       "|           60           |         22,37         |    162,81   | United States |\n",
       "|          888           |         18,82         |    54,32    | United States |\n",
       "+------------------------+-----------------------+-------------+---------------+\n",
       "+-------------------------------+-------------------------------+------+\n",
       "|           Publisher           |           Categories          | Year |\n",
       "+-------------------------------+-------------------------------+------+\n",
       "|      Annual Reviews Inc.      |       Biochemistry (Q1)       | 1999 |\n",
       "|      Annual Reviews Inc.      |       Biochemistry (Q1)       | 1999 |\n",
       "|           Cell Press          | Biochemistry, Genetics and... | 1999 |\n",
       "|           Cell Press          | Biochemistry, Genetics and... | 1999 |\n",
       "|      Annual Reviews Inc.      | Immunology (Q1); Immunolog... | 1999 |\n",
       "|      Annual Reviews Inc.      | Immunology (Q1); Immunolog... | 1999 |\n",
       "|      Annual Reviews Inc.      | Cell Biology (Q1); Develop... | 1999 |\n",
       "|      Annual Reviews Inc.      | Cell Biology (Q1); Develop... | 1999 |\n",
       "|      Annual Reviews Inc.      | Neuroscience (miscellaneou... | 1999 |\n",
       "| Cold Spring Harbor Laborat... | Developmental Biology (Q1)... | 1999 |\n",
       "+-------------------------------+-------------------------------+------+\n",
       "+----------+\n",
       "|   ISSN   |\n",
       "+----------+\n",
       "| 00664154 |\n",
       "| 15454509 |\n",
       "| 10974172 |\n",
       "| 00928674 |\n",
       "| 15453278 |\n",
       "| 07320582 |\n",
       "| 10810706 |\n",
       "| 15308995 |\n",
       "| 15454126 |\n",
       "| 08909369 |\n",
       "+----------+\n",
       "[619508 rows x 19 columns]\n",
       "Note: Only the head of the SFrame is printed.\n",
       "You can use print_rows(num_rows=m, num_columns=n) to print more rows and columns."
      ]
     },
     "execution_count": 4,
     "metadata": {},
     "output_type": "execute_result"
    }
   ],
   "source": [
    "sjr.data"
   ]
  },
  {
   "cell_type": "markdown",
   "metadata": {},
   "source": [
    "## 1.4 Joint Datasets"
   ]
  },
  {
   "cell_type": "markdown",
   "metadata": {},
   "source": [
    "The MAG and AMiner datasets have a slightly different set of features. While the MAG dataset contains data on each author with a unique author ID, the AMiner contains additional data on each paper, including the paper's abstract and the paper's ISSN or ISBN. Additionally, the SJR dataset contains data about each journal's ranking.\n",
    "\n",
    "To combine the data from the author publication record and the journals' rankings, we join the datasets. First, we joined the MAG and AMiner datasets by matching DOI values, using the following code (see also create_mag_aminer_sframe.py):"
   ]
  },
  {
   "cell_type": "code",
   "execution_count": 6,
   "metadata": {
    "collapsed": true,
    "jupyter": {
     "outputs_hidden": true
    }
   },
   "outputs": [],
   "source": [
    "from ScienceDynamics.datasets.joined_dataset import JoinedDataset\n",
    "from ScienceDynamics.config.configs import DATASETS_BASE_DIR, DATASETS_SJR_DIR, DATASETS_AMINER_DIR, STORAGE_PATH"
   ]
  },
  {
   "cell_type": "code",
   "execution_count": 7,
   "metadata": {
    "collapsed": true,
    "jupyter": {
     "outputs_hidden": true
    }
   },
   "outputs": [],
   "source": [
    "jd = JoinedDataset(STORAGE_PATH, DATASETS_SJR_DIR, DATASETS_AMINER_DIR, mag_path=DATASETS_BASE_DIR/ \"MicrosoftAcademicGraph.zip\")"
   ]
  },
  {
   "cell_type": "code",
   "execution_count": 21,
   "metadata": {
    "collapsed": true,
    "jupyter": {
     "outputs_hidden": true
    }
   },
   "outputs": [
    {
     "data": {
      "text/plain": [
       "PosixPath('/storage/homedir/dima/.scidyn/MAG')"
      ]
     },
     "execution_count": 21,
     "metadata": {},
     "output_type": "execute_result"
    }
   ],
   "source": [
    "jd.mag._dataset_dir"
   ]
  },
  {
   "cell_type": "code",
   "execution_count": 175,
   "metadata": {
    "collapsed": true,
    "jupyter": {
     "outputs_hidden": true
    }
   },
   "outputs": [],
   "source": [
    "from tqdm import tqdm_notebook as tqdm"
   ]
  },
  {
   "cell_type": "code",
   "execution_count": 20,
   "metadata": {
    "collapsed": true,
    "jupyter": {
     "outputs_hidden": true
    }
   },
   "outputs": [
    {
     "name": "stdout",
     "output_type": "stream",
     "text": [
      "5865272 5865273\n"
     ]
    }
   ],
   "source": [
    "print(b_lim, u_lim)\n"
   ]
  },
  {
   "cell_type": "code",
   "execution_count": 1,
   "metadata": {
    "collapsed": true,
    "jupyter": {
     "outputs_hidden": true
    }
   },
   "outputs": [
    {
     "ename": "NameError",
     "evalue": "name 'data' is not defined",
     "output_type": "error",
     "traceback": [
      "\u001b[0;31m---------------------------------------------------------------------------\u001b[0m",
      "\u001b[0;31mNameError\u001b[0m                                 Traceback (most recent call last)",
      "\u001b[0;32m<ipython-input-1-b2d2178b8e39>\u001b[0m in \u001b[0;36m<module>\u001b[0;34m\u001b[0m\n\u001b[0;32m----> 1\u001b[0;31m \u001b[0mdata\u001b[0m\u001b[0;34m[\u001b[0m\u001b[0mdata\u001b[0m\u001b[0;34m[\u001b[0m\u001b[0;34m\"MAG Paper ID\"\u001b[0m\u001b[0;34m]\u001b[0m\u001b[0;34m==\u001b[0m\u001b[0;34m'74024986'\u001b[0m\u001b[0;34m]\u001b[0m\u001b[0;34m\u001b[0m\u001b[0;34m\u001b[0m\u001b[0m\n\u001b[0m",
      "\u001b[0;31mNameError\u001b[0m: name 'data' is not defined"
     ]
    }
   ],
   "source": [
    "data[data[\"MAG Paper ID\"]=='74024986']"
   ]
  },
  {
   "cell_type": "code",
   "execution_count": 22,
   "metadata": {
    "collapsed": true,
    "jupyter": {
     "outputs_hidden": true
    }
   },
   "outputs": [
    {
     "data": {
      "text/plain": [
       "{'Aminer Paper ID': '53e99d7ab7602d97026364e9',\n",
       " 'Authors List Sorted': '[\"7D4BF247\",\"766E9461\",\"12B235CA\"]',\n",
       " 'Authors Number': 3.0,\n",
       " 'Conference ID mapped to venue name': 'nan',\n",
       " 'Field of study list': '[\"078EB9BF\",\"07799FC6\",\"1F9A2DF7\",\"014CFD3E\"]',\n",
       " 'Field of study list names': '[\"Topology\",\"Encoding\",,\"Antenna\"]',\n",
       " 'Fields of study parent list (L0)': '[\"073B64E4\",\"0205A1DB\",\"00F03FC7\"]',\n",
       " 'Fields of study parent list (L1)': '[\"078EB9BF\",\"00137C13\"]',\n",
       " 'Fields of study parent list (L2)': '[\"08F300F3\"]',\n",
       " 'Fields of study parent list (L3)': '[\"07799FC6\",\"014CFD3E\"]',\n",
       " 'Fields of study parent list names (L0)': '[\"Physics\",\"Mathematics\",\"Psychology\"]',\n",
       " 'Fields of study parent list names (L1)': '[\"Topology\",\"Astronomy\"]',\n",
       " 'Fields of study parent list names (L2)': '[\"Radio astronomy\"]',\n",
       " 'Fields of study parent list names (L3)': '[\"Encoding\",\"Antenna\"]',\n",
       " 'Journal ID mapped to venue name': '0044B422',\n",
       " 'Keywords List': '[\"topology\",\"encoding\",\"integrated circuits\",\"antennas\"]',\n",
       " 'MAG Paper ID': '74024986',\n",
       " 'Normalized paper title': 'two hop interference channels impact of linear schemes',\n",
       " 'Normalized venue name': 'tit',\n",
       " 'Original paper title': 'Two-Hop Interference Channels: Impact of Linear Schemes',\n",
       " 'Original venue name': 'IEEE Transactions on Information Theory',\n",
       " 'Paper Document Object Identifier (DOI)': '10.1109/TIT.2015.2458974',\n",
       " 'Paper publish date': '2015/10',\n",
       " 'Paper publish year': 2015,\n",
       " 'Paper rank': 19515,\n",
       " 'Ref Number': 20,\n",
       " 'Total Citations by Year': 'nan',\n",
       " 'Total Citations by Year without Self Citations': 'nan',\n",
       " 'Urls': '[\"http://arxiv.org/abs/1309.0898v1\",\"07163616.pdf\",\"http://arxiv.org/abs/1309.0898?context=math\",\"http://arxiv.org/abs/1309.0898\",\"http://arxiv.org/pdf/1309.0898\",\"http://arxiv.org/abs/1309.0898?context=cs\",\"http://ieeexplore.ieee.org/xpls/abs_all.jsp?arnumber=7163616_20151002\",\"http://ieeexplore.ieee.org/xpl/articleDetails.jsp?reload=true&arnumber=7163616&filter%3DAND%28p_IS_Number%3A7258415%29\",\"http://ieeexplore.ieee.org/xpl/articleDetails.jsp?arnumber=7163616&newsearch=true&queryText=silas%20l.%20fong\",\"http://ieeexplore.ieee.org/xpl/abstractAuthors.jsp?reload=true&arnumber=7163616\",\"http://ieeexplore.ieee.org/stamp/stamp.jsp?tp=&arnumber=7163616\"]',\n",
       " 'abstract': 'e consider the two-hop interference channel (IC), which consists of two source-destination pairs communicating with each other via two relays. We analyze the degrees of freedom (DoF) of this network when the relays are restricted to perform linear schemes, and the channel gains are constant (i.e., slow fading). We show that, somewhat surprisingly, by using vectorlinear strategies at the relays, it is possible to achieve 4/3 sum-DoF when the channel gains are real. The key achievability idea is to alternate relaying coefficients across time, to create different end-to-end interference structures (or topologies) at different times. Although each of these topologies has only 1 sum-DoF, we manage to achieve 4/3 by coding across them. Furthermore, we develop a novel outer bound that matches our achievability, hence characterizing the sum-DoF of two-hop interference channels with linear schemes. We also generalize the result to the multiantenna setting, where each node has M antennas, and the relays are restricted to one-shot linear schemes. We further extend the result to the case of complex channel gains, by intuitively viewing each complex node with M antennas as a real node with 2M antennas, and characterize the sum-DoF to be 2M í¯\\x80í°\\x80 1=3.',\n",
       " 'authors': '[{\"name\":\"Ibrahim Issa\"},{\"name\":\"Silas L. Fong\"},{\"name\":\"Amir Salman Avestimehr\"}]',\n",
       " 'isbn': 'nan',\n",
       " 'issn': '0018-9448',\n",
       " 'issue': '99',\n",
       " 'keywords': 'nan',\n",
       " 'lang': 'en',\n",
       " 'n_citation': 9.0,\n",
       " 'page_end': 'nan',\n",
       " 'page_start': 'nan',\n",
       " 'pdf': 'nan',\n",
       " 'references': 'nan',\n",
       " 'title': 'Two-Hop Interference Channels: Impact of Linear Schemes.',\n",
       " 'url': '[\"http://dx.doi.org/10.1109/TIT.2015.2458974\",\"http://arxiv.org/abs/1309.0898\",\"http://ieeexplore.ieee.org/xpl/articleDetails.jsp?tp=&arnumber=7163616\"]',\n",
       " 'venue': 'IEEE Trans. Information Theory',\n",
       " 'volume': 'abs/1309.0898',\n",
       " 'year': 2013.0}"
      ]
     },
     "execution_count": 22,
     "metadata": {},
     "output_type": "execute_result"
    }
   ],
   "source": [
    "sf[5865272]"
   ]
  },
  {
   "cell_type": "code",
   "execution_count": 181,
   "metadata": {
    "collapsed": true,
    "jupyter": {
     "outputs_hidden": true
    }
   },
   "outputs": [],
   "source": [
    "data.save(\"data.csv\",\"csv\")"
   ]
  },
  {
   "cell_type": "code",
   "execution_count": 209,
   "metadata": {
    "collapsed": true,
    "jupyter": {
     "outputs_hidden": true
    }
   },
   "outputs": [],
   "source": [
    "from turicreate import SFrame"
   ]
  },
  {
   "cell_type": "code",
   "execution_count": 7,
   "metadata": {
    "collapsed": true,
    "jupyter": {
     "outputs_hidden": true
    }
   },
   "outputs": [],
   "source": [
    "import pandas as pd"
   ]
  },
  {
   "cell_type": "code",
   "execution_count": 211,
   "metadata": {
    "collapsed": true,
    "jupyter": {
     "outputs_hidden": true
    }
   },
   "outputs": [],
   "source": [
    "data.to_csv(\"data2.csv\", encoding='utf-8')"
   ]
  },
  {
   "cell_type": "code",
   "execution_count": 8,
   "metadata": {
    "collapsed": true,
    "jupyter": {
     "outputs_hidden": true
    }
   },
   "outputs": [
    {
     "name": "stderr",
     "output_type": "stream",
     "text": [
      "/storage/homedir/dima/miniconda3/envs/promed/lib/python3.6/site-packages/IPython/core/interactiveshell.py:3049: DtypeWarning: Columns (6,7,8,9,31,32,33,37,38,39,44) have mixed types. Specify dtype option on import or set low_memory=False.\n",
      "  interactivity=interactivity, compiler=compiler, result=result)\n"
     ]
    }
   ],
   "source": [
    "data = pd.read_csv(\"data.csv\",encoding='latin1',error_bad_lines=False)"
   ]
  },
  {
   "cell_type": "code",
   "execution_count": 13,
   "metadata": {
    "collapsed": true,
    "jupyter": {
     "outputs_hidden": true
    }
   },
   "outputs": [
    {
     "data": {
      "text/plain": [
       "(29070469, 29070469)"
      ]
     },
     "execution_count": 13,
     "metadata": {},
     "output_type": "execute_result"
    }
   ],
   "source": [
    "len(sf),len(jd.aminer_mag_links_by_doi)"
   ]
  },
  {
   "cell_type": "code",
   "execution_count": 258,
   "metadata": {
    "collapsed": true,
    "jupyter": {
     "outputs_hidden": true
    }
   },
   "outputs": [
    {
     "data": {
      "text/plain": [
       "0    b'01B27BE8'\n",
       "1    b'027D0030'\n",
       "2    b'7CFE299E'\n",
       "3    b'59BEBE1C'\n",
       "4    b'5873C011'\n",
       "5    b'0B00AFD8'\n",
       "6    b'5C66D743'\n",
       "7    b'040121AE'\n",
       "8    b'584D8787'\n",
       "9    b'58B384F6'\n",
       "Name: MAG Paper ID, dtype: object"
      ]
     },
     "execution_count": 258,
     "metadata": {},
     "output_type": "execute_result"
    }
   ],
   "source": [
    "data.head(10)[\"MAG Paper ID\"].str.encode('utf-8')"
   ]
  },
  {
   "cell_type": "code",
   "execution_count": 11,
   "metadata": {
    "collapsed": true,
    "jupyter": {
     "outputs_hidden": true
    }
   },
   "outputs": [
    {
     "data": {
      "application/vnd.jupyter.widget-view+json": {
       "model_id": "0b725930c1bf451fa6abc5abbbac9f16",
       "version_major": 2,
       "version_minor": 0
      },
      "text/plain": [
       "HBox(children=(IntProgress(value=0, max=46), HTML(value='')))"
      ]
     },
     "metadata": {},
     "output_type": "display_data"
    },
    {
     "name": "stdout",
     "output_type": "stream",
     "text": [
      "MAG Paper ID\n",
      "Original paper title\n",
      "Normalized paper title\n",
      "Paper publish date\n",
      "Paper Document Object Identifier (DOI)\n",
      "Original venue name\n",
      "Normalized venue name\n",
      "Journal ID mapped to venue name\n",
      "Conference ID mapped to venue name\n",
      "Total Citations by Year\n",
      "Total Citations by Year without Self Citations\n",
      "Authors List Sorted\n",
      "Keywords List\n",
      "Field of study list\n",
      "Field of study list names\n",
      "Fields of study parent list (L0)\n",
      "Fields of study parent list names (L0)\n",
      "Fields of study parent list (L1)\n",
      "Fields of study parent list names (L1)\n",
      "Fields of study parent list (L2)\n",
      "Fields of study parent list names (L2)\n",
      "Fields of study parent list (L3)\n",
      "Fields of study parent list names (L3)\n",
      "Urls\n",
      "abstract\n",
      "authors\n",
      "Aminer Paper ID\n",
      "isbn\n",
      "issn\n",
      "issue\n",
      "keywords\n",
      "lang\n",
      "page_end\n",
      "page_start\n",
      "pdf\n",
      "references\n",
      "title\n",
      "url\n",
      "venue\n",
      "volume\n",
      "\n"
     ]
    }
   ],
   "source": [
    "for col in tqdm(data.columns):\n",
    "    if data[col].dtype == object:\n",
    "        print(col)\n",
    "        data[col] = data[col].str.encode('utf-8')"
   ]
  },
  {
   "cell_type": "code",
   "execution_count": 9,
   "metadata": {
    "collapsed": true,
    "jupyter": {
     "outputs_hidden": true
    }
   },
   "outputs": [],
   "source": [
    "from turicreate import SFrame, load_sframe"
   ]
  },
  {
   "cell_type": "code",
   "execution_count": null,
   "metadata": {
    "collapsed": true,
    "jupyter": {
     "outputs_hidden": true
    }
   },
   "outputs": [],
   "source": []
  },
  {
   "cell_type": "code",
   "execution_count": 18,
   "metadata": {
    "collapsed": true,
    "jupyter": {
     "outputs_hidden": true
    }
   },
   "outputs": [],
   "source": [
    "sf = SFrame(data_dict)"
   ]
  },
  {
   "cell_type": "code",
   "execution_count": 21,
   "metadata": {
    "collapsed": true,
    "jupyter": {
     "outputs_hidden": true
    }
   },
   "outputs": [],
   "source": [
    "sf.save(\"temp.sframe\")"
   ]
  },
  {
   "cell_type": "code",
   "execution_count": 10,
   "metadata": {
    "collapsed": true,
    "jupyter": {
     "outputs_hidden": true
    }
   },
   "outputs": [],
   "source": [
    "sf = load_sframe(\"temp.sframe\")"
   ]
  },
  {
   "cell_type": "code",
   "execution_count": 11,
   "metadata": {
    "collapsed": true,
    "jupyter": {
     "outputs_hidden": true
    }
   },
   "outputs": [],
   "source": [
    "sf = sf.unpack('X1',column_name_prefix=\"\")"
   ]
  },
  {
   "cell_type": "code",
   "execution_count": 19,
   "metadata": {
    "collapsed": true,
    "jupyter": {
     "outputs_hidden": true
    }
   },
   "outputs": [
    {
     "data": {
      "text/plain": [
       "29070469"
      ]
     },
     "execution_count": 19,
     "metadata": {},
     "output_type": "execute_result"
    }
   ],
   "source": [
    "len(sf)"
   ]
  },
  {
   "cell_type": "code",
   "execution_count": 12,
   "metadata": {
    "collapsed": true,
    "jupyter": {
     "outputs_hidden": true
    }
   },
   "outputs": [],
   "source": [
    "data_dict = data.to_dict(orient='records')"
   ]
  },
  {
   "cell_type": "code",
   "execution_count": 20,
   "metadata": {
    "collapsed": true,
    "jupyter": {
     "outputs_hidden": true
    }
   },
   "outputs": [],
   "source": [
    "del data_dict"
   ]
  },
  {
   "cell_type": "code",
   "execution_count": 14,
   "metadata": {
    "collapsed": true,
    "jupyter": {
     "outputs_hidden": true
    }
   },
   "outputs": [
    {
     "data": {
      "text/plain": [
       "29070469"
      ]
     },
     "execution_count": 14,
     "metadata": {},
     "output_type": "execute_result"
    }
   ],
   "source": [
    "len(data_dict)"
   ]
  },
  {
   "cell_type": "code",
   "execution_count": 168,
   "metadata": {
    "collapsed": true,
    "jupyter": {
     "outputs_hidden": true
    }
   },
   "outputs": [
    {
     "data": {
      "text/plain": [
       "(5865272, 5865273)"
      ]
     },
     "execution_count": 168,
     "metadata": {},
     "output_type": "execute_result"
    }
   ],
   "source": [
    "b_lim, u_lim"
   ]
  },
  {
   "cell_type": "code",
   "execution_count": 170,
   "metadata": {
    "collapsed": true,
    "jupyter": {
     "outputs_hidden": true
    }
   },
   "outputs": [
    {
     "ename": "UnicodeDecodeError",
     "evalue": "'utf-8' codec can't decode byte 0xed in position 1247: invalid continuation byte",
     "output_type": "error",
     "traceback": [
      "\u001b[0;31m---------------------------------------------------------------------------\u001b[0m",
      "\u001b[0;31mUnicodeDecodeError\u001b[0m                        Traceback (most recent call last)",
      "\u001b[0;32m<ipython-input-170-f807f2bca097>\u001b[0m in \u001b[0;36m<module>\u001b[0;34m\u001b[0m\n\u001b[1;32m      1\u001b[0m \u001b[0;31m# data[5866103]\u001b[0m\u001b[0;34m\u001b[0m\u001b[0;34m\u001b[0m\u001b[0;34m\u001b[0m\u001b[0m\n\u001b[0;32m----> 2\u001b[0;31m \u001b[0mdata\u001b[0m\u001b[0;34m[\u001b[0m\u001b[0;36m5865273\u001b[0m\u001b[0;34m]\u001b[0m\u001b[0;34m\u001b[0m\u001b[0;34m\u001b[0m\u001b[0m\n\u001b[0m",
      "\u001b[0;32m~/miniconda3/envs/promed/lib/python3.6/site-packages/turicreate/data_structures/sframe.py\u001b[0m in \u001b[0;36m__getitem__\u001b[0;34m(self, key)\u001b[0m\n\u001b[1;32m   3551\u001b[0m             \u001b[0mub\u001b[0m \u001b[0;34m=\u001b[0m \u001b[0mmin\u001b[0m\u001b[0;34m(\u001b[0m\u001b[0msf_len\u001b[0m\u001b[0;34m,\u001b[0m \u001b[0mlb\u001b[0m \u001b[0;34m+\u001b[0m \u001b[0mblock_size\u001b[0m\u001b[0;34m)\u001b[0m\u001b[0;34m\u001b[0m\u001b[0;34m\u001b[0m\u001b[0m\n\u001b[1;32m   3552\u001b[0m \u001b[0;34m\u001b[0m\u001b[0m\n\u001b[0;32m-> 3553\u001b[0;31m             \u001b[0mval_list\u001b[0m \u001b[0;34m=\u001b[0m \u001b[0mlist\u001b[0m\u001b[0;34m(\u001b[0m\u001b[0mSFrame\u001b[0m\u001b[0;34m(\u001b[0m\u001b[0m_proxy\u001b[0m \u001b[0;34m=\u001b[0m \u001b[0mself\u001b[0m\u001b[0;34m.\u001b[0m\u001b[0m__proxy__\u001b[0m\u001b[0;34m.\u001b[0m\u001b[0mcopy_range\u001b[0m\u001b[0;34m(\u001b[0m\u001b[0mlb\u001b[0m\u001b[0;34m,\u001b[0m \u001b[0;36m1\u001b[0m\u001b[0;34m,\u001b[0m \u001b[0mub\u001b[0m\u001b[0;34m)\u001b[0m\u001b[0;34m)\u001b[0m\u001b[0;34m)\u001b[0m\u001b[0;34m\u001b[0m\u001b[0;34m\u001b[0m\u001b[0m\n\u001b[0m\u001b[1;32m   3554\u001b[0m             \u001b[0mself\u001b[0m\u001b[0;34m.\u001b[0m\u001b[0m_cache\u001b[0m\u001b[0;34m[\u001b[0m\u001b[0;34m\"getitem_cache\"\u001b[0m\u001b[0;34m]\u001b[0m \u001b[0;34m=\u001b[0m \u001b[0;34m(\u001b[0m\u001b[0mlb\u001b[0m\u001b[0;34m,\u001b[0m \u001b[0mub\u001b[0m\u001b[0;34m,\u001b[0m \u001b[0mval_list\u001b[0m\u001b[0;34m)\u001b[0m\u001b[0;34m\u001b[0m\u001b[0;34m\u001b[0m\u001b[0m\n\u001b[1;32m   3555\u001b[0m             \u001b[0;32mreturn\u001b[0m \u001b[0mval_list\u001b[0m\u001b[0;34m[\u001b[0m\u001b[0mint\u001b[0m\u001b[0;34m(\u001b[0m\u001b[0mkey\u001b[0m \u001b[0;34m-\u001b[0m \u001b[0mlb\u001b[0m\u001b[0;34m)\u001b[0m\u001b[0;34m]\u001b[0m\u001b[0;34m\u001b[0m\u001b[0;34m\u001b[0m\u001b[0m\n",
      "\u001b[0;32m~/miniconda3/envs/promed/lib/python3.6/site-packages/turicreate/data_structures/sframe.py\u001b[0m in \u001b[0;36mgenerator\u001b[0;34m()\u001b[0m\n\u001b[1;32m   3681\u001b[0m             \u001b[0melems_at_a_time\u001b[0m \u001b[0;34m=\u001b[0m \u001b[0;36m262144\u001b[0m\u001b[0;34m\u001b[0m\u001b[0;34m\u001b[0m\u001b[0m\n\u001b[1;32m   3682\u001b[0m             \u001b[0mself\u001b[0m\u001b[0;34m.\u001b[0m\u001b[0m__proxy__\u001b[0m\u001b[0;34m.\u001b[0m\u001b[0mbegin_iterator\u001b[0m\u001b[0;34m(\u001b[0m\u001b[0;34m)\u001b[0m\u001b[0;34m\u001b[0m\u001b[0;34m\u001b[0m\u001b[0m\n\u001b[0;32m-> 3683\u001b[0;31m             \u001b[0mret\u001b[0m \u001b[0;34m=\u001b[0m \u001b[0mself\u001b[0m\u001b[0;34m.\u001b[0m\u001b[0m__proxy__\u001b[0m\u001b[0;34m.\u001b[0m\u001b[0miterator_get_next\u001b[0m\u001b[0;34m(\u001b[0m\u001b[0melems_at_a_time\u001b[0m\u001b[0;34m)\u001b[0m\u001b[0;34m\u001b[0m\u001b[0;34m\u001b[0m\u001b[0m\n\u001b[0m\u001b[1;32m   3684\u001b[0m             \u001b[0mcolumn_names\u001b[0m \u001b[0;34m=\u001b[0m \u001b[0mself\u001b[0m\u001b[0;34m.\u001b[0m\u001b[0mcolumn_names\u001b[0m\u001b[0;34m(\u001b[0m\u001b[0;34m)\u001b[0m\u001b[0;34m\u001b[0m\u001b[0;34m\u001b[0m\u001b[0m\n\u001b[1;32m   3685\u001b[0m             \u001b[0;32mwhile\u001b[0m\u001b[0;34m(\u001b[0m\u001b[0;32mTrue\u001b[0m\u001b[0;34m)\u001b[0m\u001b[0;34m:\u001b[0m\u001b[0;34m\u001b[0m\u001b[0;34m\u001b[0m\u001b[0m\n",
      "\u001b[0;32mturicreate/cython/cy_sframe.pyx\u001b[0m in \u001b[0;36mturicreate.cython.cy_sframe.UnitySFrameProxy.iterator_get_next\u001b[0;34m()\u001b[0m\n",
      "\u001b[0;32mturicreate/cython/cy_sframe.pyx\u001b[0m in \u001b[0;36mturicreate.cython.cy_sframe.UnitySFrameProxy.iterator_get_next\u001b[0;34m()\u001b[0m\n",
      "\u001b[0;32mturicreate/cython/cy_flexible_type.pyx\u001b[0m in \u001b[0;36mturicreate.cython.cy_flexible_type.pylist_from_flex_list\u001b[0;34m()\u001b[0m\n",
      "\u001b[0;32mturicreate/cython/cy_flexible_type.pyx\u001b[0m in \u001b[0;36mturicreate.cython.cy_flexible_type.pyobject_from_flexible_type\u001b[0;34m()\u001b[0m\n",
      "\u001b[0;32mturicreate/cython/cy_cpp_utils.pxd\u001b[0m in \u001b[0;36mturicreate.cython.cy_cpp_utils.cpp_to_str\u001b[0;34m()\u001b[0m\n",
      "\u001b[0;32mturicreate/cython/cy_cpp_utils.pyx\u001b[0m in \u001b[0;36mturicreate.cython.cy_cpp_utils._cpp_to_str_py3_decode\u001b[0;34m()\u001b[0m\n",
      "\u001b[0;31mUnicodeDecodeError\u001b[0m: 'utf-8' codec can't decode byte 0xed in position 1247: invalid continuation byte"
     ]
    }
   ],
   "source": [
    "# data[5866103]\n",
    "data[5865273]"
   ]
  },
  {
   "cell_type": "code",
   "execution_count": 121,
   "metadata": {
    "collapsed": true,
    "jupyter": {
     "outputs_hidden": true
    }
   },
   "outputs": [
    {
     "ename": "KeyboardInterrupt",
     "evalue": "",
     "output_type": "error",
     "traceback": [
      "\u001b[0;31m---------------------------------------------------------------------------\u001b[0m",
      "\u001b[0;31mKeyboardInterrupt\u001b[0m                         Traceback (most recent call last)",
      "\u001b[0;32m~/miniconda3/envs/promed/lib/python3.6/site-packages/IPython/core/interactiveshell.py\u001b[0m in \u001b[0;36mrun_code\u001b[0;34m(self, code_obj, result, async_)\u001b[0m\n\u001b[1;32m   3295\u001b[0m                 \u001b[0;32melse\u001b[0m\u001b[0;34m:\u001b[0m\u001b[0;34m\u001b[0m\u001b[0;34m\u001b[0m\u001b[0m\n\u001b[0;32m-> 3296\u001b[0;31m                     \u001b[0mexec\u001b[0m\u001b[0;34m(\u001b[0m\u001b[0mcode_obj\u001b[0m\u001b[0;34m,\u001b[0m \u001b[0mself\u001b[0m\u001b[0;34m.\u001b[0m\u001b[0muser_global_ns\u001b[0m\u001b[0;34m,\u001b[0m \u001b[0mself\u001b[0m\u001b[0;34m.\u001b[0m\u001b[0muser_ns\u001b[0m\u001b[0;34m)\u001b[0m\u001b[0;34m\u001b[0m\u001b[0;34m\u001b[0m\u001b[0m\n\u001b[0m\u001b[1;32m   3297\u001b[0m             \u001b[0;32mfinally\u001b[0m\u001b[0;34m:\u001b[0m\u001b[0;34m\u001b[0m\u001b[0;34m\u001b[0m\u001b[0m\n",
      "\u001b[0;32m<ipython-input-121-f81d19cc6d96>\u001b[0m in \u001b[0;36m<module>\u001b[0;34m\u001b[0m\n\u001b[0;32m----> 1\u001b[0;31m \u001b[0mdata\u001b[0m\u001b[0;34m.\u001b[0m\u001b[0mto_dataframe\u001b[0m\u001b[0;34m(\u001b[0m\u001b[0;34m)\u001b[0m\u001b[0;34m\u001b[0m\u001b[0;34m\u001b[0m\u001b[0m\n\u001b[0m",
      "\u001b[0;32m~/miniconda3/envs/promed/lib/python3.6/site-packages/turicreate/data_structures/sframe.py\u001b[0m in \u001b[0;36mto_dataframe\u001b[0;34m(self)\u001b[0m\n\u001b[1;32m   2350\u001b[0m             \u001b[0mcolumn_name\u001b[0m \u001b[0;34m=\u001b[0m \u001b[0mself\u001b[0m\u001b[0;34m.\u001b[0m\u001b[0mcolumn_names\u001b[0m\u001b[0;34m(\u001b[0m\u001b[0;34m)\u001b[0m\u001b[0;34m[\u001b[0m\u001b[0mi\u001b[0m\u001b[0;34m]\u001b[0m\u001b[0;34m\u001b[0m\u001b[0;34m\u001b[0m\u001b[0m\n\u001b[0;32m-> 2351\u001b[0;31m             \u001b[0mdf\u001b[0m\u001b[0;34m[\u001b[0m\u001b[0mcolumn_name\u001b[0m\u001b[0;34m]\u001b[0m \u001b[0;34m=\u001b[0m \u001b[0mlist\u001b[0m\u001b[0;34m(\u001b[0m\u001b[0mself\u001b[0m\u001b[0;34m[\u001b[0m\u001b[0mcolumn_name\u001b[0m\u001b[0;34m]\u001b[0m\u001b[0;34m)\u001b[0m\u001b[0;34m\u001b[0m\u001b[0;34m\u001b[0m\u001b[0m\n\u001b[0m\u001b[1;32m   2352\u001b[0m             \u001b[0;32mif\u001b[0m \u001b[0mlen\u001b[0m\u001b[0;34m(\u001b[0m\u001b[0mdf\u001b[0m\u001b[0;34m[\u001b[0m\u001b[0mcolumn_name\u001b[0m\u001b[0;34m]\u001b[0m\u001b[0;34m)\u001b[0m \u001b[0;34m==\u001b[0m \u001b[0;36m0\u001b[0m\u001b[0;34m:\u001b[0m\u001b[0;34m\u001b[0m\u001b[0;34m\u001b[0m\u001b[0m\n",
      "\u001b[0;32m~/miniconda3/envs/promed/lib/python3.6/site-packages/turicreate/data_structures/sarray.py\u001b[0m in \u001b[0;36mgenerator\u001b[0;34m()\u001b[0m\n\u001b[1;32m    810\u001b[0m                 \u001b[0;32mif\u001b[0m \u001b[0mlen\u001b[0m\u001b[0;34m(\u001b[0m\u001b[0mret\u001b[0m\u001b[0;34m)\u001b[0m \u001b[0;34m==\u001b[0m \u001b[0melems_at_a_time\u001b[0m\u001b[0;34m:\u001b[0m\u001b[0;34m\u001b[0m\u001b[0;34m\u001b[0m\u001b[0m\n\u001b[0;32m--> 811\u001b[0;31m                     \u001b[0mret\u001b[0m \u001b[0;34m=\u001b[0m \u001b[0mself\u001b[0m\u001b[0;34m.\u001b[0m\u001b[0m__proxy__\u001b[0m\u001b[0;34m.\u001b[0m\u001b[0miterator_get_next\u001b[0m\u001b[0;34m(\u001b[0m\u001b[0melems_at_a_time\u001b[0m\u001b[0;34m)\u001b[0m\u001b[0;34m\u001b[0m\u001b[0;34m\u001b[0m\u001b[0m\n\u001b[0m\u001b[1;32m    812\u001b[0m                 \u001b[0;32melse\u001b[0m\u001b[0;34m:\u001b[0m\u001b[0;34m\u001b[0m\u001b[0;34m\u001b[0m\u001b[0m\n",
      "\u001b[0;31mKeyboardInterrupt\u001b[0m: ",
      "\nDuring handling of the above exception, another exception occurred:\n",
      "\u001b[0;31mKeyboardInterrupt\u001b[0m                         Traceback (most recent call last)",
      "\u001b[0;31mKeyboardInterrupt\u001b[0m: "
     ]
    }
   ],
   "source": [
    "df = data.to_dataframe()"
   ]
  },
  {
   "cell_type": "code",
   "execution_count": 164,
   "metadata": {
    "collapsed": true,
    "jupyter": {
     "outputs_hidden": true
    }
   },
   "outputs": [],
   "source": [
    "x = jd.aminer_mag_links_by_doi[0:5866103].append(jd.aminer_mag_links_by_doi[5866128:])"
   ]
  },
  {
   "cell_type": "code",
   "execution_count": 217,
   "metadata": {
    "collapsed": true,
    "jupyter": {
     "outputs_hidden": true
    }
   },
   "outputs": [
    {
     "data": {
      "text/plain": [
       "'Ã±'"
      ]
     },
     "execution_count": 217,
     "metadata": {},
     "output_type": "execute_result"
    }
   ],
   "source": []
  },
  {
   "cell_type": "code",
   "execution_count": 240,
   "metadata": {
    "collapsed": true,
    "jupyter": {
     "outputs_hidden": true
    }
   },
   "outputs": [],
   "source": [
    "te = SFrame()\n",
    "te[\"e\"] = [\"í\".encode('latin-1').decode('latin-1').encode('utf-8')]"
   ]
  },
  {
   "cell_type": "code",
   "execution_count": 239,
   "metadata": {
    "collapsed": true,
    "jupyter": {
     "outputs_hidden": true
    }
   },
   "outputs": [
    {
     "ename": "UnicodeDecodeError",
     "evalue": "'utf-8' codec can't decode byte 0xed in position 0: unexpected end of data",
     "output_type": "error",
     "traceback": [
      "\u001b[0;31m---------------------------------------------------------------------------\u001b[0m",
      "\u001b[0;31mUnicodeDecodeError\u001b[0m                        Traceback (most recent call last)",
      "\u001b[0;32m<ipython-input-239-2b05e8e10ec7>\u001b[0m in \u001b[0;36m<module>\u001b[0;34m\u001b[0m\n\u001b[0;32m----> 1\u001b[0;31m \u001b[0mstr\u001b[0m\u001b[0;34m(\u001b[0m\u001b[0;34m\"í\"\u001b[0m\u001b[0;34m.\u001b[0m\u001b[0mencode\u001b[0m\u001b[0;34m(\u001b[0m\u001b[0;34m'latin-1'\u001b[0m\u001b[0;34m)\u001b[0m\u001b[0;34m,\u001b[0m \u001b[0;34m'utf-8'\u001b[0m\u001b[0;34m)\u001b[0m\u001b[0;34m\u001b[0m\u001b[0;34m\u001b[0m\u001b[0m\n\u001b[0m",
      "\u001b[0;31mUnicodeDecodeError\u001b[0m: 'utf-8' codec can't decode byte 0xed in position 0: unexpected end of data"
     ]
    }
   ],
   "source": [
    "str(\"í\".encode('latin-1'), 'utf-8')"
   ]
  },
  {
   "cell_type": "code",
   "execution_count": 232,
   "metadata": {
    "collapsed": true,
    "jupyter": {
     "outputs_hidden": true
    }
   },
   "outputs": [
    {
     "data": {
      "text/plain": [
       "b'\\xed'"
      ]
     },
     "execution_count": 232,
     "metadata": {},
     "output_type": "execute_result"
    }
   ],
   "source": []
  },
  {
   "cell_type": "code",
   "execution_count": 68,
   "metadata": {
    "collapsed": true,
    "jupyter": {
     "outputs_hidden": true
    }
   },
   "outputs": [
    {
     "data": {
      "text/plain": [
       "PosixPath('/storage/homedir/dima/.scidyn/sframes')"
      ]
     },
     "execution_count": 68,
     "metadata": {},
     "output_type": "execute_result"
    }
   ],
   "source": [
    "jd._sframe_dir"
   ]
  },
  {
   "cell_type": "code",
   "execution_count": 14,
   "metadata": {
    "collapsed": true,
    "jupyter": {
     "outputs_hidden": true
    }
   },
   "outputs": [],
   "source": [
    "sf.save(str(jd._sframe_dir/\"PapersAMinerMagJoin.sframe\"))"
   ]
  },
  {
   "cell_type": "code",
   "execution_count": null,
   "metadata": {},
   "outputs": [],
   "source": []
  },
  {
   "cell_type": "markdown",
   "metadata": {},
   "source": [
    "Using the joined dataset, we obtained an SFrame with the joint meta data of 28.9 million papers. We can take this SFrame and join it with the SJR dataset."
   ]
  },
  {
   "cell_type": "code",
   "execution_count": 24,
   "metadata": {
    "collapsed": true,
    "jupyter": {
     "outputs_hidden": true
    }
   },
   "outputs": [
    {
     "data": {
      "text/html": [
       "<div style=\"max-height:1000px;max-width:1500px;overflow:auto;\"><table frame=\"box\" rules=\"cols\">\n",
       "    <tr>\n",
       "        <th style=\"padding-left: 1em; padding-right: 1em; text-align: center\">MAG Paper ID</th>\n",
       "        <th style=\"padding-left: 1em; padding-right: 1em; text-align: center\">Original paper title</th>\n",
       "        <th style=\"padding-left: 1em; padding-right: 1em; text-align: center\">Normalized paper title</th>\n",
       "        <th style=\"padding-left: 1em; padding-right: 1em; text-align: center\">Paper publish year</th>\n",
       "        <th style=\"padding-left: 1em; padding-right: 1em; text-align: center\">Paper publish date</th>\n",
       "    </tr>\n",
       "    <tr>\n",
       "        <td style=\"padding-left: 1em; padding-right: 1em; text-align: center; vertical-align: top\">80F8FCAF</td>\n",
       "        <td style=\"padding-left: 1em; padding-right: 1em; text-align: center; vertical-align: top\">Trust-assisted anomaly<br>detection and ...</td>\n",
       "        <td style=\"padding-left: 1em; padding-right: 1em; text-align: center; vertical-align: top\">trust assisted anomaly<br>detection and ...</td>\n",
       "        <td style=\"padding-left: 1em; padding-right: 1em; text-align: center; vertical-align: top\">2011</td>\n",
       "        <td style=\"padding-left: 1em; padding-right: 1em; text-align: center; vertical-align: top\">2011/06</td>\n",
       "    </tr>\n",
       "    <tr>\n",
       "        <td style=\"padding-left: 1em; padding-right: 1em; text-align: center; vertical-align: top\">7E7B8146</td>\n",
       "        <td style=\"padding-left: 1em; padding-right: 1em; text-align: center; vertical-align: top\">Incentive-aware data<br>dissemination in delay- ...</td>\n",
       "        <td style=\"padding-left: 1em; padding-right: 1em; text-align: center; vertical-align: top\">incentive aware data<br>dissemination in delay ...</td>\n",
       "        <td style=\"padding-left: 1em; padding-right: 1em; text-align: center; vertical-align: top\">2011</td>\n",
       "        <td style=\"padding-left: 1em; padding-right: 1em; text-align: center; vertical-align: top\">2011/06</td>\n",
       "    </tr>\n",
       "    <tr>\n",
       "        <td style=\"padding-left: 1em; padding-right: 1em; text-align: center; vertical-align: top\">77B641FC</td>\n",
       "        <td style=\"padding-left: 1em; padding-right: 1em; text-align: center; vertical-align: top\">MOVi+: Improving the<br>scalability of mobile ...</td>\n",
       "        <td style=\"padding-left: 1em; padding-right: 1em; text-align: center; vertical-align: top\">movi improving the<br>scalability of mobile ...</td>\n",
       "        <td style=\"padding-left: 1em; padding-right: 1em; text-align: center; vertical-align: top\">2012</td>\n",
       "        <td style=\"padding-left: 1em; padding-right: 1em; text-align: center; vertical-align: top\">2012/06</td>\n",
       "    </tr>\n",
       "    <tr>\n",
       "        <td style=\"padding-left: 1em; padding-right: 1em; text-align: center; vertical-align: top\">76E06216</td>\n",
       "        <td style=\"padding-left: 1em; padding-right: 1em; text-align: center; vertical-align: top\">Identifying infection<br>sources in large tree ...</td>\n",
       "        <td style=\"padding-left: 1em; padding-right: 1em; text-align: center; vertical-align: top\">identifying infection<br>sources in large tree ...</td>\n",
       "        <td style=\"padding-left: 1em; padding-right: 1em; text-align: center; vertical-align: top\">2012</td>\n",
       "        <td style=\"padding-left: 1em; padding-right: 1em; text-align: center; vertical-align: top\">2012/06</td>\n",
       "    </tr>\n",
       "    <tr>\n",
       "        <td style=\"padding-left: 1em; padding-right: 1em; text-align: center; vertical-align: top\">7DAFE959</td>\n",
       "        <td style=\"padding-left: 1em; padding-right: 1em; text-align: center; vertical-align: top\">Coping with packet replay<br>attacks in wireless ...</td>\n",
       "        <td style=\"padding-left: 1em; padding-right: 1em; text-align: center; vertical-align: top\">coping with packet replay<br>attacks in wireless ...</td>\n",
       "        <td style=\"padding-left: 1em; padding-right: 1em; text-align: center; vertical-align: top\">2011</td>\n",
       "        <td style=\"padding-left: 1em; padding-right: 1em; text-align: center; vertical-align: top\">2011/06</td>\n",
       "    </tr>\n",
       "    <tr>\n",
       "        <td style=\"padding-left: 1em; padding-right: 1em; text-align: center; vertical-align: top\">7E428CE1</td>\n",
       "        <td style=\"padding-left: 1em; padding-right: 1em; text-align: center; vertical-align: top\">An optimal distributed<br>malware defense system ...</td>\n",
       "        <td style=\"padding-left: 1em; padding-right: 1em; text-align: center; vertical-align: top\">an optimal distributed<br>malware defense system ...</td>\n",
       "        <td style=\"padding-left: 1em; padding-right: 1em; text-align: center; vertical-align: top\">2011</td>\n",
       "        <td style=\"padding-left: 1em; padding-right: 1em; text-align: center; vertical-align: top\">2011/06</td>\n",
       "    </tr>\n",
       "    <tr>\n",
       "        <td style=\"padding-left: 1em; padding-right: 1em; text-align: center; vertical-align: top\">762EDB3C</td>\n",
       "        <td style=\"padding-left: 1em; padding-right: 1em; text-align: center; vertical-align: top\">A privacy-preserving<br>social-aware incentive ...</td>\n",
       "        <td style=\"padding-left: 1em; padding-right: 1em; text-align: center; vertical-align: top\">a privacy preserving<br>social aware incentive ...</td>\n",
       "        <td style=\"padding-left: 1em; padding-right: 1em; text-align: center; vertical-align: top\">2012</td>\n",
       "        <td style=\"padding-left: 1em; padding-right: 1em; text-align: center; vertical-align: top\">2012/06</td>\n",
       "    </tr>\n",
       "    <tr>\n",
       "        <td style=\"padding-left: 1em; padding-right: 1em; text-align: center; vertical-align: top\">7E018A37</td>\n",
       "        <td style=\"padding-left: 1em; padding-right: 1em; text-align: center; vertical-align: top\">Adaptive energy-efficient<br>spectrum probing in ...</td>\n",
       "        <td style=\"padding-left: 1em; padding-right: 1em; text-align: center; vertical-align: top\">adaptive energy efficient<br>spectrum probing in ...</td>\n",
       "        <td style=\"padding-left: 1em; padding-right: 1em; text-align: center; vertical-align: top\">2011</td>\n",
       "        <td style=\"padding-left: 1em; padding-right: 1em; text-align: center; vertical-align: top\">2011/06</td>\n",
       "    </tr>\n",
       "    <tr>\n",
       "        <td style=\"padding-left: 1em; padding-right: 1em; text-align: center; vertical-align: top\">7DDBB811</td>\n",
       "        <td style=\"padding-left: 1em; padding-right: 1em; text-align: center; vertical-align: top\">Broadcasting in multi<br>channel wireless netw ...</td>\n",
       "        <td style=\"padding-left: 1em; padding-right: 1em; text-align: center; vertical-align: top\">broadcasting in multi<br>channel wireless netw ...</td>\n",
       "        <td style=\"padding-left: 1em; padding-right: 1em; text-align: center; vertical-align: top\">2011</td>\n",
       "        <td style=\"padding-left: 1em; padding-right: 1em; text-align: center; vertical-align: top\">2011/06</td>\n",
       "    </tr>\n",
       "    <tr>\n",
       "        <td style=\"padding-left: 1em; padding-right: 1em; text-align: center; vertical-align: top\">815AC7AF</td>\n",
       "        <td style=\"padding-left: 1em; padding-right: 1em; text-align: center; vertical-align: top\">A software-hardware<br>emulator for sensor ...</td>\n",
       "        <td style=\"padding-left: 1em; padding-right: 1em; text-align: center; vertical-align: top\">a software hardware<br>emulator for sensor ...</td>\n",
       "        <td style=\"padding-left: 1em; padding-right: 1em; text-align: center; vertical-align: top\">2011</td>\n",
       "        <td style=\"padding-left: 1em; padding-right: 1em; text-align: center; vertical-align: top\">2011/06</td>\n",
       "    </tr>\n",
       "</table>\n",
       "<table frame=\"box\" rules=\"cols\">\n",
       "    <tr>\n",
       "        <th style=\"padding-left: 1em; padding-right: 1em; text-align: center\">Paper Document Object<br>Identifier (DOI) ...</th>\n",
       "        <th style=\"padding-left: 1em; padding-right: 1em; text-align: center\">Original venue name</th>\n",
       "        <th style=\"padding-left: 1em; padding-right: 1em; text-align: center\">Normalized venue name</th>\n",
       "        <th style=\"padding-left: 1em; padding-right: 1em; text-align: center\">Journal ID mapped to<br>venue name ...</th>\n",
       "        <th style=\"padding-left: 1em; padding-right: 1em; text-align: center\">Conference ID mapped to<br>venue name ...</th>\n",
       "    </tr>\n",
       "    <tr>\n",
       "        <td style=\"padding-left: 1em; padding-right: 1em; text-align: center; vertical-align: top\">10.1109/SAHCN.2011.598492<br>2 ...</td>\n",
       "        <td style=\"padding-left: 1em; padding-right: 1em; text-align: center; vertical-align: top\">sensor mesh and ad hoc<br>communications and ...</td>\n",
       "        <td style=\"padding-left: 1em; padding-right: 1em; text-align: center; vertical-align: top\">secon</td>\n",
       "        <td style=\"padding-left: 1em; padding-right: 1em; text-align: center; vertical-align: top\"></td>\n",
       "        <td style=\"padding-left: 1em; padding-right: 1em; text-align: center; vertical-align: top\">43A23F32</td>\n",
       "    </tr>\n",
       "    <tr>\n",
       "        <td style=\"padding-left: 1em; padding-right: 1em; text-align: center; vertical-align: top\">10.1109/SAHCN.2011.598494<br>0 ...</td>\n",
       "        <td style=\"padding-left: 1em; padding-right: 1em; text-align: center; vertical-align: top\">sensor mesh and ad hoc<br>communications and ...</td>\n",
       "        <td style=\"padding-left: 1em; padding-right: 1em; text-align: center; vertical-align: top\">secon</td>\n",
       "        <td style=\"padding-left: 1em; padding-right: 1em; text-align: center; vertical-align: top\"></td>\n",
       "        <td style=\"padding-left: 1em; padding-right: 1em; text-align: center; vertical-align: top\">43A23F32</td>\n",
       "    </tr>\n",
       "    <tr>\n",
       "        <td style=\"padding-left: 1em; padding-right: 1em; text-align: center; vertical-align: top\">10.1109/SECON.2012.627584<br>5 ...</td>\n",
       "        <td style=\"padding-left: 1em; padding-right: 1em; text-align: center; vertical-align: top\">sensor mesh and ad hoc<br>communications and ...</td>\n",
       "        <td style=\"padding-left: 1em; padding-right: 1em; text-align: center; vertical-align: top\">secon</td>\n",
       "        <td style=\"padding-left: 1em; padding-right: 1em; text-align: center; vertical-align: top\"></td>\n",
       "        <td style=\"padding-left: 1em; padding-right: 1em; text-align: center; vertical-align: top\">43A23F32</td>\n",
       "    </tr>\n",
       "    <tr>\n",
       "        <td style=\"padding-left: 1em; padding-right: 1em; text-align: center; vertical-align: top\">10.1109/SECON.2012.627578<br>8 ...</td>\n",
       "        <td style=\"padding-left: 1em; padding-right: 1em; text-align: center; vertical-align: top\">sensor mesh and ad hoc<br>communications and ...</td>\n",
       "        <td style=\"padding-left: 1em; padding-right: 1em; text-align: center; vertical-align: top\">secon</td>\n",
       "        <td style=\"padding-left: 1em; padding-right: 1em; text-align: center; vertical-align: top\"></td>\n",
       "        <td style=\"padding-left: 1em; padding-right: 1em; text-align: center; vertical-align: top\">43A23F32</td>\n",
       "    </tr>\n",
       "    <tr>\n",
       "        <td style=\"padding-left: 1em; padding-right: 1em; text-align: center; vertical-align: top\">10.1109/SAHCN.2011.598491<br>9 ...</td>\n",
       "        <td style=\"padding-left: 1em; padding-right: 1em; text-align: center; vertical-align: top\">sensor mesh and ad hoc<br>communications and ...</td>\n",
       "        <td style=\"padding-left: 1em; padding-right: 1em; text-align: center; vertical-align: top\">secon</td>\n",
       "        <td style=\"padding-left: 1em; padding-right: 1em; text-align: center; vertical-align: top\"></td>\n",
       "        <td style=\"padding-left: 1em; padding-right: 1em; text-align: center; vertical-align: top\">43A23F32</td>\n",
       "    </tr>\n",
       "    <tr>\n",
       "        <td style=\"padding-left: 1em; padding-right: 1em; text-align: center; vertical-align: top\">10.1109/SAHCN.2011.598491<br>3 ...</td>\n",
       "        <td style=\"padding-left: 1em; padding-right: 1em; text-align: center; vertical-align: top\">sensor mesh and ad hoc<br>communications and ...</td>\n",
       "        <td style=\"padding-left: 1em; padding-right: 1em; text-align: center; vertical-align: top\">secon</td>\n",
       "        <td style=\"padding-left: 1em; padding-right: 1em; text-align: center; vertical-align: top\"></td>\n",
       "        <td style=\"padding-left: 1em; padding-right: 1em; text-align: center; vertical-align: top\">43A23F32</td>\n",
       "    </tr>\n",
       "    <tr>\n",
       "        <td style=\"padding-left: 1em; padding-right: 1em; text-align: center; vertical-align: top\">10.1109/SECON.2012.627583<br>2 ...</td>\n",
       "        <td style=\"padding-left: 1em; padding-right: 1em; text-align: center; vertical-align: top\">sensor mesh and ad hoc<br>communications and ...</td>\n",
       "        <td style=\"padding-left: 1em; padding-right: 1em; text-align: center; vertical-align: top\">secon</td>\n",
       "        <td style=\"padding-left: 1em; padding-right: 1em; text-align: center; vertical-align: top\"></td>\n",
       "        <td style=\"padding-left: 1em; padding-right: 1em; text-align: center; vertical-align: top\">43A23F32</td>\n",
       "    </tr>\n",
       "    <tr>\n",
       "        <td style=\"padding-left: 1em; padding-right: 1em; text-align: center; vertical-align: top\">10.1109/SAHCN.2011.598490<br>0 ...</td>\n",
       "        <td style=\"padding-left: 1em; padding-right: 1em; text-align: center; vertical-align: top\">sensor mesh and ad hoc<br>communications and ...</td>\n",
       "        <td style=\"padding-left: 1em; padding-right: 1em; text-align: center; vertical-align: top\">secon</td>\n",
       "        <td style=\"padding-left: 1em; padding-right: 1em; text-align: center; vertical-align: top\"></td>\n",
       "        <td style=\"padding-left: 1em; padding-right: 1em; text-align: center; vertical-align: top\">43A23F32</td>\n",
       "    </tr>\n",
       "    <tr>\n",
       "        <td style=\"padding-left: 1em; padding-right: 1em; text-align: center; vertical-align: top\">10.1109/SAHCN.2011.598492<br>0 ...</td>\n",
       "        <td style=\"padding-left: 1em; padding-right: 1em; text-align: center; vertical-align: top\">sensor mesh and ad hoc<br>communications and ...</td>\n",
       "        <td style=\"padding-left: 1em; padding-right: 1em; text-align: center; vertical-align: top\">secon</td>\n",
       "        <td style=\"padding-left: 1em; padding-right: 1em; text-align: center; vertical-align: top\"></td>\n",
       "        <td style=\"padding-left: 1em; padding-right: 1em; text-align: center; vertical-align: top\">43A23F32</td>\n",
       "    </tr>\n",
       "    <tr>\n",
       "        <td style=\"padding-left: 1em; padding-right: 1em; text-align: center; vertical-align: top\">10.1109/SAHCN.2011.598492<br>8 ...</td>\n",
       "        <td style=\"padding-left: 1em; padding-right: 1em; text-align: center; vertical-align: top\">sensor mesh and ad hoc<br>communications and ...</td>\n",
       "        <td style=\"padding-left: 1em; padding-right: 1em; text-align: center; vertical-align: top\">secon</td>\n",
       "        <td style=\"padding-left: 1em; padding-right: 1em; text-align: center; vertical-align: top\"></td>\n",
       "        <td style=\"padding-left: 1em; padding-right: 1em; text-align: center; vertical-align: top\">43A23F32</td>\n",
       "    </tr>\n",
       "</table>\n",
       "<table frame=\"box\" rules=\"cols\">\n",
       "    <tr>\n",
       "        <th style=\"padding-left: 1em; padding-right: 1em; text-align: center\">Paper rank</th>\n",
       "        <th style=\"padding-left: 1em; padding-right: 1em; text-align: center\">Ref Number</th>\n",
       "        <th style=\"padding-left: 1em; padding-right: 1em; text-align: center\">Total Citations by Year</th>\n",
       "        <th style=\"padding-left: 1em; padding-right: 1em; text-align: center\">Total Citations by Year<br>without Self Citations ...</th>\n",
       "        <th style=\"padding-left: 1em; padding-right: 1em; text-align: center\">Authors List Sorted</th>\n",
       "        <th style=\"padding-left: 1em; padding-right: 1em; text-align: center\">Authors Number</th>\n",
       "    </tr>\n",
       "    <tr>\n",
       "        <td style=\"padding-left: 1em; padding-right: 1em; text-align: center; vertical-align: top\">19319</td>\n",
       "        <td style=\"padding-left: 1em; padding-right: 1em; text-align: center; vertical-align: top\">20</td>\n",
       "        <td style=\"padding-left: 1em; padding-right: 1em; text-align: center; vertical-align: top\">{&#x27;2014&#x27;: 2.0, &#x27;2015&#x27;:<br>4.0} ...</td>\n",
       "        <td style=\"padding-left: 1em; padding-right: 1em; text-align: center; vertical-align: top\">{&#x27;2014&#x27;: 2.0, &#x27;2015&#x27;:<br>3.0} ...</td>\n",
       "        <td style=\"padding-left: 1em; padding-right: 1em; text-align: center; vertical-align: top\">[7FFFDD08, 0C652565]</td>\n",
       "        <td style=\"padding-left: 1em; padding-right: 1em; text-align: center; vertical-align: top\">2</td>\n",
       "    </tr>\n",
       "    <tr>\n",
       "        <td style=\"padding-left: 1em; padding-right: 1em; text-align: center; vertical-align: top\">19229</td>\n",
       "        <td style=\"padding-left: 1em; padding-right: 1em; text-align: center; vertical-align: top\">24</td>\n",
       "        <td style=\"padding-left: 1em; padding-right: 1em; text-align: center; vertical-align: top\">{&#x27;2012&#x27;: 1.0, &#x27;2013&#x27;:<br>2.0, &#x27;2014&#x27;: 4.0, &#x27;20 ...</td>\n",
       "        <td style=\"padding-left: 1em; padding-right: 1em; text-align: center; vertical-align: top\">{&#x27;2012&#x27;: 1.0, &#x27;2013&#x27;:<br>2.0, &#x27;2014&#x27;: 4.0, &#x27;20 ...</td>\n",
       "        <td style=\"padding-left: 1em; padding-right: 1em; text-align: center; vertical-align: top\">[7D3561C4, 7F2E53B3,<br>80454A26, 808AA8DF] ...</td>\n",
       "        <td style=\"padding-left: 1em; padding-right: 1em; text-align: center; vertical-align: top\">4</td>\n",
       "    </tr>\n",
       "    <tr>\n",
       "        <td style=\"padding-left: 1em; padding-right: 1em; text-align: center; vertical-align: top\">17473</td>\n",
       "        <td style=\"padding-left: 1em; padding-right: 1em; text-align: center; vertical-align: top\">0</td>\n",
       "        <td style=\"padding-left: 1em; padding-right: 1em; text-align: center; vertical-align: top\">None</td>\n",
       "        <td style=\"padding-left: 1em; padding-right: 1em; text-align: center; vertical-align: top\">None</td>\n",
       "        <td style=\"padding-left: 1em; padding-right: 1em; text-align: center; vertical-align: top\">[80AFFCF9, 7CE93E83,<br>8286ED44] ...</td>\n",
       "        <td style=\"padding-left: 1em; padding-right: 1em; text-align: center; vertical-align: top\">3</td>\n",
       "    </tr>\n",
       "    <tr>\n",
       "        <td style=\"padding-left: 1em; padding-right: 1em; text-align: center; vertical-align: top\">17535</td>\n",
       "        <td style=\"padding-left: 1em; padding-right: 1em; text-align: center; vertical-align: top\">0</td>\n",
       "        <td style=\"padding-left: 1em; padding-right: 1em; text-align: center; vertical-align: top\">{&#x27;2013&#x27;: 1.0, &#x27;2014&#x27;:<br>1.0, &#x27;2015&#x27;: 3.0} ...</td>\n",
       "        <td style=\"padding-left: 1em; padding-right: 1em; text-align: center; vertical-align: top\">{&#x27;2013&#x27;: 1.0, &#x27;2014&#x27;:<br>1.0, &#x27;2015&#x27;: 3.0} ...</td>\n",
       "        <td style=\"padding-left: 1em; padding-right: 1em; text-align: center; vertical-align: top\">[7D2934CF, 7D374416]</td>\n",
       "        <td style=\"padding-left: 1em; padding-right: 1em; text-align: center; vertical-align: top\">2</td>\n",
       "    </tr>\n",
       "    <tr>\n",
       "        <td style=\"padding-left: 1em; padding-right: 1em; text-align: center; vertical-align: top\">19454</td>\n",
       "        <td style=\"padding-left: 1em; padding-right: 1em; text-align: center; vertical-align: top\">16</td>\n",
       "        <td style=\"padding-left: 1em; padding-right: 1em; text-align: center; vertical-align: top\">{&#x27;2014&#x27;: 1.0, &#x27;2015&#x27;:<br>1.0} ...</td>\n",
       "        <td style=\"padding-left: 1em; padding-right: 1em; text-align: center; vertical-align: top\">{&#x27;2014&#x27;: 1.0, &#x27;2015&#x27;:<br>1.0} ...</td>\n",
       "        <td style=\"padding-left: 1em; padding-right: 1em; text-align: center; vertical-align: top\">[80C7FAAC, 80AFEC7E,<br>1214B9E1, 094A7831, ...</td>\n",
       "        <td style=\"padding-left: 1em; padding-right: 1em; text-align: center; vertical-align: top\">6</td>\n",
       "    </tr>\n",
       "    <tr>\n",
       "        <td style=\"padding-left: 1em; padding-right: 1em; text-align: center; vertical-align: top\">19437</td>\n",
       "        <td style=\"padding-left: 1em; padding-right: 1em; text-align: center; vertical-align: top\">21</td>\n",
       "        <td style=\"padding-left: 1em; padding-right: 1em; text-align: center; vertical-align: top\">{&#x27;2013&#x27;: 1.0, &#x27;2014&#x27;:<br>2.0, &#x27;2015&#x27;: 2.0} ...</td>\n",
       "        <td style=\"padding-left: 1em; padding-right: 1em; text-align: center; vertical-align: top\">{&#x27;2013&#x27;: 1.0, &#x27;2014&#x27;:<br>2.0, &#x27;2015&#x27;: 2.0} ...</td>\n",
       "        <td style=\"padding-left: 1em; padding-right: 1em; text-align: center; vertical-align: top\">[7D12A2C4, 7D33EF8B,<br>7E288A95, 7EF1ED28, ...</td>\n",
       "        <td style=\"padding-left: 1em; padding-right: 1em; text-align: center; vertical-align: top\">5</td>\n",
       "    </tr>\n",
       "    <tr>\n",
       "        <td style=\"padding-left: 1em; padding-right: 1em; text-align: center; vertical-align: top\">19555</td>\n",
       "        <td style=\"padding-left: 1em; padding-right: 1em; text-align: center; vertical-align: top\">0</td>\n",
       "        <td style=\"padding-left: 1em; padding-right: 1em; text-align: center; vertical-align: top\">None</td>\n",
       "        <td style=\"padding-left: 1em; padding-right: 1em; text-align: center; vertical-align: top\">None</td>\n",
       "        <td style=\"padding-left: 1em; padding-right: 1em; text-align: center; vertical-align: top\">[8623A2A7, 7DB01108,<br>7E956002, 7D59933A] ...</td>\n",
       "        <td style=\"padding-left: 1em; padding-right: 1em; text-align: center; vertical-align: top\">4</td>\n",
       "    </tr>\n",
       "    <tr>\n",
       "        <td style=\"padding-left: 1em; padding-right: 1em; text-align: center; vertical-align: top\">19555</td>\n",
       "        <td style=\"padding-left: 1em; padding-right: 1em; text-align: center; vertical-align: top\">0</td>\n",
       "        <td style=\"padding-left: 1em; padding-right: 1em; text-align: center; vertical-align: top\">None</td>\n",
       "        <td style=\"padding-left: 1em; padding-right: 1em; text-align: center; vertical-align: top\">None</td>\n",
       "        <td style=\"padding-left: 1em; padding-right: 1em; text-align: center; vertical-align: top\">[7F297646, 7E9270C8]</td>\n",
       "        <td style=\"padding-left: 1em; padding-right: 1em; text-align: center; vertical-align: top\">2</td>\n",
       "    </tr>\n",
       "    <tr>\n",
       "        <td style=\"padding-left: 1em; padding-right: 1em; text-align: center; vertical-align: top\">19387</td>\n",
       "        <td style=\"padding-left: 1em; padding-right: 1em; text-align: center; vertical-align: top\">22</td>\n",
       "        <td style=\"padding-left: 1em; padding-right: 1em; text-align: center; vertical-align: top\">{&#x27;2011&#x27;: 3.0, &#x27;2012&#x27;:<br>3.0, &#x27;2013&#x27;: 4.0, &#x27;20 ...</td>\n",
       "        <td style=\"padding-left: 1em; padding-right: 1em; text-align: center; vertical-align: top\">{&#x27;2011&#x27;: 3.0, &#x27;2012&#x27;:<br>3.0, &#x27;2013&#x27;: 4.0, &#x27;20 ...</td>\n",
       "        <td style=\"padding-left: 1em; padding-right: 1em; text-align: center; vertical-align: top\">[00FA05B9, 80E6FE49,<br>80989FF0, 75C29F98] ...</td>\n",
       "        <td style=\"padding-left: 1em; padding-right: 1em; text-align: center; vertical-align: top\">4</td>\n",
       "    </tr>\n",
       "    <tr>\n",
       "        <td style=\"padding-left: 1em; padding-right: 1em; text-align: center; vertical-align: top\">19317</td>\n",
       "        <td style=\"padding-left: 1em; padding-right: 1em; text-align: center; vertical-align: top\">11</td>\n",
       "        <td style=\"padding-left: 1em; padding-right: 1em; text-align: center; vertical-align: top\">{&#x27;2014&#x27;: 2.0, &#x27;2015&#x27;:<br>2.0} ...</td>\n",
       "        <td style=\"padding-left: 1em; padding-right: 1em; text-align: center; vertical-align: top\">{&#x27;2014&#x27;: 1.0, &#x27;2015&#x27;:<br>1.0} ...</td>\n",
       "        <td style=\"padding-left: 1em; padding-right: 1em; text-align: center; vertical-align: top\">[812A1C42, 7DAB2459,<br>814E3A70, 8149DAE0, ...</td>\n",
       "        <td style=\"padding-left: 1em; padding-right: 1em; text-align: center; vertical-align: top\">6</td>\n",
       "    </tr>\n",
       "</table>\n",
       "<table frame=\"box\" rules=\"cols\">\n",
       "    <tr>\n",
       "        <th style=\"padding-left: 1em; padding-right: 1em; text-align: center\">Keywords List</th>\n",
       "        <th style=\"padding-left: 1em; padding-right: 1em; text-align: center\">Field of study list</th>\n",
       "        <th style=\"padding-left: 1em; padding-right: 1em; text-align: center\">Field of study list names</th>\n",
       "        <th style=\"padding-left: 1em; padding-right: 1em; text-align: center\">Fields of study parent<br>list (L0) ...</th>\n",
       "    </tr>\n",
       "    <tr>\n",
       "        <td style=\"padding-left: 1em; padding-right: 1em; text-align: center; vertical-align: top\">[sensor network, energy<br>efficient, wireless ...</td>\n",
       "        <td style=\"padding-left: 1em; padding-right: 1em; text-align: center; vertical-align: top\">[017737EA, 017737EA,<br>0029D7DC, 0029D7DC, ...</td>\n",
       "        <td style=\"padding-left: 1em; padding-right: 1em; text-align: center; vertical-align: top\">[Wireless sensor network,<br>Wireless sensor network, ...</td>\n",
       "        <td style=\"padding-left: 1em; padding-right: 1em; text-align: center; vertical-align: top\">[0271BC14]</td>\n",
       "    </tr>\n",
       "    <tr>\n",
       "        <td style=\"padding-left: 1em; padding-right: 1em; text-align: center; vertical-align: top\">[data dissemination,<br>routing, games, mobile ...</td>\n",
       "        <td style=\"padding-left: 1em; padding-right: 1em; text-align: center; vertical-align: top\">[06110AD8, 09A2762C,<br>1E2C5488, 089D907D, ...</td>\n",
       "        <td style=\"padding-left: 1em; padding-right: 1em; text-align: center; vertical-align: top\">[Dissemination, Routing,<br>Games, Mobile computing, ...</td>\n",
       "        <td style=\"padding-left: 1em; padding-right: 1em; text-align: center; vertical-align: top\">[0271BC14, 09ACE10E,<br>00F03FC7] ...</td>\n",
       "    </tr>\n",
       "    <tr>\n",
       "        <td style=\"padding-left: 1em; padding-right: 1em; text-align: center; vertical-align: top\">[switches, servers, video<br>quality, mobile ...</td>\n",
       "        <td style=\"padding-left: 1em; padding-right: 1em; text-align: center; vertical-align: top\">[071DF995, 059A455C,<br>06318DBC, 05B1168F, ...</td>\n",
       "        <td style=\"padding-left: 1em; padding-right: 1em; text-align: center; vertical-align: top\">[Network switch, Server,<br>Video quality, Mobile ...</td>\n",
       "        <td style=\"padding-left: 1em; padding-right: 1em; text-align: center; vertical-align: top\">[0271BC14]</td>\n",
       "    </tr>\n",
       "    <tr>\n",
       "        <td style=\"padding-left: 1em; padding-right: 1em; text-align: center; vertical-align: top\">[computer viruses,<br>estimation, sensor ...</td>\n",
       "        <td style=\"padding-left: 1em; padding-right: 1em; text-align: center; vertical-align: top\">[012823EE, 03C8C972,<br>017737EA, 06E8E0BF, ...</td>\n",
       "        <td style=\"padding-left: 1em; padding-right: 1em; text-align: center; vertical-align: top\">[Computer virus,<br>Estimation, Wireless ...</td>\n",
       "        <td style=\"padding-left: 1em; padding-right: 1em; text-align: center; vertical-align: top\">[0271BC14, 0205A1DB,<br>0895A350] ...</td>\n",
       "    </tr>\n",
       "    <tr>\n",
       "        <td style=\"padding-left: 1em; padding-right: 1em; text-align: center; vertical-align: top\">[throughput, bloom<br>filter, packet header, ...</td>\n",
       "        <td style=\"padding-left: 1em; padding-right: 1em; text-align: center; vertical-align: top\">[09674BAC, 02DE0735,<br>08C676B7, 0C1A7D17, ...</td>\n",
       "        <td style=\"padding-left: 1em; padding-right: 1em; text-align: center; vertical-align: top\">[Throughput, None, Bloom<br>filter, Public-key ...</td>\n",
       "        <td style=\"padding-left: 1em; padding-right: 1em; text-align: center; vertical-align: top\">[0271BC14, 0796A60A]</td>\n",
       "    </tr>\n",
       "    <tr>\n",
       "        <td style=\"padding-left: 1em; padding-right: 1em; text-align: center; vertical-align: top\">[mobile network, mobile<br>computer, greedy ...</td>\n",
       "        <td style=\"padding-left: 1em; padding-right: 1em; text-align: center; vertical-align: top\">[09287742, 089D907D,<br>0316C4AE, 065950AA, ...</td>\n",
       "        <td style=\"padding-left: 1em; padding-right: 1em; text-align: center; vertical-align: top\">[Cellular network, Mobile<br>computing, None, ...</td>\n",
       "        <td style=\"padding-left: 1em; padding-right: 1em; text-align: center; vertical-align: top\">[0271BC14, 0205A1DB]</td>\n",
       "    </tr>\n",
       "    <tr>\n",
       "        <td style=\"padding-left: 1em; padding-right: 1em; text-align: center; vertical-align: top\">[privacy, word of mouth,<br>consumer behaviour, ...</td>\n",
       "        <td style=\"padding-left: 1em; padding-right: 1em; text-align: center; vertical-align: top\">[04A33560, 08386431,<br>01623677, 06B7A533, ...</td>\n",
       "        <td style=\"padding-left: 1em; padding-right: 1em; text-align: center; vertical-align: top\">[Privacy, None, Consumer<br>Behaviour, Advertising, ...</td>\n",
       "        <td style=\"padding-left: 1em; padding-right: 1em; text-align: center; vertical-align: top\">[0271BC14, 09ACE10E]</td>\n",
       "    </tr>\n",
       "    <tr>\n",
       "        <td style=\"padding-left: 1em; padding-right: 1em; text-align: center; vertical-align: top\">[spectrum, cognitive<br>radio, cognitive radio ...</td>\n",
       "        <td style=\"padding-left: 1em; padding-right: 1em; text-align: center; vertical-align: top\">[099F6B15, 08EFFF50,<br>08EFFF50, 08EFFF50, ...</td>\n",
       "        <td style=\"padding-left: 1em; padding-right: 1em; text-align: center; vertical-align: top\">[Spectrum, Cognitive<br>radio, Cognitive radio, ...</td>\n",
       "        <td style=\"padding-left: 1em; padding-right: 1em; text-align: center; vertical-align: top\">[0271BC14, 073B64E4,<br>0205A1DB] ...</td>\n",
       "    </tr>\n",
       "    <tr>\n",
       "        <td style=\"padding-left: 1em; padding-right: 1em; text-align: center; vertical-align: top\">[information retrieval,<br>information exchange, ...</td>\n",
       "        <td style=\"padding-left: 1em; padding-right: 1em; text-align: center; vertical-align: top\">[0160D514, 0B4E7F98,<br>06708471, 0382EC42, ...</td>\n",
       "        <td style=\"padding-left: 1em; padding-right: 1em; text-align: center; vertical-align: top\">[Information retrieval,<br>Information exchange, ...</td>\n",
       "        <td style=\"padding-left: 1em; padding-right: 1em; text-align: center; vertical-align: top\">[0271BC14, 0205A1DB,<br>07982D63] ...</td>\n",
       "    </tr>\n",
       "    <tr>\n",
       "        <td style=\"padding-left: 1em; padding-right: 1em; text-align: center; vertical-align: top\">[hardware, network<br>protocols, data models, ...</td>\n",
       "        <td style=\"padding-left: 1em; padding-right: 1em; text-align: center; vertical-align: top\">[0090990D, 008F4943,<br>00BB3814, 040130E0, ...</td>\n",
       "        <td style=\"padding-left: 1em; padding-right: 1em; text-align: center; vertical-align: top\">[Data model, Computer<br>hardware, Communications ...</td>\n",
       "        <td style=\"padding-left: 1em; padding-right: 1em; text-align: center; vertical-align: top\">[0271BC14, 073B64E4,<br>07982D63] ...</td>\n",
       "    </tr>\n",
       "</table>\n",
       "<table frame=\"box\" rules=\"cols\">\n",
       "    <tr>\n",
       "        <th style=\"padding-left: 1em; padding-right: 1em; text-align: center\">Fields of study parent<br>list names (L0) ...</th>\n",
       "        <th style=\"padding-left: 1em; padding-right: 1em; text-align: center\">Fields of study parent<br>list (L1) ...</th>\n",
       "        <th style=\"padding-left: 1em; padding-right: 1em; text-align: center\">Fields of study parent<br>list names (L1) ...</th>\n",
       "        <th style=\"padding-left: 1em; padding-right: 1em; text-align: center\">Fields of study parent<br>list (L2) ...</th>\n",
       "    </tr>\n",
       "    <tr>\n",
       "        <td style=\"padding-left: 1em; padding-right: 1em; text-align: center; vertical-align: top\">[Computer Science]</td>\n",
       "        <td style=\"padding-left: 1em; padding-right: 1em; text-align: center; vertical-align: top\">[08EB4114]</td>\n",
       "        <td style=\"padding-left: 1em; padding-right: 1em; text-align: center; vertical-align: top\">[Embedded system]</td>\n",
       "        <td style=\"padding-left: 1em; padding-right: 1em; text-align: center; vertical-align: top\">[000B4A2A, 08DDF80C]</td>\n",
       "    </tr>\n",
       "    <tr>\n",
       "        <td style=\"padding-left: 1em; padding-right: 1em; text-align: center; vertical-align: top\">[Computer Science,<br>Economics, Psychology] ...</td>\n",
       "        <td style=\"padding-left: 1em; padding-right: 1em; text-align: center; vertical-align: top\">[009AB2E6, 02A1BFD4,<br>01DCF91B, 06ABC255, ...</td>\n",
       "        <td style=\"padding-left: 1em; padding-right: 1em; text-align: center; vertical-align: top\">[Finance, Simulation,<br>Computer network, ...</td>\n",
       "        <td style=\"padding-left: 1em; padding-right: 1em; text-align: center; vertical-align: top\">[0A8EFC34, 04CC92E5,<br>089D907D] ...</td>\n",
       "    </tr>\n",
       "    <tr>\n",
       "        <td style=\"padding-left: 1em; padding-right: 1em; text-align: center; vertical-align: top\">[Computer Science]</td>\n",
       "        <td style=\"padding-left: 1em; padding-right: 1em; text-align: center; vertical-align: top\">[06ABC255, 0724DFBA]</td>\n",
       "        <td style=\"padding-left: 1em; padding-right: 1em; text-align: center; vertical-align: top\">[Operating system,<br>Machine learning] ...</td>\n",
       "        <td style=\"padding-left: 1em; padding-right: 1em; text-align: center; vertical-align: top\">[089D907D, 04F6CF02]</td>\n",
       "    </tr>\n",
       "    <tr>\n",
       "        <td style=\"padding-left: 1em; padding-right: 1em; text-align: center; vertical-align: top\">[Computer Science,<br>Mathematics, Sociology] ...</td>\n",
       "        <td style=\"padding-left: 1em; padding-right: 1em; text-align: center; vertical-align: top\">[093C4716, 0229BD39,<br>064E5072, 024DC8C8, ...</td>\n",
       "        <td style=\"padding-left: 1em; padding-right: 1em; text-align: center; vertical-align: top\">[Artificial intelligence,<br>Social science, ...</td>\n",
       "        <td style=\"padding-left: 1em; padding-right: 1em; text-align: center; vertical-align: top\">[01516333, 06E8E0BF,<br>07C09FE0, 1F734584] ...</td>\n",
       "    </tr>\n",
       "    <tr>\n",
       "        <td style=\"padding-left: 1em; padding-right: 1em; text-align: center; vertical-align: top\">[Computer Science,<br>Geology] ...</td>\n",
       "        <td style=\"padding-left: 1em; padding-right: 1em; text-align: center; vertical-align: top\">[0BE20181, 06D79A36,<br>07108A62, 01DCF91B, ...</td>\n",
       "        <td style=\"padding-left: 1em; padding-right: 1em; text-align: center; vertical-align: top\">[Programming language,<br>Geomorphology, Computer ...</td>\n",
       "        <td style=\"padding-left: 1em; padding-right: 1em; text-align: center; vertical-align: top\">[0B274714, 1F734584,<br>09ACCB7D] ...</td>\n",
       "    </tr>\n",
       "    <tr>\n",
       "        <td style=\"padding-left: 1em; padding-right: 1em; text-align: center; vertical-align: top\">[Computer Science,<br>Mathematics] ...</td>\n",
       "        <td style=\"padding-left: 1em; padding-right: 1em; text-align: center; vertical-align: top\">[00AE2819, 06ABC255,<br>072BDC64, 024DC8C8] ...</td>\n",
       "        <td style=\"padding-left: 1em; padding-right: 1em; text-align: center; vertical-align: top\">[Algorithm, Operating<br>system, Distributed ...</td>\n",
       "        <td style=\"padding-left: 1em; padding-right: 1em; text-align: center; vertical-align: top\">[07C17D18, 01516333,<br>089D907D, 1DD1FB15] ...</td>\n",
       "    </tr>\n",
       "    <tr>\n",
       "        <td style=\"padding-left: 1em; padding-right: 1em; text-align: center; vertical-align: top\">[Computer Science,<br>Economics] ...</td>\n",
       "        <td style=\"padding-left: 1em; padding-right: 1em; text-align: center; vertical-align: top\">[09B4F1FA, 020DA09F,<br>024DC8C8, 06B7A533] ...</td>\n",
       "        <td style=\"padding-left: 1em; padding-right: 1em; text-align: center; vertical-align: top\">[Marketing, Market<br>economy, Computer ...</td>\n",
       "        <td style=\"padding-left: 1em; padding-right: 1em; text-align: center; vertical-align: top\">[01623677, 1F734584,<br>0A8CD660] ...</td>\n",
       "    </tr>\n",
       "    <tr>\n",
       "        <td style=\"padding-left: 1em; padding-right: 1em; text-align: center; vertical-align: top\">[Computer Science,<br>Physics, Mathematics] ...</td>\n",
       "        <td style=\"padding-left: 1em; padding-right: 1em; text-align: center; vertical-align: top\">[01DCF91B, 064E5072]</td>\n",
       "        <td style=\"padding-left: 1em; padding-right: 1em; text-align: center; vertical-align: top\">[Computer network,<br>Statistics] ...</td>\n",
       "        <td style=\"padding-left: 1em; padding-right: 1em; text-align: center; vertical-align: top\">[007E3B49, 01F5E149,<br>1DD1FB15] ...</td>\n",
       "    </tr>\n",
       "    <tr>\n",
       "        <td style=\"padding-left: 1em; padding-right: 1em; text-align: center; vertical-align: top\">[Computer Science,<br>Mathematics, Engineer ...</td>\n",
       "        <td style=\"padding-left: 1em; padding-right: 1em; text-align: center; vertical-align: top\">[0160D514, 064E5072]</td>\n",
       "        <td style=\"padding-left: 1em; padding-right: 1em; text-align: center; vertical-align: top\">[Information retrieval,<br>Statistics] ...</td>\n",
       "        <td style=\"padding-left: 1em; padding-right: 1em; text-align: center; vertical-align: top\">[065808E3, 0322F3B2]</td>\n",
       "    </tr>\n",
       "    <tr>\n",
       "        <td style=\"padding-left: 1em; padding-right: 1em; text-align: center; vertical-align: top\">[Computer Science,<br>Physics, Engineering] ...</td>\n",
       "        <td style=\"padding-left: 1em; padding-right: 1em; text-align: center; vertical-align: top\">[07108A62, 04984686,<br>02A1BFD4, 01DCF91B, ...</td>\n",
       "        <td style=\"padding-left: 1em; padding-right: 1em; text-align: center; vertical-align: top\">[Computer architecture,<br>Database, Simulation, ...</td>\n",
       "        <td style=\"padding-left: 1em; padding-right: 1em; text-align: center; vertical-align: top\">[00197524, 01F5E149,<br>0814ADB4, 07A90BBE, ...</td>\n",
       "    </tr>\n",
       "</table>\n",
       "<table frame=\"box\" rules=\"cols\">\n",
       "    <tr>\n",
       "        <th style=\"padding-left: 1em; padding-right: 1em; text-align: center\">Fields of study parent<br>list names (L2) ...</th>\n",
       "        <th style=\"padding-left: 1em; padding-right: 1em; text-align: center\">Fields of study parent<br>list (L3) ...</th>\n",
       "        <th style=\"padding-left: 1em; padding-right: 1em; text-align: center\">Fields of study parent<br>list names (L3) ...</th>\n",
       "        <th style=\"padding-left: 1em; padding-right: 1em; text-align: center\">Urls</th>\n",
       "    </tr>\n",
       "    <tr>\n",
       "        <td style=\"padding-left: 1em; padding-right: 1em; text-align: center; vertical-align: top\">[Anomaly detection,<br>Approximation algorithm] ...</td>\n",
       "        <td style=\"padding-left: 1em; padding-right: 1em; text-align: center; vertical-align: top\">[017737EA]</td>\n",
       "        <td style=\"padding-left: 1em; padding-right: 1em; text-align: center; vertical-align: top\">[Wireless sensor network]</td>\n",
       "        <td style=\"padding-left: 1em; padding-right: 1em; text-align: center; vertical-align: top\">[http://ieeexplore.ieee.o<br>rg/xpls/abs_all.jsp?a ...</td>\n",
       "    </tr>\n",
       "    <tr>\n",
       "        <td style=\"padding-left: 1em; padding-right: 1em; text-align: center; vertical-align: top\">[Game theory, Corporate<br>finance, Mobile ...</td>\n",
       "        <td style=\"padding-left: 1em; padding-right: 1em; text-align: center; vertical-align: top\">[1E2C5488, 0B168EFB,<br>09A2762C, 09287742, ...</td>\n",
       "        <td style=\"padding-left: 1em; padding-right: 1em; text-align: center; vertical-align: top\">[Games, Valuation,<br>Routing, Cellular ...</td>\n",
       "        <td style=\"padding-left: 1em; padding-right: 1em; text-align: center; vertical-align: top\">[http://citeseerx.ist.psu<br>.edu/viewdoc/summary? ...</td>\n",
       "    </tr>\n",
       "    <tr>\n",
       "        <td style=\"padding-left: 1em; padding-right: 1em; text-align: center; vertical-align: top\">[Mobile computing,<br>Supercomputer] ...</td>\n",
       "        <td style=\"padding-left: 1em; padding-right: 1em; text-align: center; vertical-align: top\">[059A455C, 06318DBC,<br>05B1168F, 071DF995] ...</td>\n",
       "        <td style=\"padding-left: 1em; padding-right: 1em; text-align: center; vertical-align: top\">[Server, Video quality,<br>Mobile telephony, Net ...</td>\n",
       "        <td style=\"padding-left: 1em; padding-right: 1em; text-align: center; vertical-align: top\">[http://ieeexplore.ieee.o<br>rg/stamp/stamp.jsp?ar ...</td>\n",
       "    </tr>\n",
       "    <tr>\n",
       "        <td style=\"padding-left: 1em; padding-right: 1em; text-align: center; vertical-align: top\">[Internet security,<br>Knowledge-based systems, ...</td>\n",
       "        <td style=\"padding-left: 1em; padding-right: 1em; text-align: center; vertical-align: top\">[03C8C972, 03887C04,<br>012823EE, 05242AA7, ...</td>\n",
       "        <td style=\"padding-left: 1em; padding-right: 1em; text-align: center; vertical-align: top\">[Estimation, Database<br>index, Computer virus, ...</td>\n",
       "        <td style=\"padding-left: 1em; padding-right: 1em; text-align: center; vertical-align: top\">[http://ieeexplore.ieee.o<br>rg/xpls/icp.jsp?arnum ...</td>\n",
       "    </tr>\n",
       "    <tr>\n",
       "        <td style=\"padding-left: 1em; padding-right: 1em; text-align: center; vertical-align: top\">[Computer performance,<br>Information security, ...</td>\n",
       "        <td style=\"padding-left: 1em; padding-right: 1em; text-align: center; vertical-align: top\">[08C676B7, 06708471,<br>0BA80FE2, 0C1A7D17, ...</td>\n",
       "        <td style=\"padding-left: 1em; padding-right: 1em; text-align: center; vertical-align: top\">[Bloom filter, Wireless<br>network, Network ...</td>\n",
       "        <td style=\"padding-left: 1em; padding-right: 1em; text-align: center; vertical-align: top\">[http://citeseerx.ist.psu<br>.edu/viewdoc/summary? ...</td>\n",
       "    </tr>\n",
       "    <tr>\n",
       "        <td style=\"padding-left: 1em; padding-right: 1em; text-align: center; vertical-align: top\">[Distributed algorithm,<br>Internet security, Mo ...</td>\n",
       "        <td style=\"padding-left: 1em; padding-right: 1em; text-align: center; vertical-align: top\">[0B24E4DD, 09287742,<br>0496747A, 05B1168F, ...</td>\n",
       "        <td style=\"padding-left: 1em; padding-right: 1em; text-align: center; vertical-align: top\">[Mobile device, Cellular<br>network, Mathematical ...</td>\n",
       "        <td style=\"padding-left: 1em; padding-right: 1em; text-align: center; vertical-align: top\">[http://citeseerx.ist.psu<br>.edu/viewdoc/summary? ...</td>\n",
       "    </tr>\n",
       "    <tr>\n",
       "        <td style=\"padding-left: 1em; padding-right: 1em; text-align: center; vertical-align: top\">[Consumer Behaviour,<br>Information security, ...</td>\n",
       "        <td style=\"padding-left: 1em; padding-right: 1em; text-align: center; vertical-align: top\">[0C1A7D17, 04A33560,<br>00BB3814, 0A35AA56, ...</td>\n",
       "        <td style=\"padding-left: 1em; padding-right: 1em; text-align: center; vertical-align: top\">[Public-key cryptography,<br>Privacy, Communications ...</td>\n",
       "        <td style=\"padding-left: 1em; padding-right: 1em; text-align: center; vertical-align: top\">[http://cis-linux1.temple<br>.edu/~jiewu/research/ ...</td>\n",
       "    </tr>\n",
       "    <tr>\n",
       "        <td style=\"padding-left: 1em; padding-right: 1em; text-align: center; vertical-align: top\">[Stochastic process,<br>Spectroscopy, Computer ...</td>\n",
       "        <td style=\"padding-left: 1em; padding-right: 1em; text-align: center; vertical-align: top\">[099F6B15, 08EFFF50,<br>0496747A] ...</td>\n",
       "        <td style=\"padding-left: 1em; padding-right: 1em; text-align: center; vertical-align: top\">[Spectrum, Cognitive<br>radio, Mathematical ...</td>\n",
       "        <td style=\"padding-left: 1em; padding-right: 1em; text-align: center; vertical-align: top\">[http://ieeexplore.ieee.o<br>rg/xpl/abstractAuthor ...</td>\n",
       "    </tr>\n",
       "    <tr>\n",
       "        <td style=\"padding-left: 1em; padding-right: 1em; text-align: center; vertical-align: top\">[Education, Information<br>theory] ...</td>\n",
       "        <td style=\"padding-left: 1em; padding-right: 1em; text-align: center; vertical-align: top\">[04E299D3, 06708471,<br>0B4E7F98, 083E300E, ...</td>\n",
       "        <td style=\"padding-left: 1em; padding-right: 1em; text-align: center; vertical-align: top\">[Broadcasting, Wireless<br>network, Information ...</td>\n",
       "        <td style=\"padding-left: 1em; padding-right: 1em; text-align: center; vertical-align: top\">[http://ieeexplore.ieee.o<br>rg/xpl/freeabs_all.js ...</td>\n",
       "    </tr>\n",
       "    <tr>\n",
       "        <td style=\"padding-left: 1em; padding-right: 1em; text-align: center; vertical-align: top\">[Data management,<br>Spectroscopy, Data ...</td>\n",
       "        <td style=\"padding-left: 1em; padding-right: 1em; text-align: center; vertical-align: top\">[00F1CA12, 0A500C3A,<br>0090990D, 0C11C5B4, ...</td>\n",
       "        <td style=\"padding-left: 1em; padding-right: 1em; text-align: center; vertical-align: top\">[Data exchange,<br>Microcontroller, Data ...</td>\n",
       "        <td style=\"padding-left: 1em; padding-right: 1em; text-align: center; vertical-align: top\">[http://ieeexplore.ieee.o<br>rg/xpls/abs_all.jsp?a ...</td>\n",
       "    </tr>\n",
       "</table>\n",
       "<table frame=\"box\" rules=\"cols\">\n",
       "    <tr>\n",
       "        <th style=\"padding-left: 1em; padding-right: 1em; text-align: center\">abstract</th>\n",
       "        <th style=\"padding-left: 1em; padding-right: 1em; text-align: center\">authors</th>\n",
       "        <th style=\"padding-left: 1em; padding-right: 1em; text-align: center\">Aminer Paper ID</th>\n",
       "        <th style=\"padding-left: 1em; padding-right: 1em; text-align: center\">isbn</th>\n",
       "    </tr>\n",
       "    <tr>\n",
       "        <td style=\"padding-left: 1em; padding-right: 1em; text-align: center; vertical-align: top\">Fast anomaly detection<br>and localization is ...</td>\n",
       "        <td style=\"padding-left: 1em; padding-right: 1em; text-align: center; vertical-align: top\">[{&#x27;name&#x27;: &#x27;Shanshan<br>Zheng&#x27;, &#x27;org&#x27;: &#x27;Dept. of ...</td>\n",
       "        <td style=\"padding-left: 1em; padding-right: 1em; text-align: center; vertical-align: top\">53e9a433b7602d9702d51013</td>\n",
       "        <td style=\"padding-left: 1em; padding-right: 1em; text-align: center; vertical-align: top\">978-1-4577-0094-1</td>\n",
       "    </tr>\n",
       "    <tr>\n",
       "        <td style=\"padding-left: 1em; padding-right: 1em; text-align: center; vertical-align: top\">This work centers on data<br>dissemination in delay- ...</td>\n",
       "        <td style=\"padding-left: 1em; padding-right: 1em; text-align: center; vertical-align: top\">[{&#x27;name&#x27;: &#x27;Ting Ning&#x27;},<br>{&#x27;name&#x27;: &#x27;Zhipeng Yan ...</td>\n",
       "        <td style=\"padding-left: 1em; padding-right: 1em; text-align: center; vertical-align: top\">53e9ba70b7602d9704692e85</td>\n",
       "        <td style=\"padding-left: 1em; padding-right: 1em; text-align: center; vertical-align: top\">978-1-4577-0094-1</td>\n",
       "    </tr>\n",
       "    <tr>\n",
       "        <td style=\"padding-left: 1em; padding-right: 1em; text-align: center; vertical-align: top\">In this demonstration, we<br>show our ongoing work ...</td>\n",
       "        <td style=\"padding-left: 1em; padding-right: 1em; text-align: center; vertical-align: top\">[{&#x27;name&#x27;: &#x27;Hyun Lee&#x27;},<br>{&#x27;name&#x27;: &#x27;Jae-Yong Yo ...</td>\n",
       "        <td style=\"padding-left: 1em; padding-right: 1em; text-align: center; vertical-align: top\">53e9b0fbb7602d9703b742e6</td>\n",
       "        <td style=\"padding-left: 1em; padding-right: 1em; text-align: center; vertical-align: top\">978-1-4673-1903-4</td>\n",
       "    </tr>\n",
       "    <tr>\n",
       "        <td style=\"padding-left: 1em; padding-right: 1em; text-align: center; vertical-align: top\">Estimating which nodes in<br>a network are the ...</td>\n",
       "        <td style=\"padding-left: 1em; padding-right: 1em; text-align: center; vertical-align: top\">[{&#x27;name&#x27;: &#x27;Wuqiong Luo&#x27;},<br>{&#x27;name&#x27;: &#x27;Wee-Peng Ta ...</td>\n",
       "        <td style=\"padding-left: 1em; padding-right: 1em; text-align: center; vertical-align: top\">53e9af0cb7602d97039439e4</td>\n",
       "        <td style=\"padding-left: 1em; padding-right: 1em; text-align: center; vertical-align: top\">978-1-4673-1903-4</td>\n",
       "    </tr>\n",
       "    <tr>\n",
       "        <td style=\"padding-left: 1em; padding-right: 1em; text-align: center; vertical-align: top\">In this paper, we<br>consider a variant of ...</td>\n",
       "        <td style=\"padding-left: 1em; padding-right: 1em; text-align: center; vertical-align: top\">[{&#x27;name&#x27;: &#x27;Zi Feng&#x27;},<br>{&#x27;name&#x27;: &#x27;Jianxia Nin ...</td>\n",
       "        <td style=\"padding-left: 1em; padding-right: 1em; text-align: center; vertical-align: top\">53e9a539b7602d9702e5be9d</td>\n",
       "        <td style=\"padding-left: 1em; padding-right: 1em; text-align: center; vertical-align: top\">978-1-4577-0094-1</td>\n",
       "    </tr>\n",
       "    <tr>\n",
       "        <td style=\"padding-left: 1em; padding-right: 1em; text-align: center; vertical-align: top\">As malware attacks become<br>more frequent in mobile ...</td>\n",
       "        <td style=\"padding-left: 1em; padding-right: 1em; text-align: center; vertical-align: top\">[{&#x27;name&#x27;: &#x27;Yong Li&#x27;},<br>{&#x27;name&#x27;: &#x27;Pan Hui&#x27;}, ...</td>\n",
       "        <td style=\"padding-left: 1em; padding-right: 1em; text-align: center; vertical-align: top\">53e9be57b7602d9704b19c6d</td>\n",
       "        <td style=\"padding-left: 1em; padding-right: 1em; text-align: center; vertical-align: top\">978-1-4577-0094-1</td>\n",
       "    </tr>\n",
       "    <tr>\n",
       "        <td style=\"padding-left: 1em; padding-right: 1em; text-align: center; vertical-align: top\">The recent penetration of<br>smart mobile devices  ...</td>\n",
       "        <td style=\"padding-left: 1em; padding-right: 1em; text-align: center; vertical-align: top\">[{&#x27;name&#x27;: &#x27;Wei Peng&#x27;},<br>{&#x27;name&#x27;: &#x27;Feng Li&#x27;}, ...</td>\n",
       "        <td style=\"padding-left: 1em; padding-right: 1em; text-align: center; vertical-align: top\">53e9a4e4b7602d9702e05a05</td>\n",
       "        <td style=\"padding-left: 1em; padding-right: 1em; text-align: center; vertical-align: top\">978-1-4673-1903-4</td>\n",
       "    </tr>\n",
       "    <tr>\n",
       "        <td style=\"padding-left: 1em; padding-right: 1em; text-align: center; vertical-align: top\">In cognitive radio<br>networks, secondary u ...</td>\n",
       "        <td style=\"padding-left: 1em; padding-right: 1em; text-align: center; vertical-align: top\">[{&#x27;name&#x27;: &#x27;Zesheng<br>Chen&#x27;}, {&#x27;name&#x27;: &#x27;Chao ...</td>\n",
       "        <td style=\"padding-left: 1em; padding-right: 1em; text-align: center; vertical-align: top\">53e9bbb5b7602d9704801e12</td>\n",
       "        <td style=\"padding-left: 1em; padding-right: 1em; text-align: center; vertical-align: top\">978-1-4577-0094-1</td>\n",
       "    </tr>\n",
       "    <tr>\n",
       "        <td style=\"padding-left: 1em; padding-right: 1em; text-align: center; vertical-align: top\">We propose an analytical<br>framework to study ...</td>\n",
       "        <td style=\"padding-left: 1em; padding-right: 1em; text-align: center; vertical-align: top\">[{&#x27;name&#x27;: &#x27;Alfred<br>Asterjadhi&#x27;}, {&#x27;name&#x27;: ...</td>\n",
       "        <td style=\"padding-left: 1em; padding-right: 1em; text-align: center; vertical-align: top\">53e9b85bb7602d9704422a7a</td>\n",
       "        <td style=\"padding-left: 1em; padding-right: 1em; text-align: center; vertical-align: top\">978-1-4577-0094-1</td>\n",
       "    </tr>\n",
       "    <tr>\n",
       "        <td style=\"padding-left: 1em; padding-right: 1em; text-align: center; vertical-align: top\">Simulators are important<br>tools for analyzing and ...</td>\n",
       "        <td style=\"padding-left: 1em; padding-right: 1em; text-align: center; vertical-align: top\">[{&#x27;name&#x27;: &#x27;Jingyao<br>Zhang&#x27;}, {&#x27;name&#x27;: &#x27;Yi ...</td>\n",
       "        <td style=\"padding-left: 1em; padding-right: 1em; text-align: center; vertical-align: top\">53e9a869b7602d97031b2cdd</td>\n",
       "        <td style=\"padding-left: 1em; padding-right: 1em; text-align: center; vertical-align: top\">978-1-4577-0094-1</td>\n",
       "    </tr>\n",
       "</table>\n",
       "<table frame=\"box\" rules=\"cols\">\n",
       "    <tr>\n",
       "        <th style=\"padding-left: 1em; padding-right: 1em; text-align: center\">issn</th>\n",
       "        <th style=\"padding-left: 1em; padding-right: 1em; text-align: center\">issue</th>\n",
       "        <th style=\"padding-left: 1em; padding-right: 1em; text-align: center\">keywords</th>\n",
       "        <th style=\"padding-left: 1em; padding-right: 1em; text-align: center\">lang</th>\n",
       "        <th style=\"padding-left: 1em; padding-right: 1em; text-align: center\">n_citation</th>\n",
       "        <th style=\"padding-left: 1em; padding-right: 1em; text-align: center\">page_end</th>\n",
       "        <th style=\"padding-left: 1em; padding-right: 1em; text-align: center\">page_start</th>\n",
       "        <th style=\"padding-left: 1em; padding-right: 1em; text-align: center\">pdf</th>\n",
       "        <th style=\"padding-left: 1em; padding-right: 1em; text-align: center\">...</th>\n",
       "    </tr>\n",
       "    <tr>\n",
       "        <td style=\"padding-left: 1em; padding-right: 1em; text-align: center; vertical-align: top\">2155-5486</td>\n",
       "        <td style=\"padding-left: 1em; padding-right: 1em; text-align: center; vertical-align: top\">None</td>\n",
       "        <td style=\"padding-left: 1em; padding-right: 1em; text-align: center; vertical-align: top\">[greedy algorithm, energy<br>efficient, wireless ...</td>\n",
       "        <td style=\"padding-left: 1em; padding-right: 1em; text-align: center; vertical-align: top\">en</td>\n",
       "        <td style=\"padding-left: 1em; padding-right: 1em; text-align: center; vertical-align: top\">15</td>\n",
       "        <td style=\"padding-left: 1em; padding-right: 1em; text-align: center; vertical-align: top\">394</td>\n",
       "        <td style=\"padding-left: 1em; padding-right: 1em; text-align: center; vertical-align: top\">386</td>\n",
       "        <td style=\"padding-left: 1em; padding-right: 1em; text-align: center; vertical-align: top\">None</td>\n",
       "        <td style=\"padding-left: 1em; padding-right: 1em; text-align: center; vertical-align: top\">...</td>\n",
       "    </tr>\n",
       "    <tr>\n",
       "        <td style=\"padding-left: 1em; padding-right: 1em; text-align: center; vertical-align: top\">2155-5486</td>\n",
       "        <td style=\"padding-left: 1em; padding-right: 1em; text-align: center; vertical-align: top\">None</td>\n",
       "        <td style=\"padding-left: 1em; padding-right: 1em; text-align: center; vertical-align: top\">[mobile communication,<br>nash theorem, two-person ...</td>\n",
       "        <td style=\"padding-left: 1em; padding-right: 1em; text-align: center; vertical-align: top\">en</td>\n",
       "        <td style=\"padding-left: 1em; padding-right: 1em; text-align: center; vertical-align: top\">71</td>\n",
       "        <td style=\"padding-left: 1em; padding-right: 1em; text-align: center; vertical-align: top\">547</td>\n",
       "        <td style=\"padding-left: 1em; padding-right: 1em; text-align: center; vertical-align: top\">539</td>\n",
       "        <td style=\"padding-left: 1em; padding-right: 1em; text-align: center; vertical-align: top\">None</td>\n",
       "        <td style=\"padding-left: 1em; padding-right: 1em; text-align: center; vertical-align: top\">...</td>\n",
       "    </tr>\n",
       "    <tr>\n",
       "        <td style=\"padding-left: 1em; padding-right: 1em; text-align: center; vertical-align: top\">2155-5486 E-ISBN :<br>978-1-4673-1903-4 ...</td>\n",
       "        <td style=\"padding-left: 1em; padding-right: 1em; text-align: center; vertical-align: top\">None</td>\n",
       "        <td style=\"padding-left: 1em; padding-right: 1em; text-align: center; vertical-align: top\">[video quality, mobile<br>opportunistic video-on- ...</td>\n",
       "        <td style=\"padding-left: 1em; padding-right: 1em; text-align: center; vertical-align: top\">en</td>\n",
       "        <td style=\"padding-left: 1em; padding-right: 1em; text-align: center; vertical-align: top\">4</td>\n",
       "        <td style=\"padding-left: 1em; padding-right: 1em; text-align: center; vertical-align: top\">72</td>\n",
       "        <td style=\"padding-left: 1em; padding-right: 1em; text-align: center; vertical-align: top\">71</td>\n",
       "        <td style=\"padding-left: 1em; padding-right: 1em; text-align: center; vertical-align: top\">None</td>\n",
       "        <td style=\"padding-left: 1em; padding-right: 1em; text-align: center; vertical-align: top\">...</td>\n",
       "    </tr>\n",
       "    <tr>\n",
       "        <td style=\"padding-left: 1em; padding-right: 1em; text-align: center; vertical-align: top\">2155-5486 E-ISBN :<br>978-1-4673-1903-4 ...</td>\n",
       "        <td style=\"padding-left: 1em; padding-right: 1em; text-align: center; vertical-align: top\">None</td>\n",
       "        <td style=\"padding-left: 1em; padding-right: 1em; text-align: center; vertical-align: top\">[computer viruses,<br>geometric tree, knowl ...</td>\n",
       "        <td style=\"padding-left: 1em; padding-right: 1em; text-align: center; vertical-align: top\">en</td>\n",
       "        <td style=\"padding-left: 1em; padding-right: 1em; text-align: center; vertical-align: top\">12</td>\n",
       "        <td style=\"padding-left: 1em; padding-right: 1em; text-align: center; vertical-align: top\">289</td>\n",
       "        <td style=\"padding-left: 1em; padding-right: 1em; text-align: center; vertical-align: top\">281</td>\n",
       "        <td style=\"padding-left: 1em; padding-right: 1em; text-align: center; vertical-align: top\">None</td>\n",
       "        <td style=\"padding-left: 1em; padding-right: 1em; text-align: center; vertical-align: top\">...</td>\n",
       "    </tr>\n",
       "    <tr>\n",
       "        <td style=\"padding-left: 1em; padding-right: 1em; text-align: center; vertical-align: top\">2155-5486</td>\n",
       "        <td style=\"padding-left: 1em; padding-right: 1em; text-align: center; vertical-align: top\">None</td>\n",
       "        <td style=\"padding-left: 1em; padding-right: 1em; text-align: center; vertical-align: top\">[network congestion,<br>packet dissemination, ...</td>\n",
       "        <td style=\"padding-left: 1em; padding-right: 1em; text-align: center; vertical-align: top\">en</td>\n",
       "        <td style=\"padding-left: 1em; padding-right: 1em; text-align: center; vertical-align: top\">13</td>\n",
       "        <td style=\"padding-left: 1em; padding-right: 1em; text-align: center; vertical-align: top\">376</td>\n",
       "        <td style=\"padding-left: 1em; padding-right: 1em; text-align: center; vertical-align: top\">368</td>\n",
       "        <td style=\"padding-left: 1em; padding-right: 1em; text-align: center; vertical-align: top\">None</td>\n",
       "        <td style=\"padding-left: 1em; padding-right: 1em; text-align: center; vertical-align: top\">...</td>\n",
       "    </tr>\n",
       "    <tr>\n",
       "        <td style=\"padding-left: 1em; padding-right: 1em; text-align: center; vertical-align: top\">2155-5486</td>\n",
       "        <td style=\"padding-left: 1em; padding-right: 1em; text-align: center; vertical-align: top\">None</td>\n",
       "        <td style=\"padding-left: 1em; padding-right: 1em; text-align: center; vertical-align: top\">[content-based signature,<br>distributed algorithms, ...</td>\n",
       "        <td style=\"padding-left: 1em; padding-right: 1em; text-align: center; vertical-align: top\">en</td>\n",
       "        <td style=\"padding-left: 1em; padding-right: 1em; text-align: center; vertical-align: top\">18</td>\n",
       "        <td style=\"padding-left: 1em; padding-right: 1em; text-align: center; vertical-align: top\">322</td>\n",
       "        <td style=\"padding-left: 1em; padding-right: 1em; text-align: center; vertical-align: top\">314</td>\n",
       "        <td style=\"padding-left: 1em; padding-right: 1em; text-align: center; vertical-align: top\">None</td>\n",
       "        <td style=\"padding-left: 1em; padding-right: 1em; text-align: center; vertical-align: top\">...</td>\n",
       "    </tr>\n",
       "    <tr>\n",
       "        <td style=\"padding-left: 1em; padding-right: 1em; text-align: center; vertical-align: top\">2155-5486 E-ISBN :<br>978-1-4673-1903-4 ...</td>\n",
       "        <td style=\"padding-left: 1em; padding-right: 1em; text-align: center; vertical-align: top\">None</td>\n",
       "        <td style=\"padding-left: 1em; padding-right: 1em; text-align: center; vertical-align: top\">[privacy preserving<br>social aware incentive ...</td>\n",
       "        <td style=\"padding-left: 1em; padding-right: 1em; text-align: center; vertical-align: top\">en</td>\n",
       "        <td style=\"padding-left: 1em; padding-right: 1em; text-align: center; vertical-align: top\">9</td>\n",
       "        <td style=\"padding-left: 1em; padding-right: 1em; text-align: center; vertical-align: top\">604</td>\n",
       "        <td style=\"padding-left: 1em; padding-right: 1em; text-align: center; vertical-align: top\">596</td>\n",
       "        <td style=\"padding-left: 1em; padding-right: 1em; text-align: center; vertical-align: top\">None</td>\n",
       "        <td style=\"padding-left: 1em; padding-right: 1em; text-align: center; vertical-align: top\">...</td>\n",
       "    </tr>\n",
       "    <tr>\n",
       "        <td style=\"padding-left: 1em; padding-right: 1em; text-align: center; vertical-align: top\">2155-5486</td>\n",
       "        <td style=\"padding-left: 1em; padding-right: 1em; text-align: center; vertical-align: top\">None</td>\n",
       "        <td style=\"padding-left: 1em; padding-right: 1em; text-align: center; vertical-align: top\">[adaptive energy-<br>efficient spectrum, ...</td>\n",
       "        <td style=\"padding-left: 1em; padding-right: 1em; text-align: center; vertical-align: top\">en</td>\n",
       "        <td style=\"padding-left: 1em; padding-right: 1em; text-align: center; vertical-align: top\">6</td>\n",
       "        <td style=\"padding-left: 1em; padding-right: 1em; text-align: center; vertical-align: top\">214</td>\n",
       "        <td style=\"padding-left: 1em; padding-right: 1em; text-align: center; vertical-align: top\">206</td>\n",
       "        <td style=\"padding-left: 1em; padding-right: 1em; text-align: center; vertical-align: top\">None</td>\n",
       "        <td style=\"padding-left: 1em; padding-right: 1em; text-align: center; vertical-align: top\">...</td>\n",
       "    </tr>\n",
       "    <tr>\n",
       "        <td style=\"padding-left: 1em; padding-right: 1em; text-align: center; vertical-align: top\">2155-5486</td>\n",
       "        <td style=\"padding-left: 1em; padding-right: 1em; text-align: center; vertical-align: top\">None</td>\n",
       "        <td style=\"padding-left: 1em; padding-right: 1em; text-align: center; vertical-align: top\">[radio broadcasting,<br>medium access, data ...</td>\n",
       "        <td style=\"padding-left: 1em; padding-right: 1em; text-align: center; vertical-align: top\">en</td>\n",
       "        <td style=\"padding-left: 1em; padding-right: 1em; text-align: center; vertical-align: top\">8</td>\n",
       "        <td style=\"padding-left: 1em; padding-right: 1em; text-align: center; vertical-align: top\">385</td>\n",
       "        <td style=\"padding-left: 1em; padding-right: 1em; text-align: center; vertical-align: top\">377</td>\n",
       "        <td style=\"padding-left: 1em; padding-right: 1em; text-align: center; vertical-align: top\">None</td>\n",
       "        <td style=\"padding-left: 1em; padding-right: 1em; text-align: center; vertical-align: top\">...</td>\n",
       "    </tr>\n",
       "    <tr>\n",
       "        <td style=\"padding-left: 1em; padding-right: 1em; text-align: center; vertical-align: top\">2155-5486</td>\n",
       "        <td style=\"padding-left: 1em; padding-right: 1em; text-align: center; vertical-align: top\">None</td>\n",
       "        <td style=\"padding-left: 1em; padding-right: 1em; text-align: center; vertical-align: top\">[gezel, instruction-set<br>simulator, software ...</td>\n",
       "        <td style=\"padding-left: 1em; padding-right: 1em; text-align: center; vertical-align: top\">en</td>\n",
       "        <td style=\"padding-left: 1em; padding-right: 1em; text-align: center; vertical-align: top\">23</td>\n",
       "        <td style=\"padding-left: 1em; padding-right: 1em; text-align: center; vertical-align: top\">448</td>\n",
       "        <td style=\"padding-left: 1em; padding-right: 1em; text-align: center; vertical-align: top\">440</td>\n",
       "        <td style=\"padding-left: 1em; padding-right: 1em; text-align: center; vertical-align: top\">None</td>\n",
       "        <td style=\"padding-left: 1em; padding-right: 1em; text-align: center; vertical-align: top\">...</td>\n",
       "    </tr>\n",
       "</table>\n",
       "[4500485 rows x 65 columns]<br/>Note: Only the head of the SFrame is printed.<br/>You can use print_rows(num_rows=m, num_columns=n) to print more rows and columns.\n",
       "</div>"
      ],
      "text/plain": [
       "Columns:\n",
       "\tMAG Paper ID\tstr\n",
       "\tOriginal paper title\tstr\n",
       "\tNormalized paper title\tstr\n",
       "\tPaper publish year\tint\n",
       "\tPaper publish date\tstr\n",
       "\tPaper Document Object Identifier (DOI)\tstr\n",
       "\tOriginal venue name\tstr\n",
       "\tNormalized venue name\tstr\n",
       "\tJournal ID mapped to venue name\tstr\n",
       "\tConference ID mapped to venue name\tstr\n",
       "\tPaper rank\tint\n",
       "\tRef Number\tint\n",
       "\tTotal Citations by Year\tdict\n",
       "\tTotal Citations by Year without Self Citations\tdict\n",
       "\tAuthors List Sorted\tlist\n",
       "\tAuthors Number\tint\n",
       "\tKeywords List\tlist\n",
       "\tField of study list\tlist\n",
       "\tField of study list names\tlist\n",
       "\tFields of study parent list (L0)\tlist\n",
       "\tFields of study parent list names (L0)\tlist\n",
       "\tFields of study parent list (L1)\tlist\n",
       "\tFields of study parent list names (L1)\tlist\n",
       "\tFields of study parent list (L2)\tlist\n",
       "\tFields of study parent list names (L2)\tlist\n",
       "\tFields of study parent list (L3)\tlist\n",
       "\tFields of study parent list names (L3)\tlist\n",
       "\tUrls\tlist\n",
       "\tabstract\tstr\n",
       "\tauthors\tlist\n",
       "\tAminer Paper ID\tstr\n",
       "\tisbn\tstr\n",
       "\tissn\tstr\n",
       "\tissue\tstr\n",
       "\tkeywords\tlist\n",
       "\tlang\tstr\n",
       "\tn_citation\tint\n",
       "\tpage_end\tstr\n",
       "\tpage_start\tstr\n",
       "\tpdf\tstr\n",
       "\treferences\tlist\n",
       "\ttitle\tstr\n",
       "\turl\tlist\n",
       "\tvenue\tstr\n",
       "\tvolume\tstr\n",
       "\tyear\tint\n",
       "\tissn_str\tstr\n",
       "\tRank\tint\n",
       "\tSourceid\tint\n",
       "\tTitle\tstr\n",
       "\tType\tstr\n",
       "\tSJR\tstr\n",
       "\tSJR Best Quartile\tstr\n",
       "\tH index\tint\n",
       "\tTotal Docs.\tint\n",
       "\tTotal Docs. (3years)\tint\n",
       "\tTotal Refs.\tint\n",
       "\tTotal Cites (3years)\tint\n",
       "\tCitable Docs. (3years)\tint\n",
       "\tCites / Doc. (2years)\tstr\n",
       "\tRef. / Doc.\tstr\n",
       "\tCountry\tstr\n",
       "\tPublisher\tstr\n",
       "\tCategories\tstr\n",
       "\tYear\tint\n",
       "\n",
       "Rows: 4500485\n",
       "\n",
       "Data:\n",
       "+--------------+-------------------------------+-------------------------------+\n",
       "| MAG Paper ID |      Original paper title     |     Normalized paper title    |\n",
       "+--------------+-------------------------------+-------------------------------+\n",
       "|   80F8FCAF   | Trust-assisted anomaly det... | trust assisted anomaly det... |\n",
       "|   7E7B8146   | Incentive-aware data disse... | incentive aware data disse... |\n",
       "|   77B641FC   | MOVi+: Improving the scala... | movi improving the scalabi... |\n",
       "|   76E06216   | Identifying infection sour... | identifying infection sour... |\n",
       "|   7DAFE959   | Coping with packet replay ... | coping with packet replay ... |\n",
       "|   7E428CE1   | An optimal distributed mal... | an optimal distributed mal... |\n",
       "|   762EDB3C   | A privacy-preserving socia... | a privacy preserving socia... |\n",
       "|   7E018A37   | Adaptive energy-efficient ... | adaptive energy efficient ... |\n",
       "|   7DDBB811   | Broadcasting in multi chan... | broadcasting in multi chan... |\n",
       "|   815AC7AF   | A software-hardware emulat... | a software hardware emulat... |\n",
       "+--------------+-------------------------------+-------------------------------+\n",
       "+--------------------+--------------------+-------------------------------+\n",
       "| Paper publish year | Paper publish date | Paper Document Object Iden... |\n",
       "+--------------------+--------------------+-------------------------------+\n",
       "|        2011        |      2011/06       |   10.1109/SAHCN.2011.5984922  |\n",
       "|        2011        |      2011/06       |   10.1109/SAHCN.2011.5984940  |\n",
       "|        2012        |      2012/06       |   10.1109/SECON.2012.6275845  |\n",
       "|        2012        |      2012/06       |   10.1109/SECON.2012.6275788  |\n",
       "|        2011        |      2011/06       |   10.1109/SAHCN.2011.5984919  |\n",
       "|        2011        |      2011/06       |   10.1109/SAHCN.2011.5984913  |\n",
       "|        2012        |      2012/06       |   10.1109/SECON.2012.6275832  |\n",
       "|        2011        |      2011/06       |   10.1109/SAHCN.2011.5984900  |\n",
       "|        2011        |      2011/06       |   10.1109/SAHCN.2011.5984920  |\n",
       "|        2011        |      2011/06       |   10.1109/SAHCN.2011.5984928  |\n",
       "+--------------------+--------------------+-------------------------------+\n",
       "+-------------------------------+-----------------------+-------------------------------+\n",
       "|      Original venue name      | Normalized venue name | Journal ID mapped to venue... |\n",
       "+-------------------------------+-----------------------+-------------------------------+\n",
       "| sensor mesh and ad hoc com... |         secon         |                               |\n",
       "| sensor mesh and ad hoc com... |         secon         |                               |\n",
       "| sensor mesh and ad hoc com... |         secon         |                               |\n",
       "| sensor mesh and ad hoc com... |         secon         |                               |\n",
       "| sensor mesh and ad hoc com... |         secon         |                               |\n",
       "| sensor mesh and ad hoc com... |         secon         |                               |\n",
       "| sensor mesh and ad hoc com... |         secon         |                               |\n",
       "| sensor mesh and ad hoc com... |         secon         |                               |\n",
       "| sensor mesh and ad hoc com... |         secon         |                               |\n",
       "| sensor mesh and ad hoc com... |         secon         |                               |\n",
       "+-------------------------------+-----------------------+-------------------------------+\n",
       "+-------------------------------+------------+------------+\n",
       "| Conference ID mapped to ve... | Paper rank | Ref Number |\n",
       "+-------------------------------+------------+------------+\n",
       "|            43A23F32           |   19319    |     20     |\n",
       "|            43A23F32           |   19229    |     24     |\n",
       "|            43A23F32           |   17473    |     0      |\n",
       "|            43A23F32           |   17535    |     0      |\n",
       "|            43A23F32           |   19454    |     16     |\n",
       "|            43A23F32           |   19437    |     21     |\n",
       "|            43A23F32           |   19555    |     0      |\n",
       "|            43A23F32           |   19555    |     0      |\n",
       "|            43A23F32           |   19387    |     22     |\n",
       "|            43A23F32           |   19317    |     11     |\n",
       "+-------------------------------+------------+------------+\n",
       "+-------------------------------+-------------------------------+\n",
       "|    Total Citations by Year    | Total Citations by Year wi... |\n",
       "+-------------------------------+-------------------------------+\n",
       "|   {'2014': 2.0, '2015': 4.0}  |   {'2014': 2.0, '2015': 3.0}  |\n",
       "| {'2012': 1.0, '2013': 2.0,... | {'2012': 1.0, '2013': 2.0,... |\n",
       "|              None             |              None             |\n",
       "| {'2013': 1.0, '2014': 1.0,... | {'2013': 1.0, '2014': 1.0,... |\n",
       "|   {'2014': 1.0, '2015': 1.0}  |   {'2014': 1.0, '2015': 1.0}  |\n",
       "| {'2013': 1.0, '2014': 2.0,... | {'2013': 1.0, '2014': 2.0,... |\n",
       "|              None             |              None             |\n",
       "|              None             |              None             |\n",
       "| {'2011': 3.0, '2012': 3.0,... | {'2011': 3.0, '2012': 3.0,... |\n",
       "|   {'2014': 2.0, '2015': 2.0}  |   {'2014': 1.0, '2015': 1.0}  |\n",
       "+-------------------------------+-------------------------------+\n",
       "+--------------------------------+----------------+\n",
       "|      Authors List Sorted       | Authors Number |\n",
       "+--------------------------------+----------------+\n",
       "|      [7FFFDD08, 0C652565]      |       2        |\n",
       "| [7D3561C4, 7F2E53B3, 80454...  |       4        |\n",
       "| [80AFFCF9, 7CE93E83, 8286ED44] |       3        |\n",
       "|      [7D2934CF, 7D374416]      |       2        |\n",
       "| [80C7FAAC, 80AFEC7E, 1214B...  |       6        |\n",
       "| [7D12A2C4, 7D33EF8B, 7E288...  |       5        |\n",
       "| [8623A2A7, 7DB01108, 7E956...  |       4        |\n",
       "|      [7F297646, 7E9270C8]      |       2        |\n",
       "| [00FA05B9, 80E6FE49, 80989...  |       4        |\n",
       "| [812A1C42, 7DAB2459, 814E3...  |       6        |\n",
       "+--------------------------------+----------------+\n",
       "+-------------------------------+-------------------------------+\n",
       "|         Keywords List         |      Field of study list      |\n",
       "+-------------------------------+-------------------------------+\n",
       "| [sensor network, energy ef... | [017737EA, 017737EA, 0029D... |\n",
       "| [data dissemination, routi... | [06110AD8, 09A2762C, 1E2C5... |\n",
       "| [switches, servers, video ... | [071DF995, 059A455C, 06318... |\n",
       "| [computer viruses, estimat... | [012823EE, 03C8C972, 01773... |\n",
       "| [throughput, bloom filter,... | [09674BAC, 02DE0735, 08C67... |\n",
       "| [mobile network, mobile co... | [09287742, 089D907D, 0316C... |\n",
       "| [privacy, word of mouth, c... | [04A33560, 08386431, 01623... |\n",
       "| [spectrum, cognitive radio... | [099F6B15, 08EFFF50, 08EFF... |\n",
       "| [information retrieval, in... | [0160D514, 0B4E7F98, 06708... |\n",
       "| [hardware, network protoco... | [0090990D, 008F4943, 00BB3... |\n",
       "+-------------------------------+-------------------------------+\n",
       "+-------------------------------+--------------------------------+-----+\n",
       "|   Field of study list names   | Fields of study parent lis...  | ... |\n",
       "+-------------------------------+--------------------------------+-----+\n",
       "| [Wireless sensor network, ... |           [0271BC14]           | ... |\n",
       "| [Dissemination, Routing, G... | [0271BC14, 09ACE10E, 00F03FC7] | ... |\n",
       "| [Network switch, Server, V... |           [0271BC14]           | ... |\n",
       "| [Computer virus, Estimatio... | [0271BC14, 0205A1DB, 0895A350] | ... |\n",
       "| [Throughput, None, Bloom f... |      [0271BC14, 0796A60A]      | ... |\n",
       "| [Cellular network, Mobile ... |      [0271BC14, 0205A1DB]      | ... |\n",
       "| [Privacy, None, Consumer B... |      [0271BC14, 09ACE10E]      | ... |\n",
       "| [Spectrum, Cognitive radio... | [0271BC14, 073B64E4, 0205A1DB] | ... |\n",
       "| [Information retrieval, In... | [0271BC14, 0205A1DB, 07982D63] | ... |\n",
       "| [Data model, Computer hard... | [0271BC14, 073B64E4, 07982D63] | ... |\n",
       "+-------------------------------+--------------------------------+-----+\n",
       "[4500485 rows x 65 columns]\n",
       "Note: Only the head of the SFrame is printed.\n",
       "You can use print_rows(num_rows=m, num_columns=n) to print more rows and columns."
      ]
     },
     "execution_count": 24,
     "metadata": {},
     "output_type": "execute_result"
    }
   ],
   "source": [
    "jd.aminer_mag_sjr(2015)"
   ]
  },
  {
   "cell_type": "markdown",
   "metadata": {},
   "source": [
    "# 2. Loading the Dataset to MongoDB"
   ]
  },
  {
   "cell_type": "markdown",
   "metadata": {},
   "source": [
    "Using Turicreate and SFrame objects can help us get general data on how academic publication dynamics have changed over time, but it would be challenging to use this data to create more complicated insights, such as the trends of a specific journal. To reveal more complicated insights using the data, we would need to load the dataset to a different framework. In this study, we chose to use MongoDB as our framework for more complicated queries.\n",
    "We installed MongoDB on Ubuntu 17.10 using the instructions in the following [link](https://medium.com/gatemill/how-to-install-mongodb-3-6-on-ubuntu-17-10-ac0bc225e648). After MongoDB is installed and running, please remember to set the user and password, and update MONGO_HOST & MONGO_PORT vars in consts.py (one can also adjust the connection to include user password auth).\n",
    "Now, the next step is to load the above created SFrames to collections in MongoDB using mongo_connecter.py:"
   ]
  },
  {
   "cell_type": "code",
   "execution_count": null,
   "metadata": {
    "collapsed": true,
    "jupyter": {
     "outputs_hidden": true
    }
   },
   "outputs": [
    {
     "name": "stderr",
     "output_type": "stream",
     "text": [
      "2019-05-01 08:43:05,560 [MainThread  ] [INFO ]  Loading authors features\n",
      "2019-05-01 08:43:05,608 [MainThread  ] [INFO ]  Converting\n"
     ]
    },
    {
     "data": {
      "text/html": [
       "<pre>Less than 64 successfully started. Using only 16 workers.</pre>"
      ],
      "text/plain": [
       "Less than 64 successfully started. Using only 16 workers."
      ]
     },
     "metadata": {},
     "output_type": "display_data"
    },
    {
     "data": {
      "text/html": [
       "<pre>All operations will proceed as normal, but lambda operations will not be able to use all available cores.</pre>"
      ],
      "text/plain": [
       "All operations will proceed as normal, but lambda operations will not be able to use all available cores."
      ]
     },
     "metadata": {},
     "output_type": "display_data"
    },
    {
     "data": {
      "text/html": [
       "<pre>Using default 64 lambda workers.</pre>"
      ],
      "text/plain": [
       "Using default 64 lambda workers."
      ]
     },
     "metadata": {},
     "output_type": "display_data"
    },
    {
     "data": {
      "text/html": [
       "<pre>To maximize the degree of parallelism, add the following code to the beginning of the program:</pre>"
      ],
      "text/plain": [
       "To maximize the degree of parallelism, add the following code to the beginning of the program:"
      ]
     },
     "metadata": {},
     "output_type": "display_data"
    },
    {
     "data": {
      "text/html": [
       "<pre>\"turicreate.config.set_runtime_config('TURI_DEFAULT_NUM_PYLAMBDA_WORKERS', 128)\"</pre>"
      ],
      "text/plain": [
       "\"turicreate.config.set_runtime_config('TURI_DEFAULT_NUM_PYLAMBDA_WORKERS', 128)\""
      ]
     },
     "metadata": {},
     "output_type": "display_data"
    },
    {
     "data": {
      "text/html": [
       "<pre>Note that increasing the degree of parallelism also increases the memory footprint.</pre>"
      ],
      "text/plain": [
       "Note that increasing the degree of parallelism also increases the memory footprint."
      ]
     },
     "metadata": {},
     "output_type": "display_data"
    },
    {
     "name": "stderr",
     "output_type": "stream",
     "text": [
      "2019-05-01 08:52:09,766 [MainThread  ] [INFO ]  Inserting rows 0 - 100000 to journals.authors_features\n",
      "2019-05-01 08:52:39,118 [MainThread  ] [INFO ]  Inserting rows 100000 - 200000 to journals.authors_features\n",
      "2019-05-01 08:53:11,346 [MainThread  ] [INFO ]  Inserting rows 200000 - 300000 to journals.authors_features\n",
      "2019-05-01 08:53:41,134 [MainThread  ] [INFO ]  Inserting rows 300000 - 400000 to journals.authors_features\n",
      "2019-05-01 08:53:56,001 [MainThread  ] [INFO ]  Inserting rows 400000 - 500000 to journals.authors_features\n",
      "2019-05-01 08:54:21,961 [MainThread  ] [INFO ]  Inserting rows 500000 - 600000 to journals.authors_features\n",
      "2019-05-01 08:54:59,461 [MainThread  ] [INFO ]  Inserting rows 600000 - 700000 to journals.authors_features\n",
      "2019-05-01 08:55:28,084 [MainThread  ] [INFO ]  Inserting rows 700000 - 800000 to journals.authors_features\n",
      "2019-05-01 08:55:47,462 [MainThread  ] [INFO ]  Inserting rows 800000 - 900000 to journals.authors_features\n",
      "2019-05-01 08:56:07,444 [MainThread  ] [INFO ]  Inserting rows 900000 - 1000000 to journals.authors_features\n",
      "2019-05-01 08:56:45,337 [MainThread  ] [INFO ]  Inserting rows 1000000 - 1100000 to journals.authors_features\n",
      "2019-05-01 08:57:21,841 [MainThread  ] [INFO ]  Inserting rows 1100000 - 1200000 to journals.authors_features\n",
      "2019-05-01 08:58:00,370 [MainThread  ] [INFO ]  Inserting rows 1200000 - 1300000 to journals.authors_features\n",
      "2019-05-01 08:58:17,529 [MainThread  ] [INFO ]  Inserting rows 1300000 - 1400000 to journals.authors_features\n",
      "2019-05-01 08:58:48,363 [MainThread  ] [INFO ]  Inserting rows 1400000 - 1500000 to journals.authors_features\n",
      "2019-05-01 08:59:31,146 [MainThread  ] [INFO ]  Inserting rows 1500000 - 1600000 to journals.authors_features\n",
      "2019-05-01 08:59:58,977 [MainThread  ] [INFO ]  Inserting rows 1600000 - 1700000 to journals.authors_features\n",
      "2019-05-01 09:00:14,826 [MainThread  ] [INFO ]  Inserting rows 1700000 - 1800000 to journals.authors_features\n",
      "2019-05-01 09:00:43,237 [MainThread  ] [INFO ]  Inserting rows 1800000 - 1900000 to journals.authors_features\n",
      "2019-05-01 09:01:19,153 [MainThread  ] [INFO ]  Inserting rows 1900000 - 2000000 to journals.authors_features\n",
      "2019-05-01 09:01:54,693 [MainThread  ] [INFO ]  Inserting rows 2000000 - 2100000 to journals.authors_features\n",
      "2019-05-01 09:02:14,417 [MainThread  ] [INFO ]  Inserting rows 2100000 - 2200000 to journals.authors_features\n",
      "2019-05-01 09:02:37,652 [MainThread  ] [INFO ]  Inserting rows 2200000 - 2300000 to journals.authors_features\n",
      "2019-05-01 09:03:18,355 [MainThread  ] [INFO ]  Inserting rows 2300000 - 2400000 to journals.authors_features\n",
      "2019-05-01 09:03:49,939 [MainThread  ] [INFO ]  Inserting rows 2400000 - 2500000 to journals.authors_features\n",
      "2019-05-01 09:04:16,038 [MainThread  ] [INFO ]  Inserting rows 2500000 - 2600000 to journals.authors_features\n",
      "2019-05-01 09:04:29,815 [MainThread  ] [INFO ]  Inserting rows 2600000 - 2700000 to journals.authors_features\n",
      "2019-05-01 09:05:05,634 [MainThread  ] [INFO ]  Inserting rows 2700000 - 2800000 to journals.authors_features\n",
      "2019-05-01 09:05:41,745 [MainThread  ] [INFO ]  Inserting rows 2800000 - 2900000 to journals.authors_features\n",
      "2019-05-01 09:06:11,840 [MainThread  ] [INFO ]  Inserting rows 2900000 - 3000000 to journals.authors_features\n",
      "2019-05-01 09:06:26,926 [MainThread  ] [INFO ]  Inserting rows 3000000 - 3100000 to journals.authors_features\n",
      "2019-05-01 09:06:55,980 [MainThread  ] [INFO ]  Inserting rows 3100000 - 3200000 to journals.authors_features\n",
      "2019-05-01 09:07:34,356 [MainThread  ] [INFO ]  Inserting rows 3200000 - 3300000 to journals.authors_features\n",
      "2019-05-01 09:08:06,988 [MainThread  ] [INFO ]  Inserting rows 3300000 - 3400000 to journals.authors_features\n",
      "2019-05-01 09:08:28,178 [MainThread  ] [INFO ]  Inserting rows 3400000 - 3500000 to journals.authors_features\n",
      "2019-05-01 09:08:50,033 [MainThread  ] [INFO ]  Inserting rows 3500000 - 3600000 to journals.authors_features\n",
      "2019-05-01 09:09:27,355 [MainThread  ] [INFO ]  Inserting rows 3600000 - 3700000 to journals.authors_features\n",
      "2019-05-01 09:10:00,966 [MainThread  ] [INFO ]  Inserting rows 3700000 - 3800000 to journals.authors_features\n",
      "2019-05-01 09:10:31,098 [MainThread  ] [INFO ]  Inserting rows 3800000 - 3900000 to journals.authors_features\n",
      "2019-05-01 09:10:48,572 [MainThread  ] [INFO ]  Inserting rows 3900000 - 4000000 to journals.authors_features\n",
      "2019-05-01 09:11:24,848 [MainThread  ] [INFO ]  Inserting rows 4000000 - 4100000 to journals.authors_features\n",
      "2019-05-01 09:11:58,584 [MainThread  ] [INFO ]  Inserting rows 4100000 - 4200000 to journals.authors_features\n",
      "2019-05-01 09:12:32,095 [MainThread  ] [INFO ]  Inserting rows 4200000 - 4300000 to journals.authors_features\n",
      "2019-05-01 09:12:49,258 [MainThread  ] [INFO ]  Inserting rows 4300000 - 4400000 to journals.authors_features\n",
      "2019-05-01 09:13:20,229 [MainThread  ] [INFO ]  Inserting rows 4400000 - 4500000 to journals.authors_features\n",
      "2019-05-01 09:14:05,741 [MainThread  ] [INFO ]  Inserting rows 4500000 - 4600000 to journals.authors_features\n",
      "2019-05-01 09:14:34,999 [MainThread  ] [INFO ]  Inserting rows 4600000 - 4700000 to journals.authors_features\n",
      "2019-05-01 09:14:55,619 [MainThread  ] [INFO ]  Inserting rows 4700000 - 4800000 to journals.authors_features\n",
      "2019-05-01 09:15:19,543 [MainThread  ] [INFO ]  Inserting rows 4800000 - 4900000 to journals.authors_features\n",
      "2019-05-01 09:16:07,260 [MainThread  ] [INFO ]  Inserting rows 4900000 - 5000000 to journals.authors_features\n",
      "2019-05-01 09:16:38,469 [MainThread  ] [INFO ]  Inserting rows 5000000 - 5100000 to journals.authors_features\n",
      "2019-05-01 09:17:04,673 [MainThread  ] [INFO ]  Inserting rows 5100000 - 5200000 to journals.authors_features\n",
      "2019-05-01 09:17:23,313 [MainThread  ] [INFO ]  Inserting rows 5200000 - 5300000 to journals.authors_features\n",
      "2019-05-01 09:18:07,762 [MainThread  ] [INFO ]  Inserting rows 5300000 - 5400000 to journals.authors_features\n",
      "2019-05-01 09:18:45,819 [MainThread  ] [INFO ]  Inserting rows 5400000 - 5500000 to journals.authors_features\n",
      "2019-05-01 09:19:16,302 [MainThread  ] [INFO ]  Inserting rows 5500000 - 5600000 to journals.authors_features\n",
      "2019-05-01 09:19:32,247 [MainThread  ] [INFO ]  Inserting rows 5600000 - 5700000 to journals.authors_features\n",
      "2019-05-01 09:20:10,716 [MainThread  ] [INFO ]  Inserting rows 5700000 - 5800000 to journals.authors_features\n",
      "2019-05-01 09:20:49,932 [MainThread  ] [INFO ]  Inserting rows 5800000 - 5900000 to journals.authors_features\n",
      "2019-05-01 09:21:24,202 [MainThread  ] [INFO ]  Inserting rows 5900000 - 6000000 to journals.authors_features\n",
      "2019-05-01 09:21:54,016 [MainThread  ] [INFO ]  Inserting rows 6000000 - 6100000 to journals.authors_features\n",
      "2019-05-01 09:22:19,876 [MainThread  ] [INFO ]  Inserting rows 6100000 - 6200000 to journals.authors_features\n",
      "2019-05-01 09:22:58,992 [MainThread  ] [INFO ]  Inserting rows 6200000 - 6300000 to journals.authors_features\n",
      "2019-05-01 09:23:30,921 [MainThread  ] [INFO ]  Inserting rows 6300000 - 6400000 to journals.authors_features\n",
      "2019-05-01 09:23:54,822 [MainThread  ] [INFO ]  Inserting rows 6400000 - 6500000 to journals.authors_features\n",
      "2019-05-01 09:24:14,603 [MainThread  ] [INFO ]  Inserting rows 6500000 - 6600000 to journals.authors_features\n",
      "2019-05-01 09:25:02,656 [MainThread  ] [INFO ]  Inserting rows 6600000 - 6700000 to journals.authors_features\n",
      "2019-05-01 09:25:38,419 [MainThread  ] [INFO ]  Inserting rows 6700000 - 6800000 to journals.authors_features\n",
      "2019-05-01 09:26:08,502 [MainThread  ] [INFO ]  Inserting rows 6800000 - 6900000 to journals.authors_features\n",
      "2019-05-01 09:26:25,305 [MainThread  ] [INFO ]  Inserting rows 6900000 - 7000000 to journals.authors_features\n",
      "2019-05-01 09:27:01,285 [MainThread  ] [INFO ]  Inserting rows 7000000 - 7100000 to journals.authors_features\n",
      "2019-05-01 09:27:41,237 [MainThread  ] [INFO ]  Inserting rows 7100000 - 7200000 to journals.authors_features\n",
      "2019-05-01 09:28:13,628 [MainThread  ] [INFO ]  Inserting rows 7200000 - 7300000 to journals.authors_features\n",
      "2019-05-01 09:28:39,201 [MainThread  ] [INFO ]  Inserting rows 7300000 - 7400000 to journals.authors_features\n",
      "2019-05-01 09:29:02,955 [MainThread  ] [INFO ]  Inserting rows 7400000 - 7500000 to journals.authors_features\n",
      "2019-05-01 09:29:56,422 [MainThread  ] [INFO ]  Inserting rows 7500000 - 7600000 to journals.authors_features\n",
      "2019-05-01 09:30:28,764 [MainThread  ] [INFO ]  Inserting rows 7600000 - 7700000 to journals.authors_features\n",
      "2019-05-01 09:30:59,652 [MainThread  ] [INFO ]  Inserting rows 7700000 - 7800000 to journals.authors_features\n",
      "2019-05-01 09:31:21,381 [MainThread  ] [INFO ]  Inserting rows 7800000 - 7900000 to journals.authors_features\n",
      "2019-05-01 09:32:00,202 [MainThread  ] [INFO ]  Inserting rows 7900000 - 8000000 to journals.authors_features\n",
      "2019-05-01 09:32:37,447 [MainThread  ] [INFO ]  Inserting rows 8000000 - 8100000 to journals.authors_features\n",
      "2019-05-01 09:33:05,681 [MainThread  ] [INFO ]  Inserting rows 8100000 - 8200000 to journals.authors_features\n",
      "2019-05-01 09:33:22,528 [MainThread  ] [INFO ]  Inserting rows 8200000 - 8300000 to journals.authors_features\n",
      "2019-05-01 09:33:57,298 [MainThread  ] [INFO ]  Inserting rows 8300000 - 8400000 to journals.authors_features\n",
      "2019-05-01 09:34:35,443 [MainThread  ] [INFO ]  Inserting rows 8400000 - 8500000 to journals.authors_features\n",
      "2019-05-01 09:35:09,318 [MainThread  ] [INFO ]  Inserting rows 8500000 - 8600000 to journals.authors_features\n",
      "2019-05-01 09:35:29,220 [MainThread  ] [INFO ]  Inserting rows 8600000 - 8700000 to journals.authors_features\n",
      "2019-05-01 09:35:59,431 [MainThread  ] [INFO ]  Inserting rows 8700000 - 8800000 to journals.authors_features\n",
      "2019-05-01 09:36:43,283 [MainThread  ] [INFO ]  Inserting rows 8800000 - 8900000 to journals.authors_features\n",
      "2019-05-01 09:37:17,210 [MainThread  ] [INFO ]  Inserting rows 8900000 - 9000000 to journals.authors_features\n",
      "2019-05-01 09:37:58,603 [MainThread  ] [INFO ]  Inserting rows 9000000 - 9100000 to journals.authors_features\n",
      "2019-05-01 09:38:25,554 [MainThread  ] [INFO ]  Inserting rows 9100000 - 9200000 to journals.authors_features\n",
      "2019-05-01 09:39:03,664 [MainThread  ] [INFO ]  Inserting rows 9200000 - 9300000 to journals.authors_features\n",
      "2019-05-01 09:39:39,458 [MainThread  ] [INFO ]  Inserting rows 9300000 - 9400000 to journals.authors_features\n",
      "2019-05-01 09:40:05,274 [MainThread  ] [INFO ]  Inserting rows 9400000 - 9500000 to journals.authors_features\n",
      "2019-05-01 09:40:26,273 [MainThread  ] [INFO ]  Inserting rows 9500000 - 9600000 to journals.authors_features\n",
      "2019-05-01 09:41:06,006 [MainThread  ] [INFO ]  Inserting rows 9600000 - 9700000 to journals.authors_features\n",
      "2019-05-01 09:41:51,098 [MainThread  ] [INFO ]  Inserting rows 9700000 - 9800000 to journals.authors_features\n",
      "2019-05-01 09:42:40,524 [MainThread  ] [INFO ]  Inserting rows 9800000 - 9900000 to journals.authors_features\n",
      "2019-05-01 09:43:10,807 [MainThread  ] [INFO ]  Inserting rows 9900000 - 10000000 to journals.authors_features\n",
      "2019-05-01 09:43:46,314 [MainThread  ] [INFO ]  Inserting rows 10000000 - 10100000 to journals.authors_features\n",
      "2019-05-01 09:44:33,337 [MainThread  ] [INFO ]  Inserting rows 10100000 - 10200000 to journals.authors_features\n",
      "2019-05-01 09:45:10,303 [MainThread  ] [INFO ]  Inserting rows 10200000 - 10300000 to journals.authors_features\n",
      "2019-05-01 09:45:36,141 [MainThread  ] [INFO ]  Inserting rows 10300000 - 10400000 to journals.authors_features\n",
      "2019-05-01 09:46:00,871 [MainThread  ] [INFO ]  Inserting rows 10400000 - 10500000 to journals.authors_features\n",
      "2019-05-01 09:46:54,717 [MainThread  ] [INFO ]  Inserting rows 10500000 - 10600000 to journals.authors_features\n",
      "2019-05-01 09:47:41,872 [MainThread  ] [INFO ]  Inserting rows 10600000 - 10700000 to journals.authors_features\n",
      "2019-05-01 09:48:12,757 [MainThread  ] [INFO ]  Inserting rows 10700000 - 10800000 to journals.authors_features\n",
      "2019-05-01 09:48:45,028 [MainThread  ] [INFO ]  Inserting rows 10800000 - 10900000 to journals.authors_features\n",
      "2019-05-01 09:49:37,469 [MainThread  ] [INFO ]  Inserting rows 10900000 - 11000000 to journals.authors_features\n",
      "2019-05-01 09:50:24,448 [MainThread  ] [INFO ]  Inserting rows 11000000 - 11100000 to journals.authors_features\n",
      "2019-05-01 09:51:09,615 [MainThread  ] [INFO ]  Inserting rows 11100000 - 11200000 to journals.authors_features\n",
      "2019-05-01 09:51:33,247 [MainThread  ] [INFO ]  Inserting rows 11200000 - 11300000 to journals.authors_features\n",
      "2019-05-01 09:52:17,582 [MainThread  ] [INFO ]  Inserting rows 11300000 - 11400000 to journals.authors_features\n",
      "2019-05-01 09:53:02,235 [MainThread  ] [INFO ]  Inserting rows 11400000 - 11500000 to journals.authors_features\n",
      "2019-05-01 09:53:46,023 [MainThread  ] [INFO ]  Inserting rows 11500000 - 11600000 to journals.authors_features\n",
      "2019-05-01 09:54:14,281 [MainThread  ] [INFO ]  Inserting rows 11600000 - 11700000 to journals.authors_features\n",
      "2019-05-01 09:54:53,082 [MainThread  ] [INFO ]  Inserting rows 11700000 - 11800000 to journals.authors_features\n",
      "2019-05-01 09:55:53,156 [MainThread  ] [INFO ]  Inserting rows 11800000 - 11900000 to journals.authors_features\n",
      "2019-05-01 09:56:40,742 [MainThread  ] [INFO ]  Inserting rows 11900000 - 12000000 to journals.authors_features\n",
      "2019-05-01 09:57:10,626 [MainThread  ] [INFO ]  Inserting rows 12000000 - 12100000 to journals.authors_features\n",
      "2019-05-01 09:57:35,546 [MainThread  ] [INFO ]  Inserting rows 12100000 - 12200000 to journals.authors_features\n",
      "2019-05-01 09:58:37,668 [MainThread  ] [INFO ]  Inserting rows 12200000 - 12300000 to journals.authors_features\n",
      "2019-05-01 09:59:22,366 [MainThread  ] [INFO ]  Inserting rows 12300000 - 12400000 to journals.authors_features\n",
      "2019-05-01 10:00:03,394 [MainThread  ] [INFO ]  Inserting rows 12400000 - 12500000 to journals.authors_features\n",
      "2019-05-01 10:00:27,181 [MainThread  ] [INFO ]  Inserting rows 12500000 - 12600000 to journals.authors_features\n",
      "2019-05-01 10:01:03,232 [MainThread  ] [INFO ]  Inserting rows 12600000 - 12700000 to journals.authors_features\n",
      "2019-05-01 10:01:52,894 [MainThread  ] [INFO ]  Inserting rows 12700000 - 12800000 to journals.authors_features\n",
      "2019-05-01 10:02:24,508 [MainThread  ] [INFO ]  Inserting rows 12800000 - 12900000 to journals.authors_features\n",
      "2019-05-01 10:02:51,991 [MainThread  ] [INFO ]  Inserting rows 12900000 - 13000000 to journals.authors_features\n",
      "2019-05-01 10:03:23,149 [MainThread  ] [INFO ]  Inserting rows 13000000 - 13100000 to journals.authors_features\n",
      "2019-05-01 10:04:11,789 [MainThread  ] [INFO ]  Inserting rows 13100000 - 13200000 to journals.authors_features\n",
      "2019-05-01 10:04:48,598 [MainThread  ] [INFO ]  Inserting rows 13200000 - 13300000 to journals.authors_features\n",
      "2019-05-01 10:05:23,944 [MainThread  ] [INFO ]  Inserting rows 13300000 - 13400000 to journals.authors_features\n",
      "2019-05-01 10:05:53,974 [MainThread  ] [INFO ]  Inserting rows 13400000 - 13500000 to journals.authors_features\n",
      "2019-05-01 10:06:43,810 [MainThread  ] [INFO ]  Inserting rows 13500000 - 13600000 to journals.authors_features\n",
      "2019-05-01 10:07:21,553 [MainThread  ] [INFO ]  Inserting rows 13600000 - 13700000 to journals.authors_features\n",
      "2019-05-01 10:07:56,397 [MainThread  ] [INFO ]  Inserting rows 13700000 - 13800000 to journals.authors_features\n",
      "2019-05-01 10:08:25,986 [MainThread  ] [INFO ]  Inserting rows 13800000 - 13900000 to journals.authors_features\n",
      "2019-05-01 10:09:21,879 [MainThread  ] [INFO ]  Inserting rows 13900000 - 14000000 to journals.authors_features\n",
      "2019-05-01 10:10:15,511 [MainThread  ] [INFO ]  Inserting rows 14000000 - 14100000 to journals.authors_features\n",
      "2019-05-01 10:11:02,788 [MainThread  ] [INFO ]  Inserting rows 14100000 - 14200000 to journals.authors_features\n",
      "2019-05-01 10:11:34,062 [MainThread  ] [INFO ]  Inserting rows 14200000 - 14300000 to journals.authors_features\n",
      "2019-05-01 10:12:14,408 [MainThread  ] [INFO ]  Inserting rows 14300000 - 14400000 to journals.authors_features\n",
      "2019-05-01 10:13:10,245 [MainThread  ] [INFO ]  Inserting rows 14400000 - 14500000 to journals.authors_features\n",
      "2019-05-01 10:13:44,304 [MainThread  ] [INFO ]  Inserting rows 14500000 - 14600000 to journals.authors_features\n",
      "2019-05-01 10:14:07,128 [MainThread  ] [INFO ]  Inserting rows 14600000 - 14700000 to journals.authors_features\n",
      "2019-05-01 10:14:30,601 [MainThread  ] [INFO ]  Inserting rows 14700000 - 14800000 to journals.authors_features\n",
      "2019-05-01 10:15:16,303 [MainThread  ] [INFO ]  Inserting rows 14800000 - 14900000 to journals.authors_features\n",
      "2019-05-01 10:16:12,514 [MainThread  ] [INFO ]  Inserting rows 14900000 - 15000000 to journals.authors_features\n",
      "2019-05-01 10:16:46,412 [MainThread  ] [INFO ]  Inserting rows 15000000 - 15100000 to journals.authors_features\n",
      "2019-05-01 10:17:06,576 [MainThread  ] [INFO ]  Inserting rows 15100000 - 15200000 to journals.authors_features\n",
      "2019-05-01 10:17:47,628 [MainThread  ] [INFO ]  Inserting rows 15200000 - 15300000 to journals.authors_features\n",
      "2019-05-01 10:18:30,460 [MainThread  ] [INFO ]  Inserting rows 15300000 - 15400000 to journals.authors_features\n",
      "2019-05-01 10:19:06,952 [MainThread  ] [INFO ]  Inserting rows 15400000 - 15500000 to journals.authors_features\n",
      "2019-05-01 10:19:27,576 [MainThread  ] [INFO ]  Inserting rows 15500000 - 15600000 to journals.authors_features\n",
      "2019-05-01 10:19:59,167 [MainThread  ] [INFO ]  Inserting rows 15600000 - 15700000 to journals.authors_features\n",
      "2019-05-01 10:20:45,596 [MainThread  ] [INFO ]  Inserting rows 15700000 - 15800000 to journals.authors_features\n",
      "2019-05-01 10:21:22,971 [MainThread  ] [INFO ]  Inserting rows 15800000 - 15900000 to journals.authors_features\n",
      "2019-05-01 10:21:50,504 [MainThread  ] [INFO ]  Inserting rows 15900000 - 16000000 to journals.authors_features\n",
      "2019-05-01 10:22:17,828 [MainThread  ] [INFO ]  Inserting rows 16000000 - 16100000 to journals.authors_features\n",
      "2019-05-01 10:23:02,045 [MainThread  ] [INFO ]  Inserting rows 16100000 - 16200000 to journals.authors_features\n",
      "2019-05-01 10:23:41,512 [MainThread  ] [INFO ]  Inserting rows 16200000 - 16300000 to journals.authors_features\n",
      "2019-05-01 10:24:09,070 [MainThread  ] [INFO ]  Inserting rows 16300000 - 16400000 to journals.authors_features\n",
      "2019-05-01 10:24:32,967 [MainThread  ] [INFO ]  Inserting rows 16400000 - 16500000 to journals.authors_features\n",
      "2019-05-01 10:25:17,675 [MainThread  ] [INFO ]  Inserting rows 16500000 - 16600000 to journals.authors_features\n",
      "2019-05-01 10:26:03,184 [MainThread  ] [INFO ]  Inserting rows 16600000 - 16700000 to journals.authors_features\n",
      "2019-05-01 10:26:37,687 [MainThread  ] [INFO ]  Inserting rows 16700000 - 16800000 to journals.authors_features\n",
      "2019-05-01 10:26:59,159 [MainThread  ] [INFO ]  Inserting rows 16800000 - 16900000 to journals.authors_features\n",
      "2019-05-01 10:27:34,098 [MainThread  ] [INFO ]  Inserting rows 16900000 - 17000000 to journals.authors_features\n",
      "2019-05-01 10:28:23,479 [MainThread  ] [INFO ]  Inserting rows 17000000 - 17100000 to journals.authors_features\n",
      "2019-05-01 10:28:59,992 [MainThread  ] [INFO ]  Inserting rows 17100000 - 17200000 to journals.authors_features\n",
      "2019-05-01 10:29:26,077 [MainThread  ] [INFO ]  Inserting rows 17200000 - 17300000 to journals.authors_features\n",
      "2019-05-01 10:29:54,702 [MainThread  ] [INFO ]  Inserting rows 17300000 - 17400000 to journals.authors_features\n",
      "2019-05-01 10:30:36,707 [MainThread  ] [INFO ]  Inserting rows 17400000 - 17500000 to journals.authors_features\n",
      "2019-05-01 10:31:12,465 [MainThread  ] [INFO ]  Inserting rows 17500000 - 17600000 to journals.authors_features\n",
      "2019-05-01 10:31:41,255 [MainThread  ] [INFO ]  Inserting rows 17600000 - 17700000 to journals.authors_features\n",
      "2019-05-01 10:32:06,913 [MainThread  ] [INFO ]  Inserting rows 17700000 - 17800000 to journals.authors_features\n",
      "2019-05-01 10:32:50,921 [MainThread  ] [INFO ]  Inserting rows 17800000 - 17900000 to journals.authors_features\n",
      "2019-05-01 10:33:30,789 [MainThread  ] [INFO ]  Inserting rows 17900000 - 18000000 to journals.authors_features\n",
      "2019-05-01 10:34:10,270 [MainThread  ] [INFO ]  Inserting rows 18000000 - 18100000 to journals.authors_features\n",
      "2019-05-01 10:34:33,055 [MainThread  ] [INFO ]  Inserting rows 18100000 - 18200000 to journals.authors_features\n",
      "2019-05-01 10:35:27,068 [MainThread  ] [INFO ]  Inserting rows 18200000 - 18300000 to journals.authors_features\n",
      "2019-05-01 10:36:27,400 [MainThread  ] [INFO ]  Inserting rows 18300000 - 18400000 to journals.authors_features\n",
      "2019-05-01 10:37:19,447 [MainThread  ] [INFO ]  Inserting rows 18400000 - 18500000 to journals.authors_features\n",
      "2019-05-01 10:37:57,541 [MainThread  ] [INFO ]  Inserting rows 18500000 - 18600000 to journals.authors_features\n",
      "2019-05-01 10:38:39,319 [MainThread  ] [INFO ]  Inserting rows 18600000 - 18700000 to journals.authors_features\n",
      "2019-05-01 10:39:46,744 [MainThread  ] [INFO ]  Inserting rows 18700000 - 18800000 to journals.authors_features\n",
      "2019-05-01 10:40:31,436 [MainThread  ] [INFO ]  Inserting rows 18800000 - 18900000 to journals.authors_features\n",
      "2019-05-01 10:41:11,244 [MainThread  ] [INFO ]  Inserting rows 18900000 - 19000000 to journals.authors_features\n",
      "2019-05-01 10:41:39,944 [MainThread  ] [INFO ]  Inserting rows 19000000 - 19100000 to journals.authors_features\n",
      "2019-05-01 10:42:30,159 [MainThread  ] [INFO ]  Inserting rows 19100000 - 19200000 to journals.authors_features\n",
      "2019-05-01 10:43:11,483 [MainThread  ] [INFO ]  Inserting rows 19200000 - 19300000 to journals.authors_features\n",
      "2019-05-01 10:43:43,244 [MainThread  ] [INFO ]  Inserting rows 19300000 - 19400000 to journals.authors_features\n",
      "2019-05-01 10:44:07,817 [MainThread  ] [INFO ]  Inserting rows 19400000 - 19500000 to journals.authors_features\n",
      "2019-05-01 10:44:49,321 [MainThread  ] [INFO ]  Inserting rows 19500000 - 19600000 to journals.authors_features\n",
      "2019-05-01 10:45:32,572 [MainThread  ] [INFO ]  Inserting rows 19600000 - 19700000 to journals.authors_features\n",
      "2019-05-01 10:46:24,353 [MainThread  ] [INFO ]  Inserting rows 19700000 - 19800000 to journals.authors_features\n",
      "2019-05-01 10:46:51,827 [MainThread  ] [INFO ]  Inserting rows 19800000 - 19900000 to journals.authors_features\n",
      "2019-05-01 10:47:16,534 [MainThread  ] [INFO ]  Inserting rows 19900000 - 20000000 to journals.authors_features\n",
      "2019-05-01 10:48:06,043 [MainThread  ] [INFO ]  Inserting rows 20000000 - 20100000 to journals.authors_features\n",
      "2019-05-01 10:48:40,482 [MainThread  ] [INFO ]  Inserting rows 20100000 - 20200000 to journals.authors_features\n",
      "2019-05-01 10:49:08,618 [MainThread  ] [INFO ]  Inserting rows 20200000 - 20300000 to journals.authors_features\n",
      "2019-05-01 10:49:29,510 [MainThread  ] [INFO ]  Inserting rows 20300000 - 20400000 to journals.authors_features\n",
      "2019-05-01 10:50:20,938 [MainThread  ] [INFO ]  Inserting rows 20400000 - 20500000 to journals.authors_features\n",
      "2019-05-01 10:51:02,173 [MainThread  ] [INFO ]  Inserting rows 20500000 - 20600000 to journals.authors_features\n",
      "2019-05-01 10:51:43,215 [MainThread  ] [INFO ]  Inserting rows 20600000 - 20700000 to journals.authors_features\n",
      "2019-05-01 10:52:05,486 [MainThread  ] [INFO ]  Inserting rows 20700000 - 20800000 to journals.authors_features\n",
      "2019-05-01 10:52:40,751 [MainThread  ] [INFO ]  Inserting rows 20800000 - 20900000 to journals.authors_features\n",
      "2019-05-01 10:53:42,522 [MainThread  ] [INFO ]  Inserting rows 20900000 - 21000000 to journals.authors_features\n",
      "2019-05-01 10:54:26,733 [MainThread  ] [INFO ]  Inserting rows 21000000 - 21100000 to journals.authors_features\n",
      "2019-05-01 10:54:58,495 [MainThread  ] [INFO ]  Inserting rows 21100000 - 21200000 to journals.authors_features\n",
      "2019-05-01 10:55:42,751 [MainThread  ] [INFO ]  Inserting rows 21200000 - 21300000 to journals.authors_features\n",
      "2019-05-01 10:56:30,507 [MainThread  ] [INFO ]  Inserting rows 21300000 - 21400000 to journals.authors_features\n",
      "2019-05-01 10:57:11,552 [MainThread  ] [INFO ]  Inserting rows 21400000 - 21500000 to journals.authors_features\n",
      "2019-05-01 10:57:42,457 [MainThread  ] [INFO ]  Inserting rows 21500000 - 21600000 to journals.authors_features\n",
      "2019-05-01 10:58:11,707 [MainThread  ] [INFO ]  Inserting rows 21600000 - 21700000 to journals.authors_features\n",
      "2019-05-01 10:59:05,773 [MainThread  ] [INFO ]  Inserting rows 21700000 - 21800000 to journals.authors_features\n",
      "2019-05-01 10:59:46,189 [MainThread  ] [INFO ]  Inserting rows 21800000 - 21900000 to journals.authors_features\n",
      "2019-05-01 11:00:28,046 [MainThread  ] [INFO ]  Inserting rows 21900000 - 22000000 to journals.authors_features\n",
      "2019-05-01 11:01:06,714 [MainThread  ] [INFO ]  Inserting rows 22000000 - 22100000 to journals.authors_features\n",
      "2019-05-01 11:01:54,633 [MainThread  ] [INFO ]  Inserting rows 22100000 - 22200000 to journals.authors_features\n",
      "2019-05-01 11:02:52,139 [MainThread  ] [INFO ]  Inserting rows 22200000 - 22300000 to journals.authors_features\n",
      "2019-05-01 11:03:43,954 [MainThread  ] [INFO ]  Inserting rows 22300000 - 22400000 to journals.authors_features\n",
      "2019-05-01 11:04:13,860 [MainThread  ] [INFO ]  Inserting rows 22400000 - 22500000 to journals.authors_features\n",
      "2019-05-01 11:07:20,684 [MainThread  ] [INFO ]  Loading papers features\n",
      "2019-05-01 11:07:22,587 [MainThread  ] [INFO ]  Inserting rows 0 - 100000 to journals.papers_features\n",
      "2019-05-01 11:08:52,407 [MainThread  ] [INFO ]  Inserting rows 100000 - 200000 to journals.papers_features\n",
      "2019-05-01 11:10:14,743 [MainThread  ] [INFO ]  Inserting rows 200000 - 300000 to journals.papers_features\n",
      "2019-05-01 11:11:29,087 [MainThread  ] [INFO ]  Inserting rows 300000 - 400000 to journals.papers_features\n",
      "2019-05-01 11:12:51,694 [MainThread  ] [INFO ]  Inserting rows 400000 - 500000 to journals.papers_features\n",
      "2019-05-01 11:14:08,501 [MainThread  ] [INFO ]  Inserting rows 500000 - 600000 to journals.papers_features\n",
      "2019-05-01 11:15:22,003 [MainThread  ] [INFO ]  Inserting rows 600000 - 700000 to journals.papers_features\n",
      "2019-05-01 11:16:32,000 [MainThread  ] [INFO ]  Inserting rows 700000 - 800000 to journals.papers_features\n",
      "2019-05-01 11:17:41,803 [MainThread  ] [INFO ]  Inserting rows 800000 - 900000 to journals.papers_features\n",
      "2019-05-01 11:18:45,927 [MainThread  ] [INFO ]  Inserting rows 900000 - 1000000 to journals.papers_features\n",
      "2019-05-01 11:19:49,578 [MainThread  ] [INFO ]  Inserting rows 1000000 - 1100000 to journals.papers_features\n",
      "2019-05-01 11:20:52,373 [MainThread  ] [INFO ]  Inserting rows 1100000 - 1200000 to journals.papers_features\n",
      "2019-05-01 11:21:54,350 [MainThread  ] [INFO ]  Inserting rows 1200000 - 1300000 to journals.papers_features\n",
      "2019-05-01 11:22:57,331 [MainThread  ] [INFO ]  Inserting rows 1300000 - 1400000 to journals.papers_features\n",
      "2019-05-01 11:23:56,518 [MainThread  ] [INFO ]  Inserting rows 1400000 - 1500000 to journals.papers_features\n",
      "2019-05-01 11:24:54,270 [MainThread  ] [INFO ]  Inserting rows 1500000 - 1600000 to journals.papers_features\n",
      "2019-05-01 11:25:50,100 [MainThread  ] [INFO ]  Inserting rows 1600000 - 1700000 to journals.papers_features\n",
      "2019-05-01 11:26:42,392 [MainThread  ] [INFO ]  Inserting rows 1700000 - 1800000 to journals.papers_features\n",
      "2019-05-01 11:27:32,467 [MainThread  ] [INFO ]  Inserting rows 1800000 - 1900000 to journals.papers_features\n",
      "2019-05-01 11:28:24,240 [MainThread  ] [INFO ]  Inserting rows 1900000 - 2000000 to journals.papers_features\n",
      "2019-05-01 11:29:15,913 [MainThread  ] [INFO ]  Inserting rows 2000000 - 2100000 to journals.papers_features\n",
      "2019-05-01 11:30:09,389 [MainThread  ] [INFO ]  Inserting rows 2100000 - 2200000 to journals.papers_features\n",
      "2019-05-01 11:31:02,528 [MainThread  ] [INFO ]  Inserting rows 2200000 - 2300000 to journals.papers_features\n",
      "2019-05-01 11:31:59,035 [MainThread  ] [INFO ]  Inserting rows 2300000 - 2400000 to journals.papers_features\n",
      "2019-05-01 11:32:53,956 [MainThread  ] [INFO ]  Inserting rows 2400000 - 2500000 to journals.papers_features\n",
      "2019-05-01 11:33:53,504 [MainThread  ] [INFO ]  Inserting rows 2500000 - 2600000 to journals.papers_features\n",
      "2019-05-01 11:34:55,681 [MainThread  ] [INFO ]  Inserting rows 2600000 - 2700000 to journals.papers_features\n",
      "2019-05-01 11:36:05,011 [MainThread  ] [INFO ]  Inserting rows 2700000 - 2800000 to journals.papers_features\n",
      "2019-05-01 11:37:01,322 [MainThread  ] [INFO ]  Inserting rows 2800000 - 2900000 to journals.papers_features\n",
      "2019-05-01 11:37:55,084 [MainThread  ] [INFO ]  Inserting rows 2900000 - 3000000 to journals.papers_features\n",
      "2019-05-01 11:38:48,250 [MainThread  ] [INFO ]  Inserting rows 3000000 - 3100000 to journals.papers_features\n",
      "2019-05-01 11:39:41,440 [MainThread  ] [INFO ]  Inserting rows 3100000 - 3200000 to journals.papers_features\n",
      "2019-05-01 11:40:33,093 [MainThread  ] [INFO ]  Inserting rows 3200000 - 3300000 to journals.papers_features\n",
      "2019-05-01 11:41:31,709 [MainThread  ] [INFO ]  Inserting rows 3300000 - 3400000 to journals.papers_features\n",
      "2019-05-01 11:42:22,974 [MainThread  ] [INFO ]  Inserting rows 3400000 - 3500000 to journals.papers_features\n",
      "2019-05-01 11:43:16,207 [MainThread  ] [INFO ]  Inserting rows 3500000 - 3600000 to journals.papers_features\n",
      "2019-05-01 11:44:06,798 [MainThread  ] [INFO ]  Inserting rows 3600000 - 3700000 to journals.papers_features\n",
      "2019-05-01 11:44:58,307 [MainThread  ] [INFO ]  Inserting rows 3700000 - 3800000 to journals.papers_features\n",
      "2019-05-01 11:45:49,440 [MainThread  ] [INFO ]  Inserting rows 3800000 - 3900000 to journals.papers_features\n",
      "2019-05-01 11:46:46,118 [MainThread  ] [INFO ]  Inserting rows 3900000 - 4000000 to journals.papers_features\n",
      "2019-05-01 11:47:39,621 [MainThread  ] [INFO ]  Inserting rows 4000000 - 4100000 to journals.papers_features\n",
      "2019-05-01 11:48:32,773 [MainThread  ] [INFO ]  Inserting rows 4100000 - 4200000 to journals.papers_features\n",
      "2019-05-01 11:49:23,730 [MainThread  ] [INFO ]  Inserting rows 4200000 - 4300000 to journals.papers_features\n",
      "2019-05-01 11:50:18,161 [MainThread  ] [INFO ]  Inserting rows 4300000 - 4400000 to journals.papers_features\n",
      "2019-05-01 11:51:07,702 [MainThread  ] [INFO ]  Inserting rows 4400000 - 4500000 to journals.papers_features\n",
      "2019-05-01 11:52:00,637 [MainThread  ] [INFO ]  Inserting rows 4500000 - 4600000 to journals.papers_features\n",
      "2019-05-01 11:53:00,307 [MainThread  ] [INFO ]  Inserting rows 4600000 - 4700000 to journals.papers_features\n",
      "2019-05-01 11:53:50,241 [MainThread  ] [INFO ]  Inserting rows 4700000 - 4800000 to journals.papers_features\n",
      "2019-05-01 11:54:48,779 [MainThread  ] [INFO ]  Inserting rows 4800000 - 4900000 to journals.papers_features\n",
      "2019-05-01 11:55:44,432 [MainThread  ] [INFO ]  Inserting rows 4900000 - 5000000 to journals.papers_features\n",
      "2019-05-01 11:56:35,196 [MainThread  ] [INFO ]  Inserting rows 5000000 - 5100000 to journals.papers_features\n",
      "2019-05-01 11:57:29,201 [MainThread  ] [INFO ]  Inserting rows 5100000 - 5200000 to journals.papers_features\n",
      "2019-05-01 11:58:19,918 [MainThread  ] [INFO ]  Inserting rows 5200000 - 5300000 to journals.papers_features\n",
      "2019-05-01 11:59:08,265 [MainThread  ] [INFO ]  Inserting rows 5300000 - 5400000 to journals.papers_features\n",
      "2019-05-01 12:00:01,466 [MainThread  ] [INFO ]  Inserting rows 5400000 - 5500000 to journals.papers_features\n",
      "2019-05-01 12:00:52,875 [MainThread  ] [INFO ]  Inserting rows 5500000 - 5600000 to journals.papers_features\n",
      "2019-05-01 12:01:41,361 [MainThread  ] [INFO ]  Inserting rows 5600000 - 5700000 to journals.papers_features\n",
      "2019-05-01 12:02:36,002 [MainThread  ] [INFO ]  Inserting rows 5700000 - 5800000 to journals.papers_features\n",
      "2019-05-01 12:03:27,042 [MainThread  ] [INFO ]  Inserting rows 5800000 - 5900000 to journals.papers_features\n",
      "2019-05-01 12:04:18,470 [MainThread  ] [INFO ]  Inserting rows 5900000 - 6000000 to journals.papers_features\n",
      "2019-05-01 12:05:15,281 [MainThread  ] [INFO ]  Inserting rows 6000000 - 6100000 to journals.papers_features\n",
      "2019-05-01 12:06:09,751 [MainThread  ] [INFO ]  Inserting rows 6100000 - 6200000 to journals.papers_features\n",
      "2019-05-01 12:07:02,793 [MainThread  ] [INFO ]  Inserting rows 6200000 - 6300000 to journals.papers_features\n",
      "2019-05-01 12:07:55,997 [MainThread  ] [INFO ]  Inserting rows 6300000 - 6400000 to journals.papers_features\n",
      "2019-05-01 12:08:46,140 [MainThread  ] [INFO ]  Inserting rows 6400000 - 6500000 to journals.papers_features\n",
      "2019-05-01 12:09:39,990 [MainThread  ] [INFO ]  Inserting rows 6500000 - 6600000 to journals.papers_features\n",
      "2019-05-01 12:10:37,355 [MainThread  ] [INFO ]  Inserting rows 6600000 - 6700000 to journals.papers_features\n",
      "2019-05-01 12:11:49,608 [MainThread  ] [INFO ]  Inserting rows 6700000 - 6800000 to journals.papers_features\n",
      "2019-05-01 12:12:48,015 [MainThread  ] [INFO ]  Inserting rows 6800000 - 6900000 to journals.papers_features\n",
      "2019-05-01 12:13:49,693 [MainThread  ] [INFO ]  Inserting rows 6900000 - 7000000 to journals.papers_features\n",
      "2019-05-01 12:14:51,175 [MainThread  ] [INFO ]  Inserting rows 7000000 - 7100000 to journals.papers_features\n",
      "2019-05-01 12:15:50,012 [MainThread  ] [INFO ]  Inserting rows 7100000 - 7200000 to journals.papers_features\n",
      "2019-05-01 12:16:44,876 [MainThread  ] [INFO ]  Inserting rows 7200000 - 7300000 to journals.papers_features\n",
      "2019-05-01 12:17:44,341 [MainThread  ] [INFO ]  Inserting rows 7300000 - 7400000 to journals.papers_features\n",
      "2019-05-01 12:18:45,039 [MainThread  ] [INFO ]  Inserting rows 7400000 - 7500000 to journals.papers_features\n",
      "2019-05-01 12:19:43,826 [MainThread  ] [INFO ]  Inserting rows 7500000 - 7600000 to journals.papers_features\n",
      "2019-05-01 12:20:42,716 [MainThread  ] [INFO ]  Inserting rows 7600000 - 7700000 to journals.papers_features\n",
      "2019-05-01 12:21:45,845 [MainThread  ] [INFO ]  Inserting rows 7700000 - 7800000 to journals.papers_features\n",
      "2019-05-01 12:22:44,195 [MainThread  ] [INFO ]  Inserting rows 7800000 - 7900000 to journals.papers_features\n",
      "2019-05-01 12:23:40,369 [MainThread  ] [INFO ]  Inserting rows 7900000 - 8000000 to journals.papers_features\n",
      "2019-05-01 12:24:33,454 [MainThread  ] [INFO ]  Inserting rows 8000000 - 8100000 to journals.papers_features\n",
      "2019-05-01 12:25:30,415 [MainThread  ] [INFO ]  Inserting rows 8100000 - 8200000 to journals.papers_features\n",
      "2019-05-01 12:26:20,676 [MainThread  ] [INFO ]  Inserting rows 8200000 - 8300000 to journals.papers_features\n",
      "2019-05-01 12:27:16,462 [MainThread  ] [INFO ]  Inserting rows 8300000 - 8400000 to journals.papers_features\n",
      "2019-05-01 12:28:13,543 [MainThread  ] [INFO ]  Inserting rows 8400000 - 8500000 to journals.papers_features\n",
      "2019-05-01 12:29:07,496 [MainThread  ] [INFO ]  Inserting rows 8500000 - 8600000 to journals.papers_features\n",
      "2019-05-01 12:30:06,966 [MainThread  ] [INFO ]  Inserting rows 8600000 - 8700000 to journals.papers_features\n",
      "2019-05-01 12:31:09,050 [MainThread  ] [INFO ]  Inserting rows 8700000 - 8800000 to journals.papers_features\n",
      "2019-05-01 12:32:18,202 [MainThread  ] [INFO ]  Inserting rows 8800000 - 8900000 to journals.papers_features\n",
      "2019-05-01 12:33:17,010 [MainThread  ] [INFO ]  Inserting rows 8900000 - 9000000 to journals.papers_features\n",
      "2019-05-01 12:34:38,545 [MainThread  ] [INFO ]  Inserting rows 9000000 - 9100000 to journals.papers_features\n",
      "2019-05-01 12:35:44,488 [MainThread  ] [INFO ]  Inserting rows 9100000 - 9200000 to journals.papers_features\n",
      "2019-05-01 12:36:37,861 [MainThread  ] [INFO ]  Inserting rows 9200000 - 9300000 to journals.papers_features\n",
      "2019-05-01 12:37:31,322 [MainThread  ] [INFO ]  Inserting rows 9300000 - 9400000 to journals.papers_features\n",
      "2019-05-01 12:38:27,729 [MainThread  ] [INFO ]  Inserting rows 9400000 - 9500000 to journals.papers_features\n",
      "2019-05-01 12:39:21,987 [MainThread  ] [INFO ]  Inserting rows 9500000 - 9600000 to journals.papers_features\n",
      "2019-05-01 12:40:21,475 [MainThread  ] [INFO ]  Inserting rows 9600000 - 9700000 to journals.papers_features\n",
      "2019-05-01 12:41:20,662 [MainThread  ] [INFO ]  Inserting rows 9700000 - 9800000 to journals.papers_features\n",
      "2019-05-01 12:42:23,496 [MainThread  ] [INFO ]  Inserting rows 9800000 - 9900000 to journals.papers_features\n",
      "2019-05-01 12:43:15,953 [MainThread  ] [INFO ]  Inserting rows 9900000 - 10000000 to journals.papers_features\n",
      "2019-05-01 12:44:16,700 [MainThread  ] [INFO ]  Inserting rows 10000000 - 10100000 to journals.papers_features\n",
      "2019-05-01 12:45:14,964 [MainThread  ] [INFO ]  Inserting rows 10100000 - 10200000 to journals.papers_features\n",
      "2019-05-01 12:46:11,659 [MainThread  ] [INFO ]  Inserting rows 10200000 - 10300000 to journals.papers_features\n",
      "2019-05-01 12:47:04,977 [MainThread  ] [INFO ]  Inserting rows 10300000 - 10400000 to journals.papers_features\n",
      "2019-05-01 12:48:04,094 [MainThread  ] [INFO ]  Inserting rows 10400000 - 10500000 to journals.papers_features\n",
      "2019-05-01 12:48:57,354 [MainThread  ] [INFO ]  Inserting rows 10500000 - 10600000 to journals.papers_features\n",
      "2019-05-01 12:49:49,756 [MainThread  ] [INFO ]  Inserting rows 10600000 - 10700000 to journals.papers_features\n",
      "2019-05-01 12:50:42,633 [MainThread  ] [INFO ]  Inserting rows 10700000 - 10800000 to journals.papers_features\n",
      "2019-05-01 12:51:33,490 [MainThread  ] [INFO ]  Inserting rows 10800000 - 10900000 to journals.papers_features\n",
      "2019-05-01 12:52:30,801 [MainThread  ] [INFO ]  Inserting rows 10900000 - 11000000 to journals.papers_features\n",
      "2019-05-01 12:53:24,088 [MainThread  ] [INFO ]  Inserting rows 11000000 - 11100000 to journals.papers_features\n",
      "2019-05-01 12:54:18,224 [MainThread  ] [INFO ]  Inserting rows 11100000 - 11200000 to journals.papers_features\n",
      "2019-05-01 12:55:15,856 [MainThread  ] [INFO ]  Inserting rows 11200000 - 11300000 to journals.papers_features\n",
      "2019-05-01 12:56:12,471 [MainThread  ] [INFO ]  Inserting rows 11300000 - 11400000 to journals.papers_features\n",
      "2019-05-01 12:57:04,902 [MainThread  ] [INFO ]  Inserting rows 11400000 - 11500000 to journals.papers_features\n",
      "2019-05-01 12:57:58,356 [MainThread  ] [INFO ]  Inserting rows 11500000 - 11600000 to journals.papers_features\n",
      "2019-05-01 12:58:51,049 [MainThread  ] [INFO ]  Inserting rows 11600000 - 11700000 to journals.papers_features\n",
      "2019-05-01 12:59:47,296 [MainThread  ] [INFO ]  Inserting rows 11700000 - 11800000 to journals.papers_features\n",
      "2019-05-01 13:00:43,924 [MainThread  ] [INFO ]  Inserting rows 11800000 - 11900000 to journals.papers_features\n",
      "2019-05-01 13:01:42,317 [MainThread  ] [INFO ]  Inserting rows 11900000 - 12000000 to journals.papers_features\n",
      "2019-05-01 13:02:42,881 [MainThread  ] [INFO ]  Inserting rows 12000000 - 12100000 to journals.papers_features\n",
      "2019-05-01 13:03:39,825 [MainThread  ] [INFO ]  Inserting rows 12100000 - 12200000 to journals.papers_features\n",
      "2019-05-01 13:04:36,557 [MainThread  ] [INFO ]  Inserting rows 12200000 - 12300000 to journals.papers_features\n",
      "2019-05-01 13:05:32,406 [MainThread  ] [INFO ]  Inserting rows 12300000 - 12400000 to journals.papers_features\n",
      "2019-05-01 13:06:28,351 [MainThread  ] [INFO ]  Inserting rows 12400000 - 12500000 to journals.papers_features\n",
      "2019-05-01 13:07:24,783 [MainThread  ] [INFO ]  Inserting rows 12500000 - 12600000 to journals.papers_features\n",
      "2019-05-01 13:08:29,107 [MainThread  ] [INFO ]  Inserting rows 12600000 - 12700000 to journals.papers_features\n",
      "2019-05-01 13:09:24,830 [MainThread  ] [INFO ]  Inserting rows 12700000 - 12800000 to journals.papers_features\n",
      "2019-05-01 13:10:19,792 [MainThread  ] [INFO ]  Inserting rows 12800000 - 12900000 to journals.papers_features\n",
      "2019-05-01 13:11:15,994 [MainThread  ] [INFO ]  Inserting rows 12900000 - 13000000 to journals.papers_features\n",
      "2019-05-01 13:12:08,734 [MainThread  ] [INFO ]  Inserting rows 13000000 - 13100000 to journals.papers_features\n",
      "2019-05-01 13:13:08,210 [MainThread  ] [INFO ]  Inserting rows 13100000 - 13200000 to journals.papers_features\n",
      "2019-05-01 13:14:04,463 [MainThread  ] [INFO ]  Inserting rows 13200000 - 13300000 to journals.papers_features\n",
      "2019-05-01 13:15:03,553 [MainThread  ] [INFO ]  Inserting rows 13300000 - 13400000 to journals.papers_features\n",
      "2019-05-01 13:16:00,965 [MainThread  ] [INFO ]  Inserting rows 13400000 - 13500000 to journals.papers_features\n",
      "2019-05-01 13:16:57,362 [MainThread  ] [INFO ]  Inserting rows 13500000 - 13600000 to journals.papers_features\n",
      "2019-05-01 13:17:53,138 [MainThread  ] [INFO ]  Inserting rows 13600000 - 13700000 to journals.papers_features\n",
      "2019-05-01 13:18:47,869 [MainThread  ] [INFO ]  Inserting rows 13700000 - 13800000 to journals.papers_features\n",
      "2019-05-01 13:19:41,930 [MainThread  ] [INFO ]  Inserting rows 13800000 - 13900000 to journals.papers_features\n",
      "2019-05-01 13:20:42,771 [MainThread  ] [INFO ]  Inserting rows 13900000 - 14000000 to journals.papers_features\n",
      "2019-05-01 13:21:43,717 [MainThread  ] [INFO ]  Inserting rows 14000000 - 14100000 to journals.papers_features\n",
      "2019-05-01 13:22:36,567 [MainThread  ] [INFO ]  Inserting rows 14100000 - 14200000 to journals.papers_features\n",
      "2019-05-01 13:23:34,002 [MainThread  ] [INFO ]  Inserting rows 14200000 - 14300000 to journals.papers_features\n",
      "2019-05-01 13:24:27,470 [MainThread  ] [INFO ]  Inserting rows 14300000 - 14400000 to journals.papers_features\n",
      "2019-05-01 13:25:29,227 [MainThread  ] [INFO ]  Inserting rows 14400000 - 14500000 to journals.papers_features\n",
      "2019-05-01 13:26:22,104 [MainThread  ] [INFO ]  Inserting rows 14500000 - 14600000 to journals.papers_features\n",
      "2019-05-01 13:27:19,229 [MainThread  ] [INFO ]  Inserting rows 14600000 - 14700000 to journals.papers_features\n",
      "2019-05-01 13:28:24,385 [MainThread  ] [INFO ]  Inserting rows 14700000 - 14800000 to journals.papers_features\n",
      "2019-05-01 13:29:22,359 [MainThread  ] [INFO ]  Inserting rows 14800000 - 14900000 to journals.papers_features\n",
      "2019-05-01 13:30:16,259 [MainThread  ] [INFO ]  Inserting rows 14900000 - 15000000 to journals.papers_features\n",
      "2019-05-01 13:31:07,122 [MainThread  ] [INFO ]  Inserting rows 15000000 - 15100000 to journals.papers_features\n",
      "2019-05-01 13:31:59,457 [MainThread  ] [INFO ]  Inserting rows 15100000 - 15200000 to journals.papers_features\n",
      "2019-05-01 13:32:52,842 [MainThread  ] [INFO ]  Inserting rows 15200000 - 15300000 to journals.papers_features\n"
     ]
    }
   ],
   "source": [
    "from ScienceDynamics.mongo_connector import load_sframes\n",
    "load_sframes(mag,sjr,jd) #this will load the SFrame to a local"
   ]
  },
  {
   "cell_type": "markdown",
   "metadata": {},
   "source": [
    "In the end of the loading process, six collections will be loaded to the journal database."
   ]
  },
  {
   "cell_type": "code",
   "execution_count": 4,
   "metadata": {
    "collapsed": true,
    "jupyter": {
     "outputs_hidden": true
    }
   },
   "outputs": [],
   "source": [
    "from ScienceDynamics.mongo_connector import MongoDBConnector\n",
    "MD = MongoDBConnector()"
   ]
  },
  {
   "cell_type": "code",
   "execution_count": 6,
   "metadata": {
    "collapsed": true,
    "jupyter": {
     "outputs_hidden": true
    }
   },
   "outputs": [
    {
     "name": "stderr",
     "output_type": "stream",
     "text": [
      "/storage/homedir/dima/miniconda3/envs/promed/lib/python3.6/site-packages/ipykernel_launcher.py:1: DeprecationWarning: collection_names is deprecated. Use list_collection_names instead.\n",
      "  \"\"\"Entry point for launching an IPython kernel.\n"
     ]
    },
    {
     "data": {
      "text/plain": [
       "[]"
      ]
     },
     "execution_count": 6,
     "metadata": {},
     "output_type": "execute_result"
    }
   ],
   "source": [
    "MD.client.journals.collection_names()"
   ]
  },
  {
   "cell_type": "code",
   "execution_count": 61,
   "metadata": {
    "collapsed": true,
    "jupyter": {
     "outputs_hidden": true
    }
   },
   "outputs": [
    {
     "name": "stdout",
     "output_type": "stream",
     "text": [
      "{'_id': ObjectId('5cca685465387acb12698540'), 'Aminer Paper ID': '555045bc45ce0a409eb58f90', 'Authors List Sorted': '[\"834A11E2\",\"7E8BA14F\",\"852B2668\"]', 'Authors Number': 3.0, 'Conference ID mapped to venue name': '42D7146F', 'Field of study list': 'nan', 'Field of study list names': 'nan', 'Fields of study parent list (L0)': 'nan', 'Fields of study parent list (L1)': 'nan', 'Fields of study parent list (L2)': 'nan', 'Fields of study parent list (L3)': 'nan', 'Fields of study parent list names (L0)': 'nan', 'Fields of study parent list names (L1)': 'nan', 'Fields of study parent list names (L2)': 'nan', 'Fields of study parent list names (L3)': 'nan', 'Journal ID mapped to venue name': 'nan', 'Keywords List': 'nan', 'MAG Paper ID': '01B27BE8', 'Normalized paper title': 'evaluating polarity for verbal phraseological units', 'Normalized venue name': 'micai', 'Original paper title': 'Evaluating Polarity for Verbal Phraseological Units', 'Original venue name': 'mexican international conference on artificial intelligence', 'Paper Document Object Identifier (DOI)': '10.1007/978-3-319-13647-9_19', 'Paper publish date': '2014/11/16', 'Paper publish year': 2014, 'Paper rank': 19517, 'Ref Number': 21, 'Total Citations by Year': 'nan', 'Total Citations by Year without Self Citations': 'nan', 'Urls': '[\"http://link.springer.com/content/pdf/10.1007%2F978-3-319-13647-9_19.pdf\",\"http://link.springer.com/chapter/10.1007/978-3-319-13647-9_19\"]', 'abstract': 'nan', 'authors': '[{\"name\":\"Priego SÃ¡nchez BelÃ©m\"},{\"name\":\"David Pinto\"},{\"name\":\"Salah Mejri\"}]', 'isbn': 'nan', 'issn': 'nan', 'issue': 'nan', 'keywords': 'nan', 'lang': 'en', 'n_citation': nan, 'page_end': '200', 'page_start': '191', 'pdf': 'nan', 'references': '[\"56d8c748dabfae2eee5829dc\",\"56d8b2bcdabfae2eeeef0ae5\",\"56d83effdabfae2eee78bfae\",\"53e99beab7602d9702492ac6\",\"56d88d66dabfae2eeeca9101\",\"56d89c18dabfae2eee3f3b58\",\"56d87a96dabfae2eee38508d\",\"53e9a2c7b7602d9702bcdebe\",\"53e9b4fab7602d97040294dc\",\"53e9ace1b7602d97036bddd4\",\"53e9af46b7602d97039827ec\",\"56d84569dabfae2eeeaa2629\",\"53e9bdcdb7602d9704a7a201\",\"56d8b1a0dabfae2eeee61d5c\",\"56d87d0fdabfae2eee49dead\",\"56d8d511dabfae2eeec48b89\",\"56d89104dabfae2eeee7f054\",\"56d884badabfae2eee83e972\",\"56d88899dabfae2eeea2a933\",\"56d86e17dabfae2eeede73ce\",\"56d89666dabfae2eee12a136\"]', 'title': 'Evaluating Polarity for Verbal Phraseological Units.', 'url': '[\"http://dx.doi.org/10.1007/978-3-319-13647-9_19\"]', 'venue': 'MICAI', 'volume': 'nan', 'year': 2014.0}\n",
      "{'_id': ObjectId('5cca685465387acb12698541'), 'Aminer Paper ID': '53e9a358b7602d9702c63fee', 'Authors List Sorted': '[\"7DB8825E\",\"6936139F\"]', 'Authors Number': 2.0, 'Conference ID mapped to venue name': '42D7146F', 'Field of study list': 'nan', 'Field of study list names': 'nan', 'Fields of study parent list (L0)': 'nan', 'Fields of study parent list (L1)': 'nan', 'Fields of study parent list (L2)': 'nan', 'Fields of study parent list (L3)': 'nan', 'Fields of study parent list names (L0)': 'nan', 'Fields of study parent list names (L1)': 'nan', 'Fields of study parent list names (L2)': 'nan', 'Fields of study parent list names (L3)': 'nan', 'Journal ID mapped to venue name': 'nan', 'Keywords List': 'nan', 'MAG Paper ID': '027D0030', 'Normalized paper title': 'automatic monitoring the content of audio broadcasted by internet radio stations', 'Normalized venue name': 'micai', 'Original paper title': 'Automatic Monitoring the Content of Audio Broadcasted by Internet Radio Stations', 'Original venue name': 'mexican international conference on artificial intelligence', 'Paper Document Object Identifier (DOI)': '10.1007/978-3-642-37807-2_11', 'Paper publish date': '2012/10/27', 'Paper publish year': 2012, 'Paper rank': 19444, 'Ref Number': 7, 'Total Citations by Year': 'nan', 'Total Citations by Year without Self Citations': 'nan', 'Urls': '[\"http://dl.acm.org/citation.cfm?id=2481834\",\"http://link.springer.com/chapter/10.1007/978-3-642-37807-2_11\",\"http://link.springer.com/content/pdf/10.1007%2F978-3-642-37807-2_11.pdf\",\"http://www.researchgate.net/publication/262411947_Automatic_monitoring_the_content_of_audio_broadcasted_by_internet_radio_stations\"]', 'abstract': 'Auditing the content of audio as transmitted by radio-stations is of great interest for governments, publicists, and for managers of radio-stations among others. Our approach consists of making use of a robust audio-fingerprint for characterization of the monitored audio and a proximity index for fast search of the most similar piece of audio among the collection of audio known to the system (ads mainly). Since the audio signal as broadcasted via Internet suffers little degradation, an inverted index proved to be a great solution while pivot based indexes such as the Burkhard-Keller tree and the Fixed Query array turned out to be of no use for our purpose due to the curse of dimensionality. The implemented system performed really well having a 100% recall and it it fast enough to allow real time monitoring of several radio-stations simultaneously with a single desktop computer.', 'authors': '[{\"name\":\"Omar NuÃ±ez\",\"org\":\"Universidad Michoacana de San Nicolas de Hidalgo, Mexico\"},{\"name\":\"Antonio Camarena-Ibarrola\",\"org\":\"Universidad Michoacana de San Nicolas de Hidalgo, Mexico\"}]', 'isbn': 'nan', 'issn': 'nan', 'issue': 'nan', 'keywords': '[\"great interest\",\"real time monitoring\",\"great solution\",\"fast search\",\"proximity index\",\"fixed query array\",\"burkhard-keller tree\",\"audio signal\",\"internet radio station\",\"inverted index\",\"monitored audio\"]', 'lang': 'en', 'n_citation': nan, 'page_end': '130', 'page_start': '119', 'pdf': 'nan', 'references': '[\"53e999adb7602d97021ef896\",\"53e9baf1b7602d97047219ef\",\"53e9be03b7602d9704ab5a6e\",\"53e99b10b7602d97023a4cd0\",\"53e9be6cb7602d9704b2d197\",\"53e9a906b7602d9703257dff\",\"53e99cfcb7602d97025af863\",\"55323bdc45cec66b6f9dabfc\",\"53e9b7bab7602d9704362f71\",\"53e99f18b7602d97027e3372\",\"53e9a906b7602d9703257dfe\"]', 'title': 'Automatic monitoring the content of audio broadcasted by internet radio stations', 'url': '[\"http://dx.doi.org/10.1007/978-3-642-37807-2_11\"]', 'venue': 'MICAI', 'volume': 'nan', 'year': 2012.0}\n",
      "{'_id': ObjectId('5cca685465387acb12698542'), 'Aminer Paper ID': '53e9b621b7602d9704177d73', 'Authors List Sorted': '[\"81867464\",\"8106CCE6\",\"7D20CE86\",\"7C6C6BB9\"]', 'Authors Number': 4.0, 'Conference ID mapped to venue name': '42D7146F', 'Field of study list': '[\"0059F32E\",\"0ABCEA76\",\"0A9CB5A9\",\"0556B228\",\"0765A2E4\",\"0059F32E\",\"03E623B0\"]', 'Field of study list names': '[\"Software agent\",\"Software development process\",\"Measure\",\"Software measurement\",\"Data mining\",\"Software agent\",\"Autonomy\"]', 'Fields of study parent list (L0)': '[\"0271BC14\",\"0895A350\",\"0205A1DB\",\"07982D63\"]', 'Fields of study parent list (L1)': '[\"06E88D7C\",\"093C4716\",\"0765A2E4\",\"0BE4BA29\"]', 'Fields of study parent list (L2)': '[\"00F36ADC\",\"05A3DFDE\"]', 'Fields of study parent list (L3)': '[\"0A9CB5A9\",\"03E623B0\",\"0ABCEA76\",\"0556B228\",\"0059F32E\"]', 'Fields of study parent list names (L0)': '[\"Computer Science\",\"Sociology\",\"Mathematics\",\"Engineering\"]', 'Fields of study parent list names (L1)': '[\"Software Engineering\",\"Artificial intelligence\",\"Data mining\",\"Law\"]', 'Fields of study parent list names (L2)': '[\"Project management\",\"Politics\"]', 'Fields of study parent list names (L3)': '[\"Measure\",\"Autonomy\",\"Software development process\",\"Software measurement\",\"Software agent\"]', 'Journal ID mapped to venue name': 'nan', 'Keywords List': '[\"software agent\",\"development process\",\"measures\",\"software measurement\",\"data mining\",\"software agents\",\"autonomy\"]', 'MAG Paper ID': '7CFE299E', 'Normalized paper title': 'towards a set of measures for evaluating software agent autonomy', 'Normalized venue name': 'micai', 'Original paper title': 'Towards a set of Measures for Evaluating Software Agent Autonomy', 'Original venue name': 'mexican international conference on artificial intelligence', 'Paper Document Object Identifier (DOI)': '10.1109/MICAI.2009.15', 'Paper publish date': '2009/11', 'Paper publish year': 2009, 'Paper rank': 18870, 'Ref Number': 14, 'Total Citations by Year': '{\"2010\":2,\"2011\":3,\"2012\":4,\"2013\":5,\"2014\":9,\"2015\":10}', 'Total Citations by Year without Self Citations': '{\"2011\":1,\"2012\":2,\"2013\":3,\"2014\":7,\"2015\":8}', 'Urls': '[\"http://ieeexplore.ieee.org/xpl/abstractAuthors.jsp?reload=true&arnumber=5372715&punumber%3D5372669\",\"http://ieeexplore.ieee.org/xpls/abs_all.jsp?arnumber=5372715\",\"http://ieeexplore.ieee.org/xpl/abstractAuthors.jsp?reload=true&tp=&arnumber=5372715&contentType=Conference+Publications&queryText%3D%28%28why+software+fails%29%3Cin%3Emetadata%29\",\"http://ieeexplore.ieee.org/xpl/abstractAuthors.jsp?reload=true&tp=&arnumber=5372715&contentType=Conference+Publications&queryText%3D%28+martinez++j.+c.%3CIN%3Eau%29\",\"http://ieeexplore.ieee.org/xpl/articleDetails.jsp?tp=&arnumber=5372715&contentType=Conference+Publications&queryText%3D%28+martinez++j.+c.%3CIN%3Eau%29\",\"http://ieeexplore.ieee.org/xpls/abs_all.jsp?arnumber=5372715_20140721\",\"http://ieeexplore.ieee.org/lpdocs/epic03/wrapper.htm?arnumber=5372715\",\"http://ieeexplore.ieee.org/xpl/articleDetails.jsp?arnumber=5372715\",\"http://ieeexplore.ieee.org/stamp/stamp.jsp?arnumber=5372715\",\"http://ieeexplore.ieee.org/xpl/articleDetails.jsp?reload=true&arnumber=5372715&sortType%3Dasc_p_Sequence%26filter%3DAND%28p_IS_Number%3A5372670%29\",\"http://ieeexplore.ieee.org/xpl/articleDetails.jsp?reload=true&tp=&arnumber=5372715&contentType=Conference+Publications&queryText%3D%28%28why+software+fails%29%3Cin%3Emetadata%29\",\"http://ieeexplore.ieee.org/iel5/5372669/5372670/05372715.pdf?arnumber=5372715\",\"http://ieeexplore.ieee.org/xpl/abstractKeywords.jsp?reload=true&tp=&arnumber=5372715&contentType=Conference+Publications&queryText%3D%28+martinez++j.+c.%3CIN%3Eau%29\",\"http://oa.upm.es/5534/\",\"http://oa.upm.es/5534/1/INVE_MEM_2009_64763.pdf\",\"http://www.deepdyve.com/lp/institute-of-electrical-and-electronics-engineers/towards-a-set-of-measures-for-evaluating-software-agent-autonomy-nLXpGkbyrL\",\"http://www.researchgate.net/publication/229026695_Towards_a_set_of_Measures_for_Evaluating_Software_Agent_Autonomy\",\"https://www.deepdyve.com/lp/institute-of-electrical-and-electronics-engineers/towards-a-set-of-measures-for-evaluating-software-agent-autonomy-nLXpGkbyrL\",\"http://yadda.icm.edu.pl/yadda/element/bwmeta1.element.ieee-000005372715\"]', 'abstract': 'Agent-oriented software is an established research field. For this reason, it is important to develop comprehensive measures of excellence to evaluate this software. No set of measures defining the overall quality of an agent has been developed to date. Some attempts at evaluating agent quality have addressed certain agent features, like the development process. We believe that agent quality can be determined as a function of well-defined characteristics. Evaluated using appropriate measures, these characteristics will assure an agentâ\\x80\\x99s reliability and correct functionality. This paper deals with an important agent feature, namely, autonomy. Autonomy is considered to be the agentâ\\x80\\x99s ability to operate independently, without the need for human guidance or the intervention of external elements. The article proposes a set of measures used to evaluate the autonomy of a agent and presents a case study analyzing the behavior of these measures.', 'authors': '[{\"name\":\"Fernando Alonso\"},{\"name\":\"JosÃ© Luis Fuertes\"},{\"name\":\"LÃ¶ic Martinez\"},{\"name\":\"Hector Soza\"}]', 'isbn': 'nan', 'issn': 'nan', 'issue': 'nan', 'keywords': '[\"agent-oriented software\",\"certain agent feature\",\"agent quality\",\"software agent autonomy\",\"correct functionality\",\"important agent feature\",\"appropriate measure\",\"development process\",\"comprehensive measure\",\"overall quality\",\"case study\",\"measures\",\"software measurement\",\"software agents\",\"autonomy\",\"software agent\",\"data mining\"]', 'lang': 'en', 'n_citation': nan, 'page_end': '78', 'page_start': '73', 'pdf': 'nan', 'references': '[\"53e9b4f5b7602d9704023a5e\",\"53e9be72b7602d9704b312fc\",\"53e99ccab7602d970257f571\",\"53e9a55cb7602d9702e835eb\",\"53e9ac47b7602d97036132f1\",\"53e9a64ab7602d9702f78020\",\"53e9a058b7602d970293e3db\",\"53e9a5beb7602d9702ee8e44\",\"53e9a62fb7602d9702f5fe5c\",\"53e9b500b7602d970402f320\",\"53e99e04b7602d97026cb01f\",\"56d8f631dabfae2eee94c435\",\"53e9ab4fb7602d97034e018f\",\"53e9a7cfb7602d970310ea25\"]', 'title': 'Towards a set of Measures for Evaluating Software Agent Autonomy', 'url': '[\"http://dx.doi.org/10.1109/MICAI.2009.15\"]', 'venue': \"MICAI '09 Proceedings of the 2009 Eighth Mexican International Conference on Artificial Intelligence\", 'volume': 'nan', 'year': 2009.0}\n",
      "{'_id': ObjectId('5cca685465387acb12698543'), 'Aminer Paper ID': '53e9bb7ab7602d97047bb31b', 'Authors List Sorted': '[\"807DCA23\",\"811B0352\",\"2779E3F4\"]', 'Authors Number': 3.0, 'Conference ID mapped to venue name': '42D7146F', 'Field of study list': '[\"0BBED543\",\"083736DA\"]', 'Field of study list names': '[\"Probability density function\",]', 'Fields of study parent list (L0)': '[\"0205A1DB\"]', 'Fields of study parent list (L1)': '[\"064E5072\"]', 'Fields of study parent list (L2)': '[\"007E3B49\"]', 'Fields of study parent list (L3)': '[\"0BBED543\"]', 'Fields of study parent list names (L0)': '[\"Mathematics\"]', 'Fields of study parent list names (L1)': '[\"Statistics\"]', 'Fields of study parent list names (L2)': '[\"Stochastic process\"]', 'Fields of study parent list names (L3)': '[\"Probability density function\"]', 'Journal ID mapped to venue name': 'nan', 'Keywords List': '[\"probability density\",\"optimization problem\"]', 'MAG Paper ID': '59BEBE1C', 'Normalized paper title': 'learning probability densities of optimization problems with constraints and uncertainty', 'Normalized venue name': 'micai', 'Original paper title': 'Learning Probability Densities of Optimization Problems with Constraints and Uncertainty', 'Original venue name': 'mexican international conference on artificial intelligence', 'Paper Document Object Identifier (DOI)': '10.1007/978-3-540-88636-5_25', 'Paper publish date': '2008/10/27', 'Paper publish year': 2008, 'Paper rank': 19444, 'Ref Number': 7, 'Total Citations by Year': 'nan', 'Total Citations by Year without Self Citations': 'nan', 'Urls': '[\"http://dx.doi.org/10.1007/978-3-540-88636-5_25\",\"http://link.springer.com/chapter/10.1007/978-3-540-88636-5_25\",\"http://link.springer.com/content/pdf/10.1007%2F978-3-540-88636-5_25.pdf\",\"http://www.academia.edu/7104594/Learning_Probability_Densities_of_Optimization_Problems_with_Constraints_and_Uncertainty\"]', 'abstract': 'A recently introduced method for the learning of the asymptotic marginal densities of stochastic search processes in optimization is generalized for its application in problems under constraints and uncertainty. The use of the proposed approach as a mechanism for diversification in optimization algorithms is illustrated on several benchmark examples.', 'authors': '[{\"name\":\"JonÃ¡s Velasco\",\"org\":\"Posgrado en IngenierÃ\\xada de Sistemas Centro de InnovaciÃ³n, InvestigaciÃ³n y Desarrollo en IngenierÃ\\xada y TecnologÃ\\xada, Universidad AutÃ³noma de Nuevo LeÃ³n, San Nicol&#22 ...\"},{\"name\":\"AydeÃ© LÃ³pez MuÃ±iz\",\"org\":\"Posgrado en IngenierÃ\\xada de Sistemas Centro de InnovaciÃ³n, InvestigaciÃ³n y Desarrollo en IngenierÃ\\xada y TecnologÃ\\xada, Universidad AutÃ³noma de Nuevo LeÃ³n, San Nicol&#22 ...\"},{\"name\":\"Arturo Berrones\",\"org\":\"Posgrado en IngenierÃ\\xada de Sistemas Centro de InnovaciÃ³n, InvestigaciÃ³n y Desarrollo en IngenierÃ\\xada y TecnologÃ\\xada, Universidad AutÃ³noma de Nuevo LeÃ³n, San Nicol&#22 ...\"}]', 'isbn': 'nan', 'issn': 'nan', 'issue': 'nan', 'keywords': '[\"optimization algorithm\",\"learning probability densities\",\"benchmark example\",\"stochastic search process\",\"optimization problems\",\"asymptotic marginal density\",\"optimization problem\",\"probability density\"]', 'lang': 'en', 'n_citation': nan, 'page_end': '272', 'page_start': '266', 'pdf': 'nan', 'references': '[\"53e9a60ab7602d9702f380ae\",\"53e9b296b7602d9703d4118f\",\"53e9abe5b7602d97035a0654\",\"53e99a0fb7602d9702262555\",\"55323bdc45cec66b6f9dabfc\",\"53e9a232b7602d9702b35fca\",\"53e99fafb7602d9702886e3f\",\"53e9aec4b7602d97038ed3da\",\"53e99e3fb7602d9702704e68\"]', 'title': 'Learning Probability Densities of Optimization Problems with Constraints and Uncertainty', 'url': '[\"http://dx.doi.org/10.1007/978-3-540-88636-5_25\"]', 'venue': 'MICAI', 'volume': 'nan', 'year': 2008.0}\n",
      "{'_id': ObjectId('5cca685465387acb12698544'), 'Aminer Paper ID': '53e9b671b7602d97041d5c72', 'Authors List Sorted': '[\"7F553272\",\"7F830ACE\",\"7E7F1E07\"]', 'Authors Number': 3.0, 'Conference ID mapped to venue name': '42D7146F', 'Field of study list': '[\"09A47029\",\"027A0232\",\"09A47029\",\"0087AC0D\",\"027A0232\"]', 'Field of study list names': '[\"Process calculus\",\"Multi-agent system\",\"Process calculus\",\"Immune system\",\"Multi-agent system\"]', 'Fields of study parent list (L0)': '[\"0271BC14\"]', 'Fields of study parent list (L1)': '[\"093C4716\",\"0BE20181\",\"0C19BFCD\"]', 'Fields of study parent list (L2)': '[\"027A0232\"]', 'Fields of study parent list (L3)': '[\"0087AC0D\",\"09A47029\"]', 'Fields of study parent list names (L0)': '[\"Computer Science\"]', 'Fields of study parent list names (L1)': '[\"Artificial intelligence\",\"Programming language\",\"Immunology\"]', 'Fields of study parent list names (L2)': '[\"Multi-agent system\"]', 'Fields of study parent list names (L3)': '[\"Immune system\",\"Process calculus\"]', 'Journal ID mapped to venue name': 'nan', 'Keywords List': '[\"process algebra\",\"multi agent system\",\"process calculi\",\"immune system\",\"multi agent systems\"]', 'MAG Paper ID': '5873C011', 'Normalized paper title': 'towards a model for an immune system', 'Normalized venue name': 'micai', 'Original paper title': 'Towards a Model for an Immune System', 'Original venue name': 'mexican international conference on artificial intelligence', 'Paper Document Object Identifier (DOI)': '10.1007/3-540-46016-0_42', 'Paper publish date': '2002/04/22', 'Paper publish year': 2002, 'Paper rank': 19177, 'Ref Number': 8, 'Total Citations by Year': '{\"2003\":1,\"2004\":3,\"2005\":3,\"2006\":3,\"2007\":3,\"2008\":3,\"2009\":3,\"2010\":3,\"2011\":3,\"2012\":3,\"2013\":3,\"2014\":4,\"2015\":4}', 'Total Citations by Year without Self Citations': '{\"2003\":1,\"2004\":2,\"2005\":2,\"2006\":2,\"2007\":2,\"2008\":2,\"2009\":2,\"2010\":2,\"2011\":2,\"2012\":2,\"2013\":2,\"2014\":3,\"2015\":3}', 'Urls': '[\"http://dl.acm.org/citation.cfm?id=691909\",\"http://link.springer.com/chapter/10.1007/3-540-46016-0_42\",\"http://link.springer.com/content/pdf/10.1007%2F3-540-46016-0_42.pdf\",\"http://link.springer.de/link/service/series/0558/bibs/2313/23130401.htm\",\"http://www.academia.edu/15979839/Towards_a_Model_for_an_Immune_System\",\"https://www.researchgate.net/publication/220887482_Towards_a_Model_for_an_Immune_System\"]', 'abstract': 'Immune systems of life forms have been a rich source of inspiration to computer scientists. Problem solving strategies, borrowing ideas from the immune system analogy, have been successfully applied to challenging problems of modern computing. However, no formal model of a typical immune system has so far been proposed. This paper reports on an experiment towards modelling an immune system using process algebra. Our model of the immune system separates individual components. Each element is specified in terms of its observable behaviour. This paper also provides a formal specification of some properties of an immune system, including robustness and self-stabilisation. It outlines the sort of mechanisms that are required to formally verify the resulting model.', 'authors': '[{\"name\":\"Rosa Saab\"},{\"name\":\"Raul Monroy\"},{\"name\":\"Fernando GodÃ\\xadnez\"}]', 'isbn': '3-540-43475-5', 'issn': 'nan', 'issue': 'nan', 'keywords': '[\"individual component\",\"borrowing idea\",\"immune system analogy\",\"immune system\",\"formal specification\",\"typical immune system\",\"paper report\",\"computer scientist\",\"formal model\",\"resulting model\",\"process algebra\",\"multi agent systems\",\"multi agent system\",\"process calculi\"]', 'lang': 'en', 'n_citation': 10.0, 'page_end': '410', 'page_start': '401', 'pdf': 'nan', 'references': '[\"53e9b1e3b7602d9703c77839\",\"53e9b443b7602d9703f3ef1a\",\"53e9bc42b7602d97048b5439\",\"53e99cfcb7602d97025af84d\",\"53e9a326b7602d9702c326a8\",\"53e9ab3eb7602d97034cf898\",\"53e99f02b7602d97027ce158\",\"53e9a002b7602d97028e498c\",\"55323bdc45cec66b6f9dabfc\",\"53e99b4ab7602d97023e8555\"]', 'title': 'Towards a Model for an Immune System', 'url': '[\"http://dx.doi.org/10.1007/3-540-46016-0_42\"]', 'venue': 'MICAI', 'volume': 'nan', 'year': 2002.0}\n",
      "{'_id': ObjectId('5cca685465387acb12698545'), 'Aminer Paper ID': '53e9aabcb7602d9703437de6', 'Authors List Sorted': '[\"80CF45DD\",\"814339C1\",\"7ED13F21\",\"7F45D6E4\"]', 'Authors Number': 4.0, 'Conference ID mapped to venue name': '42D7146F', 'Field of study list': '[\"09F001E0\",\"07245C42\",\"0B9C400C\"]', 'Field of study list names': '[\"Ontology\",\"Computer Aided Design\",]', 'Fields of study parent list (L0)': '[\"0271BC14\"]', 'Fields of study parent list (L1)': '[\"093C4716\"]', 'Fields of study parent list (L2)': '[\"07245C42\"]', 'Fields of study parent list (L3)': '[\"09F001E0\"]', 'Fields of study parent list names (L0)': '[\"Computer Science\"]', 'Fields of study parent list names (L1)': '[\"Artificial intelligence\"]', 'Fields of study parent list names (L2)': '[\"Computer Aided Design\"]', 'Fields of study parent list names (L3)': '[\"Ontology\"]', 'Journal ID mapped to venue name': 'nan', 'Keywords List': '[\"ontologies\",\"computer aided design\",\"cad\"]', 'MAG Paper ID': '0B00AFD8', 'Normalized paper title': 'towards the creation of semantic models based on computer aided designs', 'Normalized venue name': 'micai', 'Original paper title': 'Towards the creation of semantic models based on computer-aided designs', 'Original venue name': 'mexican international conference on artificial intelligence', 'Paper Document Object Identifier (DOI)': '10.1007/978-3-642-37807-2_26', 'Paper publish date': '2012/10/27', 'Paper publish year': 2012, 'Paper rank': 19476, 'Ref Number': 10, 'Total Citations by Year': 'nan', 'Total Citations by Year without Self Citations': 'nan', 'Urls': '[\"http://dl.acm.org/citation.cfm?id=2481852\",\"http://link.springer.com/chapter/10.1007/978-3-642-37807-2_26\",\"http://link.springer.com/content/pdf/10.1007%2F978-3-642-37807-2_26.pdf\",\"http://www.academia.edu/4701012/Towards_the_creation_of_Semantic_Models_based_on_Computer-Aided_Designs\"]', 'abstract': 'Nowadays one of the biggest problems many manufacturing companies face is the loss of knowledge from the information it possesses. Whether it tries to make business or improves the exchange of information within its different areas, valuable knowledge does not reach all stakeholders due to abstraction and ambiguity. A clear example in which both problems have a clear effect in terms of knowledge loss occurs during the interpretation of Computer-Aided Designs (CAD). If there is no experience doing such task the only data extracted will be limited to the elements contained on the drawing. By creating a semantic model we are able to know the contents specific details of a CAD without the use of a graphical tool, also ambiguity problems disappear as the terms used on the semantic model are based on a controlled vocabulary derived from an ontology.', 'authors': '[{\"name\":\"Nestor Velasco Bermeo\",\"org\":\"Computer Science Department, ITESM Campus Estado de MÃ©xico, MÃ©xico\"},{\"name\":\"Miguel GonzÃ¡lez Mendoza\",\"org\":\"Computer Science Department, ITESM Campus Estado de MÃ©xico, MÃ©xico\"},{\"name\":\"Alexander GarcÃ\\xada Castro\",\"org\":\"Florida State University\"},{\"name\":\"Irais Heras DueÃ±as\",\"org\":\"Design and Technology Innovation Center, ITESM Campus Monterrey, MÃ©xico\"}]', 'isbn': 'nan', 'issn': 'nan', 'issue': 'nan', 'keywords': '[\"knowledge loss\",\"controlled vocabulary\",\"computer-aided designs\",\"contents specific detail\",\"ambiguity problem\",\"clear example\",\"semantic model\",\"biggest problem\",\"computer-aided design\",\"clear effect\",\"valuable knowledge\",\"ontologies\",\"computer aided design\",\"cad\"]', 'lang': 'en', 'n_citation': nan, 'page_end': '310', 'page_start': '298', 'pdf': 'nan', 'references': '[\"53e999adb7602d97021ef896\",\"53e99ce0b7602d9702597808\",\"53e9af61b7602d97039a1a3e\",\"53e99b56b7602d97023f7db1\",\"56d913f5dabfae2eee4d5abd\",\"53e9a5e2b7602d9702f0f103\",\"53e9baf2b7602d9704724010\",\"53e9bce8b7602d970496c517\",\"55323bdc45cec66b6f9dabfc\",\"56d8b6dadabfae2eee0f2cd3\",\"53e9b2d1b7602d9703d7d92f\",\"53e9b4bfb7602d9703fdb2db\"]', 'title': 'Towards the creation of semantic models based on computer-aided designs', 'url': '[\"http://dx.doi.org/10.1007/978-3-642-37807-2_26\"]', 'venue': 'MICAI', 'volume': 'nan', 'year': 2012.0}\n"
     ]
    }
   ],
   "source": [
    "for i, item in enumerate(MD.client.journals.aminer_mag_papers.find()):\n",
    "    print(item)\n",
    "    if i >4:\n",
    "        break"
   ]
  },
  {
   "cell_type": "code",
   "execution_count": 216,
   "metadata": {
    "collapsed": true,
    "jupyter": {
     "outputs_hidden": true
    }
   },
   "outputs": [
    {
     "data": {
      "text/html": [
       "<pre>Finished parsing file /storage/homedir/dima/Projects/ScienceDynamics/examples/data2.csv</pre>"
      ],
      "text/plain": [
       "Finished parsing file /storage/homedir/dima/Projects/ScienceDynamics/examples/data2.csv"
      ]
     },
     "metadata": {},
     "output_type": "display_data"
    },
    {
     "data": {
      "text/html": [
       "<pre>Parsing completed. Parsed 100 lines in 0.197279 secs.</pre>"
      ],
      "text/plain": [
       "Parsing completed. Parsed 100 lines in 0.197279 secs."
      ]
     },
     "metadata": {},
     "output_type": "display_data"
    },
    {
     "name": "stdout",
     "output_type": "stream",
     "text": [
      "------------------------------------------------------\n",
      "Inferred types from first 100 line(s) of file as \n",
      "column_type_hints=[int,str,str,str,int,str,str,str,str,str,str,int,int,dict,dict,list,float,list,list,list,list,list,list,list,list,list,list,list,list,str,list,str,str,str,str,list,str,float,int,int,str,list,str,list,str,str,float]\n",
      "If parsing fails due to incorrect types, you can correct\n",
      "the inferred type list above and pass it to read_csv in\n",
      "the column_type_hints argument\n",
      "------------------------------------------------------\n"
     ]
    },
    {
     "data": {
      "text/html": [
       "<pre>Unable to parse line \"2816,788F5CEE,The design and the development of the PKM based on the Android platform,the design and the development of the pkm based on the android platform,2010,2010/10,10.1109/ICINA.2010.5636964,international conference on information networking,icoin,,...\"</pre>"
      ],
      "text/plain": [
       "Unable to parse line \"2816,788F5CEE,The design and the development of the PKM based on the Android platform,the design and the development of the pkm based on the android platform,2010,2010/10,10.1109/ICINA.2010.5636964,international conference on information networking,icoin,,...\""
      ]
     },
     "metadata": {},
     "output_type": "display_data"
    },
    {
     "data": {
      "text/html": [
       "<pre>Unable to parse line \"2708,787207D6,\"Comparison of PCA, LDA and GDA for palmprint verification\",comparison of pca lda and gda for palmprint verification,2010,2010/10,10.1109/ICINA.2010.5636417,international conference on information networking,icoin,,43F6AF91,19555,0,,,\"[\"\"7F92...\"</pre>"
      ],
      "text/plain": [
       "Unable to parse line \"2708,787207D6,\"Comparison of PCA, LDA and GDA for palmprint verification\",comparison of pca lda and gda for palmprint verification,2010,2010/10,10.1109/ICINA.2010.5636417,international conference on information networking,icoin,,43F6AF91,19555,0,,,\"[\"\"7F92...\""
      ]
     },
     "metadata": {},
     "output_type": "display_data"
    },
    {
     "data": {
      "text/html": [
       "<pre>Unable to parse line \"3255,78C54FD2,The detection algorithm research of random contrary color object Based on image processing,the detection algorithm research of random contrary color object based on image processing,2010,2010/10,10.1109/ICINA.2010.5636471,international confer...\"</pre>"
      ],
      "text/plain": [
       "Unable to parse line \"3255,78C54FD2,The detection algorithm research of random contrary color object Based on image processing,the detection algorithm research of random contrary color object based on image processing,2010,2010/10,10.1109/ICINA.2010.5636471,international confer...\""
      ]
     },
     "metadata": {},
     "output_type": "display_data"
    },
    {
     "data": {
      "text/html": [
       "<pre>Unable to parse line \"3698,7A46999A,The study of focusing resolution with time reversal mirror in underwater acoustics,the study of focusing resolution with time reversal mirror in underwater acoustics,2010,2010/10,10.1109/ICINA.2010.5636465,international conference on informat...\"</pre>"
      ],
      "text/plain": [
       "Unable to parse line \"3698,7A46999A,The study of focusing resolution with time reversal mirror in underwater acoustics,the study of focusing resolution with time reversal mirror in underwater acoustics,2010,2010/10,10.1109/ICINA.2010.5636465,international conference on informat...\""
      ]
     },
     "metadata": {},
     "output_type": "display_data"
    },
    {
     "data": {
      "text/html": [
       "<pre>Unable to parse line \"3140,7C67E96B,Simulation of fan coil based on fuzzy control in solar heating fresh air system,simulation of fan coil based on fuzzy control in solar heating fresh air system,2010,2010/10,10.1109/ICINA.2010.5636510,international conference on information ne...\"</pre>"
      ],
      "text/plain": [
       "Unable to parse line \"3140,7C67E96B,Simulation of fan coil based on fuzzy control in solar heating fresh air system,simulation of fan coil based on fuzzy control in solar heating fresh air system,2010,2010/10,10.1109/ICINA.2010.5636510,international conference on information ne...\""
      ]
     },
     "metadata": {},
     "output_type": "display_data"
    },
    {
     "data": {
      "text/html": [
       "<pre>Unable to parse line \"3805,7AB37165,An adaptive motion estimation algorithm based on mutual information for depth information estimation,an adaptive motion estimation algorithm based on mutual information for depth information estimation,2010,2010/10,10.1109/ICINA.2010.5636386,...\"</pre>"
      ],
      "text/plain": [
       "Unable to parse line \"3805,7AB37165,An adaptive motion estimation algorithm based on mutual information for depth information estimation,an adaptive motion estimation algorithm based on mutual information for depth information estimation,2010,2010/10,10.1109/ICINA.2010.5636386,...\""
      ]
     },
     "metadata": {},
     "output_type": "display_data"
    },
    {
     "data": {
      "text/html": [
       "<pre>Unable to parse line \"3919,75B782A2,An improved KNN algorithm for text classification,an improved knn algorithm for text classification,2010,2010/10,10.1109/ICINA.2010.5636476,international conference on information networking,icoin,,43F6AF91,17401,0,\"{\"\"2011\"\":1,\"\"2012\"\":1,\"\"2...\"</pre>"
      ],
      "text/plain": [
       "Unable to parse line \"3919,75B782A2,An improved KNN algorithm for text classification,an improved knn algorithm for text classification,2010,2010/10,10.1109/ICINA.2010.5636476,international conference on information networking,icoin,,43F6AF91,17401,0,\"{\"\"2011\"\":1,\"\"2012\"\":1,\"\"2...\""
      ]
     },
     "metadata": {},
     "output_type": "display_data"
    },
    {
     "data": {
      "text/html": [
       "<pre>Unable to parse line \"3591,7CB85A21,Design and implementation of stateful packet inspection firewall based on ForCES architecture,design and implementation of stateful packet inspection firewall based on forces architecture,2010,2010/10,10.1109/ICINA.2010.5636423,international ...\"</pre>"
      ],
      "text/plain": [
       "Unable to parse line \"3591,7CB85A21,Design and implementation of stateful packet inspection firewall based on ForCES architecture,design and implementation of stateful packet inspection firewall based on forces architecture,2010,2010/10,10.1109/ICINA.2010.5636423,international ...\""
      ]
     },
     "metadata": {},
     "output_type": "display_data"
    },
    {
     "data": {
      "text/html": [
       "<pre>Unable to parse line \"3033,76AC6CE6,Increasing WSN lifetime by using learning automata for optimal route selection,increasing wsn lifetime by using learning automata for optimal route selection,2010,2010/10,10.1109/ICINA.2010.5636403,international conference on information netw...\"</pre>"
      ],
      "text/plain": [
       "Unable to parse line \"3033,76AC6CE6,Increasing WSN lifetime by using learning automata for optimal route selection,increasing wsn lifetime by using learning automata for optimal route selection,2010,2010/10,10.1109/ICINA.2010.5636403,international conference on information netw...\""
      ]
     },
     "metadata": {},
     "output_type": "display_data"
    },
    {
     "data": {
      "text/html": [
       "<pre>Unable to parse line \"3810,77487FC7,Maneuvering object tracking under large-area occlusive condition using mean shift embedded IMM filter,maneuvering object tracking under large area occlusive condition using mean shift embedded imm filter,2010,2010/10,10.1109/ICINA.2010.563678...\"</pre>"
      ],
      "text/plain": [
       "Unable to parse line \"3810,77487FC7,Maneuvering object tracking under large-area occlusive condition using mean shift embedded IMM filter,maneuvering object tracking under large area occlusive condition using mean shift embedded imm filter,2010,2010/10,10.1109/ICINA.2010.563678...\""
      ]
     },
     "metadata": {},
     "output_type": "display_data"
    },
    {
     "data": {
      "text/html": [
       "<pre>Unable to parse line \"2923,7585D249,Alignment strategies and frameworks in co-evolution of business and information technology,alignment strategies and frameworks in co evolution of business and information technology,2010,2010/10,10.1109/ICINA.2010.5636418,international confer...\"</pre>"
      ],
      "text/plain": [
       "Unable to parse line \"2923,7585D249,Alignment strategies and frameworks in co-evolution of business and information technology,alignment strategies and frameworks in co evolution of business and information technology,2010,2010/10,10.1109/ICINA.2010.5636418,international confer...\""
      ]
     },
     "metadata": {},
     "output_type": "display_data"
    },
    {
     "data": {
      "text/html": [
       "<pre>Read 14042 lines. Lines per second: 21145.6</pre>"
      ],
      "text/plain": [
       "Read 14042 lines. Lines per second: 21145.6"
      ]
     },
     "metadata": {},
     "output_type": "display_data"
    },
    {
     "data": {
      "text/html": [
       "<pre>Read 112229 lines. Lines per second: 19030.3</pre>"
      ],
      "text/plain": [
       "Read 112229 lines. Lines per second: 19030.3"
      ]
     },
     "metadata": {},
     "output_type": "display_data"
    },
    {
     "data": {
      "text/html": [
       "<pre>Read 187123 lines. Lines per second: 17158.8</pre>"
      ],
      "text/plain": [
       "Read 187123 lines. Lines per second: 17158.8"
      ]
     },
     "metadata": {},
     "output_type": "display_data"
    },
    {
     "data": {
      "text/html": [
       "<pre>Read 281765 lines. Lines per second: 16757.3</pre>"
      ],
      "text/plain": [
       "Read 281765 lines. Lines per second: 16757.3"
      ]
     },
     "metadata": {},
     "output_type": "display_data"
    },
    {
     "data": {
      "text/html": [
       "<pre>Read 358792 lines. Lines per second: 16230.8</pre>"
      ],
      "text/plain": [
       "Read 358792 lines. Lines per second: 16230.8"
      ]
     },
     "metadata": {},
     "output_type": "display_data"
    },
    {
     "data": {
      "text/html": [
       "<pre>Read 444484 lines. Lines per second: 15984.8</pre>"
      ],
      "text/plain": [
       "Read 444484 lines. Lines per second: 15984.8"
      ]
     },
     "metadata": {},
     "output_type": "display_data"
    },
    {
     "data": {
      "text/html": [
       "<pre>Read 520536 lines. Lines per second: 15650.1</pre>"
      ],
      "text/plain": [
       "Read 520536 lines. Lines per second: 15650.1"
      ]
     },
     "metadata": {},
     "output_type": "display_data"
    },
    {
     "data": {
      "text/html": [
       "<pre>Read 598880 lines. Lines per second: 15623</pre>"
      ],
      "text/plain": [
       "Read 598880 lines. Lines per second: 15623"
      ]
     },
     "metadata": {},
     "output_type": "display_data"
    },
    {
     "data": {
      "text/html": [
       "<pre>Read 665828 lines. Lines per second: 15212</pre>"
      ],
      "text/plain": [
       "Read 665828 lines. Lines per second: 15212"
      ]
     },
     "metadata": {},
     "output_type": "display_data"
    },
    {
     "data": {
      "text/html": [
       "<pre>Read 748866 lines. Lines per second: 15285.4</pre>"
      ],
      "text/plain": [
       "Read 748866 lines. Lines per second: 15285.4"
      ]
     },
     "metadata": {},
     "output_type": "display_data"
    },
    {
     "data": {
      "text/html": [
       "<pre>Read 837522 lines. Lines per second: 15443.9</pre>"
      ],
      "text/plain": [
       "Read 837522 lines. Lines per second: 15443.9"
      ]
     },
     "metadata": {},
     "output_type": "display_data"
    },
    {
     "data": {
      "text/html": [
       "<pre>Read 929602 lines. Lines per second: 15517.3</pre>"
      ],
      "text/plain": [
       "Read 929602 lines. Lines per second: 15517.3"
      ]
     },
     "metadata": {},
     "output_type": "display_data"
    },
    {
     "data": {
      "text/html": [
       "<pre>Read 1037532 lines. Lines per second: 15837.5</pre>"
      ],
      "text/plain": [
       "Read 1037532 lines. Lines per second: 15837.5"
      ]
     },
     "metadata": {},
     "output_type": "display_data"
    },
    {
     "data": {
      "text/html": [
       "<pre>Read 1128948 lines. Lines per second: 15939.4</pre>"
      ],
      "text/plain": [
       "Read 1128948 lines. Lines per second: 15939.4"
      ]
     },
     "metadata": {},
     "output_type": "display_data"
    },
    {
     "data": {
      "text/html": [
       "<pre>Read 1195006 lines. Lines per second: 15757.6</pre>"
      ],
      "text/plain": [
       "Read 1195006 lines. Lines per second: 15757.6"
      ]
     },
     "metadata": {},
     "output_type": "display_data"
    },
    {
     "data": {
      "text/html": [
       "<pre>Read 1301531 lines. Lines per second: 15938.8</pre>"
      ],
      "text/plain": [
       "Read 1301531 lines. Lines per second: 15938.8"
      ]
     },
     "metadata": {},
     "output_type": "display_data"
    },
    {
     "data": {
      "text/html": [
       "<pre>Read 1387277 lines. Lines per second: 15976.4</pre>"
      ],
      "text/plain": [
       "Read 1387277 lines. Lines per second: 15976.4"
      ]
     },
     "metadata": {},
     "output_type": "display_data"
    },
    {
     "data": {
      "text/html": [
       "<pre>Read 1460906 lines. Lines per second: 15898</pre>"
      ],
      "text/plain": [
       "Read 1460906 lines. Lines per second: 15898"
      ]
     },
     "metadata": {},
     "output_type": "display_data"
    },
    {
     "data": {
      "text/html": [
       "<pre>Read 1582180 lines. Lines per second: 16304.9</pre>"
      ],
      "text/plain": [
       "Read 1582180 lines. Lines per second: 16304.9"
      ]
     },
     "metadata": {},
     "output_type": "display_data"
    },
    {
     "data": {
      "text/html": [
       "<pre>Read 1690177 lines. Lines per second: 16476.4</pre>"
      ],
      "text/plain": [
       "Read 1690177 lines. Lines per second: 16476.4"
      ]
     },
     "metadata": {},
     "output_type": "display_data"
    },
    {
     "data": {
      "text/html": [
       "<pre>Read 1778136 lines. Lines per second: 16411.6</pre>"
      ],
      "text/plain": [
       "Read 1778136 lines. Lines per second: 16411.6"
      ]
     },
     "metadata": {},
     "output_type": "display_data"
    },
    {
     "data": {
      "text/html": [
       "<pre>Read 1884241 lines. Lines per second: 16567.1</pre>"
      ],
      "text/plain": [
       "Read 1884241 lines. Lines per second: 16567.1"
      ]
     },
     "metadata": {},
     "output_type": "display_data"
    },
    {
     "data": {
      "text/html": [
       "<pre>Read 1986372 lines. Lines per second: 16586.4</pre>"
      ],
      "text/plain": [
       "Read 1986372 lines. Lines per second: 16586.4"
      ]
     },
     "metadata": {},
     "output_type": "display_data"
    },
    {
     "data": {
      "text/html": [
       "<pre>Read 2074602 lines. Lines per second: 16549.6</pre>"
      ],
      "text/plain": [
       "Read 2074602 lines. Lines per second: 16549.6"
      ]
     },
     "metadata": {},
     "output_type": "display_data"
    },
    {
     "data": {
      "text/html": [
       "<pre>Read 2173097 lines. Lines per second: 16592.4</pre>"
      ],
      "text/plain": [
       "Read 2173097 lines. Lines per second: 16592.4"
      ]
     },
     "metadata": {},
     "output_type": "display_data"
    },
    {
     "data": {
      "text/html": [
       "<pre>Read 2243517 lines. Lines per second: 16422.1</pre>"
      ],
      "text/plain": [
       "Read 2243517 lines. Lines per second: 16422.1"
      ]
     },
     "metadata": {},
     "output_type": "display_data"
    },
    {
     "data": {
      "text/html": [
       "<pre>Read 2349361 lines. Lines per second: 16536.3</pre>"
      ],
      "text/plain": [
       "Read 2349361 lines. Lines per second: 16536.3"
      ]
     },
     "metadata": {},
     "output_type": "display_data"
    },
    {
     "data": {
      "text/html": [
       "<pre>Read 2472747 lines. Lines per second: 16780.7</pre>"
      ],
      "text/plain": [
       "Read 2472747 lines. Lines per second: 16780.7"
      ]
     },
     "metadata": {},
     "output_type": "display_data"
    },
    {
     "data": {
      "text/html": [
       "<pre>Read 2598924 lines. Lines per second: 16991</pre>"
      ],
      "text/plain": [
       "Read 2598924 lines. Lines per second: 16991"
      ]
     },
     "metadata": {},
     "output_type": "display_data"
    },
    {
     "data": {
      "text/html": [
       "<pre>Read 2730534 lines. Lines per second: 17238.4</pre>"
      ],
      "text/plain": [
       "Read 2730534 lines. Lines per second: 17238.4"
      ]
     },
     "metadata": {},
     "output_type": "display_data"
    },
    {
     "data": {
      "text/html": [
       "<pre>Read 2846449 lines. Lines per second: 17365.1</pre>"
      ],
      "text/plain": [
       "Read 2846449 lines. Lines per second: 17365.1"
      ]
     },
     "metadata": {},
     "output_type": "display_data"
    },
    {
     "data": {
      "text/html": [
       "<pre>Read 2973285 lines. Lines per second: 17539</pre>"
      ],
      "text/plain": [
       "Read 2973285 lines. Lines per second: 17539"
      ]
     },
     "metadata": {},
     "output_type": "display_data"
    },
    {
     "data": {
      "text/html": [
       "<pre>Read 3088360 lines. Lines per second: 17659.6</pre>"
      ],
      "text/plain": [
       "Read 3088360 lines. Lines per second: 17659.6"
      ]
     },
     "metadata": {},
     "output_type": "display_data"
    },
    {
     "data": {
      "text/html": [
       "<pre>Read 3212255 lines. Lines per second: 17795.2</pre>"
      ],
      "text/plain": [
       "Read 3212255 lines. Lines per second: 17795.2"
      ]
     },
     "metadata": {},
     "output_type": "display_data"
    },
    {
     "data": {
      "text/html": [
       "<pre>Read 3316051 lines. Lines per second: 17868</pre>"
      ],
      "text/plain": [
       "Read 3316051 lines. Lines per second: 17868"
      ]
     },
     "metadata": {},
     "output_type": "display_data"
    },
    {
     "data": {
      "text/html": [
       "<pre>Read 3465962 lines. Lines per second: 18176.3</pre>"
      ],
      "text/plain": [
       "Read 3465962 lines. Lines per second: 18176.3"
      ]
     },
     "metadata": {},
     "output_type": "display_data"
    },
    {
     "data": {
      "text/html": [
       "<pre>Read 3589646 lines. Lines per second: 18295.1</pre>"
      ],
      "text/plain": [
       "Read 3589646 lines. Lines per second: 18295.1"
      ]
     },
     "metadata": {},
     "output_type": "display_data"
    },
    {
     "data": {
      "text/html": [
       "<pre>Read 3707887 lines. Lines per second: 18425.7</pre>"
      ],
      "text/plain": [
       "Read 3707887 lines. Lines per second: 18425.7"
      ]
     },
     "metadata": {},
     "output_type": "display_data"
    },
    {
     "data": {
      "text/html": [
       "<pre>Read 3787592 lines. Lines per second: 18362.6</pre>"
      ],
      "text/plain": [
       "Read 3787592 lines. Lines per second: 18362.6"
      ]
     },
     "metadata": {},
     "output_type": "display_data"
    },
    {
     "data": {
      "text/html": [
       "<pre>Read 3914750 lines. Lines per second: 18503.8</pre>"
      ],
      "text/plain": [
       "Read 3914750 lines. Lines per second: 18503.8"
      ]
     },
     "metadata": {},
     "output_type": "display_data"
    },
    {
     "data": {
      "text/html": [
       "<pre>Read 4027723 lines. Lines per second: 18535.1</pre>"
      ],
      "text/plain": [
       "Read 4027723 lines. Lines per second: 18535.1"
      ]
     },
     "metadata": {},
     "output_type": "display_data"
    },
    {
     "data": {
      "text/html": [
       "<pre>Read 4135782 lines. Lines per second: 18604.2</pre>"
      ],
      "text/plain": [
       "Read 4135782 lines. Lines per second: 18604.2"
      ]
     },
     "metadata": {},
     "output_type": "display_data"
    },
    {
     "data": {
      "text/html": [
       "<pre>Read 4254585 lines. Lines per second: 18694.6</pre>"
      ],
      "text/plain": [
       "Read 4254585 lines. Lines per second: 18694.6"
      ]
     },
     "metadata": {},
     "output_type": "display_data"
    },
    {
     "data": {
      "text/html": [
       "<pre>Read 4343211 lines. Lines per second: 18657.8</pre>"
      ],
      "text/plain": [
       "Read 4343211 lines. Lines per second: 18657.8"
      ]
     },
     "metadata": {},
     "output_type": "display_data"
    },
    {
     "data": {
      "text/html": [
       "<pre>Read 4482067 lines. Lines per second: 18797.4</pre>"
      ],
      "text/plain": [
       "Read 4482067 lines. Lines per second: 18797.4"
      ]
     },
     "metadata": {},
     "output_type": "display_data"
    },
    {
     "data": {
      "text/html": [
       "<pre>Read 4605425 lines. Lines per second: 18852.2</pre>"
      ],
      "text/plain": [
       "Read 4605425 lines. Lines per second: 18852.2"
      ]
     },
     "metadata": {},
     "output_type": "display_data"
    },
    {
     "data": {
      "text/html": [
       "<pre>Read 4743513 lines. Lines per second: 19018.6</pre>"
      ],
      "text/plain": [
       "Read 4743513 lines. Lines per second: 19018.6"
      ]
     },
     "metadata": {},
     "output_type": "display_data"
    },
    {
     "data": {
      "text/html": [
       "<pre>Read 4865610 lines. Lines per second: 19084.5</pre>"
      ],
      "text/plain": [
       "Read 4865610 lines. Lines per second: 19084.5"
      ]
     },
     "metadata": {},
     "output_type": "display_data"
    },
    {
     "data": {
      "text/html": [
       "<pre>Read 4993669 lines. Lines per second: 19199.8</pre>"
      ],
      "text/plain": [
       "Read 4993669 lines. Lines per second: 19199.8"
      ]
     },
     "metadata": {},
     "output_type": "display_data"
    },
    {
     "data": {
      "text/html": [
       "<pre>Read 5122365 lines. Lines per second: 19242.8</pre>"
      ],
      "text/plain": [
       "Read 5122365 lines. Lines per second: 19242.8"
      ]
     },
     "metadata": {},
     "output_type": "display_data"
    },
    {
     "data": {
      "text/html": [
       "<pre>Read 5262310 lines. Lines per second: 19356.3</pre>"
      ],
      "text/plain": [
       "Read 5262310 lines. Lines per second: 19356.3"
      ]
     },
     "metadata": {},
     "output_type": "display_data"
    },
    {
     "data": {
      "text/html": [
       "<pre>Read 5380620 lines. Lines per second: 19419.9</pre>"
      ],
      "text/plain": [
       "Read 5380620 lines. Lines per second: 19419.9"
      ]
     },
     "metadata": {},
     "output_type": "display_data"
    },
    {
     "data": {
      "text/html": [
       "<pre>Read 5493475 lines. Lines per second: 19480.6</pre>"
      ],
      "text/plain": [
       "Read 5493475 lines. Lines per second: 19480.6"
      ]
     },
     "metadata": {},
     "output_type": "display_data"
    },
    {
     "data": {
      "text/html": [
       "<pre>Read 5624354 lines. Lines per second: 19548.4</pre>"
      ],
      "text/plain": [
       "Read 5624354 lines. Lines per second: 19548.4"
      ]
     },
     "metadata": {},
     "output_type": "display_data"
    },
    {
     "data": {
      "text/html": [
       "<pre>Read 5742981 lines. Lines per second: 19586.8</pre>"
      ],
      "text/plain": [
       "Read 5742981 lines. Lines per second: 19586.8"
      ]
     },
     "metadata": {},
     "output_type": "display_data"
    },
    {
     "data": {
      "text/html": [
       "<pre>Read 5864612 lines. Lines per second: 19639.3</pre>"
      ],
      "text/plain": [
       "Read 5864612 lines. Lines per second: 19639.3"
      ]
     },
     "metadata": {},
     "output_type": "display_data"
    },
    {
     "data": {
      "text/html": [
       "<pre>Read 5966714 lines. Lines per second: 19636.9</pre>"
      ],
      "text/plain": [
       "Read 5966714 lines. Lines per second: 19636.9"
      ]
     },
     "metadata": {},
     "output_type": "display_data"
    },
    {
     "data": {
      "text/html": [
       "<pre>Read 6094762 lines. Lines per second: 19730</pre>"
      ],
      "text/plain": [
       "Read 6094762 lines. Lines per second: 19730"
      ]
     },
     "metadata": {},
     "output_type": "display_data"
    },
    {
     "data": {
      "text/html": [
       "<pre>Read 6202478 lines. Lines per second: 19727</pre>"
      ],
      "text/plain": [
       "Read 6202478 lines. Lines per second: 19727"
      ]
     },
     "metadata": {},
     "output_type": "display_data"
    },
    {
     "data": {
      "text/html": [
       "<pre>Read 6362203 lines. Lines per second: 19872.5</pre>"
      ],
      "text/plain": [
       "Read 6362203 lines. Lines per second: 19872.5"
      ]
     },
     "metadata": {},
     "output_type": "display_data"
    },
    {
     "data": {
      "text/html": [
       "<pre>Read 6480137 lines. Lines per second: 19897.5</pre>"
      ],
      "text/plain": [
       "Read 6480137 lines. Lines per second: 19897.5"
      ]
     },
     "metadata": {},
     "output_type": "display_data"
    },
    {
     "data": {
      "text/html": [
       "<pre>Read 6608652 lines. Lines per second: 19986.7</pre>"
      ],
      "text/plain": [
       "Read 6608652 lines. Lines per second: 19986.7"
      ]
     },
     "metadata": {},
     "output_type": "display_data"
    },
    {
     "data": {
      "text/html": [
       "<pre>Read 6738375 lines. Lines per second: 20057.1</pre>"
      ],
      "text/plain": [
       "Read 6738375 lines. Lines per second: 20057.1"
      ]
     },
     "metadata": {},
     "output_type": "display_data"
    },
    {
     "data": {
      "text/html": [
       "<pre>Read 6876436 lines. Lines per second: 20151.3</pre>"
      ],
      "text/plain": [
       "Read 6876436 lines. Lines per second: 20151.3"
      ]
     },
     "metadata": {},
     "output_type": "display_data"
    },
    {
     "data": {
      "text/html": [
       "<pre>Read 6991006 lines. Lines per second: 20159.4</pre>"
      ],
      "text/plain": [
       "Read 6991006 lines. Lines per second: 20159.4"
      ]
     },
     "metadata": {},
     "output_type": "display_data"
    },
    {
     "data": {
      "text/html": [
       "<pre>Read 7143480 lines. Lines per second: 20261.1</pre>"
      ],
      "text/plain": [
       "Read 7143480 lines. Lines per second: 20261.1"
      ]
     },
     "metadata": {},
     "output_type": "display_data"
    },
    {
     "data": {
      "text/html": [
       "<pre>Read 7243583 lines. Lines per second: 20224.8</pre>"
      ],
      "text/plain": [
       "Read 7243583 lines. Lines per second: 20224.8"
      ]
     },
     "metadata": {},
     "output_type": "display_data"
    },
    {
     "data": {
      "text/html": [
       "<pre>Read 7364621 lines. Lines per second: 20280.9</pre>"
      ],
      "text/plain": [
       "Read 7364621 lines. Lines per second: 20280.9"
      ]
     },
     "metadata": {},
     "output_type": "display_data"
    },
    {
     "data": {
      "text/html": [
       "<pre>Read 7480519 lines. Lines per second: 20281</pre>"
      ],
      "text/plain": [
       "Read 7480519 lines. Lines per second: 20281"
      ]
     },
     "metadata": {},
     "output_type": "display_data"
    },
    {
     "data": {
      "text/html": [
       "<pre>Read 7626373 lines. Lines per second: 20361.3</pre>"
      ],
      "text/plain": [
       "Read 7626373 lines. Lines per second: 20361.3"
      ]
     },
     "metadata": {},
     "output_type": "display_data"
    },
    {
     "data": {
      "text/html": [
       "<pre>Read 7796962 lines. Lines per second: 20508.9</pre>"
      ],
      "text/plain": [
       "Read 7796962 lines. Lines per second: 20508.9"
      ]
     },
     "metadata": {},
     "output_type": "display_data"
    },
    {
     "data": {
      "text/html": [
       "<pre>Read 7939195 lines. Lines per second: 20604.2</pre>"
      ],
      "text/plain": [
       "Read 7939195 lines. Lines per second: 20604.2"
      ]
     },
     "metadata": {},
     "output_type": "display_data"
    },
    {
     "data": {
      "text/html": [
       "<pre>Read 8052663 lines. Lines per second: 20626</pre>"
      ],
      "text/plain": [
       "Read 8052663 lines. Lines per second: 20626"
      ]
     },
     "metadata": {},
     "output_type": "display_data"
    },
    {
     "data": {
      "text/html": [
       "<pre>Read 8195109 lines. Lines per second: 20697.2</pre>"
      ],
      "text/plain": [
       "Read 8195109 lines. Lines per second: 20697.2"
      ]
     },
     "metadata": {},
     "output_type": "display_data"
    },
    {
     "data": {
      "text/html": [
       "<pre>Read 8308927 lines. Lines per second: 20695.6</pre>"
      ],
      "text/plain": [
       "Read 8308927 lines. Lines per second: 20695.6"
      ]
     },
     "metadata": {},
     "output_type": "display_data"
    },
    {
     "data": {
      "text/html": [
       "<pre>Read 8450260 lines. Lines per second: 20771.7</pre>"
      ],
      "text/plain": [
       "Read 8450260 lines. Lines per second: 20771.7"
      ]
     },
     "metadata": {},
     "output_type": "display_data"
    },
    {
     "data": {
      "text/html": [
       "<pre>Read 8564050 lines. Lines per second: 20792.9</pre>"
      ],
      "text/plain": [
       "Read 8564050 lines. Lines per second: 20792.9"
      ]
     },
     "metadata": {},
     "output_type": "display_data"
    },
    {
     "data": {
      "text/html": [
       "<pre>Read 8706222 lines. Lines per second: 20865.3</pre>"
      ],
      "text/plain": [
       "Read 8706222 lines. Lines per second: 20865.3"
      ]
     },
     "metadata": {},
     "output_type": "display_data"
    },
    {
     "data": {
      "text/html": [
       "<pre>Read 8818974 lines. Lines per second: 20880.3</pre>"
      ],
      "text/plain": [
       "Read 8818974 lines. Lines per second: 20880.3"
      ]
     },
     "metadata": {},
     "output_type": "display_data"
    },
    {
     "data": {
      "text/html": [
       "<pre>Read 8960633 lines. Lines per second: 20956.4</pre>"
      ],
      "text/plain": [
       "Read 8960633 lines. Lines per second: 20956.4"
      ]
     },
     "metadata": {},
     "output_type": "display_data"
    },
    {
     "data": {
      "text/html": [
       "<pre>Read 9074166 lines. Lines per second: 20970.7</pre>"
      ],
      "text/plain": [
       "Read 9074166 lines. Lines per second: 20970.7"
      ]
     },
     "metadata": {},
     "output_type": "display_data"
    },
    {
     "data": {
      "text/html": [
       "<pre>Read 9216032 lines. Lines per second: 21035.2</pre>"
      ],
      "text/plain": [
       "Read 9216032 lines. Lines per second: 21035.2"
      ]
     },
     "metadata": {},
     "output_type": "display_data"
    },
    {
     "data": {
      "text/html": [
       "<pre>Read 9329743 lines. Lines per second: 21053.6</pre>"
      ],
      "text/plain": [
       "Read 9329743 lines. Lines per second: 21053.6"
      ]
     },
     "metadata": {},
     "output_type": "display_data"
    },
    {
     "data": {
      "text/html": [
       "<pre>Read 9472038 lines. Lines per second: 21109.5</pre>"
      ],
      "text/plain": [
       "Read 9472038 lines. Lines per second: 21109.5"
      ]
     },
     "metadata": {},
     "output_type": "display_data"
    },
    {
     "data": {
      "text/html": [
       "<pre>Read 9585633 lines. Lines per second: 21114</pre>"
      ],
      "text/plain": [
       "Read 9585633 lines. Lines per second: 21114"
      ]
     },
     "metadata": {},
     "output_type": "display_data"
    },
    {
     "data": {
      "text/html": [
       "<pre>Read 9727016 lines. Lines per second: 21179.3</pre>"
      ],
      "text/plain": [
       "Read 9727016 lines. Lines per second: 21179.3"
      ]
     },
     "metadata": {},
     "output_type": "display_data"
    },
    {
     "data": {
      "text/html": [
       "<pre>Read 9840754 lines. Lines per second: 21188.8</pre>"
      ],
      "text/plain": [
       "Read 9840754 lines. Lines per second: 21188.8"
      ]
     },
     "metadata": {},
     "output_type": "display_data"
    },
    {
     "data": {
      "text/html": [
       "<pre>Read 9982329 lines. Lines per second: 21250.5</pre>"
      ],
      "text/plain": [
       "Read 9982329 lines. Lines per second: 21250.5"
      ]
     },
     "metadata": {},
     "output_type": "display_data"
    },
    {
     "data": {
      "text/html": [
       "<pre>Read 10124842 lines. Lines per second: 21277.5</pre>"
      ],
      "text/plain": [
       "Read 10124842 lines. Lines per second: 21277.5"
      ]
     },
     "metadata": {},
     "output_type": "display_data"
    },
    {
     "data": {
      "text/html": [
       "<pre>Read 10266956 lines. Lines per second: 21334.7</pre>"
      ],
      "text/plain": [
       "Read 10266956 lines. Lines per second: 21334.7"
      ]
     },
     "metadata": {},
     "output_type": "display_data"
    },
    {
     "data": {
      "text/html": [
       "<pre>Read 10380937 lines. Lines per second: 21345.5</pre>"
      ],
      "text/plain": [
       "Read 10380937 lines. Lines per second: 21345.5"
      ]
     },
     "metadata": {},
     "output_type": "display_data"
    },
    {
     "data": {
      "text/html": [
       "<pre>Read 10523456 lines. Lines per second: 21403.5</pre>"
      ],
      "text/plain": [
       "Read 10523456 lines. Lines per second: 21403.5"
      ]
     },
     "metadata": {},
     "output_type": "display_data"
    },
    {
     "data": {
      "text/html": [
       "<pre>Read 10637444 lines. Lines per second: 21407.5</pre>"
      ],
      "text/plain": [
       "Read 10637444 lines. Lines per second: 21407.5"
      ]
     },
     "metadata": {},
     "output_type": "display_data"
    },
    {
     "data": {
      "text/html": [
       "<pre>Read 10779323 lines. Lines per second: 21460.7</pre>"
      ],
      "text/plain": [
       "Read 10779323 lines. Lines per second: 21460.7"
      ]
     },
     "metadata": {},
     "output_type": "display_data"
    },
    {
     "data": {
      "text/html": [
       "<pre>Read 10892564 lines. Lines per second: 21459.2</pre>"
      ],
      "text/plain": [
       "Read 10892564 lines. Lines per second: 21459.2"
      ]
     },
     "metadata": {},
     "output_type": "display_data"
    },
    {
     "data": {
      "text/html": [
       "<pre>Read 11035009 lines. Lines per second: 21517.7</pre>"
      ],
      "text/plain": [
       "Read 11035009 lines. Lines per second: 21517.7"
      ]
     },
     "metadata": {},
     "output_type": "display_data"
    },
    {
     "data": {
      "text/html": [
       "<pre>Read 11148946 lines. Lines per second: 21523.8</pre>"
      ],
      "text/plain": [
       "Read 11148946 lines. Lines per second: 21523.8"
      ]
     },
     "metadata": {},
     "output_type": "display_data"
    },
    {
     "data": {
      "text/html": [
       "<pre>Read 11290593 lines. Lines per second: 21566.8</pre>"
      ],
      "text/plain": [
       "Read 11290593 lines. Lines per second: 21566.8"
      ]
     },
     "metadata": {},
     "output_type": "display_data"
    },
    {
     "data": {
      "text/html": [
       "<pre>Read 11404235 lines. Lines per second: 21563.6</pre>"
      ],
      "text/plain": [
       "Read 11404235 lines. Lines per second: 21563.6"
      ]
     },
     "metadata": {},
     "output_type": "display_data"
    },
    {
     "data": {
      "text/html": [
       "<pre>Read 11546323 lines. Lines per second: 21591.4</pre>"
      ],
      "text/plain": [
       "Read 11546323 lines. Lines per second: 21591.4"
      ]
     },
     "metadata": {},
     "output_type": "display_data"
    },
    {
     "data": {
      "text/html": [
       "<pre>Read 11688555 lines. Lines per second: 21604</pre>"
      ],
      "text/plain": [
       "Read 11688555 lines. Lines per second: 21604"
      ]
     },
     "metadata": {},
     "output_type": "display_data"
    },
    {
     "data": {
      "text/html": [
       "<pre>Read 11830666 lines. Lines per second: 21314.4</pre>"
      ],
      "text/plain": [
       "Read 11830666 lines. Lines per second: 21314.4"
      ]
     },
     "metadata": {},
     "output_type": "display_data"
    },
    {
     "data": {
      "text/html": [
       "<pre>Read 11973214 lines. Lines per second: 21340.5</pre>"
      ],
      "text/plain": [
       "Read 11973214 lines. Lines per second: 21340.5"
      ]
     },
     "metadata": {},
     "output_type": "display_data"
    },
    {
     "data": {
      "text/html": [
       "<pre>Read 12115479 lines. Lines per second: 21400.5</pre>"
      ],
      "text/plain": [
       "Read 12115479 lines. Lines per second: 21400.5"
      ]
     },
     "metadata": {},
     "output_type": "display_data"
    },
    {
     "data": {
      "text/html": [
       "<pre>Read 12229619 lines. Lines per second: 21409.1</pre>"
      ],
      "text/plain": [
       "Read 12229619 lines. Lines per second: 21409.1"
      ]
     },
     "metadata": {},
     "output_type": "display_data"
    },
    {
     "data": {
      "text/html": [
       "<pre>Read 12399786 lines. Lines per second: 21474.2</pre>"
      ],
      "text/plain": [
       "Read 12399786 lines. Lines per second: 21474.2"
      ]
     },
     "metadata": {},
     "output_type": "display_data"
    },
    {
     "data": {
      "text/html": [
       "<pre>Read 12542208 lines. Lines per second: 21499.8</pre>"
      ],
      "text/plain": [
       "Read 12542208 lines. Lines per second: 21499.8"
      ]
     },
     "metadata": {},
     "output_type": "display_data"
    },
    {
     "data": {
      "text/html": [
       "<pre>Read 12684754 lines. Lines per second: 21541.8</pre>"
      ],
      "text/plain": [
       "Read 12684754 lines. Lines per second: 21541.8"
      ]
     },
     "metadata": {},
     "output_type": "display_data"
    },
    {
     "data": {
      "text/html": [
       "<pre>Read 12827697 lines. Lines per second: 21564.5</pre>"
      ],
      "text/plain": [
       "Read 12827697 lines. Lines per second: 21564.5"
      ]
     },
     "metadata": {},
     "output_type": "display_data"
    },
    {
     "data": {
      "text/html": [
       "<pre>Read 12970409 lines. Lines per second: 21602.4</pre>"
      ],
      "text/plain": [
       "Read 12970409 lines. Lines per second: 21602.4"
      ]
     },
     "metadata": {},
     "output_type": "display_data"
    },
    {
     "data": {
      "text/html": [
       "<pre>Read 13112940 lines. Lines per second: 21634.3</pre>"
      ],
      "text/plain": [
       "Read 13112940 lines. Lines per second: 21634.3"
      ]
     },
     "metadata": {},
     "output_type": "display_data"
    },
    {
     "data": {
      "text/html": [
       "<pre>Read 13255160 lines. Lines per second: 21652.9</pre>"
      ],
      "text/plain": [
       "Read 13255160 lines. Lines per second: 21652.9"
      ]
     },
     "metadata": {},
     "output_type": "display_data"
    },
    {
     "data": {
      "text/html": [
       "<pre>Read 13396966 lines. Lines per second: 21698.3</pre>"
      ],
      "text/plain": [
       "Read 13396966 lines. Lines per second: 21698.3"
      ]
     },
     "metadata": {},
     "output_type": "display_data"
    },
    {
     "data": {
      "text/html": [
       "<pre>Read 13511228 lines. Lines per second: 21698.9</pre>"
      ],
      "text/plain": [
       "Read 13511228 lines. Lines per second: 21698.9"
      ]
     },
     "metadata": {},
     "output_type": "display_data"
    },
    {
     "data": {
      "text/html": [
       "<pre>Read 13653898 lines. Lines per second: 21751.4</pre>"
      ],
      "text/plain": [
       "Read 13653898 lines. Lines per second: 21751.4"
      ]
     },
     "metadata": {},
     "output_type": "display_data"
    },
    {
     "data": {
      "text/html": [
       "<pre>Read 13796227 lines. Lines per second: 21766.6</pre>"
      ],
      "text/plain": [
       "Read 13796227 lines. Lines per second: 21766.6"
      ]
     },
     "metadata": {},
     "output_type": "display_data"
    },
    {
     "data": {
      "text/html": [
       "<pre>Read 13939227 lines. Lines per second: 21804.6</pre>"
      ],
      "text/plain": [
       "Read 13939227 lines. Lines per second: 21804.6"
      ]
     },
     "metadata": {},
     "output_type": "display_data"
    },
    {
     "data": {
      "text/html": [
       "<pre>Read 14053520 lines. Lines per second: 21806.6</pre>"
      ],
      "text/plain": [
       "Read 14053520 lines. Lines per second: 21806.6"
      ]
     },
     "metadata": {},
     "output_type": "display_data"
    },
    {
     "data": {
      "text/html": [
       "<pre>Read 14196034 lines. Lines per second: 21847.8</pre>"
      ],
      "text/plain": [
       "Read 14196034 lines. Lines per second: 21847.8"
      ]
     },
     "metadata": {},
     "output_type": "display_data"
    },
    {
     "data": {
      "text/html": [
       "<pre>Read 14309814 lines. Lines per second: 21855</pre>"
      ],
      "text/plain": [
       "Read 14309814 lines. Lines per second: 21855"
      ]
     },
     "metadata": {},
     "output_type": "display_data"
    },
    {
     "data": {
      "text/html": [
       "<pre>Read 14412815 lines. Lines per second: 21841.9</pre>"
      ],
      "text/plain": [
       "Read 14412815 lines. Lines per second: 21841.9"
      ]
     },
     "metadata": {},
     "output_type": "display_data"
    },
    {
     "data": {
      "text/html": [
       "<pre>Read 14518933 lines. Lines per second: 21812.6</pre>"
      ],
      "text/plain": [
       "Read 14518933 lines. Lines per second: 21812.6"
      ]
     },
     "metadata": {},
     "output_type": "display_data"
    },
    {
     "data": {
      "text/html": [
       "<pre>Read 14628106 lines. Lines per second: 21784.2</pre>"
      ],
      "text/plain": [
       "Read 14628106 lines. Lines per second: 21784.2"
      ]
     },
     "metadata": {},
     "output_type": "display_data"
    },
    {
     "data": {
      "text/html": [
       "<pre>Read 14739068 lines. Lines per second: 21775.9</pre>"
      ],
      "text/plain": [
       "Read 14739068 lines. Lines per second: 21775.9"
      ]
     },
     "metadata": {},
     "output_type": "display_data"
    },
    {
     "data": {
      "text/html": [
       "<pre>Read 14833219 lines. Lines per second: 21718.3</pre>"
      ],
      "text/plain": [
       "Read 14833219 lines. Lines per second: 21718.3"
      ]
     },
     "metadata": {},
     "output_type": "display_data"
    },
    {
     "data": {
      "text/html": [
       "<pre>Read 14926553 lines. Lines per second: 21676.1</pre>"
      ],
      "text/plain": [
       "Read 14926553 lines. Lines per second: 21676.1"
      ]
     },
     "metadata": {},
     "output_type": "display_data"
    },
    {
     "data": {
      "text/html": [
       "<pre>Read 15054062 lines. Lines per second: 21684</pre>"
      ],
      "text/plain": [
       "Read 15054062 lines. Lines per second: 21684"
      ]
     },
     "metadata": {},
     "output_type": "display_data"
    },
    {
     "data": {
      "text/html": [
       "<pre>Read 15161712 lines. Lines per second: 21679.7</pre>"
      ],
      "text/plain": [
       "Read 15161712 lines. Lines per second: 21679.7"
      ]
     },
     "metadata": {},
     "output_type": "display_data"
    },
    {
     "data": {
      "text/html": [
       "<pre>Read 15262217 lines. Lines per second: 21658.2</pre>"
      ],
      "text/plain": [
       "Read 15262217 lines. Lines per second: 21658.2"
      ]
     },
     "metadata": {},
     "output_type": "display_data"
    },
    {
     "data": {
      "text/html": [
       "<pre>Read 15358211 lines. Lines per second: 21618.7</pre>"
      ],
      "text/plain": [
       "Read 15358211 lines. Lines per second: 21618.7"
      ]
     },
     "metadata": {},
     "output_type": "display_data"
    },
    {
     "data": {
      "text/html": [
       "<pre>Read 15481165 lines. Lines per second: 21623.6</pre>"
      ],
      "text/plain": [
       "Read 15481165 lines. Lines per second: 21623.6"
      ]
     },
     "metadata": {},
     "output_type": "display_data"
    },
    {
     "data": {
      "text/html": [
       "<pre>Read 15588586 lines. Lines per second: 21591.3</pre>"
      ],
      "text/plain": [
       "Read 15588586 lines. Lines per second: 21591.3"
      ]
     },
     "metadata": {},
     "output_type": "display_data"
    },
    {
     "data": {
      "text/html": [
       "<pre>Read 15683042 lines. Lines per second: 21562.1</pre>"
      ],
      "text/plain": [
       "Read 15683042 lines. Lines per second: 21562.1"
      ]
     },
     "metadata": {},
     "output_type": "display_data"
    },
    {
     "data": {
      "text/html": [
       "<pre>Read 15795088 lines. Lines per second: 21551.8</pre>"
      ],
      "text/plain": [
       "Read 15795088 lines. Lines per second: 21551.8"
      ]
     },
     "metadata": {},
     "output_type": "display_data"
    },
    {
     "data": {
      "text/html": [
       "<pre>Read 15884214 lines. Lines per second: 21502.7</pre>"
      ],
      "text/plain": [
       "Read 15884214 lines. Lines per second: 21502.7"
      ]
     },
     "metadata": {},
     "output_type": "display_data"
    },
    {
     "data": {
      "text/html": [
       "<pre>Read 15974630 lines. Lines per second: 21478.9</pre>"
      ],
      "text/plain": [
       "Read 15974630 lines. Lines per second: 21478.9"
      ]
     },
     "metadata": {},
     "output_type": "display_data"
    },
    {
     "data": {
      "text/html": [
       "<pre>Read 16054103 lines. Lines per second: 21436.9</pre>"
      ],
      "text/plain": [
       "Read 16054103 lines. Lines per second: 21436.9"
      ]
     },
     "metadata": {},
     "output_type": "display_data"
    },
    {
     "data": {
      "text/html": [
       "<pre>Read 16172921 lines. Lines per second: 21430.1</pre>"
      ],
      "text/plain": [
       "Read 16172921 lines. Lines per second: 21430.1"
      ]
     },
     "metadata": {},
     "output_type": "display_data"
    },
    {
     "data": {
      "text/html": [
       "<pre>Read 16358715 lines. Lines per second: 21519</pre>"
      ],
      "text/plain": [
       "Read 16358715 lines. Lines per second: 21519"
      ]
     },
     "metadata": {},
     "output_type": "display_data"
    },
    {
     "data": {
      "text/html": [
       "<pre>Read 16460755 lines. Lines per second: 21505.3</pre>"
      ],
      "text/plain": [
       "Read 16460755 lines. Lines per second: 21505.3"
      ]
     },
     "metadata": {},
     "output_type": "display_data"
    },
    {
     "data": {
      "text/html": [
       "<pre>Read 16593807 lines. Lines per second: 21521.6</pre>"
      ],
      "text/plain": [
       "Read 16593807 lines. Lines per second: 21521.6"
      ]
     },
     "metadata": {},
     "output_type": "display_data"
    },
    {
     "data": {
      "text/html": [
       "<pre>Read 16667321 lines. Lines per second: 21476.7</pre>"
      ],
      "text/plain": [
       "Read 16667321 lines. Lines per second: 21476.7"
      ]
     },
     "metadata": {},
     "output_type": "display_data"
    },
    {
     "data": {
      "text/html": [
       "<pre>Read 16773138 lines. Lines per second: 21464.8</pre>"
      ],
      "text/plain": [
       "Read 16773138 lines. Lines per second: 21464.8"
      ]
     },
     "metadata": {},
     "output_type": "display_data"
    },
    {
     "data": {
      "text/html": [
       "<pre>Read 16873017 lines. Lines per second: 21444.9</pre>"
      ],
      "text/plain": [
       "Read 16873017 lines. Lines per second: 21444.9"
      ]
     },
     "metadata": {},
     "output_type": "display_data"
    },
    {
     "data": {
      "text/html": [
       "<pre>Read 16941995 lines. Lines per second: 21384.9</pre>"
      ],
      "text/plain": [
       "Read 16941995 lines. Lines per second: 21384.9"
      ]
     },
     "metadata": {},
     "output_type": "display_data"
    },
    {
     "data": {
      "text/html": [
       "<pre>Read 17056111 lines. Lines per second: 21382.7</pre>"
      ],
      "text/plain": [
       "Read 17056111 lines. Lines per second: 21382.7"
      ]
     },
     "metadata": {},
     "output_type": "display_data"
    },
    {
     "data": {
      "text/html": [
       "<pre>Read 17144289 lines. Lines per second: 21345.7</pre>"
      ],
      "text/plain": [
       "Read 17144289 lines. Lines per second: 21345.7"
      ]
     },
     "metadata": {},
     "output_type": "display_data"
    },
    {
     "data": {
      "text/html": [
       "<pre>Read 17218649 lines. Lines per second: 21299.8</pre>"
      ],
      "text/plain": [
       "Read 17218649 lines. Lines per second: 21299.8"
      ]
     },
     "metadata": {},
     "output_type": "display_data"
    },
    {
     "data": {
      "text/html": [
       "<pre>Read 17323237 lines. Lines per second: 21285.6</pre>"
      ],
      "text/plain": [
       "Read 17323237 lines. Lines per second: 21285.6"
      ]
     },
     "metadata": {},
     "output_type": "display_data"
    },
    {
     "data": {
      "text/html": [
       "<pre>Read 17424053 lines. Lines per second: 21274.1</pre>"
      ],
      "text/plain": [
       "Read 17424053 lines. Lines per second: 21274.1"
      ]
     },
     "metadata": {},
     "output_type": "display_data"
    },
    {
     "data": {
      "text/html": [
       "<pre>Read 17505828 lines. Lines per second: 21245</pre>"
      ],
      "text/plain": [
       "Read 17505828 lines. Lines per second: 21245"
      ]
     },
     "metadata": {},
     "output_type": "display_data"
    },
    {
     "data": {
      "text/html": [
       "<pre>Read 17598331 lines. Lines per second: 21214.9</pre>"
      ],
      "text/plain": [
       "Read 17598331 lines. Lines per second: 21214.9"
      ]
     },
     "metadata": {},
     "output_type": "display_data"
    },
    {
     "data": {
      "text/html": [
       "<pre>Read 17693514 lines. Lines per second: 21195.2</pre>"
      ],
      "text/plain": [
       "Read 17693514 lines. Lines per second: 21195.2"
      ]
     },
     "metadata": {},
     "output_type": "display_data"
    },
    {
     "data": {
      "text/html": [
       "<pre>Read 17800502 lines. Lines per second: 21174.4</pre>"
      ],
      "text/plain": [
       "Read 17800502 lines. Lines per second: 21174.4"
      ]
     },
     "metadata": {},
     "output_type": "display_data"
    },
    {
     "data": {
      "text/html": [
       "<pre>Read 17915171 lines. Lines per second: 21158.7</pre>"
      ],
      "text/plain": [
       "Read 17915171 lines. Lines per second: 21158.7"
      ]
     },
     "metadata": {},
     "output_type": "display_data"
    },
    {
     "data": {
      "text/html": [
       "<pre>Read 18014060 lines. Lines per second: 21138.4</pre>"
      ],
      "text/plain": [
       "Read 18014060 lines. Lines per second: 21138.4"
      ]
     },
     "metadata": {},
     "output_type": "display_data"
    },
    {
     "data": {
      "text/html": [
       "<pre>Read 18122868 lines. Lines per second: 21127.1</pre>"
      ],
      "text/plain": [
       "Read 18122868 lines. Lines per second: 21127.1"
      ]
     },
     "metadata": {},
     "output_type": "display_data"
    },
    {
     "data": {
      "text/html": [
       "<pre>Read 18225124 lines. Lines per second: 21104.2</pre>"
      ],
      "text/plain": [
       "Read 18225124 lines. Lines per second: 21104.2"
      ]
     },
     "metadata": {},
     "output_type": "display_data"
    },
    {
     "data": {
      "text/html": [
       "<pre>Read 18329335 lines. Lines per second: 21098.1</pre>"
      ],
      "text/plain": [
       "Read 18329335 lines. Lines per second: 21098.1"
      ]
     },
     "metadata": {},
     "output_type": "display_data"
    },
    {
     "data": {
      "text/html": [
       "<pre>Read 18451182 lines. Lines per second: 21092.3</pre>"
      ],
      "text/plain": [
       "Read 18451182 lines. Lines per second: 21092.3"
      ]
     },
     "metadata": {},
     "output_type": "display_data"
    },
    {
     "data": {
      "text/html": [
       "<pre>Read 18565452 lines. Lines per second: 21082</pre>"
      ],
      "text/plain": [
       "Read 18565452 lines. Lines per second: 21082"
      ]
     },
     "metadata": {},
     "output_type": "display_data"
    },
    {
     "data": {
      "text/html": [
       "<pre>Read 18677603 lines. Lines per second: 21077.2</pre>"
      ],
      "text/plain": [
       "Read 18677603 lines. Lines per second: 21077.2"
      ]
     },
     "metadata": {},
     "output_type": "display_data"
    },
    {
     "data": {
      "text/html": [
       "<pre>Read 18742665 lines. Lines per second: 21029.2</pre>"
      ],
      "text/plain": [
       "Read 18742665 lines. Lines per second: 21029.2"
      ]
     },
     "metadata": {},
     "output_type": "display_data"
    },
    {
     "data": {
      "text/html": [
       "<pre>Read 18823182 lines. Lines per second: 20996.4</pre>"
      ],
      "text/plain": [
       "Read 18823182 lines. Lines per second: 20996.4"
      ]
     },
     "metadata": {},
     "output_type": "display_data"
    },
    {
     "data": {
      "text/html": [
       "<pre>Read 18933409 lines. Lines per second: 20985.8</pre>"
      ],
      "text/plain": [
       "Read 18933409 lines. Lines per second: 20985.8"
      ]
     },
     "metadata": {},
     "output_type": "display_data"
    },
    {
     "data": {
      "text/html": [
       "<pre>Read 19011631 lines. Lines per second: 20950.5</pre>"
      ],
      "text/plain": [
       "Read 19011631 lines. Lines per second: 20950.5"
      ]
     },
     "metadata": {},
     "output_type": "display_data"
    },
    {
     "data": {
      "text/html": [
       "<pre>Read 19124445 lines. Lines per second: 20959.6</pre>"
      ],
      "text/plain": [
       "Read 19124445 lines. Lines per second: 20959.6"
      ]
     },
     "metadata": {},
     "output_type": "display_data"
    },
    {
     "data": {
      "text/html": [
       "<pre>Read 19237306 lines. Lines per second: 20947.5</pre>"
      ],
      "text/plain": [
       "Read 19237306 lines. Lines per second: 20947.5"
      ]
     },
     "metadata": {},
     "output_type": "display_data"
    },
    {
     "data": {
      "text/html": [
       "<pre>Read 19328990 lines. Lines per second: 20924.9</pre>"
      ],
      "text/plain": [
       "Read 19328990 lines. Lines per second: 20924.9"
      ]
     },
     "metadata": {},
     "output_type": "display_data"
    },
    {
     "data": {
      "text/html": [
       "<pre>Read 19438642 lines. Lines per second: 20925.3</pre>"
      ],
      "text/plain": [
       "Read 19438642 lines. Lines per second: 20925.3"
      ]
     },
     "metadata": {},
     "output_type": "display_data"
    },
    {
     "data": {
      "text/html": [
       "<pre>Read 19524926 lines. Lines per second: 20901.1</pre>"
      ],
      "text/plain": [
       "Read 19524926 lines. Lines per second: 20901.1"
      ]
     },
     "metadata": {},
     "output_type": "display_data"
    },
    {
     "data": {
      "text/html": [
       "<pre>Read 19622907 lines. Lines per second: 20886.9</pre>"
      ],
      "text/plain": [
       "Read 19622907 lines. Lines per second: 20886.9"
      ]
     },
     "metadata": {},
     "output_type": "display_data"
    },
    {
     "data": {
      "text/html": [
       "<pre>Read 19722814 lines. Lines per second: 20877.6</pre>"
      ],
      "text/plain": [
       "Read 19722814 lines. Lines per second: 20877.6"
      ]
     },
     "metadata": {},
     "output_type": "display_data"
    },
    {
     "data": {
      "text/html": [
       "<pre>Read 19799302 lines. Lines per second: 20841.7</pre>"
      ],
      "text/plain": [
       "Read 19799302 lines. Lines per second: 20841.7"
      ]
     },
     "metadata": {},
     "output_type": "display_data"
    },
    {
     "data": {
      "text/html": [
       "<pre>Read 19902732 lines. Lines per second: 20826.4</pre>"
      ],
      "text/plain": [
       "Read 19902732 lines. Lines per second: 20826.4"
      ]
     },
     "metadata": {},
     "output_type": "display_data"
    },
    {
     "data": {
      "text/html": [
       "<pre>Read 20000791 lines. Lines per second: 20816.1</pre>"
      ],
      "text/plain": [
       "Read 20000791 lines. Lines per second: 20816.1"
      ]
     },
     "metadata": {},
     "output_type": "display_data"
    },
    {
     "data": {
      "text/html": [
       "<pre>Read 20092612 lines. Lines per second: 20795.6</pre>"
      ],
      "text/plain": [
       "Read 20092612 lines. Lines per second: 20795.6"
      ]
     },
     "metadata": {},
     "output_type": "display_data"
    },
    {
     "data": {
      "text/html": [
       "<pre>Read 20209244 lines. Lines per second: 20797.1</pre>"
      ],
      "text/plain": [
       "Read 20209244 lines. Lines per second: 20797.1"
      ]
     },
     "metadata": {},
     "output_type": "display_data"
    },
    {
     "data": {
      "text/html": [
       "<pre>Read 20293744 lines. Lines per second: 20776.9</pre>"
      ],
      "text/plain": [
       "Read 20293744 lines. Lines per second: 20776.9"
      ]
     },
     "metadata": {},
     "output_type": "display_data"
    },
    {
     "data": {
      "text/html": [
       "<pre>Read 20381242 lines. Lines per second: 20752.1</pre>"
      ],
      "text/plain": [
       "Read 20381242 lines. Lines per second: 20752.1"
      ]
     },
     "metadata": {},
     "output_type": "display_data"
    },
    {
     "data": {
      "text/html": [
       "<pre>Read 20485741 lines. Lines per second: 20739.5</pre>"
      ],
      "text/plain": [
       "Read 20485741 lines. Lines per second: 20739.5"
      ]
     },
     "metadata": {},
     "output_type": "display_data"
    },
    {
     "data": {
      "text/html": [
       "<pre>Read 20570315 lines. Lines per second: 20717.3</pre>"
      ],
      "text/plain": [
       "Read 20570315 lines. Lines per second: 20717.3"
      ]
     },
     "metadata": {},
     "output_type": "display_data"
    },
    {
     "data": {
      "text/html": [
       "<pre>Read 20660456 lines. Lines per second: 20687</pre>"
      ],
      "text/plain": [
       "Read 20660456 lines. Lines per second: 20687"
      ]
     },
     "metadata": {},
     "output_type": "display_data"
    },
    {
     "data": {
      "text/html": [
       "<pre>Read 20766145 lines. Lines per second: 20680</pre>"
      ],
      "text/plain": [
       "Read 20766145 lines. Lines per second: 20680"
      ]
     },
     "metadata": {},
     "output_type": "display_data"
    },
    {
     "data": {
      "text/html": [
       "<pre>Read 20838338 lines. Lines per second: 20647.6</pre>"
      ],
      "text/plain": [
       "Read 20838338 lines. Lines per second: 20647.6"
      ]
     },
     "metadata": {},
     "output_type": "display_data"
    },
    {
     "data": {
      "text/html": [
       "<pre>Read 20920821 lines. Lines per second: 20626.7</pre>"
      ],
      "text/plain": [
       "Read 20920821 lines. Lines per second: 20626.7"
      ]
     },
     "metadata": {},
     "output_type": "display_data"
    },
    {
     "data": {
      "text/html": [
       "<pre>Read 21044785 lines. Lines per second: 20635.2</pre>"
      ],
      "text/plain": [
       "Read 21044785 lines. Lines per second: 20635.2"
      ]
     },
     "metadata": {},
     "output_type": "display_data"
    },
    {
     "data": {
      "text/html": [
       "<pre>Read 21125337 lines. Lines per second: 20603.9</pre>"
      ],
      "text/plain": [
       "Read 21125337 lines. Lines per second: 20603.9"
      ]
     },
     "metadata": {},
     "output_type": "display_data"
    },
    {
     "data": {
      "text/html": [
       "<pre>Read 21231474 lines. Lines per second: 20604.4</pre>"
      ],
      "text/plain": [
       "Read 21231474 lines. Lines per second: 20604.4"
      ]
     },
     "metadata": {},
     "output_type": "display_data"
    },
    {
     "data": {
      "text/html": [
       "<pre>Read 21332698 lines. Lines per second: 20593.6</pre>"
      ],
      "text/plain": [
       "Read 21332698 lines. Lines per second: 20593.6"
      ]
     },
     "metadata": {},
     "output_type": "display_data"
    },
    {
     "data": {
      "text/html": [
       "<pre>Read 21406211 lines. Lines per second: 20554.6</pre>"
      ],
      "text/plain": [
       "Read 21406211 lines. Lines per second: 20554.6"
      ]
     },
     "metadata": {},
     "output_type": "display_data"
    },
    {
     "data": {
      "text/html": [
       "<pre>Read 21519575 lines. Lines per second: 20550.2</pre>"
      ],
      "text/plain": [
       "Read 21519575 lines. Lines per second: 20550.2"
      ]
     },
     "metadata": {},
     "output_type": "display_data"
    },
    {
     "data": {
      "text/html": [
       "<pre>Read 21607326 lines. Lines per second: 20531.5</pre>"
      ],
      "text/plain": [
       "Read 21607326 lines. Lines per second: 20531.5"
      ]
     },
     "metadata": {},
     "output_type": "display_data"
    },
    {
     "data": {
      "text/html": [
       "<pre>Read 21702879 lines. Lines per second: 20511</pre>"
      ],
      "text/plain": [
       "Read 21702879 lines. Lines per second: 20511"
      ]
     },
     "metadata": {},
     "output_type": "display_data"
    },
    {
     "data": {
      "text/html": [
       "<pre>Read 21814218 lines. Lines per second: 20501.6</pre>"
      ],
      "text/plain": [
       "Read 21814218 lines. Lines per second: 20501.6"
      ]
     },
     "metadata": {},
     "output_type": "display_data"
    },
    {
     "data": {
      "text/html": [
       "<pre>Read 21899885 lines. Lines per second: 20473.3</pre>"
      ],
      "text/plain": [
       "Read 21899885 lines. Lines per second: 20473.3"
      ]
     },
     "metadata": {},
     "output_type": "display_data"
    },
    {
     "data": {
      "text/html": [
       "<pre>Read 22008587 lines. Lines per second: 20468.8</pre>"
      ],
      "text/plain": [
       "Read 22008587 lines. Lines per second: 20468.8"
      ]
     },
     "metadata": {},
     "output_type": "display_data"
    },
    {
     "data": {
      "text/html": [
       "<pre>Read 22115454 lines. Lines per second: 20453.6</pre>"
      ],
      "text/plain": [
       "Read 22115454 lines. Lines per second: 20453.6"
      ]
     },
     "metadata": {},
     "output_type": "display_data"
    },
    {
     "data": {
      "text/html": [
       "<pre>Read 22198182 lines. Lines per second: 20428</pre>"
      ],
      "text/plain": [
       "Read 22198182 lines. Lines per second: 20428"
      ]
     },
     "metadata": {},
     "output_type": "display_data"
    },
    {
     "data": {
      "text/html": [
       "<pre>Read 22292035 lines. Lines per second: 20415.2</pre>"
      ],
      "text/plain": [
       "Read 22292035 lines. Lines per second: 20415.2"
      ]
     },
     "metadata": {},
     "output_type": "display_data"
    },
    {
     "data": {
      "text/html": [
       "<pre>Read 22399745 lines. Lines per second: 20401.1</pre>"
      ],
      "text/plain": [
       "Read 22399745 lines. Lines per second: 20401.1"
      ]
     },
     "metadata": {},
     "output_type": "display_data"
    },
    {
     "data": {
      "text/html": [
       "<pre>Read 22505465 lines. Lines per second: 20395</pre>"
      ],
      "text/plain": [
       "Read 22505465 lines. Lines per second: 20395"
      ]
     },
     "metadata": {},
     "output_type": "display_data"
    },
    {
     "data": {
      "text/html": [
       "<pre>Read 22621014 lines. Lines per second: 20391.5</pre>"
      ],
      "text/plain": [
       "Read 22621014 lines. Lines per second: 20391.5"
      ]
     },
     "metadata": {},
     "output_type": "display_data"
    },
    {
     "data": {
      "text/html": [
       "<pre>Read 22715838 lines. Lines per second: 20384.4</pre>"
      ],
      "text/plain": [
       "Read 22715838 lines. Lines per second: 20384.4"
      ]
     },
     "metadata": {},
     "output_type": "display_data"
    },
    {
     "data": {
      "text/html": [
       "<pre>Read 22829917 lines. Lines per second: 20392.6</pre>"
      ],
      "text/plain": [
       "Read 22829917 lines. Lines per second: 20392.6"
      ]
     },
     "metadata": {},
     "output_type": "display_data"
    },
    {
     "data": {
      "text/html": [
       "<pre>Read 22960993 lines. Lines per second: 20404.6</pre>"
      ],
      "text/plain": [
       "Read 22960993 lines. Lines per second: 20404.6"
      ]
     },
     "metadata": {},
     "output_type": "display_data"
    },
    {
     "data": {
      "text/html": [
       "<pre>Read 23074009 lines. Lines per second: 20412.8</pre>"
      ],
      "text/plain": [
       "Read 23074009 lines. Lines per second: 20412.8"
      ]
     },
     "metadata": {},
     "output_type": "display_data"
    },
    {
     "data": {
      "text/html": [
       "<pre>Read 23185113 lines. Lines per second: 20401.8</pre>"
      ],
      "text/plain": [
       "Read 23185113 lines. Lines per second: 20401.8"
      ]
     },
     "metadata": {},
     "output_type": "display_data"
    },
    {
     "data": {
      "text/html": [
       "<pre>Read 23276431 lines. Lines per second: 20389.8</pre>"
      ],
      "text/plain": [
       "Read 23276431 lines. Lines per second: 20389.8"
      ]
     },
     "metadata": {},
     "output_type": "display_data"
    },
    {
     "data": {
      "text/html": [
       "<pre>Read 23401182 lines. Lines per second: 20396.2</pre>"
      ],
      "text/plain": [
       "Read 23401182 lines. Lines per second: 20396.2"
      ]
     },
     "metadata": {},
     "output_type": "display_data"
    },
    {
     "data": {
      "text/html": [
       "<pre>Read 23493926 lines. Lines per second: 20375</pre>"
      ],
      "text/plain": [
       "Read 23493926 lines. Lines per second: 20375"
      ]
     },
     "metadata": {},
     "output_type": "display_data"
    },
    {
     "data": {
      "text/html": [
       "<pre>Read 23618755 lines. Lines per second: 20386.3</pre>"
      ],
      "text/plain": [
       "Read 23618755 lines. Lines per second: 20386.3"
      ]
     },
     "metadata": {},
     "output_type": "display_data"
    },
    {
     "data": {
      "text/html": [
       "<pre>Read 23716009 lines. Lines per second: 20376.1</pre>"
      ],
      "text/plain": [
       "Read 23716009 lines. Lines per second: 20376.1"
      ]
     },
     "metadata": {},
     "output_type": "display_data"
    },
    {
     "data": {
      "text/html": [
       "<pre>Read 23809462 lines. Lines per second: 20369.7</pre>"
      ],
      "text/plain": [
       "Read 23809462 lines. Lines per second: 20369.7"
      ]
     },
     "metadata": {},
     "output_type": "display_data"
    },
    {
     "data": {
      "text/html": [
       "<pre>Read 23925356 lines. Lines per second: 20368</pre>"
      ],
      "text/plain": [
       "Read 23925356 lines. Lines per second: 20368"
      ]
     },
     "metadata": {},
     "output_type": "display_data"
    },
    {
     "data": {
      "text/html": [
       "<pre>Read 24015901 lines. Lines per second: 20350.8</pre>"
      ],
      "text/plain": [
       "Read 24015901 lines. Lines per second: 20350.8"
      ]
     },
     "metadata": {},
     "output_type": "display_data"
    },
    {
     "data": {
      "text/html": [
       "<pre>Read 24109691 lines. Lines per second: 20338.9</pre>"
      ],
      "text/plain": [
       "Read 24109691 lines. Lines per second: 20338.9"
      ]
     },
     "metadata": {},
     "output_type": "display_data"
    },
    {
     "data": {
      "text/html": [
       "<pre>Read 24211517 lines. Lines per second: 20334.8</pre>"
      ],
      "text/plain": [
       "Read 24211517 lines. Lines per second: 20334.8"
      ]
     },
     "metadata": {},
     "output_type": "display_data"
    },
    {
     "data": {
      "text/html": [
       "<pre>Read 24305524 lines. Lines per second: 20322.9</pre>"
      ],
      "text/plain": [
       "Read 24305524 lines. Lines per second: 20322.9"
      ]
     },
     "metadata": {},
     "output_type": "display_data"
    },
    {
     "data": {
      "text/html": [
       "<pre>Read 24414138 lines. Lines per second: 20319.8</pre>"
      ],
      "text/plain": [
       "Read 24414138 lines. Lines per second: 20319.8"
      ]
     },
     "metadata": {},
     "output_type": "display_data"
    },
    {
     "data": {
      "text/html": [
       "<pre>Read 24513372 lines. Lines per second: 20302.9</pre>"
      ],
      "text/plain": [
       "Read 24513372 lines. Lines per second: 20302.9"
      ]
     },
     "metadata": {},
     "output_type": "display_data"
    },
    {
     "data": {
      "text/html": [
       "<pre>Read 24605863 lines. Lines per second: 20294.6</pre>"
      ],
      "text/plain": [
       "Read 24605863 lines. Lines per second: 20294.6"
      ]
     },
     "metadata": {},
     "output_type": "display_data"
    },
    {
     "data": {
      "text/html": [
       "<pre>Read 24710807 lines. Lines per second: 20291.3</pre>"
      ],
      "text/plain": [
       "Read 24710807 lines. Lines per second: 20291.3"
      ]
     },
     "metadata": {},
     "output_type": "display_data"
    },
    {
     "data": {
      "text/html": [
       "<pre>Read 24794391 lines. Lines per second: 20272.3</pre>"
      ],
      "text/plain": [
       "Read 24794391 lines. Lines per second: 20272.3"
      ]
     },
     "metadata": {},
     "output_type": "display_data"
    },
    {
     "data": {
      "text/html": [
       "<pre>Read 24891189 lines. Lines per second: 20264.9</pre>"
      ],
      "text/plain": [
       "Read 24891189 lines. Lines per second: 20264.9"
      ]
     },
     "metadata": {},
     "output_type": "display_data"
    },
    {
     "data": {
      "text/html": [
       "<pre>Read 24990367 lines. Lines per second: 20261.3</pre>"
      ],
      "text/plain": [
       "Read 24990367 lines. Lines per second: 20261.3"
      ]
     },
     "metadata": {},
     "output_type": "display_data"
    },
    {
     "data": {
      "text/html": [
       "<pre>Read 25074830 lines. Lines per second: 20246.8</pre>"
      ],
      "text/plain": [
       "Read 25074830 lines. Lines per second: 20246.8"
      ]
     },
     "metadata": {},
     "output_type": "display_data"
    },
    {
     "data": {
      "text/html": [
       "<pre>Read 25210349 lines. Lines per second: 20265.8</pre>"
      ],
      "text/plain": [
       "Read 25210349 lines. Lines per second: 20265.8"
      ]
     },
     "metadata": {},
     "output_type": "display_data"
    },
    {
     "data": {
      "text/html": [
       "<pre>Read 25298503 lines. Lines per second: 20246.6</pre>"
      ],
      "text/plain": [
       "Read 25298503 lines. Lines per second: 20246.6"
      ]
     },
     "metadata": {},
     "output_type": "display_data"
    },
    {
     "data": {
      "text/html": [
       "<pre>Read 25412718 lines. Lines per second: 20248.9</pre>"
      ],
      "text/plain": [
       "Read 25412718 lines. Lines per second: 20248.9"
      ]
     },
     "metadata": {},
     "output_type": "display_data"
    },
    {
     "data": {
      "text/html": [
       "<pre>Read 25517003 lines. Lines per second: 20239.7</pre>"
      ],
      "text/plain": [
       "Read 25517003 lines. Lines per second: 20239.7"
      ]
     },
     "metadata": {},
     "output_type": "display_data"
    },
    {
     "data": {
      "text/html": [
       "<pre>Read 25611213 lines. Lines per second: 20230.5</pre>"
      ],
      "text/plain": [
       "Read 25611213 lines. Lines per second: 20230.5"
      ]
     },
     "metadata": {},
     "output_type": "display_data"
    },
    {
     "data": {
      "text/html": [
       "<pre>Read 25723233 lines. Lines per second: 20229.9</pre>"
      ],
      "text/plain": [
       "Read 25723233 lines. Lines per second: 20229.9"
      ]
     },
     "metadata": {},
     "output_type": "display_data"
    },
    {
     "data": {
      "text/html": [
       "<pre>Read 25810530 lines. Lines per second: 20218.1</pre>"
      ],
      "text/plain": [
       "Read 25810530 lines. Lines per second: 20218.1"
      ]
     },
     "metadata": {},
     "output_type": "display_data"
    },
    {
     "data": {
      "text/html": [
       "<pre>Read 25886405 lines. Lines per second: 20193.8</pre>"
      ],
      "text/plain": [
       "Read 25886405 lines. Lines per second: 20193.8"
      ]
     },
     "metadata": {},
     "output_type": "display_data"
    },
    {
     "data": {
      "text/html": [
       "<pre>Read 25978095 lines. Lines per second: 20182.7</pre>"
      ],
      "text/plain": [
       "Read 25978095 lines. Lines per second: 20182.7"
      ]
     },
     "metadata": {},
     "output_type": "display_data"
    },
    {
     "data": {
      "text/html": [
       "<pre>Read 26076103 lines. Lines per second: 20168.3</pre>"
      ],
      "text/plain": [
       "Read 26076103 lines. Lines per second: 20168.3"
      ]
     },
     "metadata": {},
     "output_type": "display_data"
    },
    {
     "data": {
      "text/html": [
       "<pre>Read 26175547 lines. Lines per second: 20157.1</pre>"
      ],
      "text/plain": [
       "Read 26175547 lines. Lines per second: 20157.1"
      ]
     },
     "metadata": {},
     "output_type": "display_data"
    },
    {
     "data": {
      "text/html": [
       "<pre>Read 26275754 lines. Lines per second: 20156.2</pre>"
      ],
      "text/plain": [
       "Read 26275754 lines. Lines per second: 20156.2"
      ]
     },
     "metadata": {},
     "output_type": "display_data"
    },
    {
     "data": {
      "text/html": [
       "<pre>Read 26361016 lines. Lines per second: 20129.7</pre>"
      ],
      "text/plain": [
       "Read 26361016 lines. Lines per second: 20129.7"
      ]
     },
     "metadata": {},
     "output_type": "display_data"
    },
    {
     "data": {
      "text/html": [
       "<pre>Read 26465428 lines. Lines per second: 20126.3</pre>"
      ],
      "text/plain": [
       "Read 26465428 lines. Lines per second: 20126.3"
      ]
     },
     "metadata": {},
     "output_type": "display_data"
    },
    {
     "data": {
      "text/html": [
       "<pre>Read 26595853 lines. Lines per second: 20132.4</pre>"
      ],
      "text/plain": [
       "Read 26595853 lines. Lines per second: 20132.4"
      ]
     },
     "metadata": {},
     "output_type": "display_data"
    },
    {
     "data": {
      "text/html": [
       "<pre>Read 26715131 lines. Lines per second: 20135.4</pre>"
      ],
      "text/plain": [
       "Read 26715131 lines. Lines per second: 20135.4"
      ]
     },
     "metadata": {},
     "output_type": "display_data"
    },
    {
     "data": {
      "text/html": [
       "<pre>Read 26816383 lines. Lines per second: 20132.6</pre>"
      ],
      "text/plain": [
       "Read 26816383 lines. Lines per second: 20132.6"
      ]
     },
     "metadata": {},
     "output_type": "display_data"
    },
    {
     "data": {
      "text/html": [
       "<pre>Read 26904102 lines. Lines per second: 20122</pre>"
      ],
      "text/plain": [
       "Read 26904102 lines. Lines per second: 20122"
      ]
     },
     "metadata": {},
     "output_type": "display_data"
    },
    {
     "data": {
      "text/html": [
       "<pre>Read 27031129 lines. Lines per second: 20131.1</pre>"
      ],
      "text/plain": [
       "Read 27031129 lines. Lines per second: 20131.1"
      ]
     },
     "metadata": {},
     "output_type": "display_data"
    },
    {
     "data": {
      "text/html": [
       "<pre>Read 27116260 lines. Lines per second: 20118.3</pre>"
      ],
      "text/plain": [
       "Read 27116260 lines. Lines per second: 20118.3"
      ]
     },
     "metadata": {},
     "output_type": "display_data"
    },
    {
     "data": {
      "text/html": [
       "<pre>Read 27216831 lines. Lines per second: 20115.7</pre>"
      ],
      "text/plain": [
       "Read 27216831 lines. Lines per second: 20115.7"
      ]
     },
     "metadata": {},
     "output_type": "display_data"
    },
    {
     "data": {
      "text/html": [
       "<pre>Read 27315520 lines. Lines per second: 20113.4</pre>"
      ],
      "text/plain": [
       "Read 27315520 lines. Lines per second: 20113.4"
      ]
     },
     "metadata": {},
     "output_type": "display_data"
    },
    {
     "data": {
      "text/html": [
       "<pre>Read 27399093 lines. Lines per second: 20091.4</pre>"
      ],
      "text/plain": [
       "Read 27399093 lines. Lines per second: 20091.4"
      ]
     },
     "metadata": {},
     "output_type": "display_data"
    },
    {
     "data": {
      "text/html": [
       "<pre>Read 27512958 lines. Lines per second: 20095.6</pre>"
      ],
      "text/plain": [
       "Read 27512958 lines. Lines per second: 20095.6"
      ]
     },
     "metadata": {},
     "output_type": "display_data"
    },
    {
     "data": {
      "text/html": [
       "<pre>Read 27605883 lines. Lines per second: 20089.9</pre>"
      ],
      "text/plain": [
       "Read 27605883 lines. Lines per second: 20089.9"
      ]
     },
     "metadata": {},
     "output_type": "display_data"
    },
    {
     "data": {
      "text/html": [
       "<pre>Read 27712619 lines. Lines per second: 20089.1</pre>"
      ],
      "text/plain": [
       "Read 27712619 lines. Lines per second: 20089.1"
      ]
     },
     "metadata": {},
     "output_type": "display_data"
    },
    {
     "data": {
      "text/html": [
       "<pre>Read 27821099 lines. Lines per second: 20095.6</pre>"
      ],
      "text/plain": [
       "Read 27821099 lines. Lines per second: 20095.6"
      ]
     },
     "metadata": {},
     "output_type": "display_data"
    },
    {
     "data": {
      "text/html": [
       "<pre>Read 27918045 lines. Lines per second: 20080.2</pre>"
      ],
      "text/plain": [
       "Read 27918045 lines. Lines per second: 20080.2"
      ]
     },
     "metadata": {},
     "output_type": "display_data"
    },
    {
     "data": {
      "text/html": [
       "<pre>Read 28004113 lines. Lines per second: 20070.3</pre>"
      ],
      "text/plain": [
       "Read 28004113 lines. Lines per second: 20070.3"
      ]
     },
     "metadata": {},
     "output_type": "display_data"
    },
    {
     "data": {
      "text/html": [
       "<pre>Read 28113981 lines. Lines per second: 20068.8</pre>"
      ],
      "text/plain": [
       "Read 28113981 lines. Lines per second: 20068.8"
      ]
     },
     "metadata": {},
     "output_type": "display_data"
    },
    {
     "data": {
      "text/html": [
       "<pre>Read 28185327 lines. Lines per second: 20047.1</pre>"
      ],
      "text/plain": [
       "Read 28185327 lines. Lines per second: 20047.1"
      ]
     },
     "metadata": {},
     "output_type": "display_data"
    },
    {
     "data": {
      "text/html": [
       "<pre>Read 28285962 lines. Lines per second: 20044.5</pre>"
      ],
      "text/plain": [
       "Read 28285962 lines. Lines per second: 20044.5"
      ]
     },
     "metadata": {},
     "output_type": "display_data"
    },
    {
     "data": {
      "text/html": [
       "<pre>Read 28389131 lines. Lines per second: 20038.4</pre>"
      ],
      "text/plain": [
       "Read 28389131 lines. Lines per second: 20038.4"
      ]
     },
     "metadata": {},
     "output_type": "display_data"
    },
    {
     "data": {
      "text/html": [
       "<pre>Read 28472146 lines. Lines per second: 20017.6</pre>"
      ],
      "text/plain": [
       "Read 28472146 lines. Lines per second: 20017.6"
      ]
     },
     "metadata": {},
     "output_type": "display_data"
    },
    {
     "data": {
      "text/html": [
       "<pre>Read 28577752 lines. Lines per second: 20014.8</pre>"
      ],
      "text/plain": [
       "Read 28577752 lines. Lines per second: 20014.8"
      ]
     },
     "metadata": {},
     "output_type": "display_data"
    },
    {
     "data": {
      "text/html": [
       "<pre>431446 lines failed to parse correctly</pre>"
      ],
      "text/plain": [
       "431446 lines failed to parse correctly"
      ]
     },
     "metadata": {},
     "output_type": "display_data"
    },
    {
     "data": {
      "text/html": [
       "<pre>Finished parsing file /storage/homedir/dima/Projects/ScienceDynamics/examples/data2.csv</pre>"
      ],
      "text/plain": [
       "Finished parsing file /storage/homedir/dima/Projects/ScienceDynamics/examples/data2.csv"
      ]
     },
     "metadata": {},
     "output_type": "display_data"
    },
    {
     "data": {
      "text/html": [
       "<pre>Parsing completed. Parsed 28639023 lines in 1431.51 secs.</pre>"
      ],
      "text/plain": [
       "Parsing completed. Parsed 28639023 lines in 1431.51 secs."
      ]
     },
     "metadata": {},
     "output_type": "display_data"
    }
   ],
   "source": [
    "sf = SFrame.read_csv(\"data2.csv\")"
   ]
  },
  {
   "cell_type": "code",
   "execution_count": 27,
   "metadata": {
    "collapsed": true,
    "jupyter": {
     "outputs_hidden": true
    }
   },
   "outputs": [
    {
     "name": "stderr",
     "output_type": "stream",
     "text": [
      "/storage/homedir/dima/miniconda3/envs/promed/lib/python3.6/site-packages/ipykernel_launcher.py:1: DeprecationWarning: count is deprecated. Use estimated_document_count or count_documents instead. Please note that $where must be replaced by $expr, $near must be replaced by $geoWithin with $center, and $nearSphere must be replaced by $geoWithin with $centerSphere\n",
      "  \"\"\"Entry point for launching an IPython kernel.\n"
     ]
    },
    {
     "data": {
      "text/plain": [
       "29070469"
      ]
     },
     "execution_count": 27,
     "metadata": {},
     "output_type": "execute_result"
    }
   ],
   "source": [
    "MD.client.journals.aminer_mag_papers.count()"
   ]
  },
  {
   "cell_type": "code",
   "execution_count": 7,
   "metadata": {
    "collapsed": true,
    "jupyter": {
     "outputs_hidden": true
    }
   },
   "outputs": [
    {
     "name": "stderr",
     "output_type": "stream",
     "text": [
      "/storage/homedir/dima/miniconda3/envs/promed/lib/python3.6/site-packages/ipykernel_launcher.py:1: DeprecationWarning: remove is deprecated. Use delete_one or delete_many instead.\n",
      "  \"\"\"Entry point for launching an IPython kernel.\n"
     ]
    },
    {
     "data": {
      "text/plain": [
       "{'ok': 1, 'n': 0}"
      ]
     },
     "execution_count": 7,
     "metadata": {},
     "output_type": "execute_result"
    }
   ],
   "source": [
    "MD.client.journals.aminer_mag_papers.remove()"
   ]
  },
  {
   "cell_type": "markdown",
   "metadata": {},
   "source": [
    "In the second part of the tutorial, we will demonstrate how the above created MongoDB collections can be utilized to calculate various statistics on paper collections, authors, journals, and research domains."
   ]
  }
 ],
 "metadata": {
  "kernelspec": {
   "display_name": "Python [conda env:promed]",
   "language": "python",
   "name": "conda-env-promed-py"
  },
  "language_info": {
   "codemirror_mode": {
    "name": "ipython",
    "version": 3
   },
   "file_extension": ".py",
   "mimetype": "text/x-python",
   "name": "python",
   "nbconvert_exporter": "python",
   "pygments_lexer": "ipython3",
   "version": "3.6.8"
  }
 },
 "nbformat": 4,
 "nbformat_minor": 4
}
