{
 "cells": [
  {
   "cell_type": "markdown",
   "metadata": {},
   "source": [
    "# Part III - A: Analyzing Changing Trends in Academia - Paper Trends"
   ]
  },
  {
   "cell_type": "markdown",
   "metadata": {},
   "source": [
    "# 0. Setup"
   ]
  },
  {
   "cell_type": "markdown",
   "metadata": {},
   "source": [
    "Before we begin, make sure you have installed all the additional required Python packages. (The instructions below use pip. You can use easy_install, too.) Also, consider using virtualenv for a cleaner installation experience instead of sudo. \n",
    "* sudo pip install --upgrade altair\n",
    "* sudo pip install --upgrade vega3\n",
    "* sudo pip install --upgrade plotly\n",
    "* sudo pip install --upgrade pycld2 # this package requires gcc"
   ]
  },
  {
   "cell_type": "markdown",
   "metadata": {},
   "source": [
    "## 1. Paper Structure Dynamics"
   ]
  },
  {
   "cell_type": "markdown",
   "metadata": {},
   "source": [
    "In the following subsection we will utilize the MAG and AMiner datasets to better understand how various paper characteristics, such as title, abstract, keywords, length, and references, change over time. We will start with analyzing how the number of published papers has changed over time. In this notebook, we will then check how various properties of papers have changed over time. We will use Altair and Seaborn Python packages to visualize the trends of papers' properties. Using these visualizations, we will analyze various papers' properties to understand how these properties have changed during the last century.\n",
    "We will start with observing how the number of published papers has changed over time."
   ]
  },
  {
   "cell_type": "markdown",
   "metadata": {},
   "source": [
    "### 1.1. Number of Published Papers over Time"
   ]
  },
  {
   "cell_type": "markdown",
   "metadata": {},
   "source": [
    "In the last 160 years there has been a massive surge in the number of publications. In this subsection, we will analyze the number of publications and the language of publications over time."
   ]
  },
  {
   "cell_type": "code",
   "execution_count": null,
   "metadata": {},
   "outputs": [],
   "source": [
    "import os\n",
    "import sys\n",
    "nb_dir = os.path.split(os.getcwd())[0]\n",
    "if nb_dir not in sys.path:\n",
    "    sys.path.append(nb_dir)"
   ]
  },
  {
   "cell_type": "code",
   "execution_count": null,
   "metadata": {},
   "outputs": [],
   "source": [
    "import pandas as pd\n",
    "import numpy as np\n",
    "import altair as alt\n",
    "# alt.renderers.enable('notebook')\n",
    "from ScienceDynamics.config.configs import *\n",
    "from ScienceDynamics.visualization.visual_utils import *\n",
    "import turicreate.aggregate as agg\n",
    "from ScienceDynamics.utils import detect_lang, filter_sframe_by_func"
   ]
  },
  {
   "cell_type": "code",
   "execution_count": null,
   "metadata": {},
   "outputs": [],
   "source": [
    "from ScienceDynamics.datasets.microsoft_academic_graph import MicrosoftAcademicGraph\n",
    "from ScienceDynamics.config.configs import DATASETS_BASE_DIR\n",
    "mag = MicrosoftAcademicGraph(DATASETS_BASE_DIR / \"MicrosoftAcademicGraph.zip\")"
   ]
  },
  {
   "cell_type": "code",
   "execution_count": null,
   "metadata": {},
   "outputs": [],
   "source": [
    "sf =  mag.extended_papers[\"Paper ID\", \"Paper publish year\", 'Ref Number']\n",
    "sf = sf.rename({\"Paper publish year\": \"Year\"})\n",
    "g = sf.groupby(\"Year\", {\"Number of papers\": agg.COUNT()})\n",
    "sf2 = sf[sf['Ref Number'] >= 5]\n",
    "g2 = sf2.groupby(\"Year\", {\"Number of papers (Ref >= 5)\": agg.COUNT()}) # Papers with less 5 references can be reports, news, and letters\n",
    "g = g.join(g2, how=\"left\")\n",
    "\n",
    "draw_features_yearly_chart_multi_lines(g, \"Publication Type\", \"Total Papers\", 1800, 2015, \"MAG Number of Papers\")"
   ]
  },
  {
   "cell_type": "markdown",
   "metadata": {},
   "source": [
    "As you can see from the chart above, the number of papers has increased exponentially over the years. The decline from 2015 forward is probably due to missing papers in our dataset for years after 2014. Therefore, for the rest of this notebook, we will use only papers that were published before 2015. Next, let's observe the dominant paper languages over the years by analyzing title languages for all papers with at least 5 references:"
   ]
  },
  {
   "cell_type": "code",
   "execution_count": null,
   "metadata": {},
   "outputs": [],
   "source": [
    "sf = mag.extended_papers[\"Paper ID\", \"Original paper title\", \"Paper publish year\"]\n",
    "sf = sf.rename({\"Paper publish year\": \"Year\", \"Original paper title\":\"Title\"})\n",
    "sf[\"Title Language\"] = sf[\"Title\"].apply(lambda t: detect_lang(t))\n",
    "g = sf.groupby(\"Title Language\", {\"Number of Papers\": agg.COUNT()})\n",
    "g = g.sort(\"Number of Papers\", ascending=False)\n",
    "g"
   ]
  },
  {
   "cell_type": "code",
   "execution_count": null,
   "metadata": {},
   "outputs": [],
   "source": [
    "top_langs = set(g['Title Language'][:10])\n",
    "sf = filter_sframe_by_years(sf,1980,2014)\n",
    "sf = sf[sf[\"Title Language\"].apply(lambda t: t in top_langs)]\n",
    "g = sf.groupby([\"Title Language\", \"Year\"], {\"Number of Papers\": agg.COUNT()})\n",
    "g = g.sort([\"Year\", \"Number of Papers\"], ascending=False)\n",
    "\n",
    "chart = alt.Chart(g.to_dataframe(), title=\"Papers Title Top-10 Languages over Time\").mark_line().encode(\n",
    "    alt.X('Year:Q', axis=alt.Axis(format='d'), scale=alt.Scale(zero=False)),\n",
    "    alt.Y('Number of Papers:Q', scale=alt.Scale(zero=False)),\n",
    "    color=\"Title Language\"\n",
    ")\n",
    "chart"
   ]
  },
  {
   "cell_type": "code",
   "execution_count": null,
   "metadata": {},
   "outputs": [],
   "source": [
    "g = g[g[\"Title Language\"] != \"english\"]\n",
    "chart = alt.Chart(g.to_dataframe(), title=\"Papers with Top-9 Non-English Titles over Time\").mark_line().encode(\n",
    "    alt.X('Year:Q', axis=alt.Axis(format='d'), scale=alt.Scale(zero=False)),\n",
    "    alt.Y('Number of Papers:Q', scale=alt.Scale(zero=False)),\n",
    "    color=\"Title Language\"\n",
    ")\n",
    "chart"
   ]
  },
  {
   "cell_type": "markdown",
   "metadata": {},
   "source": [
    "It can be observed that since the 1980s there are more and more publications in different languages than English, such Japanese, Chinese, and Spanish."
   ]
  },
  {
   "cell_type": "markdown",
   "metadata": {},
   "source": [
    "### 1.2 Titles Trends"
   ]
  },
  {
   "cell_type": "markdown",
   "metadata": {},
   "source": [
    "A paper’s title is among the first things one looks for before deciding to read a paper. Moreover, using the right title can help other researchers find the paper using search engines. In this subsection, we will analyze how papers' title lengths and properties have changed over time."
   ]
  },
  {
   "cell_type": "code",
   "execution_count": null,
   "metadata": {},
   "outputs": [],
   "source": [
    "sf = tc.load_sframe(AMINER_PAPERS_SFRAME)[\"year\",\"title\", \"lang\"]\n",
    "sf = sf.rename({\"year\":\"Year\"})\n",
    "sf = sf[sf[\"lang\"] == \"en\"]\n",
    "sf.materialize()\n",
    "sf[\"title_lang\"] = sf[\"title\"].apply(lambda t: detect_lang(t))\n",
    "sf = sf[sf[\"title_lang\"] == \"english\"]\n",
    "sf.materialize()"
   ]
  },
  {
   "cell_type": "code",
   "execution_count": null,
   "metadata": {},
   "outputs": [],
   "source": [
    "#Second, papers with a short title \n",
    "sf[\"Title Length\"] = sf[\"title\"].apply(lambda t: len(t.split())) \n",
    "\n",
    "sf = sf[sf[\"Title Length\"] > 1]\n",
    "sf = sf[sf[\"Title Length\"] < 50] # remove long titles that probably are results of problem in title parsing\n",
    "\n",
    "#Lastly, filter papers taht were publish before 1850 or after 2014 (or have invalid publication year)\n",
    "sf = sf[sf[\"Year\"] <= 2014]\n",
    "sf = sf[sf[\"Year\"] >= 1850]\n",
    "sf = sf.sort(\"Year\") # 102489813 titles"
   ]
  },
  {
   "cell_type": "code",
   "execution_count": null,
   "metadata": {},
   "outputs": [],
   "source": [
    "draw_feature_yearly_func_value(sf, \"Title Length\", \"Average Number of Words\", 1900, 2014, func_name=\"agg.AVG\", \n",
    "                              title=\"Average Title Length over Time\")"
   ]
  },
  {
   "cell_type": "markdown",
   "metadata": {},
   "source": [
    "Let's check additional trends in papers' titles, such as the average word length and the usage of punctuation marks. We will start with calculating the average title word length over time:"
   ]
  },
  {
   "cell_type": "code",
   "execution_count": null,
   "metadata": {},
   "outputs": [],
   "source": [
    "sf['Avg Word Number of Chars'] = sf[\"title\"].apply(lambda t: np.average([len(w) for w in t.split()]))\n",
    "draw_feature_yearly_func_value(sf, \"Avg Word Number of Chars\", \"Average of Average Word Number of Chars\", 1900, 2014, func_name=\"agg.AVG\", title=\"Titles Average Word Length over Time\")"
   ]
  },
  {
   "cell_type": "code",
   "execution_count": null,
   "metadata": {},
   "outputs": [],
   "source": [
    "sf"
   ]
  },
  {
   "cell_type": "code",
   "execution_count": null,
   "metadata": {},
   "outputs": [],
   "source": [
    "sf['mark'] = sf[\"title\"].apply(lambda t: 1 if ('!' in t or '?' in t) else 0 )\n",
    "draw_feature_yearly_func_value(sf, \"mark\", \"Percentage of Papers\", 1900, 2014, func_name=\"agg.AVG\", title=\"Percentage of Papers with '?' or '!' in Title\")"
   ]
  },
  {
   "cell_type": "markdown",
   "metadata": {},
   "source": [
    "We can see that over the last years the usage of '?' and '!' in titles has increased. Let's look at some concrete examples of using interrobangs (?! and !?) in papers' titles:"
   ]
  },
  {
   "cell_type": "code",
   "execution_count": null,
   "metadata": {},
   "outputs": [],
   "source": [
    "sf['bangs'] = sf[\"title\"].apply(lambda t: 1 if ('!?' in t or '?!' in t) else 0 )\n",
    "sf.materialize()\n",
    "draw_feature_yearly_func_value(sf, \"bangs\", \"Percentage of Papers\", 1850, 2014, func_name=\"agg.AVG\", title=\"Percentage of Papers with Interrobangs in Title\")"
   ]
  },
  {
   "cell_type": "code",
   "execution_count": null,
   "metadata": {},
   "outputs": [],
   "source": [
    "sf[sf[\"bangs\"] == 1][\"title\"][1000:1100]"
   ]
  },
  {
   "cell_type": "markdown",
   "metadata": {},
   "source": [
    "It can be observed that over time papers' titles have become longer both by adding more words to the title and by using more characters in each word. Moreover, over time more and more titles use question and exclamation marks. We can assume that using these marks can make the titles more attractive, to convince other researchers to read the paper."
   ]
  },
  {
   "cell_type": "markdown",
   "metadata": {},
   "source": [
    "### 1.3 Trends in Number and Order of Authors"
   ]
  },
  {
   "cell_type": "markdown",
   "metadata": {},
   "source": [
    "It is well-known that papers' average number of authors has increased sharply in recent years. Let’s use our datasets to validate this observation and explore how the importance of the order of authors has changed over time."
   ]
  },
  {
   "cell_type": "code",
   "execution_count": null,
   "metadata": {},
   "outputs": [],
   "source": [
    "sf = tc.load_sframe(EXTENDED_PAPERS_SFRAME)[ \"Paper publish year\", 'Authors List Sorted', 'Authors Number', \"Ref Number\"]\n",
    "sf = sf.rename({\"Paper publish year\": \"Year\"})\n",
    "g = sf.groupby( \"Year\", {\"Average Authors Number\": agg.AVG('Authors Number')})\n",
    "\n",
    "\n",
    "sf2 = sf[sf['Ref Number'] >= 5]\n",
    "g2 = sf2.groupby(\"Year\", {\"Average Authors Number (Ref >=5)\": agg.AVG('Authors Number')})\n",
    "g = g.join(g2, how=\"left\")\n",
    "draw_features_yearly_chart_multi_lines(g, \"Publication Type\", \"Average Authors Number\", 1850, 2015, title=\"Average Authors Number over Time\")"
   ]
  },
  {
   "cell_type": "markdown",
   "metadata": {},
   "source": [
    "As we can perceive, the average number of authors per paper has increased sharply over recent years. Let's examine how the maximal number of authors per year has changed."
   ]
  },
  {
   "cell_type": "code",
   "execution_count": null,
   "metadata": {},
   "outputs": [],
   "source": [
    "g2 = sf2.groupby(\"Year\", {\"Maximal Number of Authors (Ref >=5)\": agg.MAX('Authors Number')})\n",
    "draw_feature_yearly_func_value(sf2, \"Authors Number\", \"Max Number of Authors\", 1980, 2015, func_name=\"agg.MAX\", title=\"Maximal Number of Authors over Time (Ref >=5)\")"
   ]
  },
  {
   "cell_type": "code",
   "execution_count": null,
   "metadata": {},
   "outputs": [],
   "source": [
    "sf = tc.load_sframe(EXTENDED_PAPERS_SFRAME)[ \"Paper publish year\", 'Authors Number', \"Ref Number\", \"Original paper title\"]\n",
    "sf2 = sf[sf['Ref Number'] >= 5]\n",
    "sf2.sort('Authors Number', ascending=False)"
   ]
  },
  {
   "cell_type": "markdown",
   "metadata": {},
   "source": [
    "We can notice that in recent years more and more papers were written by thousands of authors who worked together on extremely large projects. While it is clear that the average number of authors per paper has increasingly grown in recent years, there is an additional interesting aspect regarding the papers' author lists - the order of the names in the list.\n",
    "Let's view how the order of the authors list has changed over time and check if alphabetic order is the most common order.\n"
   ]
  },
  {
   "cell_type": "code",
   "execution_count": null,
   "metadata": {},
   "outputs": [],
   "source": [
    "def get_last_names_list(l):\n",
    "    last_names_list = []\n",
    "    for d in l:\n",
    "        n = d['name'].split()\n",
    "        if len(n) < 2:\n",
    "            return None\n",
    "        last_names_list.append(n[-1])\n",
    "    return last_names_list\n",
    "        \n",
    "sf = tc.load_sframe(AMINER_PAPERS_SFRAME)['year','authors', 'lang']\n",
    "sf = sf[sf[\"lang\"] == \"en\"]\n",
    "sf['authors_number'] = sf['authors'].apply(lambda l: len(l))\n",
    "sf = sf[sf['authors'] != None]\n",
    "sf = sf[sf['authors_number'] > 1]\n",
    "sf['author_last_names'] = sf['authors'].apply(lambda l: get_last_names_list(l) )\n",
    "sf = sf[sf['author_last_names'] != None]\n",
    "sf.materialize()\n",
    "sf"
   ]
  },
  {
   "cell_type": "markdown",
   "metadata": {},
   "source": [
    "Let's check the percentage of papers in which the authors appear in alphabetical order:"
   ]
  },
  {
   "cell_type": "code",
   "execution_count": null,
   "metadata": {},
   "outputs": [],
   "source": [
    "def is_alphabetical_order(l):\n",
    "    for i in range(len(l) - 1):\n",
    "        if l[i] > l[i+1]:\n",
    "            return 0\n",
    "    return 1\n",
    "sf['is_alphabetical_order'] = sf['author_last_names'].apply(lambda l: is_alphabetical_order(l))\n",
    "sf = sf.rename({\"year\": \"Year\"})\n",
    "sf = sf.rename({\"authors_number\": \"Authors Number\"})\n",
    "draw_feature_yearly_func_value(sf, \"is_alphabetical_order\", \"Percentage of Papers\", 1850, 2014, func_name=\"agg.AVG\", title=\"Percentage of Papers with Authors in Alphabetical Order\")"
   ]
  },
  {
   "cell_type": "code",
   "execution_count": null,
   "metadata": {},
   "outputs": [],
   "source": [
    "g = sf.groupby(['Year', \"Authors Number\"], {\"Percentage of Papers\": agg.AVG(\"is_alphabetical_order\")})\n",
    "g = g.sort([\"Authors Number\", \"Year\"] )\n",
    "g = g[g[\"Year\"] <= 2014]\n",
    "g = g[g[\"Year\"] > 1950 ]\n",
    "g = g[g[\"Authors Number\"] <= 10]\n",
    "df = g.to_dataframe()\n",
    "df = df.fillna(0)\n",
    "df = df.sort_values(by=['Year'])\n",
    "\n",
    "chart = alt.Chart(df, title=\"Papers with Authors in Alphabetical Order by Authors Number\").mark_line().encode(\n",
    "    alt.X('Year:Q', axis=alt.Axis(format='d'), scale=alt.Scale(zero=False)),\n",
    "    alt.Y(\"Percentage of Papers:Q\", scale=alt.Scale(zero=False)),\n",
    "    color=\"Authors Number\"\n",
    ")\n",
    "chart"
   ]
  },
  {
   "cell_type": "markdown",
   "metadata": {},
   "source": [
    "We can observe that over the years there has been a decline in the usage of alphabetical order. Additionally, we can observe that the usage of alphabetical order sharply decreases in cases where there are 3 or more authors who wrote the paper."
   ]
  },
  {
   "cell_type": "markdown",
   "metadata": {},
   "source": [
    "### 1.4 Trends in Abstract Length"
   ]
  },
  {
   "cell_type": "markdown",
   "metadata": {},
   "source": [
    "In many cases, the abstract section is one of the first sections a researcher looks at before deciding to read the paper. Therefore, a better abstract can improve the number of reads a paper gets. Let's check how the length of papers' abstract sections has changed over time."
   ]
  },
  {
   "cell_type": "code",
   "execution_count": null,
   "metadata": {},
   "outputs": [],
   "source": [
    "sf = tc.load_sframe(AMINER_PAPERS_SFRAME)[\"year\",\"abstract\", \"lang\"]\n",
    "sf = sf[sf[\"lang\"] == \"en\"] # only abstract of English papers\n",
    "sf = sf[sf[\"lang\"] != None]\n",
    "sf[\"Number of Words in Abstracts\"] = sf['abstract'].apply(lambda a: len(a.split()))\n",
    "sf = sf[sf[\"Number of Words in Abstracts\"] > 10]  #  remove short abstaract\n",
    "sf = sf[sf[\"Number of Words in Abstracts\"] <= 2000] #  remove long abstaract\n",
    "sf.materialize()\n",
    "\n",
    "sf[\"abstract_lang\"] = sf[\"abstract\"].apply(lambda t: detect_lang(t))\n",
    "sf = sf[sf[\"abstract_lang\"] == \"english\"]\n",
    "sf = sf.rename({\"year\": \"Year\"})\n",
    "sf.materialize()\n"
   ]
  },
  {
   "cell_type": "code",
   "execution_count": null,
   "metadata": {},
   "outputs": [],
   "source": [
    "draw_feature_yearly_func_value(sf[\"Year\", \"Number of Words in Abstracts\"] , \"Number of Words in Abstracts\", \"Average Number of Words\", start_year=1900, end_year=2013, func_name=\"agg.AVG\",title=\"Abstracts' Average Number of Words over Time\")"
   ]
  },
  {
   "cell_type": "code",
   "execution_count": null,
   "metadata": {},
   "outputs": [],
   "source": [
    "sf = sf[sf[\"Number of Words in Abstracts\"] <= 500]\n",
    "draw_features_decade_dist(sf, \"Number of Words in Abstracts\", 1950, 2013, col_warp=2, sharex=True, sharey=True)"
   ]
  },
  {
   "cell_type": "code",
   "execution_count": null,
   "metadata": {},
   "outputs": [],
   "source": [
    "decades_list = [1950, 1980, 1990, 2000, 2010]\n",
    "draw_layered_hist(sf, \"Number of Words in Abstracts\", decades_list, 1920, 2014)"
   ]
  },
  {
   "cell_type": "markdown",
   "metadata": {},
   "source": [
    "From the above figures, it can be observed that over time abstracts have become longer. In the 1950s, most abstracts were less than 100 words. In recent decades, most abstracts have over 100 words, and more and more abstracts contain between 200 and 300 words."
   ]
  },
  {
   "cell_type": "markdown",
   "metadata": {},
   "source": [
    "### 1.5 Keywords Trends"
   ]
  },
  {
   "cell_type": "markdown",
   "metadata": {},
   "source": [
    "Papers' keywords are very helpful for understanding the general topic of a paper, and they make it easier to search for a paper on a specific topic. Let's check how the usage of keywords has changed over the years."
   ]
  },
  {
   "cell_type": "code",
   "execution_count": null,
   "metadata": {},
   "outputs": [],
   "source": [
    "sf = tc.load_sframe(EXTENDED_PAPERS_SFRAME)[\"Paper publish year\", \"Keywords List\", 'Ref Number', \"Journal ID mapped to venue name\"]\n",
    "sf = sf.rename({\"Paper publish year\": \"Year\"})\n",
    "sf = sf.fillna(\"Keywords List\", [])\n",
    "sf[\"Keywords Number\"] = sf[\"Keywords List\"].apply(lambda l: len(l))\n",
    "k_sf = sf[sf[\"Keywords Number\"] <= 20] # remove papers with too many keywords \n",
    "k_sf['has_keywords'] = k_sf[\"Keywords List\"].apply(lambda l: 1 if len(l) > 0 else 0)\n",
    "\n",
    "\n",
    "has_k_sf = k_sf[k_sf['has_keywords']]\n",
    "g = has_k_sf.groupby(\"Year\", {\"Papers with Keywords \": agg.COUNT()})\n",
    "sf2 = has_k_sf[has_k_sf['Ref Number'] >= 5]\n",
    "g2 = sf2.groupby(\"Year\", {\"Papers with Keywords (Ref >= 5)\": agg.COUNT()})\n",
    "g = g.join(g2, how=\"left\")\n",
    "draw_features_yearly_chart_multi_lines(g, \"Publication Type\", \"Number of Papers over Time\", 1800, 2014,title=\"Number of Papers with Keywords (MAG)\")"
   ]
  },
  {
   "cell_type": "code",
   "execution_count": null,
   "metadata": {},
   "outputs": [],
   "source": [
    "j_sf = k_sf[k_sf[\"Journal ID mapped to venue name\"] != '']\n",
    "draw_feature_yearly_func_value(j_sf, \"has_keywords\", \"Percentage of Journal Papers\", 1900, 2014, func_name=\"agg.AVG\", title=\"Percentage of Journal Papers with Keywords\")"
   ]
  },
  {
   "cell_type": "markdown",
   "metadata": {},
   "source": [
    "In the last century the percentage of papers' containing keywords has skyrocketed. However, since 2010, we can see a decline in the percentage of journal papers containing keywords. Similar observations also can be found in the AMiner dataset:"
   ]
  },
  {
   "cell_type": "code",
   "execution_count": null,
   "metadata": {},
   "outputs": [],
   "source": [
    "a_sf = tc.load_sframe(AMINER_PAPERS_SFRAME)[\"year\", \"keywords\", \"lang\", \"venue\"]\n",
    "a_sf = a_sf[a_sf[\"keywords\"] != None]\n",
    "a_sf = a_sf[a_sf[\"lang\"] == \"en\"]\n",
    "a_sf = a_sf.rename({\"year\": \"Year\", \"keywords\": \"Keywords\"})\n",
    "g = a_sf.groupby(\"Year\", {\"Number of Papers\": agg.COUNT()})\n",
    "draw_features_yearly_chart(g, \"Number of Papers\", 1900, 2014, title=\"Number of Papers with Keywords over Time (AMiner)\")"
   ]
  },
  {
   "cell_type": "code",
   "execution_count": null,
   "metadata": {},
   "outputs": [],
   "source": [
    "sf = a_sf[a_sf[\"Year\"] == 2013]\n",
    "sf = sf[sf[\"venue\"] != None]\n",
    "g = sf.groupby(\"venue\", {\"Number of Papers without Keywords (2013)\": agg.COUNT()})\n",
    "g.sort(\"Number of Papers without Keywords (2013)\", ascending=False)"
   ]
  },
  {
   "cell_type": "markdown",
   "metadata": {},
   "source": [
    "According to the above table, indeed many of the papers published in top journals in 2013 didn't contain keywords. This could be a result of format limitations or missing data in the dataset. For example, we can observe that many of the PLOS ONE papers don't have any keywords. Yet PLOS ONE papers and their matching keywords (defined as subject areas) are presented on the PLOS ONE website. However, from our observation these subject areas don't appear in the papers' PDF versions. Let's check how the average number of keywords per paper has changed over time."
   ]
  },
  {
   "cell_type": "code",
   "execution_count": null,
   "metadata": {},
   "outputs": [],
   "source": [
    "#Only MAG Journal Papers \n",
    "j_sf = k_sf[k_sf[\"Keywords Number\"] != 0]\n",
    "draw_feature_yearly_func_value(j_sf, \"Keywords Number\", \"Average Keywords Number\", 1900, 2014, func_name=\"agg.AVG\",title=\"Average Journal Papers Number of Keywords over Time\")\n"
   ]
  },
  {
   "cell_type": "code",
   "execution_count": null,
   "metadata": {},
   "outputs": [],
   "source": [
    "#AMiner papers\n",
    "a_sf[\"Keywords Number\"] = a_sf[\"Keywords\"].apply(lambda l: len(l))\n",
    "draw_feature_yearly_func_value(a_sf, \"Keywords Number\", \"Average Keywords Number\", 1900, 2014, func_name=\"agg.AVG\", title=\"Papers Average Keywords Number (AMiner)\")"
   ]
  },
  {
   "cell_type": "code",
   "execution_count": null,
   "metadata": {},
   "outputs": [],
   "source": [
    "years = set([1950,1970,1990, 2010])\n",
    "sf = k_sf[k_sf[\"Year\"].apply(lambda y: y in years)][\"Year\",\"Keywords Number\"]\n",
    "sf = sf[sf[\"Keywords Number\"] <= 20]\n",
    "sf = sf[sf[\"Keywords Number\"] > 0]\n",
    "sns.boxplot(x=\"Year\", y=\"Keywords Number\", data=sf.to_dataframe())"
   ]
  },
  {
   "cell_type": "markdown",
   "metadata": {},
   "source": [
    "### 1.6 Multidisciplinary Research Trends"
   ]
  },
  {
   "cell_type": "markdown",
   "metadata": {},
   "source": [
    "The MAG dataset maps each keyword with its matching field of study. Moreover, the dataset also contains the hierarchical order among the various fields of study. In our study, we used this hierarchical order to observe and measure the number of multidisciplinary papers that contain keywords from two or more different research fields."
   ]
  },
  {
   "cell_type": "code",
   "execution_count": null,
   "metadata": {},
   "outputs": [],
   "source": [
    "f_sf = tc.load_sframe(EXTENDED_PAPERS_SFRAME)['Paper publish year',\"Keywords List\", \"Fields of study parent list names (L1)\", \"Fields of study parent list (L1)\",\n",
    "                                             \"Fields of study parent list names (L0)\", \"Fields of study parent list (L0)\"]\n",
    "f_sf = f_sf.rename({\"Paper publish year\": \"Year\"})\n",
    "f_sf = f_sf[f_sf[\"Fields of study parent list (L1)\"] != None]\n",
    "f_sf = f_sf.fillna(\"Fields of study parent list (L1)\", [])\n",
    "f_sf[\"Number of L1 Fields\"] = f_sf[\"Fields of study parent list (L1)\"].apply(lambda l: len(l))\n",
    "f_sf[\"Number of L0 Fields\"] = f_sf[\"Fields of study parent list (L0)\"].apply(lambda l: len(l))\n",
    "f_sf = f_sf[f_sf[\"Fields of study parent list (L0)\"] != None]\n",
    "f_sf = f_sf.fillna(\"Fields of study parent list (L0)\", [])\n",
    "f_sf = f_sf[f_sf[\"Number of L1 Fields\"] <= 10 ] # limit the number of paperes with too many research fields\n",
    "f_sf[\"Multidisciplinary Research\"] = f_sf[\"Fields of study parent list (L0)\"].apply(lambda l: 1 if  len(l) >=2 else 0)\n",
    "f_sf.materialize()\n",
    "f_sf[\"Keywords List\", \"Fields of study parent list names (L0)\", \"Fields of study parent list names (L1)\"]"
   ]
  },
  {
   "cell_type": "code",
   "execution_count": null,
   "metadata": {},
   "outputs": [],
   "source": [
    "g = f_sf[f_sf[\"Multidisciplinary Research\"]][\"Year\", \"Multidisciplinary Research\"]\n",
    "g = g.groupby(\"Year\", {\"Number of Papers\": agg.COUNT()})\n",
    "draw_features_yearly_chart(g, \"Number of Papers\", 1800, 2014, title=\"Number of Multidisciplinary Papers over Time\")"
   ]
  },
  {
   "cell_type": "code",
   "execution_count": null,
   "metadata": {},
   "outputs": [],
   "source": [
    "draw_feature_yearly_func_value(f_sf, \"Multidisciplinary Research\", \"Percentage of Multidisciplinary Papers\", 1900, 2014, func_name=\"agg.AVG\",title=\"Percentage of Multidisciplinary Papers over Time\")"
   ]
  },
  {
   "cell_type": "code",
   "execution_count": null,
   "metadata": {},
   "outputs": [],
   "source": [
    "draw_feature_yearly_func_value(f_sf, \"Number of L0 Fields\", \"Average Number of L0 Fields\", 1900, 2014, func_name=\"agg.AVG\", title=\"Average Number of L0 Fields over Time\")"
   ]
  },
  {
   "cell_type": "code",
   "execution_count": null,
   "metadata": {},
   "outputs": [],
   "source": [
    "draw_feature_yearly_func_value(f_sf, \"Number of L1 Fields\", \"Average Number of L1 Fields\", 1900, 2014, func_name=\"agg.AVG\",title=\"Average Number of L1 Fields over Time\")"
   ]
  },
  {
   "cell_type": "markdown",
   "metadata": {},
   "source": [
    "As it can be observed from the above charts, over the last century the overall number of multidisciplinary papers and the average number of research fields per publication considerably increased until 2010. Then, in 2010 there is a sharp decrease probably due to the decrease in papers with keywords, or due to other factors. Nevertheless, it clear that during the last century considerably more multidisciplinary publications have been published."
   ]
  },
  {
   "cell_type": "markdown",
   "metadata": {},
   "source": [
    "### 1.7 Trends in Papers' Number of References"
   ]
  },
  {
   "cell_type": "markdown",
   "metadata": {},
   "source": [
    "Let's check how the characteristics of papers have changed over time. We start with examining how the number of references have changed over the years."
   ]
  },
  {
   "cell_type": "code",
   "execution_count": null,
   "metadata": {},
   "outputs": [],
   "source": [
    "sf = tc.load_sframe(EXTENDED_PAPERS_SFRAME)[\"Paper publish year\", \"Ref Number\"]\n",
    "sf = sf.rename({\"Paper publish year\": \"Year\"})\n",
    "g = sf.groupby(\"Year\", {\"Average References Number\": agg.AVG(\"Ref Number\")})\n",
    "\n",
    "sf2 = sf[sf['Ref Number'] >= 5]\n",
    "g2 = sf2.groupby(\"Year\", {\"Average References Number (>= 5)\": agg.AVG(\"Ref Number\")})\n",
    "g = g.join(g2, how=\"left\")\n",
    "draw_features_yearly_chart_multi_lines(g, \"Publication Type\", \"Average References Number\", 1800, 2015, title=\"Average References Number over Time\")"
   ]
  },
  {
   "cell_type": "markdown",
   "metadata": {},
   "source": [
    "Let's use the Seaborn package to visualize how the distributions of citations have changed over the past decades. Looking at the data, we can observe there are many papers with hundreds and even thousands of references. However, most papers have far fewer citations. We will zoom in on papers that have between 5 and 100 references and observe how the number of citations has changed over time.\n"
   ]
  },
  {
   "cell_type": "code",
   "execution_count": null,
   "metadata": {},
   "outputs": [],
   "source": [
    "sf = sf[sf[\"Ref Number\"] <= 100]\n",
    "sf = sf[sf[\"Ref Number\"] >= 5]\n",
    "sf = sf.rename({\"Ref Number\": \"References Number\"})\n",
    "draw_features_decade_dist(sf, \"References Number\", 1960, 2013, col_warp=2, sharex=True, sharey=True)"
   ]
  },
  {
   "cell_type": "code",
   "execution_count": null,
   "metadata": {},
   "outputs": [],
   "source": [
    "decades_list = [1950, 1980, 1990, 2000, 2010]\n",
    "draw_layered_hist(sf, \"References Number\", decades_list, 1950, 2014)"
   ]
  },
  {
   "cell_type": "markdown",
   "metadata": {},
   "source": [
    "It can be observed that over time the percentage of papers with higher numbers of references has increased, especially in the last two decades. For example, while in 1960 only a few papers had over 20 references, since 2010 it is quite common to find papers with over 20 references. Moreover, while in the 1990s there were only a few papers with over 40 references, in recent years not only have a high number of papers been published each year, but also a higher percentage of them contains over 50 references.\n",
    "In the next subsection, we will be focusing on how the number of self-citations has changed over time.\n",
    "\n"
   ]
  },
  {
   "cell_type": "markdown",
   "metadata": {},
   "source": [
    "### 1.8 Self-Citation Trends"
   ]
  },
  {
   "cell_type": "markdown",
   "metadata": {},
   "source": [
    "Various papers claim that in recent years there has been a surge in the usage of self-citations. Let's widely check this claim using the MAG dataset and analyzing the self-citation number over time for papers with at least 5 references."
   ]
  },
  {
   "cell_type": "code",
   "execution_count": null,
   "metadata": {},
   "outputs": [],
   "source": [
    "sf = tc.load_sframe(EXTENDED_PAPER_REFERENCES_SFRAME)\n",
    "sf[\"Is Self Citation\"] = sf[\"self citation\"].apply(lambda i: 1 if i > 0 else 0)\n",
    "sf2 = tc.load_sframe(EXTENDED_PAPERS_SFRAME)[\"Paper ID\", \"Paper publish year\", \"Ref Number\"]\n",
    "sf2 = sf2[sf2[\"Ref Number\"] >= 5]\n",
    "sf2 = sf2.rename({\"Paper publish year\":\"Year\"})\n",
    "s_sf = sf.join(sf2)\n",
    "g = s_sf.groupby(\"Year\", {\"Total Self Citations\": agg.SUM(\"Is Self Citation\")})\n",
    "draw_features_yearly_chart(g, \"Total Self Citations\", 1900, 2014, title=\"Total Self-Citations over Time\")"
   ]
  },
  {
   "cell_type": "markdown",
   "metadata": {},
   "source": [
    "As can be seen in the above chart, the overall number of self-citations has exponentially grown over the last century. Let's observe how the average number of self-citations per paper has changed over the years."
   ]
  },
  {
   "cell_type": "code",
   "execution_count": null,
   "metadata": {},
   "outputs": [],
   "source": [
    "g = s_sf.groupby([\"Year\", \"Paper ID\", \"Ref Number\"], {\"Total Self Citations\": agg.SUM(\"Is Self Citation\")})\n",
    "draw_feature_yearly_func_value(g, \"Total Self Citations\", \"Average Number of Self-Citations per Paper\", 1950, 2014, func_name=\"agg.AVG\", title=\"Average Number of Self-Citations per Paper over Time\")"
   ]
  },
  {
   "cell_type": "code",
   "execution_count": null,
   "metadata": {},
   "outputs": [],
   "source": [
    "g[\"Self Citation Ratio\"] = g.apply(lambda r: r[\"Total Self Citations\"]/float(r[\"Ref Number\"]))\n",
    "draw_feature_yearly_func_value(g, \"Self Citation Ratio\", \"Average Self-Citation Percentage\", 1950, 2014, func_name=\"agg.AVG\", title=\"Average Self-Citation Percentage per Paper over Time\")"
   ]
  },
  {
   "cell_type": "code",
   "execution_count": null,
   "metadata": {},
   "outputs": [],
   "source": [
    "draw_feature_yearly_func_value(g, \"Total Self Citations\", \"Maximal Self-Citations Number\", 1950, 2014, func_name=\"agg.MAX\", title=\"Maximal Self-Citations Number over Time\")"
   ]
  },
  {
   "cell_type": "markdown",
   "metadata": {},
   "source": [
    "As can be observed from the above charts, the average number of self-citations has increased over the last century from about a single self-citation per paper in the 1980s to over 2.2 self-citations per paper in 2014. Moreover, in recent years there are papers with over 200 self-citations. However, due to the increase in the total number of references per paper, the overall percentage of self-citation references has decreased in recent years."
   ]
  },
  {
   "cell_type": "markdown",
   "metadata": {},
   "source": [
    "### 1.9 Trends in Paper Length"
   ]
  },
  {
   "cell_type": "markdown",
   "metadata": {},
   "source": [
    "We can use the papers that appear in both the MAG and AMiner datasets to calculate how papers’ lengths have changed over time. We first calculate the average paper lengths over time. Then, we calculate the average and median lengths of only journal papers over time."
   ]
  },
  {
   "cell_type": "code",
   "execution_count": null,
   "metadata": {},
   "outputs": [],
   "source": [
    "#first we filter papers with no page start or page end values\n",
    "def convert_to_int(i):\n",
    "    try:\n",
    "        return int(i)\n",
    "    except:\n",
    "        return None\n",
    "\n",
    "am_sf = tc.load_sframe(AMINER_PAPERS_SFRAME)[\"year\", \"page_start\", \"page_end\",\"references\"]\n",
    "am_sf[\"Ref Number\"] = am_sf[\"references\"].apply(lambda l: len(l))\n",
    "am_sf = am_sf[am_sf[\"Ref Number\"] >= 5] \n",
    "# Calculating papers length \n",
    "am_sf['page_start'] = am_sf['page_start'].apply(lambda p: convert_to_int(p))\n",
    "am_sf['page_end'] = am_sf['page_end'].apply(lambda p: convert_to_int(p))\n",
    "am_sf = am_sf[am_sf['page_start'] != None]\n",
    "am_sf = am_sf[am_sf['page_end'] != None]\n",
    "am_sf['Paper Length'] = am_sf.apply(lambda p: p['page_end'] - p['page_start'] + 1)\n",
    "am_sf = am_sf.rename({\"year\": \"Year\"})\n",
    "am_sf = am_sf[am_sf[\"Paper Length\"] > 0]\n",
    "am_sf = am_sf[am_sf[\"Paper Length\"] <= 2000] # removing papers with error parsed page numbers\n",
    "\n",
    "draw_feature_yearly_func_value(am_sf, \"Paper Length\", \"Average Paper Length\", 1950, 2014, func_name=\"agg.AVG\", title=\"Average Paper Length over Time\")"
   ]
  },
  {
   "cell_type": "code",
   "execution_count": null,
   "metadata": {},
   "outputs": [],
   "source": [
    "years = set([1950,1960, 1970,1980, 1990, 2010, 2013])\n",
    "sf = am_sf[am_sf[\"Year\"].apply(lambda y: y in years)][\"Year\",\"Paper Length\"]\n",
    "sf = sf[sf[\"Paper Length\"] <= 50]\n",
    "sns.boxplot(x=\"Year\", y=\"Paper Length\", data=sf.to_dataframe())"
   ]
  },
  {
   "cell_type": "markdown",
   "metadata": {},
   "source": [
    "According to the above charts, it seems that with time the average and median lengths of papers has decreased."
   ]
  },
  {
   "cell_type": "markdown",
   "metadata": {},
   "source": [
    "### 1.10 Papers with No Citations"
   ]
  },
  {
   "cell_type": "code",
   "execution_count": null,
   "metadata": {},
   "outputs": [],
   "source": [
    "def no_citations_after_years(citations_dict, year,after_years=5):\n",
    "    if citations_dict is None:\n",
    "        return 1\n",
    "    l = [v for k,v in citations_dict.iteritems() if (int(k) <= (year + after_years))]\n",
    "    if len(l) > 0:\n",
    "        return 0\n",
    "    return 1\n",
    "        \n",
    "m_sf = tc.load_sframe(EXTENDED_PAPERS_SFRAME)[\"Paper publish year\" , \"Ref Number\", \"Total Citations by Year\", \"Total Citations by Year without Self Citations\"]\n",
    "m_sf = m_sf.rename({\"Paper publish year\":\"Year\"})\n",
    "m_sf[\"No Citations After 5 Years\"] = m_sf.apply(lambda r: no_citations_after_years(r[\"Total Citations by Year\"], r[\"Year\"]))\n",
    "m_sf.materialize()\n",
    "draw_feature_yearly_func_value(m_sf, \"No Citations After 5 Years\", \"Percentage of Papers\", 1900, 2009, func_name=\"agg.AVG\", title=\"Papers with No Citations After 5 Years\")"
   ]
  },
  {
   "cell_type": "code",
   "execution_count": null,
   "metadata": {},
   "outputs": [],
   "source": [
    "m_sf = m_sf[m_sf[\"Ref Number\"] >= 5]\n",
    "\n",
    "draw_feature_yearly_func_value(m_sf, \"No Citations After 5 Years\", \"Percentage of Papers\", 1900, 2009, func_name=\"agg.AVG\", title=\"Papers with No Citations after 5 Years (Ref >= 5)\")"
   ]
  },
  {
   "cell_type": "code",
   "execution_count": null,
   "metadata": {},
   "outputs": [],
   "source": [
    "no_sf = m_sf[m_sf[\"No Citations After 5 Years\"] == 1]\n",
    "g = no_sf.groupby(\"Year\", {\"Number of papers\": agg.COUNT()})\n",
    "sf2 = no_sf[no_sf['Ref Number'] >= 5]\n",
    "g2 = sf2.groupby(\"Year\", {\"Number of papers (Ref >= 5)\": agg.COUNT()}) # Papers with less 5 references can be reports, news, and letters\n",
    "g = g.join(g2, how=\"left\")\n",
    "\n",
    "draw_features_yearly_chart_multi_lines(g, \"Publication Type\", \"Total Papers\", 1800, 2014, \"Number of Papers with No-Citations aftetr 5 Years\")\n"
   ]
  },
  {
   "cell_type": "markdown",
   "metadata": {},
   "source": [
    "In both charts, there is a steady decline in the number of papers with no citations after 5 years. However, even with this decline, over 70% of all published papers don't receive any citations, and over 20% of all papers with at least 5 references don't receive any citations. Let's repeat this calculation by not considering self-citations."
   ]
  },
  {
   "cell_type": "code",
   "execution_count": null,
   "metadata": {},
   "outputs": [],
   "source": [
    "m_sf = tc.load_sframe(EXTENDED_PAPERS_SFRAME)[\"Paper publish year\" , \"Ref Number\", \"Total Citations by Year\", \"Total Citations by Year without Self Citations\"]\n",
    "m_sf = m_sf.rename({\"Paper publish year\":\"Year\"})\n",
    "m_sf[\"No Citations After 5 Years\"] = m_sf.apply(lambda r: no_citations_after_years(r[\"Total Citations by Year without Self Citations\"], r[\"Year\"]))\n",
    "m_sf.materialize()\n",
    "draw_feature_yearly_func_value(m_sf, \"No Citations After 5 Years\", \"Percentage of Papers\", 1900, 2009, func_name=\"agg.AVG\",title=\"Papers with No Citations other than Self-Citations after 5 Years\")"
   ]
  },
  {
   "cell_type": "code",
   "execution_count": null,
   "metadata": {},
   "outputs": [],
   "source": [
    "m_sf = m_sf[m_sf[\"Ref Number\"] >= 5]\n",
    "draw_feature_yearly_func_value(m_sf, \"No Citations After 5 Years\", \"Percentage of Papers\", 1900, 2009, func_name=\"agg.AVG\", title=\"Papers with No Citations other than Self-Citations after 5 Years (Ref >=5)\")"
   ]
  },
  {
   "cell_type": "markdown",
   "metadata": {},
   "source": [
    "These results indicate that each year huge amounts of resources are being spent on papers that probably have a limited impact. Nevertheless, even though the total number of uncited papers has increased over the years, the percentage of uncited papers has decreased."
   ]
  },
  {
   "cell_type": "markdown",
   "metadata": {},
   "source": [
    "### 1.11 Citation Distribution Trends"
   ]
  },
  {
   "cell_type": "code",
   "execution_count": null,
   "metadata": {},
   "outputs": [],
   "source": [
    "selected_decades = {1950,1960, 1970, 1980, 1990, 2000}\n",
    "sf = tc.load_sframe(EXTENDED_PAPERS_SFRAME)['Total Citations by Year',\"Paper publish year\", \"Ref Number\"]\n",
    "sf = sf[sf[\"Ref Number\"] >= 5]\n",
    "sf = sf.fillna('Total Citations by Year', {})\n",
    "sf  = sf.rename({\"Paper publish year\": \"Year\"})\n",
    "sf[\"Decade\"] = sf[\"Year\"].apply(lambda y: y- y%10)\n",
    "sf = sf[sf[\"Decade\"].apply(lambda decade: decade in selected_decades)]\n",
    "\n",
    "sf['Total Citations by Year'] = sf['Total Citations by Year'].apply(lambda d: {int(k):v for k,v in d.iteritems()})\n",
    "sf['Total Citations'] = sf.apply(lambda r: {int(k - r[\"Year\"]): v for k, v in r['Total Citations by Year'].iteritems()})\n",
    "\n",
    "def citation_after_years(d, years):\n",
    "    keys = [k for k in d.keys() if  k<=years]\n",
    "    if len(keys) == 0:\n",
    "        return 0\n",
    "    return int(d[max(keys)])\n",
    "sf['Total Citations After 10 Years'] = sf['Total Citations'].apply(lambda d: citation_after_years(d, 10) )\n",
    "g = sf.groupby([\"Decade\", 'Total Citations After 10 Years'], {\"Number of Papers\": agg.COUNT()})\n",
    "g2 = sf.groupby(\"Decade\", {\"Total Number of Papers\": agg.COUNT()})\n",
    "g = g.join(g2, on=\"Decade\")\n",
    "g['Paper Percentage'] = g.apply(lambda r: r['Number of Papers']/float(r[\"Total Number of Papers\"]))\n",
    "g = g.sort([\"Decade\", \"Total Citations After 10 Years\"])\n",
    "g = g.sort([\"Decade\", \"Total Citations After 10 Years\"])"
   ]
  },
  {
   "cell_type": "code",
   "execution_count": null,
   "metadata": {},
   "outputs": [],
   "source": [
    "import plotly.plotly as py\n",
    "import plotly.graph_objs as go\n",
    "\n",
    "import urllib\n",
    "import numpy as np\n",
    "#X-axis citation number; Y-axis- decade; Z-axis Percentage\n",
    "traces = []\n",
    "for decade in selected_decades:\n",
    "    g2 = g[g[\"Decade\"] == decade]\n",
    "    x = []\n",
    "    y = []\n",
    "    z = []\n",
    "    for r in g2:\n",
    "        z.append([r[\"Paper Percentage\"], r[\"Paper Percentage\"]])\n",
    "        y.append([decade, decade+2])\n",
    "        x.append([r['Total Citations After 10 Years'], r['Total Citations After 10 Years']])\n",
    "    traces.append(dict(\n",
    "        z=z,\n",
    "        x=x,\n",
    "        y=y,\n",
    "        #colorscale=[ [i, 'rgb(%d,%d,255)'%(ci, ci)] for i in np.arange(0,1.1,0.1) ],\n",
    "        showscale=False,\n",
    "        type='surface',\n",
    "    ))\n",
    "   \n",
    "layout = go.Layout(\n",
    "                    scene = dict(\n",
    "                    xaxis = dict(\n",
    "                        title='Citation Number After 10 Years'),\n",
    "                    yaxis = dict(\n",
    "                        title='Decade'),\n",
    "                    zaxis = dict(\n",
    "                        title='Percentage of Papers'),),\n",
    "                    width=700,\n",
    "                    showlegend=True\n",
    "                  )\n",
    "\n",
    "fig = { 'data':traces, 'layout':layout}\n",
    "py.iplot(fig, filename='ribbon-plot-python')"
   ]
  },
  {
   "cell_type": "markdown",
   "metadata": {},
   "source": [
    "### 1.12 Feature Correlations\n",
    "To better understand if the above described features have a positive or negative influence on a paper’s citation number, we calculated the correlations among the various features and the paper’s number of citations after 5-years."
   ]
  },
  {
   "cell_type": "code",
   "execution_count": null,
   "metadata": {},
   "outputs": [],
   "source": [
    "join_sf = tc.load_sframe(AMINER_MAG_JOIN_SFRAME)['Paper publish year','Original paper title', 'Ref Number','Keywords List', 'Authors Number','Total Citations by Year',\n",
    "                                                'abstract', 'page_start', 'page_end']\n",
    "join_sf = join_sf.rename({\"Paper publish year\": \"Year\", \"Original paper title\":\"Title\"})\n",
    "join_sf = filter_sframe_by_years(join_sf, 1950, 2009)\n",
    "join_sf[\"Title Language\"] = join_sf[\"Title\"].apply(lambda t: detect_lang(t))\n",
    "join_sf = join_sf[join_sf['Ref Number'] != None]\n",
    "join_sf = join_sf[join_sf['Title Language'] == 'english']\n",
    "join_sf = join_sf[join_sf['abstract'] != None]\n",
    "join_sf = join_sf[join_sf['page_start'] != None]\n",
    "join_sf = join_sf[join_sf['page_end'] != None]\n",
    "join_sf = join_sf[join_sf['Total Citations by Year'] != None]\n",
    "join_sf = join_sf.fillna(\"Keywords List\", [])\n",
    "join_sf[\"Keywords Number\"] = join_sf[\"Keywords List\"].apply(lambda l: len(l))\n",
    "join_sf = join_sf[join_sf[\"Keywords Number\"].apply(lambda k:  k>0)]\n",
    "join_sf.materialize()"
   ]
  },
  {
   "cell_type": "code",
   "execution_count": null,
   "metadata": {},
   "outputs": [],
   "source": [
    "sf = join_sf\n",
    "sf[\"Title Length\"] = sf[\"Title\"].apply(lambda t: len(t.split())) \n",
    "sf = sf[sf[\"Title Length\"] > 1]\n",
    "sf = sf[sf[\"Title Length\"] < 50] # remove long titles that probably are results of problem in title parsing\n",
    "sf['Title ?/! Marks'] = sf[\"Title\"].apply(lambda t: 1 if ('!' in t or '?' in t) else 0 )\n",
    "sf[\"Abstract Length\"] = sf['abstract'].apply(lambda a: len(a.split()))\n",
    "sf = sf[sf[\"Abstract Length\"] > 10]  #  remove short abstaract\n",
    "sf = sf[sf[\"Abstract Length\"] <= 2000] #  remove long abstaract\n",
    "sf.materialize()\n",
    "sf[\"abstract_lang\"] = sf[\"abstract\"].apply(lambda t: detect_lang(t))\n",
    "sf = sf[sf[\"abstract_lang\"] == \"english\"]\n",
    "sf['page_start'] = sf['page_start'].apply(lambda p: convert_to_int(p))\n",
    "sf['page_end'] = sf['page_end'].apply(lambda p: convert_to_int(p))\n",
    "sf = sf[sf['page_start'] != None]\n",
    "sf = sf[sf['page_end'] != None]\n",
    "sf['Paper Length'] = sf.apply(lambda p: p['page_end'] - p['page_start'] + 1)\n",
    "sf['Total Citations by Year'] = sf['Total Citations by Year'].apply(lambda d: {int(k):v for k,v in d.iteritems()})\n",
    "sf['Total Citations'] = sf.apply(lambda r: {int(k - r[\"Year\"]): v for k, v in r['Total Citations by Year'].iteritems()})\n",
    "sf['Total Citations After 5 Years'] = sf['Total Citations'].apply(lambda d: citation_after_years(d, 5) )\n",
    "sf = sf[\"Year\",\"Title Length\",\"Title ?/! Marks\", \"Authors Number\",  \"Abstract Length\", \"Keywords Number\", \"Ref Number\", \"Paper Length\",\"Total Citations After 5 Years\"]\n",
    "df = sf.remove_column(\"Year\").to_dataframe()\n",
    "corr = df.corr('spearman')\n",
    "mask = np.zeros_like(corr)\n",
    "mask[np.triu_indices_from(mask)] = True\n",
    "ax = sns.heatmap(corr, mask=mask, annot=True, vmax=.5)"
   ]
  },
  {
   "cell_type": "markdown",
   "metadata": {},
   "source": [
    "We can also calculate the correlation for specific years and get similar results."
   ]
  },
  {
   "cell_type": "code",
   "execution_count": null,
   "metadata": {},
   "outputs": [],
   "source": [
    "sf_1980 = sf[sf[\"Year\"] == 1980]\n",
    "df = sf_1980.remove_column(\"Year\").to_dataframe()\n",
    "corr = df.corr('spearman')\n",
    "mask = np.zeros_like(corr)\n",
    "mask[np.triu_indices_from(mask)] = True\n",
    "ax = sns.heatmap(corr, mask=mask, annot=True, vmax=.5)"
   ]
  },
  {
   "cell_type": "code",
   "execution_count": null,
   "metadata": {},
   "outputs": [],
   "source": [
    "sf_2000 = sf[sf[\"Year\"] == 2000]\n",
    "df = sf_2000.remove_column(\"Year\").to_dataframe()\n",
    "corr = df.corr('spearman')\n",
    "mask = np.zeros_like(corr)\n",
    "mask[np.triu_indices_from(mask)] = True\n",
    "ax = sns.heatmap(corr, mask=mask, annot=True, vmax=.5)"
   ]
  }
 ],
 "metadata": {
  "kernelspec": {
   "display_name": "Python [conda env:promed]",
   "language": "python",
   "name": "conda-env-promed-py"
  },
  "language_info": {
   "codemirror_mode": {
    "name": "ipython",
    "version": 3
   },
   "file_extension": ".py",
   "mimetype": "text/x-python",
   "name": "python",
   "nbconvert_exporter": "python",
   "pygments_lexer": "ipython3",
   "version": "3.6.8"
  }
 },
 "nbformat": 4,
 "nbformat_minor": 4
}
