{
 "cells": [
  {
   "cell_type": "markdown",
   "metadata": {},
   "source": [
    "# Part III - D: Analyzing Changing Trends in Academia - Research Fields"
   ]
  },
  {
   "cell_type": "markdown",
   "metadata": {},
   "source": [
    "## 4. Research Field  Dynamics\n",
    "The MAG dataset links keywords and their corresponding field of study. Moreover, the dataset provides us with hierarchical data that links these research fields with their parent research fields in up to 4 levels (L0-L3). In this notebook, we will use the research field data to better understand how various fields of study change over time. First, as in previous notebooks, let's load the required Python packages."
   ]
  },
  {
   "cell_type": "code",
   "execution_count": null,
   "metadata": {},
   "outputs": [],
   "source": [
    "from configs import *\n",
    "import pandas as pd\n",
    "import numpy as np\n",
    "import altair as alt\n",
    "alt.renderers.enable('notebook')\n",
    "from visualization.visual_utils import *\n",
    "import turicreate.aggregate as agg\n",
    "FIELD_OF_STUDY_HIERARCHY = \"%s/FieldOfStudyHierarchy.sframe\" % SFRAMES_BASE_DIR\n",
    "\n",
    "def normalize_features_dict(feature_dict, start_year):\n",
    "    d = {}\n",
    "    feature_dict = {(y - start_year):v for y,v in feature_dict.iteritems()}\n",
    "    return feature_dict\n",
    "\n",
    "def get_values_sum_by_year_dict(d, max_keys):\n",
    "    d2 = {}\n",
    "    for i in range(max_keys):\n",
    "        d2[i] = sum([v for k,v in d.iteritems() if k <= i])\n",
    "    return d2 \n",
    "\n",
    "fields_sf = tc.load_sframe(EXTENDED_PAPERS_SFRAME)[\"Paper ID\", \"Paper publish year\",\"Fields of study parent list names (L0)\", \n",
    "                                                   \"Fields of study parent list (L1)\", \"Fields of study parent list names (L1)\",\n",
    "                                                    \"Fields of study parent list (L2)\", \"Fields of study parent list names (L2)\",\n",
    "                                                   \"Ref Number\", \"Authors Number\", \"Total Citations by Year\"]\n",
    "fields_sf = fields_sf.rename({\"Paper publish year\": \"Year\"})\n",
    "fields_sf = filter_sframe_by_years(fields_sf, 1850, 2010)\n",
    "fields_sf = fields_sf[fields_sf[\"Fields of study parent list names (L0)\"] != None]\n",
    "fields_sf = fields_sf[fields_sf[\"Fields of study parent list names (L0)\"].apply(lambda l: len(l) <= 10)] # remove papers that belong to more than 10 fields\n",
    "fields_sf = fields_sf[fields_sf[\"Ref Number\"] >= 5]\n",
    "fields_sf.materialize()"
   ]
  },
  {
   "cell_type": "markdown",
   "metadata": {},
   "source": [
    "Let's create SFrame with the information on all L0 fields of study."
   ]
  },
  {
   "cell_type": "code",
   "execution_count": null,
   "metadata": {},
   "outputs": [],
   "source": [
    "# Creating the L0 SFrame\n",
    "l0_sf = fields_sf[\"Paper ID\", \"Year\",\"Fields of study parent list names (L0)\", \"Authors Number\", \"Ref Number\",\"Total Citations by Year\"].stack(\"Fields of study parent list names (L0)\", new_column_name=\"L0 Field\")\n",
    "l0_sf = l0_sf[l0_sf[\"L0 Field\"] != None]\n",
    "l0_sf.materialize()\n",
    "l0_sf"
   ]
  },
  {
   "cell_type": "markdown",
   "metadata": {},
   "source": [
    "Now let's explore how the various trends change in each research field, and we will add an SFrame which includes all the L1 research fields under Biology."
   ]
  },
  {
   "cell_type": "code",
   "execution_count": null,
   "metadata": {},
   "outputs": [],
   "source": [
    "# Creating Biology L1 Sframe\n",
    "f_sf = tc.load_sframe(FIELDS_OF_STUDY_SFRAME)\n",
    "bio_id = f_sf[f_sf[\"Field of study name\"] == \"Biology\"][\"Field of study ID\"][0]\n",
    "h_sf = tc.load_sframe(FIELD_OF_STUDY_HIERARCHY)\n",
    "h_sf = h_sf[h_sf[\"Parent field of study ID\"] == bio_id]\n",
    "bio_l1_ids = set(h_sf[h_sf[\"Child field of study level\"] == \"L1\"][\"Child field of study ID\"])\n",
    "bio_l1_names_sf = f_sf[f_sf[\"Field of study ID\"].apply(lambda i: i in bio_l1_ids)]\n",
    "bio_l1_dict = {r[\"Field of study ID\"]: r[\"Field of study name\"] for r in bio_l1_names_sf}\n",
    "\n",
    "sf = fields_sf[\"Paper ID\", \"Year\",\"Fields of study parent list names (L0)\", \"Fields of study parent list (L1)\", \"Authors Number\", \"Ref Number\", \"Total Citations by Year\"]\n",
    "l1_bio_sframe = sf[sf[\"Fields of study parent list (L1)\"] != None]\n",
    "l1_bio_sframe = l1_bio_sframe.stack(\"Fields of study parent list (L1)\", new_column_name=\"L1 Field ID\" )\n",
    "l1_bio_sframe = l1_bio_sframe[l1_bio_sframe[\"L1 Field ID\"].apply(lambda i: i in bio_l1_ids)]\n",
    "l1_bio_sframe = l1_bio_sframe[l1_bio_sframe[\"L1 Field ID\"] != None]\n",
    "l1_bio_sframe[\"L1 Field\"] = l1_bio_sframe[\"L1 Field ID\"].apply(lambda i: bio_l1_dict[i])\n",
    "l1_bio_sframe"
   ]
  },
  {
   "cell_type": "code",
   "execution_count": null,
   "metadata": {},
   "outputs": [],
   "source": [
    "# Creating Biology L2 Sframe for \n",
    "gen_id = f_sf[f_sf[\"Field of study name\"] == \"Genetics\"][\"Field of study ID\"][0]\n",
    "h_sf = tc.load_sframe(FIELD_OF_STUDY_HIERARCHY)\n",
    "h_sf = h_sf[h_sf[\"Parent field of study ID\"] == gen_id]\n",
    "gen_l2_ids = set(h_sf[h_sf[\"Child field of study level\"] == \"L2\"][\"Child field of study ID\"])\n",
    "gen_l2_names_sf = f_sf[f_sf[\"Field of study ID\"].apply(lambda i: i in gen_l2_ids)]\n",
    "gen_l2_dict = {r[\"Field of study ID\"]: r[\"Field of study name\"] for r in gen_l2_names_sf}\n",
    "\n",
    "sf = fields_sf[\"Paper ID\", \"Year\", \"Fields of study parent list (L2)\", \"Authors Number\", \"Ref Number\", \"Total Citations by Year\"]\n",
    "l2_gen_sframe = sf[sf[\"Fields of study parent list (L2)\"] != None]\n",
    "l2_gen_sframe = l2_gen_sframe.stack(\"Fields of study parent list (L2)\", new_column_name=\"L2 Field ID\" )\n",
    "l2_gen_sframe = l2_gen_sframe[l2_gen_sframe[\"L2 Field ID\"].apply(lambda i: i in gen_l2_ids)]\n",
    "l2_gen_sframe = l2_gen_sframe[l2_gen_sframe[\"L2 Field ID\"] != None]\n",
    "l2_gen_sframe[\"L2 Field\"] = l2_gen_sframe[\"L2 Field ID\"].apply(lambda i: gen_l2_dict[i])\n",
    "l2_gen_sframe"
   ]
  },
  {
   "cell_type": "markdown",
   "metadata": {},
   "source": [
    "### 4.1  Number of Papers over Time"
   ]
  },
  {
   "cell_type": "code",
   "execution_count": null,
   "metadata": {},
   "outputs": [],
   "source": [
    "g = l0_sf.groupby([\"Year\", \"L0 Field\"], {\"Number of Papers\": agg.COUNT()})\n",
    "df = g.to_dataframe()\n",
    "df = df.sort_values([\"L0 Field\", \"Year\"])\n",
    "chart = alt.Chart(df).mark_line().encode(\n",
    "    alt.X('Year:Q', axis=alt.Axis(format='d'), scale=alt.Scale(zero=False)),\n",
    "    alt.Y('Number of Papers:Q', scale=alt.Scale(zero=False)),\n",
    "    color=\"L0 Field\"\n",
    ")\n",
    "chart"
   ]
  },
  {
   "cell_type": "code",
   "execution_count": null,
   "metadata": {},
   "outputs": [],
   "source": [
    "c = sns.FacetGrid(df, col=\"L0 Field\", sharex=True, sharey=True, col_wrap=5)\n",
    "c.map(plt.plot, \"Year\", \"Number of Papers\", alpha=.7).set_titles(\"{col_name}\")"
   ]
  },
  {
   "cell_type": "code",
   "execution_count": null,
   "metadata": {},
   "outputs": [],
   "source": [
    "g[g[\"Year\"] == 2010].sort(\"Number of Papers\").print_rows(30)"
   ]
  },
  {
   "cell_type": "markdown",
   "metadata": {},
   "source": [
    "We can observe that some fields such as Medicine, Physics, and CS had a surge in the number of papers, while other fields such as Political Science, Art, and Philosophy only had limited growth. Let's see what the number of papers over time are for various Biology subfields."
   ]
  },
  {
   "cell_type": "code",
   "execution_count": null,
   "metadata": {},
   "outputs": [],
   "source": [
    "g = l1_bio_sframe.groupby([\"Year\", \"L1 Field\"], {\"Number of Papers\": agg.COUNT()})\n",
    "df = g.to_dataframe()\n",
    "df = df.sort_values([\"L1 Field\", \"Year\"])\n",
    "c = sns.FacetGrid(df, col=\"L1 Field\", sharex=True, sharey=True, col_wrap=5)\n",
    "c.map(plt.plot, \"Year\", \"Number of Papers\", alpha=.7, color='g').set_titles(\"{col_name}\")"
   ]
  },
  {
   "cell_type": "markdown",
   "metadata": {},
   "source": [
    "From the above chart, we can observe that the various subfields of Biology have a large difference in the number of published papers. For example, in Genetics more than 114,532 papers were published in 2010, while in Virology the number of papers was only 2,597."
   ]
  },
  {
   "cell_type": "code",
   "execution_count": null,
   "metadata": {},
   "outputs": [],
   "source": [
    "g = l2_gen_sframe.groupby([\"Year\", \"L2 Field\"], {\"Number of Papers\": agg.COUNT()})\n",
    "df = g.to_dataframe()\n",
    "df = df.sort_values([\"L2 Field\", \"Year\"])\n",
    "c = sns.FacetGrid(df, col=\"L2 Field\", sharex=True, sharey=True, col_wrap=5)\n",
    "c.map(plt.plot, \"Year\", \"Number of Papers\", alpha=.7, color=\"orange\").set_titles(\"{col_name}\")"
   ]
  },
  {
   "cell_type": "markdown",
   "metadata": {},
   "source": [
    "### 4.2  Number of Authors over Time"
   ]
  },
  {
   "cell_type": "markdown",
   "metadata": {},
   "source": [
    "Let's measure the average number of authors over time for the various research fields."
   ]
  },
  {
   "cell_type": "code",
   "execution_count": null,
   "metadata": {},
   "outputs": [],
   "source": [
    "g = l0_sf.groupby([\"Year\", \"L0 Field\"], {\"Average Number of Authors\": agg.AVG(\"Authors Number\")})\n",
    "df = g.to_dataframe()\n",
    "df = df.sort_values([\"L0 Field\", \"Year\"])\n",
    "c = sns.FacetGrid(df, col=\"L0 Field\", sharex=True, sharey=True, col_wrap=5)\n",
    "c.map(plt.plot, \"Year\", \"Average Number of Authors\", alpha=.7).set_titles(\"{col_name}\")"
   ]
  },
  {
   "cell_type": "markdown",
   "metadata": {},
   "source": [
    "We can observe that across all research fields the average number of authors has increased sharply over the last century. However, while the average number of authors in Medicine and Biology is over 5 authors, in fields such as Political Science, Sociology, and Philosophy the average number of authors is about 3. Let's now observe how the average number of authors in Biology subfields has changed over time."
   ]
  },
  {
   "cell_type": "code",
   "execution_count": null,
   "metadata": {},
   "outputs": [],
   "source": [
    "g = l1_bio_sframe.groupby([\"Year\", \"L1 Field\"], {\"Average Number of Authors\": agg.AVG(\"Authors Number\")})\n",
    "df = g.to_dataframe()\n",
    "df = df.sort_values([\"L1 Field\", \"Year\"])\n",
    "c = sns.FacetGrid(df, col=\"L1 Field\", sharex=True, sharey=True, col_wrap=5)\n",
    "c.map(plt.plot, \"Year\", \"Average Number of Authors\", alpha=.7,color='g').set_titles(\"{col_name}\")"
   ]
  },
  {
   "cell_type": "code",
   "execution_count": null,
   "metadata": {},
   "outputs": [],
   "source": [
    "g = l2_gen_sframe.groupby([\"Year\", \"L2 Field\"], {\"Average Number of Authors\": agg.AVG(\"Authors Number\")})\n",
    "df = g.to_dataframe()\n",
    "df = df.sort_values([\"L2 Field\", \"Year\"])\n",
    "c = sns.FacetGrid(df, col=\"L2 Field\", sharex=True, sharey=True, col_wrap=5)\n",
    "c.map(plt.plot, \"Year\", \"Average Number of Authors\", alpha=.7, color=\"orange\").set_titles(\"{col_name}\")"
   ]
  },
  {
   "cell_type": "markdown",
   "metadata": {},
   "source": [
    "We can also observe a wide diversity in the average number of authors in various Biology subfields."
   ]
  },
  {
   "cell_type": "markdown",
   "metadata": {},
   "source": [
    "### 4.3  Number of References over Time"
   ]
  },
  {
   "cell_type": "markdown",
   "metadata": {},
   "source": [
    "Let's calculate the average number of references in the L0 research fields, and in the Biology subfields."
   ]
  },
  {
   "cell_type": "code",
   "execution_count": null,
   "metadata": {},
   "outputs": [],
   "source": [
    "g = l0_sf.groupby([\"Year\", \"L0 Field\"], {\"Average References Number\": agg.AVG(\"Ref Number\")})\n",
    "df = g.to_dataframe()\n",
    "df = df.sort_values([\"L0 Field\", \"Year\"])\n",
    "c = sns.FacetGrid(df, col=\"L0 Field\", sharex=True, sharey=True, col_wrap=5)\n",
    "c.map(plt.plot, \"Year\", \"Average References Number\", alpha=.7).set_titles(\"{col_name}\")"
   ]
  },
  {
   "cell_type": "markdown",
   "metadata": {},
   "source": [
    "It seems that across all the research fields the average number of references per paper has increased sharply in recent years. However, there are research fields, such as Biology, in which the average number of references is above 30, while in other fields, such as Mathematics, the average number of references is about 20. Let's observe what the average number of references is in Biology subfields:"
   ]
  },
  {
   "cell_type": "code",
   "execution_count": null,
   "metadata": {},
   "outputs": [],
   "source": [
    "g = l1_bio_sframe.groupby([\"Year\", \"L1 Field\"], {\"Average References Number\": agg.AVG(\"Ref Number\")})\n",
    "df = g.to_dataframe()\n",
    "df = df.sort_values([\"L1 Field\", \"Year\"])\n",
    "c = sns.FacetGrid(df, col=\"L1 Field\", sharex=True, sharey=True, col_wrap=5)\n",
    "c.map(plt.plot, \"Year\", \"Average References Number\", alpha=.7, color=\"g\").set_titles(\"{col_name}\")"
   ]
  },
  {
   "cell_type": "markdown",
   "metadata": {},
   "source": [
    "As in previous results, we can observe that the average number of references has considerably increased over all the Biology subfields. However, while papers in some subfields increased to over 40 references, papers in other subfields had many fewer references."
   ]
  },
  {
   "cell_type": "code",
   "execution_count": null,
   "metadata": {},
   "outputs": [],
   "source": [
    "g = l2_gen_sframe.groupby([\"Year\", \"L2 Field\"], {\"Average References Number\": agg.AVG(\"Ref Number\")})\n",
    "df = g.to_dataframe()\n",
    "df = df.sort_values([\"L2 Field\", \"Year\"])\n",
    "c = sns.FacetGrid(df, col=\"L2 Field\", sharex=True, sharey=True, col_wrap=5)\n",
    "c.map(plt.plot, \"Year\", \"Average References Number\", alpha=.7,color=\"orange\").set_titles(\"{col_name}\")"
   ]
  },
  {
   "cell_type": "markdown",
   "metadata": {},
   "source": [
    "### 4.4 Number of Citations over Time"
   ]
  },
  {
   "cell_type": "markdown",
   "metadata": {},
   "source": [
    "Let's calculate the average and median number of citationsin the L0 research fields, and in the Biology subfields."
   ]
  },
  {
   "cell_type": "code",
   "execution_count": null,
   "metadata": {},
   "outputs": [],
   "source": [
    "def citations_after_years(citations_dict, year, after_years=5):\n",
    "    if citations_dict is None:\n",
    "        return 0\n",
    "    l = [v for k,v in citations_dict.iteritems() if (int(k) <= (year + after_years))] # it is about 5-6 years \n",
    "    if len(l) == 0:\n",
    "        return 0\n",
    "    return max(l)\n",
    "\n",
    "l0_sf['Total Ciations After 5 Years'] = l0_sf.apply(lambda r: citations_after_years(r['Total Citations by Year'],\n",
    "                                                                                   r[\"Year\"], 5))\n",
    "\n",
    "\n",
    "g = l0_sf.groupby([\"Year\", \"L0 Field\"], {\"Average Citations after 5 Years\": agg.AVG('Total Ciations After 5 Years'), \n",
    "                                         \"Citations after 5 Years List\": agg.CONCAT('Total Ciations After 5 Years')})\n",
    "g[\"Median Citations after 5 Years\"] = g[\"Citations after 5 Years List\"].apply(lambda l: np.median(l))\n",
    "g = g.remove_column(\"Citations after 5 Years List\")\n",
    "df = g.to_dataframe()\n",
    "df = df.sort_values([\"L0 Field\", \"Year\"])\n",
    "c = sns.FacetGrid(df, col=\"L0 Field\", sharex=True, sharey=True, col_wrap=5)\n",
    "c.map(plt.plot, \"Year\", \"Median Citations after 5 Years\", alpha=.7).set_titles(\"{col_name}\")"
   ]
  },
  {
   "cell_type": "code",
   "execution_count": null,
   "metadata": {},
   "outputs": [],
   "source": [
    "c = sns.FacetGrid(df, col=\"L0 Field\", sharex=True, sharey=True, col_wrap=5)\n",
    "c.map(plt.plot, \"Year\", \"Average Citations after 5 Years\", alpha=.7).set_titles(\"{col_name}\")"
   ]
  },
  {
   "cell_type": "code",
   "execution_count": null,
   "metadata": {},
   "outputs": [],
   "source": [
    "l1_bio_sframe['Total Ciations After 5 Years'] = l1_bio_sframe.apply(lambda r: citations_after_years(r['Total Citations by Year'],\n",
    "                                                                                   r[\"Year\"], 5))\n",
    "\n",
    "g = l1_bio_sframe.groupby([\"Year\", \"L1 Field\"], {\"Average Citations after 5 Years\": agg.AVG('Total Ciations After 5 Years'),\n",
    "                                                 \"Citations after 5 Years List\": agg.CONCAT('Total Ciations After 5 Years')\n",
    "                                                })\n",
    "g[\"Median Citations after 5 Years\"] = g[\"Citations after 5 Years List\"].apply(lambda l: np.median(l))\n",
    "g = g.remove_column(\"Citations after 5 Years List\")\n",
    "df = g.to_dataframe()\n",
    "df = df.sort_values([\"L1 Field\", \"Year\"])\n",
    "c = sns.FacetGrid(df, col=\"L1 Field\", sharex=True, sharey=True, col_wrap=5)\n",
    "c.map(plt.plot, \"Year\", \"Average Citations after 5 Years\", alpha=.7,color=\"g\").set_titles(\"{col_name}\")"
   ]
  },
  {
   "cell_type": "code",
   "execution_count": null,
   "metadata": {},
   "outputs": [],
   "source": [
    "c = sns.FacetGrid(df, col=\"L1 Field\", sharex=True, sharey=True, col_wrap=5)\n",
    "c.map(plt.plot, \"Year\", \"Median Citations after 5 Years\", alpha=.7,color=\"g\").set_titles(\"{col_name}\")"
   ]
  },
  {
   "cell_type": "code",
   "execution_count": null,
   "metadata": {},
   "outputs": [],
   "source": [
    "l2_gen_sframe['Total Ciations After 5 Years'] = l2_gen_sframe.apply(lambda r: citations_after_years(r['Total Citations by Year'],\n",
    "                                                                                   r[\"Year\"], 5))\n",
    "\n",
    "g = l2_gen_sframe.groupby([\"Year\", \"L2 Field\"], {\"Average Citations after 5 Years\": agg.AVG('Total Ciations After 5 Years'),\n",
    "                                                 \"Citations after 5 Years List\": agg.CONCAT('Total Ciations After 5 Years')\n",
    "                                                })\n",
    "g[\"Median Citations after 5 Years\"] = g[\"Citations after 5 Years List\"].apply(lambda l: np.median(l))\n",
    "g = g.remove_column(\"Citations after 5 Years List\")\n",
    "df = g.to_dataframe()\n",
    "df = df.sort_values([\"L2 Field\", \"Year\"])\n",
    "c = sns.FacetGrid(df, col=\"L2 Field\", sharex=True, sharey=True, col_wrap=5)\n",
    "c.map(plt.plot, \"Year\", \"Average Citations after 5 Years\", alpha=.7,color=\"orange\").set_titles(\"{col_name}\")"
   ]
  },
  {
   "cell_type": "code",
   "execution_count": null,
   "metadata": {},
   "outputs": [],
   "source": [
    "c = sns.FacetGrid(df, col=\"L2 Field\", sharex=True, sharey=True, col_wrap=5)\n",
    "c.map(plt.plot, \"Year\", \"Median Citations after 5 Years\", alpha=.7,color=\"orange\").set_titles(\"{col_name}\")"
   ]
  },
  {
   "cell_type": "code",
   "execution_count": null,
   "metadata": {},
   "outputs": [],
   "source": [
    "l3_fields_sf = tc.load_sframe(EXTENDED_PAPERS_SFRAME)[\"Paper ID\", \"Paper publish year\",\n",
    "                                                    'Fields of study parent list (L3)',\n",
    "                                                   \"Ref Number\", \"Authors Number\", \"Total Citations by Year\"]\n",
    "l3_fields_sf = l3_fields_sf.rename({\"Paper publish year\": \"Year\"})\n",
    "l3_fields_sf = l3_fields_sf[l3_fields_sf['Fields of study parent list (L3)'] != None]\n",
    "l3_fields_sf = l3_fields_sf[l3_fields_sf['Fields of study parent list (L3)'].apply(lambda l: len(l) <= 100)] # remove papers that belong to more than 10 fields\n",
    "l3_fields_sf = l3_fields_sf[l3_fields_sf[\"Ref Number\"] >= 5]\n",
    "l3_fields_sf.materialize()"
   ]
  },
  {
   "cell_type": "code",
   "execution_count": null,
   "metadata": {},
   "outputs": [],
   "source": [
    "l3_fields_sf = filter_sframe_by_years(l3_fields_sf, 2009, 2009)\n",
    "l3_fields_sf =  l3_fields_sf.stack(\"Fields of study parent list (L3)\", new_column_name=\"L3 Field ID\")\n",
    "l3_fields_sf = l3_fields_sf[l3_fields_sf['Total Citations by Year'] != None]\n",
    "l3_fields_sf['Citations After 5 Years'] = l3_fields_sf.apply(lambda r: citations_after_years(r['Total Citations by Year'],\n",
    "                                                                                   r[\"Year\"], 5))"
   ]
  },
  {
   "cell_type": "code",
   "execution_count": null,
   "metadata": {},
   "outputs": [],
   "source": [
    "sf = l3_fields_sf[\"Paper ID\",\"Year\", \"Authors Number\",\"Citations After 5 Years\", \"L3 Field ID\" ]\n",
    "g = sf.groupby(\"L3 Field ID\", { \"Papers Number\": agg.COUNT_DISTINCT(\"Paper ID\"),\n",
    "                                \"Average Author Number\": agg.AVG(\"Authors Number\"),\n",
    "                               \"Citations After 5-years List\": agg.CONCAT(\"Citations After 5 Years\"),\n",
    "                               \"MAX Citations After 5-years\": agg.MAX(\"Citations After 5 Years\")\n",
    "                               \n",
    "                              })\n",
    "g = g[g[\"Papers Number\"] >= 100] # selecting only L3 fields with at least 100 cited papers in 2009\n",
    "g[\"Median Citations After 5-years\"] = g[\"Citations After 5-years List\"].apply(lambda l: round(np.median(l),2))\n",
    "h = tc.load_sframe(FIELDS_OF_STUDY_SFRAME)\n",
    "g = g.join(h, on={'L3 Field ID': 'Field of study ID'})\n",
    "h2 = tc.load_sframe(FIELDS_OF_STUDY_HIERARCHY_SFRAME)\n",
    "h2 = h2[h2['Child field of study level'] == \"L3\"]\n",
    "h2 = h2[h2['Parent field of study level'] == \"L0\"]\n",
    "h2 = h2[h2['Confidence'] >= 0.95]\n",
    "g = g.join(h2, on={'L3 Field ID': 'Child field of study ID'})\n",
    "g = g.join(h, on={\"Parent field of study ID\": 'Field of study ID' })\n",
    "g = g.rename({\"Field of study name.1\": \"Parent Field of Study\"})\n",
    "g = g[\"Parent Field of Study\", \"Field of study name\", \"Median Citations After 5-years\", \"MAX Citations After 5-years\", \"Papers Number\", \"Average Author Number\" ]\n",
    "g[\"MAX Citations After 5-years\"] = g[\"MAX Citations After 5-years\"].apply(lambda i: int(i))\n",
    "g[\"Average Author Number\"] = g[\"Average Author Number\"].apply(lambda i: round(i,2))\n",
    "g = g.sort([\"Parent Field of Study\", \"Median Citations After 5-years\"])"
   ]
  },
  {
   "cell_type": "code",
   "execution_count": null,
   "metadata": {},
   "outputs": [],
   "source": [
    "# Save to file\n",
    "#html = g.to_dataframe().to_html()\n",
    "#file(u'/mnt/data/fields_stat.html', 'wb').write(html.encode('utf8'))\n",
    "g"
   ]
  },
  {
   "cell_type": "code",
   "execution_count": null,
   "metadata": {},
   "outputs": [],
   "source": [
    "g.sort(\"Median Citations After 5-years\", ascending=True)"
   ]
  },
  {
   "cell_type": "code",
   "execution_count": null,
   "metadata": {},
   "outputs": [],
   "source": [
    "plt.subplots(figsize=(20,15))\n",
    "s = sns.boxplot(y=\"Parent Field of Study\", x=\"Median Citations After 5-years\", data=g.to_dataframe(), orient=\"h\")\n",
    "s.set(xlabel='L3 Subfields Median Citations After 5-Years')"
   ]
  },
  {
   "cell_type": "markdown",
   "metadata": {},
   "source": [
    "As in previous results, we can observe that the average/median number of citaitons have considerably increased over all the Biology subfields. However, as can be observed from the above resutls, different research domains have different average and median number of citations.\n",
    "\n",
    "Overall, in our analysis, we discovered that different domains had a wide range of properties that evolved differently over time."
   ]
  }
 ],
 "metadata": {
  "kernelspec": {
   "display_name": "Python 2",
   "language": "python",
   "name": "python2"
  },
  "language_info": {
   "codemirror_mode": {
    "name": "ipython",
    "version": 2
   },
   "file_extension": ".py",
   "mimetype": "text/x-python",
   "name": "python",
   "nbconvert_exporter": "python",
   "pygments_lexer": "ipython2",
   "version": "2.7.14"
  }
 },
 "nbformat": 4,
 "nbformat_minor": 4
}
